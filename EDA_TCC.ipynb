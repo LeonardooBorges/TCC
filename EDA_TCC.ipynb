{
 "cells": [
  {
   "cell_type": "markdown",
   "metadata": {},
   "source": [
    "# EDA of suicide cases in the state of São Paulo"
   ]
  },
  {
   "cell_type": "markdown",
   "metadata": {},
   "source": [
    "We're interested in doing an Exploratory Data Analysis of suicide in the state of São Paulo, in the year of 2017. \n",
    "\n",
    "So, we're using a dataset _DOSP2017.csv_ from DATASUS system."
   ]
  },
  {
   "cell_type": "markdown",
   "metadata": {},
   "source": [
    "* ## CID distribution in suicide cases"
   ]
  },
  {
   "cell_type": "code",
   "execution_count": 182,
   "metadata": {
    "pycharm": {
     "is_executing": false,
     "name": "#%%\n"
    }
   },
   "outputs": [],
   "source": [
    "import re\n",
    "import pandas as pd\n",
    "import matplotlib.pyplot as plt\n",
    "from collections import Counter\n",
    "from helper import categorical_summarized"
   ]
  },
  {
   "cell_type": "markdown",
   "metadata": {},
   "source": [
    "Loading CSV from file."
   ]
  },
  {
   "cell_type": "code",
   "execution_count": 183,
   "metadata": {
    "pycharm": {
     "is_executing": false,
     "name": "#%%\n"
    }
   },
   "outputs": [
    {
     "name": "stderr",
     "output_type": "stream",
     "text": [
      "C:\\Users\\marco\\Anaconda3\\lib\\site-packages\\IPython\\core\\interactiveshell.py:3058: DtypeWarning: Columns (68) have mixed types. Specify dtype option on import or set low_memory=False.\n",
      "  interactivity=interactivity, compiler=compiler, result=result)\n"
     ]
    }
   ],
   "source": [
    "df = pd.read_csv('DOSP2017.csv', sep=',')"
   ]
  },
  {
   "cell_type": "markdown",
   "metadata": {},
   "source": [
    "Selecting important columns."
   ]
  },
  {
   "cell_type": "code",
   "execution_count": 184,
   "metadata": {
    "pycharm": {
     "is_executing": false,
     "name": "#%%\n"
    }
   },
   "outputs": [],
   "source": [
    "df = df[[\"CONTADOR\", \"LINHAII\", \"CAUSABAS\", \"CODMUNRES\", \"CODMUNOCOR\", \"CIRCOBITO\"]]\n",
    "df[\"CAUSABAS\"] = df.CAUSABAS.astype('category')\n",
    "df[\"CODMUNRES\"] = df.CODMUNRES.astype('category')\n",
    "df[\"CODMUNOCOR\"] = df.CODMUNOCOR.astype('category')\n",
    "df[\"CIRCOBITO\"] = df.CIRCOBITO.astype('category')"
   ]
  },
  {
   "cell_type": "markdown",
   "metadata": {},
   "source": [
    "_head()_ returns the first five observations of the data set."
   ]
  },
  {
   "cell_type": "code",
   "execution_count": 185,
   "metadata": {
    "pycharm": {
     "is_executing": false,
     "name": "#%%\n"
    }
   },
   "outputs": [
    {
     "data": {
      "text/html": [
       "<div>\n",
       "<style scoped>\n",
       "    .dataframe tbody tr th:only-of-type {\n",
       "        vertical-align: middle;\n",
       "    }\n",
       "\n",
       "    .dataframe tbody tr th {\n",
       "        vertical-align: top;\n",
       "    }\n",
       "\n",
       "    .dataframe thead th {\n",
       "        text-align: right;\n",
       "    }\n",
       "</style>\n",
       "<table border=\"1\" class=\"dataframe\">\n",
       "  <thead>\n",
       "    <tr style=\"text-align: right;\">\n",
       "      <th></th>\n",
       "      <th>CONTADOR</th>\n",
       "      <th>LINHAII</th>\n",
       "      <th>CAUSABAS</th>\n",
       "      <th>CODMUNRES</th>\n",
       "      <th>CODMUNOCOR</th>\n",
       "      <th>CIRCOBITO</th>\n",
       "    </tr>\n",
       "  </thead>\n",
       "  <tbody>\n",
       "    <tr>\n",
       "      <td>0</td>\n",
       "      <td>1</td>\n",
       "      <td>NaN</td>\n",
       "      <td>C383</td>\n",
       "      <td>352230</td>\n",
       "      <td>352230</td>\n",
       "      <td>NaN</td>\n",
       "    </tr>\n",
       "    <tr>\n",
       "      <td>1</td>\n",
       "      <td>2</td>\n",
       "      <td>*I693*I678</td>\n",
       "      <td>C099</td>\n",
       "      <td>353870</td>\n",
       "      <td>353870</td>\n",
       "      <td>NaN</td>\n",
       "    </tr>\n",
       "    <tr>\n",
       "      <td>2</td>\n",
       "      <td>3</td>\n",
       "      <td>NaN</td>\n",
       "      <td>C710</td>\n",
       "      <td>351170</td>\n",
       "      <td>353870</td>\n",
       "      <td>NaN</td>\n",
       "    </tr>\n",
       "    <tr>\n",
       "      <td>3</td>\n",
       "      <td>4</td>\n",
       "      <td>NaN</td>\n",
       "      <td>R960</td>\n",
       "      <td>351030</td>\n",
       "      <td>351030</td>\n",
       "      <td>NaN</td>\n",
       "    </tr>\n",
       "    <tr>\n",
       "      <td>4</td>\n",
       "      <td>5</td>\n",
       "      <td>NaN</td>\n",
       "      <td>R960</td>\n",
       "      <td>351030</td>\n",
       "      <td>351030</td>\n",
       "      <td>NaN</td>\n",
       "    </tr>\n",
       "  </tbody>\n",
       "</table>\n",
       "</div>"
      ],
      "text/plain": [
       "   CONTADOR     LINHAII CAUSABAS CODMUNRES CODMUNOCOR CIRCOBITO\n",
       "0         1         NaN     C383    352230     352230       NaN\n",
       "1         2  *I693*I678     C099    353870     353870       NaN\n",
       "2         3         NaN     C710    351170     353870       NaN\n",
       "3         4         NaN     R960    351030     351030       NaN\n",
       "4         5         NaN     R960    351030     351030       NaN"
      ]
     },
     "execution_count": 185,
     "metadata": {},
     "output_type": "execute_result"
    }
   ],
   "source": [
    "df.head()"
   ]
  },
  {
   "cell_type": "markdown",
   "metadata": {},
   "source": [
    "_.info_ shows metadata of each column."
   ]
  },
  {
   "cell_type": "code",
   "execution_count": 186,
   "metadata": {},
   "outputs": [
    {
     "name": "stdout",
     "output_type": "stream",
     "text": [
      "<class 'pandas.core.frame.DataFrame'>\n",
      "RangeIndex: 294753 entries, 0 to 294752\n",
      "Data columns (total 6 columns):\n",
      "CONTADOR      294753 non-null int64\n",
      "LINHAII       124536 non-null object\n",
      "CAUSABAS      294753 non-null category\n",
      "CODMUNRES     294753 non-null category\n",
      "CODMUNOCOR    294753 non-null category\n",
      "CIRCOBITO     22113 non-null category\n",
      "dtypes: category(4), int64(1), object(1)\n",
      "memory usage: 6.7+ MB\n"
     ]
    }
   ],
   "source": [
    "df.info()"
   ]
  },
  {
   "cell_type": "markdown",
   "metadata": {
    "pycharm": {
     "is_executing": false,
     "name": "#%% md\n"
    }
   },
   "source": [
    "_.shape_ shows the total number of rows and columns in the data set."
   ]
  },
  {
   "cell_type": "code",
   "execution_count": 187,
   "metadata": {
    "pycharm": {
     "is_executing": false,
     "name": "#%%\n"
    }
   },
   "outputs": [
    {
     "data": {
      "text/plain": [
       "(294753, 6)"
      ]
     },
     "execution_count": 187,
     "metadata": {},
     "output_type": "execute_result"
    }
   ],
   "source": [
    "df.shape"
   ]
  },
  {
   "cell_type": "markdown",
   "metadata": {},
   "source": [
    "The chosen subset of columns are all **categorical variables**, even if there are integer values, they're all codes related to categories."
   ]
  },
  {
   "cell_type": "markdown",
   "metadata": {},
   "source": [
    "Looking at the each column count and the total count (294753 rows), we see that the columns LINHAII and CIRCOBITO have NULL values."
   ]
  },
  {
   "cell_type": "markdown",
   "metadata": {
    "pycharm": {
     "is_executing": false,
     "name": "#%% md\n"
    }
   },
   "source": [
    "_describe()_ returns the count, quantity of unique values, the value that occurs the most and its frequency for each categorical column."
   ]
  },
  {
   "cell_type": "code",
   "execution_count": 188,
   "metadata": {
    "pycharm": {
     "is_executing": false,
     "name": "#%%\n"
    }
   },
   "outputs": [
    {
     "data": {
      "text/html": [
       "<div>\n",
       "<style scoped>\n",
       "    .dataframe tbody tr th:only-of-type {\n",
       "        vertical-align: middle;\n",
       "    }\n",
       "\n",
       "    .dataframe tbody tr th {\n",
       "        vertical-align: top;\n",
       "    }\n",
       "\n",
       "    .dataframe thead th {\n",
       "        text-align: right;\n",
       "    }\n",
       "</style>\n",
       "<table border=\"1\" class=\"dataframe\">\n",
       "  <thead>\n",
       "    <tr style=\"text-align: right;\">\n",
       "      <th></th>\n",
       "      <th>LINHAII</th>\n",
       "      <th>CAUSABAS</th>\n",
       "      <th>CODMUNRES</th>\n",
       "      <th>CODMUNOCOR</th>\n",
       "      <th>CIRCOBITO</th>\n",
       "    </tr>\n",
       "  </thead>\n",
       "  <tbody>\n",
       "    <tr>\n",
       "      <td>count</td>\n",
       "      <td>124536</td>\n",
       "      <td>294753</td>\n",
       "      <td>294753</td>\n",
       "      <td>294753</td>\n",
       "      <td>22113.0</td>\n",
       "    </tr>\n",
       "    <tr>\n",
       "      <td>unique</td>\n",
       "      <td>22115</td>\n",
       "      <td>3583</td>\n",
       "      <td>646</td>\n",
       "      <td>1113</td>\n",
       "      <td>5.0</td>\n",
       "    </tr>\n",
       "    <tr>\n",
       "      <td>top</td>\n",
       "      <td>*I10X</td>\n",
       "      <td>I219</td>\n",
       "      <td>355030</td>\n",
       "      <td>355030</td>\n",
       "      <td>1.0</td>\n",
       "    </tr>\n",
       "    <tr>\n",
       "      <td>freq</td>\n",
       "      <td>8686</td>\n",
       "      <td>22794</td>\n",
       "      <td>76271</td>\n",
       "      <td>84451</td>\n",
       "      <td>10210.0</td>\n",
       "    </tr>\n",
       "  </tbody>\n",
       "</table>\n",
       "</div>"
      ],
      "text/plain": [
       "       LINHAII CAUSABAS  CODMUNRES  CODMUNOCOR  CIRCOBITO\n",
       "count   124536   294753     294753      294753    22113.0\n",
       "unique   22115     3583        646        1113        5.0\n",
       "top      *I10X     I219     355030      355030        1.0\n",
       "freq      8686    22794      76271       84451    10210.0"
      ]
     },
     "execution_count": 188,
     "metadata": {},
     "output_type": "execute_result"
    }
   ],
   "source": [
    "df[[\"LINHAII\", \"CAUSABAS\", \"CODMUNRES\", \"CODMUNOCOR\", \"CIRCOBITO\"]].describe()"
   ]
  },
  {
   "cell_type": "markdown",
   "metadata": {},
   "source": [
    "We see that the the greatest part of deaths is associated with CAUSABAS=I219, which corresponds to death by heart attack.\n",
    "We're actually more interested in the CID codes related to suicide."
   ]
  },
  {
   "cell_type": "markdown",
   "metadata": {},
   "source": [
    "Let's get the rows where CAUSABAS has cause code between \"X600\" and \"X849\", and see what we can get with _describe()_."
   ]
  },
  {
   "cell_type": "code",
   "execution_count": 181,
   "metadata": {},
   "outputs": [
    {
     "data": {
      "text/html": [
       "<div>\n",
       "<style scoped>\n",
       "    .dataframe tbody tr th:only-of-type {\n",
       "        vertical-align: middle;\n",
       "    }\n",
       "\n",
       "    .dataframe tbody tr th {\n",
       "        vertical-align: top;\n",
       "    }\n",
       "\n",
       "    .dataframe thead th {\n",
       "        text-align: right;\n",
       "    }\n",
       "</style>\n",
       "<table border=\"1\" class=\"dataframe\">\n",
       "  <thead>\n",
       "    <tr style=\"text-align: right;\">\n",
       "      <th></th>\n",
       "      <th>LINHAII</th>\n",
       "      <th>CAUSABAS</th>\n",
       "      <th>CODMUNRES</th>\n",
       "      <th>CODMUNOCOR</th>\n",
       "      <th>CIRCOBITO</th>\n",
       "    </tr>\n",
       "  </thead>\n",
       "  <tbody>\n",
       "    <tr>\n",
       "      <td>count</td>\n",
       "      <td>322</td>\n",
       "      <td>2306</td>\n",
       "      <td>2306</td>\n",
       "      <td>2306</td>\n",
       "      <td>2296.0</td>\n",
       "    </tr>\n",
       "    <tr>\n",
       "      <td>unique</td>\n",
       "      <td>124</td>\n",
       "      <td>95</td>\n",
       "      <td>386</td>\n",
       "      <td>369</td>\n",
       "      <td>4.0</td>\n",
       "    </tr>\n",
       "    <tr>\n",
       "      <td>top</td>\n",
       "      <td>*T71X</td>\n",
       "      <td>X700</td>\n",
       "      <td>355030</td>\n",
       "      <td>355030</td>\n",
       "      <td>2.0</td>\n",
       "    </tr>\n",
       "    <tr>\n",
       "      <td>freq</td>\n",
       "      <td>90</td>\n",
       "      <td>1087</td>\n",
       "      <td>431</td>\n",
       "      <td>435</td>\n",
       "      <td>2009.0</td>\n",
       "    </tr>\n",
       "  </tbody>\n",
       "</table>\n",
       "</div>"
      ],
      "text/plain": [
       "       LINHAII CAUSABAS  CODMUNRES  CODMUNOCOR  CIRCOBITO\n",
       "count      322     2306       2306        2306     2296.0\n",
       "unique     124       95        386         369        4.0\n",
       "top      *T71X     X700     355030      355030        2.0\n",
       "freq        90     1087        431         435     2009.0"
      ]
     },
     "execution_count": 181,
     "metadata": {},
     "output_type": "execute_result"
    }
   ],
   "source": [
    "df_causabas = df.loc[(df[\"CAUSABAS\"].notnull()) & (df[\"CAUSABAS\"].astype(str) >= \"X600\") & (df[\"CAUSABAS\"].astype(str) <= \"X849\")]\n",
    "df_causabas[[\"LINHAII\", \"CAUSABAS\", \"CODMUNRES\", \"CODMUNOCOR\", \"CIRCOBITO\"]].describe()"
   ]
  },
  {
   "cell_type": "markdown",
   "metadata": {},
   "source": [
    "Among the self inflicted cases, we see the following:\n",
    "\n",
    "* The most important part of the cases has CAUSABAS=\"X700\", which corresponds to auto-inflicted death by hanging and choking.\n",
    "* The city where the death occured and where the people lived is São Paulo city.\n",
    "* The main component of deaths was categorized as Suicide (CIRCOBITO=2.0). The other components are composed mainly by Accidental deaths (CIRCOBITO=1.0) or Ignored classification (CIRCOBITO=9.0)."
   ]
  },
  {
   "cell_type": "markdown",
   "metadata": {},
   "source": [
    "We use _categorical_summarized()_ to have a quick summary of a given column of categorical data. Let's use it to have a glimpse of CIRCOBITO in the _df_causabas_."
   ]
  },
  {
   "cell_type": "code",
   "execution_count": 74,
   "metadata": {
    "pycharm": {
     "is_executing": false,
     "name": "#%%\n"
    }
   },
   "outputs": [
    {
     "name": "stdout",
     "output_type": "stream",
     "text": [
      "count     2296.0\n",
      "unique       4.0\n",
      "top          2.0\n",
      "freq      2009.0\n",
      "Name: CIRCOBITO, dtype: float64\n",
      "mode:  0    2.0\n",
      "Name: CIRCOBITO, dtype: category\n",
      "Categories (5, float64): [1.0, 2.0, 3.0, 4.0, 9.0]\n",
      "================================================================================\n",
      "2.0    2009\n",
      "9.0     256\n",
      "1.0      30\n",
      "4.0       1\n",
      "3.0       0\n",
      "Name: CIRCOBITO, dtype: int64\n"
     ]
    },
    {
     "data": {
      "image/png": "[encoded data removed]",
      "text/plain": [
       "<Figure size 432x288 with 1 Axes>"
      ]
     },
     "metadata": {
      "needs_background": "light"
     },
     "output_type": "display_data"
    }
   ],
   "source": [
    "c_palette = ['tab:blue', 'tab:orange']\n",
    "categorical_summarized(df_causabas, y=\"CIRCOBITO\", palette=c_palette)"
   ]
  },
  {
   "cell_type": "markdown",
   "metadata": {
    "pycharm": {
     "is_executing": false,
     "name": "#%% md\n"
    }
   },
   "source": [
    "Filtering CAUSABAS != NULL, CAUSABAS = X60-X84, CIRCOBITO = 2 or 9 (no Accidental suicides)."
   ]
  },
  {
   "cell_type": "code",
   "execution_count": 161,
   "metadata": {
    "pycharm": {
     "is_executing": false,
     "name": "#%%\n"
    }
   },
   "outputs": [
    {
     "data": {
      "text/plain": [
       "(2265, 6)"
      ]
     },
     "execution_count": 161,
     "metadata": {},
     "output_type": "execute_result"
    }
   ],
   "source": [
    "df2 = df_causabas[((df_causabas.CIRCOBITO==2.0) == True) | ((df_causabas.CIRCOBITO==9.0) == True)]"
   ]
  },
  {
   "cell_type": "markdown",
   "metadata": {},
   "source": [
    "Now that we filtered the useful data for suicide, let's analyse the quantity of each classification in LINHAII, which are the pre-existing conditions of the patient before commiting suicide."
   ]
  },
  {
   "cell_type": "markdown",
   "metadata": {
    "pycharm": {
     "is_executing": false,
     "name": "#%% md\n"
    }
   },
   "source": [
    "Creating CID array:"
   ]
  },
  {
   "cell_type": "code",
   "execution_count": 76,
   "metadata": {
    "pycharm": {
     "is_executing": false,
     "name": "#%%\n"
    }
   },
   "outputs": [],
   "source": [
    "cid = []\n",
    "for index, row in df2.iterrows():\n",
    "    if str(row[\"LINHAII\"]) != \"nan\":\n",
    "        causa2 = str(row[\"LINHAII\"])\n",
    "        x = causa2.split(\"*\")\n",
    "        x.pop(0)\n",
    "        for causa in x:\n",
    "            if re.match('A|B', causa):\n",
    "                cid.append(\"A00-B99: Algumas doenças infecciosas e parasitárias\")\n",
    "            if re.match('C|D[0-3]|D4[0-8]', causa):\n",
    "                cid.append(\"C00-D48: Neoplasmas (tumores)\")\n",
    "            if re.match('D[5-9]', causa):\n",
    "                cid.append(\"D50-D89: Doenças do sangue e dos órgãos hematopoéticos e alguns transtornos imunitários\")\n",
    "            if re.match('E', causa):\n",
    "                cid.append(\"E00-E90: Doenças endócrinas, nutricionais e metabólicas\")\n",
    "            if re.match('F', causa):\n",
    "                cid.append(\"F00-F99: Transtornos mentais e comportamentais\")\n",
    "            if re.match('G', causa):\n",
    "                cid.append(\"G00-G99: Doenças do sistema nervoso\")\n",
    "            if re.match('H[0-5]', causa):\n",
    "                cid.append(\"H00-H59: Doenças do olho e anexos\")\n",
    "            if re.match('H[6-9]', causa):\n",
    "                cid.append(\"H60-H95: Doenças do ouvido e da apófise mastoide\")\n",
    "            if re.match('I', causa):\n",
    "                cid.append(\"I00-I99: Doenças do aparelho circulatório\")\n",
    "            if re.match('J', causa):\n",
    "                cid.append(\"J00-J99: Doenças do aparelho respiratório\")\n",
    "            if re.match('K', causa):\n",
    "                cid.append(\"K00-K93: Doenças do aparelho digestivo\")\n",
    "            if re.match('L', causa):\n",
    "                cid.append(\"L00-L99: Doenças da pele e do tecido subcutâneo\")\n",
    "            if re.match('M', causa):\n",
    "                cid.append(\"M00-M99: Doenças do sistema osteomuscular e do tecido conjuntivo\")\n",
    "            if re.match('N', causa):\n",
    "                cid.append(\"N00-N99: Doenças do aparelho geniturinário\")\n",
    "            if re.match('O', causa):\n",
    "                cid.append(\"O00-O99: Gravidez, parto e puerpério\")\n",
    "            if re.match('P', causa):\n",
    "                cid.append(\"P00-P96: Algumas afecções originadas no período perinatal\")\n",
    "            if re.match('Q', causa):\n",
    "                cid.append(\"Q00-Q99: Malformações congênitas, deformidades e anomalias cromossômicas\")\n",
    "            if re.match('R', causa):\n",
    "                cid.append(\"R00-R99: Sintomas, sinais e achados anormais de exames clínicos e de laboratório, não classificados em outra parte\")\n",
    "            if re.match('S|T', causa):\n",
    "                cid.append(\"S00-T98: Lesões, envenenamentos e algumas outras consequências de causas externas\")\n",
    "            if re.match('[V-Y]', causa):\n",
    "                cid.append(\"V01-Y98: Causas externas de morbidade e de mortalidade\")\n",
    "            if re.match('Z', causa):\n",
    "                cid.append(\"Z00-Z99: Fatores que influenciam o estado de saúde e o contato com os serviços de saúde\")\n",
    "            if re.match('U', causa):\n",
    "                cid.append(\"U00-U99: Códigos para propósitos especiais\")"
   ]
  },
  {
   "cell_type": "markdown",
   "metadata": {
    "pycharm": {
     "is_executing": false,
     "name": "#%% md\n"
    }
   },
   "source": [
    "Plotting result"
   ]
  },
  {
   "cell_type": "code",
   "execution_count": 82,
   "metadata": {
    "pycharm": {
     "is_executing": false,
     "name": "#%%\n"
    }
   },
   "outputs": [
    {
     "data": {
      "image/png": "[encoded data removed]",
      "text/plain": [
       "<Figure size 432x288 with 1 Axes>"
      ]
     },
     "metadata": {
      "needs_background": "light"
     },
     "output_type": "display_data"
    }
   ],
   "source": [
    "w = Counter(cid)\n",
    "plt.xticks(rotation='vertical')\n",
    "plt.bar(w.keys(), w.values())\n",
    "plt.title(\"CID da LINHA II em casos de suicídio\", loc=\"center\", pad=10.0)\n",
    "plt.ylabel(\"Número de ocorrências\")\n",
    "plt.xlabel(\"CID\")\n",
    "plt.savefig('suicide_occurences_by_linhaii_cid.png', bbox_inches = 'tight')"
   ]
  },
  {
   "cell_type": "markdown",
   "metadata": {},
   "source": [
    "* ## CID distributions among São Paulo's cities"
   ]
  },
  {
   "cell_type": "markdown",
   "metadata": {},
   "source": [
    "Now, let's evaluate the distribution of this categories for each city in the state of São Paulo:"
   ]
  },
  {
   "cell_type": "code",
   "execution_count": 106,
   "metadata": {},
   "outputs": [],
   "source": [
    "df_municipalities = pd.read_csv('CADMUN.csv')"
   ]
  },
  {
   "cell_type": "code",
   "execution_count": 107,
   "metadata": {},
   "outputs": [
    {
     "data": {
      "text/html": [
       "<div>\n",
       "<style scoped>\n",
       "    .dataframe tbody tr th:only-of-type {\n",
       "        vertical-align: middle;\n",
       "    }\n",
       "\n",
       "    .dataframe tbody tr th {\n",
       "        vertical-align: top;\n",
       "    }\n",
       "\n",
       "    .dataframe thead th {\n",
       "        text-align: right;\n",
       "    }\n",
       "</style>\n",
       "<table border=\"1\" class=\"dataframe\">\n",
       "  <thead>\n",
       "    <tr style=\"text-align: right;\">\n",
       "      <th></th>\n",
       "      <th>MUNCOD</th>\n",
       "      <th>MUNCODDV</th>\n",
       "      <th>SITUACAO</th>\n",
       "      <th>MUNSINP</th>\n",
       "      <th>MUNSIAFI</th>\n",
       "      <th>MUNNOME</th>\n",
       "      <th>MUNNOMEX</th>\n",
       "      <th>OBSERV</th>\n",
       "      <th>MUNSINON</th>\n",
       "      <th>MUNSINONDV</th>\n",
       "      <th>...</th>\n",
       "      <th>CSAUDCOD</th>\n",
       "      <th>RMETRCOD</th>\n",
       "      <th>AGLCOD</th>\n",
       "      <th>ANOINST</th>\n",
       "      <th>ANOEXT</th>\n",
       "      <th>SUCESSOR</th>\n",
       "      <th>LATITUDE</th>\n",
       "      <th>LONGITUDE</th>\n",
       "      <th>ALTITUDE</th>\n",
       "      <th>AREA</th>\n",
       "    </tr>\n",
       "  </thead>\n",
       "  <tbody>\n",
       "    <tr>\n",
       "      <td>0</td>\n",
       "      <td>0</td>\n",
       "      <td>0</td>\n",
       "      <td>IGNOR</td>\n",
       "      <td>0.0</td>\n",
       "      <td>NaN</td>\n",
       "      <td>Ignorado ou exterior</td>\n",
       "      <td>IGNORADO OU EXTERIOR</td>\n",
       "      <td>Ignorado</td>\n",
       "      <td>,      ,000001-009999</td>\n",
       "      <td>,       ,0000001-0099999</td>\n",
       "      <td>...</td>\n",
       "      <td>0</td>\n",
       "      <td>0</td>\n",
       "      <td>0</td>\n",
       "      <td>NaN</td>\n",
       "      <td>NaN</td>\n",
       "      <td>NaN</td>\n",
       "      <td>0.000</td>\n",
       "      <td>0.000</td>\n",
       "      <td>0.0</td>\n",
       "      <td>0.000</td>\n",
       "    </tr>\n",
       "    <tr>\n",
       "      <td>1</td>\n",
       "      <td>110000</td>\n",
       "      <td>1100000</td>\n",
       "      <td>IGNOR</td>\n",
       "      <td>26000.0</td>\n",
       "      <td>NaN</td>\n",
       "      <td>Município ignorado - RO</td>\n",
       "      <td>MUNICIPIO IGNORADO - RO</td>\n",
       "      <td>NaN</td>\n",
       "      <td>,119999</td>\n",
       "      <td>,1199999</td>\n",
       "      <td>...</td>\n",
       "      <td>11000</td>\n",
       "      <td>1100</td>\n",
       "      <td>1100</td>\n",
       "      <td>NaN</td>\n",
       "      <td>NaN</td>\n",
       "      <td>NaN</td>\n",
       "      <td>0.000</td>\n",
       "      <td>0.000</td>\n",
       "      <td>0.0</td>\n",
       "      <td>0.000</td>\n",
       "    </tr>\n",
       "    <tr>\n",
       "      <td>2</td>\n",
       "      <td>110001</td>\n",
       "      <td>1100015</td>\n",
       "      <td>ATIVO</td>\n",
       "      <td>26016.0</td>\n",
       "      <td>33.0</td>\n",
       "      <td>Alta Floresta D'Oeste</td>\n",
       "      <td>ALTA FLORESTA D'OESTE</td>\n",
       "      <td>NaN</td>\n",
       "      <td>NaN</td>\n",
       "      <td>NaN</td>\n",
       "      <td>...</td>\n",
       "      <td>11900</td>\n",
       "      <td>1190</td>\n",
       "      <td>1190</td>\n",
       "      <td>1986.0</td>\n",
       "      <td>NaN</td>\n",
       "      <td>NaN</td>\n",
       "      <td>-11.929</td>\n",
       "      <td>-61.996</td>\n",
       "      <td>350.0</td>\n",
       "      <td>7066.702</td>\n",
       "    </tr>\n",
       "    <tr>\n",
       "      <td>3</td>\n",
       "      <td>110002</td>\n",
       "      <td>1100023</td>\n",
       "      <td>ATIVO</td>\n",
       "      <td>26004.0</td>\n",
       "      <td>7.0</td>\n",
       "      <td>Ariquemes</td>\n",
       "      <td>ARIQUEMES</td>\n",
       "      <td>NaN</td>\n",
       "      <td>NaN</td>\n",
       "      <td>NaN</td>\n",
       "      <td>...</td>\n",
       "      <td>11900</td>\n",
       "      <td>1190</td>\n",
       "      <td>1190</td>\n",
       "      <td>1977.0</td>\n",
       "      <td>NaN</td>\n",
       "      <td>NaN</td>\n",
       "      <td>-9.913</td>\n",
       "      <td>-63.041</td>\n",
       "      <td>142.0</td>\n",
       "      <td>4426.558</td>\n",
       "    </tr>\n",
       "    <tr>\n",
       "      <td>4</td>\n",
       "      <td>110003</td>\n",
       "      <td>1100031</td>\n",
       "      <td>ATIVO</td>\n",
       "      <td>26020.0</td>\n",
       "      <td>37.0</td>\n",
       "      <td>Cabixi</td>\n",
       "      <td>CABIXI</td>\n",
       "      <td>NaN</td>\n",
       "      <td>NaN</td>\n",
       "      <td>NaN</td>\n",
       "      <td>...</td>\n",
       "      <td>11900</td>\n",
       "      <td>1190</td>\n",
       "      <td>1190</td>\n",
       "      <td>1989.0</td>\n",
       "      <td>NaN</td>\n",
       "      <td>NaN</td>\n",
       "      <td>-13.492</td>\n",
       "      <td>-60.545</td>\n",
       "      <td>230.0</td>\n",
       "      <td>1314.355</td>\n",
       "    </tr>\n",
       "  </tbody>\n",
       "</table>\n",
       "<p>5 rows × 28 columns</p>\n",
       "</div>"
      ],
      "text/plain": [
       "   MUNCOD  MUNCODDV SITUACAO  MUNSINP  MUNSIAFI                  MUNNOME  \\\n",
       "0       0         0    IGNOR      0.0       NaN     Ignorado ou exterior   \n",
       "1  110000   1100000    IGNOR  26000.0       NaN  Município ignorado - RO   \n",
       "2  110001   1100015    ATIVO  26016.0      33.0    Alta Floresta D'Oeste   \n",
       "3  110002   1100023    ATIVO  26004.0       7.0                Ariquemes   \n",
       "4  110003   1100031    ATIVO  26020.0      37.0                   Cabixi   \n",
       "\n",
       "                  MUNNOMEX    OBSERV               MUNSINON  \\\n",
       "0     IGNORADO OU EXTERIOR  Ignorado  ,      ,000001-009999   \n",
       "1  MUNICIPIO IGNORADO - RO       NaN                ,119999   \n",
       "2    ALTA FLORESTA D'OESTE       NaN                    NaN   \n",
       "3                ARIQUEMES       NaN                    NaN   \n",
       "4                   CABIXI       NaN                    NaN   \n",
       "\n",
       "                 MUNSINONDV  ... CSAUDCOD RMETRCOD AGLCOD  ANOINST  ANOEXT  \\\n",
       "0  ,       ,0000001-0099999  ...        0        0      0      NaN     NaN   \n",
       "1                  ,1199999  ...    11000     1100   1100      NaN     NaN   \n",
       "2                       NaN  ...    11900     1190   1190   1986.0     NaN   \n",
       "3                       NaN  ...    11900     1190   1190   1977.0     NaN   \n",
       "4                       NaN  ...    11900     1190   1190   1989.0     NaN   \n",
       "\n",
       "   SUCESSOR  LATITUDE  LONGITUDE  ALTITUDE      AREA  \n",
       "0       NaN     0.000      0.000       0.0     0.000  \n",
       "1       NaN     0.000      0.000       0.0     0.000  \n",
       "2       NaN   -11.929    -61.996     350.0  7066.702  \n",
       "3       NaN    -9.913    -63.041     142.0  4426.558  \n",
       "4       NaN   -13.492    -60.545     230.0  1314.355  \n",
       "\n",
       "[5 rows x 28 columns]"
      ]
     },
     "execution_count": 107,
     "metadata": {},
     "output_type": "execute_result"
    }
   ],
   "source": [
    "df_municipalities.head()"
   ]
  },
  {
   "cell_type": "code",
   "execution_count": 180,
   "metadata": {},
   "outputs": [
    {
     "name": "stdout",
     "output_type": "stream",
     "text": [
      "<class 'pandas.core.frame.DataFrame'>\n",
      "Int64Index: 646 entries, 3285 to 3930\n",
      "Data columns (total 3 columns):\n",
      "MUNCOD     646 non-null int64\n",
      "MUNNOME    646 non-null object\n",
      "CAPITAL    646 non-null object\n",
      "dtypes: int64(1), object(2)\n",
      "memory usage: 20.2+ KB\n"
     ]
    }
   ],
   "source": [
    "df_municipalities.info()"
   ]
  },
  {
   "cell_type": "markdown",
   "metadata": {},
   "source": [
    "We filter the cities in the state of São Paulo (UFCODE=35)."
   ]
  },
  {
   "cell_type": "code",
   "execution_count": 120,
   "metadata": {},
   "outputs": [
    {
     "data": {
      "text/html": [
       "<div>\n",
       "<style scoped>\n",
       "    .dataframe tbody tr th:only-of-type {\n",
       "        vertical-align: middle;\n",
       "    }\n",
       "\n",
       "    .dataframe tbody tr th {\n",
       "        vertical-align: top;\n",
       "    }\n",
       "\n",
       "    .dataframe thead th {\n",
       "        text-align: right;\n",
       "    }\n",
       "</style>\n",
       "<table border=\"1\" class=\"dataframe\">\n",
       "  <thead>\n",
       "    <tr style=\"text-align: right;\">\n",
       "      <th></th>\n",
       "      <th>MUNCOD</th>\n",
       "      <th>MUNNOME</th>\n",
       "      <th>CAPITAL</th>\n",
       "    </tr>\n",
       "  </thead>\n",
       "  <tbody>\n",
       "    <tr>\n",
       "      <td>3285</td>\n",
       "      <td>350000</td>\n",
       "      <td>Município ignorado - SP</td>\n",
       "      <td>N</td>\n",
       "    </tr>\n",
       "    <tr>\n",
       "      <td>3286</td>\n",
       "      <td>350010</td>\n",
       "      <td>Adamantina</td>\n",
       "      <td>N</td>\n",
       "    </tr>\n",
       "    <tr>\n",
       "      <td>3287</td>\n",
       "      <td>350020</td>\n",
       "      <td>Adolfo</td>\n",
       "      <td>N</td>\n",
       "    </tr>\n",
       "    <tr>\n",
       "      <td>3288</td>\n",
       "      <td>350030</td>\n",
       "      <td>Aguaí</td>\n",
       "      <td>N</td>\n",
       "    </tr>\n",
       "    <tr>\n",
       "      <td>3289</td>\n",
       "      <td>350040</td>\n",
       "      <td>Águas da Prata</td>\n",
       "      <td>N</td>\n",
       "    </tr>\n",
       "  </tbody>\n",
       "</table>\n",
       "</div>"
      ],
      "text/plain": [
       "      MUNCOD                  MUNNOME CAPITAL\n",
       "3285  350000  Município ignorado - SP       N\n",
       "3286  350010               Adamantina       N\n",
       "3287  350020                   Adolfo       N\n",
       "3288  350030                    Aguaí       N\n",
       "3289  350040           Águas da Prata       N"
      ]
     },
     "execution_count": 120,
     "metadata": {},
     "output_type": "execute_result"
    }
   ],
   "source": [
    "df_municipalities = df_municipalities[[\"MUNCOD\", \"MUNNOME\", \"CAPITAL\", \"UFCOD\"]]\n",
    "df_municipalities = df_municipalities.loc[df_municipalities[\"UFCOD\"]==35]\n",
    "df_municipalities = df_municipalities.drop(columns=[\"UFCOD\"])\n",
    "df_municipalities.head()"
   ]
  },
  {
   "cell_type": "markdown",
   "metadata": {},
   "source": [
    "We'd like to reduce the _df2_, so that it relates each São Paulo's city to its most significant CID code in LINHAII. But the problem is that we have cities that have **many NaN values for LINHAII**."
   ]
  },
  {
   "cell_type": "markdown",
   "metadata": {},
   "source": [
    "Example for Campinas (350945):"
   ]
  },
  {
   "cell_type": "markdown",
   "metadata": {},
   "source": [
    "* Without NaNs"
   ]
  },
  {
   "cell_type": "code",
   "execution_count": 176,
   "metadata": {},
   "outputs": [
    {
     "data": {
      "text/plain": [
       "(3, 2)"
      ]
     },
     "execution_count": 176,
     "metadata": {},
     "output_type": "execute_result"
    }
   ],
   "source": [
    "df2_city = df2[[\"CODMUNOCOR\", \"LINHAII\"]]\n",
    "df2_city = df2_city.loc[(df2_city[\"CODMUNOCOR\"]==350950) & (df2_city[\"LINHAII\"].astype(str)!=\"nan\")]\n",
    "df2_city.shape"
   ]
  },
  {
   "cell_type": "markdown",
   "metadata": {},
   "source": [
    "* With NaNs"
   ]
  },
  {
   "cell_type": "code",
   "execution_count": 177,
   "metadata": {},
   "outputs": [
    {
     "data": {
      "text/plain": [
       "(67, 2)"
      ]
     },
     "execution_count": 177,
     "metadata": {},
     "output_type": "execute_result"
    }
   ],
   "source": [
    "df2_city = df2[[\"CODMUNOCOR\", \"LINHAII\"]]\n",
    "df2_city = df2_city.loc[(df2_city[\"CODMUNOCOR\"]==350950)]\n",
    "df2_city.shape"
   ]
  },
  {
   "cell_type": "markdown",
   "metadata": {},
   "source": [
    "That's because, in fact, we have few lines with some value for LINHAII among the ones that represent suicide (a difference of 314 lines):"
   ]
  },
  {
   "cell_type": "markdown",
   "metadata": {},
   "source": [
    "* Only NaNs"
   ]
  },
  {
   "cell_type": "code",
   "execution_count": 172,
   "metadata": {},
   "outputs": [
    {
     "data": {
      "text/plain": [
       "(1951, 2)"
      ]
     },
     "execution_count": 172,
     "metadata": {},
     "output_type": "execute_result"
    }
   ],
   "source": [
    "df2_city = df2[[\"CODMUNOCOR\", \"LINHAII\"]]\n",
    "df2_city = df2_city.loc[(df2_city[\"LINHAII\"].astype(str)==\"nan\")]\n",
    "df2_city.shape"
   ]
  },
  {
   "cell_type": "markdown",
   "metadata": {},
   "source": [
    "* All lines"
   ]
  },
  {
   "cell_type": "code",
   "execution_count": 173,
   "metadata": {},
   "outputs": [
    {
     "data": {
      "text/plain": [
       "(2265, 2)"
      ]
     },
     "execution_count": 173,
     "metadata": {},
     "output_type": "execute_result"
    }
   ],
   "source": [
    "df2_city = df2[[\"CODMUNOCOR\", \"LINHAII\"]]\n",
    "df2_city.shape"
   ]
  },
  {
   "cell_type": "markdown",
   "metadata": {},
   "source": [
    "This can be seen also in the plotting result for CID number of occurencies. The total of occurences sums up to approximately 400 registered classifications."
   ]
  },
  {
   "cell_type": "markdown",
   "metadata": {},
   "source": [
    "That's why we change our analysis of distribution to use the CAUSABAS because it **has no NULL values**."
   ]
  }
 ],
 "metadata": {
  "kernelspec": {
   "display_name": "Python 3",
   "language": "python",
   "name": "python3"
  },
  "language_info": {
   "codemirror_mode": {
    "name": "ipython",
    "version": 3
   },
   "file_extension": ".py",
   "mimetype": "text/x-python",
   "name": "python",
   "nbconvert_exporter": "python",
   "pygments_lexer": "ipython3",
   "version": "3.7.4"
  },
  "pycharm": {
   "stem_cell": {
    "cell_type": "raw",
    "metadata": {
     "collapsed": false
    },
    "source": []
   }
  }
 },
 "nbformat": 4,
 "nbformat_minor": 4
}
