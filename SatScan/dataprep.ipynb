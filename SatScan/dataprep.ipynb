{
 "cells": [
  {
   "cell_type": "markdown",
   "metadata": {},
   "source": [
    "Import libraries"
   ]
  },
  {
   "cell_type": "code",
   "execution_count": 16,
   "metadata": {},
   "outputs": [],
   "source": [
    "import pandas as pd\n",
    "root = \"../\""
   ]
  },
  {
   "cell_type": "markdown",
   "metadata": {},
   "source": [
    "Create casefile for each year"
   ]
  },
  {
   "cell_type": "code",
   "execution_count": 30,
   "metadata": {},
   "outputs": [],
   "source": [
    "years = [\"20\" + str(x).zfill(2) for x in range(8,19)]\n",
    "cadmun = pd.read_csv(root + \"CSV/Cadmun/CADMUN.csv\")\n",
    "for year in years:\n",
    "    df = pd.read_csv(root + \"CSV/TabNet/Suicides/suicide_\" + year + \".csv\", sep=\";\")\n",
    "    df = df[~df['Município'].str.contains(\"Município ignorado\")]\n",
    "    df[\"MUNCOD\"] = df['Município'].str.split(' ', expand=True)[0]\n",
    "    df = df[[\"MUNCOD\", \"Total\"]]\n",
    "    df = df[df[\"MUNCOD\"] != \"Total\"]\n",
    "    df.to_csv(root + \"CSV/SatScan/CaseFiles/casefile_\"  + year)"
   ]
  }
 ],
 "metadata": {
  "kernelspec": {
   "display_name": "Python 3",
   "language": "python",
   "name": "python3"
  },
  "language_info": {
   "codemirror_mode": {
    "name": "ipython",
    "version": 3
   },
   "file_extension": ".py",
   "mimetype": "text/x-python",
   "name": "python",
   "nbconvert_exporter": "python",
   "pygments_lexer": "ipython3",
   "version": "3.7.6"
  }
 },
 "nbformat": 4,
 "nbformat_minor": 4
}
