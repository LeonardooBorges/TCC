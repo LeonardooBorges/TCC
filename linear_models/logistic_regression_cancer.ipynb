{
 "cells": [
  {
   "cell_type": "markdown",
   "metadata": {},
   "source": [
    "# Negative Binomial Regression Modeling of Suicide Quantities vs. Cancer"
   ]
  },
  {
   "cell_type": "code",
   "execution_count": 1,
   "metadata": {},
   "outputs": [
    {
     "name": "stdout",
     "output_type": "stream",
     "text": [
      "Populating the interactive namespace from numpy and matplotlib\n"
     ]
    }
   ],
   "source": [
    "import pandas as pd\n",
    "import numpy as np\n",
    "\n",
    "pd.set_option('display.max_columns', 100)\n",
    "%matplotlib inline\n",
    "%pylab inline"
   ]
  },
  {
   "cell_type": "markdown",
   "metadata": {},
   "source": [
    "Import datasets:"
   ]
  },
  {
   "cell_type": "code",
   "execution_count": 2,
   "metadata": {},
   "outputs": [],
   "source": [
    "suicides = pd.read_csv('../Suicide/CSV/suicides_codmunres.csv')\n",
    "population = pd.read_csv('../util/POPULATION_2017.csv', index_col=0)\n",
    "municipalities = pd.read_csv('../util/CADMUN.csv')\n",
    "cancer = pd.read_csv('CANCERBR2017.csv', index_col=0)"
   ]
  },
  {
   "cell_type": "code",
   "execution_count": 3,
   "metadata": {},
   "outputs": [
    {
     "data": {
      "text/plain": [
       "((3149, 2), (5570, 2), (5652, 28), (5359, 2))"
      ]
     },
     "execution_count": 3,
     "metadata": {},
     "output_type": "execute_result"
    }
   ],
   "source": [
    "suicides.shape, population.shape, municipalities.shape, cancer.shape"
   ]
  },
  {
   "cell_type": "code",
   "execution_count": 4,
   "metadata": {},
   "outputs": [
    {
     "data": {
      "text/plain": [
       "0"
      ]
     },
     "execution_count": 4,
     "metadata": {},
     "output_type": "execute_result"
    }
   ],
   "source": [
    "len(suicides[suicides['SUICIDES'] == 0])"
   ]
  },
  {
   "cell_type": "markdown",
   "metadata": {},
   "source": [
    "Let's merge the files:"
   ]
  },
  {
   "cell_type": "code",
   "execution_count": 5,
   "metadata": {},
   "outputs": [
    {
     "data": {
      "text/plain": [
       "(5359, 32)"
      ]
     },
     "execution_count": 5,
     "metadata": {},
     "output_type": "execute_result"
    }
   ],
   "source": [
    "df = pd.merge(left=population, right=municipalities, left_on='MUNCOD', right_on='MUNCOD', how='left')\n",
    "df = pd.merge(left=df, right=cancer, left_on='MUNCOD', right_on='MUNCOD', how='right')\n",
    "df = pd.merge(left=df, right=suicides, left_on='MUNCOD', right_on='CODMUNRES', how='left')\n",
    "df.shape"
   ]
  },
  {
   "cell_type": "code",
   "execution_count": 6,
   "metadata": {},
   "outputs": [
    {
     "data": {
      "text/html": [
       "<div>\n",
       "<style scoped>\n",
       "    .dataframe tbody tr th:only-of-type {\n",
       "        vertical-align: middle;\n",
       "    }\n",
       "\n",
       "    .dataframe tbody tr th {\n",
       "        vertical-align: top;\n",
       "    }\n",
       "\n",
       "    .dataframe thead th {\n",
       "        text-align: right;\n",
       "    }\n",
       "</style>\n",
       "<table border=\"1\" class=\"dataframe\">\n",
       "  <thead>\n",
       "    <tr style=\"text-align: right;\">\n",
       "      <th></th>\n",
       "      <th>POPULATION</th>\n",
       "      <th>MUNCOD</th>\n",
       "      <th>MUNCODDV</th>\n",
       "      <th>SITUACAO</th>\n",
       "      <th>MUNSINP</th>\n",
       "      <th>MUNSIAFI</th>\n",
       "      <th>MUNNOME</th>\n",
       "      <th>MUNNOMEX</th>\n",
       "      <th>OBSERV</th>\n",
       "      <th>MUNSINON</th>\n",
       "      <th>MUNSINONDV</th>\n",
       "      <th>AMAZONIA</th>\n",
       "      <th>FRONTEIRA</th>\n",
       "      <th>CAPITAL</th>\n",
       "      <th>UFCOD</th>\n",
       "      <th>MESOCOD</th>\n",
       "      <th>MICROCOD</th>\n",
       "      <th>MSAUDCOD</th>\n",
       "      <th>RSAUDCOD</th>\n",
       "      <th>CSAUDCOD</th>\n",
       "      <th>RMETRCOD</th>\n",
       "      <th>AGLCOD</th>\n",
       "      <th>ANOINST</th>\n",
       "      <th>ANOEXT</th>\n",
       "      <th>SUCESSOR</th>\n",
       "      <th>LATITUDE</th>\n",
       "      <th>LONGITUDE</th>\n",
       "      <th>ALTITUDE</th>\n",
       "      <th>AREA</th>\n",
       "      <th>QUANTIDADE</th>\n",
       "      <th>CODMUNRES</th>\n",
       "      <th>SUICIDES</th>\n",
       "    </tr>\n",
       "  </thead>\n",
       "  <tbody>\n",
       "    <tr>\n",
       "      <td>0</td>\n",
       "      <td>25437.0</td>\n",
       "      <td>110001.0</td>\n",
       "      <td>1100015.0</td>\n",
       "      <td>ATIVO</td>\n",
       "      <td>26016.0</td>\n",
       "      <td>33.0</td>\n",
       "      <td>Alta Floresta D'Oeste</td>\n",
       "      <td>ALTA FLORESTA D'OESTE</td>\n",
       "      <td>NaN</td>\n",
       "      <td>NaN</td>\n",
       "      <td>NaN</td>\n",
       "      <td>S</td>\n",
       "      <td>S</td>\n",
       "      <td>N</td>\n",
       "      <td>11.0</td>\n",
       "      <td>1102.0</td>\n",
       "      <td>11006.0</td>\n",
       "      <td>1190.0</td>\n",
       "      <td>1102.0</td>\n",
       "      <td>11900.0</td>\n",
       "      <td>1190.0</td>\n",
       "      <td>1190.0</td>\n",
       "      <td>1986.0</td>\n",
       "      <td>NaN</td>\n",
       "      <td>NaN</td>\n",
       "      <td>-11.929</td>\n",
       "      <td>-61.996</td>\n",
       "      <td>350.0</td>\n",
       "      <td>7066.702</td>\n",
       "      <td>25</td>\n",
       "      <td>110001.0</td>\n",
       "      <td>3.0</td>\n",
       "    </tr>\n",
       "    <tr>\n",
       "      <td>1</td>\n",
       "      <td>107345.0</td>\n",
       "      <td>110002.0</td>\n",
       "      <td>1100023.0</td>\n",
       "      <td>ATIVO</td>\n",
       "      <td>26004.0</td>\n",
       "      <td>7.0</td>\n",
       "      <td>Ariquemes</td>\n",
       "      <td>ARIQUEMES</td>\n",
       "      <td>NaN</td>\n",
       "      <td>NaN</td>\n",
       "      <td>NaN</td>\n",
       "      <td>S</td>\n",
       "      <td>N</td>\n",
       "      <td>N</td>\n",
       "      <td>11.0</td>\n",
       "      <td>1102.0</td>\n",
       "      <td>11003.0</td>\n",
       "      <td>1190.0</td>\n",
       "      <td>1104.0</td>\n",
       "      <td>11900.0</td>\n",
       "      <td>1190.0</td>\n",
       "      <td>1190.0</td>\n",
       "      <td>1977.0</td>\n",
       "      <td>NaN</td>\n",
       "      <td>NaN</td>\n",
       "      <td>-9.913</td>\n",
       "      <td>-63.041</td>\n",
       "      <td>142.0</td>\n",
       "      <td>4426.558</td>\n",
       "      <td>66</td>\n",
       "      <td>110002.0</td>\n",
       "      <td>10.0</td>\n",
       "    </tr>\n",
       "    <tr>\n",
       "      <td>2</td>\n",
       "      <td>6224.0</td>\n",
       "      <td>110003.0</td>\n",
       "      <td>1100031.0</td>\n",
       "      <td>ATIVO</td>\n",
       "      <td>26020.0</td>\n",
       "      <td>37.0</td>\n",
       "      <td>Cabixi</td>\n",
       "      <td>CABIXI</td>\n",
       "      <td>NaN</td>\n",
       "      <td>NaN</td>\n",
       "      <td>NaN</td>\n",
       "      <td>S</td>\n",
       "      <td>S</td>\n",
       "      <td>N</td>\n",
       "      <td>11.0</td>\n",
       "      <td>1102.0</td>\n",
       "      <td>11008.0</td>\n",
       "      <td>1190.0</td>\n",
       "      <td>1103.0</td>\n",
       "      <td>11900.0</td>\n",
       "      <td>1190.0</td>\n",
       "      <td>1190.0</td>\n",
       "      <td>1989.0</td>\n",
       "      <td>NaN</td>\n",
       "      <td>NaN</td>\n",
       "      <td>-13.492</td>\n",
       "      <td>-60.545</td>\n",
       "      <td>230.0</td>\n",
       "      <td>1314.355</td>\n",
       "      <td>4</td>\n",
       "      <td>NaN</td>\n",
       "      <td>NaN</td>\n",
       "    </tr>\n",
       "    <tr>\n",
       "      <td>3</td>\n",
       "      <td>88507.0</td>\n",
       "      <td>110004.0</td>\n",
       "      <td>1100049.0</td>\n",
       "      <td>ATIVO</td>\n",
       "      <td>26007.0</td>\n",
       "      <td>9.0</td>\n",
       "      <td>Cacoal</td>\n",
       "      <td>CACOAL</td>\n",
       "      <td>NaN</td>\n",
       "      <td>NaN</td>\n",
       "      <td>NaN</td>\n",
       "      <td>S</td>\n",
       "      <td>N</td>\n",
       "      <td>N</td>\n",
       "      <td>11.0</td>\n",
       "      <td>1102.0</td>\n",
       "      <td>11006.0</td>\n",
       "      <td>1190.0</td>\n",
       "      <td>1102.0</td>\n",
       "      <td>11900.0</td>\n",
       "      <td>1190.0</td>\n",
       "      <td>1190.0</td>\n",
       "      <td>1977.0</td>\n",
       "      <td>NaN</td>\n",
       "      <td>NaN</td>\n",
       "      <td>-11.438</td>\n",
       "      <td>-61.448</td>\n",
       "      <td>200.0</td>\n",
       "      <td>3792.638</td>\n",
       "      <td>133</td>\n",
       "      <td>110004.0</td>\n",
       "      <td>5.0</td>\n",
       "    </tr>\n",
       "    <tr>\n",
       "      <td>4</td>\n",
       "      <td>17934.0</td>\n",
       "      <td>110005.0</td>\n",
       "      <td>1100056.0</td>\n",
       "      <td>ATIVO</td>\n",
       "      <td>26014.0</td>\n",
       "      <td>27.0</td>\n",
       "      <td>Cerejeiras</td>\n",
       "      <td>CEREJEIRAS</td>\n",
       "      <td>NaN</td>\n",
       "      <td>NaN</td>\n",
       "      <td>NaN</td>\n",
       "      <td>S</td>\n",
       "      <td>S</td>\n",
       "      <td>N</td>\n",
       "      <td>11.0</td>\n",
       "      <td>1102.0</td>\n",
       "      <td>11008.0</td>\n",
       "      <td>1190.0</td>\n",
       "      <td>1103.0</td>\n",
       "      <td>11900.0</td>\n",
       "      <td>1190.0</td>\n",
       "      <td>1190.0</td>\n",
       "      <td>1983.0</td>\n",
       "      <td>NaN</td>\n",
       "      <td>NaN</td>\n",
       "      <td>-13.189</td>\n",
       "      <td>-60.812</td>\n",
       "      <td>277.0</td>\n",
       "      <td>2783.305</td>\n",
       "      <td>15</td>\n",
       "      <td>110005.0</td>\n",
       "      <td>1.0</td>\n",
       "    </tr>\n",
       "  </tbody>\n",
       "</table>\n",
       "</div>"
      ],
      "text/plain": [
       "   POPULATION    MUNCOD   MUNCODDV SITUACAO  MUNSINP  MUNSIAFI  \\\n",
       "0     25437.0  110001.0  1100015.0    ATIVO  26016.0      33.0   \n",
       "1    107345.0  110002.0  1100023.0    ATIVO  26004.0       7.0   \n",
       "2      6224.0  110003.0  1100031.0    ATIVO  26020.0      37.0   \n",
       "3     88507.0  110004.0  1100049.0    ATIVO  26007.0       9.0   \n",
       "4     17934.0  110005.0  1100056.0    ATIVO  26014.0      27.0   \n",
       "\n",
       "                 MUNNOME               MUNNOMEX OBSERV MUNSINON MUNSINONDV  \\\n",
       "0  Alta Floresta D'Oeste  ALTA FLORESTA D'OESTE    NaN      NaN        NaN   \n",
       "1              Ariquemes              ARIQUEMES    NaN      NaN        NaN   \n",
       "2                 Cabixi                 CABIXI    NaN      NaN        NaN   \n",
       "3                 Cacoal                 CACOAL    NaN      NaN        NaN   \n",
       "4             Cerejeiras             CEREJEIRAS    NaN      NaN        NaN   \n",
       "\n",
       "  AMAZONIA FRONTEIRA CAPITAL  UFCOD  MESOCOD  MICROCOD  MSAUDCOD  RSAUDCOD  \\\n",
       "0        S         S       N   11.0   1102.0   11006.0    1190.0    1102.0   \n",
       "1        S         N       N   11.0   1102.0   11003.0    1190.0    1104.0   \n",
       "2        S         S       N   11.0   1102.0   11008.0    1190.0    1103.0   \n",
       "3        S         N       N   11.0   1102.0   11006.0    1190.0    1102.0   \n",
       "4        S         S       N   11.0   1102.0   11008.0    1190.0    1103.0   \n",
       "\n",
       "   CSAUDCOD  RMETRCOD  AGLCOD  ANOINST  ANOEXT  SUCESSOR  LATITUDE  LONGITUDE  \\\n",
       "0   11900.0    1190.0  1190.0   1986.0     NaN       NaN   -11.929    -61.996   \n",
       "1   11900.0    1190.0  1190.0   1977.0     NaN       NaN    -9.913    -63.041   \n",
       "2   11900.0    1190.0  1190.0   1989.0     NaN       NaN   -13.492    -60.545   \n",
       "3   11900.0    1190.0  1190.0   1977.0     NaN       NaN   -11.438    -61.448   \n",
       "4   11900.0    1190.0  1190.0   1983.0     NaN       NaN   -13.189    -60.812   \n",
       "\n",
       "   ALTITUDE      AREA  QUANTIDADE  CODMUNRES  SUICIDES  \n",
       "0     350.0  7066.702          25   110001.0       3.0  \n",
       "1     142.0  4426.558          66   110002.0      10.0  \n",
       "2     230.0  1314.355           4        NaN       NaN  \n",
       "3     200.0  3792.638         133   110004.0       5.0  \n",
       "4     277.0  2783.305          15   110005.0       1.0  "
      ]
     },
     "execution_count": 6,
     "metadata": {},
     "output_type": "execute_result"
    }
   ],
   "source": [
    "df.head()"
   ]
  },
  {
   "cell_type": "code",
   "execution_count": 7,
   "metadata": {},
   "outputs": [
    {
     "data": {
      "text/html": [
       "<div>\n",
       "<style scoped>\n",
       "    .dataframe tbody tr th:only-of-type {\n",
       "        vertical-align: middle;\n",
       "    }\n",
       "\n",
       "    .dataframe tbody tr th {\n",
       "        vertical-align: top;\n",
       "    }\n",
       "\n",
       "    .dataframe thead th {\n",
       "        text-align: right;\n",
       "    }\n",
       "</style>\n",
       "<table border=\"1\" class=\"dataframe\">\n",
       "  <thead>\n",
       "    <tr style=\"text-align: right;\">\n",
       "      <th></th>\n",
       "      <th>MUNCOD</th>\n",
       "      <th>POPULATION</th>\n",
       "      <th>CAPITAL</th>\n",
       "      <th>LATITUDE</th>\n",
       "      <th>LONGITUDE</th>\n",
       "      <th>ALTITUDE</th>\n",
       "      <th>AREA</th>\n",
       "      <th>CANCER_QTT</th>\n",
       "      <th>SUICIDES</th>\n",
       "    </tr>\n",
       "  </thead>\n",
       "  <tbody>\n",
       "    <tr>\n",
       "      <td>0</td>\n",
       "      <td>110001.0</td>\n",
       "      <td>25437.0</td>\n",
       "      <td>N</td>\n",
       "      <td>-11.929</td>\n",
       "      <td>-61.996</td>\n",
       "      <td>350.0</td>\n",
       "      <td>7066.702</td>\n",
       "      <td>25</td>\n",
       "      <td>3.0</td>\n",
       "    </tr>\n",
       "    <tr>\n",
       "      <td>1</td>\n",
       "      <td>110002.0</td>\n",
       "      <td>107345.0</td>\n",
       "      <td>N</td>\n",
       "      <td>-9.913</td>\n",
       "      <td>-63.041</td>\n",
       "      <td>142.0</td>\n",
       "      <td>4426.558</td>\n",
       "      <td>66</td>\n",
       "      <td>10.0</td>\n",
       "    </tr>\n",
       "    <tr>\n",
       "      <td>2</td>\n",
       "      <td>110003.0</td>\n",
       "      <td>6224.0</td>\n",
       "      <td>N</td>\n",
       "      <td>-13.492</td>\n",
       "      <td>-60.545</td>\n",
       "      <td>230.0</td>\n",
       "      <td>1314.355</td>\n",
       "      <td>4</td>\n",
       "      <td>NaN</td>\n",
       "    </tr>\n",
       "    <tr>\n",
       "      <td>3</td>\n",
       "      <td>110004.0</td>\n",
       "      <td>88507.0</td>\n",
       "      <td>N</td>\n",
       "      <td>-11.438</td>\n",
       "      <td>-61.448</td>\n",
       "      <td>200.0</td>\n",
       "      <td>3792.638</td>\n",
       "      <td>133</td>\n",
       "      <td>5.0</td>\n",
       "    </tr>\n",
       "    <tr>\n",
       "      <td>4</td>\n",
       "      <td>110005.0</td>\n",
       "      <td>17934.0</td>\n",
       "      <td>N</td>\n",
       "      <td>-13.189</td>\n",
       "      <td>-60.812</td>\n",
       "      <td>277.0</td>\n",
       "      <td>2783.305</td>\n",
       "      <td>15</td>\n",
       "      <td>1.0</td>\n",
       "    </tr>\n",
       "  </tbody>\n",
       "</table>\n",
       "</div>"
      ],
      "text/plain": [
       "     MUNCOD  POPULATION CAPITAL  LATITUDE  LONGITUDE  ALTITUDE      AREA  \\\n",
       "0  110001.0     25437.0       N   -11.929    -61.996     350.0  7066.702   \n",
       "1  110002.0    107345.0       N    -9.913    -63.041     142.0  4426.558   \n",
       "2  110003.0      6224.0       N   -13.492    -60.545     230.0  1314.355   \n",
       "3  110004.0     88507.0       N   -11.438    -61.448     200.0  3792.638   \n",
       "4  110005.0     17934.0       N   -13.189    -60.812     277.0  2783.305   \n",
       "\n",
       "   CANCER_QTT  SUICIDES  \n",
       "0          25       3.0  \n",
       "1          66      10.0  \n",
       "2           4       NaN  \n",
       "3         133       5.0  \n",
       "4          15       1.0  "
      ]
     },
     "execution_count": 7,
     "metadata": {},
     "output_type": "execute_result"
    }
   ],
   "source": [
    "df = df[['MUNCOD', 'POPULATION', 'CAPITAL', 'LATITUDE', 'LONGITUDE', 'ALTITUDE', 'AREA', 'QUANTIDADE', 'SUICIDES']]\n",
    "df = df.rename(columns={\"QUANTIDADE\": \"CANCER_QTT\"})\n",
    "df.head()"
   ]
  },
  {
   "cell_type": "code",
   "execution_count": 8,
   "metadata": {},
   "outputs": [
    {
     "data": {
      "text/plain": [
       "False    5354\n",
       "True        5\n",
       "Name: POPULATION, dtype: int64"
      ]
     },
     "execution_count": 8,
     "metadata": {},
     "output_type": "execute_result"
    }
   ],
   "source": [
    "(df['POPULATION'].isnull()).value_counts()"
   ]
  },
  {
   "cell_type": "code",
   "execution_count": 9,
   "metadata": {},
   "outputs": [
    {
     "data": {
      "text/plain": [
       "False    5354\n",
       "Name: POPULATION, dtype: int64"
      ]
     },
     "execution_count": 9,
     "metadata": {},
     "output_type": "execute_result"
    }
   ],
   "source": [
    "df = df[~df['POPULATION'].isnull()]\n",
    "(df['POPULATION'].isnull()).value_counts()"
   ]
  },
  {
   "cell_type": "markdown",
   "metadata": {},
   "source": [
    "As there's no municipality with 0 suicides, let's assume these ones have 0 suicides for the year of 2017."
   ]
  },
  {
   "cell_type": "code",
   "execution_count": 10,
   "metadata": {},
   "outputs": [],
   "source": [
    "df['MUNCOD'] = df['MUNCOD'].astype(np.int64)\n",
    "df['POPULATION'] = df['POPULATION'].astype(np.int64)\n",
    "df['SUICIDES'] = df['SUICIDES'].fillna(0).astype(np.int64)"
   ]
  },
  {
   "cell_type": "code",
   "execution_count": 11,
   "metadata": {
    "scrolled": true
   },
   "outputs": [
    {
     "data": {
      "text/html": [
       "<div>\n",
       "<style scoped>\n",
       "    .dataframe tbody tr th:only-of-type {\n",
       "        vertical-align: middle;\n",
       "    }\n",
       "\n",
       "    .dataframe tbody tr th {\n",
       "        vertical-align: top;\n",
       "    }\n",
       "\n",
       "    .dataframe thead th {\n",
       "        text-align: right;\n",
       "    }\n",
       "</style>\n",
       "<table border=\"1\" class=\"dataframe\">\n",
       "  <thead>\n",
       "    <tr style=\"text-align: right;\">\n",
       "      <th></th>\n",
       "      <th>MUNCOD</th>\n",
       "      <th>POPULATION</th>\n",
       "      <th>CAPITAL</th>\n",
       "      <th>LATITUDE</th>\n",
       "      <th>LONGITUDE</th>\n",
       "      <th>ALTITUDE</th>\n",
       "      <th>AREA</th>\n",
       "      <th>CANCER_QTT</th>\n",
       "      <th>SUICIDES</th>\n",
       "    </tr>\n",
       "  </thead>\n",
       "  <tbody>\n",
       "    <tr>\n",
       "      <td>0</td>\n",
       "      <td>110001</td>\n",
       "      <td>25437</td>\n",
       "      <td>N</td>\n",
       "      <td>-11.929</td>\n",
       "      <td>-61.996</td>\n",
       "      <td>350.0</td>\n",
       "      <td>7066.702</td>\n",
       "      <td>25</td>\n",
       "      <td>3</td>\n",
       "    </tr>\n",
       "    <tr>\n",
       "      <td>1</td>\n",
       "      <td>110002</td>\n",
       "      <td>107345</td>\n",
       "      <td>N</td>\n",
       "      <td>-9.913</td>\n",
       "      <td>-63.041</td>\n",
       "      <td>142.0</td>\n",
       "      <td>4426.558</td>\n",
       "      <td>66</td>\n",
       "      <td>10</td>\n",
       "    </tr>\n",
       "    <tr>\n",
       "      <td>2</td>\n",
       "      <td>110003</td>\n",
       "      <td>6224</td>\n",
       "      <td>N</td>\n",
       "      <td>-13.492</td>\n",
       "      <td>-60.545</td>\n",
       "      <td>230.0</td>\n",
       "      <td>1314.355</td>\n",
       "      <td>4</td>\n",
       "      <td>0</td>\n",
       "    </tr>\n",
       "    <tr>\n",
       "      <td>3</td>\n",
       "      <td>110004</td>\n",
       "      <td>88507</td>\n",
       "      <td>N</td>\n",
       "      <td>-11.438</td>\n",
       "      <td>-61.448</td>\n",
       "      <td>200.0</td>\n",
       "      <td>3792.638</td>\n",
       "      <td>133</td>\n",
       "      <td>5</td>\n",
       "    </tr>\n",
       "    <tr>\n",
       "      <td>4</td>\n",
       "      <td>110005</td>\n",
       "      <td>17934</td>\n",
       "      <td>N</td>\n",
       "      <td>-13.189</td>\n",
       "      <td>-60.812</td>\n",
       "      <td>277.0</td>\n",
       "      <td>2783.305</td>\n",
       "      <td>15</td>\n",
       "      <td>1</td>\n",
       "    </tr>\n",
       "  </tbody>\n",
       "</table>\n",
       "</div>"
      ],
      "text/plain": [
       "   MUNCOD  POPULATION CAPITAL  LATITUDE  LONGITUDE  ALTITUDE      AREA  \\\n",
       "0  110001       25437       N   -11.929    -61.996     350.0  7066.702   \n",
       "1  110002      107345       N    -9.913    -63.041     142.0  4426.558   \n",
       "2  110003        6224       N   -13.492    -60.545     230.0  1314.355   \n",
       "3  110004       88507       N   -11.438    -61.448     200.0  3792.638   \n",
       "4  110005       17934       N   -13.189    -60.812     277.0  2783.305   \n",
       "\n",
       "   CANCER_QTT  SUICIDES  \n",
       "0          25         3  \n",
       "1          66        10  \n",
       "2           4         0  \n",
       "3         133         5  \n",
       "4          15         1  "
      ]
     },
     "execution_count": 11,
     "metadata": {},
     "output_type": "execute_result"
    }
   ],
   "source": [
    "df.head()"
   ]
  },
  {
   "cell_type": "markdown",
   "metadata": {},
   "source": [
    "To construct a **Baseline**, let's take the estimation of 2016, when the suicide rate was 10.6 suicides per 100,000 persons [FAZEL S., \"Suicide\"]."
   ]
  },
  {
   "cell_type": "code",
   "execution_count": 12,
   "metadata": {},
   "outputs": [
    {
     "data": {
      "text/plain": [
       "0     2.0\n",
       "1    11.0\n",
       "2     0.0\n",
       "3     9.0\n",
       "4     1.0\n",
       "Name: POPULATION, dtype: float64"
      ]
     },
     "execution_count": 12,
     "metadata": {},
     "output_type": "execute_result"
    }
   ],
   "source": [
    "baseline = np.floor(df['POPULATION'] / 100000 * 10.6)\n",
    "baseline.head()"
   ]
  },
  {
   "cell_type": "markdown",
   "metadata": {},
   "source": [
    "As the metrics to evaluate the baseline, we'll use:\n",
    "\n",
    "- **Root Mean Squared Log Error (RMSLE):** Robust error metric for regression, with large error for underestimation.\n",
    "- **R-Squared and Adjusted R^2 (R^2 and Adj. R^2):** Compares how well the model predicts compared to the average prediction (adjusted: not sensible to the qtt of features)."
   ]
  },
  {
   "cell_type": "markdown",
   "metadata": {},
   "source": [
    "Evaluanting the baseline:"
   ]
  },
  {
   "cell_type": "code",
   "execution_count": 13,
   "metadata": {},
   "outputs": [
    {
     "data": {
      "text/plain": [
       "(0.6116856140218698, -1.5781863811916517)"
      ]
     },
     "execution_count": 13,
     "metadata": {},
     "output_type": "execute_result"
    }
   ],
   "source": [
    "from sklearn.metrics import mean_squared_log_error, mean_squared_error, r2_score\n",
    "np.sqrt(mean_squared_log_error(df['SUICIDES'], baseline)), r2_score(df['SUICIDES'], baseline)"
   ]
  },
  {
   "cell_type": "markdown",
   "metadata": {},
   "source": [
    "As our examples are not so numerous (=~ 5300), we can divide the dataset as follows:\n",
    "\n",
    "- 50% training set\n",
    "- 50% validation set"
   ]
  },
  {
   "cell_type": "code",
   "execution_count": 16,
   "metadata": {},
   "outputs": [],
   "source": [
    "from sklearn.model_selection import train_test_split"
   ]
  },
  {
   "cell_type": "code",
   "execution_count": 26,
   "metadata": {},
   "outputs": [
    {
     "data": {
      "text/plain": [
       "((2677, 2), (2677,), (2677, 2), (2677,))"
      ]
     },
     "execution_count": 26,
     "metadata": {},
     "output_type": "execute_result"
    }
   ],
   "source": [
    "X = df[['POPULATION', 'CANCER_QTT']]\n",
    "y = df['SUICIDES']\n",
    "\n",
    "X_train, X_test, y_train, y_test = train_test_split(X, y, test_size=0.5)\n",
    "X_train.shape, y_train.shape, X_test.shape, y_test.shape"
   ]
  },
  {
   "cell_type": "code",
   "execution_count": 27,
   "metadata": {},
   "outputs": [],
   "source": [
    "from sklearn.linear_model import LogisticRegression"
   ]
  },
  {
   "cell_type": "code",
   "execution_count": 30,
   "metadata": {},
   "outputs": [
    {
     "name": "stderr",
     "output_type": "stream",
     "text": [
      "C:\\Users\\marco\\Anaconda3\\lib\\site-packages\\sklearn\\linear_model\\logistic.py:432: FutureWarning: Default solver will be changed to 'lbfgs' in 0.22. Specify a solver to silence this warning.\n",
      "  FutureWarning)\n",
      "C:\\Users\\marco\\Anaconda3\\lib\\site-packages\\sklearn\\linear_model\\logistic.py:469: FutureWarning: Default multi_class will be changed to 'auto' in 0.22. Specify the multi_class option to silence this warning.\n",
      "  \"this warning.\", FutureWarning)\n",
      "C:\\Users\\marco\\Anaconda3\\lib\\site-packages\\sklearn\\svm\\base.py:929: ConvergenceWarning: Liblinear failed to converge, increase the number of iterations.\n",
      "  \"the number of iterations.\", ConvergenceWarning)\n"
     ]
    },
    {
     "data": {
      "text/plain": [
       "(0.8376106962300905, 0.03712600409815858)"
      ]
     },
     "execution_count": 30,
     "metadata": {},
     "output_type": "execute_result"
    }
   ],
   "source": [
    "model = LogisticRegression()\n",
    "model.fit(X_train, y_train)\n",
    "predicted_counts = model.predict(X_test)\n",
    "np.sqrt(mean_squared_log_error(y_test, predicted_counts)), r2_score(y_test, predicted_counts)"
   ]
  },
  {
   "cell_type": "code",
   "execution_count": 39,
   "metadata": {},
   "outputs": [
    {
     "ename": "AttributeError",
     "evalue": "'numpy.ndarray' object has no attribute 'value_counts'",
     "output_type": "error",
     "traceback": [
      "\u001b[1;31m---------------------------------------------------------------------------\u001b[0m",
      "\u001b[1;31mAttributeError\u001b[0m                            Traceback (most recent call last)",
      "\u001b[1;32m<ipython-input-39-3fd24af7ff94>\u001b[0m in \u001b[0;36m<module>\u001b[1;34m\u001b[0m\n\u001b[1;32m----> 1\u001b[1;33m \u001b[0mpredicted_counts\u001b[0m\u001b[1;33m.\u001b[0m\u001b[0mvalue_counts\u001b[0m\u001b[1;33m(\u001b[0m\u001b[1;33m)\u001b[0m\u001b[1;33m\u001b[0m\u001b[1;33m\u001b[0m\u001b[0m\n\u001b[0m",
      "\u001b[1;31mAttributeError\u001b[0m: 'numpy.ndarray' object has no attribute 'value_counts'"
     ]
    }
   ],
   "source": [
    "predicted_counts.value_counts()"
   ]
  },
  {
   "cell_type": "code",
   "execution_count": 35,
   "metadata": {},
   "outputs": [
    {
     "data": {
      "image/png": "[encoded data removed]",
      "text/plain": [
       "<Figure size 432x288 with 1 Axes>"
      ]
     },
     "metadata": {
      "needs_background": "light"
     },
     "output_type": "display_data"
    }
   ],
   "source": [
    "fig = plt.figure()\n",
    "fig.suptitle('Differences between test and prediction')\n",
    "difference = y_test - predicted_counts\n",
    "diff, = plt.plot(X_test.index, difference, 'go', label='Differences')\n",
    "plt.xlabel('Municipality index')\n",
    "plt.ylabel('Diff count')\n",
    "plt.legend(handles=[diff])\n",
    "plt.show()"
   ]
  },
  {
   "cell_type": "markdown",
   "metadata": {},
   "source": [
    "As we see, our metrics show greater error (RMSLE) and inferior R^2.\n",
    "\n",
    "So, this first Poisson model is **inferior to the chosen baseline.**\n",
    "\n",
    "---\n",
    "\n",
    "Next steps:\n",
    "\n",
    "- Model as Negative Binomial Regression (doesn't imply that the mean and variance are equal)\n",
    "\n",
    "- Consider other variables in the model (CAPITAL, LATITUDE, LONGITUDE, ALTITUDE, AREA) in order to understand better the data (don't forget to cast to positive numbers)\n",
    "\n",
    "- Try with other diseases"
   ]
  }
 ],
 "metadata": {
  "kernelspec": {
   "display_name": "Python 3",
   "language": "python",
   "name": "python3"
  },
  "language_info": {
   "codemirror_mode": {
    "name": "ipython",
    "version": 3
   },
   "file_extension": ".py",
   "mimetype": "text/x-python",
   "name": "python",
   "nbconvert_exporter": "python",
   "pygments_lexer": "ipython3",
   "version": "3.7.4"
  }
 },
 "nbformat": 4,
 "nbformat_minor": 2
}
