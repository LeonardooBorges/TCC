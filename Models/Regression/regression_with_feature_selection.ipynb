{
 "cells": [
  {
   "cell_type": "markdown",
   "metadata": {},
   "source": [
    "# Regression\n",
    "Features = rates from selected diseases (FeatureSelection) + suicide rate \n",
    "\n",
    "Target = suicide rate of the following year"
   ]
  },
  {
   "cell_type": "markdown",
   "metadata": {},
   "source": [
    "Import libraries"
   ]
  },
  {
   "cell_type": "code",
   "execution_count": 1,
   "metadata": {},
   "outputs": [],
   "source": [
    "import pandas as pd\n",
    "import numpy as np\n",
    "from sklearn import metrics\n",
    "root = \"../../\""
   ]
  },
  {
   "cell_type": "markdown",
   "metadata": {},
   "source": [
    "Prepare dataset"
   ]
  },
  {
   "cell_type": "code",
   "execution_count": 2,
   "metadata": {},
   "outputs": [
    {
     "data": {
      "text/html": [
       "<div>\n",
       "<style scoped>\n",
       "    .dataframe tbody tr th:only-of-type {\n",
       "        vertical-align: middle;\n",
       "    }\n",
       "\n",
       "    .dataframe tbody tr th {\n",
       "        vertical-align: top;\n",
       "    }\n",
       "\n",
       "    .dataframe thead th {\n",
       "        text-align: right;\n",
       "    }\n",
       "</style>\n",
       "<table border=\"1\" class=\"dataframe\">\n",
       "  <thead>\n",
       "    <tr style=\"text-align: right;\">\n",
       "      <th></th>\n",
       "      <th>BRONQUITE_ENFISEMA_E_OUTR_DOENÇ_PULM_OBSTR_CRÔNIC</th>\n",
       "      <th>COLELITÍASE_E_COLECISTITE</th>\n",
       "      <th>DIABETES_MELLITUS</th>\n",
       "      <th>DOENÇAS_DO_APÊNDICE</th>\n",
       "      <th>DOENÇAS_RENAIS_TÚBULO-INTERSTICIAIS</th>\n",
       "      <th>FRATURA_DO_FÊMUR</th>\n",
       "      <th>FRATURA_DO_PESCOÇO_TÓRAX_OU_PELVE</th>\n",
       "      <th>INFARTO_AGUDO_DO_MIOCÁRDIO</th>\n",
       "      <th>INSUFICIÊNCIA_CARDÍACA</th>\n",
       "      <th>INSUFICIÊNCIA_RENAL</th>\n",
       "      <th>...</th>\n",
       "      <th>OUTRAS_NEOPLASIAS_MALIGNAS_DA_PELE</th>\n",
       "      <th>OUTROS_TRANSTRONOS_ARTICULARES</th>\n",
       "      <th>PANCREATITE_AGUDA_E_OUTRAS_DOENÇAS_DO_PÂNCREAS</th>\n",
       "      <th>PARTO_ÚNICO_ESPONTÂNEO</th>\n",
       "      <th>TRANSTORNOS_DE_CONDUÇÃO_E_ARRITMIAS_CARDÍACAS</th>\n",
       "      <th>TRANSTORNOS_DE_HUMOR_[AFETIVOS]</th>\n",
       "      <th>TRANST_MENTAIS_COMPORT_DEV_USO_OUTR_SUBST_PSICOAT</th>\n",
       "      <th>UROLITÍASE</th>\n",
       "      <th>PREVIOUS</th>\n",
       "      <th>RATE</th>\n",
       "    </tr>\n",
       "  </thead>\n",
       "  <tbody>\n",
       "    <tr>\n",
       "      <th>0</th>\n",
       "      <td>252.268381</td>\n",
       "      <td>146.478415</td>\n",
       "      <td>219.717622</td>\n",
       "      <td>24.413069</td>\n",
       "      <td>24.413069</td>\n",
       "      <td>32.550759</td>\n",
       "      <td>0.000000</td>\n",
       "      <td>12.206535</td>\n",
       "      <td>260.406071</td>\n",
       "      <td>4.068845</td>\n",
       "      <td>...</td>\n",
       "      <td>4.068845</td>\n",
       "      <td>4.068845</td>\n",
       "      <td>0.000000</td>\n",
       "      <td>805.631281</td>\n",
       "      <td>20.344224</td>\n",
       "      <td>8.137690</td>\n",
       "      <td>0.000000</td>\n",
       "      <td>142.409570</td>\n",
       "      <td>20.344224</td>\n",
       "      <td>8.212203</td>\n",
       "    </tr>\n",
       "    <tr>\n",
       "      <th>1</th>\n",
       "      <td>55.568035</td>\n",
       "      <td>102.859980</td>\n",
       "      <td>98.130786</td>\n",
       "      <td>75.667112</td>\n",
       "      <td>40.198153</td>\n",
       "      <td>30.739764</td>\n",
       "      <td>4.729194</td>\n",
       "      <td>8.276090</td>\n",
       "      <td>127.688251</td>\n",
       "      <td>15.369882</td>\n",
       "      <td>...</td>\n",
       "      <td>0.000000</td>\n",
       "      <td>7.093792</td>\n",
       "      <td>5.911493</td>\n",
       "      <td>740.118939</td>\n",
       "      <td>9.458389</td>\n",
       "      <td>1.182299</td>\n",
       "      <td>0.000000</td>\n",
       "      <td>15.369882</td>\n",
       "      <td>9.458389</td>\n",
       "      <td>2.338060</td>\n",
       "    </tr>\n",
       "    <tr>\n",
       "      <th>2</th>\n",
       "      <td>14.755792</td>\n",
       "      <td>29.511583</td>\n",
       "      <td>59.023167</td>\n",
       "      <td>29.511583</td>\n",
       "      <td>118.046333</td>\n",
       "      <td>29.511583</td>\n",
       "      <td>0.000000</td>\n",
       "      <td>0.000000</td>\n",
       "      <td>103.290542</td>\n",
       "      <td>73.778958</td>\n",
       "      <td>...</td>\n",
       "      <td>0.000000</td>\n",
       "      <td>29.511583</td>\n",
       "      <td>0.000000</td>\n",
       "      <td>295.115833</td>\n",
       "      <td>14.755792</td>\n",
       "      <td>0.000000</td>\n",
       "      <td>0.000000</td>\n",
       "      <td>29.511583</td>\n",
       "      <td>0.000000</td>\n",
       "      <td>14.936520</td>\n",
       "    </tr>\n",
       "    <tr>\n",
       "      <th>3</th>\n",
       "      <td>61.331664</td>\n",
       "      <td>98.386211</td>\n",
       "      <td>187.828220</td>\n",
       "      <td>51.109720</td>\n",
       "      <td>51.109720</td>\n",
       "      <td>21.721631</td>\n",
       "      <td>15.332916</td>\n",
       "      <td>30.665832</td>\n",
       "      <td>210.827594</td>\n",
       "      <td>34.499061</td>\n",
       "      <td>...</td>\n",
       "      <td>3.833229</td>\n",
       "      <td>7.666458</td>\n",
       "      <td>3.833229</td>\n",
       "      <td>534.096572</td>\n",
       "      <td>22.999374</td>\n",
       "      <td>1.277743</td>\n",
       "      <td>1.277743</td>\n",
       "      <td>63.887150</td>\n",
       "      <td>5.110972</td>\n",
       "      <td>7.626311</td>\n",
       "    </tr>\n",
       "    <tr>\n",
       "      <th>7</th>\n",
       "      <td>7.156659</td>\n",
       "      <td>42.939956</td>\n",
       "      <td>193.229800</td>\n",
       "      <td>14.313319</td>\n",
       "      <td>551.062764</td>\n",
       "      <td>7.156659</td>\n",
       "      <td>7.156659</td>\n",
       "      <td>0.000000</td>\n",
       "      <td>42.939956</td>\n",
       "      <td>7.156659</td>\n",
       "      <td>...</td>\n",
       "      <td>0.000000</td>\n",
       "      <td>7.156659</td>\n",
       "      <td>0.000000</td>\n",
       "      <td>908.895727</td>\n",
       "      <td>0.000000</td>\n",
       "      <td>0.000000</td>\n",
       "      <td>0.000000</td>\n",
       "      <td>7.156659</td>\n",
       "      <td>0.000000</td>\n",
       "      <td>13.838915</td>\n",
       "    </tr>\n",
       "  </tbody>\n",
       "</table>\n",
       "<p>5 rows × 29 columns</p>\n",
       "</div>"
      ],
      "text/plain": [
       "   BRONQUITE_ENFISEMA_E_OUTR_DOENÇ_PULM_OBSTR_CRÔNIC  \\\n",
       "0                                         252.268381   \n",
       "1                                          55.568035   \n",
       "2                                          14.755792   \n",
       "3                                          61.331664   \n",
       "7                                           7.156659   \n",
       "\n",
       "   COLELITÍASE_E_COLECISTITE  DIABETES_MELLITUS  DOENÇAS_DO_APÊNDICE  \\\n",
       "0                 146.478415         219.717622            24.413069   \n",
       "1                 102.859980          98.130786            75.667112   \n",
       "2                  29.511583          59.023167            29.511583   \n",
       "3                  98.386211         187.828220            51.109720   \n",
       "7                  42.939956         193.229800            14.313319   \n",
       "\n",
       "   DOENÇAS_RENAIS_TÚBULO-INTERSTICIAIS  FRATURA_DO_FÊMUR  \\\n",
       "0                            24.413069         32.550759   \n",
       "1                            40.198153         30.739764   \n",
       "2                           118.046333         29.511583   \n",
       "3                            51.109720         21.721631   \n",
       "7                           551.062764          7.156659   \n",
       "\n",
       "   FRATURA_DO_PESCOÇO_TÓRAX_OU_PELVE  INFARTO_AGUDO_DO_MIOCÁRDIO  \\\n",
       "0                           0.000000                   12.206535   \n",
       "1                           4.729194                    8.276090   \n",
       "2                           0.000000                    0.000000   \n",
       "3                          15.332916                   30.665832   \n",
       "7                           7.156659                    0.000000   \n",
       "\n",
       "   INSUFICIÊNCIA_CARDÍACA  INSUFICIÊNCIA_RENAL  ...  \\\n",
       "0              260.406071             4.068845  ...   \n",
       "1              127.688251            15.369882  ...   \n",
       "2              103.290542            73.778958  ...   \n",
       "3              210.827594            34.499061  ...   \n",
       "7               42.939956             7.156659  ...   \n",
       "\n",
       "   OUTRAS_NEOPLASIAS_MALIGNAS_DA_PELE  OUTROS_TRANSTRONOS_ARTICULARES  \\\n",
       "0                            4.068845                        4.068845   \n",
       "1                            0.000000                        7.093792   \n",
       "2                            0.000000                       29.511583   \n",
       "3                            3.833229                        7.666458   \n",
       "7                            0.000000                        7.156659   \n",
       "\n",
       "   PANCREATITE_AGUDA_E_OUTRAS_DOENÇAS_DO_PÂNCREAS  PARTO_ÚNICO_ESPONTÂNEO  \\\n",
       "0                                        0.000000              805.631281   \n",
       "1                                        5.911493              740.118939   \n",
       "2                                        0.000000              295.115833   \n",
       "3                                        3.833229              534.096572   \n",
       "7                                        0.000000              908.895727   \n",
       "\n",
       "   TRANSTORNOS_DE_CONDUÇÃO_E_ARRITMIAS_CARDÍACAS  \\\n",
       "0                                      20.344224   \n",
       "1                                       9.458389   \n",
       "2                                      14.755792   \n",
       "3                                      22.999374   \n",
       "7                                       0.000000   \n",
       "\n",
       "   TRANSTORNOS_DE_HUMOR_[AFETIVOS]  \\\n",
       "0                         8.137690   \n",
       "1                         1.182299   \n",
       "2                         0.000000   \n",
       "3                         1.277743   \n",
       "7                         0.000000   \n",
       "\n",
       "   TRANST_MENTAIS_COMPORT_DEV_USO_OUTR_SUBST_PSICOAT  UROLITÍASE   PREVIOUS  \\\n",
       "0                                           0.000000  142.409570  20.344224   \n",
       "1                                           0.000000   15.369882   9.458389   \n",
       "2                                           0.000000   29.511583   0.000000   \n",
       "3                                           1.277743   63.887150   5.110972   \n",
       "7                                           0.000000    7.156659   0.000000   \n",
       "\n",
       "        RATE  \n",
       "0   8.212203  \n",
       "1   2.338060  \n",
       "2  14.936520  \n",
       "3   7.626311  \n",
       "7  13.838915  \n",
       "\n",
       "[5 rows x 29 columns]"
      ]
     },
     "execution_count": 2,
     "metadata": {},
     "output_type": "execute_result"
    }
   ],
   "source": [
    "disease = \"\"\n",
    "path = root + \"CSV/TabNet/Internacoes_Rate/\"\n",
    "\n",
    "suicide = pd.read_csv(root +'CSV/Suicide/suicide_rates_08_18.csv', index_col=0)\n",
    "\n",
    "years = [\"08\", \"09\", \"10\", \"11\", \"12\", \"13\", \"14\", \"15\", \"16\", \"17\", \"18\"]\n",
    "\n",
    "final_df = pd.DataFrame()\n",
    "selected_diseases = [\"UROLITÍASE\", \n",
    "                     \"TRANST_MENTAIS_COMPORT_DEV_USO_OUTR_SUBST_PSICOAT\", \n",
    "                     \"TRANSTORNOS_DE_HUMOR_[AFETIVOS]\", \n",
    "                     \"TRANSTORNOS_DE_CONDUÇÃO_E_ARRITMIAS_CARDÍACAS\", \n",
    "                     \"PARTO_ÚNICO_ESPONTÂNEO\", \n",
    "                     \"PANCREATITE_AGUDA_E_OUTRAS_DOENÇAS_DO_PÂNCREAS\", \n",
    "                     \"OUTROS_TRANSTRONOS_ARTICULARES\",\n",
    "                    \"OUTRAS_NEOPLASIAS_MALIGNAS_DA_PELE\",\n",
    "                    \"OUTRAS_DOENÇAS_DOS_INTESTINOS_E_PERITÔNIO\",\n",
    "                    \"OUTRAS_ANEMIAS\",\n",
    "                    \"NEOPL_MALIG_OUTR_LOCALIZ_MAL_DEF_SECUN_E_NÃO_ESPEC\",\n",
    "                    \"NEOPL_MALIG_JUNÇÃO_RETOSSIGM_RETO_ÂNUS_CANAL_ANAL\",\n",
    "                    \"NEOPLASIA_MALIGNA_DO_PÂNCREAS\",\n",
    "                    \"NEOPLASIA_MALIGNA_DO_ESÔFAGO\",\n",
    "                    \"NEOPLASIA_MALIGNA_DO_CÓLON\",\n",
    "                    \"NEOPLASIA_MALIGNA_DE_TRAQUÉIA_BRÔNQUIOS_E_PULMÕES\",\n",
    "                    \"LEPTOSPIROSE_NÃO_ESPECIFICADA\",\n",
    "                    \"INSUFICIÊNCIA_RENAL\",\n",
    "                    \"INSUFICIÊNCIA_CARDÍACA\",\n",
    "                    \"INFARTO_AGUDO_DO_MIOCÁRDIO\",\n",
    "                    \"FRATURA_DO_PESCOÇO_TÓRAX_OU_PELVE\", \n",
    "                     \"FRATURA_DO_FÊMUR\",\n",
    "                    \"DOENÇAS_RENAIS_TÚBULO-INTERSTICIAIS\",\n",
    "                    \"DOENÇAS_DO_APÊNDICE\",\n",
    "                    \"DIABETES_MELLITUS\",\n",
    "                    \"COLELITÍASE_E_COLECISTITE\",\n",
    "                    \"BRONQUITE_ENFISEMA_E_OUTR_DOENÇ_PULM_OBSTR_CRÔNIC\"]\n",
    "\n",
    "for i in range(len(years)-1):\n",
    "    col_year_suicide = \"RATE_\" + years[i+1]\n",
    "    col_year_prev = \"RATE_\" + years[i]\n",
    "    year_df = suicide[[col_year_prev,col_year_suicide, \"MUNCOD\"]]\n",
    "    year_df = year_df.rename(columns={col_year_suicide: \"RATE\"})\n",
    "    year_df = year_df.rename(columns={col_year_prev: \"PREVIOUS\"})\n",
    "    for disease in selected_diseases:\n",
    "        col_year_disease = \"RATE_\" + years[i]\n",
    "        disease_df = pd.read_csv(path + disease + \".csv\", sep=',', index_col=0)\n",
    "        disease_df = disease_df[[col_year_disease, \"MUNCOD\"]]\n",
    "        disease_df = disease_df.rename(columns={col_year_disease: disease})\n",
    "        \n",
    "        year_df = pd.merge(disease_df, year_df, left_on=\"MUNCOD\", right_on=\"MUNCOD\", how='right')\n",
    "        \n",
    "    year_df = year_df.drop(\"MUNCOD\", axis=1)\n",
    "    final_df = pd.concat([final_df, year_df])\n",
    "\n",
    "final_df = final_df[final_df[\"RATE\"] > 0]\n",
    "final_df = final_df.fillna(0)\n",
    "final_df.head()"
   ]
  },
  {
   "cell_type": "markdown",
   "metadata": {},
   "source": [
    "Define X and y"
   ]
  },
  {
   "cell_type": "code",
   "execution_count": 19,
   "metadata": {},
   "outputs": [],
   "source": [
    "X = final_df.drop(columns=[\"RATE\"])\n",
    "y = final_df[\"RATE\"]"
   ]
  },
  {
   "cell_type": "markdown",
   "metadata": {},
   "source": [
    "Split data into train and test sets"
   ]
  },
  {
   "cell_type": "code",
   "execution_count": 20,
   "metadata": {},
   "outputs": [],
   "source": [
    "from sklearn.model_selection import train_test_split\n",
    "X_train, X_test, y_train, y_test = train_test_split(X, y, test_size=0.33, random_state=42)"
   ]
  },
  {
   "cell_type": "markdown",
   "metadata": {},
   "source": [
    "Fit the RandomForest regression model"
   ]
  },
  {
   "cell_type": "code",
   "execution_count": 21,
   "metadata": {},
   "outputs": [
    {
     "data": {
      "text/plain": [
       "RandomForestRegressor(bootstrap=True, ccp_alpha=0.0, criterion='mse',\n",
       "                      max_depth=None, max_features='auto', max_leaf_nodes=None,\n",
       "                      max_samples=None, min_impurity_decrease=0.0,\n",
       "                      min_impurity_split=None, min_samples_leaf=1,\n",
       "                      min_samples_split=2, min_weight_fraction_leaf=0.0,\n",
       "                      n_estimators=100, n_jobs=None, oob_score=False,\n",
       "                      random_state=None, verbose=0, warm_start=False)"
      ]
     },
     "execution_count": 21,
     "metadata": {},
     "output_type": "execute_result"
    }
   ],
   "source": [
    "from sklearn.ensemble import RandomForestRegressor\n",
    "regressor = RandomForestRegressor() \n",
    "regressor.fit(X_train,y_train)"
   ]
  },
  {
   "cell_type": "markdown",
   "metadata": {},
   "source": [
    "Calculate metrics corresponding to the regression model"
   ]
  },
  {
   "cell_type": "code",
   "execution_count": 36,
   "metadata": {},
   "outputs": [],
   "source": [
    "def calcMetrics(y_train, y_pred_train, y_test, y_pred):\n",
    "    print(\"Root Mean Squared Error Train: \" + str(np.sqrt(metrics.mean_squared_error(y_pred_train,y_train))))\n",
    "    print(\"Root Mean Squared Error Test: \" + str(np.sqrt(metrics.mean_squared_error(y_test,y_pred))))\n",
    "    print(\"MAPE Test: \" + str(np.mean(np.abs((y_test - y_pred) / y_test)) * 100))\n",
    "def calcUpMetrics(y_pred,y_test,X_test):\n",
    "    up_df = pd.DataFrame({\"Pred\": y_pred, \"Real\": y_test, \"Previous\": X_test[\"PREVIOUS\"]})\n",
    "    up_df[\"UP\"] = up_df[\"Previous\"] < up_df[\"Real\"]\n",
    "    up_df[\"UP_PRED\"] = up_df[\"Previous\"] < up_df[\"Pred\"]\n",
    "    up_df[\"UP\"] = up_df[\"UP\"].astype(int)\n",
    "    up_df[\"UP_PRED\"] = up_df[\"UP_PRED\"].astype(int)\n",
    "    print(\"Accuracy UP/DOWN: \", metrics.accuracy_score(up_df[\"UP\"], up_df[\"UP_PRED\"]))"
   ]
  },
  {
   "cell_type": "code",
   "execution_count": 37,
   "metadata": {},
   "outputs": [
    {
     "name": "stdout",
     "output_type": "stream",
     "text": [
      "# Regression Model\n",
      "Root Mean Squared Error Train: 3.4579238753685044\n",
      "Root Mean Squared Error Test: 9.04530668821685\n",
      "MAPE Test: 61.38912955072987\n",
      "Accuracy UP/DOWN:  0.7478079331941545\n"
     ]
    }
   ],
   "source": [
    "y_pred = regressor.predict(X_test) \n",
    "y_pred_train = regressor.predict(X_train)\n",
    "print(\"# Regression Model\")\n",
    "calcMetrics(y_train, y_pred_train, y_test, y_pred)\n",
    "calcUpMetrics(y_pred,y_test,X_test)"
   ]
  },
  {
   "cell_type": "markdown",
   "metadata": {},
   "source": [
    "We also define a baseline model consisting of predicting the previous year suicide rate"
   ]
  },
  {
   "cell_type": "code",
   "execution_count": 39,
   "metadata": {},
   "outputs": [
    {
     "name": "stdout",
     "output_type": "stream",
     "text": [
      "# Baseline Model\n",
      "Root Mean Squared Error Train: 16.07187744700819\n",
      "Root Mean Squared Error Test: 15.78993337345873\n",
      "MAPE Test: 72.17708869373472\n"
     ]
    }
   ],
   "source": [
    "y_pred = X_test[\"PREVIOUS\"]\n",
    "y_pred_train = X_train[\"PREVIOUS\"]\n",
    "print(\"# Baseline Model\")\n",
    "calcMetrics(y_train, y_pred_train, y_test, y_pred)"
   ]
  },
  {
   "cell_type": "markdown",
   "metadata": {},
   "source": [
    "K-fold cross validation"
   ]
  },
  {
   "cell_type": "code",
   "execution_count": 9,
   "metadata": {},
   "outputs": [
    {
     "name": "stdout",
     "output_type": "stream",
     "text": [
      "Mean RMSE for the regression model was: 9.13953373645131\n",
      "Mean RMSE for the baseline model was: 15.954743584014144\n"
     ]
    }
   ],
   "source": [
    "from sklearn.model_selection import KFold\n",
    "\n",
    "kf = KFold(n_splits=4)\n",
    "\n",
    "rmse_regression = []\n",
    "rmse_baseline = []\n",
    "for train_index, test_index in kf.split(X):\n",
    "    X_train, X_test = X.iloc[train_index], X.iloc[test_index]\n",
    "    y_train, y_test = y.iloc[train_index], y.iloc[test_index]\n",
    "    \n",
    "    regressor = RandomForestRegressor() \n",
    "    regressor.fit(X_train,y_train)\n",
    "    \n",
    "    rmse_regression.append(\n",
    "        np.sqrt(metrics.mean_squared_error(regressor.predict(X_test),y_test))\n",
    "    )\n",
    "    \n",
    "    rmse_baseline.append(\n",
    "        np.sqrt(metrics.mean_squared_error(X_test[\"PREVIOUS\"],y_test))\n",
    "    )\n",
    "    \n",
    "print(\"Mean RMSE for the regression model was:\", np.mean(rmse_regression))\n",
    "print(\"Mean RMSE for the baseline model was:\", np.mean(rmse_baseline))"
   ]
  }
 ],
 "metadata": {
  "kernelspec": {
   "display_name": "Python 3",
   "language": "python",
   "name": "python3"
  },
  "language_info": {
   "codemirror_mode": {
    "name": "ipython",
    "version": 3
   },
   "file_extension": ".py",
   "mimetype": "text/x-python",
   "name": "python",
   "nbconvert_exporter": "python",
   "pygments_lexer": "ipython3",
   "version": "3.7.6"
  }
 },
 "nbformat": 4,
 "nbformat_minor": 4
}
