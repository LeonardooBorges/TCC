{
 "cells": [
  {
   "cell_type": "markdown",
   "metadata": {},
   "source": [
    "# Multiple Linear Regression"
   ]
  },
  {
   "cell_type": "markdown",
   "metadata": {},
   "source": [
    "Importing the libraries\n"
   ]
  },
  {
   "cell_type": "code",
   "execution_count": 43,
   "metadata": {},
   "outputs": [],
   "source": [
    "import pandas as pd\n",
    "import matplotlib.pyplot as plt\n",
    "import glob\n",
    "import seaborn as sns\n",
    "import numpy as np\n",
    "\n",
    "pd.set_option('display.max_columns', 200)"
   ]
  },
  {
   "cell_type": "markdown",
   "metadata": {},
   "source": [
    "Creating a df with the disease rates for each city and their respective suicide rates"
   ]
  },
  {
   "cell_type": "code",
   "execution_count": 44,
   "metadata": {},
   "outputs": [],
   "source": [
    "df1 = pd.read_csv('../../TabNet/complete_rates_2015.csv', index_col=[0])\n",
    "df2 = pd.read_csv('../../TabNet/complete_rates_2016.csv', index_col=[0])\n",
    "df3 = pd.read_csv('../../TabNet/complete_rates_2017.csv', index_col=[0])\n",
    "frames = [df1, df2, df3]\n",
    "df = pd.concat(frames)\n",
    "df = df.drop('MUNCOD', 1)"
   ]
  },
  {
   "cell_type": "markdown",
   "metadata": {},
   "source": [
    "## Strategy 1: don't remove anything"
   ]
  },
  {
   "cell_type": "markdown",
   "metadata": {},
   "source": [
    "Selecting X (independent variables) and y (dependent variable)."
   ]
  },
  {
   "cell_type": "code",
   "execution_count": 23,
   "metadata": {},
   "outputs": [],
   "source": [
    "X = df.iloc[:, 0:14].values\n",
    "y = df.iloc[:, -1].values"
   ]
  },
  {
   "cell_type": "markdown",
   "metadata": {},
   "source": [
    "Mean Absolute Error: 8.267622769057777\n",
    "\n",
    "Mean Squared Error: 153.8491002206912\n",
    "\n",
    "Root Mean Squared Error: 12.403592230506904"
   ]
  },
  {
   "cell_type": "markdown",
   "metadata": {},
   "source": [
    "## Strategy 2: imput values"
   ]
  },
  {
   "cell_type": "code",
   "execution_count": 29,
   "metadata": {},
   "outputs": [],
   "source": [
    "import numpy as np\n",
    "from sklearn.impute import SimpleImputer\n",
    "df.loc[:, df.columns != 'RATE'] = df.loc[:, df.columns != 'RATE'].replace(0, np.nan)\n",
    "\n",
    "X = df.iloc[:, 0:14].values\n",
    "y = df.iloc[:, -1].values\n",
    "imputer = SimpleImputer(missing_values = np.nan, strategy = 'mean')\n",
    "imputer = imputer.fit(X)\n",
    "X = imputer.transform(X)"
   ]
  },
  {
   "cell_type": "markdown",
   "metadata": {},
   "source": [
    "Mean Absolute Error: 7.662033663741531\n",
    "\n",
    "Mean Squared Error: 140.1457120861195\n",
    "\n",
    "Root Mean Squared Error: 11.83831542433802"
   ]
  },
  {
   "cell_type": "markdown",
   "metadata": {},
   "source": [
    "## Strategy 3: remove rows + fill null\n",
    "Remove rows where there are less than N non-null items \n",
    "\n",
    "Fill null items with 0"
   ]
  },
  {
   "cell_type": "code",
   "execution_count": 34,
   "metadata": {},
   "outputs": [],
   "source": [
    "import numpy as np\n",
    "N = 12\n",
    "df.loc[:, df.columns != 'RATE'] = df.loc[:, df.columns != 'RATE'].replace(0, np.nan)\n",
    "df = df.dropna(thresh=N) # At least N non null items\n",
    "df = df.fillna(0)\n",
    "X = df.iloc[:, 0:14].values\n",
    "y = df.iloc[:, -1].values"
   ]
  },
  {
   "cell_type": "markdown",
   "metadata": {},
   "source": [
    "Mean Absolute Error: 4.194893294400315\n",
    "\n",
    "Mean Squared Error: 39.50162865127458\n",
    "\n",
    "Root Mean Squared Error: 6.2850321121912005"
   ]
  },
  {
   "cell_type": "markdown",
   "metadata": {},
   "source": [
    "## Strategy 4: remove rows + imput values"
   ]
  },
  {
   "cell_type": "code",
   "execution_count": 45,
   "metadata": {},
   "outputs": [],
   "source": [
    "import numpy as np\n",
    "from sklearn.impute import SimpleImputer\n",
    "N = 12\n",
    "df.loc[:, df.columns != 'RATE'] = df.loc[:, df.columns != 'RATE'].replace(0, np.nan)\n",
    "df = df.dropna(thresh=N) # At least N non null items\n",
    "\n",
    "X = df.iloc[:, 0:14].values\n",
    "y = df.iloc[:, -1].values\n",
    "\n",
    "imputer = SimpleImputer(missing_values = np.nan, strategy = 'mean')\n",
    "imputer = imputer.fit(X)\n",
    "X = imputer.transform(X)"
   ]
  },
  {
   "cell_type": "markdown",
   "metadata": {},
   "source": [
    "Mean Absolute Error: 4.127271034247071\n",
    "\n",
    "Mean Squared Error: 38.71062741617397\n",
    "\n",
    "Root Mean Squared Error: 6.2217865132270465"
   ]
  },
  {
   "cell_type": "markdown",
   "metadata": {
    "pycharm": {
     "name": "#%% md\n"
    }
   },
   "source": [
    "Splitting the dataset"
   ]
  },
  {
   "cell_type": "code",
   "execution_count": 46,
   "metadata": {
    "pycharm": {
     "is_executing": false,
     "name": "#%%\n"
    }
   },
   "outputs": [],
   "source": [
    "from sklearn.model_selection import train_test_split\n",
    "X_train, X_test, y_train, y_test = train_test_split(X, y, test_size=0.5, random_state=0)"
   ]
  },
  {
   "cell_type": "markdown",
   "metadata": {
    "pycharm": {
     "name": "#%% md\n"
    }
   },
   "source": [
    "Fitting Multiple Linear Regression to the Training Set"
   ]
  },
  {
   "cell_type": "code",
   "execution_count": 47,
   "metadata": {
    "pycharm": {
     "is_executing": false,
     "name": "#%%\n"
    },
    "scrolled": true
   },
   "outputs": [
    {
     "data": {
      "text/plain": [
       "LinearRegression(copy_X=True, fit_intercept=True, n_jobs=None, normalize=False)"
      ]
     },
     "execution_count": 47,
     "metadata": {},
     "output_type": "execute_result"
    }
   ],
   "source": [
    "from sklearn.linear_model import LinearRegression\n",
    "regressor = LinearRegression()\n",
    "regressor.fit(X_train, y_train)"
   ]
  },
  {
   "cell_type": "markdown",
   "metadata": {},
   "source": [
    "Predicting the Test set results"
   ]
  },
  {
   "cell_type": "code",
   "execution_count": 48,
   "metadata": {},
   "outputs": [],
   "source": [
    "y_pred = regressor.predict(X_test)"
   ]
  },
  {
   "cell_type": "code",
   "execution_count": 43,
   "metadata": {},
   "outputs": [
    {
     "data": {
      "text/plain": [
       "array([ 6.91650131e-03,  1.14217262e-04, -5.38025979e-03,  2.33029324e-02,\n",
       "        1.03934454e-02,  1.14910423e-02,  3.51664407e-01,  5.05684125e-03,\n",
       "        2.36695985e-02, -9.83005205e-04])"
      ]
     },
     "execution_count": 43,
     "metadata": {},
     "output_type": "execute_result"
    }
   ],
   "source": [
    "regressor.coef_"
   ]
  },
  {
   "cell_type": "code",
   "execution_count": 49,
   "metadata": {},
   "outputs": [
    {
     "name": "stdout",
     "output_type": "stream",
     "text": [
      "Mean Absolute Error: 4.037455512181644\n",
      "Mean Squared Error: 40.01793515348452\n",
      "Root Mean Squared Error: 6.32597305981337\n",
      "Score: 0.16485904730460688\n"
     ]
    }
   ],
   "source": [
    "from sklearn import metrics\n",
    "print('Mean Absolute Error:', metrics.mean_absolute_error(y_test, y_pred))  \n",
    "print('Mean Squared Error:', metrics.mean_squared_error(y_test, y_pred))  \n",
    "print('Root Mean Squared Error:', np.sqrt(metrics.mean_squared_error(y_test, y_pred)))\n",
    "print(\"Score: \"+ str(regressor.score(X_test,y_test)))"
   ]
  },
  {
   "cell_type": "code",
   "execution_count": 16,
   "metadata": {},
   "outputs": [
    {
     "data": {
      "text/html": [
       "<div>\n",
       "<style scoped>\n",
       "    .dataframe tbody tr th:only-of-type {\n",
       "        vertical-align: middle;\n",
       "    }\n",
       "\n",
       "    .dataframe tbody tr th {\n",
       "        vertical-align: top;\n",
       "    }\n",
       "\n",
       "    .dataframe thead th {\n",
       "        text-align: right;\n",
       "    }\n",
       "</style>\n",
       "<table border=\"1\" class=\"dataframe\">\n",
       "  <thead>\n",
       "    <tr style=\"text-align: right;\">\n",
       "      <th></th>\n",
       "      <th>Actual</th>\n",
       "      <th>Predicted</th>\n",
       "    </tr>\n",
       "  </thead>\n",
       "  <tbody>\n",
       "    <tr>\n",
       "      <td>0</td>\n",
       "      <td>11.073146</td>\n",
       "      <td>7.809507</td>\n",
       "    </tr>\n",
       "    <tr>\n",
       "      <td>1</td>\n",
       "      <td>5.501700</td>\n",
       "      <td>7.052390</td>\n",
       "    </tr>\n",
       "    <tr>\n",
       "      <td>2</td>\n",
       "      <td>5.806864</td>\n",
       "      <td>13.756918</td>\n",
       "    </tr>\n",
       "    <tr>\n",
       "      <td>3</td>\n",
       "      <td>3.646641</td>\n",
       "      <td>5.431245</td>\n",
       "    </tr>\n",
       "    <tr>\n",
       "      <td>4</td>\n",
       "      <td>6.230798</td>\n",
       "      <td>9.124833</td>\n",
       "    </tr>\n",
       "    <tr>\n",
       "      <td>5</td>\n",
       "      <td>2.175592</td>\n",
       "      <td>11.242092</td>\n",
       "    </tr>\n",
       "    <tr>\n",
       "      <td>6</td>\n",
       "      <td>10.708931</td>\n",
       "      <td>18.049443</td>\n",
       "    </tr>\n",
       "    <tr>\n",
       "      <td>7</td>\n",
       "      <td>9.251764</td>\n",
       "      <td>7.476490</td>\n",
       "    </tr>\n",
       "    <tr>\n",
       "      <td>8</td>\n",
       "      <td>10.333781</td>\n",
       "      <td>10.418850</td>\n",
       "    </tr>\n",
       "    <tr>\n",
       "      <td>9</td>\n",
       "      <td>5.738363</td>\n",
       "      <td>8.156379</td>\n",
       "    </tr>\n",
       "    <tr>\n",
       "      <td>10</td>\n",
       "      <td>2.019774</td>\n",
       "      <td>9.050472</td>\n",
       "    </tr>\n",
       "    <tr>\n",
       "      <td>11</td>\n",
       "      <td>6.259343</td>\n",
       "      <td>5.164901</td>\n",
       "    </tr>\n",
       "    <tr>\n",
       "      <td>12</td>\n",
       "      <td>2.700914</td>\n",
       "      <td>7.523032</td>\n",
       "    </tr>\n",
       "    <tr>\n",
       "      <td>13</td>\n",
       "      <td>4.045798</td>\n",
       "      <td>6.148263</td>\n",
       "    </tr>\n",
       "    <tr>\n",
       "      <td>14</td>\n",
       "      <td>9.641652</td>\n",
       "      <td>5.882014</td>\n",
       "    </tr>\n",
       "    <tr>\n",
       "      <td>15</td>\n",
       "      <td>8.107232</td>\n",
       "      <td>7.230690</td>\n",
       "    </tr>\n",
       "    <tr>\n",
       "      <td>16</td>\n",
       "      <td>6.615944</td>\n",
       "      <td>10.500480</td>\n",
       "    </tr>\n",
       "    <tr>\n",
       "      <td>17</td>\n",
       "      <td>28.729440</td>\n",
       "      <td>13.862649</td>\n",
       "    </tr>\n",
       "    <tr>\n",
       "      <td>18</td>\n",
       "      <td>5.281225</td>\n",
       "      <td>6.402663</td>\n",
       "    </tr>\n",
       "    <tr>\n",
       "      <td>19</td>\n",
       "      <td>6.416370</td>\n",
       "      <td>9.610566</td>\n",
       "    </tr>\n",
       "    <tr>\n",
       "      <td>20</td>\n",
       "      <td>6.252345</td>\n",
       "      <td>12.360921</td>\n",
       "    </tr>\n",
       "    <tr>\n",
       "      <td>21</td>\n",
       "      <td>18.409426</td>\n",
       "      <td>11.260029</td>\n",
       "    </tr>\n",
       "    <tr>\n",
       "      <td>22</td>\n",
       "      <td>4.901160</td>\n",
       "      <td>6.627342</td>\n",
       "    </tr>\n",
       "    <tr>\n",
       "      <td>23</td>\n",
       "      <td>6.491736</td>\n",
       "      <td>7.577804</td>\n",
       "    </tr>\n",
       "    <tr>\n",
       "      <td>24</td>\n",
       "      <td>1.337775</td>\n",
       "      <td>6.930178</td>\n",
       "    </tr>\n",
       "  </tbody>\n",
       "</table>\n",
       "</div>"
      ],
      "text/plain": [
       "       Actual  Predicted\n",
       "0   11.073146   7.809507\n",
       "1    5.501700   7.052390\n",
       "2    5.806864  13.756918\n",
       "3    3.646641   5.431245\n",
       "4    6.230798   9.124833\n",
       "5    2.175592  11.242092\n",
       "6   10.708931  18.049443\n",
       "7    9.251764   7.476490\n",
       "8   10.333781  10.418850\n",
       "9    5.738363   8.156379\n",
       "10   2.019774   9.050472\n",
       "11   6.259343   5.164901\n",
       "12   2.700914   7.523032\n",
       "13   4.045798   6.148263\n",
       "14   9.641652   5.882014\n",
       "15   8.107232   7.230690\n",
       "16   6.615944  10.500480\n",
       "17  28.729440  13.862649\n",
       "18   5.281225   6.402663\n",
       "19   6.416370   9.610566\n",
       "20   6.252345  12.360921\n",
       "21  18.409426  11.260029\n",
       "22   4.901160   6.627342\n",
       "23   6.491736   7.577804\n",
       "24   1.337775   6.930178"
      ]
     },
     "execution_count": 16,
     "metadata": {},
     "output_type": "execute_result"
    }
   ],
   "source": [
    "df1 = pd.DataFrame({'Actual': y_test, 'Predicted': y_pred})\n",
    "df1.head(25)"
   ]
  },
  {
   "cell_type": "markdown",
   "metadata": {},
   "source": [
    "# Backward Elimination"
   ]
  },
  {
   "cell_type": "markdown",
   "metadata": {},
   "source": [
    "Building the optimal model using Backward Elimination"
   ]
  },
  {
   "cell_type": "code",
   "execution_count": 17,
   "metadata": {},
   "outputs": [],
   "source": [
    "import statsmodels.api as sm\n",
    "X = np.append(arr = np.ones((len(X),1)).astype(int), values=X,axis=1)"
   ]
  },
  {
   "cell_type": "code",
   "execution_count": 18,
   "metadata": {},
   "outputs": [
    {
     "data": {
      "text/html": [
       "<table class=\"simpletable\">\n",
       "<caption>OLS Regression Results</caption>\n",
       "<tr>\n",
       "  <th>Dep. Variable:</th>            <td>y</td>        <th>  R-squared:         </th> <td>   0.203</td> \n",
       "</tr>\n",
       "<tr>\n",
       "  <th>Model:</th>                   <td>OLS</td>       <th>  Adj. R-squared:    </th> <td>   0.200</td> \n",
       "</tr>\n",
       "<tr>\n",
       "  <th>Method:</th>             <td>Least Squares</td>  <th>  F-statistic:       </th> <td>   64.53</td> \n",
       "</tr>\n",
       "<tr>\n",
       "  <th>Date:</th>             <td>Thu, 18 Jun 2020</td> <th>  Prob (F-statistic):</th> <td>5.58e-163</td>\n",
       "</tr>\n",
       "<tr>\n",
       "  <th>Time:</th>                 <td>19:44:41</td>     <th>  Log-Likelihood:    </th> <td> -11421.</td> \n",
       "</tr>\n",
       "<tr>\n",
       "  <th>No. Observations:</th>      <td>  3561</td>      <th>  AIC:               </th> <td>2.287e+04</td>\n",
       "</tr>\n",
       "<tr>\n",
       "  <th>Df Residuals:</th>          <td>  3546</td>      <th>  BIC:               </th> <td>2.296e+04</td>\n",
       "</tr>\n",
       "<tr>\n",
       "  <th>Df Model:</th>              <td>    14</td>      <th>                     </th>     <td> </td>    \n",
       "</tr>\n",
       "<tr>\n",
       "  <th>Covariance Type:</th>      <td>nonrobust</td>    <th>                     </th>     <td> </td>    \n",
       "</tr>\n",
       "</table>\n",
       "<table class=\"simpletable\">\n",
       "<tr>\n",
       "    <td></td>       <th>coef</th>     <th>std err</th>      <th>t</th>      <th>P>|t|</th>  <th>[0.025</th>    <th>0.975]</th>  \n",
       "</tr>\n",
       "<tr>\n",
       "  <th>const</th> <td>    1.6911</td> <td>    0.320</td> <td>    5.291</td> <td> 0.000</td> <td>    1.064</td> <td>    2.318</td>\n",
       "</tr>\n",
       "<tr>\n",
       "  <th>x1</th>    <td>    0.0693</td> <td>    0.012</td> <td>    5.939</td> <td> 0.000</td> <td>    0.046</td> <td>    0.092</td>\n",
       "</tr>\n",
       "<tr>\n",
       "  <th>x2</th>    <td>    0.0066</td> <td>    0.003</td> <td>    2.211</td> <td> 0.027</td> <td>    0.001</td> <td>    0.013</td>\n",
       "</tr>\n",
       "<tr>\n",
       "  <th>x3</th>    <td>   -0.0008</td> <td>    0.001</td> <td>   -0.786</td> <td> 0.432</td> <td>   -0.003</td> <td>    0.001</td>\n",
       "</tr>\n",
       "<tr>\n",
       "  <th>x4</th>    <td>    0.0010</td> <td>    0.001</td> <td>    0.742</td> <td> 0.458</td> <td>   -0.002</td> <td>    0.004</td>\n",
       "</tr>\n",
       "<tr>\n",
       "  <th>x5</th>    <td>    0.1492</td> <td>    0.029</td> <td>    5.224</td> <td> 0.000</td> <td>    0.093</td> <td>    0.205</td>\n",
       "</tr>\n",
       "<tr>\n",
       "  <th>x6</th>    <td>   -0.0113</td> <td>    0.004</td> <td>   -2.694</td> <td> 0.007</td> <td>   -0.020</td> <td>   -0.003</td>\n",
       "</tr>\n",
       "<tr>\n",
       "  <th>x7</th>    <td>    0.0238</td> <td>    0.008</td> <td>    3.097</td> <td> 0.002</td> <td>    0.009</td> <td>    0.039</td>\n",
       "</tr>\n",
       "<tr>\n",
       "  <th>x8</th>    <td>    0.0099</td> <td>    0.001</td> <td>   10.326</td> <td> 0.000</td> <td>    0.008</td> <td>    0.012</td>\n",
       "</tr>\n",
       "<tr>\n",
       "  <th>x9</th>    <td>    0.0098</td> <td>    0.002</td> <td>    4.534</td> <td> 0.000</td> <td>    0.006</td> <td>    0.014</td>\n",
       "</tr>\n",
       "<tr>\n",
       "  <th>x10</th>   <td>    0.2731</td> <td>    0.047</td> <td>    5.830</td> <td> 0.000</td> <td>    0.181</td> <td>    0.365</td>\n",
       "</tr>\n",
       "<tr>\n",
       "  <th>x11</th>   <td>    0.0047</td> <td>    0.002</td> <td>    2.691</td> <td> 0.007</td> <td>    0.001</td> <td>    0.008</td>\n",
       "</tr>\n",
       "<tr>\n",
       "  <th>x12</th>   <td>    0.0273</td> <td>    0.003</td> <td>   10.090</td> <td> 0.000</td> <td>    0.022</td> <td>    0.033</td>\n",
       "</tr>\n",
       "<tr>\n",
       "  <th>x13</th>   <td>   -0.0004</td> <td>    0.001</td> <td>   -0.305</td> <td> 0.761</td> <td>   -0.003</td> <td>    0.002</td>\n",
       "</tr>\n",
       "<tr>\n",
       "  <th>x14</th>   <td>    0.0127</td> <td>    0.007</td> <td>    1.870</td> <td> 0.062</td> <td>   -0.001</td> <td>    0.026</td>\n",
       "</tr>\n",
       "</table>\n",
       "<table class=\"simpletable\">\n",
       "<tr>\n",
       "  <th>Omnibus:</th>       <td>2716.881</td> <th>  Durbin-Watson:     </th>  <td>   1.823</td> \n",
       "</tr>\n",
       "<tr>\n",
       "  <th>Prob(Omnibus):</th>  <td> 0.000</td>  <th>  Jarque-Bera (JB):  </th> <td>134467.937</td>\n",
       "</tr>\n",
       "<tr>\n",
       "  <th>Skew:</th>           <td> 3.160</td>  <th>  Prob(JB):          </th>  <td>    0.00</td> \n",
       "</tr>\n",
       "<tr>\n",
       "  <th>Kurtosis:</th>       <td>32.433</td>  <th>  Cond. No.          </th>  <td>    923.</td> \n",
       "</tr>\n",
       "</table><br/><br/>Warnings:<br/>[1] Standard Errors assume that the covariance matrix of the errors is correctly specified."
      ],
      "text/plain": [
       "<class 'statsmodels.iolib.summary.Summary'>\n",
       "\"\"\"\n",
       "                            OLS Regression Results                            \n",
       "==============================================================================\n",
       "Dep. Variable:                      y   R-squared:                       0.203\n",
       "Model:                            OLS   Adj. R-squared:                  0.200\n",
       "Method:                 Least Squares   F-statistic:                     64.53\n",
       "Date:                Thu, 18 Jun 2020   Prob (F-statistic):          5.58e-163\n",
       "Time:                        19:44:41   Log-Likelihood:                -11421.\n",
       "No. Observations:                3561   AIC:                         2.287e+04\n",
       "Df Residuals:                    3546   BIC:                         2.296e+04\n",
       "Df Model:                          14                                         \n",
       "Covariance Type:            nonrobust                                         \n",
       "==============================================================================\n",
       "                 coef    std err          t      P>|t|      [0.025      0.975]\n",
       "------------------------------------------------------------------------------\n",
       "const          1.6911      0.320      5.291      0.000       1.064       2.318\n",
       "x1             0.0693      0.012      5.939      0.000       0.046       0.092\n",
       "x2             0.0066      0.003      2.211      0.027       0.001       0.013\n",
       "x3            -0.0008      0.001     -0.786      0.432      -0.003       0.001\n",
       "x4             0.0010      0.001      0.742      0.458      -0.002       0.004\n",
       "x5             0.1492      0.029      5.224      0.000       0.093       0.205\n",
       "x6            -0.0113      0.004     -2.694      0.007      -0.020      -0.003\n",
       "x7             0.0238      0.008      3.097      0.002       0.009       0.039\n",
       "x8             0.0099      0.001     10.326      0.000       0.008       0.012\n",
       "x9             0.0098      0.002      4.534      0.000       0.006       0.014\n",
       "x10            0.2731      0.047      5.830      0.000       0.181       0.365\n",
       "x11            0.0047      0.002      2.691      0.007       0.001       0.008\n",
       "x12            0.0273      0.003     10.090      0.000       0.022       0.033\n",
       "x13           -0.0004      0.001     -0.305      0.761      -0.003       0.002\n",
       "x14            0.0127      0.007      1.870      0.062      -0.001       0.026\n",
       "==============================================================================\n",
       "Omnibus:                     2716.881   Durbin-Watson:                   1.823\n",
       "Prob(Omnibus):                  0.000   Jarque-Bera (JB):           134467.937\n",
       "Skew:                           3.160   Prob(JB):                         0.00\n",
       "Kurtosis:                      32.433   Cond. No.                         923.\n",
       "==============================================================================\n",
       "\n",
       "Warnings:\n",
       "[1] Standard Errors assume that the covariance matrix of the errors is correctly specified.\n",
       "\"\"\""
      ]
     },
     "execution_count": 18,
     "metadata": {},
     "output_type": "execute_result"
    }
   ],
   "source": [
    "X_opt = X[:, [0,1,2,3,4,5,6,7,8,9,10,11,12,13,14]]\n",
    "X_opt = np.array(X_opt, dtype=float)\n",
    "regressor_ols = sm.OLS(endog=y,exog=X_opt).fit()\n",
    "regressor_ols.summary()"
   ]
  },
  {
   "cell_type": "markdown",
   "metadata": {},
   "source": [
    "Removing predictor x13 (ASMA)"
   ]
  },
  {
   "cell_type": "code",
   "execution_count": 19,
   "metadata": {},
   "outputs": [
    {
     "data": {
      "text/html": [
       "<table class=\"simpletable\">\n",
       "<caption>OLS Regression Results</caption>\n",
       "<tr>\n",
       "  <th>Dep. Variable:</th>            <td>y</td>        <th>  R-squared:         </th> <td>   0.203</td> \n",
       "</tr>\n",
       "<tr>\n",
       "  <th>Model:</th>                   <td>OLS</td>       <th>  Adj. R-squared:    </th> <td>   0.200</td> \n",
       "</tr>\n",
       "<tr>\n",
       "  <th>Method:</th>             <td>Least Squares</td>  <th>  F-statistic:       </th> <td>   69.50</td> \n",
       "</tr>\n",
       "<tr>\n",
       "  <th>Date:</th>             <td>Thu, 18 Jun 2020</td> <th>  Prob (F-statistic):</th> <td>6.86e-164</td>\n",
       "</tr>\n",
       "<tr>\n",
       "  <th>Time:</th>                 <td>19:46:04</td>     <th>  Log-Likelihood:    </th> <td> -11421.</td> \n",
       "</tr>\n",
       "<tr>\n",
       "  <th>No. Observations:</th>      <td>  3561</td>      <th>  AIC:               </th> <td>2.287e+04</td>\n",
       "</tr>\n",
       "<tr>\n",
       "  <th>Df Residuals:</th>          <td>  3547</td>      <th>  BIC:               </th> <td>2.296e+04</td>\n",
       "</tr>\n",
       "<tr>\n",
       "  <th>Df Model:</th>              <td>    13</td>      <th>                     </th>     <td> </td>    \n",
       "</tr>\n",
       "<tr>\n",
       "  <th>Covariance Type:</th>      <td>nonrobust</td>    <th>                     </th>     <td> </td>    \n",
       "</tr>\n",
       "</table>\n",
       "<table class=\"simpletable\">\n",
       "<tr>\n",
       "    <td></td>       <th>coef</th>     <th>std err</th>      <th>t</th>      <th>P>|t|</th>  <th>[0.025</th>    <th>0.975]</th>  \n",
       "</tr>\n",
       "<tr>\n",
       "  <th>const</th> <td>    1.6838</td> <td>    0.319</td> <td>    5.284</td> <td> 0.000</td> <td>    1.059</td> <td>    2.309</td>\n",
       "</tr>\n",
       "<tr>\n",
       "  <th>x1</th>    <td>    0.0693</td> <td>    0.012</td> <td>    5.939</td> <td> 0.000</td> <td>    0.046</td> <td>    0.092</td>\n",
       "</tr>\n",
       "<tr>\n",
       "  <th>x2</th>    <td>    0.0067</td> <td>    0.003</td> <td>    2.239</td> <td> 0.025</td> <td>    0.001</td> <td>    0.013</td>\n",
       "</tr>\n",
       "<tr>\n",
       "  <th>x3</th>    <td>   -0.0009</td> <td>    0.001</td> <td>   -0.926</td> <td> 0.355</td> <td>   -0.003</td> <td>    0.001</td>\n",
       "</tr>\n",
       "<tr>\n",
       "  <th>x4</th>    <td>    0.0009</td> <td>    0.001</td> <td>    0.680</td> <td> 0.497</td> <td>   -0.002</td> <td>    0.003</td>\n",
       "</tr>\n",
       "<tr>\n",
       "  <th>x5</th>    <td>    0.1497</td> <td>    0.029</td> <td>    5.248</td> <td> 0.000</td> <td>    0.094</td> <td>    0.206</td>\n",
       "</tr>\n",
       "<tr>\n",
       "  <th>x6</th>    <td>   -0.0112</td> <td>    0.004</td> <td>   -2.685</td> <td> 0.007</td> <td>   -0.019</td> <td>   -0.003</td>\n",
       "</tr>\n",
       "<tr>\n",
       "  <th>x7</th>    <td>    0.0236</td> <td>    0.008</td> <td>    3.084</td> <td> 0.002</td> <td>    0.009</td> <td>    0.039</td>\n",
       "</tr>\n",
       "<tr>\n",
       "  <th>x8</th>    <td>    0.0099</td> <td>    0.001</td> <td>   10.373</td> <td> 0.000</td> <td>    0.008</td> <td>    0.012</td>\n",
       "</tr>\n",
       "<tr>\n",
       "  <th>x9</th>    <td>    0.0098</td> <td>    0.002</td> <td>    4.549</td> <td> 0.000</td> <td>    0.006</td> <td>    0.014</td>\n",
       "</tr>\n",
       "<tr>\n",
       "  <th>x10</th>   <td>    0.2725</td> <td>    0.047</td> <td>    5.823</td> <td> 0.000</td> <td>    0.181</td> <td>    0.364</td>\n",
       "</tr>\n",
       "<tr>\n",
       "  <th>x11</th>   <td>    0.0047</td> <td>    0.002</td> <td>    2.682</td> <td> 0.007</td> <td>    0.001</td> <td>    0.008</td>\n",
       "</tr>\n",
       "<tr>\n",
       "  <th>x12</th>   <td>    0.0274</td> <td>    0.003</td> <td>   10.219</td> <td> 0.000</td> <td>    0.022</td> <td>    0.033</td>\n",
       "</tr>\n",
       "<tr>\n",
       "  <th>x13</th>   <td>    0.0126</td> <td>    0.007</td> <td>    1.855</td> <td> 0.064</td> <td>   -0.001</td> <td>    0.026</td>\n",
       "</tr>\n",
       "</table>\n",
       "<table class=\"simpletable\">\n",
       "<tr>\n",
       "  <th>Omnibus:</th>       <td>2716.906</td> <th>  Durbin-Watson:     </th>  <td>   1.823</td> \n",
       "</tr>\n",
       "<tr>\n",
       "  <th>Prob(Omnibus):</th>  <td> 0.000</td>  <th>  Jarque-Bera (JB):  </th> <td>134647.142</td>\n",
       "</tr>\n",
       "<tr>\n",
       "  <th>Skew:</th>           <td> 3.160</td>  <th>  Prob(JB):          </th>  <td>    0.00</td> \n",
       "</tr>\n",
       "<tr>\n",
       "  <th>Kurtosis:</th>       <td>32.454</td>  <th>  Cond. No.          </th>  <td>    891.</td> \n",
       "</tr>\n",
       "</table><br/><br/>Warnings:<br/>[1] Standard Errors assume that the covariance matrix of the errors is correctly specified."
      ],
      "text/plain": [
       "<class 'statsmodels.iolib.summary.Summary'>\n",
       "\"\"\"\n",
       "                            OLS Regression Results                            \n",
       "==============================================================================\n",
       "Dep. Variable:                      y   R-squared:                       0.203\n",
       "Model:                            OLS   Adj. R-squared:                  0.200\n",
       "Method:                 Least Squares   F-statistic:                     69.50\n",
       "Date:                Thu, 18 Jun 2020   Prob (F-statistic):          6.86e-164\n",
       "Time:                        19:46:04   Log-Likelihood:                -11421.\n",
       "No. Observations:                3561   AIC:                         2.287e+04\n",
       "Df Residuals:                    3547   BIC:                         2.296e+04\n",
       "Df Model:                          13                                         \n",
       "Covariance Type:            nonrobust                                         \n",
       "==============================================================================\n",
       "                 coef    std err          t      P>|t|      [0.025      0.975]\n",
       "------------------------------------------------------------------------------\n",
       "const          1.6838      0.319      5.284      0.000       1.059       2.309\n",
       "x1             0.0693      0.012      5.939      0.000       0.046       0.092\n",
       "x2             0.0067      0.003      2.239      0.025       0.001       0.013\n",
       "x3            -0.0009      0.001     -0.926      0.355      -0.003       0.001\n",
       "x4             0.0009      0.001      0.680      0.497      -0.002       0.003\n",
       "x5             0.1497      0.029      5.248      0.000       0.094       0.206\n",
       "x6            -0.0112      0.004     -2.685      0.007      -0.019      -0.003\n",
       "x7             0.0236      0.008      3.084      0.002       0.009       0.039\n",
       "x8             0.0099      0.001     10.373      0.000       0.008       0.012\n",
       "x9             0.0098      0.002      4.549      0.000       0.006       0.014\n",
       "x10            0.2725      0.047      5.823      0.000       0.181       0.364\n",
       "x11            0.0047      0.002      2.682      0.007       0.001       0.008\n",
       "x12            0.0274      0.003     10.219      0.000       0.022       0.033\n",
       "x13            0.0126      0.007      1.855      0.064      -0.001       0.026\n",
       "==============================================================================\n",
       "Omnibus:                     2716.906   Durbin-Watson:                   1.823\n",
       "Prob(Omnibus):                  0.000   Jarque-Bera (JB):           134647.142\n",
       "Skew:                           3.160   Prob(JB):                         0.00\n",
       "Kurtosis:                      32.454   Cond. No.                         891.\n",
       "==============================================================================\n",
       "\n",
       "Warnings:\n",
       "[1] Standard Errors assume that the covariance matrix of the errors is correctly specified.\n",
       "\"\"\""
      ]
     },
     "execution_count": 19,
     "metadata": {},
     "output_type": "execute_result"
    }
   ],
   "source": [
    "X_opt = X[:, [0,1,2,3,4,5,6,7,8,9,10,11,12,14]]\n",
    "X_opt = np.array(X_opt, dtype=float)\n",
    "regressor_ols = sm.OLS(endog=y,exog=X_opt).fit()\n",
    "regressor_ols.summary()"
   ]
  },
  {
   "cell_type": "markdown",
   "metadata": {},
   "source": [
    "Removing predictor x4 (HIPERTENSAO_ESSECIAL)"
   ]
  },
  {
   "cell_type": "code",
   "execution_count": 20,
   "metadata": {},
   "outputs": [
    {
     "data": {
      "text/html": [
       "<table class=\"simpletable\">\n",
       "<caption>OLS Regression Results</caption>\n",
       "<tr>\n",
       "  <th>Dep. Variable:</th>            <td>y</td>        <th>  R-squared:         </th> <td>   0.203</td> \n",
       "</tr>\n",
       "<tr>\n",
       "  <th>Model:</th>                   <td>OLS</td>       <th>  Adj. R-squared:    </th> <td>   0.200</td> \n",
       "</tr>\n",
       "<tr>\n",
       "  <th>Method:</th>             <td>Least Squares</td>  <th>  F-statistic:       </th> <td>   75.26</td> \n",
       "</tr>\n",
       "<tr>\n",
       "  <th>Date:</th>             <td>Thu, 18 Jun 2020</td> <th>  Prob (F-statistic):</th> <td>9.72e-165</td>\n",
       "</tr>\n",
       "<tr>\n",
       "  <th>Time:</th>                 <td>19:46:16</td>     <th>  Log-Likelihood:    </th> <td> -11421.</td> \n",
       "</tr>\n",
       "<tr>\n",
       "  <th>No. Observations:</th>      <td>  3561</td>      <th>  AIC:               </th> <td>2.287e+04</td>\n",
       "</tr>\n",
       "<tr>\n",
       "  <th>Df Residuals:</th>          <td>  3548</td>      <th>  BIC:               </th> <td>2.295e+04</td>\n",
       "</tr>\n",
       "<tr>\n",
       "  <th>Df Model:</th>              <td>    12</td>      <th>                     </th>     <td> </td>    \n",
       "</tr>\n",
       "<tr>\n",
       "  <th>Covariance Type:</th>      <td>nonrobust</td>    <th>                     </th>     <td> </td>    \n",
       "</tr>\n",
       "</table>\n",
       "<table class=\"simpletable\">\n",
       "<tr>\n",
       "    <td></td>       <th>coef</th>     <th>std err</th>      <th>t</th>      <th>P>|t|</th>  <th>[0.025</th>    <th>0.975]</th>  \n",
       "</tr>\n",
       "<tr>\n",
       "  <th>const</th> <td>    1.6873</td> <td>    0.319</td> <td>    5.296</td> <td> 0.000</td> <td>    1.063</td> <td>    2.312</td>\n",
       "</tr>\n",
       "<tr>\n",
       "  <th>x1</th>    <td>    0.0692</td> <td>    0.012</td> <td>    5.934</td> <td> 0.000</td> <td>    0.046</td> <td>    0.092</td>\n",
       "</tr>\n",
       "<tr>\n",
       "  <th>x2</th>    <td>    0.0066</td> <td>    0.003</td> <td>    2.205</td> <td> 0.028</td> <td>    0.001</td> <td>    0.012</td>\n",
       "</tr>\n",
       "<tr>\n",
       "  <th>x3</th>    <td>   -0.0009</td> <td>    0.001</td> <td>   -0.964</td> <td> 0.335</td> <td>   -0.003</td> <td>    0.001</td>\n",
       "</tr>\n",
       "<tr>\n",
       "  <th>x4</th>    <td>    0.1496</td> <td>    0.029</td> <td>    5.246</td> <td> 0.000</td> <td>    0.094</td> <td>    0.206</td>\n",
       "</tr>\n",
       "<tr>\n",
       "  <th>x5</th>    <td>   -0.0109</td> <td>    0.004</td> <td>   -2.626</td> <td> 0.009</td> <td>   -0.019</td> <td>   -0.003</td>\n",
       "</tr>\n",
       "<tr>\n",
       "  <th>x6</th>    <td>    0.0241</td> <td>    0.008</td> <td>    3.162</td> <td> 0.002</td> <td>    0.009</td> <td>    0.039</td>\n",
       "</tr>\n",
       "<tr>\n",
       "  <th>x7</th>    <td>    0.0099</td> <td>    0.001</td> <td>   10.377</td> <td> 0.000</td> <td>    0.008</td> <td>    0.012</td>\n",
       "</tr>\n",
       "<tr>\n",
       "  <th>x8</th>    <td>    0.0099</td> <td>    0.002</td> <td>    4.567</td> <td> 0.000</td> <td>    0.006</td> <td>    0.014</td>\n",
       "</tr>\n",
       "<tr>\n",
       "  <th>x9</th>    <td>    0.2737</td> <td>    0.047</td> <td>    5.852</td> <td> 0.000</td> <td>    0.182</td> <td>    0.365</td>\n",
       "</tr>\n",
       "<tr>\n",
       "  <th>x10</th>   <td>    0.0052</td> <td>    0.002</td> <td>    3.269</td> <td> 0.001</td> <td>    0.002</td> <td>    0.008</td>\n",
       "</tr>\n",
       "<tr>\n",
       "  <th>x11</th>   <td>    0.0273</td> <td>    0.003</td> <td>   10.198</td> <td> 0.000</td> <td>    0.022</td> <td>    0.033</td>\n",
       "</tr>\n",
       "<tr>\n",
       "  <th>x12</th>   <td>    0.0126</td> <td>    0.007</td> <td>    1.854</td> <td> 0.064</td> <td>   -0.001</td> <td>    0.026</td>\n",
       "</tr>\n",
       "</table>\n",
       "<table class=\"simpletable\">\n",
       "<tr>\n",
       "  <th>Omnibus:</th>       <td>2717.706</td> <th>  Durbin-Watson:     </th>  <td>   1.824</td> \n",
       "</tr>\n",
       "<tr>\n",
       "  <th>Prob(Omnibus):</th>  <td> 0.000</td>  <th>  Jarque-Bera (JB):  </th> <td>135006.143</td>\n",
       "</tr>\n",
       "<tr>\n",
       "  <th>Skew:</th>           <td> 3.160</td>  <th>  Prob(JB):          </th>  <td>    0.00</td> \n",
       "</tr>\n",
       "<tr>\n",
       "  <th>Kurtosis:</th>       <td>32.495</td>  <th>  Cond. No.          </th>  <td>    874.</td> \n",
       "</tr>\n",
       "</table><br/><br/>Warnings:<br/>[1] Standard Errors assume that the covariance matrix of the errors is correctly specified."
      ],
      "text/plain": [
       "<class 'statsmodels.iolib.summary.Summary'>\n",
       "\"\"\"\n",
       "                            OLS Regression Results                            \n",
       "==============================================================================\n",
       "Dep. Variable:                      y   R-squared:                       0.203\n",
       "Model:                            OLS   Adj. R-squared:                  0.200\n",
       "Method:                 Least Squares   F-statistic:                     75.26\n",
       "Date:                Thu, 18 Jun 2020   Prob (F-statistic):          9.72e-165\n",
       "Time:                        19:46:16   Log-Likelihood:                -11421.\n",
       "No. Observations:                3561   AIC:                         2.287e+04\n",
       "Df Residuals:                    3548   BIC:                         2.295e+04\n",
       "Df Model:                          12                                         \n",
       "Covariance Type:            nonrobust                                         \n",
       "==============================================================================\n",
       "                 coef    std err          t      P>|t|      [0.025      0.975]\n",
       "------------------------------------------------------------------------------\n",
       "const          1.6873      0.319      5.296      0.000       1.063       2.312\n",
       "x1             0.0692      0.012      5.934      0.000       0.046       0.092\n",
       "x2             0.0066      0.003      2.205      0.028       0.001       0.012\n",
       "x3            -0.0009      0.001     -0.964      0.335      -0.003       0.001\n",
       "x4             0.1496      0.029      5.246      0.000       0.094       0.206\n",
       "x5            -0.0109      0.004     -2.626      0.009      -0.019      -0.003\n",
       "x6             0.0241      0.008      3.162      0.002       0.009       0.039\n",
       "x7             0.0099      0.001     10.377      0.000       0.008       0.012\n",
       "x8             0.0099      0.002      4.567      0.000       0.006       0.014\n",
       "x9             0.2737      0.047      5.852      0.000       0.182       0.365\n",
       "x10            0.0052      0.002      3.269      0.001       0.002       0.008\n",
       "x11            0.0273      0.003     10.198      0.000       0.022       0.033\n",
       "x12            0.0126      0.007      1.854      0.064      -0.001       0.026\n",
       "==============================================================================\n",
       "Omnibus:                     2717.706   Durbin-Watson:                   1.824\n",
       "Prob(Omnibus):                  0.000   Jarque-Bera (JB):           135006.143\n",
       "Skew:                           3.160   Prob(JB):                         0.00\n",
       "Kurtosis:                      32.495   Cond. No.                         874.\n",
       "==============================================================================\n",
       "\n",
       "Warnings:\n",
       "[1] Standard Errors assume that the covariance matrix of the errors is correctly specified.\n",
       "\"\"\""
      ]
     },
     "execution_count": 20,
     "metadata": {},
     "output_type": "execute_result"
    }
   ],
   "source": [
    "X_opt = X[:, [0,1,2,3,5,6,7,8,9,10,11,12,14]]\n",
    "X_opt = np.array(X_opt, dtype=float)\n",
    "regressor_ols = sm.OLS(endog=y,exog=X_opt).fit()\n",
    "regressor_ols.summary()"
   ]
  },
  {
   "cell_type": "markdown",
   "metadata": {},
   "source": [
    "Removing predictor x3 (INSUFICIENCIA_CARDIACA)"
   ]
  },
  {
   "cell_type": "code",
   "execution_count": 21,
   "metadata": {},
   "outputs": [
    {
     "data": {
      "text/html": [
       "<table class=\"simpletable\">\n",
       "<caption>OLS Regression Results</caption>\n",
       "<tr>\n",
       "  <th>Dep. Variable:</th>            <td>y</td>        <th>  R-squared:         </th> <td>   0.203</td> \n",
       "</tr>\n",
       "<tr>\n",
       "  <th>Model:</th>                   <td>OLS</td>       <th>  Adj. R-squared:    </th> <td>   0.200</td> \n",
       "</tr>\n",
       "<tr>\n",
       "  <th>Method:</th>             <td>Least Squares</td>  <th>  F-statistic:       </th> <td>   82.02</td> \n",
       "</tr>\n",
       "<tr>\n",
       "  <th>Date:</th>             <td>Thu, 18 Jun 2020</td> <th>  Prob (F-statistic):</th> <td>1.66e-165</td>\n",
       "</tr>\n",
       "<tr>\n",
       "  <th>Time:</th>                 <td>19:46:29</td>     <th>  Log-Likelihood:    </th> <td> -11421.</td> \n",
       "</tr>\n",
       "<tr>\n",
       "  <th>No. Observations:</th>      <td>  3561</td>      <th>  AIC:               </th> <td>2.287e+04</td>\n",
       "</tr>\n",
       "<tr>\n",
       "  <th>Df Residuals:</th>          <td>  3549</td>      <th>  BIC:               </th> <td>2.294e+04</td>\n",
       "</tr>\n",
       "<tr>\n",
       "  <th>Df Model:</th>              <td>    11</td>      <th>                     </th>     <td> </td>    \n",
       "</tr>\n",
       "<tr>\n",
       "  <th>Covariance Type:</th>      <td>nonrobust</td>    <th>                     </th>     <td> </td>    \n",
       "</tr>\n",
       "</table>\n",
       "<table class=\"simpletable\">\n",
       "<tr>\n",
       "    <td></td>       <th>coef</th>     <th>std err</th>      <th>t</th>      <th>P>|t|</th>  <th>[0.025</th>    <th>0.975]</th>  \n",
       "</tr>\n",
       "<tr>\n",
       "  <th>const</th> <td>    1.6870</td> <td>    0.319</td> <td>    5.295</td> <td> 0.000</td> <td>    1.062</td> <td>    2.312</td>\n",
       "</tr>\n",
       "<tr>\n",
       "  <th>x1</th>    <td>    0.0689</td> <td>    0.012</td> <td>    5.910</td> <td> 0.000</td> <td>    0.046</td> <td>    0.092</td>\n",
       "</tr>\n",
       "<tr>\n",
       "  <th>x2</th>    <td>    0.0064</td> <td>    0.003</td> <td>    2.151</td> <td> 0.032</td> <td>    0.001</td> <td>    0.012</td>\n",
       "</tr>\n",
       "<tr>\n",
       "  <th>x3</th>    <td>    0.1494</td> <td>    0.029</td> <td>    5.238</td> <td> 0.000</td> <td>    0.093</td> <td>    0.205</td>\n",
       "</tr>\n",
       "<tr>\n",
       "  <th>x4</th>    <td>   -0.0114</td> <td>    0.004</td> <td>   -2.754</td> <td> 0.006</td> <td>   -0.019</td> <td>   -0.003</td>\n",
       "</tr>\n",
       "<tr>\n",
       "  <th>x5</th>    <td>    0.0246</td> <td>    0.008</td> <td>    3.226</td> <td> 0.001</td> <td>    0.010</td> <td>    0.039</td>\n",
       "</tr>\n",
       "<tr>\n",
       "  <th>x6</th>    <td>    0.0096</td> <td>    0.001</td> <td>   10.619</td> <td> 0.000</td> <td>    0.008</td> <td>    0.011</td>\n",
       "</tr>\n",
       "<tr>\n",
       "  <th>x7</th>    <td>    0.0098</td> <td>    0.002</td> <td>    4.551</td> <td> 0.000</td> <td>    0.006</td> <td>    0.014</td>\n",
       "</tr>\n",
       "<tr>\n",
       "  <th>x8</th>    <td>    0.2741</td> <td>    0.047</td> <td>    5.861</td> <td> 0.000</td> <td>    0.182</td> <td>    0.366</td>\n",
       "</tr>\n",
       "<tr>\n",
       "  <th>x9</th>    <td>    0.0048</td> <td>    0.002</td> <td>    3.125</td> <td> 0.002</td> <td>    0.002</td> <td>    0.008</td>\n",
       "</tr>\n",
       "<tr>\n",
       "  <th>x10</th>   <td>    0.0268</td> <td>    0.003</td> <td>   10.183</td> <td> 0.000</td> <td>    0.022</td> <td>    0.032</td>\n",
       "</tr>\n",
       "<tr>\n",
       "  <th>x11</th>   <td>    0.0127</td> <td>    0.007</td> <td>    1.868</td> <td> 0.062</td> <td>   -0.001</td> <td>    0.026</td>\n",
       "</tr>\n",
       "</table>\n",
       "<table class=\"simpletable\">\n",
       "<tr>\n",
       "  <th>Omnibus:</th>       <td>2716.217</td> <th>  Durbin-Watson:     </th>  <td>   1.823</td> \n",
       "</tr>\n",
       "<tr>\n",
       "  <th>Prob(Omnibus):</th>  <td> 0.000</td>  <th>  Jarque-Bera (JB):  </th> <td>134376.143</td>\n",
       "</tr>\n",
       "<tr>\n",
       "  <th>Skew:</th>           <td> 3.159</td>  <th>  Prob(JB):          </th>  <td>    0.00</td> \n",
       "</tr>\n",
       "<tr>\n",
       "  <th>Kurtosis:</th>       <td>32.423</td>  <th>  Cond. No.          </th>  <td>    671.</td> \n",
       "</tr>\n",
       "</table><br/><br/>Warnings:<br/>[1] Standard Errors assume that the covariance matrix of the errors is correctly specified."
      ],
      "text/plain": [
       "<class 'statsmodels.iolib.summary.Summary'>\n",
       "\"\"\"\n",
       "                            OLS Regression Results                            \n",
       "==============================================================================\n",
       "Dep. Variable:                      y   R-squared:                       0.203\n",
       "Model:                            OLS   Adj. R-squared:                  0.200\n",
       "Method:                 Least Squares   F-statistic:                     82.02\n",
       "Date:                Thu, 18 Jun 2020   Prob (F-statistic):          1.66e-165\n",
       "Time:                        19:46:29   Log-Likelihood:                -11421.\n",
       "No. Observations:                3561   AIC:                         2.287e+04\n",
       "Df Residuals:                    3549   BIC:                         2.294e+04\n",
       "Df Model:                          11                                         \n",
       "Covariance Type:            nonrobust                                         \n",
       "==============================================================================\n",
       "                 coef    std err          t      P>|t|      [0.025      0.975]\n",
       "------------------------------------------------------------------------------\n",
       "const          1.6870      0.319      5.295      0.000       1.062       2.312\n",
       "x1             0.0689      0.012      5.910      0.000       0.046       0.092\n",
       "x2             0.0064      0.003      2.151      0.032       0.001       0.012\n",
       "x3             0.1494      0.029      5.238      0.000       0.093       0.205\n",
       "x4            -0.0114      0.004     -2.754      0.006      -0.019      -0.003\n",
       "x5             0.0246      0.008      3.226      0.001       0.010       0.039\n",
       "x6             0.0096      0.001     10.619      0.000       0.008       0.011\n",
       "x7             0.0098      0.002      4.551      0.000       0.006       0.014\n",
       "x8             0.2741      0.047      5.861      0.000       0.182       0.366\n",
       "x9             0.0048      0.002      3.125      0.002       0.002       0.008\n",
       "x10            0.0268      0.003     10.183      0.000       0.022       0.032\n",
       "x11            0.0127      0.007      1.868      0.062      -0.001       0.026\n",
       "==============================================================================\n",
       "Omnibus:                     2716.217   Durbin-Watson:                   1.823\n",
       "Prob(Omnibus):                  0.000   Jarque-Bera (JB):           134376.143\n",
       "Skew:                           3.159   Prob(JB):                         0.00\n",
       "Kurtosis:                      32.423   Cond. No.                         671.\n",
       "==============================================================================\n",
       "\n",
       "Warnings:\n",
       "[1] Standard Errors assume that the covariance matrix of the errors is correctly specified.\n",
       "\"\"\""
      ]
     },
     "execution_count": 21,
     "metadata": {},
     "output_type": "execute_result"
    }
   ],
   "source": [
    "X_opt = X[:, [0,1,2,5,6,7,8,9,10,11,12,14]]\n",
    "X_opt = np.array(X_opt, dtype=float)\n",
    "regressor_ols = sm.OLS(endog=y,exog=X_opt).fit()\n",
    "regressor_ols.summary()"
   ]
  },
  {
   "cell_type": "markdown",
   "metadata": {},
   "source": [
    "Removing predictor x10 (AIDS)"
   ]
  },
  {
   "cell_type": "code",
   "execution_count": 22,
   "metadata": {},
   "outputs": [
    {
     "data": {
      "text/html": [
       "<table class=\"simpletable\">\n",
       "<caption>OLS Regression Results</caption>\n",
       "<tr>\n",
       "  <th>Dep. Variable:</th>            <td>y</td>        <th>  R-squared:         </th> <td>   0.202</td> \n",
       "</tr>\n",
       "<tr>\n",
       "  <th>Model:</th>                   <td>OLS</td>       <th>  Adj. R-squared:    </th> <td>   0.200</td> \n",
       "</tr>\n",
       "<tr>\n",
       "  <th>Method:</th>             <td>Least Squares</td>  <th>  F-statistic:       </th> <td>   89.81</td> \n",
       "</tr>\n",
       "<tr>\n",
       "  <th>Date:</th>             <td>Thu, 18 Jun 2020</td> <th>  Prob (F-statistic):</th> <td>9.59e-166</td>\n",
       "</tr>\n",
       "<tr>\n",
       "  <th>Time:</th>                 <td>19:49:47</td>     <th>  Log-Likelihood:    </th> <td> -11423.</td> \n",
       "</tr>\n",
       "<tr>\n",
       "  <th>No. Observations:</th>      <td>  3561</td>      <th>  AIC:               </th> <td>2.287e+04</td>\n",
       "</tr>\n",
       "<tr>\n",
       "  <th>Df Residuals:</th>          <td>  3550</td>      <th>  BIC:               </th> <td>2.294e+04</td>\n",
       "</tr>\n",
       "<tr>\n",
       "  <th>Df Model:</th>              <td>    10</td>      <th>                     </th>     <td> </td>    \n",
       "</tr>\n",
       "<tr>\n",
       "  <th>Covariance Type:</th>      <td>nonrobust</td>    <th>                     </th>     <td> </td>    \n",
       "</tr>\n",
       "</table>\n",
       "<table class=\"simpletable\">\n",
       "<tr>\n",
       "    <td></td>       <th>coef</th>     <th>std err</th>      <th>t</th>      <th>P>|t|</th>  <th>[0.025</th>    <th>0.975]</th>  \n",
       "</tr>\n",
       "<tr>\n",
       "  <th>const</th> <td>    1.8349</td> <td>    0.309</td> <td>    5.944</td> <td> 0.000</td> <td>    1.230</td> <td>    2.440</td>\n",
       "</tr>\n",
       "<tr>\n",
       "  <th>x1</th>    <td>    0.0695</td> <td>    0.012</td> <td>    5.962</td> <td> 0.000</td> <td>    0.047</td> <td>    0.092</td>\n",
       "</tr>\n",
       "<tr>\n",
       "  <th>x2</th>    <td>    0.0065</td> <td>    0.003</td> <td>    2.185</td> <td> 0.029</td> <td>    0.001</td> <td>    0.012</td>\n",
       "</tr>\n",
       "<tr>\n",
       "  <th>x3</th>    <td>    0.1466</td> <td>    0.028</td> <td>    5.146</td> <td> 0.000</td> <td>    0.091</td> <td>    0.202</td>\n",
       "</tr>\n",
       "<tr>\n",
       "  <th>x4</th>    <td>   -0.0110</td> <td>    0.004</td> <td>   -2.659</td> <td> 0.008</td> <td>   -0.019</td> <td>   -0.003</td>\n",
       "</tr>\n",
       "<tr>\n",
       "  <th>x5</th>    <td>    0.0246</td> <td>    0.008</td> <td>    3.234</td> <td> 0.001</td> <td>    0.010</td> <td>    0.040</td>\n",
       "</tr>\n",
       "<tr>\n",
       "  <th>x6</th>    <td>    0.0095</td> <td>    0.001</td> <td>   10.562</td> <td> 0.000</td> <td>    0.008</td> <td>    0.011</td>\n",
       "</tr>\n",
       "<tr>\n",
       "  <th>x7</th>    <td>    0.0098</td> <td>    0.002</td> <td>    4.523</td> <td> 0.000</td> <td>    0.006</td> <td>    0.014</td>\n",
       "</tr>\n",
       "<tr>\n",
       "  <th>x8</th>    <td>    0.2683</td> <td>    0.047</td> <td>    5.747</td> <td> 0.000</td> <td>    0.177</td> <td>    0.360</td>\n",
       "</tr>\n",
       "<tr>\n",
       "  <th>x9</th>    <td>    0.0047</td> <td>    0.002</td> <td>    3.067</td> <td> 0.002</td> <td>    0.002</td> <td>    0.008</td>\n",
       "</tr>\n",
       "<tr>\n",
       "  <th>x10</th>   <td>    0.0275</td> <td>    0.003</td> <td>   10.514</td> <td> 0.000</td> <td>    0.022</td> <td>    0.033</td>\n",
       "</tr>\n",
       "</table>\n",
       "<table class=\"simpletable\">\n",
       "<tr>\n",
       "  <th>Omnibus:</th>       <td>2721.934</td> <th>  Durbin-Watson:     </th>  <td>   1.817</td> \n",
       "</tr>\n",
       "<tr>\n",
       "  <th>Prob(Omnibus):</th>  <td> 0.000</td>  <th>  Jarque-Bera (JB):  </th> <td>135926.981</td>\n",
       "</tr>\n",
       "<tr>\n",
       "  <th>Skew:</th>           <td> 3.166</td>  <th>  Prob(JB):          </th>  <td>    0.00</td> \n",
       "</tr>\n",
       "<tr>\n",
       "  <th>Kurtosis:</th>       <td>32.597</td>  <th>  Cond. No.          </th>  <td>    649.</td> \n",
       "</tr>\n",
       "</table><br/><br/>Warnings:<br/>[1] Standard Errors assume that the covariance matrix of the errors is correctly specified."
      ],
      "text/plain": [
       "<class 'statsmodels.iolib.summary.Summary'>\n",
       "\"\"\"\n",
       "                            OLS Regression Results                            \n",
       "==============================================================================\n",
       "Dep. Variable:                      y   R-squared:                       0.202\n",
       "Model:                            OLS   Adj. R-squared:                  0.200\n",
       "Method:                 Least Squares   F-statistic:                     89.81\n",
       "Date:                Thu, 18 Jun 2020   Prob (F-statistic):          9.59e-166\n",
       "Time:                        19:49:47   Log-Likelihood:                -11423.\n",
       "No. Observations:                3561   AIC:                         2.287e+04\n",
       "Df Residuals:                    3550   BIC:                         2.294e+04\n",
       "Df Model:                          10                                         \n",
       "Covariance Type:            nonrobust                                         \n",
       "==============================================================================\n",
       "                 coef    std err          t      P>|t|      [0.025      0.975]\n",
       "------------------------------------------------------------------------------\n",
       "const          1.8349      0.309      5.944      0.000       1.230       2.440\n",
       "x1             0.0695      0.012      5.962      0.000       0.047       0.092\n",
       "x2             0.0065      0.003      2.185      0.029       0.001       0.012\n",
       "x3             0.1466      0.028      5.146      0.000       0.091       0.202\n",
       "x4            -0.0110      0.004     -2.659      0.008      -0.019      -0.003\n",
       "x5             0.0246      0.008      3.234      0.001       0.010       0.040\n",
       "x6             0.0095      0.001     10.562      0.000       0.008       0.011\n",
       "x7             0.0098      0.002      4.523      0.000       0.006       0.014\n",
       "x8             0.2683      0.047      5.747      0.000       0.177       0.360\n",
       "x9             0.0047      0.002      3.067      0.002       0.002       0.008\n",
       "x10            0.0275      0.003     10.514      0.000       0.022       0.033\n",
       "==============================================================================\n",
       "Omnibus:                     2721.934   Durbin-Watson:                   1.817\n",
       "Prob(Omnibus):                  0.000   Jarque-Bera (JB):           135926.981\n",
       "Skew:                           3.166   Prob(JB):                         0.00\n",
       "Kurtosis:                      32.597   Cond. No.                         649.\n",
       "==============================================================================\n",
       "\n",
       "Warnings:\n",
       "[1] Standard Errors assume that the covariance matrix of the errors is correctly specified.\n",
       "\"\"\""
      ]
     },
     "execution_count": 22,
     "metadata": {},
     "output_type": "execute_result"
    }
   ],
   "source": [
    "X_opt = X[:, [0,1,2,5,6,7,8,9,10,11,12]]\n",
    "X_opt = np.array(X_opt, dtype=float)\n",
    "regressor_ols = sm.OLS(endog=y,exog=X_opt).fit()\n",
    "regressor_ols.summary()"
   ]
  },
  {
   "cell_type": "code",
   "execution_count": 23,
   "metadata": {},
   "outputs": [
    {
     "name": "stdout",
     "output_type": "stream",
     "text": [
      "Disease list: ['OSTEOPOROSE', 'INSUFICIENCIA_RENAL', 'ESCLEROSE_MULTIPLA', 'EPILEPSIA', 'ENXAQUECA', 'DPOC', 'DORSOPATIAS', 'DOENCA_DE_PARKINSON', 'DIABETES_MELLITUS', 'CANCER']\n"
     ]
    }
   ],
   "source": [
    "chosen = list(map(lambda x: x-1, [1,2,5,6,7,8,9,10,11,12]))\n",
    "values = df.columns.values\n",
    "chosen_values = [values[i] for i in chosen]\n",
    "print(\"Disease list: \" + str(chosen_values))"
   ]
  },
  {
   "cell_type": "code",
   "execution_count": 34,
   "metadata": {},
   "outputs": [
    {
     "data": {
      "text/html": [
       "<div>\n",
       "<style scoped>\n",
       "    .dataframe tbody tr th:only-of-type {\n",
       "        vertical-align: middle;\n",
       "    }\n",
       "\n",
       "    .dataframe tbody tr th {\n",
       "        vertical-align: top;\n",
       "    }\n",
       "\n",
       "    .dataframe thead th {\n",
       "        text-align: right;\n",
       "    }\n",
       "</style>\n",
       "<table border=\"1\" class=\"dataframe\">\n",
       "  <thead>\n",
       "    <tr style=\"text-align: right;\">\n",
       "      <th></th>\n",
       "      <th>0</th>\n",
       "      <th>1</th>\n",
       "      <th>2</th>\n",
       "      <th>3</th>\n",
       "      <th>4</th>\n",
       "      <th>5</th>\n",
       "      <th>6</th>\n",
       "      <th>7</th>\n",
       "      <th>8</th>\n",
       "      <th>9</th>\n",
       "      <th>10</th>\n",
       "      <th>11</th>\n",
       "      <th>12</th>\n",
       "      <th>13</th>\n",
       "    </tr>\n",
       "  </thead>\n",
       "  <tbody>\n",
       "    <tr>\n",
       "      <td>0</td>\n",
       "      <td>9.532888</td>\n",
       "      <td>19.065777</td>\n",
       "      <td>28.598665</td>\n",
       "      <td>266.920877</td>\n",
       "      <td>4.193402</td>\n",
       "      <td>38.131554</td>\n",
       "      <td>9.532888</td>\n",
       "      <td>28.598665</td>\n",
       "      <td>190.657769</td>\n",
       "      <td>3.235451</td>\n",
       "      <td>95.328885</td>\n",
       "      <td>28.598665</td>\n",
       "      <td>343.183985</td>\n",
       "      <td>28.598665</td>\n",
       "    </tr>\n",
       "    <tr>\n",
       "      <td>1</td>\n",
       "      <td>15.330369</td>\n",
       "      <td>26.828147</td>\n",
       "      <td>406.254791</td>\n",
       "      <td>46.769637</td>\n",
       "      <td>3.832592</td>\n",
       "      <td>3.832592</td>\n",
       "      <td>9.851766</td>\n",
       "      <td>141.805918</td>\n",
       "      <td>38.325924</td>\n",
       "      <td>3.832592</td>\n",
       "      <td>168.634064</td>\n",
       "      <td>130.308140</td>\n",
       "      <td>65.154070</td>\n",
       "      <td>11.497777</td>\n",
       "    </tr>\n",
       "    <tr>\n",
       "      <td>2</td>\n",
       "      <td>78.371023</td>\n",
       "      <td>105.444649</td>\n",
       "      <td>253.637128</td>\n",
       "      <td>4.274783</td>\n",
       "      <td>2.849855</td>\n",
       "      <td>34.198264</td>\n",
       "      <td>9.851766</td>\n",
       "      <td>286.410465</td>\n",
       "      <td>1.424928</td>\n",
       "      <td>4.274783</td>\n",
       "      <td>49.872469</td>\n",
       "      <td>190.940310</td>\n",
       "      <td>68.396529</td>\n",
       "      <td>14.660371</td>\n",
       "    </tr>\n",
       "    <tr>\n",
       "      <td>3</td>\n",
       "      <td>38.679108</td>\n",
       "      <td>35.455849</td>\n",
       "      <td>214.346726</td>\n",
       "      <td>4.834889</td>\n",
       "      <td>2.417444</td>\n",
       "      <td>136.182694</td>\n",
       "      <td>35.455849</td>\n",
       "      <td>146.658286</td>\n",
       "      <td>11.281407</td>\n",
       "      <td>0.805815</td>\n",
       "      <td>28.203517</td>\n",
       "      <td>97.503586</td>\n",
       "      <td>38.679108</td>\n",
       "      <td>8.863962</td>\n",
       "    </tr>\n",
       "    <tr>\n",
       "      <td>4</td>\n",
       "      <td>4.093244</td>\n",
       "      <td>34.792575</td>\n",
       "      <td>141.216921</td>\n",
       "      <td>472.769694</td>\n",
       "      <td>4.193402</td>\n",
       "      <td>65.491906</td>\n",
       "      <td>2.046622</td>\n",
       "      <td>306.993308</td>\n",
       "      <td>2.046622</td>\n",
       "      <td>3.235451</td>\n",
       "      <td>221.035181</td>\n",
       "      <td>69.585150</td>\n",
       "      <td>235.361536</td>\n",
       "      <td>14.660371</td>\n",
       "    </tr>\n",
       "    <tr>\n",
       "      <td>...</td>\n",
       "      <td>...</td>\n",
       "      <td>...</td>\n",
       "      <td>...</td>\n",
       "      <td>...</td>\n",
       "      <td>...</td>\n",
       "      <td>...</td>\n",
       "      <td>...</td>\n",
       "      <td>...</td>\n",
       "      <td>...</td>\n",
       "      <td>...</td>\n",
       "      <td>...</td>\n",
       "      <td>...</td>\n",
       "      <td>...</td>\n",
       "      <td>...</td>\n",
       "    </tr>\n",
       "    <tr>\n",
       "      <td>1775</td>\n",
       "      <td>7.370826</td>\n",
       "      <td>51.595784</td>\n",
       "      <td>147.416525</td>\n",
       "      <td>36.854131</td>\n",
       "      <td>4.193402</td>\n",
       "      <td>51.595784</td>\n",
       "      <td>9.851766</td>\n",
       "      <td>493.845360</td>\n",
       "      <td>14.741653</td>\n",
       "      <td>7.370826</td>\n",
       "      <td>103.191568</td>\n",
       "      <td>154.787352</td>\n",
       "      <td>51.595784</td>\n",
       "      <td>14.660371</td>\n",
       "    </tr>\n",
       "    <tr>\n",
       "      <td>1776</td>\n",
       "      <td>23.841454</td>\n",
       "      <td>46.192818</td>\n",
       "      <td>132.618090</td>\n",
       "      <td>22.351363</td>\n",
       "      <td>4.193402</td>\n",
       "      <td>25.331545</td>\n",
       "      <td>7.450454</td>\n",
       "      <td>137.088362</td>\n",
       "      <td>22.351363</td>\n",
       "      <td>3.235451</td>\n",
       "      <td>47.682909</td>\n",
       "      <td>108.776635</td>\n",
       "      <td>34.272091</td>\n",
       "      <td>28.311727</td>\n",
       "    </tr>\n",
       "    <tr>\n",
       "      <td>1777</td>\n",
       "      <td>8.130691</td>\n",
       "      <td>39.402582</td>\n",
       "      <td>48.575670</td>\n",
       "      <td>5.420461</td>\n",
       "      <td>0.416959</td>\n",
       "      <td>22.724240</td>\n",
       "      <td>4.169585</td>\n",
       "      <td>12.091798</td>\n",
       "      <td>10.423963</td>\n",
       "      <td>0.416959</td>\n",
       "      <td>45.656960</td>\n",
       "      <td>99.861570</td>\n",
       "      <td>51.494379</td>\n",
       "      <td>13.551152</td>\n",
       "    </tr>\n",
       "    <tr>\n",
       "      <td>1778</td>\n",
       "      <td>9.948599</td>\n",
       "      <td>96.169789</td>\n",
       "      <td>86.221191</td>\n",
       "      <td>23.213397</td>\n",
       "      <td>4.193402</td>\n",
       "      <td>3.316200</td>\n",
       "      <td>3.316200</td>\n",
       "      <td>9.948599</td>\n",
       "      <td>17.681135</td>\n",
       "      <td>3.235451</td>\n",
       "      <td>29.845797</td>\n",
       "      <td>43.110595</td>\n",
       "      <td>6.632399</td>\n",
       "      <td>16.580998</td>\n",
       "    </tr>\n",
       "    <tr>\n",
       "      <td>1779</td>\n",
       "      <td>3.824531</td>\n",
       "      <td>99.437794</td>\n",
       "      <td>198.875588</td>\n",
       "      <td>9.561326</td>\n",
       "      <td>4.193402</td>\n",
       "      <td>59.280223</td>\n",
       "      <td>15.298122</td>\n",
       "      <td>38.245305</td>\n",
       "      <td>32.508510</td>\n",
       "      <td>3.824531</td>\n",
       "      <td>95.613263</td>\n",
       "      <td>137.683099</td>\n",
       "      <td>19.122653</td>\n",
       "      <td>14.660371</td>\n",
       "    </tr>\n",
       "  </tbody>\n",
       "</table>\n",
       "<p>1780 rows × 14 columns</p>\n",
       "</div>"
      ],
      "text/plain": [
       "              0           1           2           3         4           5  \\\n",
       "0      9.532888   19.065777   28.598665  266.920877  4.193402   38.131554   \n",
       "1     15.330369   26.828147  406.254791   46.769637  3.832592    3.832592   \n",
       "2     78.371023  105.444649  253.637128    4.274783  2.849855   34.198264   \n",
       "3     38.679108   35.455849  214.346726    4.834889  2.417444  136.182694   \n",
       "4      4.093244   34.792575  141.216921  472.769694  4.193402   65.491906   \n",
       "...         ...         ...         ...         ...       ...         ...   \n",
       "1775   7.370826   51.595784  147.416525   36.854131  4.193402   51.595784   \n",
       "1776  23.841454   46.192818  132.618090   22.351363  4.193402   25.331545   \n",
       "1777   8.130691   39.402582   48.575670    5.420461  0.416959   22.724240   \n",
       "1778   9.948599   96.169789   86.221191   23.213397  4.193402    3.316200   \n",
       "1779   3.824531   99.437794  198.875588    9.561326  4.193402   59.280223   \n",
       "\n",
       "              6           7           8         9          10          11  \\\n",
       "0      9.532888   28.598665  190.657769  3.235451   95.328885   28.598665   \n",
       "1      9.851766  141.805918   38.325924  3.832592  168.634064  130.308140   \n",
       "2      9.851766  286.410465    1.424928  4.274783   49.872469  190.940310   \n",
       "3     35.455849  146.658286   11.281407  0.805815   28.203517   97.503586   \n",
       "4      2.046622  306.993308    2.046622  3.235451  221.035181   69.585150   \n",
       "...         ...         ...         ...       ...         ...         ...   \n",
       "1775   9.851766  493.845360   14.741653  7.370826  103.191568  154.787352   \n",
       "1776   7.450454  137.088362   22.351363  3.235451   47.682909  108.776635   \n",
       "1777   4.169585   12.091798   10.423963  0.416959   45.656960   99.861570   \n",
       "1778   3.316200    9.948599   17.681135  3.235451   29.845797   43.110595   \n",
       "1779  15.298122   38.245305   32.508510  3.824531   95.613263  137.683099   \n",
       "\n",
       "              12         13  \n",
       "0     343.183985  28.598665  \n",
       "1      65.154070  11.497777  \n",
       "2      68.396529  14.660371  \n",
       "3      38.679108   8.863962  \n",
       "4     235.361536  14.660371  \n",
       "...          ...        ...  \n",
       "1775   51.595784  14.660371  \n",
       "1776   34.272091  28.311727  \n",
       "1777   51.494379  13.551152  \n",
       "1778    6.632399  16.580998  \n",
       "1779   19.122653  14.660371  \n",
       "\n",
       "[1780 rows x 14 columns]"
      ]
     },
     "execution_count": 34,
     "metadata": {},
     "output_type": "execute_result"
    }
   ],
   "source": [
    "pd.DataFrame(X_train)"
   ]
  },
  {
   "cell_type": "markdown",
   "metadata": {},
   "source": [
    "Using only the significant fields:"
   ]
  },
  {
   "cell_type": "code",
   "execution_count": 41,
   "metadata": {},
   "outputs": [
    {
     "name": "stdout",
     "output_type": "stream",
     "text": [
      "Mean Absolute Error: 4.048831360464352\n",
      "Mean Squared Error: 39.54833687171769\n",
      "Root Mean Squared Error: 6.288746844301946\n"
     ]
    }
   ],
   "source": [
    "X = df.iloc[:, [1,2,5,6,7,8,9,10,11,12]].values\n",
    "imputer = imputer.fit(X)\n",
    "X = imputer.transform(X)\n",
    "y = df.iloc[:, -1].values\n",
    "\n",
    "X_train, X_test, y_train, y_test = train_test_split(X, y, test_size=0.5, random_state=0)\n",
    "\n",
    "regressor.fit(X_train, y_train)\n",
    "y_pred = regressor.predict(X_test)\n",
    "print('Mean Absolute Error:', metrics.mean_absolute_error(y_test, y_pred))  \n",
    "print('Mean Squared Error:', metrics.mean_squared_error(y_test, y_pred))  \n",
    "print('Root Mean Squared Error:', np.sqrt(metrics.mean_squared_error(y_test, y_pred)))"
   ]
  },
  {
   "cell_type": "markdown",
   "metadata": {},
   "source": [
    "Correlation Matrix"
   ]
  },
  {
   "cell_type": "code",
   "execution_count": 3,
   "metadata": {
    "scrolled": true
   },
   "outputs": [
    {
     "data": {
      "text/plain": [
       "<matplotlib.axes._subplots.AxesSubplot at 0x16b9bbcbd88>"
      ]
     },
     "execution_count": 3,
     "metadata": {},
     "output_type": "execute_result"
    },
    {
     "data": {
      "image/png": "[encoded data removed]",
      "text/plain": [
       "<Figure size 864x648 with 2 Axes>"
      ]
     },
     "metadata": {
      "needs_background": "light"
     },
     "output_type": "display_data"
    }
   ],
   "source": [
    "plt.figure(figsize=(12, 9))\n",
    "matrix = np.triu(df.corr())\n",
    "sns.heatmap(df.corr(), annot = True,fmt='.1g', cmap= 'coolwarm', mask=matrix)"
   ]
  },
  {
   "cell_type": "markdown",
   "metadata": {},
   "source": [
    "Recursive Feature Elimination"
   ]
  },
  {
   "cell_type": "code",
   "execution_count": 12,
   "metadata": {},
   "outputs": [
    {
     "data": {
      "text/plain": [
       "RFECV(cv=None,\n",
       "      estimator=LinearRegression(copy_X=True, fit_intercept=True, n_jobs=None,\n",
       "                                 normalize=False),\n",
       "      min_features_to_select=1, n_jobs=None, scoring=None, step=1, verbose=0)"
      ]
     },
     "execution_count": 12,
     "metadata": {},
     "output_type": "execute_result"
    }
   ],
   "source": [
    "from sklearn.model_selection import StratifiedKFold\n",
    "from sklearn.feature_selection import RFECV\n",
    "from sklearn.linear_model import LinearRegression\n",
    "X = df.drop('RATE', axis=1)\n",
    "y = df['RATE']\n",
    "rfc = LinearRegression()\n",
    "rfecv = RFECV(estimator=rfc, step=1)\n",
    "rfecv.fit(X, y)"
   ]
  },
  {
   "cell_type": "code",
   "execution_count": 13,
   "metadata": {},
   "outputs": [
    {
     "name": "stdout",
     "output_type": "stream",
     "text": [
      "Optimal number of features: 12\n"
     ]
    }
   ],
   "source": [
    "print('Optimal number of features: {}'.format(rfecv.n_features_))"
   ]
  },
  {
   "cell_type": "code",
   "execution_count": 19,
   "metadata": {
    "scrolled": true
   },
   "outputs": [
    {
     "name": "stdout",
     "output_type": "stream",
     "text": [
      "['OSTEOPOROSE', 'INSUFICIENCIA_RENAL', 'ESCLEROSE_MULTIPLA', 'EPILEPSIA', 'ENXAQUECA', 'DPOC', 'DORSOPATIAS', 'DOENCA_DE_PARKINSON', 'DIABETES_MELLITUS', 'CANCER', 'ASMA', 'AIDS']\n"
     ]
    }
   ],
   "source": [
    "feature_importance = list(zip(df.columns,rfecv.support_))\n",
    "\n",
    "new_features = []\n",
    "for key,value in enumerate(feature_importance):\n",
    "    if(value[1]) == True:\n",
    "        new_features.append(value[0])\n",
    "        \n",
    "print(new_features)"
   ]
  }
 ],
 "metadata": {
  "kernelspec": {
   "display_name": "Python 3",
   "language": "python",
   "name": "python3"
  },
  "language_info": {
   "codemirror_mode": {
    "name": "ipython",
    "version": 3
   },
   "file_extension": ".py",
   "mimetype": "text/x-python",
   "name": "python",
   "nbconvert_exporter": "python",
   "pygments_lexer": "ipython3",
   "version": "3.7.6"
  }
 },
 "nbformat": 4,
 "nbformat_minor": 4
}
