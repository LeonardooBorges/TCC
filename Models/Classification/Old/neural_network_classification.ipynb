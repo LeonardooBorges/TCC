{
 "cells": [
  {
   "cell_type": "markdown",
   "metadata": {},
   "source": [
    "# Neural Network"
   ]
  },
  {
   "cell_type": "markdown",
   "metadata": {},
   "source": [
    "Importing the libraries\n"
   ]
  },
  {
   "cell_type": "code",
   "execution_count": 1,
   "metadata": {},
   "outputs": [],
   "source": [
    "import pandas as pd\n",
    "import matplotlib.pyplot as plt\n",
    "import glob\n",
    "import seaborn as sns\n",
    "import numpy as np\n",
    "\n",
    "pd.set_option('display.max_columns', 200)"
   ]
  },
  {
   "cell_type": "markdown",
   "metadata": {},
   "source": [
    "Creating a df with the disease rates for each city and their respective RISK value (1, if it belongs to a high risk cluster, and 0 otherwise)."
   ]
  },
  {
   "cell_type": "code",
   "execution_count": 2,
   "metadata": {},
   "outputs": [],
   "source": [
    "cities = pd.read_csv('../../SatScan/muncod_risk_2015_to_2017.csv', index_col=[0])\n",
    "\n",
    "disease = \"\"\n",
    "path = '../../TabNet/Rates/'\n",
    "all_files = glob.glob(path + \"*.csv\")\n",
    "diseases_list = []\n",
    "all_diseases = cities\n",
    "for file in all_files:\n",
    "    file_name = file.split(\"\\\\\")[1]\n",
    "    disease = file_name.split(\"_RATE\")[0]\n",
    "    disease_df = pd.read_csv(path + disease + '_RATE_15_17.csv', sep=',', index_col=0)\n",
    "    disease_df = disease_df[[\"RATE\", \"MUNCOD\"]]\n",
    "    disease_df.rename(columns={\"RATE\": disease}, inplace=True)\n",
    "\n",
    "    all_diseases = pd.merge(disease_df, all_diseases, left_on=\"MUNCOD\", right_on=\"MUNCOD\", how=\"outer\")\n",
    "df = all_diseases.drop('MUNCOD', 1)\n",
    "df = df.drop('TRAUMATISMO_INTRACRANIANO', 1) # We remove Traumatismo Intracraniano (low p-value on Spearman test)\n",
    "df = df.fillna(0)"
   ]
  },
  {
   "cell_type": "markdown",
   "metadata": {},
   "source": [
    "Selecting X (independent variables) and y (dependent binary variable)."
   ]
  },
  {
   "cell_type": "code",
   "execution_count": 3,
   "metadata": {},
   "outputs": [],
   "source": [
    "X = df.iloc[:, 0:14].values\n",
    "y = df.iloc[:, -1].values"
   ]
  },
  {
   "cell_type": "markdown",
   "metadata": {},
   "source": [
    "Splitting the dataset into the Training set and Test set"
   ]
  },
  {
   "cell_type": "code",
   "execution_count": 13,
   "metadata": {},
   "outputs": [],
   "source": [
    "from sklearn.model_selection import train_test_split\n",
    "X_train, X_test, y_train, y_test = train_test_split(X, y, test_size=0.25, random_state=0)"
   ]
  },
  {
   "cell_type": "markdown",
   "metadata": {},
   "source": [
    "Feature Scaling"
   ]
  },
  {
   "cell_type": "code",
   "execution_count": 14,
   "metadata": {},
   "outputs": [],
   "source": [
    "from sklearn.preprocessing import StandardScaler\n",
    "sc = StandardScaler()\n",
    "X_train = sc.fit_transform(X_train)\n",
    "X_test = sc.transform(X_test)"
   ]
  },
  {
   "cell_type": "markdown",
   "metadata": {},
   "source": [
    "Importing the Keras libraries and packages"
   ]
  },
  {
   "cell_type": "code",
   "execution_count": 15,
   "metadata": {},
   "outputs": [],
   "source": [
    "import keras\n",
    "from keras.models import Sequential\n",
    "from keras.layers import Dense"
   ]
  },
  {
   "cell_type": "markdown",
   "metadata": {},
   "source": [
    "Initialising the ANN"
   ]
  },
  {
   "cell_type": "code",
   "execution_count": 16,
   "metadata": {},
   "outputs": [
    {
     "name": "stdout",
     "output_type": "stream",
     "text": [
      "Epoch 1/100\n",
      "6852/6852 [==============================] - 0s 68us/step - loss: 0.6823 - accuracy: 0.6305\n",
      "Epoch 2/100\n",
      "6852/6852 [==============================] - 0s 30us/step - loss: 0.5973 - accuracy: 0.7223\n",
      "Epoch 3/100\n",
      "6852/6852 [==============================] - 0s 26us/step - loss: 0.5475 - accuracy: 0.7239\n",
      "Epoch 4/100\n",
      "6852/6852 [==============================] - 0s 28us/step - loss: 0.5383 - accuracy: 0.7271\n",
      "Epoch 5/100\n",
      "6852/6852 [==============================] - 0s 27us/step - loss: 0.5353 - accuracy: 0.7296\n",
      "Epoch 6/100\n",
      "6852/6852 [==============================] - 0s 28us/step - loss: 0.5339 - accuracy: 0.7313\n",
      "Epoch 7/100\n",
      "6852/6852 [==============================] - 0s 27us/step - loss: 0.5334 - accuracy: 0.7312\n",
      "Epoch 8/100\n",
      "6852/6852 [==============================] - 0s 27us/step - loss: 0.5325 - accuracy: 0.7319\n",
      "Epoch 9/100\n",
      "6852/6852 [==============================] - 0s 27us/step - loss: 0.5321 - accuracy: 0.7323\n",
      "Epoch 10/100\n",
      "6852/6852 [==============================] - 0s 28us/step - loss: 0.5316 - accuracy: 0.7320\n",
      "Epoch 11/100\n",
      "6852/6852 [==============================] - 0s 27us/step - loss: 0.5316 - accuracy: 0.7334\n",
      "Epoch 12/100\n",
      "6852/6852 [==============================] - 0s 29us/step - loss: 0.5312 - accuracy: 0.7328\n",
      "Epoch 13/100\n",
      "6852/6852 [==============================] - 0s 29us/step - loss: 0.5310 - accuracy: 0.7318\n",
      "Epoch 14/100\n",
      "6852/6852 [==============================] - 0s 31us/step - loss: 0.5308 - accuracy: 0.7328\n",
      "Epoch 15/100\n",
      "6852/6852 [==============================] - 0s 29us/step - loss: 0.5304 - accuracy: 0.7334\n",
      "Epoch 16/100\n",
      "6852/6852 [==============================] - 0s 28us/step - loss: 0.5304 - accuracy: 0.7338\n",
      "Epoch 17/100\n",
      "6852/6852 [==============================] - 0s 30us/step - loss: 0.5301 - accuracy: 0.7338\n",
      "Epoch 18/100\n",
      "6852/6852 [==============================] - 0s 28us/step - loss: 0.5299 - accuracy: 0.7320\n",
      "Epoch 19/100\n",
      "6852/6852 [==============================] - 0s 28us/step - loss: 0.5298 - accuracy: 0.7331\n",
      "Epoch 20/100\n",
      "6852/6852 [==============================] - 0s 33us/step - loss: 0.5295 - accuracy: 0.7338\n",
      "Epoch 21/100\n",
      "6852/6852 [==============================] - 0s 32us/step - loss: 0.5292 - accuracy: 0.7332\n",
      "Epoch 22/100\n",
      "6852/6852 [==============================] - 0s 32us/step - loss: 0.5292 - accuracy: 0.7331\n",
      "Epoch 23/100\n",
      "6852/6852 [==============================] - 0s 27us/step - loss: 0.5288 - accuracy: 0.7344\n",
      "Epoch 24/100\n",
      "6852/6852 [==============================] - 0s 29us/step - loss: 0.5285 - accuracy: 0.7347\n",
      "Epoch 25/100\n",
      "6852/6852 [==============================] - 0s 34us/step - loss: 0.5286 - accuracy: 0.7356\n",
      "Epoch 26/100\n",
      "6852/6852 [==============================] - 0s 30us/step - loss: 0.5284 - accuracy: 0.7345\n",
      "Epoch 27/100\n",
      "6852/6852 [==============================] - 0s 28us/step - loss: 0.5281 - accuracy: 0.7353\n",
      "Epoch 28/100\n",
      "6852/6852 [==============================] - 0s 29us/step - loss: 0.5279 - accuracy: 0.7364\n",
      "Epoch 29/100\n",
      "6852/6852 [==============================] - 0s 28us/step - loss: 0.5276 - accuracy: 0.7360\n",
      "Epoch 30/100\n",
      "6852/6852 [==============================] - 0s 37us/step - loss: 0.5273 - accuracy: 0.7354\n",
      "Epoch 31/100\n",
      "6852/6852 [==============================] - 0s 28us/step - loss: 0.5272 - accuracy: 0.7376\n",
      "Epoch 32/100\n",
      "6852/6852 [==============================] - 0s 32us/step - loss: 0.5269 - accuracy: 0.7367\n",
      "Epoch 33/100\n",
      "6852/6852 [==============================] - 0s 27us/step - loss: 0.5266 - accuracy: 0.7370\n",
      "Epoch 34/100\n",
      "6852/6852 [==============================] - 0s 27us/step - loss: 0.5264 - accuracy: 0.7372\n",
      "Epoch 35/100\n",
      "6852/6852 [==============================] - 0s 28us/step - loss: 0.5268 - accuracy: 0.7377\n",
      "Epoch 36/100\n",
      "6852/6852 [==============================] - 0s 31us/step - loss: 0.5263 - accuracy: 0.7361\n",
      "Epoch 37/100\n",
      "6852/6852 [==============================] - 0s 27us/step - loss: 0.5260 - accuracy: 0.7379\n",
      "Epoch 38/100\n",
      "6852/6852 [==============================] - 0s 26us/step - loss: 0.5256 - accuracy: 0.7367\n",
      "Epoch 39/100\n",
      "6852/6852 [==============================] - 0s 26us/step - loss: 0.5253 - accuracy: 0.7376\n",
      "Epoch 40/100\n",
      "6852/6852 [==============================] - 0s 28us/step - loss: 0.5253 - accuracy: 0.7376\n",
      "Epoch 41/100\n",
      "6852/6852 [==============================] - 0s 26us/step - loss: 0.5249 - accuracy: 0.7383\n",
      "Epoch 42/100\n",
      "6852/6852 [==============================] - 0s 26us/step - loss: 0.5247 - accuracy: 0.7382\n",
      "Epoch 43/100\n",
      "6852/6852 [==============================] - 0s 32us/step - loss: 0.5244 - accuracy: 0.7379\n",
      "Epoch 44/100\n",
      "6852/6852 [==============================] - 0s 33us/step - loss: 0.5241 - accuracy: 0.7389\n",
      "Epoch 45/100\n",
      "6852/6852 [==============================] - 0s 32us/step - loss: 0.5239 - accuracy: 0.7395\n",
      "Epoch 46/100\n",
      "6852/6852 [==============================] - 0s 33us/step - loss: 0.5235 - accuracy: 0.7395\n",
      "Epoch 47/100\n",
      "6852/6852 [==============================] - 0s 27us/step - loss: 0.5231 - accuracy: 0.7401\n",
      "Epoch 48/100\n",
      "6852/6852 [==============================] - 0s 30us/step - loss: 0.5230 - accuracy: 0.7398\n",
      "Epoch 49/100\n",
      "6852/6852 [==============================] - 0s 30us/step - loss: 0.5223 - accuracy: 0.7404\n",
      "Epoch 50/100\n",
      "6852/6852 [==============================] - 0s 31us/step - loss: 0.5221 - accuracy: 0.7414\n",
      "Epoch 51/100\n",
      "6852/6852 [==============================] - 0s 31us/step - loss: 0.5217 - accuracy: 0.7402\n",
      "Epoch 52/100\n",
      "6852/6852 [==============================] - 0s 28us/step - loss: 0.5216 - accuracy: 0.7431\n",
      "Epoch 53/100\n",
      "6852/6852 [==============================] - 0s 29us/step - loss: 0.5211 - accuracy: 0.7423\n",
      "Epoch 54/100\n",
      "6852/6852 [==============================] - 0s 34us/step - loss: 0.5208 - accuracy: 0.7420\n",
      "Epoch 55/100\n",
      "6852/6852 [==============================] - 0s 33us/step - loss: 0.5207 - accuracy: 0.7445\n",
      "Epoch 56/100\n",
      "6852/6852 [==============================] - 0s 36us/step - loss: 0.5202 - accuracy: 0.7440 0s - loss: 0.5181 - accuracy: \n",
      "Epoch 57/100\n",
      "6852/6852 [==============================] - 0s 37us/step - loss: 0.5205 - accuracy: 0.7430\n",
      "Epoch 58/100\n",
      "6852/6852 [==============================] - 0s 31us/step - loss: 0.5200 - accuracy: 0.7427\n",
      "Epoch 59/100\n",
      "6852/6852 [==============================] - 0s 35us/step - loss: 0.5199 - accuracy: 0.7431\n",
      "Epoch 60/100\n",
      "6852/6852 [==============================] - 0s 32us/step - loss: 0.5196 - accuracy: 0.7445\n",
      "Epoch 61/100\n",
      "6852/6852 [==============================] - 0s 35us/step - loss: 0.5194 - accuracy: 0.7445\n",
      "Epoch 62/100\n",
      "6852/6852 [==============================] - 0s 31us/step - loss: 0.5193 - accuracy: 0.7439\n",
      "Epoch 63/100\n",
      "6852/6852 [==============================] - 0s 34us/step - loss: 0.5192 - accuracy: 0.7458 0s - loss: 0.5192 - accuracy: 0.\n",
      "Epoch 64/100\n",
      "6852/6852 [==============================] - 0s 34us/step - loss: 0.5189 - accuracy: 0.7449\n",
      "Epoch 65/100\n",
      "6852/6852 [==============================] - 0s 36us/step - loss: 0.5190 - accuracy: 0.7459\n",
      "Epoch 66/100\n",
      "6852/6852 [==============================] - 0s 35us/step - loss: 0.5187 - accuracy: 0.7461\n",
      "Epoch 67/100\n",
      "6852/6852 [==============================] - 0s 36us/step - loss: 0.5184 - accuracy: 0.7464\n",
      "Epoch 68/100\n",
      "6852/6852 [==============================] - 0s 34us/step - loss: 0.5182 - accuracy: 0.7462\n",
      "Epoch 69/100\n",
      "6852/6852 [==============================] - 0s 32us/step - loss: 0.5186 - accuracy: 0.7455 0s - loss: 0.5205 - accuracy: 0.\n",
      "Epoch 70/100\n",
      "6852/6852 [==============================] - 0s 35us/step - loss: 0.5182 - accuracy: 0.7450\n",
      "Epoch 71/100\n",
      "6852/6852 [==============================] - 0s 33us/step - loss: 0.5182 - accuracy: 0.7440\n",
      "Epoch 72/100\n",
      "6852/6852 [==============================] - 0s 35us/step - loss: 0.5178 - accuracy: 0.7468\n",
      "Epoch 73/100\n",
      "6852/6852 [==============================] - 0s 32us/step - loss: 0.5181 - accuracy: 0.7442\n",
      "Epoch 74/100\n",
      "6852/6852 [==============================] - 0s 36us/step - loss: 0.5178 - accuracy: 0.7461\n",
      "Epoch 75/100\n",
      "6852/6852 [==============================] - 0s 32us/step - loss: 0.5177 - accuracy: 0.7471\n",
      "Epoch 76/100\n",
      "6852/6852 [==============================] - 0s 32us/step - loss: 0.5175 - accuracy: 0.7447\n",
      "Epoch 77/100\n",
      "6852/6852 [==============================] - 0s 28us/step - loss: 0.5175 - accuracy: 0.7446\n",
      "Epoch 78/100\n"
     ]
    },
    {
     "name": "stdout",
     "output_type": "stream",
     "text": [
      "6852/6852 [==============================] - 0s 30us/step - loss: 0.5172 - accuracy: 0.7462\n",
      "Epoch 79/100\n",
      "6852/6852 [==============================] - 0s 28us/step - loss: 0.5172 - accuracy: 0.7445\n",
      "Epoch 80/100\n",
      "6852/6852 [==============================] - 0s 25us/step - loss: 0.5171 - accuracy: 0.7468\n",
      "Epoch 81/100\n",
      "6852/6852 [==============================] - 0s 29us/step - loss: 0.5168 - accuracy: 0.7477\n",
      "Epoch 82/100\n",
      "6852/6852 [==============================] - 0s 27us/step - loss: 0.5167 - accuracy: 0.7461\n",
      "Epoch 83/100\n",
      "6852/6852 [==============================] - 0s 31us/step - loss: 0.5166 - accuracy: 0.7450\n",
      "Epoch 84/100\n",
      "6852/6852 [==============================] - 0s 29us/step - loss: 0.5168 - accuracy: 0.7458\n",
      "Epoch 85/100\n",
      "6852/6852 [==============================] - 0s 34us/step - loss: 0.5165 - accuracy: 0.7465\n",
      "Epoch 86/100\n",
      "6852/6852 [==============================] - 0s 34us/step - loss: 0.5165 - accuracy: 0.7462\n",
      "Epoch 87/100\n",
      "6852/6852 [==============================] - 0s 28us/step - loss: 0.5162 - accuracy: 0.7464\n",
      "Epoch 88/100\n",
      "6852/6852 [==============================] - 0s 27us/step - loss: 0.5161 - accuracy: 0.7462\n",
      "Epoch 89/100\n",
      "6852/6852 [==============================] - 0s 30us/step - loss: 0.5161 - accuracy: 0.7452\n",
      "Epoch 90/100\n",
      "6852/6852 [==============================] - 0s 28us/step - loss: 0.5158 - accuracy: 0.7456\n",
      "Epoch 91/100\n",
      "6852/6852 [==============================] - 0s 33us/step - loss: 0.5160 - accuracy: 0.7456\n",
      "Epoch 92/100\n",
      "6852/6852 [==============================] - 0s 28us/step - loss: 0.5155 - accuracy: 0.7450\n",
      "Epoch 93/100\n",
      "6852/6852 [==============================] - 0s 29us/step - loss: 0.5156 - accuracy: 0.7458\n",
      "Epoch 94/100\n",
      "6852/6852 [==============================] - 0s 27us/step - loss: 0.5160 - accuracy: 0.7465\n",
      "Epoch 95/100\n",
      "6852/6852 [==============================] - 0s 32us/step - loss: 0.5156 - accuracy: 0.7462\n",
      "Epoch 96/100\n",
      "6852/6852 [==============================] - 0s 33us/step - loss: 0.5155 - accuracy: 0.7453\n",
      "Epoch 97/100\n",
      "6852/6852 [==============================] - 0s 28us/step - loss: 0.5153 - accuracy: 0.7461\n",
      "Epoch 98/100\n",
      "6852/6852 [==============================] - 0s 29us/step - loss: 0.5155 - accuracy: 0.7465\n",
      "Epoch 99/100\n",
      "6852/6852 [==============================] - 0s 31us/step - loss: 0.5152 - accuracy: 0.7455\n",
      "Epoch 100/100\n",
      "6852/6852 [==============================] - 0s 30us/step - loss: 0.5146 - accuracy: 0.7462\n"
     ]
    },
    {
     "data": {
      "text/plain": [
       "<keras.callbacks.callbacks.History at 0x1b10f4fc948>"
      ]
     },
     "execution_count": 16,
     "metadata": {},
     "output_type": "execute_result"
    }
   ],
   "source": [
    "classifier = Sequential()\n",
    "\n",
    "# Adding the input layer and the first hidden layer\n",
    "classifier.add(Dense(units = 6, kernel_initializer = 'uniform', activation = 'relu', input_dim = 14))\n",
    "\n",
    "# Adding the second hidden layer\n",
    "classifier.add(Dense(units = 6, kernel_initializer = 'uniform', activation = 'relu'))\n",
    "\n",
    "# Adding the output layer\n",
    "classifier.add(Dense(units = 1, kernel_initializer = 'uniform', activation = 'sigmoid'))\n",
    "\n",
    "# Compiling the ANN\n",
    "classifier.compile(optimizer = 'adam', loss = 'binary_crossentropy', metrics = ['accuracy'])\n",
    "\n",
    "# Fitting the ANN to the Training set\n",
    "classifier.fit(X_train, y_train, batch_size = 50, epochs = 100)"
   ]
  },
  {
   "cell_type": "markdown",
   "metadata": {},
   "source": [
    "Predicting the Test set results"
   ]
  },
  {
   "cell_type": "code",
   "execution_count": 17,
   "metadata": {},
   "outputs": [],
   "source": [
    "y_pred = classifier.predict(X_test)\n",
    "y_pred = (y_pred > 0.5)"
   ]
  },
  {
   "cell_type": "markdown",
   "metadata": {},
   "source": [
    "Making the Confusion Matrix"
   ]
  },
  {
   "cell_type": "code",
   "execution_count": 18,
   "metadata": {},
   "outputs": [
    {
     "data": {
      "text/plain": [
       "array([[993, 213],\n",
       "       [345, 734]], dtype=int64)"
      ]
     },
     "execution_count": 18,
     "metadata": {},
     "output_type": "execute_result"
    }
   ],
   "source": [
    "from sklearn.metrics import confusion_matrix\n",
    "cm = confusion_matrix(y_test, y_pred)\n",
    "cm"
   ]
  },
  {
   "cell_type": "code",
   "execution_count": 19,
   "metadata": {
    "scrolled": true
   },
   "outputs": [
    {
     "name": "stdout",
     "output_type": "stream",
     "text": [
      "Precision: 0.7750791974656811\n",
      "Recall: 0.680259499536608\n"
     ]
    }
   ],
   "source": [
    "from sklearn import metrics\n",
    "print(\"Precision:\",metrics.precision_score(y_test, y_pred))\n",
    "print(\"Recall:\",metrics.recall_score(y_test, y_pred))"
   ]
  },
  {
   "cell_type": "markdown",
   "metadata": {},
   "source": [
    "# Desmembrando a média"
   ]
  },
  {
   "cell_type": "code",
   "execution_count": 2,
   "metadata": {},
   "outputs": [],
   "source": [
    "cities = pd.read_csv('../../SatScan/muncod_risk_2015_to_2017.csv', index_col=[0])\n",
    "\n",
    "df1 = pd.read_csv('../../TabNet/complete_rates_2015.csv', index_col=[0])\n",
    "df2 = pd.read_csv('../../TabNet/complete_rates_2016.csv', index_col=[0])\n",
    "df3 = pd.read_csv('../../TabNet/complete_rates_2017.csv', index_col=[0])\n",
    "frames = [df1, df2, df3]\n",
    "df = pd.concat(frames)\n",
    "df = pd.merge(df, cities, left_on=\"MUNCOD\", right_on=\"MUNCOD\")\n",
    "df = df.drop('RATE', 1)\n",
    "df = df.drop('MUNCOD', 1)"
   ]
  },
  {
   "cell_type": "markdown",
   "metadata": {},
   "source": [
    "## Strategy 1: don't remove anything"
   ]
  },
  {
   "cell_type": "markdown",
   "metadata": {
    "pycharm": {
     "name": "#%% md\n"
    }
   },
   "source": [
    "Selecting X (independent variables) and y (dependent binary variable)."
   ]
  },
  {
   "cell_type": "code",
   "execution_count": 3,
   "metadata": {
    "pycharm": {
     "name": "#%%\n"
    }
   },
   "outputs": [],
   "source": [
    "X = df.iloc[:, 0:14].values\n",
    "y = df.iloc[:, -1].values"
   ]
  },
  {
   "cell_type": "markdown",
   "metadata": {},
   "source": [
    "## Strategy 2: imput values"
   ]
  },
  {
   "cell_type": "code",
   "execution_count": 12,
   "metadata": {},
   "outputs": [],
   "source": [
    "from sklearn.impute import SimpleImputer\n",
    "import numpy as np\n",
    "\n",
    "df.loc[:, df.columns != 'RISK'] = df.loc[:, df.columns != 'RISK'].replace(0, np.nan)\n",
    "X = df.iloc[:, 0:14].values\n",
    "y = df.iloc[:, -1].values\n",
    "\n",
    "imputer = SimpleImputer(missing_values = np.nan, strategy = 'mean')\n",
    "imputer = imputer.fit(X)\n",
    "X = imputer.transform(X)"
   ]
  },
  {
   "cell_type": "markdown",
   "metadata": {},
   "source": [
    "Precision: 0.7570239334027055\n",
    "Recall: 0.6680440771349863"
   ]
  },
  {
   "cell_type": "markdown",
   "metadata": {},
   "source": [
    "## Strategy 3: remove columns + fill null\n",
    "Remove columns where there are less than N non-null items\n",
    "Fill null items with 0"
   ]
  },
  {
   "cell_type": "code",
   "execution_count": 126,
   "metadata": {
    "scrolled": false
   },
   "outputs": [],
   "source": [
    "import numpy as np\n",
    "N = 12\n",
    "df.loc[:, df.columns != 'RISK'] = df.loc[:, df.columns != 'RISK'].replace(0, np.nan)\n",
    "df = df.dropna(thresh=N) # At least N non null items\n",
    "df = df.fillna(0)\n",
    "\n",
    "X = df.iloc[:, 0:14].values\n",
    "y = df.iloc[:, -1].values"
   ]
  },
  {
   "cell_type": "markdown",
   "metadata": {},
   "source": [
    "## Strategy 4: remove columns + imput values"
   ]
  },
  {
   "cell_type": "code",
   "execution_count": 134,
   "metadata": {},
   "outputs": [],
   "source": [
    "import numpy as np\n",
    "from sklearn.impute import SimpleImputer\n",
    "N = 12\n",
    "df.loc[:, df.columns != 'RISK'] = df.loc[:, df.columns != 'RISK'].replace(0, np.nan)\n",
    "df = df.dropna(thresh=N) # At least N non null items\n",
    "\n",
    "X = df.iloc[:, 0:14].values\n",
    "y = df.iloc[:, -1].values\n",
    "\n",
    "imputer = SimpleImputer(missing_values = np.nan, strategy = 'mean')\n",
    "imputer = imputer.fit(X)\n",
    "X = imputer.transform(X)"
   ]
  }
 ],
 "metadata": {
  "kernelspec": {
   "display_name": "Python 3",
   "language": "python",
   "name": "python3"
  },
  "language_info": {
   "codemirror_mode": {
    "name": "ipython",
    "version": 3
   },
   "file_extension": ".py",
   "mimetype": "text/x-python",
   "name": "python",
   "nbconvert_exporter": "python",
   "pygments_lexer": "ipython3",
   "version": "3.7.6"
  }
 },
 "nbformat": 4,
 "nbformat_minor": 4
}
