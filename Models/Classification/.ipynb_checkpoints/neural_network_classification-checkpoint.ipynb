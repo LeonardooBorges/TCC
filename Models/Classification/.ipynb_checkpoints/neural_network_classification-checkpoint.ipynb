{
 "cells": [
  {
   "cell_type": "markdown",
   "metadata": {},
   "source": [
    "# Neural Network"
   ]
  },
  {
   "cell_type": "markdown",
   "metadata": {},
   "source": [
    "Importing the libraries\n"
   ]
  },
  {
   "cell_type": "code",
   "execution_count": 1,
   "metadata": {},
   "outputs": [],
   "source": [
    "import pandas as pd\n",
    "import matplotlib.pyplot as plt\n",
    "import glob\n",
    "import seaborn as sns\n",
    "import numpy as np\n",
    "\n",
    "pd.set_option('display.max_columns', 200)"
   ]
  },
  {
   "cell_type": "markdown",
   "metadata": {},
   "source": [
    "Creating a df with the disease rates for each city and their respective RISK value (1, if it belongs to a high risk cluster, and 0 otherwise)."
   ]
  },
  {
   "cell_type": "code",
   "execution_count": 2,
   "metadata": {},
   "outputs": [],
   "source": [
    "cities = pd.read_csv('../../SatScan/muncod_risk_2015_to_2017.csv', index_col=[0])\n",
    "\n",
    "disease = \"\"\n",
    "path = '../../TabNet/Rates/'\n",
    "all_files = glob.glob(path + \"*.csv\")\n",
    "diseases_list = []\n",
    "all_diseases = cities\n",
    "for file in all_files:\n",
    "    file_name = file.split(\"\\\\\")[1]\n",
    "    disease = file_name.split(\"_RATE\")[0]\n",
    "    disease_df = pd.read_csv(path + disease + '_RATE_15_17.csv', sep=',', index_col=0)\n",
    "    disease_df = disease_df[[\"RATE\", \"MUNCOD\"]]\n",
    "    disease_df.rename(columns={\"RATE\": disease}, inplace=True)\n",
    "\n",
    "    all_diseases = pd.merge(disease_df, all_diseases, left_on=\"MUNCOD\", right_on=\"MUNCOD\", how=\"outer\")\n",
    "df = all_diseases.drop('MUNCOD', 1)\n",
    "df = df.drop('TRAUMATISMO_INTRACRANIANO', 1) # We remove Traumatismo Intracraniano (low p-value on Spearman test)\n",
    "df = df.fillna(0)"
   ]
  },
  {
   "cell_type": "markdown",
   "metadata": {},
   "source": [
    "Selecting X (independent variables) and y (dependent binary variable)."
   ]
  },
  {
   "cell_type": "code",
   "execution_count": 3,
   "metadata": {},
   "outputs": [],
   "source": [
    "X = df.iloc[:, 0:14].values\n",
    "y = df.iloc[:, -1].values"
   ]
  },
  {
   "cell_type": "markdown",
   "metadata": {},
   "source": [
    "Splitting the dataset into the Training set and Test set"
   ]
  },
  {
   "cell_type": "code",
   "execution_count": 4,
   "metadata": {},
   "outputs": [],
   "source": [
    "from sklearn.model_selection import train_test_split\n",
    "X_train, X_test, y_train, y_test = train_test_split(X, y, test_size=0.25, random_state=0)"
   ]
  },
  {
   "cell_type": "markdown",
   "metadata": {},
   "source": [
    "Feature Scaling"
   ]
  },
  {
   "cell_type": "code",
   "execution_count": 5,
   "metadata": {},
   "outputs": [],
   "source": [
    "from sklearn.preprocessing import StandardScaler\n",
    "sc = StandardScaler()\n",
    "X_train = sc.fit_transform(X_train)\n",
    "X_test = sc.transform(X_test)"
   ]
  },
  {
   "cell_type": "markdown",
   "metadata": {},
   "source": [
    "Importing the Keras libraries and packages"
   ]
  },
  {
   "cell_type": "code",
   "execution_count": 6,
   "metadata": {},
   "outputs": [
    {
     "name": "stderr",
     "output_type": "stream",
     "text": [
      "Using TensorFlow backend.\n",
      "C:\\Users\\pypas\\anaconda3\\envs\\ML\\lib\\site-packages\\tensorflow\\python\\framework\\dtypes.py:526: FutureWarning: Passing (type, 1) or '1type' as a synonym of type is deprecated; in a future version of numpy, it will be understood as (type, (1,)) / '(1,)type'.\n",
      "  _np_qint8 = np.dtype([(\"qint8\", np.int8, 1)])\n",
      "C:\\Users\\pypas\\anaconda3\\envs\\ML\\lib\\site-packages\\tensorflow\\python\\framework\\dtypes.py:527: FutureWarning: Passing (type, 1) or '1type' as a synonym of type is deprecated; in a future version of numpy, it will be understood as (type, (1,)) / '(1,)type'.\n",
      "  _np_quint8 = np.dtype([(\"quint8\", np.uint8, 1)])\n",
      "C:\\Users\\pypas\\anaconda3\\envs\\ML\\lib\\site-packages\\tensorflow\\python\\framework\\dtypes.py:528: FutureWarning: Passing (type, 1) or '1type' as a synonym of type is deprecated; in a future version of numpy, it will be understood as (type, (1,)) / '(1,)type'.\n",
      "  _np_qint16 = np.dtype([(\"qint16\", np.int16, 1)])\n",
      "C:\\Users\\pypas\\anaconda3\\envs\\ML\\lib\\site-packages\\tensorflow\\python\\framework\\dtypes.py:529: FutureWarning: Passing (type, 1) or '1type' as a synonym of type is deprecated; in a future version of numpy, it will be understood as (type, (1,)) / '(1,)type'.\n",
      "  _np_quint16 = np.dtype([(\"quint16\", np.uint16, 1)])\n",
      "C:\\Users\\pypas\\anaconda3\\envs\\ML\\lib\\site-packages\\tensorflow\\python\\framework\\dtypes.py:530: FutureWarning: Passing (type, 1) or '1type' as a synonym of type is deprecated; in a future version of numpy, it will be understood as (type, (1,)) / '(1,)type'.\n",
      "  _np_qint32 = np.dtype([(\"qint32\", np.int32, 1)])\n",
      "C:\\Users\\pypas\\anaconda3\\envs\\ML\\lib\\site-packages\\tensorflow\\python\\framework\\dtypes.py:535: FutureWarning: Passing (type, 1) or '1type' as a synonym of type is deprecated; in a future version of numpy, it will be understood as (type, (1,)) / '(1,)type'.\n",
      "  np_resource = np.dtype([(\"resource\", np.ubyte, 1)])\n"
     ]
    }
   ],
   "source": [
    "import keras\n",
    "from keras.models import Sequential\n",
    "from keras.layers import Dense"
   ]
  },
  {
   "cell_type": "markdown",
   "metadata": {},
   "source": [
    "Initialising the ANN"
   ]
  },
  {
   "cell_type": "code",
   "execution_count": 8,
   "metadata": {},
   "outputs": [
    {
     "name": "stdout",
     "output_type": "stream",
     "text": [
      "Epoch 1/100\n",
      "4243/4243 [==============================] - 0s 90us/step - loss: 0.6910 - accuracy: 0.5454\n",
      "Epoch 2/100\n",
      "4243/4243 [==============================] - 0s 34us/step - loss: 0.6609 - accuracy: 0.6927\n",
      "Epoch 3/100\n",
      "4243/4243 [==============================] - 0s 35us/step - loss: 0.5869 - accuracy: 0.7294\n",
      "Epoch 4/100\n",
      "4243/4243 [==============================] - 0s 34us/step - loss: 0.5456 - accuracy: 0.7351\n",
      "Epoch 5/100\n",
      "4243/4243 [==============================] - 0s 35us/step - loss: 0.5345 - accuracy: 0.7370\n",
      "Epoch 6/100\n",
      "4243/4243 [==============================] - 0s 34us/step - loss: 0.5300 - accuracy: 0.7407\n",
      "Epoch 7/100\n",
      "4243/4243 [==============================] - 0s 35us/step - loss: 0.5273 - accuracy: 0.7462\n",
      "Epoch 8/100\n",
      "4243/4243 [==============================] - 0s 36us/step - loss: 0.5257 - accuracy: 0.7473\n",
      "Epoch 9/100\n",
      "4243/4243 [==============================] - 0s 34us/step - loss: 0.5247 - accuracy: 0.7483\n",
      "Epoch 10/100\n",
      "4243/4243 [==============================] - 0s 34us/step - loss: 0.5241 - accuracy: 0.7485\n",
      "Epoch 11/100\n",
      "4243/4243 [==============================] - 0s 35us/step - loss: 0.5233 - accuracy: 0.7497\n",
      "Epoch 12/100\n",
      "4243/4243 [==============================] - 0s 35us/step - loss: 0.5226 - accuracy: 0.7504\n",
      "Epoch 13/100\n",
      "4243/4243 [==============================] - 0s 35us/step - loss: 0.5221 - accuracy: 0.7511\n",
      "Epoch 14/100\n",
      "4243/4243 [==============================] - 0s 39us/step - loss: 0.5218 - accuracy: 0.7506\n",
      "Epoch 15/100\n",
      "4243/4243 [==============================] - 0s 40us/step - loss: 0.5212 - accuracy: 0.7516\n",
      "Epoch 16/100\n",
      "4243/4243 [==============================] - 0s 38us/step - loss: 0.5210 - accuracy: 0.7495\n",
      "Epoch 17/100\n",
      "4243/4243 [==============================] - 0s 36us/step - loss: 0.5206 - accuracy: 0.7525\n",
      "Epoch 18/100\n",
      "4243/4243 [==============================] - 0s 36us/step - loss: 0.5203 - accuracy: 0.7523\n",
      "Epoch 19/100\n",
      "4243/4243 [==============================] - 0s 34us/step - loss: 0.5197 - accuracy: 0.7504\n",
      "Epoch 20/100\n",
      "4243/4243 [==============================] - 0s 39us/step - loss: 0.5191 - accuracy: 0.7525\n",
      "Epoch 21/100\n",
      "4243/4243 [==============================] - 0s 39us/step - loss: 0.5189 - accuracy: 0.7530\n",
      "Epoch 22/100\n",
      "4243/4243 [==============================] - 0s 35us/step - loss: 0.5185 - accuracy: 0.7528\n",
      "Epoch 23/100\n",
      "4243/4243 [==============================] - 0s 38us/step - loss: 0.5181 - accuracy: 0.7544\n",
      "Epoch 24/100\n",
      "4243/4243 [==============================] - 0s 38us/step - loss: 0.5175 - accuracy: 0.7521\n",
      "Epoch 25/100\n",
      "4243/4243 [==============================] - 0s 38us/step - loss: 0.5171 - accuracy: 0.7523\n",
      "Epoch 26/100\n",
      "4243/4243 [==============================] - 0s 40us/step - loss: 0.5169 - accuracy: 0.7532\n",
      "Epoch 27/100\n",
      "4243/4243 [==============================] - 0s 38us/step - loss: 0.5162 - accuracy: 0.7528\n",
      "Epoch 28/100\n",
      "4243/4243 [==============================] - 0s 34us/step - loss: 0.5158 - accuracy: 0.7532\n",
      "Epoch 29/100\n",
      "4243/4243 [==============================] - 0s 34us/step - loss: 0.5154 - accuracy: 0.7537\n",
      "Epoch 30/100\n",
      "4243/4243 [==============================] - 0s 38us/step - loss: 0.5149 - accuracy: 0.7525\n",
      "Epoch 31/100\n",
      "4243/4243 [==============================] - 0s 33us/step - loss: 0.5146 - accuracy: 0.7535\n",
      "Epoch 32/100\n",
      "4243/4243 [==============================] - 0s 40us/step - loss: 0.5144 - accuracy: 0.7549\n",
      "Epoch 33/100\n",
      "4243/4243 [==============================] - 0s 38us/step - loss: 0.5138 - accuracy: 0.7554\n",
      "Epoch 34/100\n",
      "4243/4243 [==============================] - 0s 35us/step - loss: 0.5134 - accuracy: 0.7532\n",
      "Epoch 35/100\n",
      "4243/4243 [==============================] - 0s 33us/step - loss: 0.5130 - accuracy: 0.7539\n",
      "Epoch 36/100\n",
      "4243/4243 [==============================] - 0s 35us/step - loss: 0.5125 - accuracy: 0.7544\n",
      "Epoch 37/100\n",
      "4243/4243 [==============================] - 0s 39us/step - loss: 0.5122 - accuracy: 0.7537\n",
      "Epoch 38/100\n",
      "4243/4243 [==============================] - 0s 39us/step - loss: 0.5123 - accuracy: 0.7532\n",
      "Epoch 39/100\n",
      "4243/4243 [==============================] - 0s 36us/step - loss: 0.5117 - accuracy: 0.7542\n",
      "Epoch 40/100\n",
      "4243/4243 [==============================] - 0s 35us/step - loss: 0.5115 - accuracy: 0.7530\n",
      "Epoch 41/100\n",
      "4243/4243 [==============================] - 0s 35us/step - loss: 0.5111 - accuracy: 0.7544\n",
      "Epoch 42/100\n",
      "4243/4243 [==============================] - 0s 34us/step - loss: 0.5106 - accuracy: 0.7547\n",
      "Epoch 43/100\n",
      "4243/4243 [==============================] - 0s 35us/step - loss: 0.5105 - accuracy: 0.7556\n",
      "Epoch 44/100\n",
      "4243/4243 [==============================] - 0s 34us/step - loss: 0.5102 - accuracy: 0.7547\n",
      "Epoch 45/100\n",
      "4243/4243 [==============================] - 0s 40us/step - loss: 0.5098 - accuracy: 0.7551\n",
      "Epoch 46/100\n",
      "4243/4243 [==============================] - 0s 42us/step - loss: 0.5095 - accuracy: 0.7544\n",
      "Epoch 47/100\n",
      "4243/4243 [==============================] - ETA: 0s - loss: 0.5064 - accuracy: 0.75 - 0s 42us/step - loss: 0.5093 - accuracy: 0.7532\n",
      "Epoch 48/100\n",
      "4243/4243 [==============================] - 0s 43us/step - loss: 0.5089 - accuracy: 0.7539\n",
      "Epoch 49/100\n",
      "4243/4243 [==============================] - 0s 37us/step - loss: 0.5088 - accuracy: 0.7561\n",
      "Epoch 50/100\n",
      "4243/4243 [==============================] - 0s 39us/step - loss: 0.5088 - accuracy: 0.7544\n",
      "Epoch 51/100\n",
      "4243/4243 [==============================] - 0s 39us/step - loss: 0.5083 - accuracy: 0.7547\n",
      "Epoch 52/100\n",
      "4243/4243 [==============================] - 0s 42us/step - loss: 0.5083 - accuracy: 0.7558\n",
      "Epoch 53/100\n",
      "4243/4243 [==============================] - 0s 36us/step - loss: 0.5079 - accuracy: 0.7575\n",
      "Epoch 54/100\n",
      "4243/4243 [==============================] - 0s 35us/step - loss: 0.5078 - accuracy: 0.7561\n",
      "Epoch 55/100\n",
      "4243/4243 [==============================] - 0s 35us/step - loss: 0.5074 - accuracy: 0.7561\n",
      "Epoch 56/100\n",
      "4243/4243 [==============================] - 0s 33us/step - loss: 0.5073 - accuracy: 0.7565\n",
      "Epoch 57/100\n",
      "4243/4243 [==============================] - 0s 34us/step - loss: 0.5072 - accuracy: 0.7568\n",
      "Epoch 58/100\n",
      "4243/4243 [==============================] - 0s 34us/step - loss: 0.5069 - accuracy: 0.7565\n",
      "Epoch 59/100\n",
      "4243/4243 [==============================] - 0s 35us/step - loss: 0.5069 - accuracy: 0.7591\n",
      "Epoch 60/100\n",
      "4243/4243 [==============================] - 0s 34us/step - loss: 0.5067 - accuracy: 0.7598\n",
      "Epoch 61/100\n",
      "4243/4243 [==============================] - 0s 35us/step - loss: 0.5063 - accuracy: 0.7582\n",
      "Epoch 62/100\n",
      "4243/4243 [==============================] - 0s 42us/step - loss: 0.5063 - accuracy: 0.7570\n",
      "Epoch 63/100\n",
      "4243/4243 [==============================] - 0s 39us/step - loss: 0.5062 - accuracy: 0.7594\n",
      "Epoch 64/100\n",
      "4243/4243 [==============================] - 0s 39us/step - loss: 0.5060 - accuracy: 0.7580\n",
      "Epoch 65/100\n",
      "4243/4243 [==============================] - 0s 34us/step - loss: 0.5059 - accuracy: 0.7572\n",
      "Epoch 66/100\n",
      "4243/4243 [==============================] - 0s 35us/step - loss: 0.5056 - accuracy: 0.7584\n",
      "Epoch 67/100\n",
      "4243/4243 [==============================] - 0s 35us/step - loss: 0.5054 - accuracy: 0.7598\n",
      "Epoch 68/100\n",
      "4243/4243 [==============================] - 0s 35us/step - loss: 0.5055 - accuracy: 0.7587\n",
      "Epoch 69/100\n",
      "4243/4243 [==============================] - 0s 36us/step - loss: 0.5049 - accuracy: 0.7563\n",
      "Epoch 70/100\n",
      "4243/4243 [==============================] - 0s 39us/step - loss: 0.5053 - accuracy: 0.7587\n",
      "Epoch 71/100\n",
      "4243/4243 [==============================] - 0s 34us/step - loss: 0.5048 - accuracy: 0.7598\n",
      "Epoch 72/100\n",
      "4243/4243 [==============================] - 0s 36us/step - loss: 0.5047 - accuracy: 0.7584\n",
      "Epoch 73/100\n",
      "4243/4243 [==============================] - 0s 39us/step - loss: 0.5045 - accuracy: 0.7587\n",
      "Epoch 74/100\n",
      "4243/4243 [==============================] - 0s 35us/step - loss: 0.5042 - accuracy: 0.7596\n",
      "Epoch 75/100\n",
      "4243/4243 [==============================] - 0s 39us/step - loss: 0.5041 - accuracy: 0.7596\n",
      "Epoch 76/100\n",
      "4243/4243 [==============================] - 0s 40us/step - loss: 0.5038 - accuracy: 0.7589\n",
      "Epoch 77/100\n",
      "4243/4243 [==============================] - 0s 35us/step - loss: 0.5036 - accuracy: 0.7594\n",
      "Epoch 78/100\n"
     ]
    },
    {
     "name": "stdout",
     "output_type": "stream",
     "text": [
      "4243/4243 [==============================] - 0s 39us/step - loss: 0.5037 - accuracy: 0.7587\n",
      "Epoch 79/100\n",
      "4243/4243 [==============================] - 0s 39us/step - loss: 0.5030 - accuracy: 0.7589\n",
      "Epoch 80/100\n",
      "4243/4243 [==============================] - 0s 35us/step - loss: 0.5032 - accuracy: 0.7589\n",
      "Epoch 81/100\n",
      "4243/4243 [==============================] - 0s 36us/step - loss: 0.5032 - accuracy: 0.7608\n",
      "Epoch 82/100\n",
      "4243/4243 [==============================] - 0s 39us/step - loss: 0.5029 - accuracy: 0.7589\n",
      "Epoch 83/100\n",
      "4243/4243 [==============================] - 0s 38us/step - loss: 0.5026 - accuracy: 0.7617\n",
      "Epoch 84/100\n",
      "4243/4243 [==============================] - 0s 38us/step - loss: 0.5026 - accuracy: 0.7627\n",
      "Epoch 85/100\n",
      "4243/4243 [==============================] - 0s 33us/step - loss: 0.5019 - accuracy: 0.7596\n",
      "Epoch 86/100\n",
      "4243/4243 [==============================] - 0s 34us/step - loss: 0.5019 - accuracy: 0.7601\n",
      "Epoch 87/100\n",
      "4243/4243 [==============================] - 0s 39us/step - loss: 0.5016 - accuracy: 0.7603\n",
      "Epoch 88/100\n",
      "4243/4243 [==============================] - 0s 38us/step - loss: 0.5018 - accuracy: 0.7598\n",
      "Epoch 89/100\n",
      "4243/4243 [==============================] - 0s 33us/step - loss: 0.5014 - accuracy: 0.7613\n",
      "Epoch 90/100\n",
      "4243/4243 [==============================] - 0s 34us/step - loss: 0.5010 - accuracy: 0.7613\n",
      "Epoch 91/100\n",
      "4243/4243 [==============================] - 0s 34us/step - loss: 0.5008 - accuracy: 0.7598\n",
      "Epoch 92/100\n",
      "4243/4243 [==============================] - 0s 36us/step - loss: 0.5007 - accuracy: 0.7613\n",
      "Epoch 93/100\n",
      "4243/4243 [==============================] - 0s 34us/step - loss: 0.5006 - accuracy: 0.7601\n",
      "Epoch 94/100\n",
      "4243/4243 [==============================] - 0s 35us/step - loss: 0.5006 - accuracy: 0.7610\n",
      "Epoch 95/100\n",
      "4243/4243 [==============================] - 0s 35us/step - loss: 0.5003 - accuracy: 0.7598\n",
      "Epoch 96/100\n",
      "4243/4243 [==============================] - 0s 38us/step - loss: 0.5005 - accuracy: 0.7577\n",
      "Epoch 97/100\n",
      "4243/4243 [==============================] - 0s 38us/step - loss: 0.4998 - accuracy: 0.7598\n",
      "Epoch 98/100\n",
      "4243/4243 [==============================] - 0s 33us/step - loss: 0.4997 - accuracy: 0.7603\n",
      "Epoch 99/100\n",
      "4243/4243 [==============================] - 0s 34us/step - loss: 0.4996 - accuracy: 0.7613\n",
      "Epoch 100/100\n",
      "4243/4243 [==============================] - 0s 36us/step - loss: 0.4995 - accuracy: 0.7610\n"
     ]
    },
    {
     "data": {
      "text/plain": [
       "<keras.callbacks.callbacks.History at 0x1a932dfa6c8>"
      ]
     },
     "execution_count": 8,
     "metadata": {},
     "output_type": "execute_result"
    }
   ],
   "source": [
    "classifier = Sequential()\n",
    "\n",
    "# Adding the input layer and the first hidden layer\n",
    "classifier.add(Dense(units = 6, kernel_initializer = 'uniform', activation = 'relu', input_dim = 14))\n",
    "\n",
    "# Adding the second hidden layer\n",
    "classifier.add(Dense(units = 6, kernel_initializer = 'uniform', activation = 'relu'))\n",
    "\n",
    "# Adding the output layer\n",
    "classifier.add(Dense(units = 1, kernel_initializer = 'uniform', activation = 'sigmoid'))\n",
    "\n",
    "# Compiling the ANN\n",
    "classifier.compile(optimizer = 'adam', loss = 'binary_crossentropy', metrics = ['accuracy'])\n",
    "\n",
    "# Fitting the ANN to the Training set\n",
    "classifier.fit(X_train, y_train, batch_size = 50, epochs = 100)"
   ]
  },
  {
   "cell_type": "markdown",
   "metadata": {},
   "source": [
    "Predicting the Test set results"
   ]
  },
  {
   "cell_type": "code",
   "execution_count": 9,
   "metadata": {},
   "outputs": [],
   "source": [
    "y_pred = classifier.predict(X_test)\n",
    "y_pred = (y_pred > 0.5)"
   ]
  },
  {
   "cell_type": "markdown",
   "metadata": {},
   "source": [
    "Making the Confusion Matrix"
   ]
  },
  {
   "cell_type": "code",
   "execution_count": 10,
   "metadata": {},
   "outputs": [
    {
     "data": {
      "text/plain": [
       "array([[652, 103],\n",
       "       [222, 438]], dtype=int64)"
      ]
     },
     "execution_count": 10,
     "metadata": {},
     "output_type": "execute_result"
    }
   ],
   "source": [
    "from sklearn.metrics import confusion_matrix\n",
    "cm = confusion_matrix(y_test, y_pred)\n",
    "cm"
   ]
  },
  {
   "cell_type": "code",
   "execution_count": 11,
   "metadata": {},
   "outputs": [
    {
     "name": "stdout",
     "output_type": "stream",
     "text": [
      "Precision: 0.8096118299445472\n",
      "Recall: 0.6636363636363637\n"
     ]
    }
   ],
   "source": [
    "from sklearn import metrics\n",
    "print(\"Precision:\",metrics.precision_score(y_test, y_pred))\n",
    "print(\"Recall:\",metrics.recall_score(y_test, y_pred))"
   ]
  }
 ],
 "metadata": {
  "kernelspec": {
   "display_name": "Python 3",
   "language": "python",
   "name": "python3"
  },
  "language_info": {
   "codemirror_mode": {
    "name": "ipython",
    "version": 3
   },
   "file_extension": ".py",
   "mimetype": "text/x-python",
   "name": "python",
   "nbconvert_exporter": "python",
   "pygments_lexer": "ipython3",
   "version": "3.7.6"
  }
 },
 "nbformat": 4,
 "nbformat_minor": 4
}
