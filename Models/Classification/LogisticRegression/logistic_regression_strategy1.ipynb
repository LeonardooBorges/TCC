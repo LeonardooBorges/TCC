{
 "cells": [
  {
   "cell_type": "markdown",
   "metadata": {
    "pycharm": {
     "name": "#%% md\n"
    }
   },
   "source": [
    "# Logistic Regression\n",
    "\n",
    "Font: https://www.datacamp.com/community/tutorials/understanding-logistic-regression-python"
   ]
  },
  {
   "cell_type": "markdown",
   "metadata": {},
   "source": [
    "## Strategy 1: don't remove anything"
   ]
  },
  {
   "cell_type": "markdown",
   "metadata": {
    "pycharm": {
     "name": "#%% md\n"
    }
   },
   "source": [
    "Import libraries"
   ]
  },
  {
   "cell_type": "code",
   "execution_count": 1,
   "metadata": {},
   "outputs": [],
   "source": [
    "import pandas as pd\n",
    "import matplotlib.pyplot as plt\n",
    "import glob\n",
    "import seaborn as sns\n",
    "import numpy as np\n",
    "\n",
    "pd.set_option('display.max_columns', 200)"
   ]
  },
  {
   "cell_type": "markdown",
   "metadata": {
    "pycharm": {
     "name": "#%% md\n"
    }
   },
   "source": [
    "Creating a df with the disease rates for each city and their respective RISK value (1, if it belongs to a high risk cluster, and 0 otherwise)."
   ]
  },
  {
   "cell_type": "code",
   "execution_count": 2,
   "metadata": {},
   "outputs": [],
   "source": [
    "cities = pd.read_csv('../../../SatScan/muncod_risk_2015_to_2017.csv', index_col=[0])\n",
    "\n",
    "df1 = pd.read_csv('../../../TabNet/complete_rates_2015.csv', index_col=[0])\n",
    "df2 = pd.read_csv('../../../TabNet/complete_rates_2016.csv', index_col=[0])\n",
    "df3 = pd.read_csv('../../../TabNet/complete_rates_2017.csv', index_col=[0])\n",
    "frames = [df1, df2, df3]\n",
    "df = pd.concat(frames)\n",
    "df = pd.merge(df, cities, left_on=\"MUNCOD\", right_on=\"MUNCOD\")\n",
    "df = df.drop('RATE', 1)\n",
    "df = df.drop('MUNCOD', 1)"
   ]
  },
  {
   "cell_type": "code",
   "execution_count": 3,
   "metadata": {
    "pycharm": {
     "name": "#%%\n"
    },
    "scrolled": true
   },
   "outputs": [
    {
     "data": {
      "text/plain": [
       "(9137, 15)"
      ]
     },
     "execution_count": 3,
     "metadata": {},
     "output_type": "execute_result"
    }
   ],
   "source": [
    "df.shape"
   ]
  },
  {
   "cell_type": "markdown",
   "metadata": {
    "pycharm": {
     "name": "#%% md\n"
    }
   },
   "source": [
    "Selecting X (independent variables) and y (dependent binary variable)."
   ]
  },
  {
   "cell_type": "code",
   "execution_count": 4,
   "metadata": {
    "pycharm": {
     "name": "#%%\n"
    }
   },
   "outputs": [],
   "source": [
    "X = df.iloc[:, 0:14].values\n",
    "y = df.iloc[:, -1].values"
   ]
  },
  {
   "cell_type": "markdown",
   "metadata": {
    "pycharm": {
     "name": "#%% md\n"
    }
   },
   "source": [
    "Splitting the dataset into the Training set and Test set"
   ]
  },
  {
   "cell_type": "code",
   "execution_count": 5,
   "metadata": {
    "pycharm": {
     "name": "#%%\n"
    }
   },
   "outputs": [],
   "source": [
    "from sklearn.model_selection import train_test_split\n",
    "X_train, X_test, y_train, y_test = train_test_split(X, y, test_size=0.5, random_state=0)"
   ]
  },
  {
   "cell_type": "markdown",
   "metadata": {
    "pycharm": {
     "name": "#%% md\n"
    }
   },
   "source": [
    "Feature Scaling"
   ]
  },
  {
   "cell_type": "code",
   "execution_count": 6,
   "metadata": {
    "pycharm": {
     "name": "#%%\n"
    }
   },
   "outputs": [],
   "source": [
    "from sklearn.preprocessing import StandardScaler\n",
    "sc = StandardScaler()\n",
    "X_train = sc.fit_transform(X_train)\n",
    "X_test = sc.transform(X_test)"
   ]
  },
  {
   "cell_type": "markdown",
   "metadata": {
    "pycharm": {
     "name": "#%% md\n"
    }
   },
   "source": [
    "Fitting Logistic Regression to the Training set"
   ]
  },
  {
   "cell_type": "code",
   "execution_count": 7,
   "metadata": {
    "pycharm": {
     "name": "#%%\n"
    }
   },
   "outputs": [
    {
     "name": "stderr",
     "output_type": "stream",
     "text": [
      "C:\\Users\\marco\\Anaconda3\\lib\\site-packages\\sklearn\\linear_model\\logistic.py:432: FutureWarning: Default solver will be changed to 'lbfgs' in 0.22. Specify a solver to silence this warning.\n",
      "  FutureWarning)\n"
     ]
    },
    {
     "data": {
      "text/plain": [
       "LogisticRegression(C=1.0, class_weight=None, dual=False, fit_intercept=True,\n",
       "                   intercept_scaling=1, l1_ratio=None, max_iter=100,\n",
       "                   multi_class='warn', n_jobs=None, penalty='l2',\n",
       "                   random_state=None, solver='warn', tol=0.0001, verbose=0,\n",
       "                   warm_start=False)"
      ]
     },
     "execution_count": 7,
     "metadata": {},
     "output_type": "execute_result"
    }
   ],
   "source": [
    "from sklearn.linear_model import LogisticRegression\n",
    "classifier = LogisticRegression()\n",
    "classifier.fit(X_train, y_train)"
   ]
  },
  {
   "cell_type": "markdown",
   "metadata": {
    "pycharm": {
     "name": "#%% md\n"
    }
   },
   "source": [
    "Predicting the Test set results"
   ]
  },
  {
   "cell_type": "code",
   "execution_count": 8,
   "metadata": {
    "pycharm": {
     "name": "#%%\n"
    }
   },
   "outputs": [],
   "source": [
    "y_pred = classifier.predict(X_test)"
   ]
  },
  {
   "cell_type": "markdown",
   "metadata": {
    "pycharm": {
     "name": "#%% md\n"
    }
   },
   "source": [
    "Making the Confusion Matrix"
   ]
  },
  {
   "cell_type": "code",
   "execution_count": 9,
   "metadata": {
    "pycharm": {
     "name": "#%%\n"
    }
   },
   "outputs": [
    {
     "data": {
      "text/plain": [
       "array([[1911,  480],\n",
       "       [ 748, 1430]], dtype=int64)"
      ]
     },
     "execution_count": 9,
     "metadata": {},
     "output_type": "execute_result"
    }
   ],
   "source": [
    "from sklearn.metrics import confusion_matrix\n",
    "cm = confusion_matrix(y_test, y_pred)\n",
    "cm"
   ]
  },
  {
   "cell_type": "code",
   "execution_count": 10,
   "metadata": {
    "pycharm": {
     "name": "#%%\n"
    }
   },
   "outputs": [
    {
     "data": {
      "text/plain": [
       "Text(0.5, 257.44, 'Predicted label')"
      ]
     },
     "execution_count": 10,
     "metadata": {},
     "output_type": "execute_result"
    },
    {
     "data": {
      "image/png": "[encoded data removed]",
      "text/plain": [
       "<Figure size 432x288 with 2 Axes>"
      ]
     },
     "metadata": {
      "needs_background": "light"
     },
     "output_type": "display_data"
    }
   ],
   "source": [
    "class_names = [0, 1] # name  of classes\n",
    "fig, ax = plt.subplots()\n",
    "tick_marks = np.arange(len(class_names))\n",
    "plt.xticks(tick_marks, class_names)\n",
    "plt.yticks(tick_marks, class_names)\n",
    "# create heatmap\n",
    "sns.heatmap(pd.DataFrame(cm), annot=True, cmap=\"YlGnBu\", fmt='g')\n",
    "ax.xaxis.set_label_position(\"top\")\n",
    "plt.tight_layout()\n",
    "plt.title('Confusion matrix', y=1.1)\n",
    "plt.ylabel('Actual label')\n",
    "plt.xlabel('Predicted label')"
   ]
  },
  {
   "cell_type": "markdown",
   "metadata": {
    "pycharm": {
     "name": "#%% md\n"
    }
   },
   "source": [
    "Checking Evaluation metrics"
   ]
  },
  {
   "cell_type": "code",
   "execution_count": 11,
   "metadata": {
    "pycharm": {
     "name": "#%%\n"
    }
   },
   "outputs": [
    {
     "name": "stdout",
     "output_type": "stream",
     "text": [
      "Precision: 0.7486910994764397\n",
      "Recall: 0.6565656565656566\n",
      "FBeta: 0.6731312370551685\n"
     ]
    }
   ],
   "source": [
    "from sklearn import metrics\n",
    "print(\"Precision:\",metrics.precision_score(y_test, y_pred))\n",
    "print(\"Recall:\",metrics.recall_score(y_test, y_pred))\n",
    "print(\"FBeta:\",metrics.fbeta_score(y_test, y_pred, beta=2.0))"
   ]
  },
  {
   "cell_type": "markdown",
   "metadata": {
    "pycharm": {
     "name": "#%% md\n"
    }
   },
   "source": [
    "Plotting the ROC curve"
   ]
  },
  {
   "cell_type": "code",
   "execution_count": 12,
   "metadata": {
    "pycharm": {
     "name": "#%%\n"
    }
   },
   "outputs": [
    {
     "data": {
      "image/png": "[encoded data removed]",
      "text/plain": [
       "<Figure size 432x288 with 1 Axes>"
      ]
     },
     "metadata": {
      "needs_background": "light"
     },
     "output_type": "display_data"
    }
   ],
   "source": [
    "from sklearn.metrics import roc_auc_score\n",
    "from sklearn.metrics import roc_curve\n",
    "\n",
    "plt.rc(\"font\", size=10)\n",
    "logit_roc_auc = roc_auc_score(y_test, classifier.predict(X_test))\n",
    "fpr, tpr, thresholds = roc_curve(y_test, classifier.predict_proba(X_test)[:,1])\n",
    "plt.figure()\n",
    "plt.plot(fpr, tpr, label='Logistic Regression (area = %0.2f)' % logit_roc_auc)\n",
    "plt.plot([0, 1], [0, 1],'r--')\n",
    "plt.xlim([0.0, 1.0])\n",
    "plt.ylim([0.0, 1.05])\n",
    "plt.xlabel('False Positive Rate')\n",
    "plt.ylabel('True Positive Rate')\n",
    "plt.title('Receiver operating characteristic')\n",
    "plt.legend(loc=\"lower right\")\n",
    "plt.show()"
   ]
  },
  {
   "cell_type": "markdown",
   "metadata": {
    "pycharm": {
     "name": "#%% md\n"
    }
   },
   "source": [
    "Selecting most significant features"
   ]
  },
  {
   "cell_type": "markdown",
   "metadata": {
    "pycharm": {
     "name": "#%% md\n"
    }
   },
   "source": [
    "## K-fold cross Validation"
   ]
  },
  {
   "cell_type": "markdown",
   "metadata": {
    "pycharm": {
     "name": "#%% md\n"
    }
   },
   "source": [
    "Load libraries"
   ]
  },
  {
   "cell_type": "code",
   "execution_count": 13,
   "metadata": {
    "pycharm": {
     "name": "#%%\n"
    }
   },
   "outputs": [],
   "source": [
    "from sklearn.model_selection import KFold, cross_val_score\n",
    "from sklearn.pipeline import make_pipeline\n",
    "from sklearn.linear_model import LogisticRegression\n",
    "from sklearn.preprocessing import StandardScaler"
   ]
  },
  {
   "cell_type": "markdown",
   "metadata": {
    "pycharm": {
     "name": "#%% md\n"
    }
   },
   "source": [
    "Define X and y"
   ]
  },
  {
   "cell_type": "code",
   "execution_count": 14,
   "metadata": {
    "pycharm": {
     "name": "#%%\n"
    }
   },
   "outputs": [],
   "source": [
    "X = df.iloc[:, 0:14].values\n",
    "y = df.iloc[:, -1].values"
   ]
  },
  {
   "cell_type": "markdown",
   "metadata": {
    "pycharm": {
     "name": "#%% md\n"
    }
   },
   "source": [
    "Create a pipeline that standardizes, then runs logistic regression"
   ]
  },
  {
   "cell_type": "code",
   "execution_count": 15,
   "metadata": {
    "pycharm": {
     "name": "#%%\n"
    }
   },
   "outputs": [],
   "source": [
    "standardizer = StandardScaler()\n",
    "logit = LogisticRegression()\n",
    "pipeline = make_pipeline(standardizer, logit)"
   ]
  },
  {
   "cell_type": "markdown",
   "metadata": {
    "pycharm": {
     "name": "#%% md\n"
    }
   },
   "source": [
    "Do k-fold cross-validation"
   ]
  },
  {
   "cell_type": "code",
   "execution_count": 16,
   "metadata": {
    "pycharm": {
     "name": "#%%\n"
    }
   },
   "outputs": [],
   "source": [
    "kf = KFold(n_splits=10, shuffle=True, random_state=1)\n",
    "cv_results = cross_val_score(pipeline, # Pipeline\n",
    "                             X, # Feature matrix\n",
    "                             y, # Target vector\n",
    "                             cv=kf, # Cross-validation technique\n",
    "                             scoring=\"f1\", # Loss function\n",
    "                             n_jobs=-1) # Use all CPU scores"
   ]
  },
  {
   "cell_type": "code",
   "execution_count": 17,
   "metadata": {
    "pycharm": {
     "name": "#%%\n"
    }
   },
   "outputs": [
    {
     "data": {
      "text/plain": [
       "(array([1., 2., 0., 0., 0., 1., 1., 1., 0., 4.]),\n",
       " array([0.66021765, 0.66633875, 0.67245984, 0.67858093, 0.68470202,\n",
       "        0.69082311, 0.6969442 , 0.7030653 , 0.70918639, 0.71530748,\n",
       "        0.72142857]),\n",
       " <a list of 10 Patch objects>)"
      ]
     },
     "execution_count": 17,
     "metadata": {},
     "output_type": "execute_result"
    },
    {
     "data": {
      "image/png": "[encoded data removed]",
      "text/plain": [
       "<Figure size 432x288 with 1 Axes>"
      ]
     },
     "metadata": {
      "needs_background": "light"
     },
     "output_type": "display_data"
    }
   ],
   "source": [
    "plt.hist(x=cv_results, bins=10)"
   ]
  },
  {
   "cell_type": "markdown",
   "metadata": {
    "pycharm": {
     "name": "#%% md\n"
    }
   },
   "source": [
    "Calculate Mean Performance Score"
   ]
  },
  {
   "cell_type": "code",
   "execution_count": 18,
   "metadata": {
    "pycharm": {
     "name": "#%%\n"
    }
   },
   "outputs": [
    {
     "data": {
      "text/plain": [
       "0.6980720069051463"
      ]
     },
     "execution_count": 18,
     "metadata": {},
     "output_type": "execute_result"
    }
   ],
   "source": [
    "cv_results.mean()"
   ]
  },
  {
   "cell_type": "markdown",
   "metadata": {},
   "source": [
    "The mean value of f1 obtained by KFold cross validation was 0.69."
   ]
  },
  {
   "cell_type": "markdown",
   "metadata": {
    "pycharm": {
     "name": "#%% md\n"
    }
   },
   "source": [
    "## Testing with 2018 data"
   ]
  },
  {
   "cell_type": "markdown",
   "metadata": {
    "pycharm": {
     "name": "#%% md\n"
    }
   },
   "source": [
    "Creating a df with the disease rates for each city. Now, we'll predict if the cities belong or not to the high RISK cluster (1, if it belongs to a high risk cluster, and 0 otherwise)."
   ]
  },
  {
   "cell_type": "code",
   "execution_count": 19,
   "metadata": {
    "pycharm": {
     "name": "#%%\n"
    }
   },
   "outputs": [
    {
     "data": {
      "text/html": [
       "<div>\n",
       "<style scoped>\n",
       "    .dataframe tbody tr th:only-of-type {\n",
       "        vertical-align: middle;\n",
       "    }\n",
       "\n",
       "    .dataframe tbody tr th {\n",
       "        vertical-align: top;\n",
       "    }\n",
       "\n",
       "    .dataframe thead th {\n",
       "        text-align: right;\n",
       "    }\n",
       "</style>\n",
       "<table border=\"1\" class=\"dataframe\">\n",
       "  <thead>\n",
       "    <tr style=\"text-align: right;\">\n",
       "      <th></th>\n",
       "      <th>OSTEOPOROSE</th>\n",
       "      <th>INSUFICIENCIA_RENAL</th>\n",
       "      <th>INSUFICIENCIA_CARDIACA</th>\n",
       "      <th>HIPERTENSAO_ESSENCIAL</th>\n",
       "      <th>ESCLEROSE_MULTIPLA</th>\n",
       "      <th>EPILEPSIA</th>\n",
       "      <th>ENXAQUECA</th>\n",
       "      <th>DPOC</th>\n",
       "      <th>DORSOPATIAS</th>\n",
       "      <th>DOENCA_DE_PARKINSON</th>\n",
       "      <th>DIABETES_MILLITUS</th>\n",
       "      <th>CANCER</th>\n",
       "      <th>ASMA</th>\n",
       "      <th>ALZHEIMER</th>\n",
       "      <th>AIDS</th>\n",
       "      <th>RISK</th>\n",
       "    </tr>\n",
       "  </thead>\n",
       "  <tbody>\n",
       "    <tr>\n",
       "      <td>0</td>\n",
       "      <td>4.316485</td>\n",
       "      <td>30.215393</td>\n",
       "      <td>194.241809</td>\n",
       "      <td>496.395735</td>\n",
       "      <td>NaN</td>\n",
       "      <td>51.797816</td>\n",
       "      <td>8.632969</td>\n",
       "      <td>444.597919</td>\n",
       "      <td>4.316485</td>\n",
       "      <td>NaN</td>\n",
       "      <td>181.292356</td>\n",
       "      <td>116.545086</td>\n",
       "      <td>185.608840</td>\n",
       "      <td>8.632969</td>\n",
       "      <td>4.316485</td>\n",
       "      <td>0.0</td>\n",
       "    </tr>\n",
       "    <tr>\n",
       "      <td>1</td>\n",
       "      <td>NaN</td>\n",
       "      <td>75.602933</td>\n",
       "      <td>68.042640</td>\n",
       "      <td>NaN</td>\n",
       "      <td>NaN</td>\n",
       "      <td>15.120587</td>\n",
       "      <td>NaN</td>\n",
       "      <td>15.120587</td>\n",
       "      <td>15.120587</td>\n",
       "      <td>NaN</td>\n",
       "      <td>90.723520</td>\n",
       "      <td>30.241173</td>\n",
       "      <td>166.326453</td>\n",
       "      <td>NaN</td>\n",
       "      <td>NaN</td>\n",
       "      <td>0.0</td>\n",
       "    </tr>\n",
       "    <tr>\n",
       "      <td>2</td>\n",
       "      <td>NaN</td>\n",
       "      <td>33.334921</td>\n",
       "      <td>57.145578</td>\n",
       "      <td>42.859184</td>\n",
       "      <td>NaN</td>\n",
       "      <td>9.524263</td>\n",
       "      <td>NaN</td>\n",
       "      <td>38.097052</td>\n",
       "      <td>9.524263</td>\n",
       "      <td>NaN</td>\n",
       "      <td>66.669841</td>\n",
       "      <td>66.669841</td>\n",
       "      <td>14.286395</td>\n",
       "      <td>NaN</td>\n",
       "      <td>4.762132</td>\n",
       "      <td>0.0</td>\n",
       "    </tr>\n",
       "    <tr>\n",
       "      <td>3</td>\n",
       "      <td>13.585111</td>\n",
       "      <td>33.962777</td>\n",
       "      <td>156.228773</td>\n",
       "      <td>142.643663</td>\n",
       "      <td>NaN</td>\n",
       "      <td>13.585111</td>\n",
       "      <td>NaN</td>\n",
       "      <td>81.510664</td>\n",
       "      <td>13.585111</td>\n",
       "      <td>NaN</td>\n",
       "      <td>251.324548</td>\n",
       "      <td>95.095775</td>\n",
       "      <td>40.755332</td>\n",
       "      <td>NaN</td>\n",
       "      <td>13.585111</td>\n",
       "      <td>0.0</td>\n",
       "    </tr>\n",
       "    <tr>\n",
       "      <td>4</td>\n",
       "      <td>12.244744</td>\n",
       "      <td>70.642755</td>\n",
       "      <td>108.318891</td>\n",
       "      <td>19.779971</td>\n",
       "      <td>NaN</td>\n",
       "      <td>9.419034</td>\n",
       "      <td>2.825710</td>\n",
       "      <td>61.223721</td>\n",
       "      <td>5.651420</td>\n",
       "      <td>NaN</td>\n",
       "      <td>78.177982</td>\n",
       "      <td>70.642755</td>\n",
       "      <td>54.630397</td>\n",
       "      <td>0.941903</td>\n",
       "      <td>22.605682</td>\n",
       "      <td>0.0</td>\n",
       "    </tr>\n",
       "    <tr>\n",
       "      <td>...</td>\n",
       "      <td>...</td>\n",
       "      <td>...</td>\n",
       "      <td>...</td>\n",
       "      <td>...</td>\n",
       "      <td>...</td>\n",
       "      <td>...</td>\n",
       "      <td>...</td>\n",
       "      <td>...</td>\n",
       "      <td>...</td>\n",
       "      <td>...</td>\n",
       "      <td>...</td>\n",
       "      <td>...</td>\n",
       "      <td>...</td>\n",
       "      <td>...</td>\n",
       "      <td>...</td>\n",
       "      <td>...</td>\n",
       "    </tr>\n",
       "    <tr>\n",
       "      <td>5653</td>\n",
       "      <td>NaN</td>\n",
       "      <td>NaN</td>\n",
       "      <td>NaN</td>\n",
       "      <td>NaN</td>\n",
       "      <td>NaN</td>\n",
       "      <td>NaN</td>\n",
       "      <td>NaN</td>\n",
       "      <td>NaN</td>\n",
       "      <td>NaN</td>\n",
       "      <td>NaN</td>\n",
       "      <td>NaN</td>\n",
       "      <td>NaN</td>\n",
       "      <td>NaN</td>\n",
       "      <td>NaN</td>\n",
       "      <td>NaN</td>\n",
       "      <td>0.0</td>\n",
       "    </tr>\n",
       "    <tr>\n",
       "      <td>5654</td>\n",
       "      <td>NaN</td>\n",
       "      <td>NaN</td>\n",
       "      <td>NaN</td>\n",
       "      <td>NaN</td>\n",
       "      <td>NaN</td>\n",
       "      <td>NaN</td>\n",
       "      <td>NaN</td>\n",
       "      <td>NaN</td>\n",
       "      <td>NaN</td>\n",
       "      <td>NaN</td>\n",
       "      <td>NaN</td>\n",
       "      <td>NaN</td>\n",
       "      <td>NaN</td>\n",
       "      <td>NaN</td>\n",
       "      <td>NaN</td>\n",
       "      <td>0.0</td>\n",
       "    </tr>\n",
       "    <tr>\n",
       "      <td>5655</td>\n",
       "      <td>NaN</td>\n",
       "      <td>NaN</td>\n",
       "      <td>NaN</td>\n",
       "      <td>NaN</td>\n",
       "      <td>NaN</td>\n",
       "      <td>NaN</td>\n",
       "      <td>NaN</td>\n",
       "      <td>NaN</td>\n",
       "      <td>NaN</td>\n",
       "      <td>NaN</td>\n",
       "      <td>NaN</td>\n",
       "      <td>NaN</td>\n",
       "      <td>NaN</td>\n",
       "      <td>NaN</td>\n",
       "      <td>NaN</td>\n",
       "      <td>0.0</td>\n",
       "    </tr>\n",
       "    <tr>\n",
       "      <td>5656</td>\n",
       "      <td>NaN</td>\n",
       "      <td>NaN</td>\n",
       "      <td>NaN</td>\n",
       "      <td>NaN</td>\n",
       "      <td>NaN</td>\n",
       "      <td>NaN</td>\n",
       "      <td>NaN</td>\n",
       "      <td>NaN</td>\n",
       "      <td>NaN</td>\n",
       "      <td>NaN</td>\n",
       "      <td>NaN</td>\n",
       "      <td>NaN</td>\n",
       "      <td>NaN</td>\n",
       "      <td>NaN</td>\n",
       "      <td>NaN</td>\n",
       "      <td>0.0</td>\n",
       "    </tr>\n",
       "    <tr>\n",
       "      <td>5657</td>\n",
       "      <td>NaN</td>\n",
       "      <td>NaN</td>\n",
       "      <td>NaN</td>\n",
       "      <td>NaN</td>\n",
       "      <td>NaN</td>\n",
       "      <td>NaN</td>\n",
       "      <td>NaN</td>\n",
       "      <td>NaN</td>\n",
       "      <td>NaN</td>\n",
       "      <td>NaN</td>\n",
       "      <td>NaN</td>\n",
       "      <td>NaN</td>\n",
       "      <td>NaN</td>\n",
       "      <td>NaN</td>\n",
       "      <td>NaN</td>\n",
       "      <td>0.0</td>\n",
       "    </tr>\n",
       "  </tbody>\n",
       "</table>\n",
       "<p>5658 rows × 16 columns</p>\n",
       "</div>"
      ],
      "text/plain": [
       "      OSTEOPOROSE  INSUFICIENCIA_RENAL  INSUFICIENCIA_CARDIACA  \\\n",
       "0        4.316485            30.215393              194.241809   \n",
       "1             NaN            75.602933               68.042640   \n",
       "2             NaN            33.334921               57.145578   \n",
       "3       13.585111            33.962777              156.228773   \n",
       "4       12.244744            70.642755              108.318891   \n",
       "...           ...                  ...                     ...   \n",
       "5653          NaN                  NaN                     NaN   \n",
       "5654          NaN                  NaN                     NaN   \n",
       "5655          NaN                  NaN                     NaN   \n",
       "5656          NaN                  NaN                     NaN   \n",
       "5657          NaN                  NaN                     NaN   \n",
       "\n",
       "      HIPERTENSAO_ESSENCIAL  ESCLEROSE_MULTIPLA  EPILEPSIA  ENXAQUECA  \\\n",
       "0                496.395735                 NaN  51.797816   8.632969   \n",
       "1                       NaN                 NaN  15.120587        NaN   \n",
       "2                 42.859184                 NaN   9.524263        NaN   \n",
       "3                142.643663                 NaN  13.585111        NaN   \n",
       "4                 19.779971                 NaN   9.419034   2.825710   \n",
       "...                     ...                 ...        ...        ...   \n",
       "5653                    NaN                 NaN        NaN        NaN   \n",
       "5654                    NaN                 NaN        NaN        NaN   \n",
       "5655                    NaN                 NaN        NaN        NaN   \n",
       "5656                    NaN                 NaN        NaN        NaN   \n",
       "5657                    NaN                 NaN        NaN        NaN   \n",
       "\n",
       "            DPOC  DORSOPATIAS  DOENCA_DE_PARKINSON  DIABETES_MILLITUS  \\\n",
       "0     444.597919     4.316485                  NaN         181.292356   \n",
       "1      15.120587    15.120587                  NaN          90.723520   \n",
       "2      38.097052     9.524263                  NaN          66.669841   \n",
       "3      81.510664    13.585111                  NaN         251.324548   \n",
       "4      61.223721     5.651420                  NaN          78.177982   \n",
       "...          ...          ...                  ...                ...   \n",
       "5653         NaN          NaN                  NaN                NaN   \n",
       "5654         NaN          NaN                  NaN                NaN   \n",
       "5655         NaN          NaN                  NaN                NaN   \n",
       "5656         NaN          NaN                  NaN                NaN   \n",
       "5657         NaN          NaN                  NaN                NaN   \n",
       "\n",
       "          CANCER        ASMA  ALZHEIMER       AIDS  RISK  \n",
       "0     116.545086  185.608840   8.632969   4.316485   0.0  \n",
       "1      30.241173  166.326453        NaN        NaN   0.0  \n",
       "2      66.669841   14.286395        NaN   4.762132   0.0  \n",
       "3      95.095775   40.755332        NaN  13.585111   0.0  \n",
       "4      70.642755   54.630397   0.941903  22.605682   0.0  \n",
       "...          ...         ...        ...        ...   ...  \n",
       "5653         NaN         NaN        NaN        NaN   0.0  \n",
       "5654         NaN         NaN        NaN        NaN   0.0  \n",
       "5655         NaN         NaN        NaN        NaN   0.0  \n",
       "5656         NaN         NaN        NaN        NaN   0.0  \n",
       "5657         NaN         NaN        NaN        NaN   0.0  \n",
       "\n",
       "[5658 rows x 16 columns]"
      ]
     },
     "execution_count": 19,
     "metadata": {},
     "output_type": "execute_result"
    }
   ],
   "source": [
    "cities = pd.read_csv('../../../SatScan/muncod_risk_2018.csv', index_col=[0])\n",
    "\n",
    "disease = \"\"\n",
    "path = '../../../TabNet/Rates/2018/'\n",
    "all_files = glob.glob(path + \"*.csv\")\n",
    "all_diseases = cities\n",
    "diseases_list = []\n",
    "for file in all_files:\n",
    "    file_name = file.split(\"\\\\\")[1]\n",
    "    disease = file_name.split(\"_RATE\")[0]\n",
    "    disease_df = pd.read_csv(path + disease + '_RATE_18.csv', sep=',', index_col=0)\n",
    "    disease_df = disease_df[[\"RATE\", \"MUNCOD\"]]\n",
    "    disease_df.rename(columns={\"RATE\": disease}, inplace=True)\n",
    "\n",
    "    all_diseases = pd.merge(disease_df, all_diseases, left_on=\"MUNCOD\", right_on=\"MUNCOD\", how=\"outer\")\n",
    "df_18 = all_diseases.drop('MUNCOD', 1)\n",
    "df_18 = df_18.drop(['TRAUMATISMO_INTRACRANIANO', 'HIV'], axis=1)\n",
    "df_18"
   ]
  },
  {
   "cell_type": "code",
   "execution_count": 20,
   "metadata": {
    "pycharm": {
     "name": "#%%\n"
    }
   },
   "outputs": [],
   "source": [
    "cols = df_18.columns[:-1] # all cols, except 'RISK' \n",
    "df_18 = df_18.dropna(subset=cols, how='all')\n",
    "df_18 = df_18.fillna(0)"
   ]
  },
  {
   "cell_type": "code",
   "execution_count": 21,
   "metadata": {
    "pycharm": {
     "name": "#%%\n"
    }
   },
   "outputs": [
    {
     "data": {
      "text/html": [
       "<div>\n",
       "<style scoped>\n",
       "    .dataframe tbody tr th:only-of-type {\n",
       "        vertical-align: middle;\n",
       "    }\n",
       "\n",
       "    .dataframe tbody tr th {\n",
       "        vertical-align: top;\n",
       "    }\n",
       "\n",
       "    .dataframe thead th {\n",
       "        text-align: right;\n",
       "    }\n",
       "</style>\n",
       "<table border=\"1\" class=\"dataframe\">\n",
       "  <thead>\n",
       "    <tr style=\"text-align: right;\">\n",
       "      <th></th>\n",
       "      <th>OSTEOPOROSE</th>\n",
       "      <th>INSUFICIENCIA_RENAL</th>\n",
       "      <th>INSUFICIENCIA_CARDIACA</th>\n",
       "      <th>HIPERTENSAO_ESSENCIAL</th>\n",
       "      <th>ESCLEROSE_MULTIPLA</th>\n",
       "      <th>EPILEPSIA</th>\n",
       "      <th>ENXAQUECA</th>\n",
       "      <th>DPOC</th>\n",
       "      <th>DORSOPATIAS</th>\n",
       "      <th>DOENCA_DE_PARKINSON</th>\n",
       "      <th>DIABETES_MILLITUS</th>\n",
       "      <th>CANCER</th>\n",
       "      <th>ASMA</th>\n",
       "      <th>ALZHEIMER</th>\n",
       "      <th>AIDS</th>\n",
       "      <th>RISK</th>\n",
       "    </tr>\n",
       "  </thead>\n",
       "  <tbody>\n",
       "    <tr>\n",
       "      <td>0</td>\n",
       "      <td>4.316485</td>\n",
       "      <td>30.215393</td>\n",
       "      <td>194.241809</td>\n",
       "      <td>496.395735</td>\n",
       "      <td>0.0</td>\n",
       "      <td>51.797816</td>\n",
       "      <td>8.632969</td>\n",
       "      <td>444.597919</td>\n",
       "      <td>4.316485</td>\n",
       "      <td>0.0</td>\n",
       "      <td>181.292356</td>\n",
       "      <td>116.545086</td>\n",
       "      <td>185.608840</td>\n",
       "      <td>8.632969</td>\n",
       "      <td>4.316485</td>\n",
       "      <td>0.0</td>\n",
       "    </tr>\n",
       "    <tr>\n",
       "      <td>1</td>\n",
       "      <td>0.000000</td>\n",
       "      <td>75.602933</td>\n",
       "      <td>68.042640</td>\n",
       "      <td>0.000000</td>\n",
       "      <td>0.0</td>\n",
       "      <td>15.120587</td>\n",
       "      <td>0.000000</td>\n",
       "      <td>15.120587</td>\n",
       "      <td>15.120587</td>\n",
       "      <td>0.0</td>\n",
       "      <td>90.723520</td>\n",
       "      <td>30.241173</td>\n",
       "      <td>166.326453</td>\n",
       "      <td>0.000000</td>\n",
       "      <td>0.000000</td>\n",
       "      <td>0.0</td>\n",
       "    </tr>\n",
       "    <tr>\n",
       "      <td>2</td>\n",
       "      <td>0.000000</td>\n",
       "      <td>33.334921</td>\n",
       "      <td>57.145578</td>\n",
       "      <td>42.859184</td>\n",
       "      <td>0.0</td>\n",
       "      <td>9.524263</td>\n",
       "      <td>0.000000</td>\n",
       "      <td>38.097052</td>\n",
       "      <td>9.524263</td>\n",
       "      <td>0.0</td>\n",
       "      <td>66.669841</td>\n",
       "      <td>66.669841</td>\n",
       "      <td>14.286395</td>\n",
       "      <td>0.000000</td>\n",
       "      <td>4.762132</td>\n",
       "      <td>0.0</td>\n",
       "    </tr>\n",
       "    <tr>\n",
       "      <td>3</td>\n",
       "      <td>13.585111</td>\n",
       "      <td>33.962777</td>\n",
       "      <td>156.228773</td>\n",
       "      <td>142.643663</td>\n",
       "      <td>0.0</td>\n",
       "      <td>13.585111</td>\n",
       "      <td>0.000000</td>\n",
       "      <td>81.510664</td>\n",
       "      <td>13.585111</td>\n",
       "      <td>0.0</td>\n",
       "      <td>251.324548</td>\n",
       "      <td>95.095775</td>\n",
       "      <td>40.755332</td>\n",
       "      <td>0.000000</td>\n",
       "      <td>13.585111</td>\n",
       "      <td>0.0</td>\n",
       "    </tr>\n",
       "    <tr>\n",
       "      <td>4</td>\n",
       "      <td>12.244744</td>\n",
       "      <td>70.642755</td>\n",
       "      <td>108.318891</td>\n",
       "      <td>19.779971</td>\n",
       "      <td>0.0</td>\n",
       "      <td>9.419034</td>\n",
       "      <td>2.825710</td>\n",
       "      <td>61.223721</td>\n",
       "      <td>5.651420</td>\n",
       "      <td>0.0</td>\n",
       "      <td>78.177982</td>\n",
       "      <td>70.642755</td>\n",
       "      <td>54.630397</td>\n",
       "      <td>0.941903</td>\n",
       "      <td>22.605682</td>\n",
       "      <td>0.0</td>\n",
       "    </tr>\n",
       "    <tr>\n",
       "      <td>...</td>\n",
       "      <td>...</td>\n",
       "      <td>...</td>\n",
       "      <td>...</td>\n",
       "      <td>...</td>\n",
       "      <td>...</td>\n",
       "      <td>...</td>\n",
       "      <td>...</td>\n",
       "      <td>...</td>\n",
       "      <td>...</td>\n",
       "      <td>...</td>\n",
       "      <td>...</td>\n",
       "      <td>...</td>\n",
       "      <td>...</td>\n",
       "      <td>...</td>\n",
       "      <td>...</td>\n",
       "      <td>...</td>\n",
       "    </tr>\n",
       "    <tr>\n",
       "      <td>5565</td>\n",
       "      <td>0.000000</td>\n",
       "      <td>0.000000</td>\n",
       "      <td>0.000000</td>\n",
       "      <td>0.000000</td>\n",
       "      <td>0.0</td>\n",
       "      <td>0.000000</td>\n",
       "      <td>0.000000</td>\n",
       "      <td>0.000000</td>\n",
       "      <td>0.000000</td>\n",
       "      <td>0.0</td>\n",
       "      <td>16.960651</td>\n",
       "      <td>67.842605</td>\n",
       "      <td>0.000000</td>\n",
       "      <td>0.000000</td>\n",
       "      <td>0.000000</td>\n",
       "      <td>0.0</td>\n",
       "    </tr>\n",
       "    <tr>\n",
       "      <td>5566</td>\n",
       "      <td>0.000000</td>\n",
       "      <td>0.000000</td>\n",
       "      <td>0.000000</td>\n",
       "      <td>0.000000</td>\n",
       "      <td>0.0</td>\n",
       "      <td>0.000000</td>\n",
       "      <td>0.000000</td>\n",
       "      <td>0.000000</td>\n",
       "      <td>0.000000</td>\n",
       "      <td>0.0</td>\n",
       "      <td>22.476961</td>\n",
       "      <td>44.953922</td>\n",
       "      <td>0.000000</td>\n",
       "      <td>0.000000</td>\n",
       "      <td>0.000000</td>\n",
       "      <td>1.0</td>\n",
       "    </tr>\n",
       "    <tr>\n",
       "      <td>5567</td>\n",
       "      <td>0.000000</td>\n",
       "      <td>0.000000</td>\n",
       "      <td>0.000000</td>\n",
       "      <td>0.000000</td>\n",
       "      <td>0.0</td>\n",
       "      <td>0.000000</td>\n",
       "      <td>0.000000</td>\n",
       "      <td>0.000000</td>\n",
       "      <td>0.000000</td>\n",
       "      <td>0.0</td>\n",
       "      <td>0.000000</td>\n",
       "      <td>105.708245</td>\n",
       "      <td>0.000000</td>\n",
       "      <td>0.000000</td>\n",
       "      <td>0.000000</td>\n",
       "      <td>1.0</td>\n",
       "    </tr>\n",
       "    <tr>\n",
       "      <td>5568</td>\n",
       "      <td>0.000000</td>\n",
       "      <td>0.000000</td>\n",
       "      <td>0.000000</td>\n",
       "      <td>0.000000</td>\n",
       "      <td>0.0</td>\n",
       "      <td>0.000000</td>\n",
       "      <td>0.000000</td>\n",
       "      <td>0.000000</td>\n",
       "      <td>0.000000</td>\n",
       "      <td>0.0</td>\n",
       "      <td>0.000000</td>\n",
       "      <td>38.850039</td>\n",
       "      <td>0.000000</td>\n",
       "      <td>0.000000</td>\n",
       "      <td>0.000000</td>\n",
       "      <td>1.0</td>\n",
       "    </tr>\n",
       "    <tr>\n",
       "      <td>5569</td>\n",
       "      <td>0.000000</td>\n",
       "      <td>0.000000</td>\n",
       "      <td>0.000000</td>\n",
       "      <td>0.000000</td>\n",
       "      <td>0.0</td>\n",
       "      <td>0.000000</td>\n",
       "      <td>0.000000</td>\n",
       "      <td>0.000000</td>\n",
       "      <td>0.000000</td>\n",
       "      <td>0.0</td>\n",
       "      <td>0.000000</td>\n",
       "      <td>249.376559</td>\n",
       "      <td>0.000000</td>\n",
       "      <td>0.000000</td>\n",
       "      <td>0.000000</td>\n",
       "      <td>1.0</td>\n",
       "    </tr>\n",
       "  </tbody>\n",
       "</table>\n",
       "<p>5569 rows × 16 columns</p>\n",
       "</div>"
      ],
      "text/plain": [
       "      OSTEOPOROSE  INSUFICIENCIA_RENAL  INSUFICIENCIA_CARDIACA  \\\n",
       "0        4.316485            30.215393              194.241809   \n",
       "1        0.000000            75.602933               68.042640   \n",
       "2        0.000000            33.334921               57.145578   \n",
       "3       13.585111            33.962777              156.228773   \n",
       "4       12.244744            70.642755              108.318891   \n",
       "...           ...                  ...                     ...   \n",
       "5565     0.000000             0.000000                0.000000   \n",
       "5566     0.000000             0.000000                0.000000   \n",
       "5567     0.000000             0.000000                0.000000   \n",
       "5568     0.000000             0.000000                0.000000   \n",
       "5569     0.000000             0.000000                0.000000   \n",
       "\n",
       "      HIPERTENSAO_ESSENCIAL  ESCLEROSE_MULTIPLA  EPILEPSIA  ENXAQUECA  \\\n",
       "0                496.395735                 0.0  51.797816   8.632969   \n",
       "1                  0.000000                 0.0  15.120587   0.000000   \n",
       "2                 42.859184                 0.0   9.524263   0.000000   \n",
       "3                142.643663                 0.0  13.585111   0.000000   \n",
       "4                 19.779971                 0.0   9.419034   2.825710   \n",
       "...                     ...                 ...        ...        ...   \n",
       "5565               0.000000                 0.0   0.000000   0.000000   \n",
       "5566               0.000000                 0.0   0.000000   0.000000   \n",
       "5567               0.000000                 0.0   0.000000   0.000000   \n",
       "5568               0.000000                 0.0   0.000000   0.000000   \n",
       "5569               0.000000                 0.0   0.000000   0.000000   \n",
       "\n",
       "            DPOC  DORSOPATIAS  DOENCA_DE_PARKINSON  DIABETES_MILLITUS  \\\n",
       "0     444.597919     4.316485                  0.0         181.292356   \n",
       "1      15.120587    15.120587                  0.0          90.723520   \n",
       "2      38.097052     9.524263                  0.0          66.669841   \n",
       "3      81.510664    13.585111                  0.0         251.324548   \n",
       "4      61.223721     5.651420                  0.0          78.177982   \n",
       "...          ...          ...                  ...                ...   \n",
       "5565    0.000000     0.000000                  0.0          16.960651   \n",
       "5566    0.000000     0.000000                  0.0          22.476961   \n",
       "5567    0.000000     0.000000                  0.0           0.000000   \n",
       "5568    0.000000     0.000000                  0.0           0.000000   \n",
       "5569    0.000000     0.000000                  0.0           0.000000   \n",
       "\n",
       "          CANCER        ASMA  ALZHEIMER       AIDS  RISK  \n",
       "0     116.545086  185.608840   8.632969   4.316485   0.0  \n",
       "1      30.241173  166.326453   0.000000   0.000000   0.0  \n",
       "2      66.669841   14.286395   0.000000   4.762132   0.0  \n",
       "3      95.095775   40.755332   0.000000  13.585111   0.0  \n",
       "4      70.642755   54.630397   0.941903  22.605682   0.0  \n",
       "...          ...         ...        ...        ...   ...  \n",
       "5565   67.842605    0.000000   0.000000   0.000000   0.0  \n",
       "5566   44.953922    0.000000   0.000000   0.000000   1.0  \n",
       "5567  105.708245    0.000000   0.000000   0.000000   1.0  \n",
       "5568   38.850039    0.000000   0.000000   0.000000   1.0  \n",
       "5569  249.376559    0.000000   0.000000   0.000000   1.0  \n",
       "\n",
       "[5569 rows x 16 columns]"
      ]
     },
     "execution_count": 21,
     "metadata": {},
     "output_type": "execute_result"
    }
   ],
   "source": [
    "df_18"
   ]
  },
  {
   "cell_type": "code",
   "execution_count": 22,
   "metadata": {},
   "outputs": [],
   "source": [
    "X_18 = df_18.iloc[:, 0:14].values\n",
    "y_18 = df_18.iloc[:, -1].values\n",
    "\n",
    "X_18 = sc.transform(X_18)\n",
    "y_18_pred = classifier.predict(X_18)"
   ]
  },
  {
   "cell_type": "code",
   "execution_count": 23,
   "metadata": {
    "pycharm": {
     "name": "#%%\n"
    },
    "scrolled": true
   },
   "outputs": [
    {
     "data": {
      "text/plain": [
       "1    3784\n",
       "0    1785\n",
       "dtype: int64"
      ]
     },
     "execution_count": 23,
     "metadata": {},
     "output_type": "execute_result"
    }
   ],
   "source": [
    "pd.Series(y_18_pred).value_counts()"
   ]
  },
  {
   "cell_type": "code",
   "execution_count": 24,
   "metadata": {
    "pycharm": {
     "name": "#%%\n"
    }
   },
   "outputs": [
    {
     "name": "stdout",
     "output_type": "stream",
     "text": [
      "Precision: 0.616014799154334\n",
      "Recall: 0.8433429811866859\n",
      "FBeta: 0.7853773584905661\n"
     ]
    }
   ],
   "source": [
    "from sklearn import metrics\n",
    "print(\"Precision:\",metrics.precision_score(y_18, y_18_pred))\n",
    "print(\"Recall:\",metrics.recall_score(y_18, y_18_pred))\n",
    "print(\"FBeta:\",metrics.fbeta_score(y_18, y_18_pred, beta=2.0))"
   ]
  }
 ],
 "metadata": {
  "kernelspec": {
   "display_name": "Python 3",
   "language": "python",
   "name": "python3"
  },
  "language_info": {
   "codemirror_mode": {
    "name": "ipython",
    "version": 3
   },
   "file_extension": ".py",
   "mimetype": "text/x-python",
   "name": "python",
   "nbconvert_exporter": "python",
   "pygments_lexer": "ipython3",
   "version": "3.7.4"
  }
 },
 "nbformat": 4,
 "nbformat_minor": 1
}
