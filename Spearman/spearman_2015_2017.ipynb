{
 "cells": [
  {
   "cell_type": "markdown",
   "metadata": {
    "collapsed": true,
    "pycharm": {
     "name": "#%% md\n"
    }
   },
   "source": [
    "# Spearman correlation\n",
    "AIDS: Dados provenientes de http://www2.aids.gov.br/cgi/deftohtm.exe?tabnet/sp.def\n",
    "\n",
    "TUBERCULOSE: Dados provenientes de http://tabnet.datasus.gov.br (cabeçalhos adaptados)\n",
    "\n",
    "ONCOLOGIA: http://tabnet.datasus.gov.br/cgi/webtabx.exe?PAINEL_ONCO/PAINEL_ONCOLOGIABR.def\n",
    "\n",
    "VIOLENCIA: http://tabnet.datasus.gov.br/cgi/deftohtm.exe?sinannet/cnv/violebr.def"
   ]
  },
  {
   "cell_type": "markdown",
   "metadata": {},
   "source": [
    "Import libraries"
   ]
  },
  {
   "cell_type": "code",
   "execution_count": 1,
   "metadata": {
    "pycharm": {
     "name": "#%%\n"
    }
   },
   "outputs": [],
   "source": [
    "import pandas as pd\n",
    "import glob\n",
    "from scipy.stats import spearmanr\n",
    "import seaborn as sns\n",
    "import matplotlib.pyplot as plt\n",
    "import numpy as np\n",
    "    "
   ]
  },
  {
   "cell_type": "markdown",
   "metadata": {
    "pycharm": {
     "name": "#%% md\n"
    }
   },
   "source": [
    "Read suicide csv"
   ]
  },
  {
   "cell_type": "code",
   "execution_count": 9,
   "metadata": {
    "pycharm": {
     "name": "#%%\n"
    }
   },
   "outputs": [],
   "source": [
    "suicide = pd.read_csv('../Suicide/CSV/suicide_rate_codmunres_2015_to_2017.csv', sep=',')"
   ]
  },
  {
   "cell_type": "markdown",
   "metadata": {},
   "source": [
    "Read disease files"
   ]
  },
  {
   "cell_type": "code",
   "execution_count": 10,
   "metadata": {
    "pycharm": {
     "name": "#%%\n"
    }
   },
   "outputs": [],
   "source": [
    "disease = \"\"\n",
    "path = '../TabNet/Rates/'\n",
    "all_files = glob.glob(path + \"*.csv\")\n",
    "diseases_list = []\n",
    "corrs_list = []\n",
    "p_value_list = []\n",
    "sizes_list = []\n",
    "\n",
    "for file in all_files:\n",
    "    file_name = file.split(\"\\\\\")[1]\n",
    "    disease = file_name.split(\"_RATE\")[0]\n",
    "    disease_df = pd.read_csv(path + disease + '_RATE_15_17.csv', sep=',', index_col=0)\n",
    "    disease_df = disease_df[[\"RATE\", \"MUNCOD\"]]\n",
    "\n",
    "    # Merge Files\n",
    "    result_df = pd.merge(disease_df, suicide, left_on=\"MUNCOD\", right_on=\"CODMUNRES\", how=\"inner\")\n",
    "    result_df = result_df[[\"RATE\", \"SUICIDE_RATE\"]]\n",
    "    \n",
    "    # Spearman correlation\n",
    "    file_array = result_df.iloc[:,0].values\n",
    "    suicides_array = result_df.iloc[:,1].values\n",
    "    corr, p_value = spearmanr(file_array,suicides_array)\n",
    "    \n",
    "    # Append correlation\n",
    "    sizes_list.append(result_df.shape[0])\n",
    "    diseases_list.append(disease)\n",
    "    corrs_list.append(corr)\n",
    "    p_value_list.append(p_value)"
   ]
  },
  {
   "cell_type": "markdown",
   "metadata": {
    "pycharm": {
     "name": "#%% md\n"
    }
   },
   "source": [
    "Spearman correlations table"
   ]
  },
  {
   "cell_type": "code",
   "execution_count": 11,
   "metadata": {
    "pycharm": {
     "name": "#%%\n"
    }
   },
   "outputs": [
    {
     "data": {
      "text/plain": "                      Doenças  Correlação com suicidio        P value  \\\n0                        AIDS                 0.129476   2.648902e-11   \n1                        ASMA                 0.066232   1.806399e-05   \n2                      CANCER                 0.367809  1.377102e-143   \n3           DIABETES_MELLITUS                 0.040743   6.442653e-03   \n4         DOENCA_DE_PARKINSON                 0.392882   1.225417e-33   \n5                 DORSOPATIAS                 0.284560   7.530136e-62   \n6                        DPOC                 0.299997   4.561264e-92   \n7                   ENXAQUECA                 0.256822   9.071638e-39   \n8                   EPILEPSIA                 0.150388   9.222920e-23   \n9          ESCLEROSE_MULTIPLA                 0.312146   4.522259e-27   \n10      HIPERTENSAO_ESSENCIAL                 0.039157   1.356361e-02   \n11     INSUFICIENCIA_CARDIACA                 0.233540   1.086728e-56   \n12        INSUFICIENCIA_RENAL                 0.195609   2.274258e-39   \n13                OSTEOPOROSE                 0.293610   3.228802e-76   \n14  TRAUMATISMO_INTRACRANIANO                 0.024055   1.082203e-01   \n\n    Número de municípios  \n0                   2630  \n1                   4184  \n2                   4481  \n3                   4470  \n4                    874  \n5                   3264  \n6                   4394  \n7                   2488  \n8                   4218  \n9                   1135  \n10                  3974  \n11                  4491  \n12                  4420  \n13                  3789  \n14                  4460  ",
      "text/html": "<div>\n<style scoped>\n    .dataframe tbody tr th:only-of-type {\n        vertical-align: middle;\n    }\n\n    .dataframe tbody tr th {\n        vertical-align: top;\n    }\n\n    .dataframe thead th {\n        text-align: right;\n    }\n</style>\n<table border=\"1\" class=\"dataframe\">\n  <thead>\n    <tr style=\"text-align: right;\">\n      <th></th>\n      <th>Doenças</th>\n      <th>Correlação com suicidio</th>\n      <th>P value</th>\n      <th>Número de municípios</th>\n    </tr>\n  </thead>\n  <tbody>\n    <tr>\n      <th>0</th>\n      <td>AIDS</td>\n      <td>0.129476</td>\n      <td>2.648902e-11</td>\n      <td>2630</td>\n    </tr>\n    <tr>\n      <th>1</th>\n      <td>ASMA</td>\n      <td>0.066232</td>\n      <td>1.806399e-05</td>\n      <td>4184</td>\n    </tr>\n    <tr>\n      <th>2</th>\n      <td>CANCER</td>\n      <td>0.367809</td>\n      <td>1.377102e-143</td>\n      <td>4481</td>\n    </tr>\n    <tr>\n      <th>3</th>\n      <td>DIABETES_MELLITUS</td>\n      <td>0.040743</td>\n      <td>6.442653e-03</td>\n      <td>4470</td>\n    </tr>\n    <tr>\n      <th>4</th>\n      <td>DOENCA_DE_PARKINSON</td>\n      <td>0.392882</td>\n      <td>1.225417e-33</td>\n      <td>874</td>\n    </tr>\n    <tr>\n      <th>5</th>\n      <td>DORSOPATIAS</td>\n      <td>0.284560</td>\n      <td>7.530136e-62</td>\n      <td>3264</td>\n    </tr>\n    <tr>\n      <th>6</th>\n      <td>DPOC</td>\n      <td>0.299997</td>\n      <td>4.561264e-92</td>\n      <td>4394</td>\n    </tr>\n    <tr>\n      <th>7</th>\n      <td>ENXAQUECA</td>\n      <td>0.256822</td>\n      <td>9.071638e-39</td>\n      <td>2488</td>\n    </tr>\n    <tr>\n      <th>8</th>\n      <td>EPILEPSIA</td>\n      <td>0.150388</td>\n      <td>9.222920e-23</td>\n      <td>4218</td>\n    </tr>\n    <tr>\n      <th>9</th>\n      <td>ESCLEROSE_MULTIPLA</td>\n      <td>0.312146</td>\n      <td>4.522259e-27</td>\n      <td>1135</td>\n    </tr>\n    <tr>\n      <th>10</th>\n      <td>HIPERTENSAO_ESSENCIAL</td>\n      <td>0.039157</td>\n      <td>1.356361e-02</td>\n      <td>3974</td>\n    </tr>\n    <tr>\n      <th>11</th>\n      <td>INSUFICIENCIA_CARDIACA</td>\n      <td>0.233540</td>\n      <td>1.086728e-56</td>\n      <td>4491</td>\n    </tr>\n    <tr>\n      <th>12</th>\n      <td>INSUFICIENCIA_RENAL</td>\n      <td>0.195609</td>\n      <td>2.274258e-39</td>\n      <td>4420</td>\n    </tr>\n    <tr>\n      <th>13</th>\n      <td>OSTEOPOROSE</td>\n      <td>0.293610</td>\n      <td>3.228802e-76</td>\n      <td>3789</td>\n    </tr>\n    <tr>\n      <th>14</th>\n      <td>TRAUMATISMO_INTRACRANIANO</td>\n      <td>0.024055</td>\n      <td>1.082203e-01</td>\n      <td>4460</td>\n    </tr>\n  </tbody>\n</table>\n</div>"
     },
     "execution_count": 11,
     "metadata": {},
     "output_type": "execute_result"
    }
   ],
   "source": [
    "corrs_data = {'Doenças': diseases_list, 'Correlação com suicidio': corrs_list, 'P value': p_value_list, 'Número de municípios': sizes_list}\n",
    "corrs_df = pd.DataFrame(data=corrs_data)\n",
    "corrs_df"
   ]
  }
 ],
 "metadata": {
  "kernelspec": {
   "display_name": "Python 3",
   "language": "python",
   "name": "python3"
  },
  "language_info": {
   "codemirror_mode": {
    "name": "ipython",
    "version": 3
   },
   "file_extension": ".py",
   "mimetype": "text/x-python",
   "name": "python",
   "nbconvert_exporter": "python",
   "pygments_lexer": "ipython3",
   "version": "3.7.4"
  }
 },
 "nbformat": 4,
 "nbformat_minor": 1
}