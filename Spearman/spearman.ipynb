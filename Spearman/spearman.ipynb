{
 "cells": [
  {
   "cell_type": "markdown",
   "metadata": {
    "collapsed": true,
    "pycharm": {
     "name": "#%% md\n"
    }
   },
   "source": [
    "# Spearman correlation\n",
    "AIDS: Dados provenientes de http://www2.aids.gov.br/cgi/deftohtm.exe?tabnet/sp.def\n",
    "\n",
    "TUBERCULOSE: Dados provenientes de http://tabnet.datasus.gov.br (cabeçalhos adaptados)\n",
    "\n",
    "ONCOLOGIA: http://tabnet.datasus.gov.br/cgi/webtabx.exe?PAINEL_ONCO/PAINEL_ONCOLOGIABR.def\n",
    "\n",
    "VIOLENCIA: http://tabnet.datasus.gov.br/cgi/deftohtm.exe?sinannet/cnv/violebr.def"
   ]
  },
  {
   "cell_type": "markdown",
   "metadata": {},
   "source": [
    "Import libraries"
   ]
  },
  {
   "cell_type": "code",
   "execution_count": 2,
   "metadata": {
    "pycharm": {
     "is_executing": false,
     "name": "#%%\n"
    }
   },
   "outputs": [],
   "source": [
    "import pandas as pd\n",
    "import glob\n",
    "from scipy.stats import spearmanr\n",
    "import seaborn as sns\n",
    "import matplotlib.pyplot as plt\n",
    "import numpy as np\n",
    "    "
   ]
  },
  {
   "cell_type": "markdown",
   "metadata": {
    "pycharm": {
     "name": "#%% md\n"
    }
   },
   "source": [
    "Read suicide csv"
   ]
  },
  {
   "cell_type": "code",
   "execution_count": 3,
   "metadata": {
    "pycharm": {
     "is_executing": false,
     "name": "#%%\n"
    }
   },
   "outputs": [],
   "source": [
    "suicide = pd.read_csv('../Suicide/suicide_count_res.csv', sep=',')"
   ]
  },
  {
   "cell_type": "markdown",
   "metadata": {},
   "source": [
    "Read disease files"
   ]
  },
  {
   "cell_type": "code",
   "execution_count": 4,
   "metadata": {
    "pycharm": {
     "is_executing": false,
     "name": "#%%\n"
    }
   },
   "outputs": [],
   "source": [
    "year = \"2017\"\n",
    "disease = \"\"\n",
    "all_files = glob.glob(\"*.csv\")\n",
    "diseases_list = []\n",
    "corrs_list = []\n",
    "p_value_list = []\n",
    "sizes_list = []\n",
    "for file in all_files:\n",
    "    disease = file.split(\"BR\")[0]\n",
    "    file = pd.read_csv(disease + 'BR' + year + '.csv', sep=',')\n",
    "    file = file[[\"QUANTIDADE\", \"MUNCOD\"]]\n",
    "    \n",
    "    # Merge Files\n",
    "    result = pd.merge(file, suicide, left_on=\"MUNCOD\", right_on=\"CODMUNRES\", how=\"inner\")\n",
    "    result = result[[\"QUANTIDADE\", \"SUICIDES\"]]\n",
    "    \n",
    "    # Spearman correlation\n",
    "    file_array = result.iloc[:,0].values\n",
    "    suicides_array = result.iloc[:,1].values\n",
    "    corr, p_value = spearmanr(file_array,suicides_array)\n",
    "    \n",
    "    # Append correlation\n",
    "    sizes_list.append(result.shape[0])\n",
    "    diseases_list.append(disease)\n",
    "    corrs_list.append(corr)\n",
    "    p_value_list.append(p_value)"
   ]
  },
  {
   "cell_type": "markdown",
   "metadata": {
    "pycharm": {
     "name": "#%% md\n"
    }
   },
   "source": [
    "Spearman correlations table"
   ]
  },
  {
   "cell_type": "code",
   "execution_count": 121,
   "metadata": {
    "pycharm": {
     "is_executing": false,
     "name": "#%%\n"
    }
   },
   "outputs": [
    {
     "data": {
      "text/plain": "       Doenças  Correlação com suicidio        P value  Número de municípios\n0         AIDS                 0.577176  5.255339e-187                  2102\n1       CANCER                 0.606616  3.922456e-308                  3071\n2       DENGUE                 0.304702   1.651206e-49                  2248\n3       MENTAL                 0.518291  8.602276e-199                  2895\n4  TUBERCULOSE                 0.531558  1.012461e-188                  2588\n5    VIOLENCIA                 0.516404  4.179197e-202                  2969",
      "text/html": "<div>\n<style scoped>\n    .dataframe tbody tr th:only-of-type {\n        vertical-align: middle;\n    }\n\n    .dataframe tbody tr th {\n        vertical-align: top;\n    }\n\n    .dataframe thead th {\n        text-align: right;\n    }\n</style>\n<table border=\"1\" class=\"dataframe\">\n  <thead>\n    <tr style=\"text-align: right;\">\n      <th></th>\n      <th>Doenças</th>\n      <th>Correlação com suicidio</th>\n      <th>P value</th>\n      <th>Número de municípios</th>\n    </tr>\n  </thead>\n  <tbody>\n    <tr>\n      <th>0</th>\n      <td>AIDS</td>\n      <td>0.577176</td>\n      <td>5.255339e-187</td>\n      <td>2102</td>\n    </tr>\n    <tr>\n      <th>1</th>\n      <td>CANCER</td>\n      <td>0.606616</td>\n      <td>3.922456e-308</td>\n      <td>3071</td>\n    </tr>\n    <tr>\n      <th>2</th>\n      <td>DENGUE</td>\n      <td>0.304702</td>\n      <td>1.651206e-49</td>\n      <td>2248</td>\n    </tr>\n    <tr>\n      <th>3</th>\n      <td>MENTAL</td>\n      <td>0.518291</td>\n      <td>8.602276e-199</td>\n      <td>2895</td>\n    </tr>\n    <tr>\n      <th>4</th>\n      <td>TUBERCULOSE</td>\n      <td>0.531558</td>\n      <td>1.012461e-188</td>\n      <td>2588</td>\n    </tr>\n    <tr>\n      <th>5</th>\n      <td>VIOLENCIA</td>\n      <td>0.516404</td>\n      <td>4.179197e-202</td>\n      <td>2969</td>\n    </tr>\n  </tbody>\n</table>\n</div>"
     },
     "metadata": {},
     "output_type": "execute_result",
     "execution_count": 121
    }
   ],
   "source": [
    "corrs_data = {'Doenças': diseases_list, 'Correlação com suicidio': corrs_list, 'P value': p_value_list, 'Número de municípios': sizes_list}\n",
    "corrs_df = pd.DataFrame(data=corrs_data)\n",
    "corrs_df"
   ]
  },
  {
   "cell_type": "markdown",
   "source": [
    "Table with diseases and suicide numbers merged per city"
   ],
   "metadata": {
    "collapsed": false
   }
  },
  {
   "cell_type": "code",
   "execution_count": 6,
   "outputs": [
    {
     "data": {
      "text/plain": "       AIDS  CANCER  DENGUE  MENTAL  TUBERCULOSE  VIOLENCIA  SUICIDES\n0      25.0      66      60      92           36         93        10\n1       9.0     133      24      32           26         33         5\n2      10.0      28      32      10           18         19         2\n3       4.0      15     253       5            2          5         1\n4       2.0      11       2       4            2          4         1\n...     ...     ...     ...     ...          ...        ...       ...\n1435    7.0      29     159      19            5         48         4\n1436    2.0       7      45      10            1          7         1\n1437   19.0      63     416      81           31        229         6\n1438    1.0      10      36      29            1          3         1\n1439  438.0    1450    3946    3698          361       3130       168\n\n[1440 rows x 7 columns]",
      "text/html": "<div>\n<style scoped>\n    .dataframe tbody tr th:only-of-type {\n        vertical-align: middle;\n    }\n\n    .dataframe tbody tr th {\n        vertical-align: top;\n    }\n\n    .dataframe thead th {\n        text-align: right;\n    }\n</style>\n<table border=\"1\" class=\"dataframe\">\n  <thead>\n    <tr style=\"text-align: right;\">\n      <th></th>\n      <th>AIDS</th>\n      <th>CANCER</th>\n      <th>DENGUE</th>\n      <th>MENTAL</th>\n      <th>TUBERCULOSE</th>\n      <th>VIOLENCIA</th>\n      <th>SUICIDES</th>\n    </tr>\n  </thead>\n  <tbody>\n    <tr>\n      <th>0</th>\n      <td>25.0</td>\n      <td>66</td>\n      <td>60</td>\n      <td>92</td>\n      <td>36</td>\n      <td>93</td>\n      <td>10</td>\n    </tr>\n    <tr>\n      <th>1</th>\n      <td>9.0</td>\n      <td>133</td>\n      <td>24</td>\n      <td>32</td>\n      <td>26</td>\n      <td>33</td>\n      <td>5</td>\n    </tr>\n    <tr>\n      <th>2</th>\n      <td>10.0</td>\n      <td>28</td>\n      <td>32</td>\n      <td>10</td>\n      <td>18</td>\n      <td>19</td>\n      <td>2</td>\n    </tr>\n    <tr>\n      <th>3</th>\n      <td>4.0</td>\n      <td>15</td>\n      <td>253</td>\n      <td>5</td>\n      <td>2</td>\n      <td>5</td>\n      <td>1</td>\n    </tr>\n    <tr>\n      <th>4</th>\n      <td>2.0</td>\n      <td>11</td>\n      <td>2</td>\n      <td>4</td>\n      <td>2</td>\n      <td>4</td>\n      <td>1</td>\n    </tr>\n    <tr>\n      <th>...</th>\n      <td>...</td>\n      <td>...</td>\n      <td>...</td>\n      <td>...</td>\n      <td>...</td>\n      <td>...</td>\n      <td>...</td>\n    </tr>\n    <tr>\n      <th>1435</th>\n      <td>7.0</td>\n      <td>29</td>\n      <td>159</td>\n      <td>19</td>\n      <td>5</td>\n      <td>48</td>\n      <td>4</td>\n    </tr>\n    <tr>\n      <th>1436</th>\n      <td>2.0</td>\n      <td>7</td>\n      <td>45</td>\n      <td>10</td>\n      <td>1</td>\n      <td>7</td>\n      <td>1</td>\n    </tr>\n    <tr>\n      <th>1437</th>\n      <td>19.0</td>\n      <td>63</td>\n      <td>416</td>\n      <td>81</td>\n      <td>31</td>\n      <td>229</td>\n      <td>6</td>\n    </tr>\n    <tr>\n      <th>1438</th>\n      <td>1.0</td>\n      <td>10</td>\n      <td>36</td>\n      <td>29</td>\n      <td>1</td>\n      <td>3</td>\n      <td>1</td>\n    </tr>\n    <tr>\n      <th>1439</th>\n      <td>438.0</td>\n      <td>1450</td>\n      <td>3946</td>\n      <td>3698</td>\n      <td>361</td>\n      <td>3130</td>\n      <td>168</td>\n    </tr>\n  </tbody>\n</table>\n<p>1440 rows × 7 columns</p>\n</div>"
     },
     "metadata": {},
     "output_type": "execute_result",
     "execution_count": 6
    }
   ],
   "source": [
    "result = suicide\n",
    "for file in all_files:\n",
    "    disease = file.split(\"BR\")[0]\n",
    "    file = pd.read_csv(disease + 'BR' + year + '.csv', sep=',')\n",
    "    file = file[[\"QUANTIDADE\", \"MUNCOD\"]]\n",
    "    file.rename(columns={\"QUANTIDADE\": disease}, inplace=True)\n",
    "    \n",
    "    # Merge with current dataframe\n",
    "    result = pd.merge(file, result, left_on=\"MUNCOD\", right_on=\"CODMUNRES\", how=\"inner\")\n",
    "\n",
    "# Add SUICIDES to columns\n",
    "result = result[diseases_list + [\"SUICIDES\"]]\n",
    "result"
   ],
   "metadata": {
    "collapsed": false,
    "pycharm": {
     "name": "#%%\n",
     "is_executing": false
    }
   }
  },
  {
   "cell_type": "markdown",
   "source": [
    "Heatmap of the diseases and suicide"
   ],
   "metadata": {
    "collapsed": false
   }
  },
  {
   "cell_type": "code",
   "execution_count": 7,
   "outputs": [
    {
     "data": {
      "text/plain": "<matplotlib.axes._subplots.AxesSubplot at 0x1b94f94f608>"
     },
     "metadata": {},
     "output_type": "execute_result",
     "execution_count": 7
    },
    {
     "data": {
      "text/plain": "<Figure size 432x288 with 2 Axes>",
      "image/png": "[encoded data removed]"
     },
     "metadata": {
      "needs_background": "light"
     },
     "output_type": "display_data"
    }
   ],
   "source": [
    "sns.heatmap(result.corr(), annot=True, vmin=-1, vmax=1, center=0)"
   ],
   "metadata": {
    "collapsed": false,
    "pycharm": {
     "name": "#%%\n",
     "is_executing": false
    }
   }
  },
  {
   "cell_type": "markdown",
   "source": [
    "Scatter plot to visualize relationship between suicide and dengue"
   ],
   "metadata": {
    "collapsed": false,
    "pycharm": {
     "name": "#%% md\n",
     "is_executing": false
    }
   }
  },
  {
   "cell_type": "code",
   "execution_count": null,
   "outputs": [],
   "source": [
    "file = pd.read_csv('DENGUEBR2017.csv', sep=',')\n",
    "file = file[[\"QUANTIDADE\", \"MUNCOD\"]]\n",
    "result = pd.merge(file, suicide, left_on=\"MUNCOD\", right_on=\"CODMUNRES\", how=\"inner\")\n",
    "result = result[[\"QUANTIDADE\", \"SUICIDES\"]]\n",
    "plt.scatter(result[\"QUANTIDADE\"], result[\"SUICIDES\"], s=5, color='#4e48ab')\n",
    "plt.xlabel(\"Nº casos confirmados dengue\")\n",
    "plt.ylabel(\"Nº de suicídios\")\n",
    "plt.title(\"Dengue x Suicídio\")\n",
    "axes = plt.gca()\n",
    "axes.set_xlim([0,2000])\n",
    "axes.set_ylim([0,100])\n",
    "plt.style.use('dark_background')\n",
    "plt.rcParams['axes.facecolor'] = '#f8fafb'\n",
    "plt.rcParams['savefig.facecolor'] = '#33364f'\n",
    "plt.savefig(\"dengue.png\")"
   ],
   "metadata": {
    "collapsed": false,
    "pycharm": {
     "name": "#%%\n"
    }
   }
  }
 ],
 "metadata": {
  "kernelspec": {
   "display_name": "Python 3",
   "language": "python",
   "name": "python3"
  },
  "language_info": {
   "codemirror_mode": {
    "name": "ipython",
    "version": 3
   },
   "file_extension": ".py",
   "mimetype": "text/x-python",
   "name": "python",
   "nbconvert_exporter": "python",
   "pygments_lexer": "ipython3",
   "version": "3.7.4"
  },
  "pycharm": {
   "stem_cell": {
    "cell_type": "raw",
    "source": [],
    "metadata": {
     "collapsed": false
    }
   }
  }
 },
 "nbformat": 4,
 "nbformat_minor": 1
}