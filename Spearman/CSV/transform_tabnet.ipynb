{
 "cells": [
  {
   "cell_type": "markdown",
   "source": [
    "# Transforma arquivos do Tabnet\n",
    "Como usar:\n",
    "\n",
    "* Acessar http://tabnet.datasus.gov.br/cgi/deftohtm.exe?sih/cnv/nrbr.def\n",
    "* Escolher\n",
    "    - Linha: Município\n",
    "    - Conteúdo: Internações\n",
    "    - Período disponível: Selecionar de Jan/2017 a Dez/2017\n",
    "    - Lista Morb CID-10: Selecionar doença (ex: traumatismo intracraniano)\n",
    "* Escolher opção \"colunas separadas por \";\"\"\n",
    "* Clicar em Mostra\n",
    "* Copiar dados a partir da linha \"Município\";\"Internações\" até a ultima linha (desconsiderando a linha \"Total\";xxx)\n",
    "* Criar um arquivo .csv nessa pasta com o nome da doença em questão (ex: traumatismo.csv)\n",
    "* Atualizar o nome do arquivo e da doença no código abaixo\n",
    "* Rodar o código"
   ],
   "metadata": {
    "collapsed": false,
    "pycharm": {
     "name": "#%% md\n"
    }
   }
  },
  {
   "cell_type": "markdown",
   "source": [
    "Import libraries"
   ],
   "metadata": {
    "collapsed": false,
    "pycharm": {
     "name": "#%% md\n"
    }
   }
  },
  {
   "cell_type": "code",
   "execution_count": null,
   "outputs": [],
   "source": [
    "import pandas as pd"
   ],
   "metadata": {
    "collapsed": false,
    "pycharm": {
     "name": "#%%\n"
    }
   }
  },
  {
   "cell_type": "markdown",
   "source": [
    "Creates quantity file"
   ],
   "metadata": {
    "collapsed": false,
    "pycharm": {
     "name": "#%% md\n"
    }
   }
  },
  {
   "cell_type": "code",
   "execution_count": 30,
   "outputs": [],
   "source": [
    "doenca = 'TRAUMATISMO'\n",
    "table = pd.read_csv('traumatismo.csv', sep=';')\n",
    "table['MUNCOD'] = table['Município'].str.split(' ', expand=True,)[0]\n",
    "table.drop('Município', axis=1, inplace=True)\n",
    "table.rename(columns={\"Internações\": \"QUANTIDADE\"}, inplace=True)\n",
    "table.to_csv('Quantity/' + doenca + 'BR2017.csv')"
   ],
   "metadata": {
    "collapsed": false,
    "pycharm": {
     "name": "#%%\n"
    }
   }
  },
  {
   "cell_type": "markdown",
   "source": [
    "Creates rates file"
   ],
   "metadata": {
    "collapsed": false,
    "pycharm": {
     "name": "#%% md\n"
    }
   }
  },
  {
   "cell_type": "code",
   "execution_count": 31,
   "outputs": [],
   "source": [
    "table = pd.read_csv('Quantity/' + doenca + 'BR2017.csv')\n",
    "df=pd.read_csv('../../util/POPULATION_2017.csv')\n",
    "suicide = pd.read_csv('../../Suicide/CSV/suicide_rate_codmunres.csv')\n",
    "result = pd.merge(table, df, left_on=\"MUNCOD\", right_on=\"MUNCOD\", how=\"inner\")\n",
    "result = pd.merge(result, suicide, left_on=\"MUNCOD\", right_on=\"CODMUNRES\", how=\"inner\")\n",
    "result['QUANTIDADE_RATE'] = result['QUANTIDADE']/result['POPULATION'] * 100000\n",
    "result = result[[\"QUANTIDADE_RATE\", \"SUICIDE_RATE\", \"MUNCOD\"]]\n",
    "result.to_csv('Rates/' + doenca + \"BR2017_RATE.csv\")"
   ],
   "metadata": {
    "collapsed": false,
    "pycharm": {
     "name": "#%%\n"
    }
   }
  }
 ],
 "metadata": {
  "kernelspec": {
   "display_name": "Python 3",
   "language": "python",
   "name": "python3"
  },
  "language_info": {
   "codemirror_mode": {
    "name": "ipython",
    "version": 2
   },
   "file_extension": ".py",
   "mimetype": "text/x-python",
   "name": "python",
   "nbconvert_exporter": "python",
   "pygments_lexer": "ipython2",
   "version": "2.7.6"
  }
 },
 "nbformat": 4,
 "nbformat_minor": 0
}