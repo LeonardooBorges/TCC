{
 "cells": [
  {
   "cell_type": "markdown",
   "metadata": {},
   "source": [
    "# Negative Binomial Regression Modeling of Suicide Quantities vs. Cancer"
   ]
  },
  {
   "cell_type": "markdown",
   "metadata": {},
   "source": [
    "The idea is to model the suicides quantity by means of a NB2 model.\n",
    "\n",
    "This model admits only integer outputs. So, we won't use the suicide/occurences rates here.\n",
    "\n",
    "To compensate, we set the municipality's population as a parameter to the model.\n",
    "\n",
    "We want to verify if this model fits well to the data. If that's the case, we could model the suicide quantities similarly, and future predictions should be worth.\n",
    "\n",
    "(It's based on the Poisson regression model, but doens't make any assumtions on output's distribution)\n",
    "\n",
    "References:\n",
    "- https://towardsdatascience.com/negative-binomial-regression-f99031bb25b4"
   ]
  },
  {
   "cell_type": "code",
   "execution_count": 1,
   "metadata": {},
   "outputs": [
    {
     "name": "stderr",
     "output_type": "stream",
     "text": [
      "C:\\Users\\marco\\Anaconda3\\lib\\importlib\\_bootstrap.py:219: RuntimeWarning: numpy.ufunc size changed, may indicate binary incompatibility. Expected 192 from C header, got 216 from PyObject\n",
      "  return f(*args, **kwds)\n",
      "C:\\Users\\marco\\Anaconda3\\lib\\importlib\\_bootstrap.py:219: RuntimeWarning: numpy.ufunc size changed, may indicate binary incompatibility. Expected 192 from C header, got 216 from PyObject\n",
      "  return f(*args, **kwds)\n",
      "C:\\Users\\marco\\Anaconda3\\lib\\importlib\\_bootstrap.py:219: RuntimeWarning: numpy.ufunc size changed, may indicate binary incompatibility. Expected 192 from C header, got 216 from PyObject\n",
      "  return f(*args, **kwds)\n",
      "C:\\Users\\marco\\Anaconda3\\lib\\importlib\\_bootstrap.py:219: RuntimeWarning: numpy.ufunc size changed, may indicate binary incompatibility. Expected 192 from C header, got 216 from PyObject\n",
      "  return f(*args, **kwds)\n"
     ]
    },
    {
     "name": "stdout",
     "output_type": "stream",
     "text": [
      "Populating the interactive namespace from numpy and matplotlib\n"
     ]
    }
   ],
   "source": [
    "import pandas as pd\n",
    "import numpy as np\n",
    "import statsmodels.api as sm\n",
    "import statsmodels.formula.api as smf\n",
    "\n",
    "pd.set_option('display.max_columns', 100)\n",
    "%matplotlib inline\n",
    "%pylab inline"
   ]
  },
  {
   "cell_type": "markdown",
   "metadata": {},
   "source": [
    "Import datasets:"
   ]
  },
  {
   "cell_type": "code",
   "execution_count": 2,
   "metadata": {},
   "outputs": [],
   "source": [
    "suicides = pd.read_csv('../Suicide/CSV/suicides_codmunres.csv')\n",
    "population = pd.read_csv('../util/POPULATION_2017.csv', index_col=0)\n",
    "municipalities = pd.read_csv('../util/CADMUN.csv')\n",
    "cancer = pd.read_csv('CANCERBR2017.csv', index_col=0)"
   ]
  },
  {
   "cell_type": "code",
   "execution_count": 3,
   "metadata": {},
   "outputs": [
    {
     "data": {
      "text/plain": [
       "((3149, 2), (5570, 2), (5652, 28), (5359, 2))"
      ]
     },
     "execution_count": 3,
     "metadata": {},
     "output_type": "execute_result"
    }
   ],
   "source": [
    "suicides.shape, population.shape, municipalities.shape, cancer.shape"
   ]
  },
  {
   "cell_type": "code",
   "execution_count": 4,
   "metadata": {},
   "outputs": [
    {
     "data": {
      "text/plain": [
       "0"
      ]
     },
     "execution_count": 4,
     "metadata": {},
     "output_type": "execute_result"
    }
   ],
   "source": [
    "len(suicides[suicides['SUICIDES'] == 0])"
   ]
  },
  {
   "cell_type": "markdown",
   "metadata": {},
   "source": [
    "Let's merge the files:"
   ]
  },
  {
   "cell_type": "code",
   "execution_count": 5,
   "metadata": {},
   "outputs": [
    {
     "data": {
      "text/plain": [
       "(5359, 32)"
      ]
     },
     "execution_count": 5,
     "metadata": {},
     "output_type": "execute_result"
    }
   ],
   "source": [
    "df = pd.merge(left=population, right=municipalities, left_on='MUNCOD', right_on='MUNCOD', how='left')\n",
    "df = pd.merge(left=df, right=cancer, left_on='MUNCOD', right_on='MUNCOD', how='right')\n",
    "df = pd.merge(left=df, right=suicides, left_on='MUNCOD', right_on='CODMUNRES', how='left')\n",
    "df.shape"
   ]
  },
  {
   "cell_type": "code",
   "execution_count": 6,
   "metadata": {},
   "outputs": [
    {
     "data": {
      "text/html": [
       "<div>\n",
       "<style scoped>\n",
       "    .dataframe tbody tr th:only-of-type {\n",
       "        vertical-align: middle;\n",
       "    }\n",
       "\n",
       "    .dataframe tbody tr th {\n",
       "        vertical-align: top;\n",
       "    }\n",
       "\n",
       "    .dataframe thead th {\n",
       "        text-align: right;\n",
       "    }\n",
       "</style>\n",
       "<table border=\"1\" class=\"dataframe\">\n",
       "  <thead>\n",
       "    <tr style=\"text-align: right;\">\n",
       "      <th></th>\n",
       "      <th>POPULATION</th>\n",
       "      <th>MUNCOD</th>\n",
       "      <th>MUNCODDV</th>\n",
       "      <th>SITUACAO</th>\n",
       "      <th>MUNSINP</th>\n",
       "      <th>MUNSIAFI</th>\n",
       "      <th>MUNNOME</th>\n",
       "      <th>MUNNOMEX</th>\n",
       "      <th>OBSERV</th>\n",
       "      <th>MUNSINON</th>\n",
       "      <th>MUNSINONDV</th>\n",
       "      <th>AMAZONIA</th>\n",
       "      <th>FRONTEIRA</th>\n",
       "      <th>CAPITAL</th>\n",
       "      <th>UFCOD</th>\n",
       "      <th>MESOCOD</th>\n",
       "      <th>MICROCOD</th>\n",
       "      <th>MSAUDCOD</th>\n",
       "      <th>RSAUDCOD</th>\n",
       "      <th>CSAUDCOD</th>\n",
       "      <th>RMETRCOD</th>\n",
       "      <th>AGLCOD</th>\n",
       "      <th>ANOINST</th>\n",
       "      <th>ANOEXT</th>\n",
       "      <th>SUCESSOR</th>\n",
       "      <th>LATITUDE</th>\n",
       "      <th>LONGITUDE</th>\n",
       "      <th>ALTITUDE</th>\n",
       "      <th>AREA</th>\n",
       "      <th>QUANTIDADE</th>\n",
       "      <th>CODMUNRES</th>\n",
       "      <th>SUICIDES</th>\n",
       "    </tr>\n",
       "  </thead>\n",
       "  <tbody>\n",
       "    <tr>\n",
       "      <td>0</td>\n",
       "      <td>25437.0</td>\n",
       "      <td>110001.0</td>\n",
       "      <td>1100015.0</td>\n",
       "      <td>ATIVO</td>\n",
       "      <td>26016.0</td>\n",
       "      <td>33.0</td>\n",
       "      <td>Alta Floresta D'Oeste</td>\n",
       "      <td>ALTA FLORESTA D'OESTE</td>\n",
       "      <td>NaN</td>\n",
       "      <td>NaN</td>\n",
       "      <td>NaN</td>\n",
       "      <td>S</td>\n",
       "      <td>S</td>\n",
       "      <td>N</td>\n",
       "      <td>11.0</td>\n",
       "      <td>1102.0</td>\n",
       "      <td>11006.0</td>\n",
       "      <td>1190.0</td>\n",
       "      <td>1102.0</td>\n",
       "      <td>11900.0</td>\n",
       "      <td>1190.0</td>\n",
       "      <td>1190.0</td>\n",
       "      <td>1986.0</td>\n",
       "      <td>NaN</td>\n",
       "      <td>NaN</td>\n",
       "      <td>-11.929</td>\n",
       "      <td>-61.996</td>\n",
       "      <td>350.0</td>\n",
       "      <td>7066.702</td>\n",
       "      <td>25</td>\n",
       "      <td>110001.0</td>\n",
       "      <td>3.0</td>\n",
       "    </tr>\n",
       "    <tr>\n",
       "      <td>1</td>\n",
       "      <td>107345.0</td>\n",
       "      <td>110002.0</td>\n",
       "      <td>1100023.0</td>\n",
       "      <td>ATIVO</td>\n",
       "      <td>26004.0</td>\n",
       "      <td>7.0</td>\n",
       "      <td>Ariquemes</td>\n",
       "      <td>ARIQUEMES</td>\n",
       "      <td>NaN</td>\n",
       "      <td>NaN</td>\n",
       "      <td>NaN</td>\n",
       "      <td>S</td>\n",
       "      <td>N</td>\n",
       "      <td>N</td>\n",
       "      <td>11.0</td>\n",
       "      <td>1102.0</td>\n",
       "      <td>11003.0</td>\n",
       "      <td>1190.0</td>\n",
       "      <td>1104.0</td>\n",
       "      <td>11900.0</td>\n",
       "      <td>1190.0</td>\n",
       "      <td>1190.0</td>\n",
       "      <td>1977.0</td>\n",
       "      <td>NaN</td>\n",
       "      <td>NaN</td>\n",
       "      <td>-9.913</td>\n",
       "      <td>-63.041</td>\n",
       "      <td>142.0</td>\n",
       "      <td>4426.558</td>\n",
       "      <td>66</td>\n",
       "      <td>110002.0</td>\n",
       "      <td>10.0</td>\n",
       "    </tr>\n",
       "    <tr>\n",
       "      <td>2</td>\n",
       "      <td>6224.0</td>\n",
       "      <td>110003.0</td>\n",
       "      <td>1100031.0</td>\n",
       "      <td>ATIVO</td>\n",
       "      <td>26020.0</td>\n",
       "      <td>37.0</td>\n",
       "      <td>Cabixi</td>\n",
       "      <td>CABIXI</td>\n",
       "      <td>NaN</td>\n",
       "      <td>NaN</td>\n",
       "      <td>NaN</td>\n",
       "      <td>S</td>\n",
       "      <td>S</td>\n",
       "      <td>N</td>\n",
       "      <td>11.0</td>\n",
       "      <td>1102.0</td>\n",
       "      <td>11008.0</td>\n",
       "      <td>1190.0</td>\n",
       "      <td>1103.0</td>\n",
       "      <td>11900.0</td>\n",
       "      <td>1190.0</td>\n",
       "      <td>1190.0</td>\n",
       "      <td>1989.0</td>\n",
       "      <td>NaN</td>\n",
       "      <td>NaN</td>\n",
       "      <td>-13.492</td>\n",
       "      <td>-60.545</td>\n",
       "      <td>230.0</td>\n",
       "      <td>1314.355</td>\n",
       "      <td>4</td>\n",
       "      <td>NaN</td>\n",
       "      <td>NaN</td>\n",
       "    </tr>\n",
       "    <tr>\n",
       "      <td>3</td>\n",
       "      <td>88507.0</td>\n",
       "      <td>110004.0</td>\n",
       "      <td>1100049.0</td>\n",
       "      <td>ATIVO</td>\n",
       "      <td>26007.0</td>\n",
       "      <td>9.0</td>\n",
       "      <td>Cacoal</td>\n",
       "      <td>CACOAL</td>\n",
       "      <td>NaN</td>\n",
       "      <td>NaN</td>\n",
       "      <td>NaN</td>\n",
       "      <td>S</td>\n",
       "      <td>N</td>\n",
       "      <td>N</td>\n",
       "      <td>11.0</td>\n",
       "      <td>1102.0</td>\n",
       "      <td>11006.0</td>\n",
       "      <td>1190.0</td>\n",
       "      <td>1102.0</td>\n",
       "      <td>11900.0</td>\n",
       "      <td>1190.0</td>\n",
       "      <td>1190.0</td>\n",
       "      <td>1977.0</td>\n",
       "      <td>NaN</td>\n",
       "      <td>NaN</td>\n",
       "      <td>-11.438</td>\n",
       "      <td>-61.448</td>\n",
       "      <td>200.0</td>\n",
       "      <td>3792.638</td>\n",
       "      <td>133</td>\n",
       "      <td>110004.0</td>\n",
       "      <td>5.0</td>\n",
       "    </tr>\n",
       "    <tr>\n",
       "      <td>4</td>\n",
       "      <td>17934.0</td>\n",
       "      <td>110005.0</td>\n",
       "      <td>1100056.0</td>\n",
       "      <td>ATIVO</td>\n",
       "      <td>26014.0</td>\n",
       "      <td>27.0</td>\n",
       "      <td>Cerejeiras</td>\n",
       "      <td>CEREJEIRAS</td>\n",
       "      <td>NaN</td>\n",
       "      <td>NaN</td>\n",
       "      <td>NaN</td>\n",
       "      <td>S</td>\n",
       "      <td>S</td>\n",
       "      <td>N</td>\n",
       "      <td>11.0</td>\n",
       "      <td>1102.0</td>\n",
       "      <td>11008.0</td>\n",
       "      <td>1190.0</td>\n",
       "      <td>1103.0</td>\n",
       "      <td>11900.0</td>\n",
       "      <td>1190.0</td>\n",
       "      <td>1190.0</td>\n",
       "      <td>1983.0</td>\n",
       "      <td>NaN</td>\n",
       "      <td>NaN</td>\n",
       "      <td>-13.189</td>\n",
       "      <td>-60.812</td>\n",
       "      <td>277.0</td>\n",
       "      <td>2783.305</td>\n",
       "      <td>15</td>\n",
       "      <td>110005.0</td>\n",
       "      <td>1.0</td>\n",
       "    </tr>\n",
       "  </tbody>\n",
       "</table>\n",
       "</div>"
      ],
      "text/plain": [
       "   POPULATION    MUNCOD   MUNCODDV SITUACAO  MUNSINP  MUNSIAFI  \\\n",
       "0     25437.0  110001.0  1100015.0    ATIVO  26016.0      33.0   \n",
       "1    107345.0  110002.0  1100023.0    ATIVO  26004.0       7.0   \n",
       "2      6224.0  110003.0  1100031.0    ATIVO  26020.0      37.0   \n",
       "3     88507.0  110004.0  1100049.0    ATIVO  26007.0       9.0   \n",
       "4     17934.0  110005.0  1100056.0    ATIVO  26014.0      27.0   \n",
       "\n",
       "                 MUNNOME               MUNNOMEX OBSERV MUNSINON MUNSINONDV  \\\n",
       "0  Alta Floresta D'Oeste  ALTA FLORESTA D'OESTE    NaN      NaN        NaN   \n",
       "1              Ariquemes              ARIQUEMES    NaN      NaN        NaN   \n",
       "2                 Cabixi                 CABIXI    NaN      NaN        NaN   \n",
       "3                 Cacoal                 CACOAL    NaN      NaN        NaN   \n",
       "4             Cerejeiras             CEREJEIRAS    NaN      NaN        NaN   \n",
       "\n",
       "  AMAZONIA FRONTEIRA CAPITAL  UFCOD  MESOCOD  MICROCOD  MSAUDCOD  RSAUDCOD  \\\n",
       "0        S         S       N   11.0   1102.0   11006.0    1190.0    1102.0   \n",
       "1        S         N       N   11.0   1102.0   11003.0    1190.0    1104.0   \n",
       "2        S         S       N   11.0   1102.0   11008.0    1190.0    1103.0   \n",
       "3        S         N       N   11.0   1102.0   11006.0    1190.0    1102.0   \n",
       "4        S         S       N   11.0   1102.0   11008.0    1190.0    1103.0   \n",
       "\n",
       "   CSAUDCOD  RMETRCOD  AGLCOD  ANOINST  ANOEXT  SUCESSOR  LATITUDE  LONGITUDE  \\\n",
       "0   11900.0    1190.0  1190.0   1986.0     NaN       NaN   -11.929    -61.996   \n",
       "1   11900.0    1190.0  1190.0   1977.0     NaN       NaN    -9.913    -63.041   \n",
       "2   11900.0    1190.0  1190.0   1989.0     NaN       NaN   -13.492    -60.545   \n",
       "3   11900.0    1190.0  1190.0   1977.0     NaN       NaN   -11.438    -61.448   \n",
       "4   11900.0    1190.0  1190.0   1983.0     NaN       NaN   -13.189    -60.812   \n",
       "\n",
       "   ALTITUDE      AREA  QUANTIDADE  CODMUNRES  SUICIDES  \n",
       "0     350.0  7066.702          25   110001.0       3.0  \n",
       "1     142.0  4426.558          66   110002.0      10.0  \n",
       "2     230.0  1314.355           4        NaN       NaN  \n",
       "3     200.0  3792.638         133   110004.0       5.0  \n",
       "4     277.0  2783.305          15   110005.0       1.0  "
      ]
     },
     "execution_count": 6,
     "metadata": {},
     "output_type": "execute_result"
    }
   ],
   "source": [
    "df.head()"
   ]
  },
  {
   "cell_type": "code",
   "execution_count": 7,
   "metadata": {},
   "outputs": [
    {
     "data": {
      "text/html": [
       "<div>\n",
       "<style scoped>\n",
       "    .dataframe tbody tr th:only-of-type {\n",
       "        vertical-align: middle;\n",
       "    }\n",
       "\n",
       "    .dataframe tbody tr th {\n",
       "        vertical-align: top;\n",
       "    }\n",
       "\n",
       "    .dataframe thead th {\n",
       "        text-align: right;\n",
       "    }\n",
       "</style>\n",
       "<table border=\"1\" class=\"dataframe\">\n",
       "  <thead>\n",
       "    <tr style=\"text-align: right;\">\n",
       "      <th></th>\n",
       "      <th>MUNCOD</th>\n",
       "      <th>POPULATION</th>\n",
       "      <th>CAPITAL</th>\n",
       "      <th>LATITUDE</th>\n",
       "      <th>LONGITUDE</th>\n",
       "      <th>ALTITUDE</th>\n",
       "      <th>AREA</th>\n",
       "      <th>CANCER_QTT</th>\n",
       "      <th>SUICIDES</th>\n",
       "    </tr>\n",
       "  </thead>\n",
       "  <tbody>\n",
       "    <tr>\n",
       "      <td>0</td>\n",
       "      <td>110001.0</td>\n",
       "      <td>25437.0</td>\n",
       "      <td>N</td>\n",
       "      <td>-11.929</td>\n",
       "      <td>-61.996</td>\n",
       "      <td>350.0</td>\n",
       "      <td>7066.702</td>\n",
       "      <td>25</td>\n",
       "      <td>3.0</td>\n",
       "    </tr>\n",
       "    <tr>\n",
       "      <td>1</td>\n",
       "      <td>110002.0</td>\n",
       "      <td>107345.0</td>\n",
       "      <td>N</td>\n",
       "      <td>-9.913</td>\n",
       "      <td>-63.041</td>\n",
       "      <td>142.0</td>\n",
       "      <td>4426.558</td>\n",
       "      <td>66</td>\n",
       "      <td>10.0</td>\n",
       "    </tr>\n",
       "    <tr>\n",
       "      <td>2</td>\n",
       "      <td>110003.0</td>\n",
       "      <td>6224.0</td>\n",
       "      <td>N</td>\n",
       "      <td>-13.492</td>\n",
       "      <td>-60.545</td>\n",
       "      <td>230.0</td>\n",
       "      <td>1314.355</td>\n",
       "      <td>4</td>\n",
       "      <td>NaN</td>\n",
       "    </tr>\n",
       "    <tr>\n",
       "      <td>3</td>\n",
       "      <td>110004.0</td>\n",
       "      <td>88507.0</td>\n",
       "      <td>N</td>\n",
       "      <td>-11.438</td>\n",
       "      <td>-61.448</td>\n",
       "      <td>200.0</td>\n",
       "      <td>3792.638</td>\n",
       "      <td>133</td>\n",
       "      <td>5.0</td>\n",
       "    </tr>\n",
       "    <tr>\n",
       "      <td>4</td>\n",
       "      <td>110005.0</td>\n",
       "      <td>17934.0</td>\n",
       "      <td>N</td>\n",
       "      <td>-13.189</td>\n",
       "      <td>-60.812</td>\n",
       "      <td>277.0</td>\n",
       "      <td>2783.305</td>\n",
       "      <td>15</td>\n",
       "      <td>1.0</td>\n",
       "    </tr>\n",
       "  </tbody>\n",
       "</table>\n",
       "</div>"
      ],
      "text/plain": [
       "     MUNCOD  POPULATION CAPITAL  LATITUDE  LONGITUDE  ALTITUDE      AREA  \\\n",
       "0  110001.0     25437.0       N   -11.929    -61.996     350.0  7066.702   \n",
       "1  110002.0    107345.0       N    -9.913    -63.041     142.0  4426.558   \n",
       "2  110003.0      6224.0       N   -13.492    -60.545     230.0  1314.355   \n",
       "3  110004.0     88507.0       N   -11.438    -61.448     200.0  3792.638   \n",
       "4  110005.0     17934.0       N   -13.189    -60.812     277.0  2783.305   \n",
       "\n",
       "   CANCER_QTT  SUICIDES  \n",
       "0          25       3.0  \n",
       "1          66      10.0  \n",
       "2           4       NaN  \n",
       "3         133       5.0  \n",
       "4          15       1.0  "
      ]
     },
     "execution_count": 7,
     "metadata": {},
     "output_type": "execute_result"
    }
   ],
   "source": [
    "df = df[['MUNCOD', 'POPULATION', 'CAPITAL', 'LATITUDE', 'LONGITUDE', 'ALTITUDE', 'AREA', 'QUANTIDADE', 'SUICIDES']]\n",
    "df = df.rename(columns={\"QUANTIDADE\": \"CANCER_QTT\"})\n",
    "df.head()"
   ]
  },
  {
   "cell_type": "code",
   "execution_count": 8,
   "metadata": {},
   "outputs": [
    {
     "data": {
      "text/plain": [
       "False    5354\n",
       "True        5\n",
       "Name: POPULATION, dtype: int64"
      ]
     },
     "execution_count": 8,
     "metadata": {},
     "output_type": "execute_result"
    }
   ],
   "source": [
    "(df['POPULATION'].isnull()).value_counts()"
   ]
  },
  {
   "cell_type": "code",
   "execution_count": 9,
   "metadata": {},
   "outputs": [
    {
     "data": {
      "text/plain": [
       "False    5354\n",
       "Name: POPULATION, dtype: int64"
      ]
     },
     "execution_count": 9,
     "metadata": {},
     "output_type": "execute_result"
    }
   ],
   "source": [
    "df = df[~df['POPULATION'].isnull()]\n",
    "(df['POPULATION'].isnull()).value_counts()"
   ]
  },
  {
   "cell_type": "markdown",
   "metadata": {},
   "source": [
    "As there's no municipality with 0 suicides, let's assume these ones have 0 suicides for the year of 2017."
   ]
  },
  {
   "cell_type": "code",
   "execution_count": 10,
   "metadata": {},
   "outputs": [],
   "source": [
    "df['MUNCOD'] = df['MUNCOD'].astype(np.int64)\n",
    "df['POPULATION'] = df['POPULATION'].astype(np.int64)\n",
    "df['SUICIDES'] = df['SUICIDES'].fillna(0).astype(np.int64)"
   ]
  },
  {
   "cell_type": "code",
   "execution_count": 11,
   "metadata": {
    "scrolled": true
   },
   "outputs": [
    {
     "data": {
      "text/html": [
       "<div>\n",
       "<style scoped>\n",
       "    .dataframe tbody tr th:only-of-type {\n",
       "        vertical-align: middle;\n",
       "    }\n",
       "\n",
       "    .dataframe tbody tr th {\n",
       "        vertical-align: top;\n",
       "    }\n",
       "\n",
       "    .dataframe thead th {\n",
       "        text-align: right;\n",
       "    }\n",
       "</style>\n",
       "<table border=\"1\" class=\"dataframe\">\n",
       "  <thead>\n",
       "    <tr style=\"text-align: right;\">\n",
       "      <th></th>\n",
       "      <th>MUNCOD</th>\n",
       "      <th>POPULATION</th>\n",
       "      <th>CAPITAL</th>\n",
       "      <th>LATITUDE</th>\n",
       "      <th>LONGITUDE</th>\n",
       "      <th>ALTITUDE</th>\n",
       "      <th>AREA</th>\n",
       "      <th>CANCER_QTT</th>\n",
       "      <th>SUICIDES</th>\n",
       "    </tr>\n",
       "  </thead>\n",
       "  <tbody>\n",
       "    <tr>\n",
       "      <td>0</td>\n",
       "      <td>110001</td>\n",
       "      <td>25437</td>\n",
       "      <td>N</td>\n",
       "      <td>-11.929</td>\n",
       "      <td>-61.996</td>\n",
       "      <td>350.0</td>\n",
       "      <td>7066.702</td>\n",
       "      <td>25</td>\n",
       "      <td>3</td>\n",
       "    </tr>\n",
       "    <tr>\n",
       "      <td>1</td>\n",
       "      <td>110002</td>\n",
       "      <td>107345</td>\n",
       "      <td>N</td>\n",
       "      <td>-9.913</td>\n",
       "      <td>-63.041</td>\n",
       "      <td>142.0</td>\n",
       "      <td>4426.558</td>\n",
       "      <td>66</td>\n",
       "      <td>10</td>\n",
       "    </tr>\n",
       "    <tr>\n",
       "      <td>2</td>\n",
       "      <td>110003</td>\n",
       "      <td>6224</td>\n",
       "      <td>N</td>\n",
       "      <td>-13.492</td>\n",
       "      <td>-60.545</td>\n",
       "      <td>230.0</td>\n",
       "      <td>1314.355</td>\n",
       "      <td>4</td>\n",
       "      <td>0</td>\n",
       "    </tr>\n",
       "    <tr>\n",
       "      <td>3</td>\n",
       "      <td>110004</td>\n",
       "      <td>88507</td>\n",
       "      <td>N</td>\n",
       "      <td>-11.438</td>\n",
       "      <td>-61.448</td>\n",
       "      <td>200.0</td>\n",
       "      <td>3792.638</td>\n",
       "      <td>133</td>\n",
       "      <td>5</td>\n",
       "    </tr>\n",
       "    <tr>\n",
       "      <td>4</td>\n",
       "      <td>110005</td>\n",
       "      <td>17934</td>\n",
       "      <td>N</td>\n",
       "      <td>-13.189</td>\n",
       "      <td>-60.812</td>\n",
       "      <td>277.0</td>\n",
       "      <td>2783.305</td>\n",
       "      <td>15</td>\n",
       "      <td>1</td>\n",
       "    </tr>\n",
       "  </tbody>\n",
       "</table>\n",
       "</div>"
      ],
      "text/plain": [
       "   MUNCOD  POPULATION CAPITAL  LATITUDE  LONGITUDE  ALTITUDE      AREA  \\\n",
       "0  110001       25437       N   -11.929    -61.996     350.0  7066.702   \n",
       "1  110002      107345       N    -9.913    -63.041     142.0  4426.558   \n",
       "2  110003        6224       N   -13.492    -60.545     230.0  1314.355   \n",
       "3  110004       88507       N   -11.438    -61.448     200.0  3792.638   \n",
       "4  110005       17934       N   -13.189    -60.812     277.0  2783.305   \n",
       "\n",
       "   CANCER_QTT  SUICIDES  \n",
       "0          25         3  \n",
       "1          66        10  \n",
       "2           4         0  \n",
       "3         133         5  \n",
       "4          15         1  "
      ]
     },
     "execution_count": 11,
     "metadata": {},
     "output_type": "execute_result"
    }
   ],
   "source": [
    "df.head()"
   ]
  },
  {
   "cell_type": "markdown",
   "metadata": {},
   "source": [
    "To construct a **Baseline**, let's take the estimation of 2016, when the suicide rate was 10.6 suicides per 100,000 persons [FAZEL S., \"Suicide\"]."
   ]
  },
  {
   "cell_type": "code",
   "execution_count": 12,
   "metadata": {},
   "outputs": [
    {
     "data": {
      "text/plain": [
       "0     2.0\n",
       "1    11.0\n",
       "2     0.0\n",
       "3     9.0\n",
       "4     1.0\n",
       "Name: POPULATION, dtype: float64"
      ]
     },
     "execution_count": 12,
     "metadata": {},
     "output_type": "execute_result"
    }
   ],
   "source": [
    "baseline = np.floor(df['POPULATION'] / 100000 * 10.6)\n",
    "baseline.head()"
   ]
  },
  {
   "cell_type": "markdown",
   "metadata": {},
   "source": [
    "As the metrics to evaluate the baseline, we'll use:\n",
    "\n",
    "- **Root Mean Squared Log Error (RMSLE):** Robust error metric for regression, with large error for underestimation.\n",
    "- **R-Squared and Adjusted R^2 (R^2 and Adj. R^2):** Compares how well the model predicts compared to the average prediction (adjusted: not sensible to the qtt of features)."
   ]
  },
  {
   "cell_type": "markdown",
   "metadata": {},
   "source": [
    "Evaluanting the baseline:"
   ]
  },
  {
   "cell_type": "code",
   "execution_count": 13,
   "metadata": {},
   "outputs": [
    {
     "name": "stderr",
     "output_type": "stream",
     "text": [
      "C:\\Users\\marco\\Anaconda3\\lib\\importlib\\_bootstrap.py:219: RuntimeWarning: numpy.ufunc size changed, may indicate binary incompatibility. Expected 192 from C header, got 216 from PyObject\n",
      "  return f(*args, **kwds)\n",
      "C:\\Users\\marco\\Anaconda3\\lib\\importlib\\_bootstrap.py:219: RuntimeWarning: numpy.ufunc size changed, may indicate binary incompatibility. Expected 192 from C header, got 216 from PyObject\n",
      "  return f(*args, **kwds)\n"
     ]
    },
    {
     "data": {
      "text/plain": [
       "(0.6116856140218698, -1.5781863811916517)"
      ]
     },
     "execution_count": 13,
     "metadata": {},
     "output_type": "execute_result"
    }
   ],
   "source": [
    "from sklearn.metrics import mean_squared_log_error, mean_squared_error, r2_score\n",
    "np.sqrt(mean_squared_log_error(df['SUICIDES'], baseline)), r2_score(df['SUICIDES'], baseline)"
   ]
  },
  {
   "cell_type": "code",
   "execution_count": 14,
   "metadata": {},
   "outputs": [
    {
     "data": {
      "text/html": [
       "<table class=\"simpletable\">\n",
       "<caption>OLS Regression Results</caption>\n",
       "<tr>\n",
       "  <th>Dep. Variable:</th>        <td>SUICIDES</td>     <th>  R-squared (uncentered):</th>      <td>   0.892</td> \n",
       "</tr>\n",
       "<tr>\n",
       "  <th>Model:</th>                   <td>OLS</td>       <th>  Adj. R-squared (uncentered):</th> <td>   0.892</td> \n",
       "</tr>\n",
       "<tr>\n",
       "  <th>Method:</th>             <td>Least Squares</td>  <th>  F-statistic:       </th>          <td>4.405e+04</td>\n",
       "</tr>\n",
       "<tr>\n",
       "  <th>Date:</th>             <td>Mon, 11 May 2020</td> <th>  Prob (F-statistic):</th>           <td>  0.00</td>  \n",
       "</tr>\n",
       "<tr>\n",
       "  <th>Time:</th>                 <td>16:10:53</td>     <th>  Log-Likelihood:    </th>          <td> -13798.</td> \n",
       "</tr>\n",
       "<tr>\n",
       "  <th>No. Observations:</th>      <td>  5354</td>      <th>  AIC:               </th>          <td>2.760e+04</td>\n",
       "</tr>\n",
       "<tr>\n",
       "  <th>Df Residuals:</th>          <td>  5353</td>      <th>  BIC:               </th>          <td>2.760e+04</td>\n",
       "</tr>\n",
       "<tr>\n",
       "  <th>Df Model:</th>              <td>     1</td>      <th>                     </th>              <td> </td>    \n",
       "</tr>\n",
       "<tr>\n",
       "  <th>Covariance Type:</th>      <td>nonrobust</td>    <th>                     </th>              <td> </td>    \n",
       "</tr>\n",
       "</table>\n",
       "<table class=\"simpletable\">\n",
       "<tr>\n",
       "       <td></td>         <th>coef</th>     <th>std err</th>      <th>t</th>      <th>P>|t|</th>  <th>[0.025</th>    <th>0.975]</th>  \n",
       "</tr>\n",
       "<tr>\n",
       "  <th>POPULATION</th> <td>    0.3825</td> <td>    0.002</td> <td>  209.876</td> <td> 0.000</td> <td>    0.379</td> <td>    0.386</td>\n",
       "</tr>\n",
       "</table>\n",
       "<table class=\"simpletable\">\n",
       "<tr>\n",
       "  <th>Omnibus:</th>       <td>5147.535</td> <th>  Durbin-Watson:     </th>  <td>   1.733</td>  \n",
       "</tr>\n",
       "<tr>\n",
       "  <th>Prob(Omnibus):</th>  <td> 0.000</td>  <th>  Jarque-Bera (JB):  </th> <td>3270942.554</td>\n",
       "</tr>\n",
       "<tr>\n",
       "  <th>Skew:</th>           <td> 3.725</td>  <th>  Prob(JB):          </th>  <td>    0.00</td>  \n",
       "</tr>\n",
       "<tr>\n",
       "  <th>Kurtosis:</th>       <td>123.859</td> <th>  Cond. No.          </th>  <td>    1.00</td>  \n",
       "</tr>\n",
       "</table><br/><br/>Warnings:<br/>[1] Standard Errors assume that the covariance matrix of the errors is correctly specified."
      ],
      "text/plain": [
       "<class 'statsmodels.iolib.summary.Summary'>\n",
       "\"\"\"\n",
       "                                 OLS Regression Results                                \n",
       "=======================================================================================\n",
       "Dep. Variable:               SUICIDES   R-squared (uncentered):                   0.892\n",
       "Model:                            OLS   Adj. R-squared (uncentered):              0.892\n",
       "Method:                 Least Squares   F-statistic:                          4.405e+04\n",
       "Date:                Mon, 11 May 2020   Prob (F-statistic):                        0.00\n",
       "Time:                        16:10:53   Log-Likelihood:                         -13798.\n",
       "No. Observations:                5354   AIC:                                  2.760e+04\n",
       "Df Residuals:                    5353   BIC:                                  2.760e+04\n",
       "Df Model:                           1                                                  \n",
       "Covariance Type:            nonrobust                                                  \n",
       "==============================================================================\n",
       "                 coef    std err          t      P>|t|      [0.025      0.975]\n",
       "------------------------------------------------------------------------------\n",
       "POPULATION     0.3825      0.002    209.876      0.000       0.379       0.386\n",
       "==============================================================================\n",
       "Omnibus:                     5147.535   Durbin-Watson:                   1.733\n",
       "Prob(Omnibus):                  0.000   Jarque-Bera (JB):          3270942.554\n",
       "Skew:                           3.725   Prob(JB):                         0.00\n",
       "Kurtosis:                     123.859   Cond. No.                         1.00\n",
       "==============================================================================\n",
       "\n",
       "Warnings:\n",
       "[1] Standard Errors assume that the covariance matrix of the errors is correctly specified.\n",
       "\"\"\""
      ]
     },
     "execution_count": 14,
     "metadata": {},
     "output_type": "execute_result"
    }
   ],
   "source": [
    "regression_params = sm.OLS(df['SUICIDES'], baseline).fit()\n",
    "regression_params.summary()"
   ]
  },
  {
   "cell_type": "markdown",
   "metadata": {},
   "source": [
    "As our examples are not so numerous (=~ 5300), we can divide the dataset as follows:\n",
    "\n",
    "- 50% training set\n",
    "- 50% validation set"
   ]
  },
  {
   "cell_type": "code",
   "execution_count": 16,
   "metadata": {},
   "outputs": [
    {
     "name": "stderr",
     "output_type": "stream",
     "text": [
      "C:\\Users\\marco\\Anaconda3\\lib\\importlib\\_bootstrap.py:219: RuntimeWarning: numpy.ufunc size changed, may indicate binary incompatibility. Expected 192 from C header, got 216 from PyObject\n",
      "  return f(*args, **kwds)\n"
     ]
    }
   ],
   "source": [
    "from sklearn.model_selection import train_test_split"
   ]
  },
  {
   "cell_type": "code",
   "execution_count": 51,
   "metadata": {},
   "outputs": [],
   "source": [
    "def get_OLS(df):\n",
    "    return ((df['SUICIDES'] - df['BB_LAMBDA'])**2 - df['SUICIDES']) / df['BB_LAMBDA']"
   ]
  },
  {
   "cell_type": "code",
   "execution_count": 52,
   "metadata": {},
   "outputs": [
    {
     "data": {
      "text/plain": [
       "((2677, 2), (2677,), (2677, 2), (2677,))"
      ]
     },
     "execution_count": 52,
     "metadata": {},
     "output_type": "execute_result"
    }
   ],
   "source": [
    "df_train, df_test = train_test_split(df, test_size=0.5)\n",
    "\n",
    "X_train = df_train[['POPULATION', 'CANCER_QTT']]\n",
    "X_test = df_test[['POPULATION', 'CANCER_QTT']]\n",
    "y_train = df_train['SUICIDES']\n",
    "y_test = df_test['SUICIDES']\n",
    "\n",
    "X_train.shape, y_train.shape, X_test.shape, y_test.shape"
   ]
  },
  {
   "cell_type": "code",
   "execution_count": 82,
   "metadata": {},
   "outputs": [
    {
     "name": "stdout",
     "output_type": "stream",
     "text": [
      "      BB_LAMBDA  AUX_OLS_DEP\n",
      "3156   1.132043    -1.101239\n",
      "2277   1.008033     1.008033\n",
      "874    1.001291    -0.998709\n",
      "3082   1.022731     1.022731\n",
      "4376   1.010634     4.884373\n",
      "...         ...          ...\n",
      "4501   1.011537     1.011537\n",
      "1773   1.005010    -0.994990\n",
      "903    1.023542    -1.022459\n",
      "4744   1.002759    -0.997241\n",
      "3134   1.000364     1.000364\n",
      "\n",
      "[2677 rows x 2 columns]\n",
      "BB_LAMBDA    0.523635\n",
      "dtype: float64\n",
      "                 Generalized Linear Model Regression Results                  \n",
      "==============================================================================\n",
      "Dep. Variable:               SUICIDES   No. Observations:                 2677\n",
      "Model:                            GLM   Df Residuals:                     2675\n",
      "Model Family:        NegativeBinomial   Df Model:                            1\n",
      "Link Function:                    log   Scale:                          1.0000\n",
      "Method:                          IRLS   Log-Likelihood:                -4686.9\n",
      "Date:                Mon, 11 May 2020   Deviance:                       6466.3\n",
      "Time:                        17:04:03   Pearson chi2:                 4.05e+03\n",
      "No. Iterations:                   100                                         \n",
      "Covariance Type:            nonrobust                                         \n",
      "==============================================================================\n",
      "                 coef    std err          z      P>|z|      [0.025      0.975]\n",
      "------------------------------------------------------------------------------\n",
      "POPULATION  4.582e-06   2.76e-07     16.612      0.000    4.04e-06    5.12e-06\n",
      "CANCER_QTT     0.0037      0.000     10.788      0.000       0.003       0.004\n",
      "==============================================================================\n",
      "          mean   mean_se  mean_ci_lower  mean_ci_upper\n",
      "2887  1.109185  0.004017       1.101339       1.117086\n",
      "5144  1.023412  0.000349       1.022729       1.024095\n",
      "2632  1.164293  0.001938       1.160500       1.168097\n",
      "2071  1.101764  0.005205       1.091609       1.112014\n",
      "885   1.261882  0.003198       1.255630       1.268165\n",
      "...        ...       ...            ...            ...\n",
      "1265  1.089260  0.001134       1.087040       1.091485\n",
      "4395  1.510633  0.014105       1.483240       1.538533\n",
      "2637  1.017250  0.000215       1.016829       1.017672\n",
      "1387  1.244913  0.003149       1.238757       1.251100\n",
      "1314  1.108699  0.001647       1.105475       1.111932\n",
      "\n",
      "[2677 rows x 4 columns]\n",
      "176\n"
     ]
    },
    {
     "name": "stderr",
     "output_type": "stream",
     "text": [
      "C:\\Users\\marco\\Anaconda3\\lib\\site-packages\\ipykernel_launcher.py:2: SettingWithCopyWarning: \n",
      "A value is trying to be set on a copy of a slice from a DataFrame.\n",
      "Try using .loc[row_indexer,col_indexer] = value instead\n",
      "\n",
      "See the caveats in the documentation: http://pandas.pydata.org/pandas-docs/stable/user_guide/indexing.html#returning-a-view-versus-a-copy\n",
      "  \n",
      "C:\\Users\\marco\\Anaconda3\\lib\\site-packages\\ipykernel_launcher.py:3: SettingWithCopyWarning: \n",
      "A value is trying to be set on a copy of a slice from a DataFrame.\n",
      "Try using .loc[row_indexer,col_indexer] = value instead\n",
      "\n",
      "See the caveats in the documentation: http://pandas.pydata.org/pandas-docs/stable/user_guide/indexing.html#returning-a-view-versus-a-copy\n",
      "  This is separate from the ipykernel package so we can avoid doing imports until\n"
     ]
    },
    {
     "data": {
      "text/plain": [
       "(1.797373702409222, -1.3413981683594077e+71)"
      ]
     },
     "execution_count": 82,
     "metadata": {},
     "output_type": "execute_result"
    }
   ],
   "source": [
    "poisson_training_results = sm.GLM(y_train, X_train, family=sm.families.Poisson()).fit()\n",
    "df_train['BB_LAMBDA'] = poisson_training_results.mu\n",
    "df_train['AUX_OLS_DEP'] = get_OLS(df_train)\n",
    "print(df_train[['BB_LAMBDA', 'AUX_OLS_DEP']])\n",
    "\n",
    "ols_expr = \"\"\"AUX_OLS_DEP ~ BB_LAMBDA - 1\"\"\"\n",
    "aux_olsr_results = smf.ols(ols_expr, df_train).fit()\n",
    "print(aux_olsr_results.params)\n",
    "\n",
    "nb2_training_results = sm.GLM(y_train, X_train, family=sm.families.NegativeBinomial(alpha=aux_olsr_results.params[0])).fit()\n",
    "print(nb2_training_results.summary())\n",
    "\n",
    "nb2_predictions = nb2_training_results.get_prediction(X_test)\n",
    "predictions_summary_frame = nb2_predictions.summary_frame()\n",
    "predicted_counts = predictions_summary_frame['mean']\n",
    "print(predictions_summary_frame)\n",
    "\n",
    "print((predicted_counts > 2).sum())\n",
    "\n",
    "np.sqrt(mean_squared_log_error(y_test, predicted_counts)), r2_score(y_test, predicted_counts)"
   ]
  },
  {
   "cell_type": "code",
   "execution_count": 83,
   "metadata": {},
   "outputs": [
    {
     "data": {
      "image/png": "[encoded data removed]",
      "text/plain": [
       "<Figure size 432x288 with 1 Axes>"
      ]
     },
     "metadata": {
      "needs_background": "light"
     },
     "output_type": "display_data"
    }
   ],
   "source": [
    "fig = plt.figure()\n",
    "fig.suptitle('Predicted suicide counts')\n",
    "predicted, = plt.plot(X_test.index, predicted_counts, 'go-', label='Predicted counts')\n",
    "actual, = plt.plot(X_test.index, y_test, 'ro-', label='Actual counts')\n",
    "plt.legend(handles=[predicted, actual])\n",
    "plt.show()"
   ]
  },
  {
   "cell_type": "markdown",
   "metadata": {},
   "source": [
    "As we see, our metrics show greater error (RMSLE) and inferior R^2.\n",
    "\n",
    "So, this first Poisson model is **inferior to the chosen baseline.**\n",
    "\n",
    "---\n",
    "\n",
    "Next steps:\n",
    "\n",
    "- Model as Negative Binomial Regression (doesn't imply that the mean and variance are equal)\n",
    "\n",
    "- Consider other variables in the model (CAPITAL, LATITUDE, LONGITUDE, ALTITUDE, AREA) in order to understand better the data (don't forget to cast to positive numbers)\n",
    "\n",
    "- Try with other diseases"
   ]
  }
 ],
 "metadata": {
  "kernelspec": {
   "display_name": "Python 3",
   "language": "python",
   "name": "python3"
  },
  "language_info": {
   "codemirror_mode": {
    "name": "ipython",
    "version": 3
   },
   "file_extension": ".py",
   "mimetype": "text/x-python",
   "name": "python",
   "nbconvert_exporter": "python",
   "pygments_lexer": "ipython3",
   "version": "3.7.4"
  }
 },
 "nbformat": 4,
 "nbformat_minor": 2
}
