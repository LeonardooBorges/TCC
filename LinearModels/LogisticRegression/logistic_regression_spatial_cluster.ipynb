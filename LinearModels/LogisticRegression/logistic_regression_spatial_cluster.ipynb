{
 "cells": [
  {
   "cell_type": "markdown",
   "metadata": {
    "pycharm": {
     "name": "#%% md\n"
    }
   },
   "source": [
    "# Logistic Regression\n",
    "\n",
    "Font: https://www.datacamp.com/community/tutorials/understanding-logistic-regression-python"
   ]
  },
  {
   "cell_type": "markdown",
   "metadata": {
    "pycharm": {
     "name": "#%% md\n"
    }
   },
   "source": [
    "Import libraries"
   ]
  },
  {
   "cell_type": "code",
   "execution_count": 1,
   "metadata": {},
   "outputs": [],
   "source": [
    "import pandas as pd\n",
    "import matplotlib.pyplot as plt\n",
    "import glob\n",
    "import seaborn as sns\n",
    "import numpy as np"
   ]
  },
  {
   "cell_type": "markdown",
   "metadata": {
    "pycharm": {
     "name": "#%% md\n"
    }
   },
   "source": [
    "Creating a df with the disease rates for each city and their respective RISK value (1, if it belongs to a high risk cluster, and 0 otherwise)."
   ]
  },
  {
   "cell_type": "code",
   "execution_count": 18,
   "metadata": {
    "pycharm": {
     "name": "#%%\n"
    }
   },
   "outputs": [],
   "source": [
    "cities = pd.read_csv('../../SatScan/muncod_risk_2015_to_2017.csv', index_col=[0])\n",
    "\n",
    "disease = \"\"\n",
    "path = '../../TabNet/Rates/'\n",
    "all_files = glob.glob(path + \"*.csv\")\n",
    "diseases_list = []\n",
    "all_diseases = cities\n",
    "for file in all_files:\n",
    "    file_name = file.split(\"\\\\\")[1]\n",
    "    disease = file_name.split(\"_RATE\")[0]\n",
    "    disease_df = pd.read_csv(path + disease + '_RATE_15_17.csv', sep=',', index_col=0)\n",
    "    disease_df = disease_df[[\"RATE\", \"MUNCOD\"]]\n",
    "    disease_df.rename(columns={\"RATE\": disease}, inplace=True)\n",
    "\n",
    "    all_diseases = pd.merge(disease_df, all_diseases, left_on=\"MUNCOD\", right_on=\"MUNCOD\", how=\"inner\")\n",
    "df = all_diseases.drop('MUNCOD', 1)\n",
    "df = df.drop('TRAUMATISMO_INTRACRANIANO', 1) # We remove Traumatismo Intracraniano (low p-value on Spearman test)"
   ]
  },
  {
   "cell_type": "code",
   "execution_count": 21,
   "metadata": {},
   "outputs": [
    {
     "data": {
      "text/html": [
       "<div>\n",
       "<style scoped>\n",
       "    .dataframe tbody tr th:only-of-type {\n",
       "        vertical-align: middle;\n",
       "    }\n",
       "\n",
       "    .dataframe tbody tr th {\n",
       "        vertical-align: top;\n",
       "    }\n",
       "\n",
       "    .dataframe thead th {\n",
       "        text-align: right;\n",
       "    }\n",
       "</style>\n",
       "<table border=\"1\" class=\"dataframe\">\n",
       "  <thead>\n",
       "    <tr style=\"text-align: right;\">\n",
       "      <th></th>\n",
       "      <th>OSTEOPOROSE</th>\n",
       "      <th>INSUFICIENCIA_RENAL</th>\n",
       "      <th>INSUFICIENCIA_CARDIACA</th>\n",
       "      <th>HIPERTENSAO_ESSENCIAL</th>\n",
       "      <th>ESCLEROSE_MULTIPLA</th>\n",
       "      <th>EPILEPSIA</th>\n",
       "      <th>ENXAQUECA</th>\n",
       "      <th>DPOC</th>\n",
       "      <th>DORSOPATIAS</th>\n",
       "      <th>DOENCA_DE_PARKINSON</th>\n",
       "      <th>DIABETES_MELLITUS</th>\n",
       "      <th>CANCER</th>\n",
       "      <th>ASMA</th>\n",
       "      <th>AIDS</th>\n",
       "      <th>RISK</th>\n",
       "    </tr>\n",
       "  </thead>\n",
       "  <tbody>\n",
       "    <tr>\n",
       "      <td>0</td>\n",
       "      <td>9.155131</td>\n",
       "      <td>20.916400</td>\n",
       "      <td>125.488970</td>\n",
       "      <td>410.338491</td>\n",
       "      <td>1.303203</td>\n",
       "      <td>44.410713</td>\n",
       "      <td>7.830122</td>\n",
       "      <td>350.326527</td>\n",
       "      <td>6.537821</td>\n",
       "      <td>1.303203</td>\n",
       "      <td>155.440974</td>\n",
       "      <td>92.792639</td>\n",
       "      <td>210.422725</td>\n",
       "      <td>1.310427</td>\n",
       "      <td>0</td>\n",
       "    </tr>\n",
       "    <tr>\n",
       "      <td>1</td>\n",
       "      <td>9.155131</td>\n",
       "      <td>20.916400</td>\n",
       "      <td>125.488970</td>\n",
       "      <td>410.338491</td>\n",
       "      <td>1.303203</td>\n",
       "      <td>44.410713</td>\n",
       "      <td>7.830122</td>\n",
       "      <td>350.326527</td>\n",
       "      <td>6.537821</td>\n",
       "      <td>1.303203</td>\n",
       "      <td>155.440974</td>\n",
       "      <td>92.792639</td>\n",
       "      <td>210.422725</td>\n",
       "      <td>1.310427</td>\n",
       "      <td>0</td>\n",
       "    </tr>\n",
       "    <tr>\n",
       "      <td>2</td>\n",
       "      <td>9.155131</td>\n",
       "      <td>20.916400</td>\n",
       "      <td>125.488970</td>\n",
       "      <td>410.338491</td>\n",
       "      <td>1.303203</td>\n",
       "      <td>44.410713</td>\n",
       "      <td>7.830122</td>\n",
       "      <td>350.326527</td>\n",
       "      <td>6.537821</td>\n",
       "      <td>1.303203</td>\n",
       "      <td>155.440974</td>\n",
       "      <td>92.792639</td>\n",
       "      <td>210.422725</td>\n",
       "      <td>1.310427</td>\n",
       "      <td>0</td>\n",
       "    </tr>\n",
       "    <tr>\n",
       "      <td>3</td>\n",
       "      <td>6.573329</td>\n",
       "      <td>71.068909</td>\n",
       "      <td>93.188855</td>\n",
       "      <td>87.217697</td>\n",
       "      <td>5.974632</td>\n",
       "      <td>38.233413</td>\n",
       "      <td>3.581793</td>\n",
       "      <td>41.811664</td>\n",
       "      <td>13.141032</td>\n",
       "      <td>2.986604</td>\n",
       "      <td>176.802540</td>\n",
       "      <td>47.188887</td>\n",
       "      <td>42.413903</td>\n",
       "      <td>5.373054</td>\n",
       "      <td>0</td>\n",
       "    </tr>\n",
       "    <tr>\n",
       "      <td>4</td>\n",
       "      <td>6.573329</td>\n",
       "      <td>71.068909</td>\n",
       "      <td>93.188855</td>\n",
       "      <td>87.217697</td>\n",
       "      <td>5.974632</td>\n",
       "      <td>38.233413</td>\n",
       "      <td>3.581793</td>\n",
       "      <td>41.811664</td>\n",
       "      <td>13.141032</td>\n",
       "      <td>2.986604</td>\n",
       "      <td>176.802540</td>\n",
       "      <td>47.188887</td>\n",
       "      <td>42.413903</td>\n",
       "      <td>5.373054</td>\n",
       "      <td>0</td>\n",
       "    </tr>\n",
       "    <tr>\n",
       "      <td>5</td>\n",
       "      <td>6.573329</td>\n",
       "      <td>71.068909</td>\n",
       "      <td>93.188855</td>\n",
       "      <td>87.217697</td>\n",
       "      <td>5.974632</td>\n",
       "      <td>38.233413</td>\n",
       "      <td>3.581793</td>\n",
       "      <td>41.811664</td>\n",
       "      <td>13.141032</td>\n",
       "      <td>2.986604</td>\n",
       "      <td>176.802540</td>\n",
       "      <td>47.188887</td>\n",
       "      <td>42.413903</td>\n",
       "      <td>5.373054</td>\n",
       "      <td>0</td>\n",
       "    </tr>\n",
       "    <tr>\n",
       "      <td>6</td>\n",
       "      <td>12.139623</td>\n",
       "      <td>76.434668</td>\n",
       "      <td>155.322180</td>\n",
       "      <td>128.898399</td>\n",
       "      <td>0.253370</td>\n",
       "      <td>22.817134</td>\n",
       "      <td>2.798151</td>\n",
       "      <td>57.606283</td>\n",
       "      <td>5.325507</td>\n",
       "      <td>2.027164</td>\n",
       "      <td>188.563802</td>\n",
       "      <td>56.995946</td>\n",
       "      <td>20.853024</td>\n",
       "      <td>10.385164</td>\n",
       "      <td>0</td>\n",
       "    </tr>\n",
       "    <tr>\n",
       "      <td>7</td>\n",
       "      <td>12.139623</td>\n",
       "      <td>76.434668</td>\n",
       "      <td>155.322180</td>\n",
       "      <td>128.898399</td>\n",
       "      <td>0.253370</td>\n",
       "      <td>22.817134</td>\n",
       "      <td>2.798151</td>\n",
       "      <td>57.606283</td>\n",
       "      <td>5.325507</td>\n",
       "      <td>2.027164</td>\n",
       "      <td>188.563802</td>\n",
       "      <td>56.995946</td>\n",
       "      <td>20.853024</td>\n",
       "      <td>10.385164</td>\n",
       "      <td>0</td>\n",
       "    </tr>\n",
       "    <tr>\n",
       "      <td>8</td>\n",
       "      <td>12.139623</td>\n",
       "      <td>76.434668</td>\n",
       "      <td>155.322180</td>\n",
       "      <td>128.898399</td>\n",
       "      <td>0.253370</td>\n",
       "      <td>22.817134</td>\n",
       "      <td>2.798151</td>\n",
       "      <td>57.606283</td>\n",
       "      <td>5.325507</td>\n",
       "      <td>2.027164</td>\n",
       "      <td>188.563802</td>\n",
       "      <td>56.995946</td>\n",
       "      <td>20.853024</td>\n",
       "      <td>10.385164</td>\n",
       "      <td>0</td>\n",
       "    </tr>\n",
       "    <tr>\n",
       "      <td>9</td>\n",
       "      <td>10.568400</td>\n",
       "      <td>59.919219</td>\n",
       "      <td>158.789434</td>\n",
       "      <td>211.491775</td>\n",
       "      <td>1.758178</td>\n",
       "      <td>98.843841</td>\n",
       "      <td>17.645618</td>\n",
       "      <td>176.385603</td>\n",
       "      <td>32.568630</td>\n",
       "      <td>1.752035</td>\n",
       "      <td>221.902684</td>\n",
       "      <td>92.629753</td>\n",
       "      <td>58.247951</td>\n",
       "      <td>3.528944</td>\n",
       "      <td>0</td>\n",
       "    </tr>\n",
       "    <tr>\n",
       "      <td>10</td>\n",
       "      <td>10.568400</td>\n",
       "      <td>59.919219</td>\n",
       "      <td>158.789434</td>\n",
       "      <td>211.491775</td>\n",
       "      <td>1.758178</td>\n",
       "      <td>98.843841</td>\n",
       "      <td>17.645618</td>\n",
       "      <td>176.385603</td>\n",
       "      <td>32.568630</td>\n",
       "      <td>1.752035</td>\n",
       "      <td>221.902684</td>\n",
       "      <td>92.629753</td>\n",
       "      <td>58.247951</td>\n",
       "      <td>3.528944</td>\n",
       "      <td>0</td>\n",
       "    </tr>\n",
       "    <tr>\n",
       "      <td>11</td>\n",
       "      <td>10.568400</td>\n",
       "      <td>59.919219</td>\n",
       "      <td>158.789434</td>\n",
       "      <td>211.491775</td>\n",
       "      <td>1.758178</td>\n",
       "      <td>98.843841</td>\n",
       "      <td>17.645618</td>\n",
       "      <td>176.385603</td>\n",
       "      <td>32.568630</td>\n",
       "      <td>1.752035</td>\n",
       "      <td>221.902684</td>\n",
       "      <td>92.629753</td>\n",
       "      <td>58.247951</td>\n",
       "      <td>3.528944</td>\n",
       "      <td>0</td>\n",
       "    </tr>\n",
       "  </tbody>\n",
       "</table>\n",
       "</div>"
      ],
      "text/plain": [
       "    OSTEOPOROSE  INSUFICIENCIA_RENAL  INSUFICIENCIA_CARDIACA  \\\n",
       "0      9.155131            20.916400              125.488970   \n",
       "1      9.155131            20.916400              125.488970   \n",
       "2      9.155131            20.916400              125.488970   \n",
       "3      6.573329            71.068909               93.188855   \n",
       "4      6.573329            71.068909               93.188855   \n",
       "5      6.573329            71.068909               93.188855   \n",
       "6     12.139623            76.434668              155.322180   \n",
       "7     12.139623            76.434668              155.322180   \n",
       "8     12.139623            76.434668              155.322180   \n",
       "9     10.568400            59.919219              158.789434   \n",
       "10    10.568400            59.919219              158.789434   \n",
       "11    10.568400            59.919219              158.789434   \n",
       "\n",
       "    HIPERTENSAO_ESSENCIAL  ESCLEROSE_MULTIPLA  EPILEPSIA  ENXAQUECA  \\\n",
       "0              410.338491            1.303203  44.410713   7.830122   \n",
       "1              410.338491            1.303203  44.410713   7.830122   \n",
       "2              410.338491            1.303203  44.410713   7.830122   \n",
       "3               87.217697            5.974632  38.233413   3.581793   \n",
       "4               87.217697            5.974632  38.233413   3.581793   \n",
       "5               87.217697            5.974632  38.233413   3.581793   \n",
       "6              128.898399            0.253370  22.817134   2.798151   \n",
       "7              128.898399            0.253370  22.817134   2.798151   \n",
       "8              128.898399            0.253370  22.817134   2.798151   \n",
       "9              211.491775            1.758178  98.843841  17.645618   \n",
       "10             211.491775            1.758178  98.843841  17.645618   \n",
       "11             211.491775            1.758178  98.843841  17.645618   \n",
       "\n",
       "          DPOC  DORSOPATIAS  DOENCA_DE_PARKINSON  DIABETES_MELLITUS  \\\n",
       "0   350.326527     6.537821             1.303203         155.440974   \n",
       "1   350.326527     6.537821             1.303203         155.440974   \n",
       "2   350.326527     6.537821             1.303203         155.440974   \n",
       "3    41.811664    13.141032             2.986604         176.802540   \n",
       "4    41.811664    13.141032             2.986604         176.802540   \n",
       "5    41.811664    13.141032             2.986604         176.802540   \n",
       "6    57.606283     5.325507             2.027164         188.563802   \n",
       "7    57.606283     5.325507             2.027164         188.563802   \n",
       "8    57.606283     5.325507             2.027164         188.563802   \n",
       "9   176.385603    32.568630             1.752035         221.902684   \n",
       "10  176.385603    32.568630             1.752035         221.902684   \n",
       "11  176.385603    32.568630             1.752035         221.902684   \n",
       "\n",
       "       CANCER        ASMA       AIDS  RISK  \n",
       "0   92.792639  210.422725   1.310427     0  \n",
       "1   92.792639  210.422725   1.310427     0  \n",
       "2   92.792639  210.422725   1.310427     0  \n",
       "3   47.188887   42.413903   5.373054     0  \n",
       "4   47.188887   42.413903   5.373054     0  \n",
       "5   47.188887   42.413903   5.373054     0  \n",
       "6   56.995946   20.853024  10.385164     0  \n",
       "7   56.995946   20.853024  10.385164     0  \n",
       "8   56.995946   20.853024  10.385164     0  \n",
       "9   92.629753   58.247951   3.528944     0  \n",
       "10  92.629753   58.247951   3.528944     0  \n",
       "11  92.629753   58.247951   3.528944     0  "
      ]
     },
     "execution_count": 21,
     "metadata": {},
     "output_type": "execute_result"
    }
   ],
   "source": [
    "df.head(12)"
   ]
  },
  {
   "cell_type": "markdown",
   "metadata": {},
   "source": [
    "Fitting a logistic regression line to visualize how the probability of being in a risk cluster changes with the cancer rate label.\n",
    "\n",
    "The “cancer” was plotted on x-axis and “risk cluster” on the y-axis using regplot( ).\n",
    "\n",
    "This plot gives us an intuition of how the logistic model fits an ‘S’ curve line and how the probability changes from 0 to 1 with observed values."
   ]
  },
  {
   "cell_type": "code",
   "execution_count": 4,
   "metadata": {
    "pycharm": {
     "name": "#%%\n"
    }
   },
   "outputs": [
    {
     "data": {
      "image/png": "[encoded data removed]",
      "text/plain": [
       "<Figure size 432x288 with 1 Axes>"
      ]
     },
     "metadata": {
      "needs_background": "light"
     },
     "output_type": "display_data"
    }
   ],
   "source": [
    "sns.regplot(x=\"CANCER\", y=\"RISK\", data=df, logistic=True, ci=True)\n",
    "plt.show()"
   ]
  },
  {
   "cell_type": "markdown",
   "metadata": {
    "pycharm": {
     "name": "#%% md\n"
    }
   },
   "source": [
    "Selecting X (independent variables) and y (dependent binary variable)."
   ]
  },
  {
   "cell_type": "code",
   "execution_count": 5,
   "metadata": {
    "pycharm": {
     "name": "#%%\n"
    }
   },
   "outputs": [],
   "source": [
    "X = df.iloc[:, 0:14].values\n",
    "y = df.iloc[:, -1].values"
   ]
  },
  {
   "cell_type": "markdown",
   "metadata": {
    "pycharm": {
     "name": "#%% md\n"
    }
   },
   "source": [
    "Splitting the dataset into the Training set and Test set"
   ]
  },
  {
   "cell_type": "code",
   "execution_count": 6,
   "metadata": {
    "pycharm": {
     "name": "#%%\n"
    }
   },
   "outputs": [],
   "source": [
    "from sklearn.model_selection import train_test_split\n",
    "X_train, X_test, y_train, y_test = train_test_split(X, y, test_size=0.5, random_state=0)"
   ]
  },
  {
   "cell_type": "markdown",
   "metadata": {
    "pycharm": {
     "name": "#%% md\n"
    }
   },
   "source": [
    "Feature Scaling"
   ]
  },
  {
   "cell_type": "code",
   "execution_count": 7,
   "metadata": {
    "pycharm": {
     "name": "#%%\n"
    }
   },
   "outputs": [],
   "source": [
    "from sklearn.preprocessing import StandardScaler\n",
    "sc = StandardScaler()\n",
    "X_train = sc.fit_transform(X_train)\n",
    "X_test = sc.transform(X_test)"
   ]
  },
  {
   "cell_type": "markdown",
   "metadata": {
    "pycharm": {
     "name": "#%% md\n"
    }
   },
   "source": [
    "Fitting Logistic Regression to the Training set"
   ]
  },
  {
   "cell_type": "code",
   "execution_count": 8,
   "metadata": {
    "pycharm": {
     "name": "#%%\n"
    }
   },
   "outputs": [
    {
     "name": "stderr",
     "output_type": "stream",
     "text": [
      "C:\\Users\\marco\\Anaconda3\\lib\\site-packages\\sklearn\\linear_model\\logistic.py:432: FutureWarning: Default solver will be changed to 'lbfgs' in 0.22. Specify a solver to silence this warning.\n",
      "  FutureWarning)\n"
     ]
    },
    {
     "data": {
      "text/plain": [
       "LogisticRegression(C=1.0, class_weight=None, dual=False, fit_intercept=True,\n",
       "                   intercept_scaling=1, l1_ratio=None, max_iter=100,\n",
       "                   multi_class='warn', n_jobs=None, penalty='l2',\n",
       "                   random_state=None, solver='warn', tol=0.0001, verbose=0,\n",
       "                   warm_start=False)"
      ]
     },
     "execution_count": 8,
     "metadata": {},
     "output_type": "execute_result"
    }
   ],
   "source": [
    "from sklearn.linear_model import LogisticRegression\n",
    "classifier = LogisticRegression()\n",
    "classifier.fit(X_train, y_train)"
   ]
  },
  {
   "cell_type": "markdown",
   "metadata": {
    "pycharm": {
     "name": "#%% md\n"
    }
   },
   "source": [
    "Predicting the Test set results"
   ]
  },
  {
   "cell_type": "code",
   "execution_count": 9,
   "metadata": {
    "pycharm": {
     "name": "#%%\n"
    }
   },
   "outputs": [],
   "source": [
    "y_pred = classifier.predict(X_test)"
   ]
  },
  {
   "cell_type": "markdown",
   "metadata": {
    "pycharm": {
     "name": "#%% md\n"
    }
   },
   "source": [
    "Making the Confusion Matrix"
   ]
  },
  {
   "cell_type": "code",
   "execution_count": 10,
   "metadata": {
    "pycharm": {
     "name": "#%%\n"
    }
   },
   "outputs": [
    {
     "data": {
      "text/plain": [
       "array([[294,  60],\n",
       "       [ 68, 169]], dtype=int64)"
      ]
     },
     "execution_count": 10,
     "metadata": {},
     "output_type": "execute_result"
    }
   ],
   "source": [
    "from sklearn.metrics import confusion_matrix\n",
    "cm = confusion_matrix(y_test, y_pred)\n",
    "cm"
   ]
  },
  {
   "cell_type": "code",
   "execution_count": 11,
   "metadata": {
    "pycharm": {
     "name": "#%%\n"
    }
   },
   "outputs": [
    {
     "data": {
      "text/plain": [
       "Text(0.5, 257.44, 'Predicted label')"
      ]
     },
     "execution_count": 11,
     "metadata": {},
     "output_type": "execute_result"
    },
    {
     "data": {
      "image/png": "[encoded data removed]",
      "text/plain": [
       "<Figure size 432x288 with 2 Axes>"
      ]
     },
     "metadata": {
      "needs_background": "light"
     },
     "output_type": "display_data"
    }
   ],
   "source": [
    "class_names = [0, 1] # name  of classes\n",
    "fig, ax = plt.subplots()\n",
    "tick_marks = np.arange(len(class_names))\n",
    "plt.xticks(tick_marks, class_names)\n",
    "plt.yticks(tick_marks, class_names)\n",
    "# create heatmap\n",
    "sns.heatmap(pd.DataFrame(cm), annot=True, cmap=\"YlGnBu\", fmt='g')\n",
    "ax.xaxis.set_label_position(\"top\")\n",
    "plt.tight_layout()\n",
    "plt.title('Confusion matrix', y=1.1)\n",
    "plt.ylabel('Actual label')\n",
    "plt.xlabel('Predicted label')"
   ]
  },
  {
   "cell_type": "markdown",
   "metadata": {
    "pycharm": {
     "name": "#%% md\n"
    }
   },
   "source": [
    "Checking Evaluation metrics"
   ]
  },
  {
   "cell_type": "code",
   "execution_count": 12,
   "metadata": {
    "pycharm": {
     "name": "#%%\n"
    }
   },
   "outputs": [
    {
     "name": "stdout",
     "output_type": "stream",
     "text": [
      "Precision: 0.7379912663755459\n",
      "Recall: 0.7130801687763713\n"
     ]
    }
   ],
   "source": [
    "from sklearn import metrics\n",
    "#print(\"Accuracy:\",metrics.accuracy_score(y_test, y_pred))\n",
    "print(\"Precision:\",metrics.precision_score(y_test, y_pred))\n",
    "print(\"Recall:\",metrics.recall_score(y_test, y_pred))"
   ]
  },
  {
   "cell_type": "markdown",
   "metadata": {
    "pycharm": {
     "name": "#%% md\n"
    }
   },
   "source": [
    "0.25\n",
    "\n",
    "- Precision: When the model makes a prediction, how often it is correct.\n",
    "In our case, when the Logistic Regression model predicted cities belong to a high risk cluster, the prediction was correct 71% of the time.\n",
    "- Recall: If there are cities in a high risk cluster in the test set, the model can identify them 72% of the time.\n",
    "\n",
    "0.5\n",
    "\n",
    "- Precision: 0.7379912663755459\n",
    "- Recall: 0.7130801687763713"
   ]
  },
  {
   "cell_type": "markdown",
   "metadata": {
    "pycharm": {
     "name": "#%% md\n"
    }
   },
   "source": [
    "Plotting the ROC curve"
   ]
  },
  {
   "cell_type": "code",
   "execution_count": 13,
   "metadata": {
    "pycharm": {
     "name": "#%%\n"
    }
   },
   "outputs": [
    {
     "data": {
      "image/png": "[encoded data removed]",
      "text/plain": [
       "<Figure size 432x288 with 1 Axes>"
      ]
     },
     "metadata": {
      "needs_background": "light"
     },
     "output_type": "display_data"
    }
   ],
   "source": [
    "from sklearn.metrics import roc_auc_score\n",
    "from sklearn.metrics import roc_curve\n",
    "\n",
    "plt.rc(\"font\", size=10)\n",
    "logit_roc_auc = roc_auc_score(y_test, classifier.predict(X_test))\n",
    "fpr, tpr, thresholds = roc_curve(y_test, classifier.predict_proba(X_test)[:,1])\n",
    "plt.figure()\n",
    "plt.plot(fpr, tpr, label='Logistic Regression (area = %0.2f)' % logit_roc_auc)\n",
    "plt.plot([0, 1], [0, 1],'r--')\n",
    "plt.xlim([0.0, 1.0])\n",
    "plt.ylim([0.0, 1.05])\n",
    "plt.xlabel('False Positive Rate')\n",
    "plt.ylabel('True Positive Rate')\n",
    "plt.title('Receiver operating characteristic')\n",
    "plt.legend(loc=\"lower right\")\n",
    "plt.show()"
   ]
  },
  {
   "cell_type": "markdown",
   "metadata": {
    "pycharm": {
     "name": "#%% md\n"
    }
   },
   "source": [
    "Selecting most significant features"
   ]
  },
  {
   "cell_type": "code",
   "execution_count": 14,
   "metadata": {
    "pycharm": {
     "name": "#%%\n"
    }
   },
   "outputs": [
    {
     "name": "stderr",
     "output_type": "stream",
     "text": [
      "C:\\Users\\marco\\Anaconda3\\lib\\site-packages\\sklearn\\linear_model\\logistic.py:432: FutureWarning: Default solver will be changed to 'lbfgs' in 0.22. Specify a solver to silence this warning.\n",
      "  FutureWarning)\n",
      "C:\\Users\\marco\\Anaconda3\\lib\\site-packages\\sklearn\\linear_model\\logistic.py:432: FutureWarning: Default solver will be changed to 'lbfgs' in 0.22. Specify a solver to silence this warning.\n",
      "  FutureWarning)\n",
      "C:\\Users\\marco\\Anaconda3\\lib\\site-packages\\sklearn\\linear_model\\logistic.py:432: FutureWarning: Default solver will be changed to 'lbfgs' in 0.22. Specify a solver to silence this warning.\n",
      "  FutureWarning)\n",
      "C:\\Users\\marco\\Anaconda3\\lib\\site-packages\\sklearn\\linear_model\\logistic.py:432: FutureWarning: Default solver will be changed to 'lbfgs' in 0.22. Specify a solver to silence this warning.\n",
      "  FutureWarning)\n",
      "C:\\Users\\marco\\Anaconda3\\lib\\site-packages\\sklearn\\linear_model\\logistic.py:432: FutureWarning: Default solver will be changed to 'lbfgs' in 0.22. Specify a solver to silence this warning.\n",
      "  FutureWarning)\n",
      "C:\\Users\\marco\\Anaconda3\\lib\\site-packages\\sklearn\\linear_model\\logistic.py:432: FutureWarning: Default solver will be changed to 'lbfgs' in 0.22. Specify a solver to silence this warning.\n",
      "  FutureWarning)\n",
      "C:\\Users\\marco\\Anaconda3\\lib\\site-packages\\sklearn\\linear_model\\logistic.py:432: FutureWarning: Default solver will be changed to 'lbfgs' in 0.22. Specify a solver to silence this warning.\n",
      "  FutureWarning)\n",
      "C:\\Users\\marco\\Anaconda3\\lib\\site-packages\\sklearn\\linear_model\\logistic.py:432: FutureWarning: Default solver will be changed to 'lbfgs' in 0.22. Specify a solver to silence this warning.\n",
      "  FutureWarning)\n",
      "C:\\Users\\marco\\Anaconda3\\lib\\site-packages\\sklearn\\linear_model\\logistic.py:432: FutureWarning: Default solver will be changed to 'lbfgs' in 0.22. Specify a solver to silence this warning.\n",
      "  FutureWarning)\n",
      "C:\\Users\\marco\\Anaconda3\\lib\\site-packages\\sklearn\\linear_model\\logistic.py:432: FutureWarning: Default solver will be changed to 'lbfgs' in 0.22. Specify a solver to silence this warning.\n",
      "  FutureWarning)\n",
      "C:\\Users\\marco\\Anaconda3\\lib\\site-packages\\sklearn\\linear_model\\logistic.py:432: FutureWarning: Default solver will be changed to 'lbfgs' in 0.22. Specify a solver to silence this warning.\n",
      "  FutureWarning)\n",
      "C:\\Users\\marco\\Anaconda3\\lib\\site-packages\\sklearn\\linear_model\\logistic.py:432: FutureWarning: Default solver will be changed to 'lbfgs' in 0.22. Specify a solver to silence this warning.\n",
      "  FutureWarning)\n",
      "C:\\Users\\marco\\Anaconda3\\lib\\site-packages\\sklearn\\linear_model\\logistic.py:432: FutureWarning: Default solver will be changed to 'lbfgs' in 0.22. Specify a solver to silence this warning.\n",
      "  FutureWarning)\n",
      "C:\\Users\\marco\\Anaconda3\\lib\\site-packages\\sklearn\\linear_model\\logistic.py:432: FutureWarning: Default solver will be changed to 'lbfgs' in 0.22. Specify a solver to silence this warning.\n",
      "  FutureWarning)\n"
     ]
    }
   ],
   "source": [
    "from sklearn.feature_selection import RFE\n",
    "selector = RFE(classifier, n_features_to_select=1, step=1)\n",
    "selector = selector.fit(X_train, y_train)\n",
    "rank = selector.ranking_"
   ]
  },
  {
   "cell_type": "markdown",
   "metadata": {
    "pycharm": {
     "name": "#%% md\n"
    }
   },
   "source": [
    "Features: rank of significance"
   ]
  },
  {
   "cell_type": "code",
   "execution_count": 15,
   "metadata": {
    "pycharm": {
     "name": "#%%\n"
    }
   },
   "outputs": [
    {
     "data": {
      "text/plain": [
       "[(1, 'CANCER'),\n",
       " (2, 'DPOC'),\n",
       " (3, 'EPILEPSIA'),\n",
       " (4, 'ENXAQUECA'),\n",
       " (5, 'DOENCA_DE_PARKINSON'),\n",
       " (6, 'INSUFICIENCIA_RENAL'),\n",
       " (7, 'ESCLEROSE_MULTIPLA'),\n",
       " (8, 'HIPERTENSAO_ESSENCIAL'),\n",
       " (9, 'DIABETES_MELLITUS'),\n",
       " (10, 'INSUFICIENCIA_CARDIACA'),\n",
       " (11, 'DORSOPATIAS'),\n",
       " (12, 'AIDS'),\n",
       " (13, 'OSTEOPOROSE'),\n",
       " (14, 'ASMA')]"
      ]
     },
     "execution_count": 15,
     "metadata": {},
     "output_type": "execute_result"
    }
   ],
   "source": [
    "significant_features = list()\n",
    "for i in range(len(df.columns) - 1):\n",
    "    significant_features.append((rank[i], df.columns[i]))\n",
    "significant_features.sort(key=lambda x:x[0])\n",
    "significant_features"
   ]
  },
  {
   "cell_type": "markdown",
   "metadata": {},
   "source": [
    "* 0.25\n",
    "\n",
    "[(1, 'CANCER'),\n",
    " (2, 'DPOC'),\n",
    " (3, 'EPILEPSIA'),\n",
    " (4, 'ENXAQUECA'),\n",
    " (5, 'INSUFICIENCIA_RENAL'),\n",
    " (6, 'INSUFICIENCIA_CARDIACA'),\n",
    " (7, 'DOENCA_DE_PARKINSON'),\n",
    " (8, 'DORSOPATIAS'),\n",
    " (9, 'ESCLEROSE_MULTIPLA'),\n",
    " (10, 'ASMA'),\n",
    " (11, 'HIPERTENSAO_ESSENCIAL'),\n",
    " (12, 'DIABETES_MELLITUS'),\n",
    " (13, 'AIDS'),\n",
    " (14, 'OSTEOPOROSE')]\n",
    " \n",
    " * 0.5\n",
    " \n",
    "[(1, 'CANCER'),\n",
    " (2, 'DPOC'),\n",
    " (3, 'EPILEPSIA'),\n",
    " (4, 'ENXAQUECA'),\n",
    " (5, 'DOENCA_DE_PARKINSON'),\n",
    " (6, 'INSUFICIENCIA_RENAL'),\n",
    " (7, 'ESCLEROSE_MULTIPLA'),\n",
    " (8, 'HIPERTENSAO_ESSENCIAL'),\n",
    " (9, 'DIABETES_MELLITUS'),\n",
    " (10, 'INSUFICIENCIA_CARDIACA'),\n",
    " (11, 'DORSOPATIAS'),\n",
    " (12, 'AIDS'),\n",
    " (13, 'OSTEOPOROSE'),\n",
    " (14, 'ASMA')]"
   ]
  },
  {
   "cell_type": "markdown",
   "metadata": {},
   "source": [
    "## Testing with 2018 data"
   ]
  },
  {
   "cell_type": "markdown",
   "metadata": {},
   "source": [
    "Creating a df with the disease rates for each city. Now, we'll predict if the cities belong or not to the high RISK cluster (1, if it belongs to a high risk cluster, and 0 otherwise)."
   ]
  },
  {
   "cell_type": "code",
   "execution_count": 22,
   "metadata": {},
   "outputs": [
    {
     "ename": "KeyError",
     "evalue": "\"['TRAUMATISMO_INTRACRANIANO'] not found in axis\"",
     "output_type": "error",
     "traceback": [
      "\u001b[1;31m---------------------------------------------------------------------------\u001b[0m",
      "\u001b[1;31mKeyError\u001b[0m                                  Traceback (most recent call last)",
      "\u001b[1;32m<ipython-input-22-98b1e6b291f4>\u001b[0m in \u001b[0;36m<module>\u001b[1;34m\u001b[0m\n\u001b[0;32m     12\u001b[0m     \u001b[0mall_diseases\u001b[0m \u001b[1;33m=\u001b[0m \u001b[0mpd\u001b[0m\u001b[1;33m.\u001b[0m\u001b[0mmerge\u001b[0m\u001b[1;33m(\u001b[0m\u001b[0mdisease_df\u001b[0m\u001b[1;33m,\u001b[0m \u001b[0mall_diseases\u001b[0m\u001b[1;33m,\u001b[0m \u001b[0mleft_on\u001b[0m\u001b[1;33m=\u001b[0m\u001b[1;34m\"MUNCOD\"\u001b[0m\u001b[1;33m,\u001b[0m \u001b[0mright_on\u001b[0m\u001b[1;33m=\u001b[0m\u001b[1;34m\"MUNCOD\"\u001b[0m\u001b[1;33m,\u001b[0m \u001b[0mhow\u001b[0m\u001b[1;33m=\u001b[0m\u001b[1;34m\"inner\"\u001b[0m\u001b[1;33m)\u001b[0m\u001b[1;33m\u001b[0m\u001b[1;33m\u001b[0m\u001b[0m\n\u001b[0;32m     13\u001b[0m \u001b[0mdf\u001b[0m \u001b[1;33m=\u001b[0m \u001b[0mall_diseases\u001b[0m\u001b[1;33m.\u001b[0m\u001b[0mdrop\u001b[0m\u001b[1;33m(\u001b[0m\u001b[1;34m'MUNCOD'\u001b[0m\u001b[1;33m,\u001b[0m \u001b[1;36m1\u001b[0m\u001b[1;33m)\u001b[0m\u001b[1;33m\u001b[0m\u001b[1;33m\u001b[0m\u001b[0m\n\u001b[1;32m---> 14\u001b[1;33m \u001b[0mdf\u001b[0m \u001b[1;33m=\u001b[0m \u001b[0mdf\u001b[0m\u001b[1;33m.\u001b[0m\u001b[0mdrop\u001b[0m\u001b[1;33m(\u001b[0m\u001b[1;33m[\u001b[0m\u001b[1;34m'TRAUMATISMO_INTRACRANIANO'\u001b[0m\u001b[1;33m,\u001b[0m \u001b[1;34m'HIV'\u001b[0m\u001b[1;33m]\u001b[0m\u001b[1;33m,\u001b[0m \u001b[1;36m1\u001b[0m\u001b[1;33m)\u001b[0m\u001b[1;33m\u001b[0m\u001b[1;33m\u001b[0m\u001b[0m\n\u001b[0m\u001b[0;32m     15\u001b[0m \u001b[0mdf\u001b[0m\u001b[1;33m\u001b[0m\u001b[1;33m\u001b[0m\u001b[0m\n",
      "\u001b[1;32m~\\Anaconda3\\lib\\site-packages\\pandas\\core\\frame.py\u001b[0m in \u001b[0;36mdrop\u001b[1;34m(self, labels, axis, index, columns, level, inplace, errors)\u001b[0m\n\u001b[0;32m   4100\u001b[0m             \u001b[0mlevel\u001b[0m\u001b[1;33m=\u001b[0m\u001b[0mlevel\u001b[0m\u001b[1;33m,\u001b[0m\u001b[1;33m\u001b[0m\u001b[1;33m\u001b[0m\u001b[0m\n\u001b[0;32m   4101\u001b[0m             \u001b[0minplace\u001b[0m\u001b[1;33m=\u001b[0m\u001b[0minplace\u001b[0m\u001b[1;33m,\u001b[0m\u001b[1;33m\u001b[0m\u001b[1;33m\u001b[0m\u001b[0m\n\u001b[1;32m-> 4102\u001b[1;33m             \u001b[0merrors\u001b[0m\u001b[1;33m=\u001b[0m\u001b[0merrors\u001b[0m\u001b[1;33m,\u001b[0m\u001b[1;33m\u001b[0m\u001b[1;33m\u001b[0m\u001b[0m\n\u001b[0m\u001b[0;32m   4103\u001b[0m         )\n\u001b[0;32m   4104\u001b[0m \u001b[1;33m\u001b[0m\u001b[0m\n",
      "\u001b[1;32m~\\Anaconda3\\lib\\site-packages\\pandas\\core\\generic.py\u001b[0m in \u001b[0;36mdrop\u001b[1;34m(self, labels, axis, index, columns, level, inplace, errors)\u001b[0m\n\u001b[0;32m   3912\u001b[0m         \u001b[1;32mfor\u001b[0m \u001b[0maxis\u001b[0m\u001b[1;33m,\u001b[0m \u001b[0mlabels\u001b[0m \u001b[1;32min\u001b[0m \u001b[0maxes\u001b[0m\u001b[1;33m.\u001b[0m\u001b[0mitems\u001b[0m\u001b[1;33m(\u001b[0m\u001b[1;33m)\u001b[0m\u001b[1;33m:\u001b[0m\u001b[1;33m\u001b[0m\u001b[1;33m\u001b[0m\u001b[0m\n\u001b[0;32m   3913\u001b[0m             \u001b[1;32mif\u001b[0m \u001b[0mlabels\u001b[0m \u001b[1;32mis\u001b[0m \u001b[1;32mnot\u001b[0m \u001b[1;32mNone\u001b[0m\u001b[1;33m:\u001b[0m\u001b[1;33m\u001b[0m\u001b[1;33m\u001b[0m\u001b[0m\n\u001b[1;32m-> 3914\u001b[1;33m                 \u001b[0mobj\u001b[0m \u001b[1;33m=\u001b[0m \u001b[0mobj\u001b[0m\u001b[1;33m.\u001b[0m\u001b[0m_drop_axis\u001b[0m\u001b[1;33m(\u001b[0m\u001b[0mlabels\u001b[0m\u001b[1;33m,\u001b[0m \u001b[0maxis\u001b[0m\u001b[1;33m,\u001b[0m \u001b[0mlevel\u001b[0m\u001b[1;33m=\u001b[0m\u001b[0mlevel\u001b[0m\u001b[1;33m,\u001b[0m \u001b[0merrors\u001b[0m\u001b[1;33m=\u001b[0m\u001b[0merrors\u001b[0m\u001b[1;33m)\u001b[0m\u001b[1;33m\u001b[0m\u001b[1;33m\u001b[0m\u001b[0m\n\u001b[0m\u001b[0;32m   3915\u001b[0m \u001b[1;33m\u001b[0m\u001b[0m\n\u001b[0;32m   3916\u001b[0m         \u001b[1;32mif\u001b[0m \u001b[0minplace\u001b[0m\u001b[1;33m:\u001b[0m\u001b[1;33m\u001b[0m\u001b[1;33m\u001b[0m\u001b[0m\n",
      "\u001b[1;32m~\\Anaconda3\\lib\\site-packages\\pandas\\core\\generic.py\u001b[0m in \u001b[0;36m_drop_axis\u001b[1;34m(self, labels, axis, level, errors)\u001b[0m\n\u001b[0;32m   3944\u001b[0m                 \u001b[0mnew_axis\u001b[0m \u001b[1;33m=\u001b[0m \u001b[0maxis\u001b[0m\u001b[1;33m.\u001b[0m\u001b[0mdrop\u001b[0m\u001b[1;33m(\u001b[0m\u001b[0mlabels\u001b[0m\u001b[1;33m,\u001b[0m \u001b[0mlevel\u001b[0m\u001b[1;33m=\u001b[0m\u001b[0mlevel\u001b[0m\u001b[1;33m,\u001b[0m \u001b[0merrors\u001b[0m\u001b[1;33m=\u001b[0m\u001b[0merrors\u001b[0m\u001b[1;33m)\u001b[0m\u001b[1;33m\u001b[0m\u001b[1;33m\u001b[0m\u001b[0m\n\u001b[0;32m   3945\u001b[0m             \u001b[1;32melse\u001b[0m\u001b[1;33m:\u001b[0m\u001b[1;33m\u001b[0m\u001b[1;33m\u001b[0m\u001b[0m\n\u001b[1;32m-> 3946\u001b[1;33m                 \u001b[0mnew_axis\u001b[0m \u001b[1;33m=\u001b[0m \u001b[0maxis\u001b[0m\u001b[1;33m.\u001b[0m\u001b[0mdrop\u001b[0m\u001b[1;33m(\u001b[0m\u001b[0mlabels\u001b[0m\u001b[1;33m,\u001b[0m \u001b[0merrors\u001b[0m\u001b[1;33m=\u001b[0m\u001b[0merrors\u001b[0m\u001b[1;33m)\u001b[0m\u001b[1;33m\u001b[0m\u001b[1;33m\u001b[0m\u001b[0m\n\u001b[0m\u001b[0;32m   3947\u001b[0m             \u001b[0mresult\u001b[0m \u001b[1;33m=\u001b[0m \u001b[0mself\u001b[0m\u001b[1;33m.\u001b[0m\u001b[0mreindex\u001b[0m\u001b[1;33m(\u001b[0m\u001b[1;33m**\u001b[0m\u001b[1;33m{\u001b[0m\u001b[0maxis_name\u001b[0m\u001b[1;33m:\u001b[0m \u001b[0mnew_axis\u001b[0m\u001b[1;33m}\u001b[0m\u001b[1;33m)\u001b[0m\u001b[1;33m\u001b[0m\u001b[1;33m\u001b[0m\u001b[0m\n\u001b[0;32m   3948\u001b[0m \u001b[1;33m\u001b[0m\u001b[0m\n",
      "\u001b[1;32m~\\Anaconda3\\lib\\site-packages\\pandas\\core\\indexes\\base.py\u001b[0m in \u001b[0;36mdrop\u001b[1;34m(self, labels, errors)\u001b[0m\n\u001b[0;32m   5338\u001b[0m         \u001b[1;32mif\u001b[0m \u001b[0mmask\u001b[0m\u001b[1;33m.\u001b[0m\u001b[0many\u001b[0m\u001b[1;33m(\u001b[0m\u001b[1;33m)\u001b[0m\u001b[1;33m:\u001b[0m\u001b[1;33m\u001b[0m\u001b[1;33m\u001b[0m\u001b[0m\n\u001b[0;32m   5339\u001b[0m             \u001b[1;32mif\u001b[0m \u001b[0merrors\u001b[0m \u001b[1;33m!=\u001b[0m \u001b[1;34m\"ignore\"\u001b[0m\u001b[1;33m:\u001b[0m\u001b[1;33m\u001b[0m\u001b[1;33m\u001b[0m\u001b[0m\n\u001b[1;32m-> 5340\u001b[1;33m                 \u001b[1;32mraise\u001b[0m \u001b[0mKeyError\u001b[0m\u001b[1;33m(\u001b[0m\u001b[1;34m\"{} not found in axis\"\u001b[0m\u001b[1;33m.\u001b[0m\u001b[0mformat\u001b[0m\u001b[1;33m(\u001b[0m\u001b[0mlabels\u001b[0m\u001b[1;33m[\u001b[0m\u001b[0mmask\u001b[0m\u001b[1;33m]\u001b[0m\u001b[1;33m)\u001b[0m\u001b[1;33m)\u001b[0m\u001b[1;33m\u001b[0m\u001b[1;33m\u001b[0m\u001b[0m\n\u001b[0m\u001b[0;32m   5341\u001b[0m             \u001b[0mindexer\u001b[0m \u001b[1;33m=\u001b[0m \u001b[0mindexer\u001b[0m\u001b[1;33m[\u001b[0m\u001b[1;33m~\u001b[0m\u001b[0mmask\u001b[0m\u001b[1;33m]\u001b[0m\u001b[1;33m\u001b[0m\u001b[1;33m\u001b[0m\u001b[0m\n\u001b[0;32m   5342\u001b[0m         \u001b[1;32mreturn\u001b[0m \u001b[0mself\u001b[0m\u001b[1;33m.\u001b[0m\u001b[0mdelete\u001b[0m\u001b[1;33m(\u001b[0m\u001b[0mindexer\u001b[0m\u001b[1;33m)\u001b[0m\u001b[1;33m\u001b[0m\u001b[1;33m\u001b[0m\u001b[0m\n",
      "\u001b[1;31mKeyError\u001b[0m: \"['TRAUMATISMO_INTRACRANIANO'] not found in axis\""
     ]
    }
   ],
   "source": [
    "disease = \"\"\n",
    "path = '../../TabNet/Rates/2018/'\n",
    "all_files = glob.glob(path + \"*.csv\")\n",
    "diseases_list = []\n",
    "for file in all_files:\n",
    "    file_name = file.split(\"\\\\\")[1]\n",
    "    disease = file_name.split(\"_RATE\")[0]\n",
    "    disease_df = pd.read_csv(path + disease + '_RATE_18.csv', sep=',', index_col=0)\n",
    "    disease_df = disease_df[[\"RATE\", \"MUNCOD\"]]\n",
    "    disease_df.rename(columns={\"RATE\": disease}, inplace=True)\n",
    "\n",
    "    all_diseases = pd.merge(disease_df, all_diseases, left_on=\"MUNCOD\", right_on=\"MUNCOD\", how=\"inner\")\n",
    "df = all_diseases.drop('MUNCOD', 1)\n",
    "df = df.drop(['TRAUMATISMO_INTRACRANIANO', 'HIV'], 1)\n",
    "df"
   ]
  }
 ],
 "metadata": {
  "kernelspec": {
   "display_name": "Python 3",
   "language": "python",
   "name": "python3"
  },
  "language_info": {
   "codemirror_mode": {
    "name": "ipython",
    "version": 3
   },
   "file_extension": ".py",
   "mimetype": "text/x-python",
   "name": "python",
   "nbconvert_exporter": "python",
   "pygments_lexer": "ipython3",
   "version": "3.7.4"
  }
 },
 "nbformat": 4,
 "nbformat_minor": 1
}
