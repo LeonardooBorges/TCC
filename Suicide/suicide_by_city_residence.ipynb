{
 "cells": [
  {
   "cell_type": "markdown",
   "metadata": {
    "collapsed": true,
    "pycharm": {
     "name": "#%% md\n"
    }
   },
   "source": [
    "# Suicide by City (residence)\n",
    "\n",
    "Requirements: DOBR2018.csv file"
   ]
  },
  {
   "cell_type": "markdown",
   "source": [
    "Imports libraries"
   ],
   "metadata": {
    "collapsed": false,
    "pycharm": {
     "name": "#%% md\n"
    }
   }
  },
  {
   "cell_type": "code",
   "execution_count": 2,
   "outputs": [],
   "source": [
    "import re\n",
    "import pandas as pd"
   ],
   "metadata": {
    "collapsed": false,
    "pycharm": {
     "name": "#%%\n"
    }
   }
  },
  {
   "cell_type": "markdown",
   "source": [
    "Reads DOBR csv and select columns of interest (CAUSABAS and CODMUNOCOR)"
   ],
   "metadata": {
    "collapsed": false,
    "pycharm": {
     "name": "#%% md\n"
    }
   }
  },
  {
   "cell_type": "code",
   "execution_count": 14,
   "outputs": [
    {
     "name": "stderr",
     "output_type": "stream",
     "text": [
      "C:\\Users\\pypas\\anaconda3\\envs\\ML\\lib\\site-packages\\IPython\\core\\interactiveshell.py:3063: DtypeWarning: Columns (67) have mixed types.Specify dtype option on import or set low_memory=False.\n",
      "  interactivity=interactivity, compiler=compiler, result=result)\n"
     ]
    }
   ],
   "source": [
    "df = pd.read_csv('DOBR2018.csv', sep=',')\n",
    "df = df[[\"CAUSABAS\", \"CODMUNRES\"]]"
   ],
   "metadata": {
    "collapsed": false,
    "pycharm": {
     "name": "#%%\n"
    }
   }
  },
  {
   "cell_type": "markdown",
   "source": [
    "Selects rows where CAUSABAS = suicide and group them by CODMUNOCOR"
   ],
   "metadata": {
    "collapsed": false,
    "pycharm": {
     "name": "#%% md\n"
    }
   }
  },
  {
   "cell_type": "code",
   "execution_count": 15,
   "outputs": [
    {
     "name": "stderr",
     "output_type": "stream",
     "text": [
      "C:\\Users\\pypas\\anaconda3\\envs\\ML\\lib\\site-packages\\pandas\\core\\strings.py:1954: UserWarning: This pattern has match groups. To actually get the groups, use str.extract.\n",
      "  return func(self, *args, **kwargs)\n"
     ]
    }
   ],
   "source": [
    "df_causabas = df[df['CAUSABAS'].notnull() & df[\"CAUSABAS\"].str.contains(pat = '(X[6-7])|(X8[0-4])', regex = True)]\n",
    "df_causabas = df_causabas[[\"CODMUNRES\"]]\n",
    "df_new = df_causabas.groupby(['CODMUNRES']).size().to_frame('SUICIDES')"
   ],
   "metadata": {
    "collapsed": false,
    "pycharm": {
     "name": "#%%\n"
    }
   }
  },
  {
   "cell_type": "markdown",
   "source": [
    "Creates csv with number of suicides per city"
   ],
   "metadata": {
    "collapsed": false,
    "pycharm": {
     "name": "#%% md\n"
    }
   }
  },
  {
   "cell_type": "code",
   "execution_count": 5,
   "outputs": [],
   "source": [
    "df_new.to_csv(\"CSV/suicides_codmunres_2018.csv\")"
   ],
   "metadata": {
    "collapsed": false,
    "pycharm": {
     "name": "#%%\n"
    }
   }
  },
  {
   "cell_type": "markdown",
   "source": [
    "Reads CADMUN.csv and chooses columns of interest"
   ],
   "metadata": {
    "collapsed": false
   }
  },
  {
   "cell_type": "code",
   "execution_count": 16,
   "outputs": [],
   "source": [
    "mun = pd.read_csv('../util/CADMUN.csv', sep=',')\n",
    "mun = mun[[\"MUNCOD\", \"MUNNOME\", \"LATITUDE\", \"LONGITUDE\"]]"
   ],
   "metadata": {
    "collapsed": false,
    "pycharm": {
     "name": "#%%\n"
    }
   }
  },
  {
   "cell_type": "markdown",
   "source": [
    "Remove \"ignored\" municipalities:"
   ],
   "metadata": {
    "collapsed": false
   }
  },
  {
   "cell_type": "code",
   "execution_count": 17,
   "outputs": [],
   "source": [
    "mun = mun[~mun[\"MUNNOME\"].str.contains(pat = '^$|[iI]gnorado', regex = True)]"
   ],
   "metadata": {
    "collapsed": false,
    "pycharm": {
     "name": "#%%\n"
    }
   }
  },
  {
   "cell_type": "code",
   "execution_count": 18,
   "outputs": [
    {
     "data": {
      "text/plain": "           SUICIDES\nCODMUNRES          \n110001            1\n110002            2\n110003            1\n110004            8\n110005            1\n...             ...\n522160            2\n522170            2\n522185            7\n522190            1\n530010          187\n\n[3202 rows x 1 columns]",
      "text/html": "<div>\n<style scoped>\n    .dataframe tbody tr th:only-of-type {\n        vertical-align: middle;\n    }\n\n    .dataframe tbody tr th {\n        vertical-align: top;\n    }\n\n    .dataframe thead th {\n        text-align: right;\n    }\n</style>\n<table border=\"1\" class=\"dataframe\">\n  <thead>\n    <tr style=\"text-align: right;\">\n      <th></th>\n      <th>SUICIDES</th>\n    </tr>\n    <tr>\n      <th>CODMUNRES</th>\n      <th></th>\n    </tr>\n  </thead>\n  <tbody>\n    <tr>\n      <th>110001</th>\n      <td>1</td>\n    </tr>\n    <tr>\n      <th>110002</th>\n      <td>2</td>\n    </tr>\n    <tr>\n      <th>110003</th>\n      <td>1</td>\n    </tr>\n    <tr>\n      <th>110004</th>\n      <td>8</td>\n    </tr>\n    <tr>\n      <th>110005</th>\n      <td>1</td>\n    </tr>\n    <tr>\n      <th>...</th>\n      <td>...</td>\n    </tr>\n    <tr>\n      <th>522160</th>\n      <td>2</td>\n    </tr>\n    <tr>\n      <th>522170</th>\n      <td>2</td>\n    </tr>\n    <tr>\n      <th>522185</th>\n      <td>7</td>\n    </tr>\n    <tr>\n      <th>522190</th>\n      <td>1</td>\n    </tr>\n    <tr>\n      <th>530010</th>\n      <td>187</td>\n    </tr>\n  </tbody>\n</table>\n<p>3202 rows × 1 columns</p>\n</div>"
     },
     "execution_count": 18,
     "metadata": {},
     "output_type": "execute_result"
    }
   ],
   "source": [
    "df_new"
   ],
   "metadata": {
    "collapsed": false,
    "pycharm": {
     "name": "#%%\n"
    }
   }
  },
  {
   "cell_type": "markdown",
   "source": [
    "Inner join of suicide dataframe with CADMUN dataframe to get cities' names and latitude/longitude"
   ],
   "metadata": {
    "collapsed": false
   }
  },
  {
   "cell_type": "code",
   "execution_count": 19,
   "outputs": [],
   "source": [
    "result = pd.merge(df_new, mun, left_on=\"CODMUNRES\", right_on=\"MUNCOD\", how=\"inner\")\n",
    "result.to_csv(r'CSV/suicides_codmunres_geo_2018.csv')"
   ],
   "metadata": {
    "collapsed": false,
    "pycharm": {
     "name": "#%%\n"
    }
   }
  }
 ],
 "metadata": {
  "kernelspec": {
   "display_name": "Python 3",
   "language": "python",
   "name": "python3"
  },
  "language_info": {
   "codemirror_mode": {
    "name": "ipython",
    "version": 2
   },
   "file_extension": ".py",
   "mimetype": "text/x-python",
   "name": "python",
   "nbconvert_exporter": "python",
   "pygments_lexer": "ipython2",
   "version": "2.7.6"
  }
 },
 "nbformat": 4,
 "nbformat_minor": 0
}