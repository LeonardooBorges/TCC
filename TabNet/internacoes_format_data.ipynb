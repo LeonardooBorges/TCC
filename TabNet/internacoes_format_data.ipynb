{
 "cells": [
  {
   "cell_type": "markdown",
   "metadata": {},
   "source": [
    "# Internacoes count data\n",
    "All data was extracted from the SIH database"
   ]
  },
  {
   "cell_type": "markdown",
   "metadata": {},
   "source": [
    "Import libraries"
   ]
  },
  {
   "cell_type": "code",
   "execution_count": 1,
   "metadata": {},
   "outputs": [],
   "source": [
    "import pandas as pd\n",
    "import numpy as np\n",
    "import glob\n",
    "root = '../'"
   ]
  },
  {
   "cell_type": "markdown",
   "metadata": {},
   "source": [
    "Convert raw data to formatted count data"
   ]
  },
  {
   "cell_type": "code",
   "execution_count": 2,
   "metadata": {
    "scrolled": true
   },
   "outputs": [],
   "source": [
    "path = root + 'CSV/TabNet/Internacoes/'\n",
    "all_files = glob.glob(path + \"*.csv\")\n",
    "for file in all_files:\n",
    "    file_name = file.split(\"/\")[-1]\n",
    "    disease = file_name.split('.csv')[0]\n",
    "    disease_df = pd.read_csv(path + file_name, sep=';')\n",
    "    disease_df['MUNCOD'] = disease_df['Município'].str.split(' ', expand=True)[0]\n",
    "    disease_df = disease_df[disease_df[\"Município\"] != \"Total\"]\n",
    "    disease_df.drop(['Município', 'Total'], axis=1, inplace=True)\n",
    "    disease_df = disease_df.replace(\"-\", 0)\n",
    "    disease_df = disease_df.astype(int)\n",
    "    for col in disease_df.columns:\n",
    "        if(col != \"MUNCOD\"):\n",
    "            year = col.split(\"/\")[0]\n",
    "            if year not in disease_df.columns:\n",
    "                disease_df[year] = 0\n",
    "            disease_df[year] = disease_df[year] + disease_df[col]\n",
    "            disease_df = disease_df.drop(columns=col)\n",
    "    disease_df.to_csv(root + 'CSV/TabNet/Internacoes_Anual/' + disease +'.csv')"
   ]
  },
  {
   "cell_type": "markdown",
   "metadata": {},
   "source": [
    "# Internacoes rate data"
   ]
  },
  {
   "cell_type": "code",
   "execution_count": 3,
   "metadata": {},
   "outputs": [],
   "source": [
    "def drop_if_exists(col_list, df):\n",
    "    for col in col_list:\n",
    "        if col in df.columns:\n",
    "            df = df.drop(columns=col, axis=1)\n",
    "    return df"
   ]
  },
  {
   "cell_type": "code",
   "execution_count": 4,
   "metadata": {},
   "outputs": [
    {
     "data": {
      "text/html": [
       "<div>\n",
       "<style scoped>\n",
       "    .dataframe tbody tr th:only-of-type {\n",
       "        vertical-align: middle;\n",
       "    }\n",
       "\n",
       "    .dataframe tbody tr th {\n",
       "        vertical-align: top;\n",
       "    }\n",
       "\n",
       "    .dataframe thead th {\n",
       "        text-align: right;\n",
       "    }\n",
       "</style>\n",
       "<table border=\"1\" class=\"dataframe\">\n",
       "  <thead>\n",
       "    <tr style=\"text-align: right;\">\n",
       "      <th></th>\n",
       "      <th>MUNCOD</th>\n",
       "      <th>RATE_18</th>\n",
       "      <th>RATE_17</th>\n",
       "      <th>RATE_16</th>\n",
       "      <th>RATE_15</th>\n",
       "      <th>RATE_14</th>\n",
       "      <th>RATE_13</th>\n",
       "      <th>RATE_12</th>\n",
       "      <th>RATE_11</th>\n",
       "      <th>RATE_10</th>\n",
       "      <th>RATE_09</th>\n",
       "      <th>RATE_08</th>\n",
       "    </tr>\n",
       "  </thead>\n",
       "  <tbody>\n",
       "    <tr>\n",
       "      <th>0</th>\n",
       "      <td>110001</td>\n",
       "      <td>0.000000</td>\n",
       "      <td>0.000000</td>\n",
       "      <td>3.920646</td>\n",
       "      <td>0.000000</td>\n",
       "      <td>0.0</td>\n",
       "      <td>0.000000</td>\n",
       "      <td>0.000000</td>\n",
       "      <td>0.0</td>\n",
       "      <td>0.0</td>\n",
       "      <td>0.0</td>\n",
       "      <td>0.0</td>\n",
       "    </tr>\n",
       "    <tr>\n",
       "      <th>1</th>\n",
       "      <td>110009</td>\n",
       "      <td>0.000000</td>\n",
       "      <td>0.000000</td>\n",
       "      <td>0.000000</td>\n",
       "      <td>0.000000</td>\n",
       "      <td>0.0</td>\n",
       "      <td>6.309347</td>\n",
       "      <td>0.000000</td>\n",
       "      <td>0.0</td>\n",
       "      <td>0.0</td>\n",
       "      <td>0.0</td>\n",
       "      <td>0.0</td>\n",
       "    </tr>\n",
       "    <tr>\n",
       "      <th>2</th>\n",
       "      <td>110020</td>\n",
       "      <td>0.000000</td>\n",
       "      <td>0.192516</td>\n",
       "      <td>0.000000</td>\n",
       "      <td>0.000000</td>\n",
       "      <td>0.0</td>\n",
       "      <td>0.000000</td>\n",
       "      <td>0.000000</td>\n",
       "      <td>0.0</td>\n",
       "      <td>0.0</td>\n",
       "      <td>0.0</td>\n",
       "      <td>0.0</td>\n",
       "    </tr>\n",
       "    <tr>\n",
       "      <th>3</th>\n",
       "      <td>110120</td>\n",
       "      <td>10.243802</td>\n",
       "      <td>0.000000</td>\n",
       "      <td>0.000000</td>\n",
       "      <td>18.479165</td>\n",
       "      <td>0.0</td>\n",
       "      <td>0.000000</td>\n",
       "      <td>9.801039</td>\n",
       "      <td>0.0</td>\n",
       "      <td>0.0</td>\n",
       "      <td>0.0</td>\n",
       "      <td>0.0</td>\n",
       "    </tr>\n",
       "    <tr>\n",
       "      <th>4</th>\n",
       "      <td>110143</td>\n",
       "      <td>0.000000</td>\n",
       "      <td>12.871669</td>\n",
       "      <td>0.000000</td>\n",
       "      <td>0.000000</td>\n",
       "      <td>0.0</td>\n",
       "      <td>0.000000</td>\n",
       "      <td>0.000000</td>\n",
       "      <td>0.0</td>\n",
       "      <td>0.0</td>\n",
       "      <td>0.0</td>\n",
       "      <td>0.0</td>\n",
       "    </tr>\n",
       "  </tbody>\n",
       "</table>\n",
       "</div>"
      ],
      "text/plain": [
       "   MUNCOD    RATE_18    RATE_17   RATE_16    RATE_15  RATE_14   RATE_13  \\\n",
       "0  110001   0.000000   0.000000  3.920646   0.000000      0.0  0.000000   \n",
       "1  110009   0.000000   0.000000  0.000000   0.000000      0.0  6.309347   \n",
       "2  110020   0.000000   0.192516  0.000000   0.000000      0.0  0.000000   \n",
       "3  110120  10.243802   0.000000  0.000000  18.479165      0.0  0.000000   \n",
       "4  110143   0.000000  12.871669  0.000000   0.000000      0.0  0.000000   \n",
       "\n",
       "    RATE_12  RATE_11  RATE_10  RATE_09  RATE_08  \n",
       "0  0.000000      0.0      0.0      0.0      0.0  \n",
       "1  0.000000      0.0      0.0      0.0      0.0  \n",
       "2  0.000000      0.0      0.0      0.0      0.0  \n",
       "3  9.801039      0.0      0.0      0.0      0.0  \n",
       "4  0.000000      0.0      0.0      0.0      0.0  "
      ]
     },
     "execution_count": 4,
     "metadata": {},
     "output_type": "execute_result"
    }
   ],
   "source": [
    "path = root + 'CSV/TabNet/Internacoes_Anual/'\n",
    "all_files = glob.glob(path + \"*.csv\")\n",
    "population = pd.read_csv(root + 'CSV/Population/population_08_18.csv', index_col=[0])\n",
    "for file in all_files:\n",
    "    file_name = file.split(\"/\")[-1]\n",
    "    disease = file_name.split(\".csv\")[0]\n",
    "    disease_df = pd.read_csv(path + file_name,index_col=0)\n",
    "    disease_df = drop_if_exists([\"2007\",\"2019\",\"2020\"],disease_df)\n",
    "    df = pd.merge(population, disease_df, left_on=\"MUNCOD\", right_on=\"MUNCOD\")\n",
    "    for column in population.columns:\n",
    "        if column.split('_')[0] == \"POP\":\n",
    "            year = column.split('_')[1]\n",
    "            if '20' + year in df.columns:\n",
    "                df['RATE_' + year] = df['20' + year]/df['POP_' + year] * 100000\n",
    "            df = drop_if_exists(['20' + year, 'POP_' + year], df)\n",
    "    df.to_csv(root + 'CSV/TabNet/Internacoes_Rate/' + disease + \".csv\")\n",
    "df.head()"
   ]
  }
 ],
 "metadata": {
  "kernelspec": {
   "display_name": "Python 3",
   "language": "python",
   "name": "python3"
  },
  "language_info": {
   "codemirror_mode": {
    "name": "ipython",
    "version": 3
   },
   "file_extension": ".py",
   "mimetype": "text/x-python",
   "name": "python",
   "nbconvert_exporter": "python",
   "pygments_lexer": "ipython3",
   "version": "3.7.6"
  }
 },
 "nbformat": 4,
 "nbformat_minor": 4
}
