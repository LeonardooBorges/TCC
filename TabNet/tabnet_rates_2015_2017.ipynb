{
 "cells": [
  {
   "cell_type": "code",
   "execution_count": 1,
   "metadata": {},
   "outputs": [],
   "source": [
    "import pandas as pd\n",
    "import glob"
   ]
  },
  {
   "cell_type": "code",
   "execution_count": 8,
   "metadata": {},
   "outputs": [
    {
     "data": {
      "text/html": [
       "<div>\n",
       "<style scoped>\n",
       "    .dataframe tbody tr th:only-of-type {\n",
       "        vertical-align: middle;\n",
       "    }\n",
       "\n",
       "    .dataframe tbody tr th {\n",
       "        vertical-align: top;\n",
       "    }\n",
       "\n",
       "    .dataframe thead th {\n",
       "        text-align: right;\n",
       "    }\n",
       "</style>\n",
       "<table border=\"1\" class=\"dataframe\">\n",
       "  <thead>\n",
       "    <tr style=\"text-align: right;\">\n",
       "      <th></th>\n",
       "      <th>POPULATION</th>\n",
       "      <th>MUNCOD</th>\n",
       "      <th>RATE</th>\n",
       "    </tr>\n",
       "  </thead>\n",
       "  <tbody>\n",
       "    <tr>\n",
       "      <th>0</th>\n",
       "      <td>25437</td>\n",
       "      <td>110001</td>\n",
       "      <td>11.793844</td>\n",
       "    </tr>\n",
       "    <tr>\n",
       "      <th>1</th>\n",
       "      <td>107345</td>\n",
       "      <td>110002</td>\n",
       "      <td>9.315758</td>\n",
       "    </tr>\n",
       "    <tr>\n",
       "      <th>2</th>\n",
       "      <td>88507</td>\n",
       "      <td>110004</td>\n",
       "      <td>5.649271</td>\n",
       "    </tr>\n",
       "    <tr>\n",
       "      <th>3</th>\n",
       "      <td>17934</td>\n",
       "      <td>110005</td>\n",
       "      <td>5.576001</td>\n",
       "    </tr>\n",
       "    <tr>\n",
       "      <th>4</th>\n",
       "      <td>18467</td>\n",
       "      <td>110006</td>\n",
       "      <td>10.830129</td>\n",
       "    </tr>\n",
       "    <tr>\n",
       "      <th>...</th>\n",
       "      <td>...</td>\n",
       "      <td>...</td>\n",
       "      <td>...</td>\n",
       "    </tr>\n",
       "    <tr>\n",
       "      <th>3134</th>\n",
       "      <td>40082</td>\n",
       "      <td>522160</td>\n",
       "      <td>9.979542</td>\n",
       "    </tr>\n",
       "    <tr>\n",
       "      <th>3135</th>\n",
       "      <td>14195</td>\n",
       "      <td>522170</td>\n",
       "      <td>7.044734</td>\n",
       "    </tr>\n",
       "    <tr>\n",
       "      <th>3136</th>\n",
       "      <td>159500</td>\n",
       "      <td>522185</td>\n",
       "      <td>3.761755</td>\n",
       "    </tr>\n",
       "    <tr>\n",
       "      <th>3137</th>\n",
       "      <td>13675</td>\n",
       "      <td>522200</td>\n",
       "      <td>7.312614</td>\n",
       "    </tr>\n",
       "    <tr>\n",
       "      <th>3138</th>\n",
       "      <td>3039444</td>\n",
       "      <td>530010</td>\n",
       "      <td>5.527327</td>\n",
       "    </tr>\n",
       "  </tbody>\n",
       "</table>\n",
       "<p>3139 rows × 3 columns</p>\n",
       "</div>"
      ],
      "text/plain": [
       "      POPULATION  MUNCOD       RATE\n",
       "0          25437  110001  11.793844\n",
       "1         107345  110002   9.315758\n",
       "2          88507  110004   5.649271\n",
       "3          17934  110005   5.576001\n",
       "4          18467  110006  10.830129\n",
       "...          ...     ...        ...\n",
       "3134       40082  522160   9.979542\n",
       "3135       14195  522170   7.044734\n",
       "3136      159500  522185   3.761755\n",
       "3137       13675  522200   7.312614\n",
       "3138     3039444  530010   5.527327\n",
       "\n",
       "[3139 rows x 3 columns]"
      ]
     },
     "execution_count": 8,
     "metadata": {},
     "output_type": "execute_result"
    }
   ],
   "source": [
    "\n",
    "population = pd.read_csv('../util/Population/POPULATION_2017.csv', index_col=[0])\n",
    "suicide = pd.read_csv('../Suicide/CSV/suicides_codmunres_2017.csv', index_col=[0])\n",
    "all_diseases = pd.merge(population, suicide, left_on=\"MUNCOD\", right_on=\"CODMUNRES\", how=\"inner\")\n",
    "all_diseases = all_diseases[[\"POPULATION\",\"MUNCOD\",\"RATE\"]]\n",
    "all_diseases = all_diseases.fillna(0)\n",
    "all_diseases"
   ]
  },
  {
   "cell_type": "code",
   "execution_count": 9,
   "metadata": {},
   "outputs": [
    {
     "name": "stderr",
     "output_type": "stream",
     "text": [
      "C:\\Users\\pypas\\anaconda3\\envs\\ML\\lib\\site-packages\\pandas\\core\\frame.py:4133: SettingWithCopyWarning: \n",
      "A value is trying to be set on a copy of a slice from a DataFrame\n",
      "\n",
      "See the caveats in the documentation: https://pandas.pydata.org/pandas-docs/stable/user_guide/indexing.html#returning-a-view-versus-a-copy\n",
      "  errors=errors,\n"
     ]
    }
   ],
   "source": [
    "disease = \"\"\n",
    "path = 'Quantity/'\n",
    "all_files = glob.glob(path + \"*.csv\")\n",
    "diseases_list = []\n",
    "for file in all_files:\n",
    "    file_name = file.split(\"\\\\\")[1]\n",
    "    disease = file_name.split(\"_15\")[0]\n",
    "    disease_df = pd.read_csv(path + disease + '_15_17.csv', sep=',', index_col=0)\n",
    "    rates = disease_df[[\"2017\", \"MUNCOD\"]]\n",
    "    rates.rename(columns={\"2017\": disease}, inplace=True)\n",
    "    \n",
    "    all_diseases = pd.merge(rates, all_diseases, left_on=\"MUNCOD\", right_on=\"MUNCOD\", how=\"right\")\n",
    "    all_diseases[disease] =  all_diseases[disease]/all_diseases['POPULATION'] * 100000\n",
    "\n",
    "df = all_diseases.drop('POPULATION', 1)\n",
    "df = df.drop('TRAUMATISMO_INTRACRANIANO', 1)\n",
    "df = df.fillna(0)\n"
   ]
  },
  {
   "cell_type": "code",
   "execution_count": 10,
   "metadata": {},
   "outputs": [],
   "source": [
    "df.to_csv('complete_rates_2017.csv')"
   ]
  }
 ],
 "metadata": {
  "kernelspec": {
   "display_name": "Python 3",
   "language": "python",
   "name": "python3"
  },
  "language_info": {
   "codemirror_mode": {
    "name": "ipython",
    "version": 3
   },
   "file_extension": ".py",
   "mimetype": "text/x-python",
   "name": "python",
   "nbconvert_exporter": "python",
   "pygments_lexer": "ipython3",
   "version": "3.7.6"
  }
 },
 "nbformat": 4,
 "nbformat_minor": 4
}
