{
 "cells": [
  {
   "cell_type": "markdown",
   "metadata": {
    "pycharm": {
     "name": "#%% md\n"
    }
   },
   "source": [
    "# Transforma arquivos do Tabnet\n",
    "Como usar:\n",
    "\n",
    "* Acessar http://tabnet.datasus.gov.br/cgi/deftohtm.exe?sih/cnv/nrbr.def\n",
    "* Escolher\n",
    "    - Linha: Município\n",
    "    - Coluna: Ano processamento\n",
    "    - Conteúdo: Internações\n",
    "    - Período disponível: Selecionar de Jan/2015 a Dez/2017\n",
    "    - Lista Morb CID-10: Selecionar doença (ex: traumatismo intracraniano)\n",
    "* Escolher opção \"colunas separadas por \";\"\"\n",
    "* Clicar em Mostra\n",
    "* Copiar dados a partir do header até a ultima linha (desconsiderando a linha \"Total\";xxx)\n",
    "* Criar um arquivo .csv nessa pasta com o nome da doença em questão (ex: traumatismo.csv)\n",
    "* Atualizar o nome do arquivo e da doença no código abaixo\n",
    "* Rodar o código"
   ]
  },
  {
   "cell_type": "markdown",
   "metadata": {
    "pycharm": {
     "name": "#%% md\n"
    }
   },
   "source": [
    "Import libraries"
   ]
  },
  {
   "cell_type": "code",
   "execution_count": 2,
   "metadata": {
    "pycharm": {
     "name": "#%%\n"
    }
   },
   "outputs": [],
   "source": [
    "import pandas as pd"
   ]
  },
  {
   "cell_type": "markdown",
   "metadata": {
    "pycharm": {
     "name": "#%% md\n"
    }
   },
   "source": [
    "Creates quantity files:"
   ]
  },
  {
   "cell_type": "code",
   "execution_count": 75,
   "metadata": {},
   "outputs": [
    {
     "name": "stderr",
     "output_type": "stream",
     "text": [
      "C:\\Users\\marco\\Anaconda3\\lib\\site-packages\\ipykernel_launcher.py:5: ParserWarning: Falling back to the 'python' engine because the 'c' engine does not support skipfooter; you can avoid this warning by specifying engine='python'.\n",
      "  \"\"\"\n"
     ]
    }
   ],
   "source": [
    "doencas_sih = ['ALZHEIMER', 'ASMA', 'DIABETES_MILLITUS', 'DOENCA_DE_PARKINSON', 'DORSOPATIAS',\n",
    "              'DPOC', 'ENXAQUECA', 'EPILEPSIA', 'ESCLEROSE_MULTIPLA', 'HIPERTENSAO_ESSENCIAL',\n",
    "              'HIV', 'INSUFICIENCIA_CARDIACA', 'INSUFICIENCIA_RENAL', 'OSTEOPOROSE', 'TRAUMATISMO_INTRACRANIANO']\n",
    "for doenca in doencas_sih:\n",
    "    table = pd.read_csv('Quantity/2018/{}_18.csv'.format(doenca), sep=';', skiprows=4, skipfooter=6)\n",
    "    table['MUNCOD'] = table['Município'].str.split(' ', expand=True)[0]\n",
    "    table.drop('Município', axis=1, inplace=True)\n",
    "    table = table.rename(columns={\"Internações\": \"COUNTS\"})\n",
    "    table['COUNTS'] = table['COUNTS'].astype(int)\n",
    "    table.to_csv('Quantity/2018/{}_18.csv'.format(doenca))"
   ]
  },
  {
   "cell_type": "markdown",
   "metadata": {},
   "source": [
    "AIDS quantity file:"
   ]
  },
  {
   "cell_type": "code",
   "execution_count": 76,
   "metadata": {},
   "outputs": [],
   "source": [
    "doenca = 'AIDS'\n",
    "table = pd.read_csv('Quantity/2018/{}_18.csv'.format(doenca), sep=',')\n",
    "table['MUNCOD'] = table['Município (Res)'].str.split(' ', expand=True)[0]\n",
    "table.drop('Município (Res)', axis=1, inplace=True)\n",
    "table = table.drop(0).reset_index(drop=True) # TOTAL\n",
    "table = table.rename(columns={\"Freqüência\": \"COUNTS\"})\n",
    "table['COUNTS'] = table['COUNTS'].astype(int)\n",
    "table.to_csv('Quantity/2018/{}_18.csv'.format(doenca))"
   ]
  },
  {
   "cell_type": "markdown",
   "metadata": {},
   "source": [
    "Cancer quantity file:"
   ]
  },
  {
   "cell_type": "code",
   "execution_count": 78,
   "metadata": {},
   "outputs": [
    {
     "name": "stderr",
     "output_type": "stream",
     "text": [
      "C:\\Users\\marco\\Anaconda3\\lib\\site-packages\\ipykernel_launcher.py:2: ParserWarning: Falling back to the 'python' engine because the 'c' engine does not support skipfooter; you can avoid this warning by specifying engine='python'.\n",
      "  \n"
     ]
    }
   ],
   "source": [
    "doenca = 'CANCER'\n",
    "table = pd.read_csv('Quantity/2018/{}_18.csv'.format(doenca), sep=';', skipfooter=1, encoding='iso-8859-1')\n",
    "table['MUNCOD'] = table['Municí­pio da residência'].str.split(' ', expand=True)[0]\n",
    "table.drop('Municí­pio da residência', axis=1, inplace=True)\n",
    "table = table.rename(columns={\"Casos\": \"COUNTS\"})\n",
    "table['COUNTS'] = table['COUNTS'].astype(int)\n",
    "table.to_csv('Quantity/2018/{}_18.csv'.format(doenca))"
   ]
  },
  {
   "cell_type": "code",
   "execution_count": 102,
   "metadata": {},
   "outputs": [
    {
     "data": {
      "text/html": [
       "<div>\n",
       "<style scoped>\n",
       "    .dataframe tbody tr th:only-of-type {\n",
       "        vertical-align: middle;\n",
       "    }\n",
       "\n",
       "    .dataframe tbody tr th {\n",
       "        vertical-align: top;\n",
       "    }\n",
       "\n",
       "    .dataframe thead th {\n",
       "        text-align: right;\n",
       "    }\n",
       "</style>\n",
       "<table border=\"1\" class=\"dataframe\">\n",
       "  <thead>\n",
       "    <tr style=\"text-align: right;\">\n",
       "      <th></th>\n",
       "      <th>RATE</th>\n",
       "      <th>MUNCOD</th>\n",
       "    </tr>\n",
       "  </thead>\n",
       "  <tbody>\n",
       "    <tr>\n",
       "      <td>0</td>\n",
       "      <td>4.316485</td>\n",
       "      <td>110001</td>\n",
       "    </tr>\n",
       "    <tr>\n",
       "      <td>1</td>\n",
       "      <td>4.762132</td>\n",
       "      <td>110040</td>\n",
       "    </tr>\n",
       "    <tr>\n",
       "      <td>2</td>\n",
       "      <td>13.585111</td>\n",
       "      <td>110034</td>\n",
       "    </tr>\n",
       "    <tr>\n",
       "      <td>3</td>\n",
       "      <td>22.605682</td>\n",
       "      <td>110002</td>\n",
       "    </tr>\n",
       "    <tr>\n",
       "      <td>4</td>\n",
       "      <td>5.136503</td>\n",
       "      <td>110045</td>\n",
       "    </tr>\n",
       "    <tr>\n",
       "      <td>...</td>\n",
       "      <td>...</td>\n",
       "      <td>...</td>\n",
       "    </tr>\n",
       "    <tr>\n",
       "      <td>2995</td>\n",
       "      <td>21.632535</td>\n",
       "      <td>522170</td>\n",
       "    </tr>\n",
       "    <tr>\n",
       "      <td>2996</td>\n",
       "      <td>17.605313</td>\n",
       "      <td>522185</td>\n",
       "    </tr>\n",
       "    <tr>\n",
       "      <td>2997</td>\n",
       "      <td>14.549687</td>\n",
       "      <td>522200</td>\n",
       "    </tr>\n",
       "    <tr>\n",
       "      <td>2998</td>\n",
       "      <td>17.367141</td>\n",
       "      <td>522230</td>\n",
       "    </tr>\n",
       "    <tr>\n",
       "      <td>2999</td>\n",
       "      <td>13.816505</td>\n",
       "      <td>530010</td>\n",
       "    </tr>\n",
       "  </tbody>\n",
       "</table>\n",
       "<p>3000 rows × 2 columns</p>\n",
       "</div>"
      ],
      "text/plain": [
       "           RATE  MUNCOD\n",
       "0      4.316485  110001\n",
       "1      4.762132  110040\n",
       "2     13.585111  110034\n",
       "3     22.605682  110002\n",
       "4      5.136503  110045\n",
       "...         ...     ...\n",
       "2995  21.632535  522170\n",
       "2996  17.605313  522185\n",
       "2997  14.549687  522200\n",
       "2998  17.367141  522230\n",
       "2999  13.816505  530010\n",
       "\n",
       "[3000 rows x 2 columns]"
      ]
     },
     "execution_count": 102,
     "metadata": {},
     "output_type": "execute_result"
    }
   ],
   "source": [
    "result"
   ]
  },
  {
   "cell_type": "markdown",
   "metadata": {},
   "source": [
    "(Specific case for only one year):"
   ]
  },
  {
   "cell_type": "code",
   "execution_count": 114,
   "metadata": {},
   "outputs": [],
   "source": [
    "pop18 = pd.read_csv('../util/Population/POPULATION_2018.csv', index_col=[0])\n",
    "doencas = doencas_sih + ['AIDS', 'CANCER']\n",
    "for doenca in doencas:\n",
    "    table = pd.read_csv('Quantity/2018/{}_18.csv'.format(doenca), index_col=[0])\n",
    "    table['MUNCOD'] = table['MUNCOD'].astype(int)\n",
    "    result = pd.merge(table, pop18, left_on=\"MUNCOD\", right_on=\"MUNCOD\", how=\"inner\")\n",
    "    result['RATE'] = result['COUNTS'] / result['POPULATION'] * 100000\n",
    "    result = result[[\"RATE\", \"MUNCOD\"]]\n",
    "    result.to_csv('Rates/2018/' + doenca + \"_RATE_18.csv\")"
   ]
  },
  {
   "cell_type": "markdown",
   "metadata": {
    "pycharm": {
     "name": "#%% md\n"
    }
   },
   "source": [
    "Creates rates file"
   ]
  },
  {
   "cell_type": "code",
   "execution_count": 95,
   "metadata": {
    "pycharm": {
     "name": "#%%\n"
    }
   },
   "outputs": [],
   "source": [
    "table = pd.read_csv('Quantity/2018/{}_18.csv'.format(doenca))\n",
    "pop15 = pd.read_csv('../util/Population/POPULATION_2015.csv', index_col=[0])\n",
    "pop16 = pd.read_csv('../util/Population/POPULATION_2016.csv', index_col=[0])\n",
    "pop17 = pd.read_csv('../util/Population/POPULATION_2017.csv', index_col=[0])"
   ]
  },
  {
   "cell_type": "markdown",
   "metadata": {
    "pycharm": {
     "name": "#%% md\n"
    }
   },
   "source": [
    "Merge with 2015"
   ]
  },
  {
   "cell_type": "code",
   "execution_count": 96,
   "metadata": {
    "pycharm": {
     "name": "#%%\n"
    }
   },
   "outputs": [
    {
     "data": {
      "text/html": [
       "<div>\n",
       "<style scoped>\n",
       "    .dataframe tbody tr th:only-of-type {\n",
       "        vertical-align: middle;\n",
       "    }\n",
       "\n",
       "    .dataframe tbody tr th {\n",
       "        vertical-align: top;\n",
       "    }\n",
       "\n",
       "    .dataframe thead th {\n",
       "        text-align: right;\n",
       "    }\n",
       "</style>\n",
       "<table border=\"1\" class=\"dataframe\">\n",
       "  <thead>\n",
       "    <tr style=\"text-align: right;\">\n",
       "      <th></th>\n",
       "      <th>2015_RATE</th>\n",
       "      <th>2016</th>\n",
       "      <th>2017</th>\n",
       "      <th>MUNCOD</th>\n",
       "    </tr>\n",
       "  </thead>\n",
       "  <tbody>\n",
       "    <tr>\n",
       "      <th>0</th>\n",
       "      <td>207.209321</td>\n",
       "      <td>33</td>\n",
       "      <td>33</td>\n",
       "      <td>110001</td>\n",
       "    </tr>\n",
       "    <tr>\n",
       "      <th>1</th>\n",
       "      <td>64.562410</td>\n",
       "      <td>6</td>\n",
       "      <td>14</td>\n",
       "      <td>110037</td>\n",
       "    </tr>\n",
       "    <tr>\n",
       "      <th>2</th>\n",
       "      <td>103.908956</td>\n",
       "      <td>12</td>\n",
       "      <td>15</td>\n",
       "      <td>110040</td>\n",
       "    </tr>\n",
       "    <tr>\n",
       "      <th>3</th>\n",
       "      <td>246.146633</td>\n",
       "      <td>23</td>\n",
       "      <td>20</td>\n",
       "      <td>110034</td>\n",
       "    </tr>\n",
       "    <tr>\n",
       "      <th>4</th>\n",
       "      <td>81.416845</td>\n",
       "      <td>114</td>\n",
       "      <td>151</td>\n",
       "      <td>110002</td>\n",
       "    </tr>\n",
       "    <tr>\n",
       "      <th>...</th>\n",
       "      <td>...</td>\n",
       "      <td>...</td>\n",
       "      <td>...</td>\n",
       "      <td>...</td>\n",
       "    </tr>\n",
       "    <tr>\n",
       "      <th>5511</th>\n",
       "      <td>200.653983</td>\n",
       "      <td>15</td>\n",
       "      <td>33</td>\n",
       "      <td>522200</td>\n",
       "    </tr>\n",
       "    <tr>\n",
       "      <th>5512</th>\n",
       "      <td>36.715212</td>\n",
       "      <td>1</td>\n",
       "      <td>6</td>\n",
       "      <td>522205</td>\n",
       "    </tr>\n",
       "    <tr>\n",
       "      <th>5513</th>\n",
       "      <td>36.396724</td>\n",
       "      <td>2</td>\n",
       "      <td>2</td>\n",
       "      <td>522220</td>\n",
       "    </tr>\n",
       "    <tr>\n",
       "      <th>5514</th>\n",
       "      <td>17.927573</td>\n",
       "      <td>2</td>\n",
       "      <td>4</td>\n",
       "      <td>522230</td>\n",
       "    </tr>\n",
       "    <tr>\n",
       "      <th>5515</th>\n",
       "      <td>49.539767</td>\n",
       "      <td>1530</td>\n",
       "      <td>1461</td>\n",
       "      <td>530010</td>\n",
       "    </tr>\n",
       "  </tbody>\n",
       "</table>\n",
       "<p>5516 rows × 4 columns</p>\n",
       "</div>"
      ],
      "text/plain": [
       "       2015_RATE  2016  2017  MUNCOD\n",
       "0     207.209321    33    33  110001\n",
       "1      64.562410     6    14  110037\n",
       "2     103.908956    12    15  110040\n",
       "3     246.146633    23    20  110034\n",
       "4      81.416845   114   151  110002\n",
       "...          ...   ...   ...     ...\n",
       "5511  200.653983    15    33  522200\n",
       "5512   36.715212     1     6  522205\n",
       "5513   36.396724     2     2  522220\n",
       "5514   17.927573     2     4  522230\n",
       "5515   49.539767  1530  1461  530010\n",
       "\n",
       "[5516 rows x 4 columns]"
      ]
     },
     "execution_count": 96,
     "metadata": {},
     "output_type": "execute_result"
    }
   ],
   "source": [
    "result = pd.merge(table, pop15, left_on=\"MUNCOD\", right_on=\"MUNCOD\", how=\"inner\")\n",
    "result['2015_RATE'] = result['2015']/result['POPULATION'] * 100000\n",
    "result = result[[\"2015_RATE\", \"2016\", \"2017\", \"MUNCOD\"]]\n",
    "result"
   ]
  },
  {
   "cell_type": "markdown",
   "metadata": {},
   "source": [
    "Merge with 2016"
   ]
  },
  {
   "cell_type": "code",
   "execution_count": 97,
   "metadata": {
    "pycharm": {
     "name": "#%%\n"
    }
   },
   "outputs": [
    {
     "data": {
      "text/html": [
       "<div>\n",
       "<style scoped>\n",
       "    .dataframe tbody tr th:only-of-type {\n",
       "        vertical-align: middle;\n",
       "    }\n",
       "\n",
       "    .dataframe tbody tr th {\n",
       "        vertical-align: top;\n",
       "    }\n",
       "\n",
       "    .dataframe thead th {\n",
       "        text-align: right;\n",
       "    }\n",
       "</style>\n",
       "<table border=\"1\" class=\"dataframe\">\n",
       "  <thead>\n",
       "    <tr style=\"text-align: right;\">\n",
       "      <th></th>\n",
       "      <th>2015_RATE</th>\n",
       "      <th>2016_RATE</th>\n",
       "      <th>2017</th>\n",
       "      <th>MUNCOD</th>\n",
       "    </tr>\n",
       "  </thead>\n",
       "  <tbody>\n",
       "    <tr>\n",
       "      <th>0</th>\n",
       "      <td>207.209321</td>\n",
       "      <td>129.381322</td>\n",
       "      <td>33</td>\n",
       "      <td>110001</td>\n",
       "    </tr>\n",
       "    <tr>\n",
       "      <th>1</th>\n",
       "      <td>64.562410</td>\n",
       "      <td>42.878582</td>\n",
       "      <td>14</td>\n",
       "      <td>110037</td>\n",
       "    </tr>\n",
       "    <tr>\n",
       "      <th>2</th>\n",
       "      <td>103.908956</td>\n",
       "      <td>58.340221</td>\n",
       "      <td>15</td>\n",
       "      <td>110040</td>\n",
       "    </tr>\n",
       "    <tr>\n",
       "      <th>3</th>\n",
       "      <td>246.146633</td>\n",
       "      <td>136.078571</td>\n",
       "      <td>20</td>\n",
       "      <td>110034</td>\n",
       "    </tr>\n",
       "    <tr>\n",
       "      <th>4</th>\n",
       "      <td>81.416845</td>\n",
       "      <td>107.652791</td>\n",
       "      <td>151</td>\n",
       "      <td>110002</td>\n",
       "    </tr>\n",
       "    <tr>\n",
       "      <th>...</th>\n",
       "      <td>...</td>\n",
       "      <td>...</td>\n",
       "      <td>...</td>\n",
       "      <td>...</td>\n",
       "    </tr>\n",
       "    <tr>\n",
       "      <th>5511</th>\n",
       "      <td>200.653983</td>\n",
       "      <td>110.562394</td>\n",
       "      <td>33</td>\n",
       "      <td>522200</td>\n",
       "    </tr>\n",
       "    <tr>\n",
       "      <th>5512</th>\n",
       "      <td>36.715212</td>\n",
       "      <td>12.068549</td>\n",
       "      <td>6</td>\n",
       "      <td>522205</td>\n",
       "    </tr>\n",
       "    <tr>\n",
       "      <th>5513</th>\n",
       "      <td>36.396724</td>\n",
       "      <td>35.618878</td>\n",
       "      <td>2</td>\n",
       "      <td>522220</td>\n",
       "    </tr>\n",
       "    <tr>\n",
       "      <th>5514</th>\n",
       "      <td>17.927573</td>\n",
       "      <td>35.492458</td>\n",
       "      <td>4</td>\n",
       "      <td>522230</td>\n",
       "    </tr>\n",
       "    <tr>\n",
       "      <th>5515</th>\n",
       "      <td>49.539767</td>\n",
       "      <td>51.390292</td>\n",
       "      <td>1461</td>\n",
       "      <td>530010</td>\n",
       "    </tr>\n",
       "  </tbody>\n",
       "</table>\n",
       "<p>5516 rows × 4 columns</p>\n",
       "</div>"
      ],
      "text/plain": [
       "       2015_RATE   2016_RATE  2017  MUNCOD\n",
       "0     207.209321  129.381322    33  110001\n",
       "1      64.562410   42.878582    14  110037\n",
       "2     103.908956   58.340221    15  110040\n",
       "3     246.146633  136.078571    20  110034\n",
       "4      81.416845  107.652791   151  110002\n",
       "...          ...         ...   ...     ...\n",
       "5511  200.653983  110.562394    33  522200\n",
       "5512   36.715212   12.068549     6  522205\n",
       "5513   36.396724   35.618878     2  522220\n",
       "5514   17.927573   35.492458     4  522230\n",
       "5515   49.539767   51.390292  1461  530010\n",
       "\n",
       "[5516 rows x 4 columns]"
      ]
     },
     "execution_count": 97,
     "metadata": {},
     "output_type": "execute_result"
    }
   ],
   "source": [
    "result = pd.merge(result, pop16, left_on=\"MUNCOD\", right_on=\"MUNCOD\", how=\"inner\")\n",
    "result['2016_RATE'] = result['2016']/result['POPULATION'] * 100000\n",
    "result = result[[\"2015_RATE\", \"2016_RATE\", \"2017\", \"MUNCOD\"]]\n",
    "result"
   ]
  },
  {
   "cell_type": "markdown",
   "metadata": {},
   "source": [
    "Merge with 2017"
   ]
  },
  {
   "cell_type": "code",
   "execution_count": 98,
   "metadata": {
    "pycharm": {
     "name": "#%%\n"
    }
   },
   "outputs": [
    {
     "data": {
      "text/html": [
       "<div>\n",
       "<style scoped>\n",
       "    .dataframe tbody tr th:only-of-type {\n",
       "        vertical-align: middle;\n",
       "    }\n",
       "\n",
       "    .dataframe tbody tr th {\n",
       "        vertical-align: top;\n",
       "    }\n",
       "\n",
       "    .dataframe thead th {\n",
       "        text-align: right;\n",
       "    }\n",
       "</style>\n",
       "<table border=\"1\" class=\"dataframe\">\n",
       "  <thead>\n",
       "    <tr style=\"text-align: right;\">\n",
       "      <th></th>\n",
       "      <th>2015_RATE</th>\n",
       "      <th>2016_RATE</th>\n",
       "      <th>2017_RATE</th>\n",
       "      <th>MUNCOD</th>\n",
       "    </tr>\n",
       "  </thead>\n",
       "  <tbody>\n",
       "    <tr>\n",
       "      <th>0</th>\n",
       "      <td>207.209321</td>\n",
       "      <td>129.381322</td>\n",
       "      <td>129.732280</td>\n",
       "      <td>110001</td>\n",
       "    </tr>\n",
       "    <tr>\n",
       "      <th>1</th>\n",
       "      <td>64.562410</td>\n",
       "      <td>42.878582</td>\n",
       "      <td>99.679601</td>\n",
       "      <td>110037</td>\n",
       "    </tr>\n",
       "    <tr>\n",
       "      <th>2</th>\n",
       "      <td>103.908956</td>\n",
       "      <td>58.340221</td>\n",
       "      <td>71.715433</td>\n",
       "      <td>110040</td>\n",
       "    </tr>\n",
       "    <tr>\n",
       "      <th>3</th>\n",
       "      <td>246.146633</td>\n",
       "      <td>136.078571</td>\n",
       "      <td>119.424375</td>\n",
       "      <td>110034</td>\n",
       "    </tr>\n",
       "    <tr>\n",
       "      <th>4</th>\n",
       "      <td>81.416845</td>\n",
       "      <td>107.652791</td>\n",
       "      <td>140.667940</td>\n",
       "      <td>110002</td>\n",
       "    </tr>\n",
       "    <tr>\n",
       "      <th>...</th>\n",
       "      <td>...</td>\n",
       "      <td>...</td>\n",
       "      <td>...</td>\n",
       "      <td>...</td>\n",
       "    </tr>\n",
       "    <tr>\n",
       "      <th>5511</th>\n",
       "      <td>200.653983</td>\n",
       "      <td>110.562394</td>\n",
       "      <td>241.316271</td>\n",
       "      <td>522200</td>\n",
       "    </tr>\n",
       "    <tr>\n",
       "      <th>5512</th>\n",
       "      <td>36.715212</td>\n",
       "      <td>12.068549</td>\n",
       "      <td>71.454091</td>\n",
       "      <td>522205</td>\n",
       "    </tr>\n",
       "    <tr>\n",
       "      <th>5513</th>\n",
       "      <td>36.396724</td>\n",
       "      <td>35.618878</td>\n",
       "      <td>34.897924</td>\n",
       "      <td>522220</td>\n",
       "    </tr>\n",
       "    <tr>\n",
       "      <th>5514</th>\n",
       "      <td>17.927573</td>\n",
       "      <td>35.492458</td>\n",
       "      <td>70.298770</td>\n",
       "      <td>522230</td>\n",
       "    </tr>\n",
       "    <tr>\n",
       "      <th>5515</th>\n",
       "      <td>49.539767</td>\n",
       "      <td>51.390292</td>\n",
       "      <td>48.068002</td>\n",
       "      <td>530010</td>\n",
       "    </tr>\n",
       "  </tbody>\n",
       "</table>\n",
       "<p>5516 rows × 4 columns</p>\n",
       "</div>"
      ],
      "text/plain": [
       "       2015_RATE   2016_RATE   2017_RATE  MUNCOD\n",
       "0     207.209321  129.381322  129.732280  110001\n",
       "1      64.562410   42.878582   99.679601  110037\n",
       "2     103.908956   58.340221   71.715433  110040\n",
       "3     246.146633  136.078571  119.424375  110034\n",
       "4      81.416845  107.652791  140.667940  110002\n",
       "...          ...         ...         ...     ...\n",
       "5511  200.653983  110.562394  241.316271  522200\n",
       "5512   36.715212   12.068549   71.454091  522205\n",
       "5513   36.396724   35.618878   34.897924  522220\n",
       "5514   17.927573   35.492458   70.298770  522230\n",
       "5515   49.539767   51.390292   48.068002  530010\n",
       "\n",
       "[5516 rows x 4 columns]"
      ]
     },
     "execution_count": 98,
     "metadata": {},
     "output_type": "execute_result"
    }
   ],
   "source": [
    "result = pd.merge(result, pop17, left_on=\"MUNCOD\", right_on=\"MUNCOD\", how=\"inner\")\n",
    "result['2017_RATE'] = result['2017']/result['POPULATION'] * 100000\n",
    "result = result[[\"2015_RATE\", \"2016_RATE\", \"2017_RATE\", \"MUNCOD\"]]\n",
    "result"
   ]
  },
  {
   "cell_type": "markdown",
   "metadata": {
    "pycharm": {
     "name": "#%% md\n"
    }
   },
   "source": [
    "Average rates"
   ]
  },
  {
   "cell_type": "code",
   "execution_count": 99,
   "metadata": {
    "pycharm": {
     "name": "#%%\n"
    }
   },
   "outputs": [],
   "source": [
    "result[\"RATE\"] = result[['2015_RATE', '2016_RATE', '2017_RATE']].mean(axis=1)\n",
    "result = result[[\"RATE\", \"MUNCOD\"]]\n",
    "result.to_csv('Rates/' + doenca + \"_RATE_15_17.csv\")"
   ]
  }
 ],
 "metadata": {
  "kernelspec": {
   "display_name": "Python 3",
   "language": "python",
   "name": "python3"
  },
  "language_info": {
   "codemirror_mode": {
    "name": "ipython",
    "version": 3
   },
   "file_extension": ".py",
   "mimetype": "text/x-python",
   "name": "python",
   "nbconvert_exporter": "python",
   "pygments_lexer": "ipython3",
   "version": "3.7.6"
  }
 },
 "nbformat": 4,
 "nbformat_minor": 1
}
