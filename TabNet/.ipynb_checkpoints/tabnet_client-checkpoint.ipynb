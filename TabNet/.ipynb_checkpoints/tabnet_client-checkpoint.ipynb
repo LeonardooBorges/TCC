{
 "cells": [
  {
   "cell_type": "markdown",
   "metadata": {},
   "source": [
    "## Imports"
   ]
  },
  {
   "cell_type": "code",
   "execution_count": 1,
   "metadata": {},
   "outputs": [],
   "source": [
    "import requests\n",
    "import html"
   ]
  },
  {
   "cell_type": "markdown",
   "metadata": {},
   "source": [
    "## Funções comuns do client"
   ]
  },
  {
   "cell_type": "code",
   "execution_count": 2,
   "metadata": {},
   "outputs": [],
   "source": [
    "def request_tabnet(url, headers, payload):\n",
    "    response = requests.post(url, headers=headers, data = payload)\n",
    "    return html.unescape(response.text)\n",
    "\n",
    "def extract_csv(html_response):\n",
    "    return html_response.split('<PRE>\\r\\n')[1].split('&\\r\\n</PRE>')[0]\n",
    "\n",
    "def generate_csv(root, file_name, content):\n",
    "    with open(root + file_name + \".csv\", \"w\") as text_file:\n",
    "        text_file.write(content)\n"
   ]
  },
  {
   "cell_type": "markdown",
   "metadata": {},
   "source": [
    "## Doenças"
   ]
  },
  {
   "cell_type": "code",
   "execution_count": null,
   "metadata": {},
   "outputs": [
    {
     "name": "stdout",
     "output_type": "stream",
     "text": [
      "Starting for OUTRAS_DOENÇAS_DO_APARELHO_DIGESTIVO\n",
      "Finished for OUTRAS_DOENÇAS_DO_APARELHO_DIGESTIVO\n",
      "Starting for INFECÇÕES_DA_PELE_E_DO_TECIDO_SUBCUTÂNEO\n",
      "Finished for INFECÇÕES_DA_PELE_E_DO_TECIDO_SUBCUTÂNEO\n",
      "Starting for OUTRAS_DOENÇAS_DA_PELE_E_DO_TECIDO_SUBCUTÂNEO\n",
      "Finished for OUTRAS_DOENÇAS_DA_PELE_E_DO_TECIDO_SUBCUTÂNEO\n",
      "Starting for ARTRITE_REUMATÓIDE_E_OUTR_POLIARTROPATIAS_INFLAMAT\n"
     ]
    }
   ],
   "source": [
    "# Constants\n",
    "# lista_morb_CID_10 = {'ASMA': [200], \n",
    "#                      'DORSOPATIAS': [230], \n",
    "#                      'CANCER': [78, 79, 80, 81, 82, 83, 84, 85, 86, 87, 88, 89, 90, 91, 92, 93, 94, 95, 96, 97, 98, 99, 100, 101, 102, 103, 104, 105, 106, 107, 108],\n",
    "#                      'INSUFICIENCIA_CARDIACA': [170, 175],\n",
    "#                      'DPOC': [199],\n",
    "#                      'DIABETES_MELLITUS': [124],\n",
    "#                      'EPILEPSIA': [148],\n",
    "#                      'TECIDO_MOLE': [231],\n",
    "#                      'DOENCA_CARDIACA': [171, 172],\n",
    "#                      'HIV': [51],\n",
    "#                      'HIPERTENSAO': [169],\n",
    "#                      'ENXAQUECA': [149],\n",
    "#                      'ESCLEROSE_MULTIPLA': [147],\n",
    "#                      'OSTEOPOROSE': [232],\n",
    "#                      'DOENCA_DE_PARKINSON': [145],\n",
    "#                      'INSUFICIENCIA_RENAL': [238],\n",
    "#                      'TRAUMATISMO_INTRACRANIANO': [302, 295]\n",
    "#                     }\n",
    "\n",
    "lista_morb_CID_10 = {\n",
    "\"OUTRAS_DOENÇAS_DO_APARELHO_DIGESTIVO\":[221],\n",
    "\"INFECÇÕES_DA_PELE_E_DO_TECIDO_SUBCUTÂNEO\":[222],\n",
    "\"OUTRAS_DOENÇAS_DA_PELE_E_DO_TECIDO_SUBCUTÂNEO\":[223],\n",
    "\"ARTRITE_REUMATÓIDE_E_OUTR_POLIARTROPATIAS_INFLAMAT\":[224],\n",
    "\"ARTROSE\":[225],\n",
    "\"DEFORMIDADES_ADQUIRIDAS_DAS_ARTICULAÇÕES\":[226],\n",
    "\"OUTROS_TRANSTRONOS_ARTICULARES\":[227],\n",
    "\"DOENÇAS_SISTÊMICAS_DO_TECIDO_CONJUNTIVO\":[228],\n",
    "\"TRANST_DISCAIS_CERVIC_E_OUTR_TRANST_DISC_INTERVERT\":[229],\n",
    "\"OUTRAS_DORSOPATIAS\":[230]\n",
    "}\n",
    "\n",
    "lista_doencas = list(lista_morb_CID_10.keys())\n",
    "\n",
    "lista_capitulo_CID_10 = {\"TRANSTORNOS_MENTAIS_E_COMPORTAMENTAIS\": 5}\n",
    "lista_capitulos = list(lista_capitulo_CID_10.keys())\n",
    "\n",
    "# Request\n",
    "url = \"http://tabnet.datasus.gov.br/cgi/tabcgi.exe?sih/cnv/nrbr.def\"\n",
    "headers = {\n",
    "    'Content-Type': 'text/plain',\n",
    "    'user-agent':'pypa'\n",
    "}\n",
    "payload = 'Linha=Munic%EDpio&Coluna=Ano%2Fm%EAs_atendimento&Incremento=Interna%E7%F5es&Arquivos=nrbr2006.dbf&Arquivos=nrbr2005.dbf&Arquivos=nrbr2004.dbf&Arquivos=nrbr2003.dbf&Arquivos=nrbr2002.dbf&Arquivos=nrbr2001.dbf&Arquivos=nrbr1912.dbf&Arquivos=nrbr1911.dbf&Arquivos=nrbr1910.dbf&Arquivos=nrbr1909.dbf&Arquivos=nrbr1908.dbf&Arquivos=nrbr1907.dbf&Arquivos=nrbr1906.dbf&Arquivos=nrbr1905.dbf&Arquivos=nrbr1904.dbf&Arquivos=nrbr1903.dbf&Arquivos=nrbr1902.dbf&Arquivos=nrbr1901.dbf&Arquivos=nrbr1812.dbf&Arquivos=nrbr1811.dbf&Arquivos=nrbr1810.dbf&Arquivos=nrbr1809.dbf&Arquivos=nrbr1808.dbf&Arquivos=nrbr1807.dbf&Arquivos=nrbr1806.dbf&Arquivos=nrbr1805.dbf&Arquivos=nrbr1804.dbf&Arquivos=nrbr1803.dbf&Arquivos=nrbr1802.dbf&Arquivos=nrbr1801.dbf&Arquivos=nrbr1712.dbf&Arquivos=nrbr1711.dbf&Arquivos=nrbr1710.dbf&Arquivos=nrbr1709.dbf&Arquivos=nrbr1708.dbf&Arquivos=nrbr1707.dbf&Arquivos=nrbr1706.dbf&Arquivos=nrbr1705.dbf&Arquivos=nrbr1704.dbf&Arquivos=nrbr1703.dbf&Arquivos=nrbr1702.dbf&Arquivos=nrbr1701.dbf&Arquivos=nrbr1612.dbf&Arquivos=nrbr1611.dbf&Arquivos=nrbr1610.dbf&Arquivos=nrbr1609.dbf&Arquivos=nrbr1608.dbf&Arquivos=nrbr1607.dbf&Arquivos=nrbr1606.dbf&Arquivos=nrbr1605.dbf&Arquivos=nrbr1604.dbf&Arquivos=nrbr1603.dbf&Arquivos=nrbr1602.dbf&Arquivos=nrbr1601.dbf&Arquivos=nrbr1512.dbf&Arquivos=nrbr1511.dbf&Arquivos=nrbr1510.dbf&Arquivos=nrbr1509.dbf&Arquivos=nrbr1508.dbf&Arquivos=nrbr1507.dbf&Arquivos=nrbr1506.dbf&Arquivos=nrbr1505.dbf&Arquivos=nrbr1504.dbf&Arquivos=nrbr1503.dbf&Arquivos=nrbr1502.dbf&Arquivos=nrbr1501.dbf&Arquivos=nrbr1412.dbf&Arquivos=nrbr1411.dbf&Arquivos=nrbr1410.dbf&Arquivos=nrbr1409.dbf&Arquivos=nrbr1408.dbf&Arquivos=nrbr1407.dbf&Arquivos=nrbr1406.dbf&Arquivos=nrbr1405.dbf&Arquivos=nrbr1404.dbf&Arquivos=nrbr1403.dbf&Arquivos=nrbr1402.dbf&Arquivos=nrbr1401.dbf&Arquivos=nrbr1312.dbf&Arquivos=nrbr1311.dbf&Arquivos=nrbr1310.dbf&Arquivos=nrbr1309.dbf&Arquivos=nrbr1308.dbf&Arquivos=nrbr1307.dbf&Arquivos=nrbr1306.dbf&Arquivos=nrbr1305.dbf&Arquivos=nrbr1304.dbf&Arquivos=nrbr1303.dbf&Arquivos=nrbr1302.dbf&Arquivos=nrbr1301.dbf&Arquivos=nrbr1212.dbf&Arquivos=nrbr1211.dbf&Arquivos=nrbr1210.dbf&Arquivos=nrbr1209.dbf&Arquivos=nrbr1208.dbf&Arquivos=nrbr1207.dbf&Arquivos=nrbr1206.dbf&Arquivos=nrbr1205.dbf&Arquivos=nrbr1204.dbf&Arquivos=nrbr1203.dbf&Arquivos=nrbr1202.dbf&Arquivos=nrbr1201.dbf&Arquivos=nrbr1112.dbf&Arquivos=nrbr1111.dbf&Arquivos=nrbr1110.dbf&Arquivos=nrbr1109.dbf&Arquivos=nrbr1108.dbf&Arquivos=nrbr1107.dbf&Arquivos=nrbr1106.dbf&Arquivos=nrbr1105.dbf&Arquivos=nrbr1104.dbf&Arquivos=nrbr1103.dbf&Arquivos=nrbr1102.dbf&Arquivos=nrbr1101.dbf&Arquivos=nrbr1012.dbf&Arquivos=nrbr1011.dbf&Arquivos=nrbr1010.dbf&Arquivos=nrbr1009.dbf&Arquivos=nrbr1008.dbf&Arquivos=nrbr1007.dbf&Arquivos=nrbr1006.dbf&Arquivos=nrbr1005.dbf&Arquivos=nrbr1004.dbf&Arquivos=nrbr1003.dbf&Arquivos=nrbr1002.dbf&Arquivos=nrbr1001.dbf&Arquivos=nrbr0912.dbf&Arquivos=nrbr0911.dbf&Arquivos=nrbr0910.dbf&Arquivos=nrbr0909.dbf&Arquivos=nrbr0908.dbf&Arquivos=nrbr0907.dbf&Arquivos=nrbr0906.dbf&Arquivos=nrbr0905.dbf&Arquivos=nrbr0904.dbf&Arquivos=nrbr0903.dbf&Arquivos=nrbr0902.dbf&Arquivos=nrbr0901.dbf&Arquivos=nrbr0812.dbf&Arquivos=nrbr0811.dbf&Arquivos=nrbr0810.dbf&Arquivos=nrbr0809.dbf&Arquivos=nrbr0808.dbf&Arquivos=nrbr0807.dbf&Arquivos=nrbr0806.dbf&Arquivos=nrbr0805.dbf&Arquivos=nrbr0804.dbf&Arquivos=nrbr0803.dbf&Arquivos=nrbr0802.dbf&Arquivos=nrbr0801.dbf&pesqmes1=Digite+o+texto+e+ache+f%E1cil&SMunic%EDpio=TODAS_AS_CATEGORIAS__&pesqmes2=Digite+o+texto+e+ache+f%E1cil&SCapital=TODAS_AS_CATEGORIAS__&pesqmes3=Digite+o+texto+e+ache+f%E1cil&SRegi%E3o_de_Sa%FAde_%28CIR%29=TODAS_AS_CATEGORIAS__&pesqmes4=Digite+o+texto+e+ache+f%E1cil&SMacrorregi%E3o_de_Sa%FAde=TODAS_AS_CATEGORIAS__&pesqmes5=Digite+o+texto+e+ache+f%E1cil&SMicrorregi%E3o_IBGE=TODAS_AS_CATEGORIAS__&pesqmes6=Digite+o+texto+e+ache+f%E1cil&SRegi%E3o_Metropolitana_-_RIDE=TODAS_AS_CATEGORIAS__&pesqmes7=Digite+o+texto+e+ache+f%E1cil&STerrit%F3rio_da_Cidadania=TODAS_AS_CATEGORIAS__&pesqmes8=Digite+o+texto+e+ache+f%E1cil&SMesorregi%E3o_PNDR=TODAS_AS_CATEGORIAS__&SAmaz%F4nia_Legal=TODAS_AS_CATEGORIAS__&SSemi%E1rido=TODAS_AS_CATEGORIAS__&SFaixa_de_Fronteira=TODAS_AS_CATEGORIAS__&SZona_de_Fronteira=TODAS_AS_CATEGORIAS__&SMunic%EDpio_de_extrema_pobreza=TODAS_AS_CATEGORIAS__&SCar%E1ter_atendimento=TODAS_AS_CATEGORIAS__&SRegime=TODAS_AS_CATEGORIAS__&pesqmes16=Digite+o+texto+e+ache+f%E1cil&SCap%EDtulo_CID-10={0}&pesqmes17=Digite+o+texto+e+ache+f%E1cil{1}&pesqmes18=Digite+o+texto+e+ache+f%E1cil&SFaixa_Et%E1ria_1=TODAS_AS_CATEGORIAS__&pesqmes19=Digite+o+texto+e+ache+f%E1cil&SFaixa_Et%E1ria_2=TODAS_AS_CATEGORIAS__&SSexo=TODAS_AS_CATEGORIAS__&SCor%2Fra%E7a=TODAS_AS_CATEGORIAS__&formato=prn&mostre=Mostra'\n",
    "\n",
    "# Root\n",
    "root = '../CSV/TabNet/Internacoes/220-330/'\n",
    "\n",
    "def build_lista_morb_payload(disease):\n",
    "    strb = ''\n",
    "    for i in lista_morb_CID_10[disease]:\n",
    "        strb += '&SLista_Morb__CID-10=' + str(i)\n",
    "    return strb\n",
    "\n",
    "def disease_generate_csv(disease):\n",
    "    html_response = request_tabnet(url, headers, payload.format('TODAS_AS_CATEGORIAS__', build_lista_morb_payload(disease)))\n",
    "    csv_response = extract_csv(html_response)\n",
    "    generate_csv(root, disease, csv_response)\n",
    "\n",
    "def chapter_generate_csv(chapter):\n",
    "    html_response = request_tabnet(url, headers, payload.format(lista_capitulo_CID_10[chapter], '&SLista_Morb__CID-10=TODAS_AS_CATEGORIAS__'))\n",
    "    csv_response = extract_csv(html_response)\n",
    "    generate_csv(root, chapter, csv_response)\n",
    "\n",
    "for disease in lista_doencas:\n",
    "    print('Starting for ' + disease)\n",
    "    disease_generate_csv(disease)\n",
    "    print('Finished for ' + disease)\n"
   ]
  },
  {
   "cell_type": "markdown",
   "metadata": {},
   "source": [
    ",\n",
    "\"TRANSTORNOS_DO_TECIDO_MOLE\":[231],\n",
    "\"TRANSTORNOS_DA_DENSIDADE_E_DA_ESTRUTURA_ÓSSEAS\":[232],\n",
    "\"OSTEOMIELITE\":[233],\n",
    "\"OUTRAS_DOENÇAS_SIST_OSTEOMUSCULAR_E_TEC_CONJUNTIVO\":[234],\n",
    "\"SÍNDROME_NEFRÍTICAS_AGUDA_E_RAPIDAMENTE_PROGRESSIV\":[235],\n",
    "\"OUTRAS_DOENÇAS_GLOMERULARES\":[236],\n",
    "\"DOENÇAS_RENAIS_TÚBULO-INTERSTICIAIS\":[237],\n",
    "\"INSUFICIÊNCIA_RENAL\":[238],\n",
    "\"UROLITÍASE\":[239],\n",
    "\"CISTITE\":[240],\n",
    "\"OUTRAS_DOENÇAS_DO_APARELHO_URINÁRIO\":[241],\n",
    "\"HIPERPLASIA_DA_PRÓSTATA\":[242],\n",
    "\"OUTROS_TRANSTORNOS_DA_PRÓSTATA\":[243],\n",
    "\"HIDROCELE_E_ESPERMATOCELE\":[244],\n",
    "\"PREPRÚCIO_REDUNDANTE_FIMOSE_E_PARAFIMOSE\":[245],\n",
    "\"OUTRAS_DOENÇAS_DOS_ÓRGÃOS_GENITAIS_MASCULINOS\":[246],\n",
    "\"TRANSTORNOS_DA_MAMA\":[247],\n",
    "\"SALPINGITE_E_OOFORITE\":[248],\n",
    "\"DOENÇA_INFLAMATÓRIA_DO_COLO_DO_ÚTERO\":[249],\n",
    "\"OUTRAS_DOENÇAS_INFLAMAT_ÓRGÃOS_PÉLVICOS_FEMININOS\":[250],\n",
    "\"ENDOMETRIOSE\":[251],\n",
    "\"PROLAPSO_GENITAL_FEMININO\":[252],\n",
    "\"TRANST_NÃO-INFLAM_OVÁRIO_TROMP_FALÓPIO_LIGAM_LARGO\":[253],\n",
    "\"TRANSTORNOS_DA_MENSTRUAÇÃO\":[254],\n",
    "\"TRANST_MENOPÁUSICOS_E_OUTR_TRANST_PERIMENOPÁUSICOS\":[255],\n",
    "\"INFERTILIDADE_FEMININA\":[256],\n",
    "\"OUTROS_TRANSTORNOS_DO_APARELHO_GENITURINÁRIO\":[257],\n",
    "\"ABORTO_ESPONTÂNEO\":[258],\n",
    "\"ABORTO_POR_RAZÕES_MÉDICAS\":[259],\n",
    "\"OUTRAS_GRAVIDEZES_QUE_TERMINAM_EM_ABORTO\":[260],\n",
    "\"EDEMA_PROTEIN_TRANST_HIPERTENS_GRAVID_PARTO_PUERP\":[261],\n",
    "\"PLACENT_PRÉV_DESCOL_PREMAT_PLACENT_HEMORR_ANTEPART\":[262],\n",
    "\"OUTR_MOT_ASS_À_MÃE_REL_CAV_FETAL_AMN_POS_PROB_PART\":[263],\n",
    "\"TRABALHO_DE_PARTO_OBSTRUÍDO\":[264],\n",
    "\"HEMORRAGIA_PÓS-PARTO\":[265],\n",
    "\"OUTRAS_COMPLICAÇÕES_DA_GRAVIDEZ_E_DO_PARTO\":[266],\n",
    "\"PARTO_ÚNICO_ESPONTÂNEO\":[267],\n",
    "\"COMPL_PRED_REL_PUERPÉRIO_E_OUTR_AFECÇ_OBSTÉTR_NCOP\":[268],\n",
    "\"FETO_E_REC-NASC_AFET_FAT_MAT_E_COMPL_GRAV_E_PARTO\":[269],\n",
    "\"RET_CRES_FET_DESN_FET_TRAN_REL_GEST_CURT_BAIX_PESO\":[270],\n",
    "\"TRAUMA_DURANTE_O_NASCIMENTO\":[271],\n",
    "\"HIPÓXIA_INTRAUTERINA_E_ASFIXIA_AO_NASCER\":[272],\n",
    "\"OUTROS_TRANST_RESPIRATÓRIOS_ORIG_PERÍODO_PERINATAL\":[273],\n",
    "\"DOENÇAS_INFECCIOSAS_E_PARASITÁRIAS_CONGÊNITAS\":[274],\n",
    "\"OUTRAS_INFECÇÕES_ESPECÍFICAS_DO_PERÍODO_PERINATAL\":[275],\n",
    "\"DOENÇA_HEMOLÍTICA_DO_FETO_E_DO_RECÉM-NASCIDO\":[276],\n",
    "\"OUTRAS_AFECÇÕES_ORIGINADAS_NO_PERÍODO_PERINATAL\":[277],\n",
    "\"ESPINHA_BÍFIDA\":[278],\n",
    "\"OUTRAS_MALFORMAÇÕES_CONGÊNITAS_DO_SISTEMA_NERVOSO\":[279],\n",
    "\"MALFORMAÇÕES_CONGÊNITAS_DO_APARELHO_CIRCULATÓRIO\":[280],\n",
    "\"FENDA_LABIAL_E_FENDA_PALATINA\":[281],\n",
    "\"AUSÊNCIA_ATRESIA_E_ESTENOSE_DO_INTESTINO_DELGADO\":[282],\n",
    "\"OUTRAS_MALFORMAÇÕES_CONGÊNITAS_APARELHO_DIGESTIVO\":[283],\n",
    "\"TESTICULO_NÃO-DESCIDO\":[284],\n",
    "\"OUTRAS_MALFORMAÇÕES_DO_APARELHO_GENITURINÁRIO\":[285],\n",
    "\"DEFORMIDADES_CONGÊNITAS_DO_QUADRIL\":[286],\n",
    "\"DEFORMIDADES_CONGÊNITAS_DOS_PÉS\":[287],\n",
    "\"OUTR_MALFORM_E_DEFORM_CONGÊNIT_APARELHO_OSTEOMUSC\":[288],\n",
    "\"OUTRAS_MALFORMAÇÕES_CONGÊNITAS\":[289],\n",
    "\"ANOMALIAS_CROMOSSÔMICAS_NCOP\":[290],\n",
    "\"DOR_ABDOMINAL_E_PÉLVICA\":[291],\n",
    "\"FEBRE_DE_ORIGEM_DESCONHECIDA\":[292],\n",
    "\"SENILIDADE\":[293],\n",
    "\"OUTR_SIST_SINAIS_ACHAD_ANORM_EX_CLÍN_LABORAT_NCOP\":[294],\n",
    "\"FRATURA_DO_CRÂNIO_E_DOS_OSSOS_DA_FACE\":[295],\n",
    "\"FRATURA_DO_PESCOÇO_TÓRAX_OU_PELVE\":[296],\n",
    "\"FRATURA_DO_FÊMUR\":[297],\n",
    "\"FRATURA_DE_OUTROS_OSSOS_DOS_MEMBROS\":[298],\n",
    "\"FRATURAS_ENVOLVENDO_MÚLTIPLAS_REGIÕES_DO_CORPO\":[299],\n",
    "\"LUXAÇÕES_ENTORSE_DISTENSÃO_REG_ESP_E_MÚLTIP_CORPO\":[300],\n",
    "\"TRAUMATISMO_DO_OLHO_E_DA_ÓRBITA_OCULAR\":[301],\n",
    "\"TRAUMATISMO_INTRACRANIANO\":[302],\n",
    "\"TRAUMATISMO_DE_OUTROS_ÓRGÃOS_INTERNOS\":[303],\n",
    "\"LESÕES_ESMAG_AMPUT_TRAUMÁT_REG_ESP_E_MÚLTIP_CORPO\":[304],\n",
    "\"OUTR_TRAUM_REG_ESPEC_NÃO_ESPEC_E_MÚLTIPLAS_CORPO\":[305],\n",
    "\"EFEITOS_CORPO_ESTRANHO_ATRAVÉS_DE_ORIFÍCIO_NATURAL\":[306],\n",
    "\"QUEIMADURA_E_CORROSÕES\":[307],\n",
    "\"ENVENENAMENTO_POR_DROGAS_E_SUBSTÂNCIAS_BIOLÓGICAS\":[308],\n",
    "\"EFEITOS_TÓXICOS_SUBST_ORIGEM_PRINC_NÃO-MEDICINAL\":[309],\n",
    "\"SÍNDROMES_DE_MAUS_TRATOS\":[310],\n",
    "\"OUTROS_EFEITOS_E_NÃO_ESPEC_DE_CAUSAS_EXTERNAS\":[311],\n",
    "\"CERT_COMPL_PREC_TRAUM_COMPL_CIRÚRG_ASS_MÉDIC_NCOP\":[312],\n",
    "\"SEQÜEL_TRAUM_ENVEN_E_OUTR_CONSEQ_CAUSAS_EXTERNAS\":[313],\n",
    "\"PESSOAS_EM_CONTATO_COM_SERV_SAÚDE_EXAME_E_INVESTIG\":[314],\n",
    "\"ESTADO_INFEC_ASSINT_VÍRUS_DA_IMUNODEF_HUMANA_[HIV]\":[315],\n",
    "\"OUTR_PESS_RISCOS_POT_À_SAÚDE_REL_DOENÇAS_TRANSMISS\":[316],\n",
    "\"ANTICONCEPÇÃO\":[317],\n",
    "\"RASTREAMENTO_PRÉ-NATAL_E_OUTR_SUPERV_DA_GRAVIDEZ\":[318],\n",
    "\"NASCIDOS_VIVOS_SEGUNDO_O_LOCAL_DE_NASCIMENTO\":[319],\n",
    "\"ASSISTÊNCIA_E_EXAME_PÓS-NATAL\":[320],\n",
    "\"PESSOAS_CONTATO_SERV_SAÚDE_CUIDADOS_PROC_ESPECÍF\":[321],\n",
    "\"PESSOAS_CONTATO_SERV_SAÚDE_POR_OUTRAS_RAZÕES\":[322],\n",
    "\"ACIDENTES_DE_TRANSPORTE\":[323],\n",
    "\"QUEDAS\":[324],\n",
    "\"AFOGAMENTO_E_SUBMERSÃO_ACIDENTAMENTE\":[325],\n",
    "\"EXPOSIÇÃO_AO_FUMO_AO_FOGO_E_ÀS_CHAMAS\":[326],\n",
    "\"ENVENENAMENTO_INTOX_EXPOSIÇÃO_SUBSTÂNCIAS_NOCIVAS\":[327],\n",
    "\"LESÕES_AUTOPROVOCADAS_VOLUNTARIAMENTE\":[328],\n",
    "\"AGRESSÕES\":[329],\n",
    "\"TODAS_AS_OUTRAS_CAUSAS_EXTERNAS\":[330]"
   ]
  },
  {
   "cell_type": "markdown",
   "metadata": {},
   "source": [
    "## Suicidios"
   ]
  },
  {
   "cell_type": "code",
   "execution_count": null,
   "metadata": {},
   "outputs": [],
   "source": [
    "# Constants\n",
    "lista_de_anos = ['2008', '2009', '2010', '2011', '2012', '2013', '2014', '2015', '2016', '2017', '2018']\n",
    "\n",
    "# Request\n",
    "url = 'http://tabnet.datasus.gov.br/cgi/tabcgi.exe?sim/cnv/obt10br.def'\n",
    "headers = {\n",
    "    'Content-Type': 'text/plain',\n",
    "    'user-agent':'pypa'\n",
    "}\n",
    "payload = 'Linha=Munic%EDpio&Coluna=M%EAs_do_%D3bito&Incremento=%D3bitos_p%2FResid%EAnc&Arquivos=obtbr{0}.dbf&pesqmes1=Digite+o+texto+e+ache+f%E1cil&SMunic%EDpio=TODAS_AS_CATEGORIAS__&pesqmes2=Digite+o+texto+e+ache+f%E1cil&SCapital=TODAS_AS_CATEGORIAS__&pesqmes3=Digite+o+texto+e+ache+f%E1cil&SRegi%E3o_de_Sa%FAde_%28CIR%29=TODAS_AS_CATEGORIAS__&pesqmes4=Digite+o+texto+e+ache+f%E1cil&SMacrorregi%E3o_de_Sa%FAde=TODAS_AS_CATEGORIAS__&pesqmes5=Digite+o+texto+e+ache+f%E1cil&SMicrorregi%E3o_IBGE=TODAS_AS_CATEGORIAS__&pesqmes6=Digite+o+texto+e+ache+f%E1cil&SRegi%E3o_Metropolitana_-_RIDE=TODAS_AS_CATEGORIAS__&pesqmes7=Digite+o+texto+e+ache+f%E1cil&STerrit%F3rio_da_Cidadania=TODAS_AS_CATEGORIAS__&pesqmes8=Digite+o+texto+e+ache+f%E1cil&SMesorregi%E3o_PNDR=TODAS_AS_CATEGORIAS__&SAmaz%F4nia_Legal=TODAS_AS_CATEGORIAS__&SSemi%E1rido=TODAS_AS_CATEGORIAS__&SFaixa_de_Fronteira=TODAS_AS_CATEGORIAS__&SZona_de_Fronteira=TODAS_AS_CATEGORIAS__&SMunic%EDpio_de_extrema_pobreza=TODAS_AS_CATEGORIAS__&pesqmes14=Digite+o+texto+e+ache+f%E1cil&SCap%EDtulo_CID-10=TODAS_AS_CATEGORIAS__&pesqmes15=&SGrupo_CID-10=245&pesqmes16=Digite+o+texto+e+ache+f%E1cil&SCategoria_CID-10=TODAS_AS_CATEGORIAS__&pesqmes17=Digite+o+texto+e+ache+f%E1cil&SCausa_-_CID-BR-10=TODAS_AS_CATEGORIAS__&SCausa_mal_definidas=TODAS_AS_CATEGORIAS__&pesqmes19=Digite+o+texto+e+ache+f%E1cil&SFaixa_Et%E1ria=TODAS_AS_CATEGORIAS__&pesqmes20=Digite+o+texto+e+ache+f%E1cil&SFaixa_Et%E1ria_OPS=TODAS_AS_CATEGORIAS__&pesqmes21=Digite+o+texto+e+ache+f%E1cil&SFaixa_Et%E1ria_det=TODAS_AS_CATEGORIAS__&SFx.Et%E1ria_Menor_1A=TODAS_AS_CATEGORIAS__&SSexo=TODAS_AS_CATEGORIAS__&SCor%2Fra%E7a=TODAS_AS_CATEGORIAS__&SEscolaridade=TODAS_AS_CATEGORIAS__&SEstado_civil=TODAS_AS_CATEGORIAS__&SLocal_ocorr%EAncia=TODAS_AS_CATEGORIAS__&formato=prn&mostre=Mostra'\n",
    "\n",
    "# Root\n",
    "root = '../CSV/TabNet/Suicides/'\n",
    "\n",
    "def suicide_generate_csv(year):\n",
    "    html_response = request_tabnet(url, headers, payload.format(year[-2:]))\n",
    "    csv_response = extract_csv(html_response)\n",
    "    generate_csv(root, 'suicide_' + year, csv_response)\n",
    "\n",
    "for year in lista_de_anos:\n",
    "    print('Starting for ' + year)\n",
    "    suicide_generate_csv(year)\n",
    "    print('Finished for ' + year)"
   ]
  },
  {
   "cell_type": "markdown",
   "metadata": {},
   "source": [
    "## Individual para cada doença"
   ]
  },
  {
   "cell_type": "code",
   "execution_count": null,
   "metadata": {},
   "outputs": [],
   "source": [
    "# ASMA\n",
    "disease_generate_csv(lista_doencas[0])"
   ]
  },
  {
   "cell_type": "code",
   "execution_count": null,
   "metadata": {
    "scrolled": false
   },
   "outputs": [],
   "source": [
    "# DORSOPATIAS\n",
    "disease_generate_csv(lista_doencas[1])"
   ]
  },
  {
   "cell_type": "code",
   "execution_count": null,
   "metadata": {},
   "outputs": [],
   "source": [
    "# CANCER\n",
    "disease_generate_csv(lista_doencas[2])"
   ]
  },
  {
   "cell_type": "code",
   "execution_count": null,
   "metadata": {},
   "outputs": [],
   "source": [
    "# INSUFICIENCIA_CARDIACA\n",
    "disease_generate_csv(lista_doencas[3])"
   ]
  },
  {
   "cell_type": "code",
   "execution_count": null,
   "metadata": {},
   "outputs": [],
   "source": [
    "# DPOC\n",
    "disease_generate_csv(lista_doencas[4])"
   ]
  },
  {
   "cell_type": "code",
   "execution_count": null,
   "metadata": {},
   "outputs": [],
   "source": [
    "# DIABETES_MELLITUS\n",
    "disease_generate_csv(lista_doencas[5])"
   ]
  },
  {
   "cell_type": "code",
   "execution_count": null,
   "metadata": {},
   "outputs": [],
   "source": [
    "# EPILEPSIA\n",
    "disease_generate_csv(lista_doencas[6])"
   ]
  },
  {
   "cell_type": "code",
   "execution_count": null,
   "metadata": {},
   "outputs": [],
   "source": [
    "# TECIDO_MOLE\n",
    "disease_generate_csv(lista_doencas[7])"
   ]
  },
  {
   "cell_type": "code",
   "execution_count": null,
   "metadata": {},
   "outputs": [],
   "source": [
    "# DOENCA_CARDIACA\n",
    "disease_generate_csv(lista_doencas[8])"
   ]
  },
  {
   "cell_type": "code",
   "execution_count": null,
   "metadata": {},
   "outputs": [],
   "source": [
    "# HIV\n",
    "disease_generate_csv(lista_doencas[9])"
   ]
  },
  {
   "cell_type": "code",
   "execution_count": null,
   "metadata": {},
   "outputs": [],
   "source": [
    "# HIPERTENSAO\n",
    "disease_generate_csv(lista_doencas[10])"
   ]
  },
  {
   "cell_type": "code",
   "execution_count": null,
   "metadata": {},
   "outputs": [],
   "source": [
    "# ENXAQUECA\n",
    "disease_generate_csv(lista_doencas[11])"
   ]
  },
  {
   "cell_type": "code",
   "execution_count": null,
   "metadata": {},
   "outputs": [],
   "source": [
    "# ESCLEROSE_MULTIPLA\n",
    "disease_generate_csv(lista_doencas[12])"
   ]
  },
  {
   "cell_type": "code",
   "execution_count": null,
   "metadata": {},
   "outputs": [],
   "source": [
    "# OSTEOPOROSE\n",
    "disease_generate_csv(lista_doencas[13])"
   ]
  },
  {
   "cell_type": "code",
   "execution_count": null,
   "metadata": {},
   "outputs": [],
   "source": [
    "# DOENCA_DE_PARKINSON\n",
    "disease_generate_csv(lista_doencas[14])"
   ]
  },
  {
   "cell_type": "code",
   "execution_count": null,
   "metadata": {},
   "outputs": [],
   "source": [
    "# INSUFICIENCIA_RENAL\n",
    "disease_generate_csv(lista_doencas[15])"
   ]
  },
  {
   "cell_type": "code",
   "execution_count": null,
   "metadata": {},
   "outputs": [],
   "source": [
    "# TRAUMATISMO_INTRACRANIANO\n",
    "disease_generate_csv(lista_doencas[16])"
   ]
  },
  {
   "cell_type": "code",
   "execution_count": null,
   "metadata": {},
   "outputs": [],
   "source": [
    "lista_doencas"
   ]
  }
 ],
 "metadata": {
  "kernelspec": {
   "display_name": "Python 3",
   "language": "python",
   "name": "python3"
  },
  "language_info": {
   "codemirror_mode": {
    "name": "ipython",
    "version": 3
   },
   "file_extension": ".py",
   "mimetype": "text/x-python",
   "name": "python",
   "nbconvert_exporter": "python",
   "pygments_lexer": "ipython3",
   "version": "3.7.6"
  }
 },
 "nbformat": 4,
 "nbformat_minor": 4
}
