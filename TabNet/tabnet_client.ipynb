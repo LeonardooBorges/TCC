{
 "cells": [
  {
   "cell_type": "markdown",
   "metadata": {},
   "source": [
    "## Imports"
   ]
  },
  {
   "cell_type": "code",
   "execution_count": null,
   "metadata": {},
   "outputs": [],
   "source": [
    "import requests\n",
    "import html"
   ]
  },
  {
   "cell_type": "markdown",
   "metadata": {},
   "source": [
    "## Constants"
   ]
  },
  {
   "cell_type": "code",
   "execution_count": null,
   "metadata": {},
   "outputs": [],
   "source": [
    "# Constants\n",
    "lista_morb_CID_10 = {'ASMA': [200], \n",
    "                     'DORSOPATIAS': [230], \n",
    "                     'CANCER': [78, 79, 80, 81, 82, 83, 84, 85, 86, 87, 88, 89, 90, 91, 92, 93, 94, 95, 96, 97, 98, 99, 100, 101, 102, 103, 104, 105, 106, 107, 108],\n",
    "                     'INSUFICIENCIA_CARDIACA': [170, 175],\n",
    "                     'DPOC': [199],\n",
    "                     'DIABETES_MELLITUS': [124],\n",
    "                     'EPILEPSIA': [148],\n",
    "                     'TECIDO_MOLE': [231],\n",
    "                     'DOENCA_CARDIACA': [171, 172],\n",
    "                     'HIV': [51],\n",
    "                     'HIPERTENSAO': [169],\n",
    "                     'ENXAQUECA': [149],\n",
    "                     'ESCLEROSE_MULTIPLA': [147],\n",
    "                     'OSTEOPOROSE': [232],\n",
    "                     'DOENCA_DE_PARKINSON': [145],\n",
    "                     'INSUFICIENCIA_RENAL': [238],\n",
    "                     'TRAUMATISMO_INTRACRANIANO': [302, 295]\n",
    "                    }\n",
    "lista_doencas = list(lista_morb_CID_10.keys())\n",
    "\n",
    "# Request\n",
    "url = \"http://tabnet.datasus.gov.br/cgi/tabcgi.exe?sih/cnv/nrbr.def\"\n",
    "headers = {\n",
    "    'Content-Type': 'text/plain',\n",
    "    'user-agent':'pypa'\n",
    "}\n",
    "payload_init = 'Linha=Munic%EDpio&Coluna=Ano%2Fm%EAs_atendimento&Incremento=Interna%E7%F5es&Arquivos=nrbr2006.dbf&Arquivos=nrbr2005.dbf&Arquivos=nrbr2004.dbf&Arquivos=nrbr2003.dbf&Arquivos=nrbr2002.dbf&Arquivos=nrbr2001.dbf&Arquivos=nrbr1912.dbf&Arquivos=nrbr1911.dbf&Arquivos=nrbr1910.dbf&Arquivos=nrbr1909.dbf&Arquivos=nrbr1908.dbf&Arquivos=nrbr1907.dbf&Arquivos=nrbr1906.dbf&Arquivos=nrbr1905.dbf&Arquivos=nrbr1904.dbf&Arquivos=nrbr1903.dbf&Arquivos=nrbr1902.dbf&Arquivos=nrbr1901.dbf&Arquivos=nrbr1812.dbf&Arquivos=nrbr1811.dbf&Arquivos=nrbr1810.dbf&Arquivos=nrbr1809.dbf&Arquivos=nrbr1808.dbf&Arquivos=nrbr1807.dbf&Arquivos=nrbr1806.dbf&Arquivos=nrbr1805.dbf&Arquivos=nrbr1804.dbf&Arquivos=nrbr1803.dbf&Arquivos=nrbr1802.dbf&Arquivos=nrbr1801.dbf&Arquivos=nrbr1712.dbf&Arquivos=nrbr1711.dbf&Arquivos=nrbr1710.dbf&Arquivos=nrbr1709.dbf&Arquivos=nrbr1708.dbf&Arquivos=nrbr1707.dbf&Arquivos=nrbr1706.dbf&Arquivos=nrbr1705.dbf&Arquivos=nrbr1704.dbf&Arquivos=nrbr1703.dbf&Arquivos=nrbr1702.dbf&Arquivos=nrbr1701.dbf&Arquivos=nrbr1612.dbf&Arquivos=nrbr1611.dbf&Arquivos=nrbr1610.dbf&Arquivos=nrbr1609.dbf&Arquivos=nrbr1608.dbf&Arquivos=nrbr1607.dbf&Arquivos=nrbr1606.dbf&Arquivos=nrbr1605.dbf&Arquivos=nrbr1604.dbf&Arquivos=nrbr1603.dbf&Arquivos=nrbr1602.dbf&Arquivos=nrbr1601.dbf&Arquivos=nrbr1512.dbf&Arquivos=nrbr1511.dbf&Arquivos=nrbr1510.dbf&Arquivos=nrbr1509.dbf&Arquivos=nrbr1508.dbf&Arquivos=nrbr1507.dbf&Arquivos=nrbr1506.dbf&Arquivos=nrbr1505.dbf&Arquivos=nrbr1504.dbf&Arquivos=nrbr1503.dbf&Arquivos=nrbr1502.dbf&Arquivos=nrbr1501.dbf&Arquivos=nrbr1412.dbf&Arquivos=nrbr1411.dbf&Arquivos=nrbr1410.dbf&Arquivos=nrbr1409.dbf&Arquivos=nrbr1408.dbf&Arquivos=nrbr1407.dbf&Arquivos=nrbr1406.dbf&Arquivos=nrbr1405.dbf&Arquivos=nrbr1404.dbf&Arquivos=nrbr1403.dbf&Arquivos=nrbr1402.dbf&Arquivos=nrbr1401.dbf&Arquivos=nrbr1312.dbf&Arquivos=nrbr1311.dbf&Arquivos=nrbr1310.dbf&Arquivos=nrbr1309.dbf&Arquivos=nrbr1308.dbf&Arquivos=nrbr1307.dbf&Arquivos=nrbr1306.dbf&Arquivos=nrbr1305.dbf&Arquivos=nrbr1304.dbf&Arquivos=nrbr1303.dbf&Arquivos=nrbr1302.dbf&Arquivos=nrbr1301.dbf&Arquivos=nrbr1212.dbf&Arquivos=nrbr1211.dbf&Arquivos=nrbr1210.dbf&Arquivos=nrbr1209.dbf&Arquivos=nrbr1208.dbf&Arquivos=nrbr1207.dbf&Arquivos=nrbr1206.dbf&Arquivos=nrbr1205.dbf&Arquivos=nrbr1204.dbf&Arquivos=nrbr1203.dbf&Arquivos=nrbr1202.dbf&Arquivos=nrbr1201.dbf&Arquivos=nrbr1112.dbf&Arquivos=nrbr1111.dbf&Arquivos=nrbr1110.dbf&Arquivos=nrbr1109.dbf&Arquivos=nrbr1108.dbf&Arquivos=nrbr1107.dbf&Arquivos=nrbr1106.dbf&Arquivos=nrbr1105.dbf&Arquivos=nrbr1104.dbf&Arquivos=nrbr1103.dbf&Arquivos=nrbr1102.dbf&Arquivos=nrbr1101.dbf&Arquivos=nrbr1012.dbf&Arquivos=nrbr1011.dbf&Arquivos=nrbr1010.dbf&Arquivos=nrbr1009.dbf&Arquivos=nrbr1008.dbf&Arquivos=nrbr1007.dbf&Arquivos=nrbr1006.dbf&Arquivos=nrbr1005.dbf&Arquivos=nrbr1004.dbf&Arquivos=nrbr1003.dbf&Arquivos=nrbr1002.dbf&Arquivos=nrbr1001.dbf&Arquivos=nrbr0912.dbf&Arquivos=nrbr0911.dbf&Arquivos=nrbr0910.dbf&Arquivos=nrbr0909.dbf&Arquivos=nrbr0908.dbf&Arquivos=nrbr0907.dbf&Arquivos=nrbr0906.dbf&Arquivos=nrbr0905.dbf&Arquivos=nrbr0904.dbf&Arquivos=nrbr0903.dbf&Arquivos=nrbr0902.dbf&Arquivos=nrbr0901.dbf&Arquivos=nrbr0812.dbf&Arquivos=nrbr0811.dbf&Arquivos=nrbr0810.dbf&Arquivos=nrbr0809.dbf&Arquivos=nrbr0808.dbf&Arquivos=nrbr0807.dbf&Arquivos=nrbr0806.dbf&Arquivos=nrbr0805.dbf&Arquivos=nrbr0804.dbf&Arquivos=nrbr0803.dbf&Arquivos=nrbr0802.dbf&Arquivos=nrbr0801.dbf&pesqmes1=Digite+o+texto+e+ache+f%E1cil&SMunic%EDpio=TODAS_AS_CATEGORIAS__&pesqmes2=Digite+o+texto+e+ache+f%E1cil&SCapital=TODAS_AS_CATEGORIAS__&pesqmes3=Digite+o+texto+e+ache+f%E1cil&SRegi%E3o_de_Sa%FAde_%28CIR%29=TODAS_AS_CATEGORIAS__&pesqmes4=Digite+o+texto+e+ache+f%E1cil&SMacrorregi%E3o_de_Sa%FAde=TODAS_AS_CATEGORIAS__&pesqmes5=Digite+o+texto+e+ache+f%E1cil&SMicrorregi%E3o_IBGE=TODAS_AS_CATEGORIAS__&pesqmes6=Digite+o+texto+e+ache+f%E1cil&SRegi%E3o_Metropolitana_-_RIDE=TODAS_AS_CATEGORIAS__&pesqmes7=Digite+o+texto+e+ache+f%E1cil&STerrit%F3rio_da_Cidadania=TODAS_AS_CATEGORIAS__&pesqmes8=Digite+o+texto+e+ache+f%E1cil&SMesorregi%E3o_PNDR=TODAS_AS_CATEGORIAS__&SAmaz%F4nia_Legal=TODAS_AS_CATEGORIAS__&SSemi%E1rido=TODAS_AS_CATEGORIAS__&SFaixa_de_Fronteira=TODAS_AS_CATEGORIAS__&SZona_de_Fronteira=TODAS_AS_CATEGORIAS__&SMunic%EDpio_de_extrema_pobreza=TODAS_AS_CATEGORIAS__&SCar%E1ter_atendimento=TODAS_AS_CATEGORIAS__&SRegime=TODAS_AS_CATEGORIAS__&pesqmes16=Digite+o+texto+e+ache+f%E1cil&SCap%EDtulo_CID-10=TODAS_AS_CATEGORIAS__&pesqmes17=Digite+o+texto+e+ache+f%E1cil'\n",
    "payload_end = '&pesqmes18=Digite+o+texto+e+ache+f%E1cil&SFaixa_Et%E1ria_1=TODAS_AS_CATEGORIAS__&pesqmes19=Digite+o+texto+e+ache+f%E1cil&SFaixa_Et%E1ria_2=TODAS_AS_CATEGORIAS__&SSexo=TODAS_AS_CATEGORIAS__&SCor%2Fra%E7a=TODAS_AS_CATEGORIAS__&formato=prn&mostre=Mostra'\n",
    "\n",
    "# Root\n",
    "root = '../CSV/TabNet/Internacoes/'\n",
    "\n"
   ]
  },
  {
   "cell_type": "markdown",
   "metadata": {},
   "source": [
    "## Functions"
   ]
  },
  {
   "cell_type": "code",
   "execution_count": null,
   "metadata": {},
   "outputs": [],
   "source": [
    "def build_lista_morb_payload(disease):\n",
    "    strb = ''\n",
    "    for i in lista_morb_CID_10[disease]:\n",
    "        strb += '&SLista_Morb__CID-10=' + str(i)\n",
    "    return strb\n",
    "\n",
    "def build_payload(disease):\n",
    "    return payload_init + build_lista_morb_payload(disease) + payload_end\n",
    "\n",
    "def request_tabnet(disease):\n",
    "    payload = build_payload(disease)\n",
    "    response = requests.post(url, headers=headers, data = payload)\n",
    "    return html.unescape(response.text)\n",
    "\n",
    "def extract_csv(html_response):\n",
    "    return html_response.split('<PRE>\\r\\n')[1].split('&\\r\\n</PRE>')[0]\n",
    "\n",
    "def generate_csv(disease):\n",
    "    html_response = request_tabnet(disease)\n",
    "    csv_response = extract_csv(html_response)\n",
    "    with open(root + disease + \".csv\", \"w\") as text_file:\n",
    "        text_file.write(csv_response)\n"
   ]
  },
  {
   "cell_type": "markdown",
   "metadata": {},
   "source": [
    "## Function calls"
   ]
  },
  {
   "cell_type": "code",
   "execution_count": null,
   "metadata": {},
   "outputs": [],
   "source": [
    "for disease in lista_doencas:\n",
    "    print('Starting for ' + disease)\n",
    "    generate_csv(disease)\n",
    "    print('Finished for ' + disease)"
   ]
  },
  {
   "cell_type": "code",
   "execution_count": null,
   "metadata": {},
   "outputs": [],
   "source": [
    "# ASMA\n",
    "generate_csv(lista_doencas[0])"
   ]
  },
  {
   "cell_type": "code",
   "execution_count": null,
   "metadata": {
    "scrolled": false
   },
   "outputs": [],
   "source": [
    "# DORSOPATIAS\n",
    "generate_csv(lista_doencas[1])"
   ]
  },
  {
   "cell_type": "code",
   "execution_count": null,
   "metadata": {},
   "outputs": [],
   "source": [
    "# CANCER\n",
    "generate_csv(lista_doencas[2])"
   ]
  },
  {
   "cell_type": "code",
   "execution_count": null,
   "metadata": {},
   "outputs": [],
   "source": [
    "# INSUFICIENCIA_CARDIACA\n",
    "generate_csv(lista_doencas[3])"
   ]
  },
  {
   "cell_type": "code",
   "execution_count": null,
   "metadata": {},
   "outputs": [],
   "source": [
    "# DPOC\n",
    "generate_csv(lista_doencas[4])"
   ]
  },
  {
   "cell_type": "code",
   "execution_count": null,
   "metadata": {},
   "outputs": [],
   "source": [
    "# DIABETES_MELLITUS\n",
    "generate_csv(lista_doencas[5])"
   ]
  },
  {
   "cell_type": "code",
   "execution_count": null,
   "metadata": {},
   "outputs": [],
   "source": [
    "# EPILEPSIA\n",
    "generate_csv(lista_doencas[6])"
   ]
  },
  {
   "cell_type": "code",
   "execution_count": null,
   "metadata": {},
   "outputs": [],
   "source": [
    "# TECIDO_MOLE\n",
    "generate_csv(lista_doencas[7])"
   ]
  },
  {
   "cell_type": "code",
   "execution_count": null,
   "metadata": {},
   "outputs": [],
   "source": [
    "# DOENCA_CARDIACA\n",
    "generate_csv(lista_doencas[8])"
   ]
  },
  {
   "cell_type": "code",
   "execution_count": null,
   "metadata": {},
   "outputs": [],
   "source": [
    "# HIV\n",
    "generate_csv(lista_doencas[9])"
   ]
  },
  {
   "cell_type": "code",
   "execution_count": null,
   "metadata": {},
   "outputs": [],
   "source": [
    "# HIPERTENSAO\n",
    "generate_csv(lista_doencas[10])"
   ]
  },
  {
   "cell_type": "code",
   "execution_count": null,
   "metadata": {},
   "outputs": [],
   "source": [
    "# ENXAQUECA\n",
    "generate_csv(lista_doencas[11])"
   ]
  },
  {
   "cell_type": "code",
   "execution_count": null,
   "metadata": {},
   "outputs": [],
   "source": [
    "# ESCLEROSE_MULTIPLA\n",
    "generate_csv(lista_doencas[12])"
   ]
  },
  {
   "cell_type": "code",
   "execution_count": null,
   "metadata": {},
   "outputs": [],
   "source": [
    "# OSTEOPOROSE\n",
    "generate_csv(lista_doencas[13])"
   ]
  },
  {
   "cell_type": "code",
   "execution_count": null,
   "metadata": {},
   "outputs": [],
   "source": [
    "# DOENCA_DE_PARKINSON\n",
    "generate_csv(lista_doencas[14])"
   ]
  },
  {
   "cell_type": "code",
   "execution_count": null,
   "metadata": {},
   "outputs": [],
   "source": [
    "# INSUFICIENCIA_RENAL\n",
    "generate_csv(lista_doencas[15])"
   ]
  },
  {
   "cell_type": "code",
   "execution_count": null,
   "metadata": {},
   "outputs": [],
   "source": [
    "# TRAUMATISMO_INTRACRANIANO\n",
    "generate_csv(lista_doencas[16])"
   ]
  },
  {
   "cell_type": "code",
   "execution_count": null,
   "metadata": {},
   "outputs": [],
   "source": [
    "lista_doencas"
   ]
  }
 ],
 "metadata": {
  "kernelspec": {
   "display_name": "Python 3",
   "language": "python",
   "name": "python3"
  },
  "language_info": {
   "codemirror_mode": {
    "name": "ipython",
    "version": 3
   },
   "file_extension": ".py",
   "mimetype": "text/x-python",
   "name": "python",
   "nbconvert_exporter": "python",
   "pygments_lexer": "ipython3",
   "version": "3.7.6"
  }
 },
 "nbformat": 4,
 "nbformat_minor": 4
}
