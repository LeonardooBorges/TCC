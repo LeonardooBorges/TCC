{
 "cells": [
  {
   "cell_type": "markdown",
   "source": [
    "# Transforma arquivos do Tabnet\n",
    "Como usar:\n",
    "\n",
    "* Acessar http://tabnet.datasus.gov.br/cgi/deftohtm.exe?sih/cnv/nrbr.def\n",
    "* Escolher\n",
    "    - Linha: Município\n",
    "    - Coluna: Ano processamento\n",
    "    - Conteúdo: Internações\n",
    "    - Período disponível: Selecionar de Jan/2015 a Dez/2017\n",
    "    - Lista Morb CID-10: Selecionar doença (ex: traumatismo intracraniano)\n",
    "* Escolher opção \"colunas separadas por \";\"\"\n",
    "* Clicar em Mostra\n",
    "* Copiar dados a partir do header até a ultima linha (desconsiderando a linha \"Total\";xxx)\n",
    "* Criar um arquivo .csv nessa pasta com o nome da doença em questão (ex: traumatismo.csv)\n",
    "* Atualizar o nome do arquivo e da doença no código abaixo\n",
    "* Rodar o código"
   ],
   "metadata": {
    "collapsed": false,
    "pycharm": {
     "name": "#%% md\n"
    }
   }
  },
  {
   "cell_type": "markdown",
   "source": [
    "Import libraries"
   ],
   "metadata": {
    "collapsed": false,
    "pycharm": {
     "name": "#%% md\n"
    }
   }
  },
  {
   "cell_type": "code",
   "execution_count": 93,
   "outputs": [],
   "source": [
    "import pandas as pd"
   ],
   "metadata": {
    "collapsed": false,
    "pycharm": {
     "name": "#%%\n"
    }
   }
  },
  {
   "cell_type": "markdown",
   "source": [
    "Creates quantity file"
   ],
   "metadata": {
    "collapsed": false,
    "pycharm": {
     "name": "#%% md\n"
    }
   }
  },
  {
   "cell_type": "code",
   "execution_count": 94,
   "outputs": [],
   "source": [
    "doenca = 'DIABETES_MELLITUS' # Atualizar aqui\n",
    "table = pd.read_csv('diabetes.csv', sep=';') # Atualizar aqui\n",
    "table['MUNCOD'] = table['Município'].str.split(' ', expand=True,)[0]\n",
    "table.drop('Município', axis=1, inplace=True)\n",
    "table.drop('Total', axis=1, inplace=True)\n",
    "table = table.replace(\"-\", 0)\n",
    "table.to_csv('Quantity/' + doenca + '_15_17.csv')"
   ],
   "metadata": {
    "collapsed": false,
    "pycharm": {
     "name": "#%%\n"
    }
   }
  },
  {
   "cell_type": "markdown",
   "source": [
    "Creates rates file"
   ],
   "metadata": {
    "collapsed": false,
    "pycharm": {
     "name": "#%% md\n"
    }
   }
  },
  {
   "cell_type": "code",
   "execution_count": 95,
   "outputs": [],
   "source": [
    "table = pd.read_csv('Quantity/' + doenca + '_15_17.csv')\n",
    "pop15=pd.read_csv('../util/Population/POPULATION_2015.csv', index_col=[0])\n",
    "pop16=pd.read_csv('../util/Population/POPULATION_2016.csv', index_col=[0])\n",
    "pop17=pd.read_csv('../util/Population/POPULATION_2017.csv', index_col=[0])"
   ],
   "metadata": {
    "collapsed": false,
    "pycharm": {
     "name": "#%%\n"
    }
   }
  },
  {
   "cell_type": "markdown",
   "source": [
    "Merge with 2015"
   ],
   "metadata": {
    "collapsed": false,
    "pycharm": {
     "name": "#%% md\n"
    }
   }
  },
  {
   "cell_type": "code",
   "execution_count": 96,
   "outputs": [
    {
     "data": {
      "text/plain": "       2015_RATE  2016  2017  MUNCOD\n0     207.209321    33    33  110001\n1      64.562410     6    14  110037\n2     103.908956    12    15  110040\n3     246.146633    23    20  110034\n4      81.416845   114   151  110002\n...          ...   ...   ...     ...\n5511  200.653983    15    33  522200\n5512   36.715212     1     6  522205\n5513   36.396724     2     2  522220\n5514   17.927573     2     4  522230\n5515   49.539767  1530  1461  530010\n\n[5516 rows x 4 columns]",
      "text/html": "<div>\n<style scoped>\n    .dataframe tbody tr th:only-of-type {\n        vertical-align: middle;\n    }\n\n    .dataframe tbody tr th {\n        vertical-align: top;\n    }\n\n    .dataframe thead th {\n        text-align: right;\n    }\n</style>\n<table border=\"1\" class=\"dataframe\">\n  <thead>\n    <tr style=\"text-align: right;\">\n      <th></th>\n      <th>2015_RATE</th>\n      <th>2016</th>\n      <th>2017</th>\n      <th>MUNCOD</th>\n    </tr>\n  </thead>\n  <tbody>\n    <tr>\n      <th>0</th>\n      <td>207.209321</td>\n      <td>33</td>\n      <td>33</td>\n      <td>110001</td>\n    </tr>\n    <tr>\n      <th>1</th>\n      <td>64.562410</td>\n      <td>6</td>\n      <td>14</td>\n      <td>110037</td>\n    </tr>\n    <tr>\n      <th>2</th>\n      <td>103.908956</td>\n      <td>12</td>\n      <td>15</td>\n      <td>110040</td>\n    </tr>\n    <tr>\n      <th>3</th>\n      <td>246.146633</td>\n      <td>23</td>\n      <td>20</td>\n      <td>110034</td>\n    </tr>\n    <tr>\n      <th>4</th>\n      <td>81.416845</td>\n      <td>114</td>\n      <td>151</td>\n      <td>110002</td>\n    </tr>\n    <tr>\n      <th>...</th>\n      <td>...</td>\n      <td>...</td>\n      <td>...</td>\n      <td>...</td>\n    </tr>\n    <tr>\n      <th>5511</th>\n      <td>200.653983</td>\n      <td>15</td>\n      <td>33</td>\n      <td>522200</td>\n    </tr>\n    <tr>\n      <th>5512</th>\n      <td>36.715212</td>\n      <td>1</td>\n      <td>6</td>\n      <td>522205</td>\n    </tr>\n    <tr>\n      <th>5513</th>\n      <td>36.396724</td>\n      <td>2</td>\n      <td>2</td>\n      <td>522220</td>\n    </tr>\n    <tr>\n      <th>5514</th>\n      <td>17.927573</td>\n      <td>2</td>\n      <td>4</td>\n      <td>522230</td>\n    </tr>\n    <tr>\n      <th>5515</th>\n      <td>49.539767</td>\n      <td>1530</td>\n      <td>1461</td>\n      <td>530010</td>\n    </tr>\n  </tbody>\n</table>\n<p>5516 rows × 4 columns</p>\n</div>"
     },
     "execution_count": 96,
     "metadata": {},
     "output_type": "execute_result"
    }
   ],
   "source": [
    "result = pd.merge(table, pop15, left_on=\"MUNCOD\", right_on=\"MUNCOD\", how=\"inner\")\n",
    "result['2015_RATE'] = result['2015']/result['POPULATION'] * 100000\n",
    "result = result[[\"2015_RATE\", \"2016\", \"2017\", \"MUNCOD\"]]\n",
    "result"
   ],
   "metadata": {
    "collapsed": false,
    "pycharm": {
     "name": "#%%\n"
    }
   }
  },
  {
   "cell_type": "markdown",
   "source": [
    "Merge with 2016"
   ],
   "metadata": {
    "collapsed": false
   }
  },
  {
   "cell_type": "code",
   "execution_count": 97,
   "outputs": [
    {
     "data": {
      "text/plain": "       2015_RATE   2016_RATE  2017  MUNCOD\n0     207.209321  129.381322    33  110001\n1      64.562410   42.878582    14  110037\n2     103.908956   58.340221    15  110040\n3     246.146633  136.078571    20  110034\n4      81.416845  107.652791   151  110002\n...          ...         ...   ...     ...\n5511  200.653983  110.562394    33  522200\n5512   36.715212   12.068549     6  522205\n5513   36.396724   35.618878     2  522220\n5514   17.927573   35.492458     4  522230\n5515   49.539767   51.390292  1461  530010\n\n[5516 rows x 4 columns]",
      "text/html": "<div>\n<style scoped>\n    .dataframe tbody tr th:only-of-type {\n        vertical-align: middle;\n    }\n\n    .dataframe tbody tr th {\n        vertical-align: top;\n    }\n\n    .dataframe thead th {\n        text-align: right;\n    }\n</style>\n<table border=\"1\" class=\"dataframe\">\n  <thead>\n    <tr style=\"text-align: right;\">\n      <th></th>\n      <th>2015_RATE</th>\n      <th>2016_RATE</th>\n      <th>2017</th>\n      <th>MUNCOD</th>\n    </tr>\n  </thead>\n  <tbody>\n    <tr>\n      <th>0</th>\n      <td>207.209321</td>\n      <td>129.381322</td>\n      <td>33</td>\n      <td>110001</td>\n    </tr>\n    <tr>\n      <th>1</th>\n      <td>64.562410</td>\n      <td>42.878582</td>\n      <td>14</td>\n      <td>110037</td>\n    </tr>\n    <tr>\n      <th>2</th>\n      <td>103.908956</td>\n      <td>58.340221</td>\n      <td>15</td>\n      <td>110040</td>\n    </tr>\n    <tr>\n      <th>3</th>\n      <td>246.146633</td>\n      <td>136.078571</td>\n      <td>20</td>\n      <td>110034</td>\n    </tr>\n    <tr>\n      <th>4</th>\n      <td>81.416845</td>\n      <td>107.652791</td>\n      <td>151</td>\n      <td>110002</td>\n    </tr>\n    <tr>\n      <th>...</th>\n      <td>...</td>\n      <td>...</td>\n      <td>...</td>\n      <td>...</td>\n    </tr>\n    <tr>\n      <th>5511</th>\n      <td>200.653983</td>\n      <td>110.562394</td>\n      <td>33</td>\n      <td>522200</td>\n    </tr>\n    <tr>\n      <th>5512</th>\n      <td>36.715212</td>\n      <td>12.068549</td>\n      <td>6</td>\n      <td>522205</td>\n    </tr>\n    <tr>\n      <th>5513</th>\n      <td>36.396724</td>\n      <td>35.618878</td>\n      <td>2</td>\n      <td>522220</td>\n    </tr>\n    <tr>\n      <th>5514</th>\n      <td>17.927573</td>\n      <td>35.492458</td>\n      <td>4</td>\n      <td>522230</td>\n    </tr>\n    <tr>\n      <th>5515</th>\n      <td>49.539767</td>\n      <td>51.390292</td>\n      <td>1461</td>\n      <td>530010</td>\n    </tr>\n  </tbody>\n</table>\n<p>5516 rows × 4 columns</p>\n</div>"
     },
     "execution_count": 97,
     "metadata": {},
     "output_type": "execute_result"
    }
   ],
   "source": [
    "result = pd.merge(result, pop16, left_on=\"MUNCOD\", right_on=\"MUNCOD\", how=\"inner\")\n",
    "result['2016_RATE'] = result['2016']/result['POPULATION'] * 100000\n",
    "result = result[[\"2015_RATE\", \"2016_RATE\", \"2017\", \"MUNCOD\"]]\n",
    "result"
   ],
   "metadata": {
    "collapsed": false,
    "pycharm": {
     "name": "#%%\n"
    }
   }
  },
  {
   "cell_type": "markdown",
   "source": [
    "Merge with 2017"
   ],
   "metadata": {
    "collapsed": false
   }
  },
  {
   "cell_type": "code",
   "execution_count": 98,
   "outputs": [
    {
     "data": {
      "text/plain": "       2015_RATE   2016_RATE   2017_RATE  MUNCOD\n0     207.209321  129.381322  129.732280  110001\n1      64.562410   42.878582   99.679601  110037\n2     103.908956   58.340221   71.715433  110040\n3     246.146633  136.078571  119.424375  110034\n4      81.416845  107.652791  140.667940  110002\n...          ...         ...         ...     ...\n5511  200.653983  110.562394  241.316271  522200\n5512   36.715212   12.068549   71.454091  522205\n5513   36.396724   35.618878   34.897924  522220\n5514   17.927573   35.492458   70.298770  522230\n5515   49.539767   51.390292   48.068002  530010\n\n[5516 rows x 4 columns]",
      "text/html": "<div>\n<style scoped>\n    .dataframe tbody tr th:only-of-type {\n        vertical-align: middle;\n    }\n\n    .dataframe tbody tr th {\n        vertical-align: top;\n    }\n\n    .dataframe thead th {\n        text-align: right;\n    }\n</style>\n<table border=\"1\" class=\"dataframe\">\n  <thead>\n    <tr style=\"text-align: right;\">\n      <th></th>\n      <th>2015_RATE</th>\n      <th>2016_RATE</th>\n      <th>2017_RATE</th>\n      <th>MUNCOD</th>\n    </tr>\n  </thead>\n  <tbody>\n    <tr>\n      <th>0</th>\n      <td>207.209321</td>\n      <td>129.381322</td>\n      <td>129.732280</td>\n      <td>110001</td>\n    </tr>\n    <tr>\n      <th>1</th>\n      <td>64.562410</td>\n      <td>42.878582</td>\n      <td>99.679601</td>\n      <td>110037</td>\n    </tr>\n    <tr>\n      <th>2</th>\n      <td>103.908956</td>\n      <td>58.340221</td>\n      <td>71.715433</td>\n      <td>110040</td>\n    </tr>\n    <tr>\n      <th>3</th>\n      <td>246.146633</td>\n      <td>136.078571</td>\n      <td>119.424375</td>\n      <td>110034</td>\n    </tr>\n    <tr>\n      <th>4</th>\n      <td>81.416845</td>\n      <td>107.652791</td>\n      <td>140.667940</td>\n      <td>110002</td>\n    </tr>\n    <tr>\n      <th>...</th>\n      <td>...</td>\n      <td>...</td>\n      <td>...</td>\n      <td>...</td>\n    </tr>\n    <tr>\n      <th>5511</th>\n      <td>200.653983</td>\n      <td>110.562394</td>\n      <td>241.316271</td>\n      <td>522200</td>\n    </tr>\n    <tr>\n      <th>5512</th>\n      <td>36.715212</td>\n      <td>12.068549</td>\n      <td>71.454091</td>\n      <td>522205</td>\n    </tr>\n    <tr>\n      <th>5513</th>\n      <td>36.396724</td>\n      <td>35.618878</td>\n      <td>34.897924</td>\n      <td>522220</td>\n    </tr>\n    <tr>\n      <th>5514</th>\n      <td>17.927573</td>\n      <td>35.492458</td>\n      <td>70.298770</td>\n      <td>522230</td>\n    </tr>\n    <tr>\n      <th>5515</th>\n      <td>49.539767</td>\n      <td>51.390292</td>\n      <td>48.068002</td>\n      <td>530010</td>\n    </tr>\n  </tbody>\n</table>\n<p>5516 rows × 4 columns</p>\n</div>"
     },
     "execution_count": 98,
     "metadata": {},
     "output_type": "execute_result"
    }
   ],
   "source": [
    "result = pd.merge(result, pop17, left_on=\"MUNCOD\", right_on=\"MUNCOD\", how=\"inner\")\n",
    "result['2017_RATE'] = result['2017']/result['POPULATION'] * 100000\n",
    "result = result[[\"2015_RATE\", \"2016_RATE\", \"2017_RATE\", \"MUNCOD\"]]\n",
    "result"
   ],
   "metadata": {
    "collapsed": false,
    "pycharm": {
     "name": "#%%\n"
    }
   }
  },
  {
   "cell_type": "markdown",
   "source": [
    "Average rates"
   ],
   "metadata": {
    "collapsed": false,
    "pycharm": {
     "name": "#%% md\n"
    }
   }
  },
  {
   "cell_type": "code",
   "execution_count": 99,
   "outputs": [],
   "source": [
    "result[\"RATE\"] = result[['2015_RATE', '2016_RATE', '2017_RATE']].mean(axis=1)\n",
    "result = result[[\"RATE\", \"MUNCOD\"]]\n",
    "result.to_csv('Rates/' + doenca + \"_RATE_15_17.csv\")\n",
    "\n",
    "\n"
   ],
   "metadata": {
    "collapsed": false,
    "pycharm": {
     "name": "#%%\n"
    }
   }
  }
 ],
 "metadata": {
  "kernelspec": {
   "display_name": "Python 3",
   "language": "python",
   "name": "python3"
  },
  "language_info": {
   "codemirror_mode": {
    "name": "ipython",
    "version": 2
   },
   "file_extension": ".py",
   "mimetype": "text/x-python",
   "name": "python",
   "nbconvert_exporter": "python",
   "pygments_lexer": "ipython2",
   "version": "2.7.6"
  }
 },
 "nbformat": 4,
 "nbformat_minor": 0
}