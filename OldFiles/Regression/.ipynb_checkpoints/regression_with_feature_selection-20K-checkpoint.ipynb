{
 "cells": [
  {
   "cell_type": "markdown",
   "metadata": {},
   "source": [
    "# Regression\n",
    "Features = rates from selected diseases (FeatureSelection) + suicide rate \n",
    "\n",
    "Target = suicide rate of the following year"
   ]
  },
  {
   "cell_type": "markdown",
   "metadata": {},
   "source": [
    "Import libraries"
   ]
  },
  {
   "cell_type": "code",
   "execution_count": 1,
   "metadata": {},
   "outputs": [],
   "source": [
    "import pandas as pd\n",
    "import numpy as np\n",
    "from sklearn import metrics\n",
    "from sklearn.ensemble import RandomForestRegressor\n",
    "root = \"../../\""
   ]
  },
  {
   "cell_type": "markdown",
   "metadata": {},
   "source": [
    "Prepare dataset"
   ]
  },
  {
   "cell_type": "code",
   "execution_count": 5,
   "metadata": {},
   "outputs": [
    {
     "data": {
      "text/html": [
       "<div>\n",
       "<style scoped>\n",
       "    .dataframe tbody tr th:only-of-type {\n",
       "        vertical-align: middle;\n",
       "    }\n",
       "\n",
       "    .dataframe tbody tr th {\n",
       "        vertical-align: top;\n",
       "    }\n",
       "\n",
       "    .dataframe thead th {\n",
       "        text-align: right;\n",
       "    }\n",
       "</style>\n",
       "<table border=\"1\" class=\"dataframe\">\n",
       "  <thead>\n",
       "    <tr style=\"text-align: right;\">\n",
       "      <th></th>\n",
       "      <th>ABORTO_ESPONTÂNEO</th>\n",
       "      <th>ARTROSE</th>\n",
       "      <th>BRONQUITE_ENFISEMA_E_OUTR_DOENÇ_PULM_OBSTR_CRÔNIC</th>\n",
       "      <th>CERT_COMPL_PREC_TRAUM_COMPL_CIRÚRG_ASS_MÉDIC_NCOP</th>\n",
       "      <th>COLELITÍASE_E_COLECISTITE</th>\n",
       "      <th>DOENÇAS_DO_APÊNDICE</th>\n",
       "      <th>EMBOLIA_E_TROMBOSE_ARTERIAIS</th>\n",
       "      <th>FRATURA_DO_FÊMUR</th>\n",
       "      <th>HÉRNIA_INGUINAL</th>\n",
       "      <th>ILEO_PARALÍTICO_E_OBSTRUÇÃO_INTESTINAL_SEM_HÉRNIA</th>\n",
       "      <th>...</th>\n",
       "      <th>OUTRAS_DOENÇAS_ISQUÊMICAS_DO_CORAÇÃO</th>\n",
       "      <th>OUTRAS_NEOPLASIAS_MALIGNAS_DA_PELE</th>\n",
       "      <th>OUTROS_TRANSTRONOS_ARTICULARES</th>\n",
       "      <th>PARTO_ÚNICO_ESPONTÂNEO</th>\n",
       "      <th>TRANSTORNOS_DA_DENSIDADE_E_DA_ESTRUTURA_ÓSSEAS</th>\n",
       "      <th>TRANSTORNOS_DE_CONDUÇÃO_E_ARRITMIAS_CARDÍACAS</th>\n",
       "      <th>TRANSTORNOS_DE_HUMOR_[AFETIVOS]</th>\n",
       "      <th>TRANST_MENTAIS_E_COMPORTAMENTAIS_DEV_USO_DE_ÁLCOOL</th>\n",
       "      <th>PREVIOUS</th>\n",
       "      <th>RATE</th>\n",
       "    </tr>\n",
       "  </thead>\n",
       "  <tbody>\n",
       "    <tr>\n",
       "      <th>0</th>\n",
       "      <td>126.134191</td>\n",
       "      <td>0.000000</td>\n",
       "      <td>252.268381</td>\n",
       "      <td>0.000000</td>\n",
       "      <td>146.478415</td>\n",
       "      <td>24.413069</td>\n",
       "      <td>0.000000</td>\n",
       "      <td>32.550759</td>\n",
       "      <td>138.340725</td>\n",
       "      <td>8.137690</td>\n",
       "      <td>...</td>\n",
       "      <td>20.344224</td>\n",
       "      <td>4.068845</td>\n",
       "      <td>4.068845</td>\n",
       "      <td>805.631281</td>\n",
       "      <td>4.068845</td>\n",
       "      <td>20.344224</td>\n",
       "      <td>8.137690</td>\n",
       "      <td>0.000000</td>\n",
       "      <td>20.344224</td>\n",
       "      <td>8.212203</td>\n",
       "    </tr>\n",
       "    <tr>\n",
       "      <th>1</th>\n",
       "      <td>1.182299</td>\n",
       "      <td>0.000000</td>\n",
       "      <td>55.568035</td>\n",
       "      <td>22.463674</td>\n",
       "      <td>102.859980</td>\n",
       "      <td>75.667112</td>\n",
       "      <td>5.911493</td>\n",
       "      <td>30.739764</td>\n",
       "      <td>113.500668</td>\n",
       "      <td>8.276090</td>\n",
       "      <td>...</td>\n",
       "      <td>21.281375</td>\n",
       "      <td>0.000000</td>\n",
       "      <td>7.093792</td>\n",
       "      <td>740.118939</td>\n",
       "      <td>7.093792</td>\n",
       "      <td>9.458389</td>\n",
       "      <td>1.182299</td>\n",
       "      <td>1.182299</td>\n",
       "      <td>9.458389</td>\n",
       "      <td>2.338060</td>\n",
       "    </tr>\n",
       "    <tr>\n",
       "      <th>2</th>\n",
       "      <td>2.555486</td>\n",
       "      <td>1.277743</td>\n",
       "      <td>61.331664</td>\n",
       "      <td>16.610659</td>\n",
       "      <td>98.386211</td>\n",
       "      <td>51.109720</td>\n",
       "      <td>0.000000</td>\n",
       "      <td>21.721631</td>\n",
       "      <td>76.664580</td>\n",
       "      <td>30.665832</td>\n",
       "      <td>...</td>\n",
       "      <td>47.276491</td>\n",
       "      <td>3.833229</td>\n",
       "      <td>7.666458</td>\n",
       "      <td>534.096572</td>\n",
       "      <td>6.388715</td>\n",
       "      <td>22.999374</td>\n",
       "      <td>1.277743</td>\n",
       "      <td>0.000000</td>\n",
       "      <td>5.110972</td>\n",
       "      <td>7.626311</td>\n",
       "    </tr>\n",
       "    <tr>\n",
       "      <th>6</th>\n",
       "      <td>0.000000</td>\n",
       "      <td>0.000000</td>\n",
       "      <td>7.156659</td>\n",
       "      <td>0.000000</td>\n",
       "      <td>42.939956</td>\n",
       "      <td>14.313319</td>\n",
       "      <td>0.000000</td>\n",
       "      <td>7.156659</td>\n",
       "      <td>0.000000</td>\n",
       "      <td>0.000000</td>\n",
       "      <td>...</td>\n",
       "      <td>7.156659</td>\n",
       "      <td>0.000000</td>\n",
       "      <td>7.156659</td>\n",
       "      <td>908.895727</td>\n",
       "      <td>7.156659</td>\n",
       "      <td>0.000000</td>\n",
       "      <td>0.000000</td>\n",
       "      <td>0.000000</td>\n",
       "      <td>0.000000</td>\n",
       "      <td>13.838915</td>\n",
       "    </tr>\n",
       "    <tr>\n",
       "      <th>7</th>\n",
       "      <td>0.000000</td>\n",
       "      <td>0.000000</td>\n",
       "      <td>90.855086</td>\n",
       "      <td>10.483279</td>\n",
       "      <td>55.910822</td>\n",
       "      <td>48.921969</td>\n",
       "      <td>0.000000</td>\n",
       "      <td>24.460985</td>\n",
       "      <td>52.416396</td>\n",
       "      <td>6.988853</td>\n",
       "      <td>...</td>\n",
       "      <td>10.483279</td>\n",
       "      <td>10.483279</td>\n",
       "      <td>3.494426</td>\n",
       "      <td>370.409197</td>\n",
       "      <td>0.000000</td>\n",
       "      <td>31.449838</td>\n",
       "      <td>0.000000</td>\n",
       "      <td>0.000000</td>\n",
       "      <td>0.000000</td>\n",
       "      <td>6.922331</td>\n",
       "    </tr>\n",
       "  </tbody>\n",
       "</table>\n",
       "<p>5 rows × 25 columns</p>\n",
       "</div>"
      ],
      "text/plain": [
       "   ABORTO_ESPONTÂNEO   ARTROSE  \\\n",
       "0         126.134191  0.000000   \n",
       "1           1.182299  0.000000   \n",
       "2           2.555486  1.277743   \n",
       "6           0.000000  0.000000   \n",
       "7           0.000000  0.000000   \n",
       "\n",
       "   BRONQUITE_ENFISEMA_E_OUTR_DOENÇ_PULM_OBSTR_CRÔNIC  \\\n",
       "0                                         252.268381   \n",
       "1                                          55.568035   \n",
       "2                                          61.331664   \n",
       "6                                           7.156659   \n",
       "7                                          90.855086   \n",
       "\n",
       "   CERT_COMPL_PREC_TRAUM_COMPL_CIRÚRG_ASS_MÉDIC_NCOP  \\\n",
       "0                                           0.000000   \n",
       "1                                          22.463674   \n",
       "2                                          16.610659   \n",
       "6                                           0.000000   \n",
       "7                                          10.483279   \n",
       "\n",
       "   COLELITÍASE_E_COLECISTITE  DOENÇAS_DO_APÊNDICE  \\\n",
       "0                 146.478415            24.413069   \n",
       "1                 102.859980            75.667112   \n",
       "2                  98.386211            51.109720   \n",
       "6                  42.939956            14.313319   \n",
       "7                  55.910822            48.921969   \n",
       "\n",
       "   EMBOLIA_E_TROMBOSE_ARTERIAIS  FRATURA_DO_FÊMUR  HÉRNIA_INGUINAL  \\\n",
       "0                      0.000000         32.550759       138.340725   \n",
       "1                      5.911493         30.739764       113.500668   \n",
       "2                      0.000000         21.721631        76.664580   \n",
       "6                      0.000000          7.156659         0.000000   \n",
       "7                      0.000000         24.460985        52.416396   \n",
       "\n",
       "   ILEO_PARALÍTICO_E_OBSTRUÇÃO_INTESTINAL_SEM_HÉRNIA  ...  \\\n",
       "0                                           8.137690  ...   \n",
       "1                                           8.276090  ...   \n",
       "2                                          30.665832  ...   \n",
       "6                                           0.000000  ...   \n",
       "7                                           6.988853  ...   \n",
       "\n",
       "   OUTRAS_DOENÇAS_ISQUÊMICAS_DO_CORAÇÃO  OUTRAS_NEOPLASIAS_MALIGNAS_DA_PELE  \\\n",
       "0                             20.344224                            4.068845   \n",
       "1                             21.281375                            0.000000   \n",
       "2                             47.276491                            3.833229   \n",
       "6                              7.156659                            0.000000   \n",
       "7                             10.483279                           10.483279   \n",
       "\n",
       "   OUTROS_TRANSTRONOS_ARTICULARES  PARTO_ÚNICO_ESPONTÂNEO  \\\n",
       "0                        4.068845              805.631281   \n",
       "1                        7.093792              740.118939   \n",
       "2                        7.666458              534.096572   \n",
       "6                        7.156659              908.895727   \n",
       "7                        3.494426              370.409197   \n",
       "\n",
       "   TRANSTORNOS_DA_DENSIDADE_E_DA_ESTRUTURA_ÓSSEAS  \\\n",
       "0                                        4.068845   \n",
       "1                                        7.093792   \n",
       "2                                        6.388715   \n",
       "6                                        7.156659   \n",
       "7                                        0.000000   \n",
       "\n",
       "   TRANSTORNOS_DE_CONDUÇÃO_E_ARRITMIAS_CARDÍACAS  \\\n",
       "0                                      20.344224   \n",
       "1                                       9.458389   \n",
       "2                                      22.999374   \n",
       "6                                       0.000000   \n",
       "7                                      31.449838   \n",
       "\n",
       "   TRANSTORNOS_DE_HUMOR_[AFETIVOS]  \\\n",
       "0                         8.137690   \n",
       "1                         1.182299   \n",
       "2                         1.277743   \n",
       "6                         0.000000   \n",
       "7                         0.000000   \n",
       "\n",
       "   TRANST_MENTAIS_E_COMPORTAMENTAIS_DEV_USO_DE_ÁLCOOL   PREVIOUS       RATE  \n",
       "0                                           0.000000   20.344224   8.212203  \n",
       "1                                           1.182299    9.458389   2.338060  \n",
       "2                                           0.000000    5.110972   7.626311  \n",
       "6                                           0.000000    0.000000  13.838915  \n",
       "7                                           0.000000    0.000000   6.922331  \n",
       "\n",
       "[5 rows x 25 columns]"
      ]
     },
     "execution_count": 5,
     "metadata": {},
     "output_type": "execute_result"
    }
   ],
   "source": [
    "disease = \"\"\n",
    "path = root + \"CSV/TabNet/Internacoes_Rate/\"\n",
    "\n",
    "suicide = pd.read_csv(root +'CSV/Suicide/suicide_rates_08_18.csv', index_col=0)\n",
    "\n",
    "years = [\"08\", \"09\", \"10\", \"11\", \"12\", \"13\", \"14\", \"15\", \"16\", \"17\", \"18\"]\n",
    "\n",
    "final_df = pd.DataFrame()\n",
    "selected_diseases = [\"TRANST_MENTAIS_E_COMPORTAMENTAIS_DEV_USO_DE_ÁLCOOL\", \n",
    "                     \"TRANSTORNOS_DE_HUMOR_[AFETIVOS]\", \n",
    "                     \"TRANSTORNOS_DE_CONDUÇÃO_E_ARRITMIAS_CARDÍACAS\", \n",
    "                     \"TRANSTORNOS_DA_DENSIDADE_E_DA_ESTRUTURA_ÓSSEAS\",\n",
    "                     \"PARTO_ÚNICO_ESPONTÂNEO\",  \n",
    "                     \"OUTROS_TRANSTRONOS_ARTICULARES\",\n",
    "                    \"OUTRAS_NEOPLASIAS_MALIGNAS_DA_PELE\",\n",
    "                    \"OUTRAS_DOENÇAS_ISQUÊMICAS_DO_CORAÇÃO\",\n",
    "                    \"NEOPL_MALIG_OUTR_LOCALIZ_MAL_DEF_SECUN_E_NÃO_ESPEC\",\n",
    "                     \"NEOPLASIA_MALIGNA_DO_ESTÔMAGO\",\n",
    "                    \"NEOPLASIA_MALIGNA_DE_TRAQUÉIA_BRÔNQUIOS_E_PULMÕES\",\n",
    "                     \"NEOPLASIA_MALIGNA_DA_MAMA\",\n",
    "                    \"INSUFICIÊNCIA_RENAL\",\n",
    "                    \"ILEO_PARALÍTICO_E_OBSTRUÇÃO_INTESTINAL_SEM_HÉRNIA\",\n",
    "                    \"HÉRNIA_INGUINAL\",\n",
    "                     \"FRATURA_DO_FÊMUR\",\n",
    "                    \"EMBOLIA_E_TROMBOSE_ARTERIAIS\",\n",
    "                    \"DOENÇAS_DO_APÊNDICE\",\n",
    "                    \"COLELITÍASE_E_COLECISTITE\",\n",
    "                     \"CERT_COMPL_PREC_TRAUM_COMPL_CIRÚRG_ASS_MÉDIC_NCOP\",\n",
    "                    \"BRONQUITE_ENFISEMA_E_OUTR_DOENÇ_PULM_OBSTR_CRÔNIC\",\n",
    "                    \"ARTROSE\",\n",
    "                    \"ABORTO_ESPONTÂNEO\"]\n",
    "\n",
    "for i in range(len(years)-1):\n",
    "    col_year_suicide = \"RATE_\" + years[i+1]\n",
    "    col_year_prev = \"RATE_\" + years[i]\n",
    "    year_df = suicide[[col_year_prev,col_year_suicide, \"MUNCOD\"]]\n",
    "    year_df = year_df.rename(columns={col_year_suicide: \"RATE\"})\n",
    "    year_df = year_df.rename(columns={col_year_prev: \"PREVIOUS\"})\n",
    "    for disease in selected_diseases:\n",
    "        col_year_disease = \"RATE_\" + years[i]\n",
    "        disease_df = pd.read_csv(path + disease + \".csv\", sep=',', index_col=0)\n",
    "        disease_df = disease_df[[col_year_disease, \"MUNCOD\"]]\n",
    "        disease_df = disease_df.rename(columns={col_year_disease: disease})\n",
    "        \n",
    "        year_df = pd.merge(disease_df, year_df, left_on=\"MUNCOD\", right_on=\"MUNCOD\", how='right')\n",
    "        \n",
    "    year_df = year_df.drop(\"MUNCOD\", axis=1)\n",
    "    final_df = pd.concat([final_df, year_df])\n",
    "\n",
    "#final_df = final_df[final_df[\"RATE\"] > 0]\n",
    "#final_df = final_df[final_df[\"PREVIOUS\"] > 0]\n",
    "final_df = final_df[(final_df[\"RATE\"] > 0) | (final_df[\"PREVIOUS\"] > 0)]\n",
    "final_df = final_df.fillna(0)\n",
    "final_df.head()"
   ]
  },
  {
   "cell_type": "code",
   "execution_count": 6,
   "metadata": {},
   "outputs": [
    {
     "data": {
      "text/plain": [
       "(38331, 25)"
      ]
     },
     "execution_count": 6,
     "metadata": {},
     "output_type": "execute_result"
    }
   ],
   "source": [
    "final_df.shape"
   ]
  },
  {
   "cell_type": "markdown",
   "metadata": {},
   "source": [
    "Define X and y"
   ]
  },
  {
   "cell_type": "code",
   "execution_count": 7,
   "metadata": {},
   "outputs": [],
   "source": [
    "X = final_df.drop(columns=[\"RATE\"])\n",
    "y = final_df[\"RATE\"]"
   ]
  },
  {
   "cell_type": "markdown",
   "metadata": {},
   "source": [
    "Split data into train and test sets"
   ]
  },
  {
   "cell_type": "code",
   "execution_count": 8,
   "metadata": {},
   "outputs": [],
   "source": [
    "from sklearn.model_selection import train_test_split\n",
    "X_train, X_test, y_train, y_test = train_test_split(X, y, test_size=0.33, random_state=42)"
   ]
  },
  {
   "cell_type": "code",
   "execution_count": 9,
   "metadata": {},
   "outputs": [
    {
     "name": "stderr",
     "output_type": "stream",
     "text": [
      "C:\\Users\\pypas\\anaconda3\\envs\\ML\\lib\\site-packages\\skopt\\optimizer\\optimizer.py:449: UserWarning: The objective has been evaluated at this point before.\n",
      "  warnings.warn(\"The objective has been evaluated \"\n"
     ]
    }
   ],
   "source": [
    "# Bayesian Optimization\n",
    "def train_model(params):\n",
    "    n_estimators = params[0]\n",
    "    max_depth = params[1]\n",
    "    min_samples_leaf = params[2]\n",
    "    max_features = params[3]\n",
    "    \n",
    "    xf_train_params,xf_val,yf_train_params,yf_val = train_test_split(X_train,y_train,test_size=0.33)\n",
    "    \n",
    "    model = RandomForestRegressor(n_jobs=-1, random_state=42,n_estimators=n_estimators, \n",
    "                                  max_depth=max_depth,min_samples_leaf=min_samples_leaf,max_features=max_features)\n",
    "    \n",
    "    model.fit(xf_train_params,yf_train_params)\n",
    "    yf_pred = model.predict(xf_val)\n",
    "    \n",
    "    return np.sqrt(metrics.mean_squared_error(yf_val, yf_pred))\n",
    "\n",
    "space = [\n",
    "    (5,500), #n_estimators\n",
    "    (3,15), #max_depth\n",
    "    (2,100), #min_samples_leaf\n",
    "    (0.25,1.00) #max_features\n",
    "]\n",
    "\n",
    "from skopt import gp_minimize\n",
    "\n",
    "resultado_gp = gp_minimize(train_model, space, random_state=42, verbose=0, n_calls=30, n_random_starts=10)"
   ]
  },
  {
   "cell_type": "code",
   "execution_count": 10,
   "metadata": {},
   "outputs": [
    {
     "data": {
      "text/plain": [
       "[500, 15, 2, 1.0]"
      ]
     },
     "execution_count": 10,
     "metadata": {},
     "output_type": "execute_result"
    }
   ],
   "source": [
    "resultado_gp.x"
   ]
  },
  {
   "cell_type": "markdown",
   "metadata": {},
   "source": [
    "Fit the RandomForest regression model"
   ]
  },
  {
   "cell_type": "code",
   "execution_count": 11,
   "metadata": {},
   "outputs": [
    {
     "data": {
      "text/plain": [
       "RandomForestRegressor(bootstrap=True, ccp_alpha=0.0, criterion='mse',\n",
       "                      max_depth=15, max_features=1.0, max_leaf_nodes=None,\n",
       "                      max_samples=None, min_impurity_decrease=0.0,\n",
       "                      min_impurity_split=None, min_samples_leaf=2,\n",
       "                      min_samples_split=2, min_weight_fraction_leaf=0.0,\n",
       "                      n_estimators=500, n_jobs=-1, oob_score=False,\n",
       "                      random_state=42, verbose=0, warm_start=False)"
      ]
     },
     "execution_count": 11,
     "metadata": {},
     "output_type": "execute_result"
    }
   ],
   "source": [
    "regressor = RandomForestRegressor(n_jobs=-1, random_state=42,n_estimators=resultado_gp.x[0], \n",
    "                                  max_depth=resultado_gp.x[1],min_samples_leaf=resultado_gp.x[2],max_features=resultado_gp.x[3])\n",
    "regressor.fit(X_train,y_train)"
   ]
  },
  {
   "cell_type": "markdown",
   "metadata": {},
   "source": [
    "Calculate metrics corresponding to the regression model"
   ]
  },
  {
   "cell_type": "code",
   "execution_count": 12,
   "metadata": {},
   "outputs": [],
   "source": [
    "def calcMetrics(y_train, y_pred_train, y_test, y_pred):\n",
    "    print(\"Root Mean Squared Error Train: \" + str(np.sqrt(metrics.mean_squared_error(y_pred_train,y_train))))\n",
    "    print(\"Root Mean Squared Error Test: \" + str(np.sqrt(metrics.mean_squared_error(y_test,y_pred))))\n",
    "    #print(\"MAPE Test: \" + str(np.mean(np.abs((y_test - y_pred) / y_test)) * 100))\n",
    "def calcUpMetrics(y_pred,y_test,X_test):\n",
    "    up_df = pd.DataFrame({\"Pred\": y_pred, \"Real\": y_test, \"Previous\": X_test[\"PREVIOUS\"]})\n",
    "    up_df[\"UP\"] = up_df[\"Previous\"] < up_df[\"Real\"]\n",
    "    up_df[\"UP_PRED\"] = up_df[\"Previous\"] < up_df[\"Pred\"]\n",
    "    up_df[\"UP\"] = up_df[\"UP\"].astype(int)\n",
    "    up_df[\"UP_PRED\"] = up_df[\"UP_PRED\"].astype(int)\n",
    "    print(\"Accuracy UP/DOWN: \", metrics.accuracy_score(up_df[\"UP\"], up_df[\"UP_PRED\"]))"
   ]
  },
  {
   "cell_type": "code",
   "execution_count": 13,
   "metadata": {},
   "outputs": [
    {
     "name": "stdout",
     "output_type": "stream",
     "text": [
      "# Regression Model\n",
      "Root Mean Squared Error Train: 6.679096114990926\n",
      "Root Mean Squared Error Test: 10.329841619458854\n",
      "Accuracy UP/DOWN:  0.7880632411067193\n"
     ]
    }
   ],
   "source": [
    "y_pred = regressor.predict(X_test) \n",
    "y_pred_train = regressor.predict(X_train)\n",
    "print(\"# Regression Model\")\n",
    "calcMetrics(y_train, y_pred_train, y_test, y_pred)\n",
    "calcUpMetrics(y_pred,y_test,X_test)"
   ]
  },
  {
   "cell_type": "markdown",
   "metadata": {},
   "source": [
    "We also define a baseline model consisting of predicting the previous year suicide rate"
   ]
  },
  {
   "cell_type": "code",
   "execution_count": 14,
   "metadata": {},
   "outputs": [
    {
     "name": "stdout",
     "output_type": "stream",
     "text": [
      "# Baseline Model\n",
      "Root Mean Squared Error Train: 18.34503289269616\n",
      "Root Mean Squared Error Test: 18.221251623973156\n"
     ]
    }
   ],
   "source": [
    "y_pred = X_test[\"PREVIOUS\"]\n",
    "y_pred_train = X_train[\"PREVIOUS\"]\n",
    "print(\"# Baseline Model\")\n",
    "calcMetrics(y_train, y_pred_train, y_test, y_pred)"
   ]
  },
  {
   "cell_type": "markdown",
   "metadata": {},
   "source": [
    "K-fold cross validation"
   ]
  },
  {
   "cell_type": "code",
   "execution_count": 15,
   "metadata": {},
   "outputs": [
    {
     "ename": "KeyboardInterrupt",
     "evalue": "",
     "output_type": "error",
     "traceback": [
      "\u001b[1;31m---------------------------------------------------------------------------\u001b[0m",
      "\u001b[1;31mKeyboardInterrupt\u001b[0m                         Traceback (most recent call last)",
      "\u001b[1;32m<ipython-input-15-287652821ca4>\u001b[0m in \u001b[0;36m<module>\u001b[1;34m\u001b[0m\n\u001b[0;32m     13\u001b[0m                                   max_depth=resultado_gp.x[1],min_samples_leaf=resultado_gp.x[2],max_features=resultado_gp.x[3])\n\u001b[0;32m     14\u001b[0m \u001b[1;33m\u001b[0m\u001b[0m\n\u001b[1;32m---> 15\u001b[1;33m     \u001b[0mregressor\u001b[0m\u001b[1;33m.\u001b[0m\u001b[0mfit\u001b[0m\u001b[1;33m(\u001b[0m\u001b[0mX_train\u001b[0m\u001b[1;33m,\u001b[0m\u001b[0my_train\u001b[0m\u001b[1;33m)\u001b[0m\u001b[1;33m\u001b[0m\u001b[1;33m\u001b[0m\u001b[0m\n\u001b[0m\u001b[0;32m     16\u001b[0m \u001b[1;33m\u001b[0m\u001b[0m\n\u001b[0;32m     17\u001b[0m     rmse_regression.append(\n",
      "\u001b[1;32m~\\anaconda3\\envs\\ML\\lib\\site-packages\\sklearn\\ensemble\\_forest.py\u001b[0m in \u001b[0;36mfit\u001b[1;34m(self, X, y, sample_weight)\u001b[0m\n\u001b[0;32m    381\u001b[0m                     \u001b[0mverbose\u001b[0m\u001b[1;33m=\u001b[0m\u001b[0mself\u001b[0m\u001b[1;33m.\u001b[0m\u001b[0mverbose\u001b[0m\u001b[1;33m,\u001b[0m \u001b[0mclass_weight\u001b[0m\u001b[1;33m=\u001b[0m\u001b[0mself\u001b[0m\u001b[1;33m.\u001b[0m\u001b[0mclass_weight\u001b[0m\u001b[1;33m,\u001b[0m\u001b[1;33m\u001b[0m\u001b[1;33m\u001b[0m\u001b[0m\n\u001b[0;32m    382\u001b[0m                     n_samples_bootstrap=n_samples_bootstrap)\n\u001b[1;32m--> 383\u001b[1;33m                 for i, t in enumerate(trees))\n\u001b[0m\u001b[0;32m    384\u001b[0m \u001b[1;33m\u001b[0m\u001b[0m\n\u001b[0;32m    385\u001b[0m             \u001b[1;31m# Collect newly grown trees\u001b[0m\u001b[1;33m\u001b[0m\u001b[1;33m\u001b[0m\u001b[1;33m\u001b[0m\u001b[0m\n",
      "\u001b[1;32m~\\anaconda3\\envs\\ML\\lib\\site-packages\\joblib\\parallel.py\u001b[0m in \u001b[0;36m__call__\u001b[1;34m(self, iterable)\u001b[0m\n\u001b[0;32m   1015\u001b[0m \u001b[1;33m\u001b[0m\u001b[0m\n\u001b[0;32m   1016\u001b[0m             \u001b[1;32mwith\u001b[0m \u001b[0mself\u001b[0m\u001b[1;33m.\u001b[0m\u001b[0m_backend\u001b[0m\u001b[1;33m.\u001b[0m\u001b[0mretrieval_context\u001b[0m\u001b[1;33m(\u001b[0m\u001b[1;33m)\u001b[0m\u001b[1;33m:\u001b[0m\u001b[1;33m\u001b[0m\u001b[1;33m\u001b[0m\u001b[0m\n\u001b[1;32m-> 1017\u001b[1;33m                 \u001b[0mself\u001b[0m\u001b[1;33m.\u001b[0m\u001b[0mretrieve\u001b[0m\u001b[1;33m(\u001b[0m\u001b[1;33m)\u001b[0m\u001b[1;33m\u001b[0m\u001b[1;33m\u001b[0m\u001b[0m\n\u001b[0m\u001b[0;32m   1018\u001b[0m             \u001b[1;31m# Make sure that we get a last message telling us we are done\u001b[0m\u001b[1;33m\u001b[0m\u001b[1;33m\u001b[0m\u001b[1;33m\u001b[0m\u001b[0m\n\u001b[0;32m   1019\u001b[0m             \u001b[0melapsed_time\u001b[0m \u001b[1;33m=\u001b[0m \u001b[0mtime\u001b[0m\u001b[1;33m.\u001b[0m\u001b[0mtime\u001b[0m\u001b[1;33m(\u001b[0m\u001b[1;33m)\u001b[0m \u001b[1;33m-\u001b[0m \u001b[0mself\u001b[0m\u001b[1;33m.\u001b[0m\u001b[0m_start_time\u001b[0m\u001b[1;33m\u001b[0m\u001b[1;33m\u001b[0m\u001b[0m\n",
      "\u001b[1;32m~\\anaconda3\\envs\\ML\\lib\\site-packages\\joblib\\parallel.py\u001b[0m in \u001b[0;36mretrieve\u001b[1;34m(self)\u001b[0m\n\u001b[0;32m    907\u001b[0m             \u001b[1;32mtry\u001b[0m\u001b[1;33m:\u001b[0m\u001b[1;33m\u001b[0m\u001b[1;33m\u001b[0m\u001b[0m\n\u001b[0;32m    908\u001b[0m                 \u001b[1;32mif\u001b[0m \u001b[0mgetattr\u001b[0m\u001b[1;33m(\u001b[0m\u001b[0mself\u001b[0m\u001b[1;33m.\u001b[0m\u001b[0m_backend\u001b[0m\u001b[1;33m,\u001b[0m \u001b[1;34m'supports_timeout'\u001b[0m\u001b[1;33m,\u001b[0m \u001b[1;32mFalse\u001b[0m\u001b[1;33m)\u001b[0m\u001b[1;33m:\u001b[0m\u001b[1;33m\u001b[0m\u001b[1;33m\u001b[0m\u001b[0m\n\u001b[1;32m--> 909\u001b[1;33m                     \u001b[0mself\u001b[0m\u001b[1;33m.\u001b[0m\u001b[0m_output\u001b[0m\u001b[1;33m.\u001b[0m\u001b[0mextend\u001b[0m\u001b[1;33m(\u001b[0m\u001b[0mjob\u001b[0m\u001b[1;33m.\u001b[0m\u001b[0mget\u001b[0m\u001b[1;33m(\u001b[0m\u001b[0mtimeout\u001b[0m\u001b[1;33m=\u001b[0m\u001b[0mself\u001b[0m\u001b[1;33m.\u001b[0m\u001b[0mtimeout\u001b[0m\u001b[1;33m)\u001b[0m\u001b[1;33m)\u001b[0m\u001b[1;33m\u001b[0m\u001b[1;33m\u001b[0m\u001b[0m\n\u001b[0m\u001b[0;32m    910\u001b[0m                 \u001b[1;32melse\u001b[0m\u001b[1;33m:\u001b[0m\u001b[1;33m\u001b[0m\u001b[1;33m\u001b[0m\u001b[0m\n\u001b[0;32m    911\u001b[0m                     \u001b[0mself\u001b[0m\u001b[1;33m.\u001b[0m\u001b[0m_output\u001b[0m\u001b[1;33m.\u001b[0m\u001b[0mextend\u001b[0m\u001b[1;33m(\u001b[0m\u001b[0mjob\u001b[0m\u001b[1;33m.\u001b[0m\u001b[0mget\u001b[0m\u001b[1;33m(\u001b[0m\u001b[1;33m)\u001b[0m\u001b[1;33m)\u001b[0m\u001b[1;33m\u001b[0m\u001b[1;33m\u001b[0m\u001b[0m\n",
      "\u001b[1;32m~\\anaconda3\\envs\\ML\\lib\\multiprocessing\\pool.py\u001b[0m in \u001b[0;36mget\u001b[1;34m(self, timeout)\u001b[0m\n\u001b[0;32m    649\u001b[0m \u001b[1;33m\u001b[0m\u001b[0m\n\u001b[0;32m    650\u001b[0m     \u001b[1;32mdef\u001b[0m \u001b[0mget\u001b[0m\u001b[1;33m(\u001b[0m\u001b[0mself\u001b[0m\u001b[1;33m,\u001b[0m \u001b[0mtimeout\u001b[0m\u001b[1;33m=\u001b[0m\u001b[1;32mNone\u001b[0m\u001b[1;33m)\u001b[0m\u001b[1;33m:\u001b[0m\u001b[1;33m\u001b[0m\u001b[1;33m\u001b[0m\u001b[0m\n\u001b[1;32m--> 651\u001b[1;33m         \u001b[0mself\u001b[0m\u001b[1;33m.\u001b[0m\u001b[0mwait\u001b[0m\u001b[1;33m(\u001b[0m\u001b[0mtimeout\u001b[0m\u001b[1;33m)\u001b[0m\u001b[1;33m\u001b[0m\u001b[1;33m\u001b[0m\u001b[0m\n\u001b[0m\u001b[0;32m    652\u001b[0m         \u001b[1;32mif\u001b[0m \u001b[1;32mnot\u001b[0m \u001b[0mself\u001b[0m\u001b[1;33m.\u001b[0m\u001b[0mready\u001b[0m\u001b[1;33m(\u001b[0m\u001b[1;33m)\u001b[0m\u001b[1;33m:\u001b[0m\u001b[1;33m\u001b[0m\u001b[1;33m\u001b[0m\u001b[0m\n\u001b[0;32m    653\u001b[0m             \u001b[1;32mraise\u001b[0m \u001b[0mTimeoutError\u001b[0m\u001b[1;33m\u001b[0m\u001b[1;33m\u001b[0m\u001b[0m\n",
      "\u001b[1;32m~\\anaconda3\\envs\\ML\\lib\\multiprocessing\\pool.py\u001b[0m in \u001b[0;36mwait\u001b[1;34m(self, timeout)\u001b[0m\n\u001b[0;32m    646\u001b[0m \u001b[1;33m\u001b[0m\u001b[0m\n\u001b[0;32m    647\u001b[0m     \u001b[1;32mdef\u001b[0m \u001b[0mwait\u001b[0m\u001b[1;33m(\u001b[0m\u001b[0mself\u001b[0m\u001b[1;33m,\u001b[0m \u001b[0mtimeout\u001b[0m\u001b[1;33m=\u001b[0m\u001b[1;32mNone\u001b[0m\u001b[1;33m)\u001b[0m\u001b[1;33m:\u001b[0m\u001b[1;33m\u001b[0m\u001b[1;33m\u001b[0m\u001b[0m\n\u001b[1;32m--> 648\u001b[1;33m         \u001b[0mself\u001b[0m\u001b[1;33m.\u001b[0m\u001b[0m_event\u001b[0m\u001b[1;33m.\u001b[0m\u001b[0mwait\u001b[0m\u001b[1;33m(\u001b[0m\u001b[0mtimeout\u001b[0m\u001b[1;33m)\u001b[0m\u001b[1;33m\u001b[0m\u001b[1;33m\u001b[0m\u001b[0m\n\u001b[0m\u001b[0;32m    649\u001b[0m \u001b[1;33m\u001b[0m\u001b[0m\n\u001b[0;32m    650\u001b[0m     \u001b[1;32mdef\u001b[0m \u001b[0mget\u001b[0m\u001b[1;33m(\u001b[0m\u001b[0mself\u001b[0m\u001b[1;33m,\u001b[0m \u001b[0mtimeout\u001b[0m\u001b[1;33m=\u001b[0m\u001b[1;32mNone\u001b[0m\u001b[1;33m)\u001b[0m\u001b[1;33m:\u001b[0m\u001b[1;33m\u001b[0m\u001b[1;33m\u001b[0m\u001b[0m\n",
      "\u001b[1;32m~\\anaconda3\\envs\\ML\\lib\\threading.py\u001b[0m in \u001b[0;36mwait\u001b[1;34m(self, timeout)\u001b[0m\n\u001b[0;32m    550\u001b[0m             \u001b[0msignaled\u001b[0m \u001b[1;33m=\u001b[0m \u001b[0mself\u001b[0m\u001b[1;33m.\u001b[0m\u001b[0m_flag\u001b[0m\u001b[1;33m\u001b[0m\u001b[1;33m\u001b[0m\u001b[0m\n\u001b[0;32m    551\u001b[0m             \u001b[1;32mif\u001b[0m \u001b[1;32mnot\u001b[0m \u001b[0msignaled\u001b[0m\u001b[1;33m:\u001b[0m\u001b[1;33m\u001b[0m\u001b[1;33m\u001b[0m\u001b[0m\n\u001b[1;32m--> 552\u001b[1;33m                 \u001b[0msignaled\u001b[0m \u001b[1;33m=\u001b[0m \u001b[0mself\u001b[0m\u001b[1;33m.\u001b[0m\u001b[0m_cond\u001b[0m\u001b[1;33m.\u001b[0m\u001b[0mwait\u001b[0m\u001b[1;33m(\u001b[0m\u001b[0mtimeout\u001b[0m\u001b[1;33m)\u001b[0m\u001b[1;33m\u001b[0m\u001b[1;33m\u001b[0m\u001b[0m\n\u001b[0m\u001b[0;32m    553\u001b[0m             \u001b[1;32mreturn\u001b[0m \u001b[0msignaled\u001b[0m\u001b[1;33m\u001b[0m\u001b[1;33m\u001b[0m\u001b[0m\n\u001b[0;32m    554\u001b[0m \u001b[1;33m\u001b[0m\u001b[0m\n",
      "\u001b[1;32m~\\anaconda3\\envs\\ML\\lib\\threading.py\u001b[0m in \u001b[0;36mwait\u001b[1;34m(self, timeout)\u001b[0m\n\u001b[0;32m    294\u001b[0m         \u001b[1;32mtry\u001b[0m\u001b[1;33m:\u001b[0m    \u001b[1;31m# restore state no matter what (e.g., KeyboardInterrupt)\u001b[0m\u001b[1;33m\u001b[0m\u001b[1;33m\u001b[0m\u001b[0m\n\u001b[0;32m    295\u001b[0m             \u001b[1;32mif\u001b[0m \u001b[0mtimeout\u001b[0m \u001b[1;32mis\u001b[0m \u001b[1;32mNone\u001b[0m\u001b[1;33m:\u001b[0m\u001b[1;33m\u001b[0m\u001b[1;33m\u001b[0m\u001b[0m\n\u001b[1;32m--> 296\u001b[1;33m                 \u001b[0mwaiter\u001b[0m\u001b[1;33m.\u001b[0m\u001b[0macquire\u001b[0m\u001b[1;33m(\u001b[0m\u001b[1;33m)\u001b[0m\u001b[1;33m\u001b[0m\u001b[1;33m\u001b[0m\u001b[0m\n\u001b[0m\u001b[0;32m    297\u001b[0m                 \u001b[0mgotit\u001b[0m \u001b[1;33m=\u001b[0m \u001b[1;32mTrue\u001b[0m\u001b[1;33m\u001b[0m\u001b[1;33m\u001b[0m\u001b[0m\n\u001b[0;32m    298\u001b[0m             \u001b[1;32melse\u001b[0m\u001b[1;33m:\u001b[0m\u001b[1;33m\u001b[0m\u001b[1;33m\u001b[0m\u001b[0m\n",
      "\u001b[1;31mKeyboardInterrupt\u001b[0m: "
     ]
    }
   ],
   "source": [
    "from sklearn.model_selection import KFold\n",
    "\n",
    "kf = KFold(n_splits=4)\n",
    "\n",
    "rmse_regression = []\n",
    "rmse_baseline = []\n",
    "accuracy_up_down = []\n",
    "for train_index, test_index in kf.split(X):\n",
    "    X_train, X_test = X.iloc[train_index], X.iloc[test_index]\n",
    "    y_train, y_test = y.iloc[train_index], y.iloc[test_index]\n",
    "    \n",
    "    regressor = RandomForestRegressor(n_jobs=-1, random_state=42,n_estimators=resultado_gp.x[0], \n",
    "                                  max_depth=resultado_gp.x[1],min_samples_leaf=resultado_gp.x[2],max_features=resultado_gp.x[3])\n",
    "\n",
    "    regressor.fit(X_train,y_train)\n",
    "    \n",
    "    rmse_regression.append(\n",
    "        np.sqrt(metrics.mean_squared_error(regressor.predict(X_test),y_test))\n",
    "    )\n",
    "    \n",
    "    up_df = pd.DataFrame({\"Pred\": regressor.predict(X_test), \"Real\": y_test, \"Previous\": X_test[\"PREVIOUS\"]})\n",
    "    up_df[\"UP\"] = up_df[\"Previous\"] < up_df[\"Real\"]\n",
    "    up_df[\"UP_PRED\"] = up_df[\"Previous\"] < up_df[\"Pred\"]\n",
    "    up_df[\"UP\"] = up_df[\"UP\"].astype(int)\n",
    "    up_df[\"UP_PRED\"] = up_df[\"UP_PRED\"].astype(int)\n",
    "    accuracy_up_down.append(metrics.accuracy_score(up_df[\"UP\"], up_df[\"UP_PRED\"]))\n",
    "    \n",
    "    rmse_baseline.append(\n",
    "        np.sqrt(metrics.mean_squared_error(X_test[\"PREVIOUS\"],y_test))\n",
    "    )\n",
    "    \n",
    "print(\"Mean RMSE for the regression model was:\", np.mean(rmse_regression))\n",
    "print(\"Mean accuracy (up/down) for the regression model was:\", np.mean(accuracy_up_down))\n",
    "print(\"Mean RMSE for the baseline model was:\", np.mean(rmse_baseline))"
   ]
  }
 ],
 "metadata": {
  "kernelspec": {
   "display_name": "Python 3",
   "language": "python",
   "name": "python3"
  },
  "language_info": {
   "codemirror_mode": {
    "name": "ipython",
    "version": 3
   },
   "file_extension": ".py",
   "mimetype": "text/x-python",
   "name": "python",
   "nbconvert_exporter": "python",
   "pygments_lexer": "ipython3",
   "version": "3.7.6"
  }
 },
 "nbformat": 4,
 "nbformat_minor": 4
}
