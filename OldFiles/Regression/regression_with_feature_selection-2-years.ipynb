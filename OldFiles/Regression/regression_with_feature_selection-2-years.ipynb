{
 "cells": [
  {
   "cell_type": "markdown",
   "metadata": {},
   "source": [
    "# Regression\n",
    "Features = rates from selected diseases (FeatureSelection) + suicide rate \n",
    "\n",
    "Target = suicide rate of the following year"
   ]
  },
  {
   "cell_type": "markdown",
   "metadata": {},
   "source": [
    "Import libraries"
   ]
  },
  {
   "cell_type": "code",
   "execution_count": 2,
   "metadata": {},
   "outputs": [],
   "source": [
    "import pandas as pd\n",
    "import numpy as np\n",
    "from sklearn import metrics\n",
    "from sklearn.ensemble import RandomForestRegressor\n",
    "root = \"../../\""
   ]
  },
  {
   "cell_type": "markdown",
   "metadata": {},
   "source": [
    "Prepare dataset"
   ]
  },
  {
   "cell_type": "code",
   "execution_count": 5,
   "metadata": {},
   "outputs": [
    {
     "data": {
      "text/html": [
       "<div>\n",
       "<style scoped>\n",
       "    .dataframe tbody tr th:only-of-type {\n",
       "        vertical-align: middle;\n",
       "    }\n",
       "\n",
       "    .dataframe tbody tr th {\n",
       "        vertical-align: top;\n",
       "    }\n",
       "\n",
       "    .dataframe thead th {\n",
       "        text-align: right;\n",
       "    }\n",
       "</style>\n",
       "<table border=\"1\" class=\"dataframe\">\n",
       "  <thead>\n",
       "    <tr style=\"text-align: right;\">\n",
       "      <th></th>\n",
       "      <th>BRONQUITE_ENFISEMA_E_OUTR_DOENÇ_PULM_OBSTR_CRÔNIC</th>\n",
       "      <th>COLELITÍASE_E_COLECISTITE</th>\n",
       "      <th>DIABETES_MELLITUS</th>\n",
       "      <th>DOENÇAS_DO_APÊNDICE</th>\n",
       "      <th>DOENÇAS_RENAIS_TÚBULO-INTERSTICIAIS</th>\n",
       "      <th>FRATURA_DO_FÊMUR</th>\n",
       "      <th>FRATURA_DO_PESCOÇO_TÓRAX_OU_PELVE</th>\n",
       "      <th>INFARTO_AGUDO_DO_MIOCÁRDIO</th>\n",
       "      <th>INSUFICIÊNCIA_CARDÍACA</th>\n",
       "      <th>INSUFICIÊNCIA_RENAL</th>\n",
       "      <th>...</th>\n",
       "      <th>OUTRAS_NEOPLASIAS_MALIGNAS_DA_PELE</th>\n",
       "      <th>OUTROS_TRANSTRONOS_ARTICULARES</th>\n",
       "      <th>PANCREATITE_AGUDA_E_OUTRAS_DOENÇAS_DO_PÂNCREAS</th>\n",
       "      <th>PARTO_ÚNICO_ESPONTÂNEO</th>\n",
       "      <th>TRANSTORNOS_DE_CONDUÇÃO_E_ARRITMIAS_CARDÍACAS</th>\n",
       "      <th>TRANSTORNOS_DE_HUMOR_[AFETIVOS]</th>\n",
       "      <th>TRANST_MENTAIS_COMPORT_DEV_USO_OUTR_SUBST_PSICOAT</th>\n",
       "      <th>UROLITÍASE</th>\n",
       "      <th>RATE</th>\n",
       "      <th>PREVIOUS</th>\n",
       "    </tr>\n",
       "  </thead>\n",
       "  <tbody>\n",
       "    <tr>\n",
       "      <th>0</th>\n",
       "      <td>205.305083</td>\n",
       "      <td>205.305083</td>\n",
       "      <td>221.729490</td>\n",
       "      <td>24.636610</td>\n",
       "      <td>110.864745</td>\n",
       "      <td>8.212203</td>\n",
       "      <td>8.212203</td>\n",
       "      <td>12.318305</td>\n",
       "      <td>328.488133</td>\n",
       "      <td>16.424407</td>\n",
       "      <td>...</td>\n",
       "      <td>8.212203</td>\n",
       "      <td>12.318305</td>\n",
       "      <td>4.106102</td>\n",
       "      <td>640.551860</td>\n",
       "      <td>32.848813</td>\n",
       "      <td>0.000000</td>\n",
       "      <td>0.000000</td>\n",
       "      <td>119.076948</td>\n",
       "      <td>8.189337</td>\n",
       "      <td>14.278214</td>\n",
       "    </tr>\n",
       "    <tr>\n",
       "      <th>1</th>\n",
       "      <td>129.762336</td>\n",
       "      <td>101.705615</td>\n",
       "      <td>100.536585</td>\n",
       "      <td>86.508224</td>\n",
       "      <td>115.733976</td>\n",
       "      <td>43.254112</td>\n",
       "      <td>3.507090</td>\n",
       "      <td>12.859331</td>\n",
       "      <td>143.790697</td>\n",
       "      <td>26.887691</td>\n",
       "      <td>...</td>\n",
       "      <td>0.000000</td>\n",
       "      <td>11.690301</td>\n",
       "      <td>3.507090</td>\n",
       "      <td>699.079973</td>\n",
       "      <td>4.676120</td>\n",
       "      <td>4.676120</td>\n",
       "      <td>0.000000</td>\n",
       "      <td>43.254112</td>\n",
       "      <td>4.427031</td>\n",
       "      <td>5.898225</td>\n",
       "    </tr>\n",
       "    <tr>\n",
       "      <th>2</th>\n",
       "      <td>164.301718</td>\n",
       "      <td>44.809559</td>\n",
       "      <td>224.047797</td>\n",
       "      <td>74.682599</td>\n",
       "      <td>418.222554</td>\n",
       "      <td>59.746079</td>\n",
       "      <td>14.936520</td>\n",
       "      <td>29.873040</td>\n",
       "      <td>59.746079</td>\n",
       "      <td>44.809559</td>\n",
       "      <td>...</td>\n",
       "      <td>0.000000</td>\n",
       "      <td>0.000000</td>\n",
       "      <td>0.000000</td>\n",
       "      <td>1015.683346</td>\n",
       "      <td>14.936520</td>\n",
       "      <td>14.936520</td>\n",
       "      <td>0.000000</td>\n",
       "      <td>74.682599</td>\n",
       "      <td>0.000000</td>\n",
       "      <td>7.468260</td>\n",
       "    </tr>\n",
       "    <tr>\n",
       "      <th>3</th>\n",
       "      <td>59.739434</td>\n",
       "      <td>78.805211</td>\n",
       "      <td>209.723546</td>\n",
       "      <td>59.739434</td>\n",
       "      <td>13.981570</td>\n",
       "      <td>15.252622</td>\n",
       "      <td>17.794725</td>\n",
       "      <td>21.607881</td>\n",
       "      <td>245.312997</td>\n",
       "      <td>80.076263</td>\n",
       "      <td>...</td>\n",
       "      <td>2.542104</td>\n",
       "      <td>8.897363</td>\n",
       "      <td>5.084207</td>\n",
       "      <td>613.918017</td>\n",
       "      <td>3.813155</td>\n",
       "      <td>1.271052</td>\n",
       "      <td>2.542104</td>\n",
       "      <td>25.421036</td>\n",
       "      <td>2.544497</td>\n",
       "      <td>6.368641</td>\n",
       "    </tr>\n",
       "    <tr>\n",
       "      <th>4</th>\n",
       "      <td>541.451089</td>\n",
       "      <td>162.435327</td>\n",
       "      <td>469.257610</td>\n",
       "      <td>78.209602</td>\n",
       "      <td>138.370834</td>\n",
       "      <td>18.048370</td>\n",
       "      <td>24.064493</td>\n",
       "      <td>18.048370</td>\n",
       "      <td>246.661052</td>\n",
       "      <td>54.145109</td>\n",
       "      <td>...</td>\n",
       "      <td>6.016123</td>\n",
       "      <td>0.000000</td>\n",
       "      <td>24.064493</td>\n",
       "      <td>776.079894</td>\n",
       "      <td>18.048370</td>\n",
       "      <td>0.000000</td>\n",
       "      <td>6.016123</td>\n",
       "      <td>138.370834</td>\n",
       "      <td>11.743981</td>\n",
       "      <td>0.000000</td>\n",
       "    </tr>\n",
       "  </tbody>\n",
       "</table>\n",
       "<p>5 rows × 29 columns</p>\n",
       "</div>"
      ],
      "text/plain": [
       "   BRONQUITE_ENFISEMA_E_OUTR_DOENÇ_PULM_OBSTR_CRÔNIC  \\\n",
       "0                                         205.305083   \n",
       "1                                         129.762336   \n",
       "2                                         164.301718   \n",
       "3                                          59.739434   \n",
       "4                                         541.451089   \n",
       "\n",
       "   COLELITÍASE_E_COLECISTITE  DIABETES_MELLITUS  DOENÇAS_DO_APÊNDICE  \\\n",
       "0                 205.305083         221.729490            24.636610   \n",
       "1                 101.705615         100.536585            86.508224   \n",
       "2                  44.809559         224.047797            74.682599   \n",
       "3                  78.805211         209.723546            59.739434   \n",
       "4                 162.435327         469.257610            78.209602   \n",
       "\n",
       "   DOENÇAS_RENAIS_TÚBULO-INTERSTICIAIS  FRATURA_DO_FÊMUR  \\\n",
       "0                           110.864745          8.212203   \n",
       "1                           115.733976         43.254112   \n",
       "2                           418.222554         59.746079   \n",
       "3                            13.981570         15.252622   \n",
       "4                           138.370834         18.048370   \n",
       "\n",
       "   FRATURA_DO_PESCOÇO_TÓRAX_OU_PELVE  INFARTO_AGUDO_DO_MIOCÁRDIO  \\\n",
       "0                           8.212203                   12.318305   \n",
       "1                           3.507090                   12.859331   \n",
       "2                          14.936520                   29.873040   \n",
       "3                          17.794725                   21.607881   \n",
       "4                          24.064493                   18.048370   \n",
       "\n",
       "   INSUFICIÊNCIA_CARDÍACA  INSUFICIÊNCIA_RENAL  ...  \\\n",
       "0              328.488133            16.424407  ...   \n",
       "1              143.790697            26.887691  ...   \n",
       "2               59.746079            44.809559  ...   \n",
       "3              245.312997            80.076263  ...   \n",
       "4              246.661052            54.145109  ...   \n",
       "\n",
       "   OUTRAS_NEOPLASIAS_MALIGNAS_DA_PELE  OUTROS_TRANSTRONOS_ARTICULARES  \\\n",
       "0                            8.212203                       12.318305   \n",
       "1                            0.000000                       11.690301   \n",
       "2                            0.000000                        0.000000   \n",
       "3                            2.542104                        8.897363   \n",
       "4                            6.016123                        0.000000   \n",
       "\n",
       "   PANCREATITE_AGUDA_E_OUTRAS_DOENÇAS_DO_PÂNCREAS  PARTO_ÚNICO_ESPONTÂNEO  \\\n",
       "0                                        4.106102              640.551860   \n",
       "1                                        3.507090              699.079973   \n",
       "2                                        0.000000             1015.683346   \n",
       "3                                        5.084207              613.918017   \n",
       "4                                       24.064493              776.079894   \n",
       "\n",
       "   TRANSTORNOS_DE_CONDUÇÃO_E_ARRITMIAS_CARDÍACAS  \\\n",
       "0                                      32.848813   \n",
       "1                                       4.676120   \n",
       "2                                      14.936520   \n",
       "3                                       3.813155   \n",
       "4                                      18.048370   \n",
       "\n",
       "   TRANSTORNOS_DE_HUMOR_[AFETIVOS]  \\\n",
       "0                         0.000000   \n",
       "1                         4.676120   \n",
       "2                        14.936520   \n",
       "3                         1.271052   \n",
       "4                         0.000000   \n",
       "\n",
       "   TRANST_MENTAIS_COMPORT_DEV_USO_OUTR_SUBST_PSICOAT  UROLITÍASE       RATE  \\\n",
       "0                                           0.000000  119.076948   8.189337   \n",
       "1                                           0.000000   43.254112   4.427031   \n",
       "2                                           0.000000   74.682599   0.000000   \n",
       "3                                           2.542104   25.421036   2.544497   \n",
       "4                                           6.016123  138.370834  11.743981   \n",
       "\n",
       "    PREVIOUS  \n",
       "0  14.278214  \n",
       "1   5.898225  \n",
       "2   7.468260  \n",
       "3   6.368641  \n",
       "4   0.000000  \n",
       "\n",
       "[5 rows x 29 columns]"
      ]
     },
     "execution_count": 5,
     "metadata": {},
     "output_type": "execute_result"
    }
   ],
   "source": [
    "disease = \"\"\n",
    "path = root + \"CSV/TabNet/Internacoes_Rate/\"\n",
    "\n",
    "suicide = pd.read_csv(root +'CSV/Suicide/suicide_rates_08_18.csv', index_col=0)\n",
    "\n",
    "years = [\"08\", \"09\", \"10\", \"11\", \"12\", \"13\", \"14\", \"15\", \"16\", \"17\", \"18\"]\n",
    "\n",
    "final_df = pd.DataFrame()\n",
    "selected_diseases = [\"UROLITÍASE\", \n",
    "                     \"TRANST_MENTAIS_COMPORT_DEV_USO_OUTR_SUBST_PSICOAT\", \n",
    "                     \"TRANSTORNOS_DE_HUMOR_[AFETIVOS]\", \n",
    "                     \"TRANSTORNOS_DE_CONDUÇÃO_E_ARRITMIAS_CARDÍACAS\", \n",
    "                     \"PARTO_ÚNICO_ESPONTÂNEO\", \n",
    "                     \"PANCREATITE_AGUDA_E_OUTRAS_DOENÇAS_DO_PÂNCREAS\", \n",
    "                     \"OUTROS_TRANSTRONOS_ARTICULARES\",\n",
    "                    \"OUTRAS_NEOPLASIAS_MALIGNAS_DA_PELE\",\n",
    "                    \"OUTRAS_DOENÇAS_DOS_INTESTINOS_E_PERITÔNIO\",\n",
    "                    \"OUTRAS_ANEMIAS\",\n",
    "                    \"NEOPL_MALIG_OUTR_LOCALIZ_MAL_DEF_SECUN_E_NÃO_ESPEC\",\n",
    "                    \"NEOPL_MALIG_JUNÇÃO_RETOSSIGM_RETO_ÂNUS_CANAL_ANAL\",\n",
    "                    \"NEOPLASIA_MALIGNA_DO_PÂNCREAS\",\n",
    "                    \"NEOPLASIA_MALIGNA_DO_ESÔFAGO\",\n",
    "                    \"NEOPLASIA_MALIGNA_DO_CÓLON\",\n",
    "                    \"NEOPLASIA_MALIGNA_DE_TRAQUÉIA_BRÔNQUIOS_E_PULMÕES\",\n",
    "                    \"LEPTOSPIROSE_NÃO_ESPECIFICADA\",\n",
    "                    \"INSUFICIÊNCIA_RENAL\",\n",
    "                    \"INSUFICIÊNCIA_CARDÍACA\",\n",
    "                    \"INFARTO_AGUDO_DO_MIOCÁRDIO\",\n",
    "                    \"FRATURA_DO_PESCOÇO_TÓRAX_OU_PELVE\", \n",
    "                     \"FRATURA_DO_FÊMUR\",\n",
    "                    \"DOENÇAS_RENAIS_TÚBULO-INTERSTICIAIS\",\n",
    "                    \"DOENÇAS_DO_APÊNDICE\",\n",
    "                    \"DIABETES_MELLITUS\",\n",
    "                    \"COLELITÍASE_E_COLECISTITE\",\n",
    "                    \"BRONQUITE_ENFISEMA_E_OUTR_DOENÇ_PULM_OBSTR_CRÔNIC\"]\n",
    "\n",
    "for i in range(1,len(years)-1):\n",
    "    col_year_suicide = \"RATE_\" + years[i+1]\n",
    "    col_year_prev = \"RATE_\" + years[i]\n",
    "    col_year_prev_prev = \"RATE_\" + years[i-1]\n",
    "    year_df = suicide[[col_year_prev,col_year_prev_prev,col_year_suicide, \"MUNCOD\"]].copy()\n",
    "    year_df = year_df.rename(columns={col_year_suicide: \"RATE\"})\n",
    "    year_df[\"PREVIOUS\"] = (year_df[col_year_prev] + year_df[col_year_prev_prev])/2\n",
    "    year_df = year_df.drop(columns=[col_year_prev,col_year_prev_prev])\n",
    "    for disease in selected_diseases:\n",
    "        col_year_disease = \"RATE_\" + years[i]\n",
    "        disease_df = pd.read_csv(path + disease + \".csv\", sep=',', index_col=0)\n",
    "        disease_df = disease_df[[col_year_disease, \"MUNCOD\"]]\n",
    "        disease_df = disease_df.rename(columns={col_year_disease: disease})\n",
    "        \n",
    "        year_df = pd.merge(disease_df, year_df, left_on=\"MUNCOD\", right_on=\"MUNCOD\", how='right')\n",
    "        \n",
    "    year_df = year_df.drop(\"MUNCOD\", axis=1)\n",
    "    final_df = pd.concat([final_df, year_df])\n",
    "\n",
    "final_df = final_df[(final_df[\"RATE\"] > 0) | (final_df[\"PREVIOUS\"] > 0)]\n",
    "final_df = final_df.fillna(0)\n",
    "final_df.head()"
   ]
  },
  {
   "cell_type": "code",
   "execution_count": 6,
   "metadata": {},
   "outputs": [
    {
     "data": {
      "text/plain": [
       "(39120, 29)"
      ]
     },
     "execution_count": 6,
     "metadata": {},
     "output_type": "execute_result"
    }
   ],
   "source": [
    "final_df.shape"
   ]
  },
  {
   "cell_type": "markdown",
   "metadata": {},
   "source": [
    "Define X and y"
   ]
  },
  {
   "cell_type": "code",
   "execution_count": 7,
   "metadata": {},
   "outputs": [],
   "source": [
    "X = final_df.drop(columns=[\"RATE\"])\n",
    "y = final_df[\"RATE\"]"
   ]
  },
  {
   "cell_type": "markdown",
   "metadata": {},
   "source": [
    "Split data into train and test sets"
   ]
  },
  {
   "cell_type": "code",
   "execution_count": 8,
   "metadata": {},
   "outputs": [],
   "source": [
    "from sklearn.model_selection import train_test_split\n",
    "X_train, X_test, y_train, y_test = train_test_split(X, y, test_size=0.33, random_state=42)"
   ]
  },
  {
   "cell_type": "code",
   "execution_count": 9,
   "metadata": {},
   "outputs": [],
   "source": [
    "# Bayesian Optimization\n",
    "def train_model(params):\n",
    "    n_estimators = params[0]\n",
    "    max_depth = params[1]\n",
    "    min_samples_leaf = params[2]\n",
    "    max_features = params[3]\n",
    "    \n",
    "    xf_train_params,xf_val,yf_train_params,yf_val = train_test_split(X_train,y_train,test_size=0.33)\n",
    "    \n",
    "    model = RandomForestRegressor(n_jobs=-1, random_state=42,n_estimators=n_estimators, \n",
    "                                  max_depth=max_depth,min_samples_leaf=min_samples_leaf,max_features=max_features)\n",
    "    \n",
    "    model.fit(xf_train_params,yf_train_params)\n",
    "    yf_pred = model.predict(xf_val)\n",
    "    \n",
    "    return np.sqrt(metrics.mean_squared_error(yf_val, yf_pred))\n",
    "\n",
    "space = [\n",
    "    (5,500), #n_estimators\n",
    "    (3,15), #max_depth\n",
    "    (2,100), #min_samples_leaf\n",
    "    (0.25,1.00) #max_features\n",
    "]\n",
    "\n",
    "from skopt import gp_minimize\n",
    "\n",
    "resultado_gp = gp_minimize(train_model, space, random_state=42, verbose=0, n_calls=30, n_random_starts=10)"
   ]
  },
  {
   "cell_type": "code",
   "execution_count": 10,
   "metadata": {},
   "outputs": [
    {
     "data": {
      "text/plain": [
       "[470, 3, 96, 0.7130775326589291]"
      ]
     },
     "execution_count": 10,
     "metadata": {},
     "output_type": "execute_result"
    }
   ],
   "source": [
    "resultado_gp.x"
   ]
  },
  {
   "cell_type": "markdown",
   "metadata": {},
   "source": [
    "Fit the RandomForest regression model"
   ]
  },
  {
   "cell_type": "code",
   "execution_count": 11,
   "metadata": {},
   "outputs": [
    {
     "data": {
      "text/plain": [
       "RandomForestRegressor(bootstrap=True, ccp_alpha=0.0, criterion='mse',\n",
       "                      max_depth=3, max_features=0.7130775326589291,\n",
       "                      max_leaf_nodes=None, max_samples=None,\n",
       "                      min_impurity_decrease=0.0, min_impurity_split=None,\n",
       "                      min_samples_leaf=96, min_samples_split=2,\n",
       "                      min_weight_fraction_leaf=0.0, n_estimators=470, n_jobs=-1,\n",
       "                      oob_score=False, random_state=42, verbose=0,\n",
       "                      warm_start=False)"
      ]
     },
     "execution_count": 11,
     "metadata": {},
     "output_type": "execute_result"
    }
   ],
   "source": [
    "regressor = RandomForestRegressor(n_jobs=-1, random_state=42,n_estimators=resultado_gp.x[0], \n",
    "                                  max_depth=resultado_gp.x[1],min_samples_leaf=resultado_gp.x[2],max_features=resultado_gp.x[3])\n",
    "regressor.fit(X_train,y_train)"
   ]
  },
  {
   "cell_type": "markdown",
   "metadata": {},
   "source": [
    "Calculate metrics corresponding to the regression model"
   ]
  },
  {
   "cell_type": "code",
   "execution_count": 12,
   "metadata": {},
   "outputs": [],
   "source": [
    "def calcMetrics(y_train, y_pred_train, y_test, y_pred):\n",
    "    print(\"Root Mean Squared Error Train: \" + str(np.sqrt(metrics.mean_squared_error(y_pred_train,y_train))))\n",
    "    print(\"Root Mean Squared Error Test: \" + str(np.sqrt(metrics.mean_squared_error(y_test,y_pred))))\n",
    "    #print(\"MAPE Test: \" + str(np.mean(np.abs((y_test - y_pred) / y_test)) * 100))\n",
    "def calcUpMetrics(y_pred,y_test,X_test):\n",
    "    up_df = pd.DataFrame({\"Pred\": y_pred, \"Real\": y_test, \"Previous\": X_test[\"PREVIOUS\"]})\n",
    "    up_df[\"UP\"] = up_df[\"Previous\"] < up_df[\"Real\"]\n",
    "    up_df[\"UP_PRED\"] = up_df[\"Previous\"] < up_df[\"Pred\"]\n",
    "    up_df[\"UP\"] = up_df[\"UP\"].astype(int)\n",
    "    up_df[\"UP_PRED\"] = up_df[\"UP_PRED\"].astype(int)\n",
    "    print(\"Accuracy UP/DOWN: \", metrics.accuracy_score(up_df[\"UP\"], up_df[\"UP_PRED\"]))"
   ]
  },
  {
   "cell_type": "code",
   "execution_count": 13,
   "metadata": {},
   "outputs": [
    {
     "name": "stdout",
     "output_type": "stream",
     "text": [
      "# Regression Model\n",
      "Root Mean Squared Error Train: 11.264555350506278\n",
      "Root Mean Squared Error Test: 11.240287391770098\n",
      "Accuracy UP/DOWN:  0.674593338497289\n"
     ]
    }
   ],
   "source": [
    "y_pred = regressor.predict(X_test) \n",
    "y_pred_train = regressor.predict(X_train)\n",
    "print(\"# Regression Model\")\n",
    "calcMetrics(y_train, y_pred_train, y_test, y_pred)\n",
    "calcUpMetrics(y_pred,y_test,X_test)"
   ]
  },
  {
   "cell_type": "markdown",
   "metadata": {},
   "source": [
    "We also define a baseline model consisting of predicting the previous year suicide rate"
   ]
  },
  {
   "cell_type": "code",
   "execution_count": 14,
   "metadata": {},
   "outputs": [
    {
     "name": "stdout",
     "output_type": "stream",
     "text": [
      "# Baseline Model\n",
      "Root Mean Squared Error Train: 15.031755934972722\n",
      "Root Mean Squared Error Test: 15.045528971082346\n"
     ]
    }
   ],
   "source": [
    "y_pred = X_test[\"PREVIOUS\"]\n",
    "y_pred_train = X_train[\"PREVIOUS\"]\n",
    "print(\"# Baseline Model\")\n",
    "calcMetrics(y_train, y_pred_train, y_test, y_pred)"
   ]
  },
  {
   "cell_type": "markdown",
   "metadata": {},
   "source": [
    "K-fold cross validation"
   ]
  },
  {
   "cell_type": "code",
   "execution_count": 15,
   "metadata": {},
   "outputs": [],
   "source": [
    "# from sklearn.model_selection import KFold\n",
    "\n",
    "# kf = KFold(n_splits=4)\n",
    "\n",
    "# rmse_regression = []\n",
    "# rmse_baseline = []\n",
    "# accuracy_up_down = []\n",
    "# for train_index, test_index in kf.split(X):\n",
    "#     X_train, X_test = X.iloc[train_index], X.iloc[test_index]\n",
    "#     y_train, y_test = y.iloc[train_index], y.iloc[test_index]\n",
    "    \n",
    "#     regressor = RandomForestRegressor(n_jobs=-1, random_state=42,n_estimators=resultado_gp.x[0], \n",
    "#                                   max_depth=resultado_gp.x[1],min_samples_leaf=resultado_gp.x[2],max_features=resultado_gp.x[3])\n",
    "\n",
    "#     regressor.fit(X_train,y_train)\n",
    "    \n",
    "#     rmse_regression.append(\n",
    "#         np.sqrt(metrics.mean_squared_error(regressor.predict(X_test),y_test))\n",
    "#     )\n",
    "    \n",
    "#     up_df = pd.DataFrame({\"Pred\": regressor.predict(X_test), \"Real\": y_test, \"Previous\": X_test[\"PREVIOUS\"]})\n",
    "#     up_df[\"UP\"] = up_df[\"Previous\"] < up_df[\"Real\"]\n",
    "#     up_df[\"UP_PRED\"] = up_df[\"Previous\"] < up_df[\"Pred\"]\n",
    "#     up_df[\"UP\"] = up_df[\"UP\"].astype(int)\n",
    "#     up_df[\"UP_PRED\"] = up_df[\"UP_PRED\"].astype(int)\n",
    "#     accuracy_up_down.append(metrics.accuracy_score(up_df[\"UP\"], up_df[\"UP_PRED\"]))\n",
    "    \n",
    "#     rmse_baseline.append(\n",
    "#         np.sqrt(metrics.mean_squared_error(X_test[\"PREVIOUS\"],y_test))\n",
    "#     )\n",
    "    \n",
    "# print(\"Mean RMSE for the regression model was:\", np.mean(rmse_regression))\n",
    "# print(\"Mean accuracy (up/down) for the regression model was:\", np.mean(accuracy_up_down))\n",
    "# print(\"Mean RMSE for the baseline model was:\", np.mean(rmse_baseline))"
   ]
  }
 ],
 "metadata": {
  "kernelspec": {
   "display_name": "Python 3",
   "language": "python",
   "name": "python3"
  },
  "language_info": {
   "codemirror_mode": {
    "name": "ipython",
    "version": 3
   },
   "file_extension": ".py",
   "mimetype": "text/x-python",
   "name": "python",
   "nbconvert_exporter": "python",
   "pygments_lexer": "ipython3",
   "version": "3.7.6"
  }
 },
 "nbformat": 4,
 "nbformat_minor": 4
}
