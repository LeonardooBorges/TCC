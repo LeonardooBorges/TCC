{
 "cells": [
  {
   "cell_type": "markdown",
   "metadata": {},
   "source": [
    "# Disease count data\n",
    "All data was extracted from the SIH database"
   ]
  },
  {
   "cell_type": "markdown",
   "metadata": {},
   "source": [
    "Import libraries"
   ]
  },
  {
   "cell_type": "code",
   "execution_count": 2,
   "metadata": {},
   "outputs": [],
   "source": [
    "import pandas as pd\n",
    "import glob\n",
    "root = '../'"
   ]
  },
  {
   "cell_type": "markdown",
   "metadata": {},
   "source": [
    "Convert raw data to formatted count data"
   ]
  },
  {
   "cell_type": "code",
   "execution_count": 21,
   "metadata": {},
   "outputs": [],
   "source": [
    "suffix = '_08_18.csv'\n",
    "path = root + 'CSV/TabNet/Raw/'\n",
    "all_files = glob.glob(path + \"*.csv\")\n",
    "for file in all_files:\n",
    "    file_name = file.split(\"\\\\\")[1]\n",
    "    disease = file_name.split(suffix)[0]\n",
    "    disease_df = pd.read_csv(path + file_name, sep=';')\n",
    "    disease_df['MUNCOD'] = disease_df['Município'].str.split(' ', expand=True)[0]\n",
    "    disease_df.drop(['Município', 'Total'], axis=1, inplace=True)\n",
    "    disease_df = disease_df.replace(\"-\", 0)\n",
    "    disease_df.to_csv(root + 'CSV/TabNet/Quantity/' + disease +'_COUNT_08_18.csv')"
   ]
  },
  {
   "cell_type": "markdown",
   "metadata": {},
   "source": [
    "# Disease rate data"
   ]
  },
  {
   "cell_type": "code",
   "execution_count": 35,
   "metadata": {},
   "outputs": [],
   "source": [
    "suffix = '_COUNT_08_18.csv'\n",
    "path = root + 'CSV/TabNet/Quantity/'\n",
    "all_files = glob.glob(path + \"*.csv\")\n",
    "population = pd.read_csv(root + 'CSV/Population/population_08_18.csv', index_col=[0])\n",
    "for file in all_files:\n",
    "    file_name = file.split(\"\\\\\")[1]\n",
    "    disease = file_name.split(suffix)[0]\n",
    "    disease_df = pd.read_csv(path + file_name,index_col=0)\n",
    "    df = pd.merge(population, disease_df, left_on=\"MUNCOD\", right_on=\"MUNCOD\")\n",
    "    for column in population.columns:\n",
    "        if column.split('_')[0] == \"POP\":\n",
    "            year = column.split('_')[1]\n",
    "            df['RATE_' + year] = df['20' + year]/df['POP_' + year] * 100000\n",
    "            df = df.drop(['20' + year, 'POP_' + year], axis=1)\n",
    "    df.to_csv(root + 'CSV/TabNet/Rates/' + disease +'_RATE_08_18.csv')"
   ]
  }
 ],
 "metadata": {
  "kernelspec": {
   "display_name": "Python 3",
   "language": "python",
   "name": "python3"
  },
  "language_info": {
   "codemirror_mode": {
    "name": "ipython",
    "version": 3
   },
   "file_extension": ".py",
   "mimetype": "text/x-python",
   "name": "python",
   "nbconvert_exporter": "python",
   "pygments_lexer": "ipython3",
   "version": "3.7.6"
  }
 },
 "nbformat": 4,
 "nbformat_minor": 4
}
