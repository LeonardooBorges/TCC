{
 "cells": [
  {
   "cell_type": "markdown",
   "metadata": {},
   "source": [
    "# SARIMAX\n",
    "https://towardsdatascience.com/time-series-forecasting-a-getting-started-guide-c435f9fa2216"
   ]
  },
  {
   "cell_type": "markdown",
   "metadata": {},
   "source": [
    "## 1 - Data Prep"
   ]
  },
  {
   "cell_type": "code",
   "execution_count": 1,
   "metadata": {},
   "outputs": [],
   "source": [
    "import pandas as pd\n",
    "import matplotlib.pyplot as plt\n",
    "import glob\n",
    "import numpy as np\n",
    "%matplotlib inline\n",
    "\n",
    "# Import Statsmodels\n",
    "from statsmodels.tsa.stattools import adfuller\n",
    "from statsmodels.tools.eval_measures import rmse, aic\n",
    "import statsmodels.api as sm"
   ]
  },
  {
   "cell_type": "code",
   "execution_count": 12,
   "metadata": {},
   "outputs": [],
   "source": [
    "root = \"../\"\n",
    "path = root + 'CSV/TabNet/Internacoes/'\n",
    "municipio = \"330455 Rio de Janeiro\"#\"292740 Salvador\"#\"270860 São Miguel dos Campos\"#\"355030 São Paulo\"\n",
    "all_files = glob.glob(path + \"*.csv\")\n",
    "df_diseases = pd.DataFrame()\n",
    "list_of_diseases = []\n",
    "for file in all_files:\n",
    "    file_name = file.split(\"\\\\\")[1]\n",
    "    disease = file_name.split(\".\")[0]\n",
    "    list_of_diseases.append(disease)\n",
    "    df_disease = pd.read_csv(path + file_name, sep=\";\")\n",
    "    df_disease = df_disease[df_disease[\"Município\"] == municipio]#\"330455 Rio de Janeiro\"]#\"292740 Salvador\"]#\"355030 São Paulo\"]\n",
    "    if not df_disease.empty:\n",
    "        df_disease= df_disease.filter(regex='2008|2009|2010|2011|2012|2013|2014|2015|2016|2017|2018', axis=1)\n",
    "        df_disease = df_disease.transpose()\n",
    "        df_disease.columns = [disease]\n",
    "        df_disease = df_disease.replace(\"-\",0)\n",
    "        df_disease = df_disease.astype(int)\n",
    "        df_diseases[disease] = df_disease[disease]\n",
    "df_diseases = df_diseases.fillna(0)"
   ]
  },
  {
   "cell_type": "code",
   "execution_count": 13,
   "metadata": {},
   "outputs": [
    {
     "data": {
      "text/html": [
       "<div>\n",
       "<style scoped>\n",
       "    .dataframe tbody tr th:only-of-type {\n",
       "        vertical-align: middle;\n",
       "    }\n",
       "\n",
       "    .dataframe tbody tr th {\n",
       "        vertical-align: top;\n",
       "    }\n",
       "\n",
       "    .dataframe thead th {\n",
       "        text-align: right;\n",
       "    }\n",
       "</style>\n",
       "<table border=\"1\" class=\"dataframe\">\n",
       "  <thead>\n",
       "    <tr style=\"text-align: right;\">\n",
       "      <th></th>\n",
       "      <th>ABORTO_ESPONTÂNEO</th>\n",
       "      <th>ABORTO_POR_RAZÕES_MÉDICAS</th>\n",
       "      <th>ACIDENTES_DE_TRANSPORTE</th>\n",
       "      <th>ACID_VASCULAR_CEREBR_ISQUÊM_TRANSIT_E_SÍNDR_CORREL</th>\n",
       "      <th>ACID_VASCULAR_CEREBR_NÃO_ESPEC_HEMORRÁG_OU_ISQUÊM</th>\n",
       "      <th>AFECÇ_HEMORRÁG_E_OUTR_DOENÇ_SANG_E_ÓRG_HEMATOPOÉT</th>\n",
       "      <th>AGRESSÕES</th>\n",
       "      <th>ALGUNS_TRANSTORNOS_ENVOLVENDO_MECANISMO_IMUNITÁRIO</th>\n",
       "      <th>AMEBÍASE</th>\n",
       "      <th>ANCILOSTOMÍASE</th>\n",
       "      <th>...</th>\n",
       "      <th>TUBERCULOSE_DO_SISTEMA_NERVOSO</th>\n",
       "      <th>TUBERCULOSE_MILIAR</th>\n",
       "      <th>TUBERCULOSE_PULMONAR</th>\n",
       "      <th>TUBERCULOSE_ÓSSEA_E_DAS_ARTICULAÇÕES</th>\n",
       "      <th>TUBERC_INTEST_PERITÔNIO_GLÂNGL_MESENTÉRICOS</th>\n",
       "      <th>TÉTANO_NEONATAL</th>\n",
       "      <th>UROLITÍASE</th>\n",
       "      <th>VARICELA_E_HERPES_ZOSTER</th>\n",
       "      <th>VEIAS_VARICOSAS_DAS_EXTREMIDADES_INFERIORES</th>\n",
       "      <th>ÚLCERA_GÁSTRICA_E_DUODENAL</th>\n",
       "    </tr>\n",
       "  </thead>\n",
       "  <tbody>\n",
       "    <tr>\n",
       "      <th>1/2008</th>\n",
       "      <td>192</td>\n",
       "      <td>1</td>\n",
       "      <td>0.0</td>\n",
       "      <td>26</td>\n",
       "      <td>106</td>\n",
       "      <td>29</td>\n",
       "      <td>0.0</td>\n",
       "      <td>0</td>\n",
       "      <td>0</td>\n",
       "      <td>0.0</td>\n",
       "      <td>...</td>\n",
       "      <td>0</td>\n",
       "      <td>1</td>\n",
       "      <td>84</td>\n",
       "      <td>0</td>\n",
       "      <td>0.0</td>\n",
       "      <td>0.0</td>\n",
       "      <td>53</td>\n",
       "      <td>2</td>\n",
       "      <td>37</td>\n",
       "      <td>12</td>\n",
       "    </tr>\n",
       "    <tr>\n",
       "      <th>2/2008</th>\n",
       "      <td>198</td>\n",
       "      <td>1</td>\n",
       "      <td>0.0</td>\n",
       "      <td>47</td>\n",
       "      <td>117</td>\n",
       "      <td>28</td>\n",
       "      <td>0.0</td>\n",
       "      <td>1</td>\n",
       "      <td>0</td>\n",
       "      <td>0.0</td>\n",
       "      <td>...</td>\n",
       "      <td>0</td>\n",
       "      <td>0</td>\n",
       "      <td>110</td>\n",
       "      <td>0</td>\n",
       "      <td>0.0</td>\n",
       "      <td>0.0</td>\n",
       "      <td>39</td>\n",
       "      <td>3</td>\n",
       "      <td>29</td>\n",
       "      <td>20</td>\n",
       "    </tr>\n",
       "    <tr>\n",
       "      <th>3/2008</th>\n",
       "      <td>210</td>\n",
       "      <td>1</td>\n",
       "      <td>0.0</td>\n",
       "      <td>36</td>\n",
       "      <td>124</td>\n",
       "      <td>37</td>\n",
       "      <td>0.0</td>\n",
       "      <td>1</td>\n",
       "      <td>1</td>\n",
       "      <td>0.0</td>\n",
       "      <td>...</td>\n",
       "      <td>0</td>\n",
       "      <td>2</td>\n",
       "      <td>127</td>\n",
       "      <td>0</td>\n",
       "      <td>0.0</td>\n",
       "      <td>0.0</td>\n",
       "      <td>66</td>\n",
       "      <td>6</td>\n",
       "      <td>35</td>\n",
       "      <td>5</td>\n",
       "    </tr>\n",
       "    <tr>\n",
       "      <th>4/2008</th>\n",
       "      <td>230</td>\n",
       "      <td>3</td>\n",
       "      <td>0.0</td>\n",
       "      <td>51</td>\n",
       "      <td>135</td>\n",
       "      <td>32</td>\n",
       "      <td>0.0</td>\n",
       "      <td>0</td>\n",
       "      <td>0</td>\n",
       "      <td>0.0</td>\n",
       "      <td>...</td>\n",
       "      <td>0</td>\n",
       "      <td>2</td>\n",
       "      <td>113</td>\n",
       "      <td>0</td>\n",
       "      <td>2.0</td>\n",
       "      <td>0.0</td>\n",
       "      <td>68</td>\n",
       "      <td>4</td>\n",
       "      <td>51</td>\n",
       "      <td>16</td>\n",
       "    </tr>\n",
       "    <tr>\n",
       "      <th>5/2008</th>\n",
       "      <td>258</td>\n",
       "      <td>9</td>\n",
       "      <td>0.0</td>\n",
       "      <td>59</td>\n",
       "      <td>154</td>\n",
       "      <td>33</td>\n",
       "      <td>1.0</td>\n",
       "      <td>1</td>\n",
       "      <td>0</td>\n",
       "      <td>0.0</td>\n",
       "      <td>...</td>\n",
       "      <td>1</td>\n",
       "      <td>3</td>\n",
       "      <td>161</td>\n",
       "      <td>0</td>\n",
       "      <td>0.0</td>\n",
       "      <td>0.0</td>\n",
       "      <td>53</td>\n",
       "      <td>4</td>\n",
       "      <td>34</td>\n",
       "      <td>19</td>\n",
       "    </tr>\n",
       "  </tbody>\n",
       "</table>\n",
       "<p>5 rows × 322 columns</p>\n",
       "</div>"
      ],
      "text/plain": [
       "        ABORTO_ESPONTÂNEO  ABORTO_POR_RAZÕES_MÉDICAS  ACIDENTES_DE_TRANSPORTE  \\\n",
       "1/2008                192                          1                      0.0   \n",
       "2/2008                198                          1                      0.0   \n",
       "3/2008                210                          1                      0.0   \n",
       "4/2008                230                          3                      0.0   \n",
       "5/2008                258                          9                      0.0   \n",
       "\n",
       "        ACID_VASCULAR_CEREBR_ISQUÊM_TRANSIT_E_SÍNDR_CORREL  \\\n",
       "1/2008                                                 26    \n",
       "2/2008                                                 47    \n",
       "3/2008                                                 36    \n",
       "4/2008                                                 51    \n",
       "5/2008                                                 59    \n",
       "\n",
       "        ACID_VASCULAR_CEREBR_NÃO_ESPEC_HEMORRÁG_OU_ISQUÊM  \\\n",
       "1/2008                                                106   \n",
       "2/2008                                                117   \n",
       "3/2008                                                124   \n",
       "4/2008                                                135   \n",
       "5/2008                                                154   \n",
       "\n",
       "        AFECÇ_HEMORRÁG_E_OUTR_DOENÇ_SANG_E_ÓRG_HEMATOPOÉT  AGRESSÕES  \\\n",
       "1/2008                                                 29        0.0   \n",
       "2/2008                                                 28        0.0   \n",
       "3/2008                                                 37        0.0   \n",
       "4/2008                                                 32        0.0   \n",
       "5/2008                                                 33        1.0   \n",
       "\n",
       "        ALGUNS_TRANSTORNOS_ENVOLVENDO_MECANISMO_IMUNITÁRIO  AMEBÍASE  \\\n",
       "1/2008                                                  0          0   \n",
       "2/2008                                                  1          0   \n",
       "3/2008                                                  1          1   \n",
       "4/2008                                                  0          0   \n",
       "5/2008                                                  1          0   \n",
       "\n",
       "        ANCILOSTOMÍASE  ...  TUBERCULOSE_DO_SISTEMA_NERVOSO  \\\n",
       "1/2008             0.0  ...                               0   \n",
       "2/2008             0.0  ...                               0   \n",
       "3/2008             0.0  ...                               0   \n",
       "4/2008             0.0  ...                               0   \n",
       "5/2008             0.0  ...                               1   \n",
       "\n",
       "        TUBERCULOSE_MILIAR  TUBERCULOSE_PULMONAR  \\\n",
       "1/2008                   1                    84   \n",
       "2/2008                   0                   110   \n",
       "3/2008                   2                   127   \n",
       "4/2008                   2                   113   \n",
       "5/2008                   3                   161   \n",
       "\n",
       "        TUBERCULOSE_ÓSSEA_E_DAS_ARTICULAÇÕES  \\\n",
       "1/2008                                     0   \n",
       "2/2008                                     0   \n",
       "3/2008                                     0   \n",
       "4/2008                                     0   \n",
       "5/2008                                     0   \n",
       "\n",
       "        TUBERC_INTEST_PERITÔNIO_GLÂNGL_MESENTÉRICOS  TÉTANO_NEONATAL  \\\n",
       "1/2008                                          0.0              0.0   \n",
       "2/2008                                          0.0              0.0   \n",
       "3/2008                                          0.0              0.0   \n",
       "4/2008                                          2.0              0.0   \n",
       "5/2008                                          0.0              0.0   \n",
       "\n",
       "        UROLITÍASE  VARICELA_E_HERPES_ZOSTER  \\\n",
       "1/2008          53                         2   \n",
       "2/2008          39                         3   \n",
       "3/2008          66                         6   \n",
       "4/2008          68                         4   \n",
       "5/2008          53                         4   \n",
       "\n",
       "        VEIAS_VARICOSAS_DAS_EXTREMIDADES_INFERIORES  \\\n",
       "1/2008                                           37   \n",
       "2/2008                                           29   \n",
       "3/2008                                           35   \n",
       "4/2008                                           51   \n",
       "5/2008                                           34   \n",
       "\n",
       "        ÚLCERA_GÁSTRICA_E_DUODENAL  \n",
       "1/2008                          12  \n",
       "2/2008                          20  \n",
       "3/2008                           5  \n",
       "4/2008                          16  \n",
       "5/2008                          19  \n",
       "\n",
       "[5 rows x 322 columns]"
      ]
     },
     "execution_count": 13,
     "metadata": {},
     "output_type": "execute_result"
    }
   ],
   "source": [
    "from datetime import datetime\n",
    "month_dic = {\n",
    "    \"Jan\": \"January\",\n",
    "    \"Fev\": \"February\",\n",
    "    \"Mar\": \"March\",\n",
    "    \"Abr\": \"April\",\n",
    "    \"Mai\": \"May\",\n",
    "    \"Jun\": \"June\",\n",
    "    \"Jul\": \"July\",\n",
    "    \"Ago\": \"August\",\n",
    "    \"Set\": \"September\",\n",
    "    \"Out\": \"October\",\n",
    "    \"Nov\": \"November\",\n",
    "    \"Dez\": \"December\"\n",
    "}\n",
    "indexes = []\n",
    "for i,e in enumerate(df_diseases.index): \n",
    "    ano = e.split(\"/\")[0]\n",
    "    mes = e.split(\"/\")[1]\n",
    "    month = month_dic[mes]\n",
    "    datetime_object = datetime.strptime(month, \"%B\")\n",
    "    indexes.append(str(datetime_object.month) + \"/\" + str(ano))\n",
    "df_diseases.index = indexes\n",
    "df_diseases.head()"
   ]
  },
  {
   "cell_type": "code",
   "execution_count": 14,
   "metadata": {},
   "outputs": [],
   "source": [
    "path = root + 'CSV/TabNet/Suicides/'\n",
    "all_files = glob.glob(path + \"*.csv\")\n",
    "df_suicides = pd.DataFrame()\n",
    "list_of_years = []\n",
    "for file in all_files:\n",
    "    file_name = file.split(\"\\\\\")[1]\n",
    "    year = file_name.split(\"_\")[1].split(\".\")[0]\n",
    "    list_of_years.append(year)\n",
    "    df_year = pd.read_csv(path + file_name, sep=\";\")\n",
    "    df_year = df_year.replace(\"-\",0)\n",
    "    df_year = df_year[df_year[\"Município\"] == municipio]\n",
    "    df_year = df_year.drop(columns=[\"Município\", \"Total\"])\n",
    "    if not df_year.empty:\n",
    "        df_year = df_year.transpose()\n",
    "        df_year.columns = [\"SUICIDE\"]\n",
    "        df_year = df_year.astype(int)\n",
    "        df_year.index = df_year.index + \"/\" + year\n",
    "        df_suicides = pd.concat([df_suicides, df_year])"
   ]
  },
  {
   "cell_type": "code",
   "execution_count": 15,
   "metadata": {},
   "outputs": [
    {
     "data": {
      "text/html": [
       "<div>\n",
       "<style scoped>\n",
       "    .dataframe tbody tr th:only-of-type {\n",
       "        vertical-align: middle;\n",
       "    }\n",
       "\n",
       "    .dataframe tbody tr th {\n",
       "        vertical-align: top;\n",
       "    }\n",
       "\n",
       "    .dataframe thead th {\n",
       "        text-align: right;\n",
       "    }\n",
       "</style>\n",
       "<table border=\"1\" class=\"dataframe\">\n",
       "  <thead>\n",
       "    <tr style=\"text-align: right;\">\n",
       "      <th></th>\n",
       "      <th>SUICIDE</th>\n",
       "    </tr>\n",
       "  </thead>\n",
       "  <tbody>\n",
       "    <tr>\n",
       "      <th>1/2008</th>\n",
       "      <td>8</td>\n",
       "    </tr>\n",
       "    <tr>\n",
       "      <th>2/2008</th>\n",
       "      <td>6</td>\n",
       "    </tr>\n",
       "    <tr>\n",
       "      <th>3/2008</th>\n",
       "      <td>15</td>\n",
       "    </tr>\n",
       "    <tr>\n",
       "      <th>4/2008</th>\n",
       "      <td>13</td>\n",
       "    </tr>\n",
       "    <tr>\n",
       "      <th>5/2008</th>\n",
       "      <td>12</td>\n",
       "    </tr>\n",
       "  </tbody>\n",
       "</table>\n",
       "</div>"
      ],
      "text/plain": [
       "        SUICIDE\n",
       "1/2008        8\n",
       "2/2008        6\n",
       "3/2008       15\n",
       "4/2008       13\n",
       "5/2008       12"
      ]
     },
     "execution_count": 15,
     "metadata": {},
     "output_type": "execute_result"
    }
   ],
   "source": [
    "from datetime import datetime\n",
    "month_dic = {\n",
    "    \"Janeiro\": \"January\",\n",
    "    \"Fevereiro\": \"February\",\n",
    "    \"Março\": \"March\",\n",
    "    \"Abril\": \"April\",\n",
    "    \"Maio\": \"May\",\n",
    "    \"Junho\": \"June\",\n",
    "    \"Julho\": \"July\",\n",
    "    \"Agosto\": \"August\",\n",
    "    \"Setembro\": \"September\",\n",
    "    \"Outubro\": \"October\",\n",
    "    \"Novembro\": \"November\",\n",
    "    \"Dezembro\": \"December\"\n",
    "}\n",
    "indexes = []\n",
    "for i,e in enumerate(df_suicides.index): \n",
    "    mes = e.split(\"/\")[0]\n",
    "    ano = e.split(\"/\")[1]\n",
    "    month = month_dic[mes]\n",
    "    datetime_object = datetime.strptime(month, \"%B\")\n",
    "    indexes.append(str(datetime_object.month) + \"/\" + str(ano))\n",
    "df_suicides.index = indexes\n",
    "df_suicides.head()"
   ]
  },
  {
   "cell_type": "markdown",
   "metadata": {},
   "source": [
    "For now we will only use some of the diseases' data"
   ]
  },
  {
   "cell_type": "code",
   "execution_count": 16,
   "metadata": {},
   "outputs": [
    {
     "data": {
      "text/html": [
       "<div>\n",
       "<style scoped>\n",
       "    .dataframe tbody tr th:only-of-type {\n",
       "        vertical-align: middle;\n",
       "    }\n",
       "\n",
       "    .dataframe tbody tr th {\n",
       "        vertical-align: top;\n",
       "    }\n",
       "\n",
       "    .dataframe thead th {\n",
       "        text-align: right;\n",
       "    }\n",
       "</style>\n",
       "<table border=\"1\" class=\"dataframe\">\n",
       "  <thead>\n",
       "    <tr style=\"text-align: right;\">\n",
       "      <th></th>\n",
       "      <th>TRANSTORNOS_DE_HUMOR_[AFETIVOS]</th>\n",
       "      <th>TRANST_MENTAIS_E_COMPORTAMENTAIS_DEV_USO_DE_ÁLCOOL</th>\n",
       "      <th>NEOPLASIA_MALIGNA_DO_CÓLON</th>\n",
       "      <th>NEOPLASIA_MALIGNA_DE_TRAQUÉIA_BRÔNQUIOS_E_PULMÕES</th>\n",
       "      <th>TRANST_MENTAIS_COMPORT_DEV_USO_OUTR_SUBST_PSICOAT</th>\n",
       "      <th>BRONQUITE_ENFISEMA_E_OUTR_DOENÇ_PULM_OBSTR_CRÔNIC</th>\n",
       "      <th>SUICIDE</th>\n",
       "    </tr>\n",
       "  </thead>\n",
       "  <tbody>\n",
       "    <tr>\n",
       "      <th>1/2008</th>\n",
       "      <td>171</td>\n",
       "      <td>152</td>\n",
       "      <td>50</td>\n",
       "      <td>47</td>\n",
       "      <td>141</td>\n",
       "      <td>49</td>\n",
       "      <td>8</td>\n",
       "    </tr>\n",
       "    <tr>\n",
       "      <th>2/2008</th>\n",
       "      <td>104</td>\n",
       "      <td>57</td>\n",
       "      <td>46</td>\n",
       "      <td>51</td>\n",
       "      <td>60</td>\n",
       "      <td>50</td>\n",
       "      <td>6</td>\n",
       "    </tr>\n",
       "    <tr>\n",
       "      <th>3/2008</th>\n",
       "      <td>110</td>\n",
       "      <td>70</td>\n",
       "      <td>43</td>\n",
       "      <td>68</td>\n",
       "      <td>61</td>\n",
       "      <td>48</td>\n",
       "      <td>15</td>\n",
       "    </tr>\n",
       "    <tr>\n",
       "      <th>4/2008</th>\n",
       "      <td>133</td>\n",
       "      <td>67</td>\n",
       "      <td>50</td>\n",
       "      <td>49</td>\n",
       "      <td>85</td>\n",
       "      <td>69</td>\n",
       "      <td>13</td>\n",
       "    </tr>\n",
       "    <tr>\n",
       "      <th>5/2008</th>\n",
       "      <td>125</td>\n",
       "      <td>62</td>\n",
       "      <td>55</td>\n",
       "      <td>60</td>\n",
       "      <td>89</td>\n",
       "      <td>66</td>\n",
       "      <td>12</td>\n",
       "    </tr>\n",
       "  </tbody>\n",
       "</table>\n",
       "</div>"
      ],
      "text/plain": [
       "        TRANSTORNOS_DE_HUMOR_[AFETIVOS]  \\\n",
       "1/2008                              171   \n",
       "2/2008                              104   \n",
       "3/2008                              110   \n",
       "4/2008                              133   \n",
       "5/2008                              125   \n",
       "\n",
       "        TRANST_MENTAIS_E_COMPORTAMENTAIS_DEV_USO_DE_ÁLCOOL  \\\n",
       "1/2008                                                152    \n",
       "2/2008                                                 57    \n",
       "3/2008                                                 70    \n",
       "4/2008                                                 67    \n",
       "5/2008                                                 62    \n",
       "\n",
       "        NEOPLASIA_MALIGNA_DO_CÓLON  \\\n",
       "1/2008                          50   \n",
       "2/2008                          46   \n",
       "3/2008                          43   \n",
       "4/2008                          50   \n",
       "5/2008                          55   \n",
       "\n",
       "        NEOPLASIA_MALIGNA_DE_TRAQUÉIA_BRÔNQUIOS_E_PULMÕES  \\\n",
       "1/2008                                                 47   \n",
       "2/2008                                                 51   \n",
       "3/2008                                                 68   \n",
       "4/2008                                                 49   \n",
       "5/2008                                                 60   \n",
       "\n",
       "        TRANST_MENTAIS_COMPORT_DEV_USO_OUTR_SUBST_PSICOAT  \\\n",
       "1/2008                                                141   \n",
       "2/2008                                                 60   \n",
       "3/2008                                                 61   \n",
       "4/2008                                                 85   \n",
       "5/2008                                                 89   \n",
       "\n",
       "        BRONQUITE_ENFISEMA_E_OUTR_DOENÇ_PULM_OBSTR_CRÔNIC  SUICIDE  \n",
       "1/2008                                                 49        8  \n",
       "2/2008                                                 50        6  \n",
       "3/2008                                                 48       15  \n",
       "4/2008                                                 69       13  \n",
       "5/2008                                                 66       12  "
      ]
     },
     "execution_count": 16,
     "metadata": {},
     "output_type": "execute_result"
    }
   ],
   "source": [
    "df = df_diseases.copy()\n",
    "df[\"SUICIDE\"] = df_suicides[\"SUICIDE\"]\n",
    "#chosen = [\"TRANSTORNOS_DE_HUMOR_[AFETIVOS]\", \"TRANST_MENTAIS_E_COMPORTAMENTAIS_DEV_USO_DE_ÁLCOOL\", \"NEOPLASIA_MALIGNA_DO_CÓLON\", \"NEOPL_MALIG_JUNÇÃO_RETOSSIGM_RETO_ÂNUS_CANAL_ANAL\", \"BRONQUITE_ENFISEMA_E_OUTR_DOENÇ_PULM_OBSTR_CRÔNIC\", \"SUICIDE\"]\n",
    "chosen = ['TRANSTORNOS_DE_HUMOR_[AFETIVOS]',\n",
    " 'TRANST_MENTAIS_E_COMPORTAMENTAIS_DEV_USO_DE_ÁLCOOL',\n",
    " 'NEOPLASIA_MALIGNA_DO_CÓLON',\n",
    " 'NEOPLASIA_MALIGNA_DE_TRAQUÉIA_BRÔNQUIOS_E_PULMÕES',\n",
    " 'TRANST_MENTAIS_COMPORT_DEV_USO_OUTR_SUBST_PSICOAT',\n",
    " 'BRONQUITE_ENFISEMA_E_OUTR_DOENÇ_PULM_OBSTR_CRÔNIC',\n",
    "#  'NEOPL_MALIG_JUNÇÃO_RETOSSIGM_RETO_ÂNUS_CANAL_ANAL',\n",
    "#  'OUTRAS_NEOPLASIAS_MALIGNAS_DA_PELE',\n",
    "#  'TRANSTORNOS_DE_CONDUÇÃO_E_ARRITMIAS_CARDÍACAS',\n",
    "#  'FLEBITE_TROMBOFLEBITE_EMBOLIA_E_TROMBOSE_VENOSA',\n",
    "#  'OUTRAS_DOENÇAS_ISQUÊMICAS_DO_CORAÇÃO',\n",
    "#  'TRANSTORNOS_DOS_NERVOS_RAÍZES_E_PLEXOS_NERVOSOS',\n",
    "#  'NEOPL_MALIG_OUTR_LOCALIZ_MAL_DEF_SECUN_E_NÃO_ESPEC',\n",
    "#  'DOENÇAS_DO_APÊNDICE',\n",
    "#  'COLELITÍASE_E_COLECISTITE',\n",
    "#  'NEOPLASIA_MALIGNA_DO_ESÔFAGO',\n",
    "#  'OUTROS_TRANSTRONOS_ARTICULARES',\n",
    "#  'UROLITÍASE',\n",
    "#  'PANCREATITE_AGUDA_E_OUTRAS_DOENÇAS_DO_PÂNCREAS',\n",
    "#  'TRANSTORNOS_DA_DENSIDADE_E_DA_ESTRUTURA_ÓSSEAS', \n",
    "          'SUICIDE']\n",
    "df = df[chosen]\n",
    "df.head()"
   ]
  },
  {
   "cell_type": "code",
   "execution_count": 17,
   "metadata": {},
   "outputs": [],
   "source": [
    "df.index = pd.to_datetime(df.index)\n",
    "index = pd.date_range(start=df.index.min(), end=df.index.max(), freq='MS')\n",
    "df = df.reindex(index)"
   ]
  },
  {
   "cell_type": "code",
   "execution_count": 28,
   "metadata": {},
   "outputs": [],
   "source": [
    "nobs = 8\n",
    "df_train, df_test = df[\"SUICIDE\"][0:-nobs], df[\"SUICIDE\"][-nobs:]"
   ]
  },
  {
   "cell_type": "code",
   "execution_count": null,
   "metadata": {},
   "outputs": [],
   "source": [
    "#we use tra.diff()(differenced data), because this time series is unit root process.\n",
    "fig,ax = plt.subplots(2,1,figsize=(20,10))\n",
    "fig = sm.graphics.tsa.plot_acf(df_train.diff().dropna(), lags=50, ax=ax[0])\n",
    "fig = sm.graphics.tsa.plot_pacf(df_train.diff().dropna(), lags=50, ax=ax[1])\n",
    "plt.show()"
   ]
  },
  {
   "cell_type": "code",
   "execution_count": 29,
   "metadata": {
    "scrolled": true
   },
   "outputs": [
    {
     "name": "stderr",
     "output_type": "stream",
     "text": [
      "C:\\Users\\pypas\\anaconda3\\envs\\ML\\lib\\site-packages\\statsmodels\\base\\model.py:548: HessianInversionWarning: Inverting hessian failed, no bse or cov_params available\n",
      "  'available', HessianInversionWarning)\n",
      "C:\\Users\\pypas\\anaconda3\\envs\\ML\\lib\\site-packages\\statsmodels\\base\\model.py:548: HessianInversionWarning: Inverting hessian failed, no bse or cov_params available\n",
      "  'available', HessianInversionWarning)\n",
      "C:\\Users\\pypas\\anaconda3\\envs\\ML\\lib\\site-packages\\statsmodels\\base\\model.py:548: HessianInversionWarning: Inverting hessian failed, no bse or cov_params available\n",
      "  'available', HessianInversionWarning)\n",
      "C:\\Users\\pypas\\anaconda3\\envs\\ML\\lib\\site-packages\\statsmodels\\base\\model.py:568: ConvergenceWarning: Maximum Likelihood optimization failed to converge. Check mle_retvals\n",
      "  \"Check mle_retvals\", ConvergenceWarning)\n",
      "C:\\Users\\pypas\\anaconda3\\envs\\ML\\lib\\site-packages\\statsmodels\\base\\model.py:548: HessianInversionWarning: Inverting hessian failed, no bse or cov_params available\n",
      "  'available', HessianInversionWarning)\n",
      "C:\\Users\\pypas\\anaconda3\\envs\\ML\\lib\\site-packages\\statsmodels\\base\\model.py:548: HessianInversionWarning: Inverting hessian failed, no bse or cov_params available\n",
      "  'available', HessianInversionWarning)\n",
      "C:\\Users\\pypas\\anaconda3\\envs\\ML\\lib\\site-packages\\statsmodels\\tsa\\tsatools.py:714: RuntimeWarning: invalid value encountered in double_scalars\n",
      "  tmp[kiter] = (macoefs[kiter]-b *macoefs[j-kiter-1])/(1-b**2)\n",
      "C:\\Users\\pypas\\anaconda3\\envs\\ML\\lib\\site-packages\\statsmodels\\tsa\\tsatools.py:716: RuntimeWarning: divide by zero encountered in log\n",
      "  invmacoefs = -np.log((1-macoefs)/(1+macoefs))\n",
      "C:\\Users\\pypas\\anaconda3\\envs\\ML\\lib\\site-packages\\statsmodels\\base\\model.py:548: HessianInversionWarning: Inverting hessian failed, no bse or cov_params available\n",
      "  'available', HessianInversionWarning)\n",
      "C:\\Users\\pypas\\anaconda3\\envs\\ML\\lib\\site-packages\\statsmodels\\base\\model.py:568: ConvergenceWarning: Maximum Likelihood optimization failed to converge. Check mle_retvals\n",
      "  \"Check mle_retvals\", ConvergenceWarning)\n",
      "C:\\Users\\pypas\\anaconda3\\envs\\ML\\lib\\site-packages\\statsmodels\\base\\model.py:548: HessianInversionWarning: Inverting hessian failed, no bse or cov_params available\n",
      "  'available', HessianInversionWarning)\n"
     ]
    },
    {
     "name": "stdout",
     "output_type": "stream",
     "text": [
      "ARMA(p,q) = (3, 2) is the best.\n"
     ]
    }
   ],
   "source": [
    "resDiff = sm.tsa.arma_order_select_ic(df_train, max_ar=5, max_ma=5, ic='aic', trend='c')\n",
    "print('ARMA(p,q) =',resDiff['aic_min_order'],'is the best.')"
   ]
  },
  {
   "cell_type": "code",
   "execution_count": 30,
   "metadata": {},
   "outputs": [],
   "source": [
    "ar = resDiff['aic_min_order'][0]\n",
    "ma = resDiff['aic_min_order'][1]"
   ]
  },
  {
   "cell_type": "code",
   "execution_count": 21,
   "metadata": {},
   "outputs": [
    {
     "name": "stdout",
     "output_type": "stream",
     "text": [
      "p-value:4.703838606958051e-14\n"
     ]
    }
   ],
   "source": [
    "res = sm.tsa.adfuller(df['SUICIDE'].dropna(),regression='ct')\n",
    "print('p-value:{}'.format(res[1]))"
   ]
  },
  {
   "cell_type": "markdown",
   "metadata": {},
   "source": [
    "# Arima"
   ]
  },
  {
   "cell_type": "code",
   "execution_count": 31,
   "metadata": {},
   "outputs": [
    {
     "data": {
      "text/html": [
       "<table class=\"simpletable\">\n",
       "<caption>SARIMAX Results</caption>\n",
       "<tr>\n",
       "  <th>Dep. Variable:</th>        <td>SUICIDE</td>     <th>  No. Observations:  </th>    <td>124</td>  \n",
       "</tr>\n",
       "<tr>\n",
       "  <th>Model:</th>           <td>SARIMAX(3, 1, 2)</td> <th>  Log Likelihood     </th> <td>-345.001</td>\n",
       "</tr>\n",
       "<tr>\n",
       "  <th>Date:</th>            <td>Wed, 09 Sep 2020</td> <th>  AIC                </th>  <td>702.001</td>\n",
       "</tr>\n",
       "<tr>\n",
       "  <th>Time:</th>                <td>18:27:21</td>     <th>  BIC                </th>  <td>718.726</td>\n",
       "</tr>\n",
       "<tr>\n",
       "  <th>Sample:</th>             <td>01-01-2008</td>    <th>  HQIC               </th>  <td>708.793</td>\n",
       "</tr>\n",
       "<tr>\n",
       "  <th></th>                   <td>- 04-01-2018</td>   <th>                     </th>     <td> </td>   \n",
       "</tr>\n",
       "<tr>\n",
       "  <th>Covariance Type:</th>        <td>opg</td>       <th>                     </th>     <td> </td>   \n",
       "</tr>\n",
       "</table>\n",
       "<table class=\"simpletable\">\n",
       "<tr>\n",
       "     <td></td>       <th>coef</th>     <th>std err</th>      <th>z</th>      <th>P>|z|</th>  <th>[0.025</th>    <th>0.975]</th>  \n",
       "</tr>\n",
       "<tr>\n",
       "  <th>ar.L1</th>  <td>    0.9671</td> <td>    0.099</td> <td>    9.813</td> <td> 0.000</td> <td>    0.774</td> <td>    1.160</td>\n",
       "</tr>\n",
       "<tr>\n",
       "  <th>ar.L2</th>  <td>   -0.3164</td> <td>    0.096</td> <td>   -3.305</td> <td> 0.001</td> <td>   -0.504</td> <td>   -0.129</td>\n",
       "</tr>\n",
       "<tr>\n",
       "  <th>ar.L3</th>  <td>   -0.0107</td> <td>    0.028</td> <td>   -0.386</td> <td> 0.699</td> <td>   -0.065</td> <td>    0.043</td>\n",
       "</tr>\n",
       "<tr>\n",
       "  <th>ma.L1</th>  <td>   -1.8304</td> <td>    0.046</td> <td>  -39.378</td> <td> 0.000</td> <td>   -1.922</td> <td>   -1.739</td>\n",
       "</tr>\n",
       "<tr>\n",
       "  <th>ma.L2</th>  <td>    0.9342</td> <td>    0.043</td> <td>   21.507</td> <td> 0.000</td> <td>    0.849</td> <td>    1.019</td>\n",
       "</tr>\n",
       "<tr>\n",
       "  <th>sigma2</th> <td>   17.5714</td> <td>    2.347</td> <td>    7.487</td> <td> 0.000</td> <td>   12.972</td> <td>   22.171</td>\n",
       "</tr>\n",
       "</table>\n",
       "<table class=\"simpletable\">\n",
       "<tr>\n",
       "  <th>Ljung-Box (Q):</th>          <td>34.38</td> <th>  Jarque-Bera (JB):  </th> <td>1.60</td>\n",
       "</tr>\n",
       "<tr>\n",
       "  <th>Prob(Q):</th>                <td>0.72</td>  <th>  Prob(JB):          </th> <td>0.45</td>\n",
       "</tr>\n",
       "<tr>\n",
       "  <th>Heteroskedasticity (H):</th> <td>1.78</td>  <th>  Skew:              </th> <td>0.27</td>\n",
       "</tr>\n",
       "<tr>\n",
       "  <th>Prob(H) (two-sided):</th>    <td>0.07</td>  <th>  Kurtosis:          </th> <td>2.83</td>\n",
       "</tr>\n",
       "</table><br/><br/>Warnings:<br/>[1] Covariance matrix calculated using the outer product of gradients (complex-step)."
      ],
      "text/plain": [
       "<class 'statsmodels.iolib.summary.Summary'>\n",
       "\"\"\"\n",
       "                               SARIMAX Results                                \n",
       "==============================================================================\n",
       "Dep. Variable:                SUICIDE   No. Observations:                  124\n",
       "Model:               SARIMAX(3, 1, 2)   Log Likelihood                -345.001\n",
       "Date:                Wed, 09 Sep 2020   AIC                            702.001\n",
       "Time:                        18:27:21   BIC                            718.726\n",
       "Sample:                    01-01-2008   HQIC                           708.793\n",
       "                         - 04-01-2018                                         \n",
       "Covariance Type:                  opg                                         \n",
       "==============================================================================\n",
       "                 coef    std err          z      P>|z|      [0.025      0.975]\n",
       "------------------------------------------------------------------------------\n",
       "ar.L1          0.9671      0.099      9.813      0.000       0.774       1.160\n",
       "ar.L2         -0.3164      0.096     -3.305      0.001      -0.504      -0.129\n",
       "ar.L3         -0.0107      0.028     -0.386      0.699      -0.065       0.043\n",
       "ma.L1         -1.8304      0.046    -39.378      0.000      -1.922      -1.739\n",
       "ma.L2          0.9342      0.043     21.507      0.000       0.849       1.019\n",
       "sigma2        17.5714      2.347      7.487      0.000      12.972      22.171\n",
       "===================================================================================\n",
       "Ljung-Box (Q):                       34.38   Jarque-Bera (JB):                 1.60\n",
       "Prob(Q):                              0.72   Prob(JB):                         0.45\n",
       "Heteroskedasticity (H):               1.78   Skew:                             0.27\n",
       "Prob(H) (two-sided):                  0.07   Kurtosis:                         2.83\n",
       "===================================================================================\n",
       "\n",
       "Warnings:\n",
       "[1] Covariance matrix calculated using the outer product of gradients (complex-step).\n",
       "\"\"\""
      ]
     },
     "execution_count": 31,
     "metadata": {},
     "output_type": "execute_result"
    }
   ],
   "source": [
    "arima = sm.tsa.statespace.SARIMAX(df_train,order=(ar,1,ma),freq=\"MS\",seasonal_order=(0,0,0,0),\n",
    "                                 enforce_stationarity=False, enforce_invertibility=False,).fit()\n",
    "arima.summary()"
   ]
  },
  {
   "cell_type": "code",
   "execution_count": null,
   "metadata": {},
   "outputs": [],
   "source": [
    "res = arima.resid\n",
    "fig,ax = plt.subplots(2,1,figsize=(15,8))\n",
    "fig = sm.graphics.tsa.plot_acf(res, lags=50, ax=ax[0])\n",
    "fig = sm.graphics.tsa.plot_pacf(res, lags=50, ax=ax[1])\n",
    "plt.show()"
   ]
  },
  {
   "cell_type": "code",
   "execution_count": 32,
   "metadata": {},
   "outputs": [
    {
     "name": "stdout",
     "output_type": "stream",
     "text": [
      "ARIMA model MSE:20.209086781101266\n"
     ]
    },
    {
     "data": {
      "image/png": "[encoded data removed]",
      "text/plain": [
       "<Figure size 432x288 with 1 Axes>"
      ]
     },
     "metadata": {
      "needs_background": "light"
     },
     "output_type": "display_data"
    }
   ],
   "source": [
    "from sklearn.metrics import mean_squared_error\n",
    "pred = arima.predict(df_train.index[0],df_train.index[-1])\n",
    "print('ARIMA model MSE:{}'.format(mean_squared_error(df_train,pred)))\n",
    "pd.DataFrame({'test':df_train,'pred':pred}).plot();plt.show()"
   ]
  },
  {
   "cell_type": "code",
   "execution_count": 33,
   "metadata": {},
   "outputs": [
    {
     "name": "stdout",
     "output_type": "stream",
     "text": [
      "ARIMA model MSE:15.388362564573669\n"
     ]
    },
    {
     "data": {
      "image/png": "[encoded data removed]",
      "text/plain": [
       "<Figure size 432x288 with 1 Axes>"
      ]
     },
     "metadata": {
      "needs_background": "light"
     },
     "output_type": "display_data"
    }
   ],
   "source": [
    "pred = arima.predict(df_test.index[0],df_test.index[-1])\n",
    "print('ARIMA model MSE:{}'.format(mean_squared_error(df_test,pred)))\n",
    "pd.DataFrame({'test':df_test,'pred':pred}).plot();plt.show()"
   ]
  },
  {
   "cell_type": "markdown",
   "metadata": {},
   "source": [
    "# Arimax"
   ]
  },
  {
   "cell_type": "code",
   "execution_count": 34,
   "metadata": {},
   "outputs": [
    {
     "data": {
      "text/html": [
       "<table class=\"simpletable\">\n",
       "<caption>SARIMAX Results</caption>\n",
       "<tr>\n",
       "  <th>Dep. Variable:</th>        <td>SUICIDE</td>     <th>  No. Observations:  </th>    <td>124</td>  \n",
       "</tr>\n",
       "<tr>\n",
       "  <th>Model:</th>           <td>SARIMAX(3, 1, 2)</td> <th>  Log Likelihood     </th> <td>-345.150</td>\n",
       "</tr>\n",
       "<tr>\n",
       "  <th>Date:</th>            <td>Wed, 09 Sep 2020</td> <th>  AIC                </th>  <td>714.301</td>\n",
       "</tr>\n",
       "<tr>\n",
       "  <th>Time:</th>                <td>18:27:30</td>     <th>  BIC                </th>  <td>747.751</td>\n",
       "</tr>\n",
       "<tr>\n",
       "  <th>Sample:</th>             <td>01-01-2008</td>    <th>  HQIC               </th>  <td>727.885</td>\n",
       "</tr>\n",
       "<tr>\n",
       "  <th></th>                   <td>- 04-01-2018</td>   <th>                     </th>     <td> </td>   \n",
       "</tr>\n",
       "<tr>\n",
       "  <th>Covariance Type:</th>        <td>opg</td>       <th>                     </th>     <td> </td>   \n",
       "</tr>\n",
       "</table>\n",
       "<table class=\"simpletable\">\n",
       "<tr>\n",
       "                           <td></td>                             <th>coef</th>     <th>std err</th>      <th>z</th>      <th>P>|z|</th>  <th>[0.025</th>    <th>0.975]</th>  \n",
       "</tr>\n",
       "<tr>\n",
       "  <th>TRANSTORNOS_DE_HUMOR_[AFETIVOS]</th>                    <td>    0.0097</td> <td>    0.033</td> <td>    0.295</td> <td> 0.768</td> <td>   -0.055</td> <td>    0.075</td>\n",
       "</tr>\n",
       "<tr>\n",
       "  <th>TRANST_MENTAIS_E_COMPORTAMENTAIS_DEV_USO_DE_ÁLCOOL</th> <td>   -0.1503</td> <td>    0.063</td> <td>   -2.392</td> <td> 0.017</td> <td>   -0.273</td> <td>   -0.027</td>\n",
       "</tr>\n",
       "<tr>\n",
       "  <th>NEOPLASIA_MALIGNA_DO_CÓLON</th>                         <td>   -0.0153</td> <td>    0.044</td> <td>   -0.344</td> <td> 0.731</td> <td>   -0.102</td> <td>    0.072</td>\n",
       "</tr>\n",
       "<tr>\n",
       "  <th>NEOPLASIA_MALIGNA_DE_TRAQUÉIA_BRÔNQUIOS_E_PULMÕES</th>  <td>    0.0152</td> <td>    0.047</td> <td>    0.322</td> <td> 0.748</td> <td>   -0.077</td> <td>    0.108</td>\n",
       "</tr>\n",
       "<tr>\n",
       "  <th>TRANST_MENTAIS_COMPORT_DEV_USO_OUTR_SUBST_PSICOAT</th>  <td>    0.0563</td> <td>    0.043</td> <td>    1.299</td> <td> 0.194</td> <td>   -0.029</td> <td>    0.141</td>\n",
       "</tr>\n",
       "<tr>\n",
       "  <th>BRONQUITE_ENFISEMA_E_OUTR_DOENÇ_PULM_OBSTR_CRÔNIC</th>  <td>    0.0067</td> <td>    0.044</td> <td>    0.153</td> <td> 0.879</td> <td>   -0.080</td> <td>    0.093</td>\n",
       "</tr>\n",
       "<tr>\n",
       "  <th>ar.L1</th>                                              <td>   -0.9318</td> <td>    0.145</td> <td>   -6.420</td> <td> 0.000</td> <td>   -1.216</td> <td>   -0.647</td>\n",
       "</tr>\n",
       "<tr>\n",
       "  <th>ar.L2</th>                                              <td>   -0.1734</td> <td>    0.208</td> <td>   -0.834</td> <td> 0.405</td> <td>   -0.581</td> <td>    0.234</td>\n",
       "</tr>\n",
       "<tr>\n",
       "  <th>ar.L3</th>                                              <td>   -0.2211</td> <td>    0.126</td> <td>   -1.760</td> <td> 0.078</td> <td>   -0.467</td> <td>    0.025</td>\n",
       "</tr>\n",
       "<tr>\n",
       "  <th>ma.L1</th>                                              <td>    0.1688</td> <td>  214.758</td> <td>    0.001</td> <td> 0.999</td> <td> -420.750</td> <td>  421.087</td>\n",
       "</tr>\n",
       "<tr>\n",
       "  <th>ma.L2</th>                                              <td>   -0.8312</td> <td>  178.516</td> <td>   -0.005</td> <td> 0.996</td> <td> -350.715</td> <td>  349.053</td>\n",
       "</tr>\n",
       "<tr>\n",
       "  <th>sigma2</th>                                             <td>   17.7218</td> <td> 3806.589</td> <td>    0.005</td> <td> 0.996</td> <td>-7443.056</td> <td> 7478.499</td>\n",
       "</tr>\n",
       "</table>\n",
       "<table class=\"simpletable\">\n",
       "<tr>\n",
       "  <th>Ljung-Box (Q):</th>          <td>32.73</td> <th>  Jarque-Bera (JB):  </th> <td>1.20</td>\n",
       "</tr>\n",
       "<tr>\n",
       "  <th>Prob(Q):</th>                <td>0.79</td>  <th>  Prob(JB):          </th> <td>0.55</td>\n",
       "</tr>\n",
       "<tr>\n",
       "  <th>Heteroskedasticity (H):</th> <td>2.02</td>  <th>  Skew:              </th> <td>0.24</td>\n",
       "</tr>\n",
       "<tr>\n",
       "  <th>Prob(H) (two-sided):</th>    <td>0.03</td>  <th>  Kurtosis:          </th> <td>2.92</td>\n",
       "</tr>\n",
       "</table><br/><br/>Warnings:<br/>[1] Covariance matrix calculated using the outer product of gradients (complex-step)."
      ],
      "text/plain": [
       "<class 'statsmodels.iolib.summary.Summary'>\n",
       "\"\"\"\n",
       "                               SARIMAX Results                                \n",
       "==============================================================================\n",
       "Dep. Variable:                SUICIDE   No. Observations:                  124\n",
       "Model:               SARIMAX(3, 1, 2)   Log Likelihood                -345.150\n",
       "Date:                Wed, 09 Sep 2020   AIC                            714.301\n",
       "Time:                        18:27:30   BIC                            747.751\n",
       "Sample:                    01-01-2008   HQIC                           727.885\n",
       "                         - 04-01-2018                                         \n",
       "Covariance Type:                  opg                                         \n",
       "======================================================================================================================\n",
       "                                                         coef    std err          z      P>|z|      [0.025      0.975]\n",
       "----------------------------------------------------------------------------------------------------------------------\n",
       "TRANSTORNOS_DE_HUMOR_[AFETIVOS]                        0.0097      0.033      0.295      0.768      -0.055       0.075\n",
       "TRANST_MENTAIS_E_COMPORTAMENTAIS_DEV_USO_DE_ÁLCOOL    -0.1503      0.063     -2.392      0.017      -0.273      -0.027\n",
       "NEOPLASIA_MALIGNA_DO_CÓLON                            -0.0153      0.044     -0.344      0.731      -0.102       0.072\n",
       "NEOPLASIA_MALIGNA_DE_TRAQUÉIA_BRÔNQUIOS_E_PULMÕES      0.0152      0.047      0.322      0.748      -0.077       0.108\n",
       "TRANST_MENTAIS_COMPORT_DEV_USO_OUTR_SUBST_PSICOAT      0.0563      0.043      1.299      0.194      -0.029       0.141\n",
       "BRONQUITE_ENFISEMA_E_OUTR_DOENÇ_PULM_OBSTR_CRÔNIC      0.0067      0.044      0.153      0.879      -0.080       0.093\n",
       "ar.L1                                                 -0.9318      0.145     -6.420      0.000      -1.216      -0.647\n",
       "ar.L2                                                 -0.1734      0.208     -0.834      0.405      -0.581       0.234\n",
       "ar.L3                                                 -0.2211      0.126     -1.760      0.078      -0.467       0.025\n",
       "ma.L1                                                  0.1688    214.758      0.001      0.999    -420.750     421.087\n",
       "ma.L2                                                 -0.8312    178.516     -0.005      0.996    -350.715     349.053\n",
       "sigma2                                                17.7218   3806.589      0.005      0.996   -7443.056    7478.499\n",
       "===================================================================================\n",
       "Ljung-Box (Q):                       32.73   Jarque-Bera (JB):                 1.20\n",
       "Prob(Q):                              0.79   Prob(JB):                         0.55\n",
       "Heteroskedasticity (H):               2.02   Skew:                             0.24\n",
       "Prob(H) (two-sided):                  0.03   Kurtosis:                         2.92\n",
       "===================================================================================\n",
       "\n",
       "Warnings:\n",
       "[1] Covariance matrix calculated using the outer product of gradients (complex-step).\n",
       "\"\"\""
      ]
     },
     "execution_count": 34,
     "metadata": {},
     "output_type": "execute_result"
    }
   ],
   "source": [
    "exog_train, exog_test = df.drop(columns=\"SUICIDE\")[0:-nobs], df.drop(columns=\"SUICIDE\")[-nobs:]\n",
    "arimax = sm.tsa.statespace.SARIMAX(df_train,order=(ar,1,ma),seasonal_order=(0,0,0,0),exog = exog_train,freq='MS',\n",
    "                                  enforce_stationarity=False, enforce_invertibility=False,).fit()\n",
    "arimax.summary()"
   ]
  },
  {
   "cell_type": "code",
   "execution_count": 35,
   "metadata": {},
   "outputs": [
    {
     "name": "stdout",
     "output_type": "stream",
     "text": [
      "ARIMAX model MSE:21.573648935800144\n"
     ]
    },
    {
     "data": {
      "image/png": "[encoded data removed]",
      "text/plain": [
       "<Figure size 432x288 with 1 Axes>"
      ]
     },
     "metadata": {
      "needs_background": "light"
     },
     "output_type": "display_data"
    }
   ],
   "source": [
    "from sklearn.metrics import mean_squared_error\n",
    "pred = arimax.predict(df_train.index[0],df_train.index[-1],exog = exog_train)\n",
    "print('ARIMAX model MSE:{}'.format(mean_squared_error(df_train,pred)))\n",
    "pd.DataFrame({'test':df_train,'pred':pred}).plot();plt.show()"
   ]
  },
  {
   "cell_type": "code",
   "execution_count": 36,
   "metadata": {},
   "outputs": [
    {
     "name": "stdout",
     "output_type": "stream",
     "text": [
      "ARIMAX model MSE:21.64220412215679\n"
     ]
    },
    {
     "data": {
      "image/png": "[encoded data removed]",
      "text/plain": [
       "<Figure size 432x288 with 1 Axes>"
      ]
     },
     "metadata": {
      "needs_background": "light"
     },
     "output_type": "display_data"
    }
   ],
   "source": [
    "pred = arimax.predict(df_test.index[0],df_test.index[-1],exog = exog_test)\n",
    "print('ARIMAX model MSE:{}'.format(mean_squared_error(df_test,pred)))\n",
    "pd.DataFrame({'test':df_test,'pred':pred}).plot();plt.show()"
   ]
  },
  {
   "cell_type": "markdown",
   "metadata": {},
   "source": [
    "# Sarimax"
   ]
  },
  {
   "cell_type": "code",
   "execution_count": 37,
   "metadata": {},
   "outputs": [
    {
     "name": "stderr",
     "output_type": "stream",
     "text": [
      "C:\\Users\\pypas\\anaconda3\\envs\\ML\\lib\\site-packages\\statsmodels\\base\\model.py:568: ConvergenceWarning: Maximum Likelihood optimization failed to converge. Check mle_retvals\n",
      "  \"Check mle_retvals\", ConvergenceWarning)\n"
     ]
    },
    {
     "data": {
      "text/html": [
       "<table class=\"simpletable\">\n",
       "<caption>SARIMAX Results</caption>\n",
       "<tr>\n",
       "  <th>Dep. Variable:</th>               <td>SUICIDE</td>            <th>  No. Observations:  </th>    <td>124</td>  \n",
       "</tr>\n",
       "<tr>\n",
       "  <th>Model:</th>           <td>SARIMAX(3, 1, 2)x(3, 1, 2, 12)</td> <th>  Log Likelihood     </th> <td>-208.407</td>\n",
       "</tr>\n",
       "<tr>\n",
       "  <th>Date:</th>                   <td>Wed, 09 Sep 2020</td>        <th>  AIC                </th>  <td>450.813</td>\n",
       "</tr>\n",
       "<tr>\n",
       "  <th>Time:</th>                       <td>18:27:53</td>            <th>  BIC                </th>  <td>489.516</td>\n",
       "</tr>\n",
       "<tr>\n",
       "  <th>Sample:</th>                    <td>01-01-2008</td>           <th>  HQIC               </th>  <td>466.221</td>\n",
       "</tr>\n",
       "<tr>\n",
       "  <th></th>                          <td>- 04-01-2018</td>          <th>                     </th>     <td> </td>   \n",
       "</tr>\n",
       "<tr>\n",
       "  <th>Covariance Type:</th>               <td>opg</td>              <th>                     </th>     <td> </td>   \n",
       "</tr>\n",
       "</table>\n",
       "<table class=\"simpletable\">\n",
       "<tr>\n",
       "                           <td></td>                             <th>coef</th>     <th>std err</th>      <th>z</th>      <th>P>|z|</th>  <th>[0.025</th>    <th>0.975]</th>  \n",
       "</tr>\n",
       "<tr>\n",
       "  <th>TRANSTORNOS_DE_HUMOR_[AFETIVOS]</th>                    <td>    0.0771</td> <td>    0.048</td> <td>    1.590</td> <td> 0.112</td> <td>   -0.018</td> <td>    0.172</td>\n",
       "</tr>\n",
       "<tr>\n",
       "  <th>TRANST_MENTAIS_E_COMPORTAMENTAIS_DEV_USO_DE_ÁLCOOL</th> <td>   -0.0095</td> <td>    0.118</td> <td>   -0.080</td> <td> 0.936</td> <td>   -0.241</td> <td>    0.222</td>\n",
       "</tr>\n",
       "<tr>\n",
       "  <th>NEOPLASIA_MALIGNA_DO_CÓLON</th>                         <td>   -0.0658</td> <td>    0.054</td> <td>   -1.220</td> <td> 0.223</td> <td>   -0.172</td> <td>    0.040</td>\n",
       "</tr>\n",
       "<tr>\n",
       "  <th>NEOPLASIA_MALIGNA_DE_TRAQUÉIA_BRÔNQUIOS_E_PULMÕES</th>  <td>    0.0448</td> <td>    0.067</td> <td>    0.667</td> <td> 0.505</td> <td>   -0.087</td> <td>    0.176</td>\n",
       "</tr>\n",
       "<tr>\n",
       "  <th>TRANST_MENTAIS_COMPORT_DEV_USO_OUTR_SUBST_PSICOAT</th>  <td>    0.0659</td> <td>    0.078</td> <td>    0.846</td> <td> 0.398</td> <td>   -0.087</td> <td>    0.219</td>\n",
       "</tr>\n",
       "<tr>\n",
       "  <th>BRONQUITE_ENFISEMA_E_OUTR_DOENÇ_PULM_OBSTR_CRÔNIC</th>  <td>   -0.0126</td> <td>    0.064</td> <td>   -0.195</td> <td> 0.845</td> <td>   -0.139</td> <td>    0.114</td>\n",
       "</tr>\n",
       "<tr>\n",
       "  <th>ar.L1</th>                                              <td>   -0.7072</td> <td>    0.750</td> <td>   -0.943</td> <td> 0.346</td> <td>   -2.177</td> <td>    0.763</td>\n",
       "</tr>\n",
       "<tr>\n",
       "  <th>ar.L2</th>                                              <td>   -0.1944</td> <td>    0.408</td> <td>   -0.476</td> <td> 0.634</td> <td>   -0.995</td> <td>    0.606</td>\n",
       "</tr>\n",
       "<tr>\n",
       "  <th>ar.L3</th>                                              <td>    0.0943</td> <td>    0.304</td> <td>    0.311</td> <td> 0.756</td> <td>   -0.501</td> <td>    0.690</td>\n",
       "</tr>\n",
       "<tr>\n",
       "  <th>ma.L1</th>                                              <td>   -0.3554</td> <td>    0.717</td> <td>   -0.495</td> <td> 0.620</td> <td>   -1.762</td> <td>    1.051</td>\n",
       "</tr>\n",
       "<tr>\n",
       "  <th>ma.L2</th>                                              <td>   -0.4448</td> <td>    0.558</td> <td>   -0.797</td> <td> 0.425</td> <td>   -1.539</td> <td>    0.649</td>\n",
       "</tr>\n",
       "<tr>\n",
       "  <th>ar.S.L12</th>                                           <td>   -1.0913</td> <td>    0.184</td> <td>   -5.938</td> <td> 0.000</td> <td>   -1.452</td> <td>   -0.731</td>\n",
       "</tr>\n",
       "<tr>\n",
       "  <th>ar.S.L24</th>                                           <td>   -0.5707</td> <td>    0.203</td> <td>   -2.810</td> <td> 0.005</td> <td>   -0.969</td> <td>   -0.173</td>\n",
       "</tr>\n",
       "<tr>\n",
       "  <th>ar.S.L36</th>                                           <td>   -0.2904</td> <td>    0.117</td> <td>   -2.481</td> <td> 0.013</td> <td>   -0.520</td> <td>   -0.061</td>\n",
       "</tr>\n",
       "<tr>\n",
       "  <th>ma.S.L12</th>                                           <td>    0.6370</td> <td>    0.273</td> <td>    2.333</td> <td> 0.020</td> <td>    0.102</td> <td>    1.172</td>\n",
       "</tr>\n",
       "<tr>\n",
       "  <th>ma.S.L24</th>                                           <td>    0.0332</td> <td>    0.214</td> <td>    0.155</td> <td> 0.877</td> <td>   -0.387</td> <td>    0.453</td>\n",
       "</tr>\n",
       "<tr>\n",
       "  <th>sigma2</th>                                             <td>   17.8169</td> <td>    3.695</td> <td>    4.822</td> <td> 0.000</td> <td>   10.575</td> <td>   25.059</td>\n",
       "</tr>\n",
       "</table>\n",
       "<table class=\"simpletable\">\n",
       "<tr>\n",
       "  <th>Ljung-Box (Q):</th>          <td>23.21</td> <th>  Jarque-Bera (JB):  </th> <td>1.85</td>\n",
       "</tr>\n",
       "<tr>\n",
       "  <th>Prob(Q):</th>                <td>0.98</td>  <th>  Prob(JB):          </th> <td>0.40</td>\n",
       "</tr>\n",
       "<tr>\n",
       "  <th>Heteroskedasticity (H):</th> <td>0.64</td>  <th>  Skew:              </th> <td>0.26</td>\n",
       "</tr>\n",
       "<tr>\n",
       "  <th>Prob(H) (two-sided):</th>    <td>0.28</td>  <th>  Kurtosis:          </th> <td>3.60</td>\n",
       "</tr>\n",
       "</table><br/><br/>Warnings:<br/>[1] Covariance matrix calculated using the outer product of gradients (complex-step)."
      ],
      "text/plain": [
       "<class 'statsmodels.iolib.summary.Summary'>\n",
       "\"\"\"\n",
       "                                     SARIMAX Results                                      \n",
       "==========================================================================================\n",
       "Dep. Variable:                            SUICIDE   No. Observations:                  124\n",
       "Model:             SARIMAX(3, 1, 2)x(3, 1, 2, 12)   Log Likelihood                -208.407\n",
       "Date:                            Wed, 09 Sep 2020   AIC                            450.813\n",
       "Time:                                    18:27:53   BIC                            489.516\n",
       "Sample:                                01-01-2008   HQIC                           466.221\n",
       "                                     - 04-01-2018                                         \n",
       "Covariance Type:                              opg                                         \n",
       "======================================================================================================================\n",
       "                                                         coef    std err          z      P>|z|      [0.025      0.975]\n",
       "----------------------------------------------------------------------------------------------------------------------\n",
       "TRANSTORNOS_DE_HUMOR_[AFETIVOS]                        0.0771      0.048      1.590      0.112      -0.018       0.172\n",
       "TRANST_MENTAIS_E_COMPORTAMENTAIS_DEV_USO_DE_ÁLCOOL    -0.0095      0.118     -0.080      0.936      -0.241       0.222\n",
       "NEOPLASIA_MALIGNA_DO_CÓLON                            -0.0658      0.054     -1.220      0.223      -0.172       0.040\n",
       "NEOPLASIA_MALIGNA_DE_TRAQUÉIA_BRÔNQUIOS_E_PULMÕES      0.0448      0.067      0.667      0.505      -0.087       0.176\n",
       "TRANST_MENTAIS_COMPORT_DEV_USO_OUTR_SUBST_PSICOAT      0.0659      0.078      0.846      0.398      -0.087       0.219\n",
       "BRONQUITE_ENFISEMA_E_OUTR_DOENÇ_PULM_OBSTR_CRÔNIC     -0.0126      0.064     -0.195      0.845      -0.139       0.114\n",
       "ar.L1                                                 -0.7072      0.750     -0.943      0.346      -2.177       0.763\n",
       "ar.L2                                                 -0.1944      0.408     -0.476      0.634      -0.995       0.606\n",
       "ar.L3                                                  0.0943      0.304      0.311      0.756      -0.501       0.690\n",
       "ma.L1                                                 -0.3554      0.717     -0.495      0.620      -1.762       1.051\n",
       "ma.L2                                                 -0.4448      0.558     -0.797      0.425      -1.539       0.649\n",
       "ar.S.L12                                              -1.0913      0.184     -5.938      0.000      -1.452      -0.731\n",
       "ar.S.L24                                              -0.5707      0.203     -2.810      0.005      -0.969      -0.173\n",
       "ar.S.L36                                              -0.2904      0.117     -2.481      0.013      -0.520      -0.061\n",
       "ma.S.L12                                               0.6370      0.273      2.333      0.020       0.102       1.172\n",
       "ma.S.L24                                               0.0332      0.214      0.155      0.877      -0.387       0.453\n",
       "sigma2                                                17.8169      3.695      4.822      0.000      10.575      25.059\n",
       "===================================================================================\n",
       "Ljung-Box (Q):                       23.21   Jarque-Bera (JB):                 1.85\n",
       "Prob(Q):                              0.98   Prob(JB):                         0.40\n",
       "Heteroskedasticity (H):               0.64   Skew:                             0.26\n",
       "Prob(H) (two-sided):                  0.28   Kurtosis:                         3.60\n",
       "===================================================================================\n",
       "\n",
       "Warnings:\n",
       "[1] Covariance matrix calculated using the outer product of gradients (complex-step).\n",
       "\"\"\""
      ]
     },
     "execution_count": 37,
     "metadata": {},
     "output_type": "execute_result"
    }
   ],
   "source": [
    "sarimax = sm.tsa.statespace.SARIMAX(df_train,order=(ar,1,ma),seasonal_order=(ar,1,ma,12),exog = exog_train,\n",
    "                                enforce_stationarity=False, enforce_invertibility=False,freq='MS').fit()\n",
    "sarimax.summary()"
   ]
  },
  {
   "cell_type": "code",
   "execution_count": 38,
   "metadata": {},
   "outputs": [
    {
     "name": "stdout",
     "output_type": "stream",
     "text": [
      "SARIMAX model MSE:21.7242819593739\n"
     ]
    },
    {
     "data": {
      "image/png": "[encoded data removed]",
      "text/plain": [
       "<Figure size 432x288 with 1 Axes>"
      ]
     },
     "metadata": {
      "needs_background": "light"
     },
     "output_type": "display_data"
    }
   ],
   "source": [
    "from sklearn.metrics import mean_squared_error\n",
    "pred = sarimax.predict(df_train.index[0],df_train.index[-1],exog = exog_train)\n",
    "print('SARIMAX model MSE:{}'.format(mean_squared_error(df_train,pred)))\n",
    "pd.DataFrame({'test':df_train,'pred':pred}).plot();plt.show()"
   ]
  },
  {
   "cell_type": "code",
   "execution_count": 39,
   "metadata": {},
   "outputs": [
    {
     "name": "stdout",
     "output_type": "stream",
     "text": [
      "SARIMAX model MSE:27.18128466636085\n"
     ]
    },
    {
     "data": {
      "image/png": "[encoded data removed]",
      "text/plain": [
       "<Figure size 432x288 with 1 Axes>"
      ]
     },
     "metadata": {
      "needs_background": "light"
     },
     "output_type": "display_data"
    }
   ],
   "source": [
    "pred = sarimax.predict(df_test.index[0],df_test.index[-1],exog = exog_test)\n",
    "print('SARIMAX model MSE:{}'.format(mean_squared_error(df_test,pred)))\n",
    "pd.DataFrame({'test':df_test,'pred':pred}).plot();plt.show()"
   ]
  }
 ],
 "metadata": {
  "kernelspec": {
   "display_name": "Python 3",
   "language": "python",
   "name": "python3"
  },
  "language_info": {
   "codemirror_mode": {
    "name": "ipython",
    "version": 3
   },
   "file_extension": ".py",
   "mimetype": "text/x-python",
   "name": "python",
   "nbconvert_exporter": "python",
   "pygments_lexer": "ipython3",
   "version": "3.7.6"
  }
 },
 "nbformat": 4,
 "nbformat_minor": 4
}
