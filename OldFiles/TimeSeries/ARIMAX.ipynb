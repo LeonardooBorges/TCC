{
 "cells": [
  {
   "cell_type": "markdown",
   "metadata": {},
   "source": [
    "# ARIMAX\n",
    "https://www.kaggle.com/poiupoiu/how-to-use-sarimax#Search-best-parameters"
   ]
  },
  {
   "cell_type": "markdown",
   "metadata": {},
   "source": [
    "## 1 - Data Prep"
   ]
  },
  {
   "cell_type": "code",
   "execution_count": 1,
   "metadata": {},
   "outputs": [],
   "source": [
    "import pandas as pd\n",
    "import matplotlib.pyplot as plt\n",
    "import glob\n",
    "import numpy as np\n",
    "%matplotlib inline\n",
    "\n",
    "# Import Statsmodels\n",
    "from statsmodels.tsa.api import VAR\n",
    "from statsmodels.tsa.stattools import adfuller\n",
    "from statsmodels.tools.eval_measures import rmse, aic\n",
    "import statsmodels.api as sm"
   ]
  },
  {
   "cell_type": "code",
   "execution_count": 2,
   "metadata": {},
   "outputs": [],
   "source": [
    "root = \"../\"\n",
    "path = root + 'CSV/TabNet/Internacoes/'\n",
    "municipio = \"292740 Salvador\"#\"330455 Rio de Janeiro\"#\"270860 São Miguel dos Campos\"#\"355030 São Paulo\"\n",
    "all_files = glob.glob(path + \"*.csv\")\n",
    "df_diseases = pd.DataFrame()\n",
    "list_of_diseases = []\n",
    "for file in all_files:\n",
    "    file_name = file.split(\"\\\\\")[1]\n",
    "    disease = file_name.split(\".\")[0]\n",
    "    list_of_diseases.append(disease)\n",
    "    df_disease = pd.read_csv(path + file_name, sep=\";\")\n",
    "    df_disease = df_disease[df_disease[\"Município\"] == municipio]#\"330455 Rio de Janeiro\"]#\"292740 Salvador\"]#\"355030 São Paulo\"]\n",
    "    if not df_disease.empty:\n",
    "        df_disease= df_disease.filter(regex='2008|2009|2010|2011|2012|2013|2014|2015|2016|2017|2018', axis=1)\n",
    "        df_disease = df_disease.transpose()\n",
    "        df_disease.columns = [disease]\n",
    "        df_disease = df_disease.replace(\"-\",0)\n",
    "        df_disease = df_disease.astype(int)\n",
    "        df_diseases[disease] = df_disease[disease]\n",
    "df_diseases = df_diseases.fillna(0)"
   ]
  },
  {
   "cell_type": "code",
   "execution_count": 3,
   "metadata": {},
   "outputs": [
    {
     "data": {
      "text/html": [
       "<div>\n",
       "<style scoped>\n",
       "    .dataframe tbody tr th:only-of-type {\n",
       "        vertical-align: middle;\n",
       "    }\n",
       "\n",
       "    .dataframe tbody tr th {\n",
       "        vertical-align: top;\n",
       "    }\n",
       "\n",
       "    .dataframe thead th {\n",
       "        text-align: right;\n",
       "    }\n",
       "</style>\n",
       "<table border=\"1\" class=\"dataframe\">\n",
       "  <thead>\n",
       "    <tr style=\"text-align: right;\">\n",
       "      <th></th>\n",
       "      <th>ABORTO_ESPONTÂNEO</th>\n",
       "      <th>ABORTO_POR_RAZÕES_MÉDICAS</th>\n",
       "      <th>ACIDENTES_DE_TRANSPORTE</th>\n",
       "      <th>ACID_VASCULAR_CEREBR_ISQUÊM_TRANSIT_E_SÍNDR_CORREL</th>\n",
       "      <th>ACID_VASCULAR_CEREBR_NÃO_ESPEC_HEMORRÁG_OU_ISQUÊM</th>\n",
       "      <th>AFECÇ_HEMORRÁG_E_OUTR_DOENÇ_SANG_E_ÓRG_HEMATOPOÉT</th>\n",
       "      <th>AGRESSÕES</th>\n",
       "      <th>ALGUNS_TRANSTORNOS_ENVOLVENDO_MECANISMO_IMUNITÁRIO</th>\n",
       "      <th>AMEBÍASE</th>\n",
       "      <th>ANCILOSTOMÍASE</th>\n",
       "      <th>...</th>\n",
       "      <th>TUBERCULOSE_DO_SISTEMA_NERVOSO</th>\n",
       "      <th>TUBERCULOSE_MILIAR</th>\n",
       "      <th>TUBERCULOSE_PULMONAR</th>\n",
       "      <th>TUBERCULOSE_ÓSSEA_E_DAS_ARTICULAÇÕES</th>\n",
       "      <th>TUBERC_INTEST_PERITÔNIO_GLÂNGL_MESENTÉRICOS</th>\n",
       "      <th>TÉTANO_NEONATAL</th>\n",
       "      <th>UROLITÍASE</th>\n",
       "      <th>VARICELA_E_HERPES_ZOSTER</th>\n",
       "      <th>VEIAS_VARICOSAS_DAS_EXTREMIDADES_INFERIORES</th>\n",
       "      <th>ÚLCERA_GÁSTRICA_E_DUODENAL</th>\n",
       "    </tr>\n",
       "  </thead>\n",
       "  <tbody>\n",
       "    <tr>\n",
       "      <th>1/2008</th>\n",
       "      <td>240</td>\n",
       "      <td>0</td>\n",
       "      <td>0.0</td>\n",
       "      <td>7</td>\n",
       "      <td>48</td>\n",
       "      <td>18</td>\n",
       "      <td>0.0</td>\n",
       "      <td>1</td>\n",
       "      <td>0</td>\n",
       "      <td>0.0</td>\n",
       "      <td>...</td>\n",
       "      <td>0</td>\n",
       "      <td>0</td>\n",
       "      <td>75</td>\n",
       "      <td>0</td>\n",
       "      <td>0.0</td>\n",
       "      <td>0.0</td>\n",
       "      <td>63</td>\n",
       "      <td>2</td>\n",
       "      <td>169</td>\n",
       "      <td>13</td>\n",
       "    </tr>\n",
       "    <tr>\n",
       "      <th>2/2008</th>\n",
       "      <td>260</td>\n",
       "      <td>2</td>\n",
       "      <td>0.0</td>\n",
       "      <td>1</td>\n",
       "      <td>57</td>\n",
       "      <td>19</td>\n",
       "      <td>0.0</td>\n",
       "      <td>1</td>\n",
       "      <td>2</td>\n",
       "      <td>0.0</td>\n",
       "      <td>...</td>\n",
       "      <td>0</td>\n",
       "      <td>0</td>\n",
       "      <td>43</td>\n",
       "      <td>0</td>\n",
       "      <td>0.0</td>\n",
       "      <td>0.0</td>\n",
       "      <td>63</td>\n",
       "      <td>3</td>\n",
       "      <td>107</td>\n",
       "      <td>8</td>\n",
       "    </tr>\n",
       "    <tr>\n",
       "      <th>3/2008</th>\n",
       "      <td>398</td>\n",
       "      <td>8</td>\n",
       "      <td>0.0</td>\n",
       "      <td>9</td>\n",
       "      <td>58</td>\n",
       "      <td>11</td>\n",
       "      <td>0.0</td>\n",
       "      <td>1</td>\n",
       "      <td>2</td>\n",
       "      <td>0.0</td>\n",
       "      <td>...</td>\n",
       "      <td>0</td>\n",
       "      <td>0</td>\n",
       "      <td>49</td>\n",
       "      <td>1</td>\n",
       "      <td>0.0</td>\n",
       "      <td>0.0</td>\n",
       "      <td>80</td>\n",
       "      <td>2</td>\n",
       "      <td>97</td>\n",
       "      <td>5</td>\n",
       "    </tr>\n",
       "    <tr>\n",
       "      <th>4/2008</th>\n",
       "      <td>381</td>\n",
       "      <td>5</td>\n",
       "      <td>0.0</td>\n",
       "      <td>6</td>\n",
       "      <td>32</td>\n",
       "      <td>14</td>\n",
       "      <td>0.0</td>\n",
       "      <td>0</td>\n",
       "      <td>0</td>\n",
       "      <td>0.0</td>\n",
       "      <td>...</td>\n",
       "      <td>0</td>\n",
       "      <td>0</td>\n",
       "      <td>42</td>\n",
       "      <td>0</td>\n",
       "      <td>0.0</td>\n",
       "      <td>0.0</td>\n",
       "      <td>58</td>\n",
       "      <td>5</td>\n",
       "      <td>96</td>\n",
       "      <td>2</td>\n",
       "    </tr>\n",
       "    <tr>\n",
       "      <th>5/2008</th>\n",
       "      <td>327</td>\n",
       "      <td>3</td>\n",
       "      <td>0.0</td>\n",
       "      <td>28</td>\n",
       "      <td>50</td>\n",
       "      <td>10</td>\n",
       "      <td>0.0</td>\n",
       "      <td>0</td>\n",
       "      <td>0</td>\n",
       "      <td>0.0</td>\n",
       "      <td>...</td>\n",
       "      <td>0</td>\n",
       "      <td>0</td>\n",
       "      <td>22</td>\n",
       "      <td>0</td>\n",
       "      <td>0.0</td>\n",
       "      <td>0.0</td>\n",
       "      <td>42</td>\n",
       "      <td>2</td>\n",
       "      <td>109</td>\n",
       "      <td>8</td>\n",
       "    </tr>\n",
       "  </tbody>\n",
       "</table>\n",
       "<p>5 rows × 316 columns</p>\n",
       "</div>"
      ],
      "text/plain": [
       "        ABORTO_ESPONTÂNEO  ABORTO_POR_RAZÕES_MÉDICAS  ACIDENTES_DE_TRANSPORTE  \\\n",
       "1/2008                240                          0                      0.0   \n",
       "2/2008                260                          2                      0.0   \n",
       "3/2008                398                          8                      0.0   \n",
       "4/2008                381                          5                      0.0   \n",
       "5/2008                327                          3                      0.0   \n",
       "\n",
       "        ACID_VASCULAR_CEREBR_ISQUÊM_TRANSIT_E_SÍNDR_CORREL  \\\n",
       "1/2008                                                  7    \n",
       "2/2008                                                  1    \n",
       "3/2008                                                  9    \n",
       "4/2008                                                  6    \n",
       "5/2008                                                 28    \n",
       "\n",
       "        ACID_VASCULAR_CEREBR_NÃO_ESPEC_HEMORRÁG_OU_ISQUÊM  \\\n",
       "1/2008                                                 48   \n",
       "2/2008                                                 57   \n",
       "3/2008                                                 58   \n",
       "4/2008                                                 32   \n",
       "5/2008                                                 50   \n",
       "\n",
       "        AFECÇ_HEMORRÁG_E_OUTR_DOENÇ_SANG_E_ÓRG_HEMATOPOÉT  AGRESSÕES  \\\n",
       "1/2008                                                 18        0.0   \n",
       "2/2008                                                 19        0.0   \n",
       "3/2008                                                 11        0.0   \n",
       "4/2008                                                 14        0.0   \n",
       "5/2008                                                 10        0.0   \n",
       "\n",
       "        ALGUNS_TRANSTORNOS_ENVOLVENDO_MECANISMO_IMUNITÁRIO  AMEBÍASE  \\\n",
       "1/2008                                                  1          0   \n",
       "2/2008                                                  1          2   \n",
       "3/2008                                                  1          2   \n",
       "4/2008                                                  0          0   \n",
       "5/2008                                                  0          0   \n",
       "\n",
       "        ANCILOSTOMÍASE  ...  TUBERCULOSE_DO_SISTEMA_NERVOSO  \\\n",
       "1/2008             0.0  ...                               0   \n",
       "2/2008             0.0  ...                               0   \n",
       "3/2008             0.0  ...                               0   \n",
       "4/2008             0.0  ...                               0   \n",
       "5/2008             0.0  ...                               0   \n",
       "\n",
       "        TUBERCULOSE_MILIAR  TUBERCULOSE_PULMONAR  \\\n",
       "1/2008                   0                    75   \n",
       "2/2008                   0                    43   \n",
       "3/2008                   0                    49   \n",
       "4/2008                   0                    42   \n",
       "5/2008                   0                    22   \n",
       "\n",
       "        TUBERCULOSE_ÓSSEA_E_DAS_ARTICULAÇÕES  \\\n",
       "1/2008                                     0   \n",
       "2/2008                                     0   \n",
       "3/2008                                     1   \n",
       "4/2008                                     0   \n",
       "5/2008                                     0   \n",
       "\n",
       "        TUBERC_INTEST_PERITÔNIO_GLÂNGL_MESENTÉRICOS  TÉTANO_NEONATAL  \\\n",
       "1/2008                                          0.0              0.0   \n",
       "2/2008                                          0.0              0.0   \n",
       "3/2008                                          0.0              0.0   \n",
       "4/2008                                          0.0              0.0   \n",
       "5/2008                                          0.0              0.0   \n",
       "\n",
       "        UROLITÍASE  VARICELA_E_HERPES_ZOSTER  \\\n",
       "1/2008          63                         2   \n",
       "2/2008          63                         3   \n",
       "3/2008          80                         2   \n",
       "4/2008          58                         5   \n",
       "5/2008          42                         2   \n",
       "\n",
       "        VEIAS_VARICOSAS_DAS_EXTREMIDADES_INFERIORES  \\\n",
       "1/2008                                          169   \n",
       "2/2008                                          107   \n",
       "3/2008                                           97   \n",
       "4/2008                                           96   \n",
       "5/2008                                          109   \n",
       "\n",
       "        ÚLCERA_GÁSTRICA_E_DUODENAL  \n",
       "1/2008                          13  \n",
       "2/2008                           8  \n",
       "3/2008                           5  \n",
       "4/2008                           2  \n",
       "5/2008                           8  \n",
       "\n",
       "[5 rows x 316 columns]"
      ]
     },
     "execution_count": 3,
     "metadata": {},
     "output_type": "execute_result"
    }
   ],
   "source": [
    "from datetime import datetime\n",
    "month_dic = {\n",
    "    \"Jan\": \"January\",\n",
    "    \"Fev\": \"February\",\n",
    "    \"Mar\": \"March\",\n",
    "    \"Abr\": \"April\",\n",
    "    \"Mai\": \"May\",\n",
    "    \"Jun\": \"June\",\n",
    "    \"Jul\": \"July\",\n",
    "    \"Ago\": \"August\",\n",
    "    \"Set\": \"September\",\n",
    "    \"Out\": \"October\",\n",
    "    \"Nov\": \"November\",\n",
    "    \"Dez\": \"December\"\n",
    "}\n",
    "indexes = []\n",
    "for i,e in enumerate(df_diseases.index): \n",
    "    ano = e.split(\"/\")[0]\n",
    "    mes = e.split(\"/\")[1]\n",
    "    month = month_dic[mes]\n",
    "    datetime_object = datetime.strptime(month, \"%B\")\n",
    "    indexes.append(str(datetime_object.month) + \"/\" + str(ano))\n",
    "df_diseases.index = indexes\n",
    "df_diseases.head()"
   ]
  },
  {
   "cell_type": "code",
   "execution_count": 4,
   "metadata": {},
   "outputs": [],
   "source": [
    "path = root + 'CSV/TabNet/Suicides/'\n",
    "all_files = glob.glob(path + \"*.csv\")\n",
    "df_suicides = pd.DataFrame()\n",
    "list_of_years = []\n",
    "for file in all_files:\n",
    "    file_name = file.split(\"\\\\\")[1]\n",
    "    year = file_name.split(\"_\")[1].split(\".\")[0]\n",
    "    list_of_years.append(year)\n",
    "    df_year = pd.read_csv(path + file_name, sep=\";\")\n",
    "    df_year = df_year.replace(\"-\",0)\n",
    "    df_year = df_year[df_year[\"Município\"] == municipio]\n",
    "    df_year = df_year.drop(columns=[\"Município\", \"Total\"])\n",
    "    if not df_year.empty:\n",
    "        df_year = df_year.transpose()\n",
    "        df_year.columns = [\"SUICIDE\"]\n",
    "        df_year = df_year.astype(int)\n",
    "        df_year.index = df_year.index + \"/\" + year\n",
    "        df_suicides = pd.concat([df_suicides, df_year])"
   ]
  },
  {
   "cell_type": "code",
   "execution_count": 5,
   "metadata": {},
   "outputs": [
    {
     "data": {
      "text/html": [
       "<div>\n",
       "<style scoped>\n",
       "    .dataframe tbody tr th:only-of-type {\n",
       "        vertical-align: middle;\n",
       "    }\n",
       "\n",
       "    .dataframe tbody tr th {\n",
       "        vertical-align: top;\n",
       "    }\n",
       "\n",
       "    .dataframe thead th {\n",
       "        text-align: right;\n",
       "    }\n",
       "</style>\n",
       "<table border=\"1\" class=\"dataframe\">\n",
       "  <thead>\n",
       "    <tr style=\"text-align: right;\">\n",
       "      <th></th>\n",
       "      <th>SUICIDE</th>\n",
       "    </tr>\n",
       "  </thead>\n",
       "  <tbody>\n",
       "    <tr>\n",
       "      <th>1/2008</th>\n",
       "      <td>2</td>\n",
       "    </tr>\n",
       "    <tr>\n",
       "      <th>2/2008</th>\n",
       "      <td>3</td>\n",
       "    </tr>\n",
       "    <tr>\n",
       "      <th>3/2008</th>\n",
       "      <td>1</td>\n",
       "    </tr>\n",
       "    <tr>\n",
       "      <th>4/2008</th>\n",
       "      <td>2</td>\n",
       "    </tr>\n",
       "    <tr>\n",
       "      <th>5/2008</th>\n",
       "      <td>1</td>\n",
       "    </tr>\n",
       "  </tbody>\n",
       "</table>\n",
       "</div>"
      ],
      "text/plain": [
       "        SUICIDE\n",
       "1/2008        2\n",
       "2/2008        3\n",
       "3/2008        1\n",
       "4/2008        2\n",
       "5/2008        1"
      ]
     },
     "execution_count": 5,
     "metadata": {},
     "output_type": "execute_result"
    }
   ],
   "source": [
    "from datetime import datetime\n",
    "month_dic = {\n",
    "    \"Janeiro\": \"January\",\n",
    "    \"Fevereiro\": \"February\",\n",
    "    \"Março\": \"March\",\n",
    "    \"Abril\": \"April\",\n",
    "    \"Maio\": \"May\",\n",
    "    \"Junho\": \"June\",\n",
    "    \"Julho\": \"July\",\n",
    "    \"Agosto\": \"August\",\n",
    "    \"Setembro\": \"September\",\n",
    "    \"Outubro\": \"October\",\n",
    "    \"Novembro\": \"November\",\n",
    "    \"Dezembro\": \"December\"\n",
    "}\n",
    "indexes = []\n",
    "for i,e in enumerate(df_suicides.index): \n",
    "    mes = e.split(\"/\")[0]\n",
    "    ano = e.split(\"/\")[1]\n",
    "    month = month_dic[mes]\n",
    "    datetime_object = datetime.strptime(month, \"%B\")\n",
    "    indexes.append(str(datetime_object.month) + \"/\" + str(ano))\n",
    "df_suicides.index = indexes\n",
    "df_suicides.head()"
   ]
  },
  {
   "cell_type": "markdown",
   "metadata": {},
   "source": [
    "For now we will only use some of the diseases' data"
   ]
  },
  {
   "cell_type": "code",
   "execution_count": 6,
   "metadata": {},
   "outputs": [
    {
     "data": {
      "text/html": [
       "<div>\n",
       "<style scoped>\n",
       "    .dataframe tbody tr th:only-of-type {\n",
       "        vertical-align: middle;\n",
       "    }\n",
       "\n",
       "    .dataframe tbody tr th {\n",
       "        vertical-align: top;\n",
       "    }\n",
       "\n",
       "    .dataframe thead th {\n",
       "        text-align: right;\n",
       "    }\n",
       "</style>\n",
       "<table border=\"1\" class=\"dataframe\">\n",
       "  <thead>\n",
       "    <tr style=\"text-align: right;\">\n",
       "      <th></th>\n",
       "      <th>TRANSTORNOS_DE_HUMOR_[AFETIVOS]</th>\n",
       "      <th>TRANST_MENTAIS_E_COMPORTAMENTAIS_DEV_USO_DE_ÁLCOOL</th>\n",
       "      <th>NEOPLASIA_MALIGNA_DO_CÓLON</th>\n",
       "      <th>NEOPLASIA_MALIGNA_DE_TRAQUÉIA_BRÔNQUIOS_E_PULMÕES</th>\n",
       "      <th>TRANST_MENTAIS_COMPORT_DEV_USO_OUTR_SUBST_PSICOAT</th>\n",
       "      <th>BRONQUITE_ENFISEMA_E_OUTR_DOENÇ_PULM_OBSTR_CRÔNIC</th>\n",
       "      <th>SUICIDE</th>\n",
       "    </tr>\n",
       "  </thead>\n",
       "  <tbody>\n",
       "    <tr>\n",
       "      <th>1/2008</th>\n",
       "      <td>47</td>\n",
       "      <td>50</td>\n",
       "      <td>10</td>\n",
       "      <td>14</td>\n",
       "      <td>10</td>\n",
       "      <td>37</td>\n",
       "      <td>2</td>\n",
       "    </tr>\n",
       "    <tr>\n",
       "      <th>2/2008</th>\n",
       "      <td>33</td>\n",
       "      <td>40</td>\n",
       "      <td>4</td>\n",
       "      <td>8</td>\n",
       "      <td>11</td>\n",
       "      <td>20</td>\n",
       "      <td>3</td>\n",
       "    </tr>\n",
       "    <tr>\n",
       "      <th>3/2008</th>\n",
       "      <td>25</td>\n",
       "      <td>40</td>\n",
       "      <td>15</td>\n",
       "      <td>11</td>\n",
       "      <td>12</td>\n",
       "      <td>22</td>\n",
       "      <td>1</td>\n",
       "    </tr>\n",
       "    <tr>\n",
       "      <th>4/2008</th>\n",
       "      <td>27</td>\n",
       "      <td>7</td>\n",
       "      <td>20</td>\n",
       "      <td>9</td>\n",
       "      <td>9</td>\n",
       "      <td>26</td>\n",
       "      <td>2</td>\n",
       "    </tr>\n",
       "    <tr>\n",
       "      <th>5/2008</th>\n",
       "      <td>19</td>\n",
       "      <td>34</td>\n",
       "      <td>5</td>\n",
       "      <td>9</td>\n",
       "      <td>8</td>\n",
       "      <td>35</td>\n",
       "      <td>1</td>\n",
       "    </tr>\n",
       "  </tbody>\n",
       "</table>\n",
       "</div>"
      ],
      "text/plain": [
       "        TRANSTORNOS_DE_HUMOR_[AFETIVOS]  \\\n",
       "1/2008                               47   \n",
       "2/2008                               33   \n",
       "3/2008                               25   \n",
       "4/2008                               27   \n",
       "5/2008                               19   \n",
       "\n",
       "        TRANST_MENTAIS_E_COMPORTAMENTAIS_DEV_USO_DE_ÁLCOOL  \\\n",
       "1/2008                                                 50    \n",
       "2/2008                                                 40    \n",
       "3/2008                                                 40    \n",
       "4/2008                                                  7    \n",
       "5/2008                                                 34    \n",
       "\n",
       "        NEOPLASIA_MALIGNA_DO_CÓLON  \\\n",
       "1/2008                          10   \n",
       "2/2008                           4   \n",
       "3/2008                          15   \n",
       "4/2008                          20   \n",
       "5/2008                           5   \n",
       "\n",
       "        NEOPLASIA_MALIGNA_DE_TRAQUÉIA_BRÔNQUIOS_E_PULMÕES  \\\n",
       "1/2008                                                 14   \n",
       "2/2008                                                  8   \n",
       "3/2008                                                 11   \n",
       "4/2008                                                  9   \n",
       "5/2008                                                  9   \n",
       "\n",
       "        TRANST_MENTAIS_COMPORT_DEV_USO_OUTR_SUBST_PSICOAT  \\\n",
       "1/2008                                                 10   \n",
       "2/2008                                                 11   \n",
       "3/2008                                                 12   \n",
       "4/2008                                                  9   \n",
       "5/2008                                                  8   \n",
       "\n",
       "        BRONQUITE_ENFISEMA_E_OUTR_DOENÇ_PULM_OBSTR_CRÔNIC  SUICIDE  \n",
       "1/2008                                                 37        2  \n",
       "2/2008                                                 20        3  \n",
       "3/2008                                                 22        1  \n",
       "4/2008                                                 26        2  \n",
       "5/2008                                                 35        1  "
      ]
     },
     "execution_count": 6,
     "metadata": {},
     "output_type": "execute_result"
    }
   ],
   "source": [
    "df = df_diseases.copy()\n",
    "df[\"SUICIDE\"] = df_suicides[\"SUICIDE\"]\n",
    "#chosen = [\"TRANSTORNOS_DE_HUMOR_[AFETIVOS]\", \"TRANST_MENTAIS_E_COMPORTAMENTAIS_DEV_USO_DE_ÁLCOOL\", \"NEOPLASIA_MALIGNA_DO_CÓLON\", \"NEOPL_MALIG_JUNÇÃO_RETOSSIGM_RETO_ÂNUS_CANAL_ANAL\", \"BRONQUITE_ENFISEMA_E_OUTR_DOENÇ_PULM_OBSTR_CRÔNIC\", \"SUICIDE\"]\n",
    "chosen = ['TRANSTORNOS_DE_HUMOR_[AFETIVOS]',\n",
    " 'TRANST_MENTAIS_E_COMPORTAMENTAIS_DEV_USO_DE_ÁLCOOL',\n",
    " 'NEOPLASIA_MALIGNA_DO_CÓLON',\n",
    " 'NEOPLASIA_MALIGNA_DE_TRAQUÉIA_BRÔNQUIOS_E_PULMÕES',\n",
    " 'TRANST_MENTAIS_COMPORT_DEV_USO_OUTR_SUBST_PSICOAT',\n",
    " 'BRONQUITE_ENFISEMA_E_OUTR_DOENÇ_PULM_OBSTR_CRÔNIC',\n",
    "#  'NEOPL_MALIG_JUNÇÃO_RETOSSIGM_RETO_ÂNUS_CANAL_ANAL',\n",
    "#  'OUTRAS_NEOPLASIAS_MALIGNAS_DA_PELE',\n",
    "#  'TRANSTORNOS_DE_CONDUÇÃO_E_ARRITMIAS_CARDÍACAS',\n",
    "#  'FLEBITE_TROMBOFLEBITE_EMBOLIA_E_TROMBOSE_VENOSA',\n",
    "#  'OUTRAS_DOENÇAS_ISQUÊMICAS_DO_CORAÇÃO',\n",
    "#  'TRANSTORNOS_DOS_NERVOS_RAÍZES_E_PLEXOS_NERVOSOS',\n",
    "#  'NEOPL_MALIG_OUTR_LOCALIZ_MAL_DEF_SECUN_E_NÃO_ESPEC',\n",
    "#  'DOENÇAS_DO_APÊNDICE',\n",
    "#  'COLELITÍASE_E_COLECISTITE',\n",
    "#  'NEOPLASIA_MALIGNA_DO_ESÔFAGO',\n",
    "#  'OUTROS_TRANSTRONOS_ARTICULARES',\n",
    "#  'UROLITÍASE',\n",
    "#  'PANCREATITE_AGUDA_E_OUTRAS_DOENÇAS_DO_PÂNCREAS',\n",
    "#  'TRANSTORNOS_DA_DENSIDADE_E_DA_ESTRUTURA_ÓSSEAS', \n",
    "          'SUICIDE']\n",
    "df = df[chosen]\n",
    "df.head()"
   ]
  },
  {
   "cell_type": "code",
   "execution_count": 7,
   "metadata": {},
   "outputs": [],
   "source": [
    "df.index = pd.to_datetime(df.index)\n",
    "index = pd.date_range(start=df.index.min(), end=df.index.max(), freq='MS')\n",
    "df = df.reindex(index)"
   ]
  },
  {
   "cell_type": "code",
   "execution_count": 8,
   "metadata": {},
   "outputs": [
    {
     "data": {
      "text/plain": [
       "DatetimeIndex(['2008-01-01', '2008-02-01', '2008-03-01', '2008-04-01',\n",
       "               '2008-05-01', '2008-06-01', '2008-07-01', '2008-08-01',\n",
       "               '2008-09-01', '2008-10-01',\n",
       "               ...\n",
       "               '2018-03-01', '2018-04-01', '2018-05-01', '2018-06-01',\n",
       "               '2018-07-01', '2018-08-01', '2018-09-01', '2018-10-01',\n",
       "               '2018-11-01', '2018-12-01'],\n",
       "              dtype='datetime64[ns]', length=132, freq='MS')"
      ]
     },
     "execution_count": 8,
     "metadata": {},
     "output_type": "execute_result"
    }
   ],
   "source": [
    "df.index"
   ]
  },
  {
   "cell_type": "code",
   "execution_count": 9,
   "metadata": {},
   "outputs": [],
   "source": [
    "nobs = 4\n",
    "df_train, df_test = df[\"SUICIDE\"][0:-nobs], df[\"SUICIDE\"][-nobs:]"
   ]
  },
  {
   "cell_type": "code",
   "execution_count": 10,
   "metadata": {},
   "outputs": [
    {
     "data": {
      "image/png": "[encoded data removed]",
      "text/plain": [
       "<Figure size 1440x720 with 2 Axes>"
      ]
     },
     "metadata": {
      "needs_background": "light"
     },
     "output_type": "display_data"
    }
   ],
   "source": [
    "#we use tra.diff()(differenced data), because this time series is unit root process.\n",
    "fig,ax = plt.subplots(2,1,figsize=(20,10))\n",
    "fig = sm.graphics.tsa.plot_acf(df_train.diff().dropna(), lags=50, ax=ax[0])\n",
    "fig = sm.graphics.tsa.plot_pacf(df_train.diff().dropna(), lags=50, ax=ax[1])\n",
    "plt.show()"
   ]
  },
  {
   "cell_type": "code",
   "execution_count": 11,
   "metadata": {
    "scrolled": true
   },
   "outputs": [
    {
     "name": "stderr",
     "output_type": "stream",
     "text": [
      "C:\\Users\\pypas\\anaconda3\\envs\\ML\\lib\\site-packages\\statsmodels\\base\\model.py:548: HessianInversionWarning: Inverting hessian failed, no bse or cov_params available\n",
      "  'available', HessianInversionWarning)\n",
      "C:\\Users\\pypas\\anaconda3\\envs\\ML\\lib\\site-packages\\statsmodels\\tsa\\tsatools.py:689: RuntimeWarning: overflow encountered in exp\n",
      "  newparams = ((1-np.exp(-params))/(1+np.exp(-params))).copy()\n",
      "C:\\Users\\pypas\\anaconda3\\envs\\ML\\lib\\site-packages\\statsmodels\\tsa\\tsatools.py:689: RuntimeWarning: invalid value encountered in true_divide\n",
      "  newparams = ((1-np.exp(-params))/(1+np.exp(-params))).copy()\n",
      "C:\\Users\\pypas\\anaconda3\\envs\\ML\\lib\\site-packages\\statsmodels\\tsa\\tsatools.py:690: RuntimeWarning: overflow encountered in exp\n",
      "  tmp = ((1-np.exp(-params))/(1+np.exp(-params))).copy()\n",
      "C:\\Users\\pypas\\anaconda3\\envs\\ML\\lib\\site-packages\\statsmodels\\tsa\\tsatools.py:690: RuntimeWarning: invalid value encountered in true_divide\n",
      "  tmp = ((1-np.exp(-params))/(1+np.exp(-params))).copy()\n",
      "C:\\Users\\pypas\\anaconda3\\envs\\ML\\lib\\site-packages\\statsmodels\\base\\model.py:548: HessianInversionWarning: Inverting hessian failed, no bse or cov_params available\n",
      "  'available', HessianInversionWarning)\n",
      "C:\\Users\\pypas\\anaconda3\\envs\\ML\\lib\\site-packages\\statsmodels\\base\\model.py:568: ConvergenceWarning: Maximum Likelihood optimization failed to converge. Check mle_retvals\n",
      "  \"Check mle_retvals\", ConvergenceWarning)\n",
      "C:\\Users\\pypas\\anaconda3\\envs\\ML\\lib\\site-packages\\statsmodels\\base\\model.py:548: HessianInversionWarning: Inverting hessian failed, no bse or cov_params available\n",
      "  'available', HessianInversionWarning)\n",
      "C:\\Users\\pypas\\anaconda3\\envs\\ML\\lib\\site-packages\\statsmodels\\base\\model.py:568: ConvergenceWarning: Maximum Likelihood optimization failed to converge. Check mle_retvals\n",
      "  \"Check mle_retvals\", ConvergenceWarning)\n",
      "C:\\Users\\pypas\\anaconda3\\envs\\ML\\lib\\site-packages\\statsmodels\\base\\model.py:548: HessianInversionWarning: Inverting hessian failed, no bse or cov_params available\n",
      "  'available', HessianInversionWarning)\n",
      "C:\\Users\\pypas\\anaconda3\\envs\\ML\\lib\\site-packages\\statsmodels\\base\\model.py:548: HessianInversionWarning: Inverting hessian failed, no bse or cov_params available\n",
      "  'available', HessianInversionWarning)\n",
      "C:\\Users\\pypas\\anaconda3\\envs\\ML\\lib\\site-packages\\statsmodels\\base\\model.py:548: HessianInversionWarning: Inverting hessian failed, no bse or cov_params available\n",
      "  'available', HessianInversionWarning)\n",
      "C:\\Users\\pypas\\anaconda3\\envs\\ML\\lib\\site-packages\\statsmodels\\base\\model.py:548: HessianInversionWarning: Inverting hessian failed, no bse or cov_params available\n",
      "  'available', HessianInversionWarning)\n",
      "C:\\Users\\pypas\\anaconda3\\envs\\ML\\lib\\site-packages\\statsmodels\\base\\model.py:548: HessianInversionWarning: Inverting hessian failed, no bse or cov_params available\n",
      "  'available', HessianInversionWarning)\n"
     ]
    },
    {
     "name": "stdout",
     "output_type": "stream",
     "text": [
      "ARMA(p,q) = (1, 1) is the best.\n"
     ]
    },
    {
     "name": "stderr",
     "output_type": "stream",
     "text": [
      "C:\\Users\\pypas\\anaconda3\\envs\\ML\\lib\\site-packages\\statsmodels\\tsa\\tsatools.py:714: RuntimeWarning: divide by zero encountered in double_scalars\n",
      "  tmp[kiter] = (macoefs[kiter]-b *macoefs[j-kiter-1])/(1-b**2)\n",
      "C:\\Users\\pypas\\anaconda3\\envs\\ML\\lib\\site-packages\\statsmodels\\tsa\\tsatools.py:716: RuntimeWarning: divide by zero encountered in true_divide\n",
      "  invmacoefs = -np.log((1-macoefs)/(1+macoefs))\n",
      "C:\\Users\\pypas\\anaconda3\\envs\\ML\\lib\\site-packages\\statsmodels\\tsa\\tsatools.py:716: RuntimeWarning: invalid value encountered in true_divide\n",
      "  invmacoefs = -np.log((1-macoefs)/(1+macoefs))\n",
      "C:\\Users\\pypas\\anaconda3\\envs\\ML\\lib\\site-packages\\statsmodels\\tsa\\tsatools.py:716: RuntimeWarning: invalid value encountered in log\n",
      "  invmacoefs = -np.log((1-macoefs)/(1+macoefs))\n"
     ]
    }
   ],
   "source": [
    "resDiff = sm.tsa.arma_order_select_ic(df_train, max_ar=5, max_ma=5, ic='aic', trend='c')\n",
    "print('ARMA(p,q) =',resDiff['aic_min_order'],'is the best.')"
   ]
  },
  {
   "cell_type": "code",
   "execution_count": 12,
   "metadata": {},
   "outputs": [],
   "source": [
    "ar = resDiff['aic_min_order'][0]\n",
    "ma = resDiff['aic_min_order'][1]"
   ]
  },
  {
   "cell_type": "code",
   "execution_count": 13,
   "metadata": {},
   "outputs": [
    {
     "name": "stdout",
     "output_type": "stream",
     "text": [
      "p-value:5.104059689097448e-09\n"
     ]
    }
   ],
   "source": [
    "res = sm.tsa.adfuller(df['SUICIDE'].diff().dropna(),regression='ct')\n",
    "print('p-value:{}'.format(res[1]))"
   ]
  },
  {
   "cell_type": "markdown",
   "metadata": {},
   "source": [
    "# Arima"
   ]
  },
  {
   "cell_type": "code",
   "execution_count": 14,
   "metadata": {},
   "outputs": [
    {
     "data": {
      "text/html": [
       "<table class=\"simpletable\">\n",
       "<caption>SARIMAX Results</caption>\n",
       "<tr>\n",
       "  <th>Dep. Variable:</th>        <td>SUICIDE</td>     <th>  No. Observations:  </th>    <td>128</td>  \n",
       "</tr>\n",
       "<tr>\n",
       "  <th>Model:</th>           <td>SARIMAX(1, 1, 1)</td> <th>  Log Likelihood     </th> <td>-302.776</td>\n",
       "</tr>\n",
       "<tr>\n",
       "  <th>Date:</th>            <td>Mon, 07 Sep 2020</td> <th>  AIC                </th>  <td>611.552</td>\n",
       "</tr>\n",
       "<tr>\n",
       "  <th>Time:</th>                <td>16:56:04</td>     <th>  BIC                </th>  <td>620.037</td>\n",
       "</tr>\n",
       "<tr>\n",
       "  <th>Sample:</th>             <td>01-01-2008</td>    <th>  HQIC               </th>  <td>614.999</td>\n",
       "</tr>\n",
       "<tr>\n",
       "  <th></th>                   <td>- 08-01-2018</td>   <th>                     </th>     <td> </td>   \n",
       "</tr>\n",
       "<tr>\n",
       "  <th>Covariance Type:</th>        <td>opg</td>       <th>                     </th>     <td> </td>   \n",
       "</tr>\n",
       "</table>\n",
       "<table class=\"simpletable\">\n",
       "<tr>\n",
       "     <td></td>       <th>coef</th>     <th>std err</th>      <th>z</th>      <th>P>|z|</th>  <th>[0.025</th>    <th>0.975]</th>  \n",
       "</tr>\n",
       "<tr>\n",
       "  <th>ar.L1</th>  <td>    0.1600</td> <td>    0.115</td> <td>    1.394</td> <td> 0.163</td> <td>   -0.065</td> <td>    0.385</td>\n",
       "</tr>\n",
       "<tr>\n",
       "  <th>ma.L1</th>  <td>   -0.8779</td> <td>    0.052</td> <td>  -16.829</td> <td> 0.000</td> <td>   -0.980</td> <td>   -0.776</td>\n",
       "</tr>\n",
       "<tr>\n",
       "  <th>sigma2</th> <td>    7.3841</td> <td>    0.710</td> <td>   10.393</td> <td> 0.000</td> <td>    5.992</td> <td>    8.777</td>\n",
       "</tr>\n",
       "</table>\n",
       "<table class=\"simpletable\">\n",
       "<tr>\n",
       "  <th>Ljung-Box (Q):</th>          <td>35.26</td> <th>  Jarque-Bera (JB):  </th> <td>22.71</td>\n",
       "</tr>\n",
       "<tr>\n",
       "  <th>Prob(Q):</th>                <td>0.68</td>  <th>  Prob(JB):          </th> <td>0.00</td> \n",
       "</tr>\n",
       "<tr>\n",
       "  <th>Heteroskedasticity (H):</th> <td>1.89</td>  <th>  Skew:              </th> <td>0.59</td> \n",
       "</tr>\n",
       "<tr>\n",
       "  <th>Prob(H) (two-sided):</th>    <td>0.04</td>  <th>  Kurtosis:          </th> <td>4.73</td> \n",
       "</tr>\n",
       "</table><br/><br/>Warnings:<br/>[1] Covariance matrix calculated using the outer product of gradients (complex-step)."
      ],
      "text/plain": [
       "<class 'statsmodels.iolib.summary.Summary'>\n",
       "\"\"\"\n",
       "                               SARIMAX Results                                \n",
       "==============================================================================\n",
       "Dep. Variable:                SUICIDE   No. Observations:                  128\n",
       "Model:               SARIMAX(1, 1, 1)   Log Likelihood                -302.776\n",
       "Date:                Mon, 07 Sep 2020   AIC                            611.552\n",
       "Time:                        16:56:04   BIC                            620.037\n",
       "Sample:                    01-01-2008   HQIC                           614.999\n",
       "                         - 08-01-2018                                         \n",
       "Covariance Type:                  opg                                         \n",
       "==============================================================================\n",
       "                 coef    std err          z      P>|z|      [0.025      0.975]\n",
       "------------------------------------------------------------------------------\n",
       "ar.L1          0.1600      0.115      1.394      0.163      -0.065       0.385\n",
       "ma.L1         -0.8779      0.052    -16.829      0.000      -0.980      -0.776\n",
       "sigma2         7.3841      0.710     10.393      0.000       5.992       8.777\n",
       "===================================================================================\n",
       "Ljung-Box (Q):                       35.26   Jarque-Bera (JB):                22.71\n",
       "Prob(Q):                              0.68   Prob(JB):                         0.00\n",
       "Heteroskedasticity (H):               1.89   Skew:                             0.59\n",
       "Prob(H) (two-sided):                  0.04   Kurtosis:                         4.73\n",
       "===================================================================================\n",
       "\n",
       "Warnings:\n",
       "[1] Covariance matrix calculated using the outer product of gradients (complex-step).\n",
       "\"\"\""
      ]
     },
     "execution_count": 14,
     "metadata": {},
     "output_type": "execute_result"
    }
   ],
   "source": [
    "arima = sm.tsa.statespace.SARIMAX(df_train,order=(ar,1,ma),freq=\"MS\",seasonal_order=(0,0,0,0),\n",
    "                                 enforce_stationarity=False, enforce_invertibility=False,).fit()\n",
    "arima.summary()"
   ]
  },
  {
   "cell_type": "code",
   "execution_count": 15,
   "metadata": {},
   "outputs": [
    {
     "data": {
      "image/png": "[encoded data removed]",
      "text/plain": [
       "<Figure size 1080x576 with 2 Axes>"
      ]
     },
     "metadata": {
      "needs_background": "light"
     },
     "output_type": "display_data"
    }
   ],
   "source": [
    "res = arima.resid\n",
    "fig,ax = plt.subplots(2,1,figsize=(15,8))\n",
    "fig = sm.graphics.tsa.plot_acf(res, lags=50, ax=ax[0])\n",
    "fig = sm.graphics.tsa.plot_pacf(res, lags=50, ax=ax[1])\n",
    "plt.show()"
   ]
  },
  {
   "cell_type": "code",
   "execution_count": 16,
   "metadata": {},
   "outputs": [
    {
     "name": "stdout",
     "output_type": "stream",
     "text": [
      "ARIMA model MSE:7.289862523485986\n"
     ]
    },
    {
     "data": {
      "image/png": "[encoded data removed]",
      "text/plain": [
       "<Figure size 432x288 with 1 Axes>"
      ]
     },
     "metadata": {
      "needs_background": "light"
     },
     "output_type": "display_data"
    }
   ],
   "source": [
    "from sklearn.metrics import mean_squared_error\n",
    "pred = arima.predict(df_train.index[0],df_train.index[-1])\n",
    "print('ARIMA model MSE:{}'.format(mean_squared_error(df_train,pred)))\n",
    "pd.DataFrame({'test':df_train,'pred':pred}).plot();plt.show()"
   ]
  },
  {
   "cell_type": "code",
   "execution_count": 17,
   "metadata": {},
   "outputs": [
    {
     "name": "stdout",
     "output_type": "stream",
     "text": [
      "ARIMA model MSE:5.5688584182891825\n"
     ]
    },
    {
     "data": {
      "image/png": "[encoded data removed]",
      "text/plain": [
       "<Figure size 432x288 with 1 Axes>"
      ]
     },
     "metadata": {
      "needs_background": "light"
     },
     "output_type": "display_data"
    }
   ],
   "source": [
    "pred = arima.predict(df_test.index[0],df_test.index[-1])\n",
    "print('ARIMA model MSE:{}'.format(mean_squared_error(df_test,pred)))\n",
    "pd.DataFrame({'test':df_test,'pred':pred}).plot();plt.show()"
   ]
  },
  {
   "cell_type": "markdown",
   "metadata": {},
   "source": [
    "# Arimax"
   ]
  },
  {
   "cell_type": "code",
   "execution_count": 18,
   "metadata": {},
   "outputs": [
    {
     "data": {
      "text/html": [
       "<table class=\"simpletable\">\n",
       "<caption>SARIMAX Results</caption>\n",
       "<tr>\n",
       "  <th>Dep. Variable:</th>        <td>SUICIDE</td>     <th>  No. Observations:  </th>    <td>128</td>  \n",
       "</tr>\n",
       "<tr>\n",
       "  <th>Model:</th>           <td>SARIMAX(1, 1, 1)</td> <th>  Log Likelihood     </th> <td>-297.528</td>\n",
       "</tr>\n",
       "<tr>\n",
       "  <th>Date:</th>            <td>Mon, 07 Sep 2020</td> <th>  AIC                </th>  <td>613.057</td>\n",
       "</tr>\n",
       "<tr>\n",
       "  <th>Time:</th>                <td>16:56:05</td>     <th>  BIC                </th>  <td>638.511</td>\n",
       "</tr>\n",
       "<tr>\n",
       "  <th>Sample:</th>             <td>01-01-2008</td>    <th>  HQIC               </th>  <td>623.398</td>\n",
       "</tr>\n",
       "<tr>\n",
       "  <th></th>                   <td>- 08-01-2018</td>   <th>                     </th>     <td> </td>   \n",
       "</tr>\n",
       "<tr>\n",
       "  <th>Covariance Type:</th>        <td>opg</td>       <th>                     </th>     <td> </td>   \n",
       "</tr>\n",
       "</table>\n",
       "<table class=\"simpletable\">\n",
       "<tr>\n",
       "                           <td></td>                             <th>coef</th>     <th>std err</th>      <th>z</th>      <th>P>|z|</th>  <th>[0.025</th>    <th>0.975]</th>  \n",
       "</tr>\n",
       "<tr>\n",
       "  <th>TRANSTORNOS_DE_HUMOR_[AFETIVOS]</th>                    <td>    0.0285</td> <td>    0.041</td> <td>    0.695</td> <td> 0.487</td> <td>   -0.052</td> <td>    0.109</td>\n",
       "</tr>\n",
       "<tr>\n",
       "  <th>TRANST_MENTAIS_E_COMPORTAMENTAIS_DEV_USO_DE_ÁLCOOL</th> <td>   -0.0046</td> <td>    0.039</td> <td>   -0.116</td> <td> 0.908</td> <td>   -0.082</td> <td>    0.073</td>\n",
       "</tr>\n",
       "<tr>\n",
       "  <th>NEOPLASIA_MALIGNA_DO_CÓLON</th>                         <td>    0.0474</td> <td>    0.042</td> <td>    1.139</td> <td> 0.255</td> <td>   -0.034</td> <td>    0.129</td>\n",
       "</tr>\n",
       "<tr>\n",
       "  <th>NEOPLASIA_MALIGNA_DE_TRAQUÉIA_BRÔNQUIOS_E_PULMÕES</th>  <td>   -0.1342</td> <td>    0.045</td> <td>   -2.992</td> <td> 0.003</td> <td>   -0.222</td> <td>   -0.046</td>\n",
       "</tr>\n",
       "<tr>\n",
       "  <th>TRANST_MENTAIS_COMPORT_DEV_USO_OUTR_SUBST_PSICOAT</th>  <td>    0.0358</td> <td>    0.124</td> <td>    0.289</td> <td> 0.773</td> <td>   -0.207</td> <td>    0.279</td>\n",
       "</tr>\n",
       "<tr>\n",
       "  <th>BRONQUITE_ENFISEMA_E_OUTR_DOENÇ_PULM_OBSTR_CRÔNIC</th>  <td>    0.0109</td> <td>    0.040</td> <td>    0.273</td> <td> 0.785</td> <td>   -0.067</td> <td>    0.089</td>\n",
       "</tr>\n",
       "<tr>\n",
       "  <th>ar.L1</th>                                              <td>    0.1204</td> <td>    0.114</td> <td>    1.052</td> <td> 0.293</td> <td>   -0.104</td> <td>    0.345</td>\n",
       "</tr>\n",
       "<tr>\n",
       "  <th>ma.L1</th>                                              <td>   -0.8659</td> <td>    0.059</td> <td>  -14.596</td> <td> 0.000</td> <td>   -0.982</td> <td>   -0.750</td>\n",
       "</tr>\n",
       "<tr>\n",
       "  <th>sigma2</th>                                             <td>    6.7935</td> <td>    0.646</td> <td>   10.522</td> <td> 0.000</td> <td>    5.528</td> <td>    8.059</td>\n",
       "</tr>\n",
       "</table>\n",
       "<table class=\"simpletable\">\n",
       "<tr>\n",
       "  <th>Ljung-Box (Q):</th>          <td>36.35</td> <th>  Jarque-Bera (JB):  </th> <td>27.43</td>\n",
       "</tr>\n",
       "<tr>\n",
       "  <th>Prob(Q):</th>                <td>0.64</td>  <th>  Prob(JB):          </th> <td>0.00</td> \n",
       "</tr>\n",
       "<tr>\n",
       "  <th>Heteroskedasticity (H):</th> <td>1.92</td>  <th>  Skew:              </th> <td>0.65</td> \n",
       "</tr>\n",
       "<tr>\n",
       "  <th>Prob(H) (two-sided):</th>    <td>0.04</td>  <th>  Kurtosis:          </th> <td>4.89</td> \n",
       "</tr>\n",
       "</table><br/><br/>Warnings:<br/>[1] Covariance matrix calculated using the outer product of gradients (complex-step)."
      ],
      "text/plain": [
       "<class 'statsmodels.iolib.summary.Summary'>\n",
       "\"\"\"\n",
       "                               SARIMAX Results                                \n",
       "==============================================================================\n",
       "Dep. Variable:                SUICIDE   No. Observations:                  128\n",
       "Model:               SARIMAX(1, 1, 1)   Log Likelihood                -297.528\n",
       "Date:                Mon, 07 Sep 2020   AIC                            613.057\n",
       "Time:                        16:56:05   BIC                            638.511\n",
       "Sample:                    01-01-2008   HQIC                           623.398\n",
       "                         - 08-01-2018                                         \n",
       "Covariance Type:                  opg                                         \n",
       "======================================================================================================================\n",
       "                                                         coef    std err          z      P>|z|      [0.025      0.975]\n",
       "----------------------------------------------------------------------------------------------------------------------\n",
       "TRANSTORNOS_DE_HUMOR_[AFETIVOS]                        0.0285      0.041      0.695      0.487      -0.052       0.109\n",
       "TRANST_MENTAIS_E_COMPORTAMENTAIS_DEV_USO_DE_ÁLCOOL    -0.0046      0.039     -0.116      0.908      -0.082       0.073\n",
       "NEOPLASIA_MALIGNA_DO_CÓLON                             0.0474      0.042      1.139      0.255      -0.034       0.129\n",
       "NEOPLASIA_MALIGNA_DE_TRAQUÉIA_BRÔNQUIOS_E_PULMÕES     -0.1342      0.045     -2.992      0.003      -0.222      -0.046\n",
       "TRANST_MENTAIS_COMPORT_DEV_USO_OUTR_SUBST_PSICOAT      0.0358      0.124      0.289      0.773      -0.207       0.279\n",
       "BRONQUITE_ENFISEMA_E_OUTR_DOENÇ_PULM_OBSTR_CRÔNIC      0.0109      0.040      0.273      0.785      -0.067       0.089\n",
       "ar.L1                                                  0.1204      0.114      1.052      0.293      -0.104       0.345\n",
       "ma.L1                                                 -0.8659      0.059    -14.596      0.000      -0.982      -0.750\n",
       "sigma2                                                 6.7935      0.646     10.522      0.000       5.528       8.059\n",
       "===================================================================================\n",
       "Ljung-Box (Q):                       36.35   Jarque-Bera (JB):                27.43\n",
       "Prob(Q):                              0.64   Prob(JB):                         0.00\n",
       "Heteroskedasticity (H):               1.92   Skew:                             0.65\n",
       "Prob(H) (two-sided):                  0.04   Kurtosis:                         4.89\n",
       "===================================================================================\n",
       "\n",
       "Warnings:\n",
       "[1] Covariance matrix calculated using the outer product of gradients (complex-step).\n",
       "\"\"\""
      ]
     },
     "execution_count": 18,
     "metadata": {},
     "output_type": "execute_result"
    }
   ],
   "source": [
    "exog_train, exog_test = df.drop(columns=\"SUICIDE\")[0:-nobs], df.drop(columns=\"SUICIDE\")[-nobs:]\n",
    "arimax = sm.tsa.statespace.SARIMAX(df_train,order=(ar,1,ma),seasonal_order=(0,0,0,0),exog = exog_train,freq='MS',\n",
    "                                  enforce_stationarity=False, enforce_invertibility=False,).fit()\n",
    "arimax.summary()"
   ]
  },
  {
   "cell_type": "code",
   "execution_count": 19,
   "metadata": {},
   "outputs": [
    {
     "name": "stdout",
     "output_type": "stream",
     "text": [
      "ARIMAX model MSE:6.696822048039082\n"
     ]
    },
    {
     "data": {
      "image/png": "[encoded data removed]",
      "text/plain": [
       "<Figure size 432x288 with 1 Axes>"
      ]
     },
     "metadata": {
      "needs_background": "light"
     },
     "output_type": "display_data"
    }
   ],
   "source": [
    "from sklearn.metrics import mean_squared_error\n",
    "pred = arimax.predict(df_train.index[0],df_train.index[-1],exog = exog_train)\n",
    "print('ARIMAX model MSE:{}'.format(mean_squared_error(df_train,pred)))\n",
    "pd.DataFrame({'test':df_train,'pred':pred}).plot();plt.show()"
   ]
  },
  {
   "cell_type": "code",
   "execution_count": 20,
   "metadata": {},
   "outputs": [
    {
     "name": "stdout",
     "output_type": "stream",
     "text": [
      "ARIMAX model MSE:13.194930256538981\n"
     ]
    },
    {
     "data": {
      "image/png": "[encoded data removed]",
      "text/plain": [
       "<Figure size 432x288 with 1 Axes>"
      ]
     },
     "metadata": {
      "needs_background": "light"
     },
     "output_type": "display_data"
    }
   ],
   "source": [
    "pred = arimax.predict(df_test.index[0],df_test.index[-1],exog = exog_test)\n",
    "print('ARIMAX model MSE:{}'.format(mean_squared_error(df_test,pred)))\n",
    "pd.DataFrame({'test':df_test,'pred':pred}).plot();plt.show()"
   ]
  },
  {
   "cell_type": "markdown",
   "metadata": {},
   "source": [
    "# Sarimax"
   ]
  },
  {
   "cell_type": "code",
   "execution_count": 21,
   "metadata": {},
   "outputs": [
    {
     "data": {
      "text/html": [
       "<table class=\"simpletable\">\n",
       "<caption>SARIMAX Results</caption>\n",
       "<tr>\n",
       "  <th>Dep. Variable:</th>               <td>SUICIDE</td>            <th>  No. Observations:  </th>    <td>128</td>  \n",
       "</tr>\n",
       "<tr>\n",
       "  <th>Model:</th>           <td>SARIMAX(1, 1, 1)x(1, 1, 1, 12)</td> <th>  Log Likelihood     </th> <td>-254.138</td>\n",
       "</tr>\n",
       "<tr>\n",
       "  <th>Date:</th>                   <td>Mon, 07 Sep 2020</td>        <th>  AIC                </th>  <td>530.276</td>\n",
       "</tr>\n",
       "<tr>\n",
       "  <th>Time:</th>                       <td>16:56:07</td>            <th>  BIC                </th>  <td>559.042</td>\n",
       "</tr>\n",
       "<tr>\n",
       "  <th>Sample:</th>                    <td>01-01-2008</td>           <th>  HQIC               </th>  <td>541.921</td>\n",
       "</tr>\n",
       "<tr>\n",
       "  <th></th>                          <td>- 08-01-2018</td>          <th>                     </th>     <td> </td>   \n",
       "</tr>\n",
       "<tr>\n",
       "  <th>Covariance Type:</th>               <td>opg</td>              <th>                     </th>     <td> </td>   \n",
       "</tr>\n",
       "</table>\n",
       "<table class=\"simpletable\">\n",
       "<tr>\n",
       "                           <td></td>                             <th>coef</th>     <th>std err</th>      <th>z</th>      <th>P>|z|</th>  <th>[0.025</th>    <th>0.975]</th>  \n",
       "</tr>\n",
       "<tr>\n",
       "  <th>TRANSTORNOS_DE_HUMOR_[AFETIVOS]</th>                    <td>    0.0290</td> <td>    0.046</td> <td>    0.631</td> <td> 0.528</td> <td>   -0.061</td> <td>    0.119</td>\n",
       "</tr>\n",
       "<tr>\n",
       "  <th>TRANST_MENTAIS_E_COMPORTAMENTAIS_DEV_USO_DE_ÁLCOOL</th> <td>    0.0197</td> <td>    0.041</td> <td>    0.484</td> <td> 0.628</td> <td>   -0.060</td> <td>    0.099</td>\n",
       "</tr>\n",
       "<tr>\n",
       "  <th>NEOPLASIA_MALIGNA_DO_CÓLON</th>                         <td>    0.0254</td> <td>    0.046</td> <td>    0.555</td> <td> 0.579</td> <td>   -0.064</td> <td>    0.115</td>\n",
       "</tr>\n",
       "<tr>\n",
       "  <th>NEOPLASIA_MALIGNA_DE_TRAQUÉIA_BRÔNQUIOS_E_PULMÕES</th>  <td>   -0.1377</td> <td>    0.059</td> <td>   -2.321</td> <td> 0.020</td> <td>   -0.254</td> <td>   -0.021</td>\n",
       "</tr>\n",
       "<tr>\n",
       "  <th>TRANST_MENTAIS_COMPORT_DEV_USO_OUTR_SUBST_PSICOAT</th>  <td>    0.0776</td> <td>    0.134</td> <td>    0.579</td> <td> 0.563</td> <td>   -0.185</td> <td>    0.340</td>\n",
       "</tr>\n",
       "<tr>\n",
       "  <th>BRONQUITE_ENFISEMA_E_OUTR_DOENÇ_PULM_OBSTR_CRÔNIC</th>  <td>    0.0140</td> <td>    0.050</td> <td>    0.279</td> <td> 0.780</td> <td>   -0.085</td> <td>    0.113</td>\n",
       "</tr>\n",
       "<tr>\n",
       "  <th>ar.L1</th>                                              <td>    0.0680</td> <td>    0.141</td> <td>    0.484</td> <td> 0.628</td> <td>   -0.207</td> <td>    0.343</td>\n",
       "</tr>\n",
       "<tr>\n",
       "  <th>ma.L1</th>                                              <td>   -0.8606</td> <td>    0.070</td> <td>  -12.344</td> <td> 0.000</td> <td>   -0.997</td> <td>   -0.724</td>\n",
       "</tr>\n",
       "<tr>\n",
       "  <th>ar.S.L12</th>                                           <td>   -0.1647</td> <td>    0.133</td> <td>   -1.236</td> <td> 0.216</td> <td>   -0.426</td> <td>    0.096</td>\n",
       "</tr>\n",
       "<tr>\n",
       "  <th>ma.S.L12</th>                                           <td>   -1.0002</td> <td>  215.761</td> <td>   -0.005</td> <td> 0.996</td> <td> -423.885</td> <td>  421.884</td>\n",
       "</tr>\n",
       "<tr>\n",
       "  <th>sigma2</th>                                             <td>    6.9035</td> <td> 1489.865</td> <td>    0.005</td> <td> 0.996</td> <td>-2913.178</td> <td> 2926.985</td>\n",
       "</tr>\n",
       "</table>\n",
       "<table class=\"simpletable\">\n",
       "<tr>\n",
       "  <th>Ljung-Box (Q):</th>          <td>48.34</td> <th>  Jarque-Bera (JB):  </th> <td>11.08</td>\n",
       "</tr>\n",
       "<tr>\n",
       "  <th>Prob(Q):</th>                <td>0.17</td>  <th>  Prob(JB):          </th> <td>0.00</td> \n",
       "</tr>\n",
       "<tr>\n",
       "  <th>Heteroskedasticity (H):</th> <td>2.34</td>  <th>  Skew:              </th> <td>0.56</td> \n",
       "</tr>\n",
       "<tr>\n",
       "  <th>Prob(H) (two-sided):</th>    <td>0.02</td>  <th>  Kurtosis:          </th> <td>4.18</td> \n",
       "</tr>\n",
       "</table><br/><br/>Warnings:<br/>[1] Covariance matrix calculated using the outer product of gradients (complex-step)."
      ],
      "text/plain": [
       "<class 'statsmodels.iolib.summary.Summary'>\n",
       "\"\"\"\n",
       "                                     SARIMAX Results                                      \n",
       "==========================================================================================\n",
       "Dep. Variable:                            SUICIDE   No. Observations:                  128\n",
       "Model:             SARIMAX(1, 1, 1)x(1, 1, 1, 12)   Log Likelihood                -254.138\n",
       "Date:                            Mon, 07 Sep 2020   AIC                            530.276\n",
       "Time:                                    16:56:07   BIC                            559.042\n",
       "Sample:                                01-01-2008   HQIC                           541.921\n",
       "                                     - 08-01-2018                                         \n",
       "Covariance Type:                              opg                                         \n",
       "======================================================================================================================\n",
       "                                                         coef    std err          z      P>|z|      [0.025      0.975]\n",
       "----------------------------------------------------------------------------------------------------------------------\n",
       "TRANSTORNOS_DE_HUMOR_[AFETIVOS]                        0.0290      0.046      0.631      0.528      -0.061       0.119\n",
       "TRANST_MENTAIS_E_COMPORTAMENTAIS_DEV_USO_DE_ÁLCOOL     0.0197      0.041      0.484      0.628      -0.060       0.099\n",
       "NEOPLASIA_MALIGNA_DO_CÓLON                             0.0254      0.046      0.555      0.579      -0.064       0.115\n",
       "NEOPLASIA_MALIGNA_DE_TRAQUÉIA_BRÔNQUIOS_E_PULMÕES     -0.1377      0.059     -2.321      0.020      -0.254      -0.021\n",
       "TRANST_MENTAIS_COMPORT_DEV_USO_OUTR_SUBST_PSICOAT      0.0776      0.134      0.579      0.563      -0.185       0.340\n",
       "BRONQUITE_ENFISEMA_E_OUTR_DOENÇ_PULM_OBSTR_CRÔNIC      0.0140      0.050      0.279      0.780      -0.085       0.113\n",
       "ar.L1                                                  0.0680      0.141      0.484      0.628      -0.207       0.343\n",
       "ma.L1                                                 -0.8606      0.070    -12.344      0.000      -0.997      -0.724\n",
       "ar.S.L12                                              -0.1647      0.133     -1.236      0.216      -0.426       0.096\n",
       "ma.S.L12                                              -1.0002    215.761     -0.005      0.996    -423.885     421.884\n",
       "sigma2                                                 6.9035   1489.865      0.005      0.996   -2913.178    2926.985\n",
       "===================================================================================\n",
       "Ljung-Box (Q):                       48.34   Jarque-Bera (JB):                11.08\n",
       "Prob(Q):                              0.17   Prob(JB):                         0.00\n",
       "Heteroskedasticity (H):               2.34   Skew:                             0.56\n",
       "Prob(H) (two-sided):                  0.02   Kurtosis:                         4.18\n",
       "===================================================================================\n",
       "\n",
       "Warnings:\n",
       "[1] Covariance matrix calculated using the outer product of gradients (complex-step).\n",
       "\"\"\""
      ]
     },
     "execution_count": 21,
     "metadata": {},
     "output_type": "execute_result"
    }
   ],
   "source": [
    "sarimax = sm.tsa.statespace.SARIMAX(df_train,order=(ar,1,ma),seasonal_order=(ar,1,ma,12),exog = exog_train,\n",
    "                                enforce_stationarity=False, enforce_invertibility=False,freq='MS').fit()\n",
    "sarimax.summary()"
   ]
  },
  {
   "cell_type": "code",
   "execution_count": 22,
   "metadata": {},
   "outputs": [
    {
     "name": "stdout",
     "output_type": "stream",
     "text": [
      "SARIMAX model MSE:8.061554348976927\n"
     ]
    },
    {
     "data": {
      "image/png": "[encoded data removed]",
      "text/plain": [
       "<Figure size 432x288 with 1 Axes>"
      ]
     },
     "metadata": {
      "needs_background": "light"
     },
     "output_type": "display_data"
    }
   ],
   "source": [
    "from sklearn.metrics import mean_squared_error\n",
    "pred = sarimax.predict(df_train.index[0],df_train.index[-1],exog = exog_train)\n",
    "print('SARIMAX model MSE:{}'.format(mean_squared_error(df_train,pred)))\n",
    "pd.DataFrame({'test':df_train,'pred':pred}).plot();plt.show()"
   ]
  },
  {
   "cell_type": "code",
   "execution_count": 23,
   "metadata": {},
   "outputs": [
    {
     "name": "stdout",
     "output_type": "stream",
     "text": [
      "SARIMAX model MSE:18.67636562855097\n"
     ]
    },
    {
     "data": {
      "image/png": "[encoded data removed]",
      "text/plain": [
       "<Figure size 432x288 with 1 Axes>"
      ]
     },
     "metadata": {
      "needs_background": "light"
     },
     "output_type": "display_data"
    }
   ],
   "source": [
    "pred = sarimax.predict(df_test.index[0],df_test.index[-1],exog = exog_test)\n",
    "print('SARIMAX model MSE:{}'.format(mean_squared_error(df_test,pred)))\n",
    "pd.DataFrame({'test':df_test,'pred':pred}).plot();plt.show()"
   ]
  }
 ],
 "metadata": {
  "kernelspec": {
   "display_name": "Python 3",
   "language": "python",
   "name": "python3"
  },
  "language_info": {
   "codemirror_mode": {
    "name": "ipython",
    "version": 3
   },
   "file_extension": ".py",
   "mimetype": "text/x-python",
   "name": "python",
   "nbconvert_exporter": "python",
   "pygments_lexer": "ipython3",
   "version": "3.7.6"
  }
 },
 "nbformat": 4,
 "nbformat_minor": 4
}
