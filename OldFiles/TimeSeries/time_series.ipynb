{
 "cells": [
  {
   "cell_type": "markdown",
   "metadata": {},
   "source": [
    "# Time Series"
   ]
  },
  {
   "cell_type": "code",
   "execution_count": 1,
   "metadata": {},
   "outputs": [],
   "source": [
    "import pandas as pd\n",
    "import matplotlib.pyplot as plt\n",
    "import glob"
   ]
  },
  {
   "cell_type": "markdown",
   "metadata": {},
   "source": [
    "## Data Prep"
   ]
  },
  {
   "cell_type": "markdown",
   "metadata": {},
   "source": [
    "Import diseases data"
   ]
  },
  {
   "cell_type": "code",
   "execution_count": 2,
   "metadata": {},
   "outputs": [],
   "source": [
    "root = \"../\"\n",
    "path = root + 'CSV/TabNet/Internacoes/'\n",
    "all_files = glob.glob(path + \"*\")\n",
    "df_diseases = pd.DataFrame()\n",
    "list_of_diseases = []\n",
    "for file in all_files:\n",
    "    file_name = file.split(\"\\\\\")[1]\n",
    "    disease = file_name.split(\".\")[0]\n",
    "    list_of_diseases.append(disease)\n",
    "    df_disease = pd.read_csv(path + file_name, sep=\";\")\n",
    "    df_disease = df_disease[df_disease[\"Município\"] == \"355030 São Paulo\"]\n",
    "    if not df_disease.empty:\n",
    "        df_disease= df_disease.filter(regex='2008|2009|2010|2011|2012|2013|2014|2015|2016|2017|2018', axis=1)\n",
    "        df_disease = df_disease.transpose()\n",
    "        df_disease.columns = [disease]\n",
    "        df_disease = df_disease.replace(\"-\",0)\n",
    "        df_disease = df_disease.astype(int)\n",
    "        df_diseases[disease] = df_disease[disease]\n",
    "df_diseases = df_diseases.fillna(0)"
   ]
  },
  {
   "cell_type": "code",
   "execution_count": 3,
   "metadata": {},
   "outputs": [
    {
     "data": {
      "text/html": [
       "<div>\n",
       "<style scoped>\n",
       "    .dataframe tbody tr th:only-of-type {\n",
       "        vertical-align: middle;\n",
       "    }\n",
       "\n",
       "    .dataframe tbody tr th {\n",
       "        vertical-align: top;\n",
       "    }\n",
       "\n",
       "    .dataframe thead th {\n",
       "        text-align: right;\n",
       "    }\n",
       "</style>\n",
       "<table border=\"1\" class=\"dataframe\">\n",
       "  <thead>\n",
       "    <tr style=\"text-align: right;\">\n",
       "      <th></th>\n",
       "      <th>ASMA</th>\n",
       "      <th>CANCER</th>\n",
       "      <th>DIABETES_MELLITUS</th>\n",
       "      <th>DOENCA_CARDIACA</th>\n",
       "      <th>DOENCA_DE_PARKINSON</th>\n",
       "      <th>DORSOPATIAS</th>\n",
       "      <th>DPOC</th>\n",
       "      <th>ENXAQUECA</th>\n",
       "      <th>EPILEPSIA</th>\n",
       "      <th>ESCLEROSE_MULTIPLA</th>\n",
       "      <th>HIPERTENSAO</th>\n",
       "      <th>HIV</th>\n",
       "      <th>INSUFICIENCIA_CARDIACA</th>\n",
       "      <th>INSUFICIENCIA_RENAL</th>\n",
       "      <th>OSTEOPOROSE</th>\n",
       "      <th>TECIDO_MOLE</th>\n",
       "      <th>TRANSTORNOS_MENTAIS_E_COMPORTAMENTAIS</th>\n",
       "      <th>TRAUMATISMO_INTRACRANIANO</th>\n",
       "    </tr>\n",
       "  </thead>\n",
       "  <tbody>\n",
       "    <tr>\n",
       "      <th>1/2008</th>\n",
       "      <td>196</td>\n",
       "      <td>1804</td>\n",
       "      <td>366</td>\n",
       "      <td>1177</td>\n",
       "      <td>6</td>\n",
       "      <td>57</td>\n",
       "      <td>185</td>\n",
       "      <td>7</td>\n",
       "      <td>296</td>\n",
       "      <td>17</td>\n",
       "      <td>501</td>\n",
       "      <td>227</td>\n",
       "      <td>679</td>\n",
       "      <td>318</td>\n",
       "      <td>101</td>\n",
       "      <td>148</td>\n",
       "      <td>2916</td>\n",
       "      <td>658</td>\n",
       "    </tr>\n",
       "    <tr>\n",
       "      <th>2/2008</th>\n",
       "      <td>360</td>\n",
       "      <td>1626</td>\n",
       "      <td>366</td>\n",
       "      <td>1055</td>\n",
       "      <td>3</td>\n",
       "      <td>50</td>\n",
       "      <td>217</td>\n",
       "      <td>5</td>\n",
       "      <td>248</td>\n",
       "      <td>18</td>\n",
       "      <td>488</td>\n",
       "      <td>226</td>\n",
       "      <td>658</td>\n",
       "      <td>318</td>\n",
       "      <td>78</td>\n",
       "      <td>152</td>\n",
       "      <td>1316</td>\n",
       "      <td>608</td>\n",
       "    </tr>\n",
       "    <tr>\n",
       "      <th>3/2008</th>\n",
       "      <td>674</td>\n",
       "      <td>1840</td>\n",
       "      <td>347</td>\n",
       "      <td>1209</td>\n",
       "      <td>4</td>\n",
       "      <td>76</td>\n",
       "      <td>228</td>\n",
       "      <td>9</td>\n",
       "      <td>261</td>\n",
       "      <td>11</td>\n",
       "      <td>464</td>\n",
       "      <td>271</td>\n",
       "      <td>672</td>\n",
       "      <td>347</td>\n",
       "      <td>109</td>\n",
       "      <td>139</td>\n",
       "      <td>1390</td>\n",
       "      <td>594</td>\n",
       "    </tr>\n",
       "    <tr>\n",
       "      <th>4/2008</th>\n",
       "      <td>667</td>\n",
       "      <td>1790</td>\n",
       "      <td>334</td>\n",
       "      <td>1237</td>\n",
       "      <td>4</td>\n",
       "      <td>72</td>\n",
       "      <td>234</td>\n",
       "      <td>14</td>\n",
       "      <td>281</td>\n",
       "      <td>18</td>\n",
       "      <td>442</td>\n",
       "      <td>264</td>\n",
       "      <td>725</td>\n",
       "      <td>327</td>\n",
       "      <td>115</td>\n",
       "      <td>150</td>\n",
       "      <td>1478</td>\n",
       "      <td>622</td>\n",
       "    </tr>\n",
       "    <tr>\n",
       "      <th>5/2008</th>\n",
       "      <td>680</td>\n",
       "      <td>1885</td>\n",
       "      <td>367</td>\n",
       "      <td>1302</td>\n",
       "      <td>1</td>\n",
       "      <td>67</td>\n",
       "      <td>239</td>\n",
       "      <td>8</td>\n",
       "      <td>279</td>\n",
       "      <td>11</td>\n",
       "      <td>487</td>\n",
       "      <td>248</td>\n",
       "      <td>928</td>\n",
       "      <td>357</td>\n",
       "      <td>123</td>\n",
       "      <td>159</td>\n",
       "      <td>1484</td>\n",
       "      <td>734</td>\n",
       "    </tr>\n",
       "  </tbody>\n",
       "</table>\n",
       "</div>"
      ],
      "text/plain": [
       "        ASMA  CANCER  DIABETES_MELLITUS  DOENCA_CARDIACA  DOENCA_DE_PARKINSON  \\\n",
       "1/2008   196    1804                366             1177                    6   \n",
       "2/2008   360    1626                366             1055                    3   \n",
       "3/2008   674    1840                347             1209                    4   \n",
       "4/2008   667    1790                334             1237                    4   \n",
       "5/2008   680    1885                367             1302                    1   \n",
       "\n",
       "        DORSOPATIAS  DPOC  ENXAQUECA  EPILEPSIA  ESCLEROSE_MULTIPLA  \\\n",
       "1/2008           57   185          7        296                  17   \n",
       "2/2008           50   217          5        248                  18   \n",
       "3/2008           76   228          9        261                  11   \n",
       "4/2008           72   234         14        281                  18   \n",
       "5/2008           67   239          8        279                  11   \n",
       "\n",
       "        HIPERTENSAO  HIV  INSUFICIENCIA_CARDIACA  INSUFICIENCIA_RENAL  \\\n",
       "1/2008          501  227                     679                  318   \n",
       "2/2008          488  226                     658                  318   \n",
       "3/2008          464  271                     672                  347   \n",
       "4/2008          442  264                     725                  327   \n",
       "5/2008          487  248                     928                  357   \n",
       "\n",
       "        OSTEOPOROSE  TECIDO_MOLE  TRANSTORNOS_MENTAIS_E_COMPORTAMENTAIS  \\\n",
       "1/2008          101          148                                   2916   \n",
       "2/2008           78          152                                   1316   \n",
       "3/2008          109          139                                   1390   \n",
       "4/2008          115          150                                   1478   \n",
       "5/2008          123          159                                   1484   \n",
       "\n",
       "        TRAUMATISMO_INTRACRANIANO  \n",
       "1/2008                        658  \n",
       "2/2008                        608  \n",
       "3/2008                        594  \n",
       "4/2008                        622  \n",
       "5/2008                        734  "
      ]
     },
     "execution_count": 3,
     "metadata": {},
     "output_type": "execute_result"
    }
   ],
   "source": [
    "from datetime import datetime\n",
    "month_dic = {\n",
    "    \"Jan\": \"January\",\n",
    "    \"Fev\": \"February\",\n",
    "    \"Mar\": \"March\",\n",
    "    \"Abr\": \"April\",\n",
    "    \"Mai\": \"May\",\n",
    "    \"Jun\": \"June\",\n",
    "    \"Jul\": \"July\",\n",
    "    \"Ago\": \"August\",\n",
    "    \"Set\": \"September\",\n",
    "    \"Out\": \"October\",\n",
    "    \"Nov\": \"November\",\n",
    "    \"Dez\": \"December\"\n",
    "}\n",
    "indexes = []\n",
    "for i,e in enumerate(df_diseases.index): \n",
    "    ano = e.split(\"/\")[0]\n",
    "    mes = e.split(\"/\")[1]\n",
    "    month = month_dic[mes]\n",
    "    datetime_object = datetime.strptime(month, \"%B\")\n",
    "    indexes.append(str(datetime_object.month) + \"/\" + str(ano))\n",
    "df_diseases.index = indexes\n",
    "df_diseases.head()"
   ]
  },
  {
   "cell_type": "markdown",
   "metadata": {},
   "source": [
    "Import suicide data"
   ]
  },
  {
   "cell_type": "code",
   "execution_count": 4,
   "metadata": {},
   "outputs": [],
   "source": [
    "path = root + 'CSV/TabNet/Suicides/'\n",
    "all_files = glob.glob(path + \"*\")\n",
    "df_suicides = pd.DataFrame()\n",
    "list_of_years = []\n",
    "for file in all_files:\n",
    "    file_name = file.split(\"\\\\\")[1]\n",
    "    year = file_name.split(\"_\")[1].split(\".\")[0]\n",
    "    list_of_years.append(year)\n",
    "    df_year = pd.read_csv(path + file_name, sep=\";\")\n",
    "    df_year = df_year.replace(\"-\",0)\n",
    "    df_year = df_year[df_year[\"Município\"] == \"355030 São Paulo\"]\n",
    "    df_year = df_year.drop(columns=[\"Município\", \"Total\"])\n",
    "    if not df_year.empty:\n",
    "        df_year = df_year.transpose()\n",
    "        df_year.columns = [\"SUICIDE\"]\n",
    "        df_year = df_year.astype(int)\n",
    "        df_year.index = df_year.index + \"/\" + year\n",
    "        df_suicides = pd.concat([df_suicides, df_year])"
   ]
  },
  {
   "cell_type": "code",
   "execution_count": 5,
   "metadata": {},
   "outputs": [
    {
     "data": {
      "text/html": [
       "<div>\n",
       "<style scoped>\n",
       "    .dataframe tbody tr th:only-of-type {\n",
       "        vertical-align: middle;\n",
       "    }\n",
       "\n",
       "    .dataframe tbody tr th {\n",
       "        vertical-align: top;\n",
       "    }\n",
       "\n",
       "    .dataframe thead th {\n",
       "        text-align: right;\n",
       "    }\n",
       "</style>\n",
       "<table border=\"1\" class=\"dataframe\">\n",
       "  <thead>\n",
       "    <tr style=\"text-align: right;\">\n",
       "      <th></th>\n",
       "      <th>SUICIDE</th>\n",
       "    </tr>\n",
       "  </thead>\n",
       "  <tbody>\n",
       "    <tr>\n",
       "      <th>1/2008</th>\n",
       "      <td>43</td>\n",
       "    </tr>\n",
       "    <tr>\n",
       "      <th>2/2008</th>\n",
       "      <td>42</td>\n",
       "    </tr>\n",
       "    <tr>\n",
       "      <th>3/2008</th>\n",
       "      <td>50</td>\n",
       "    </tr>\n",
       "    <tr>\n",
       "      <th>4/2008</th>\n",
       "      <td>46</td>\n",
       "    </tr>\n",
       "    <tr>\n",
       "      <th>5/2008</th>\n",
       "      <td>38</td>\n",
       "    </tr>\n",
       "  </tbody>\n",
       "</table>\n",
       "</div>"
      ],
      "text/plain": [
       "        SUICIDE\n",
       "1/2008       43\n",
       "2/2008       42\n",
       "3/2008       50\n",
       "4/2008       46\n",
       "5/2008       38"
      ]
     },
     "execution_count": 5,
     "metadata": {},
     "output_type": "execute_result"
    }
   ],
   "source": [
    "from datetime import datetime\n",
    "month_dic = {\n",
    "    \"Janeiro\": \"January\",\n",
    "    \"Fevereiro\": \"February\",\n",
    "    \"Março\": \"March\",\n",
    "    \"Abril\": \"April\",\n",
    "    \"Maio\": \"May\",\n",
    "    \"Junho\": \"June\",\n",
    "    \"Julho\": \"July\",\n",
    "    \"Agosto\": \"August\",\n",
    "    \"Setembro\": \"September\",\n",
    "    \"Outubro\": \"October\",\n",
    "    \"Novembro\": \"November\",\n",
    "    \"Dezembro\": \"December\"\n",
    "}\n",
    "indexes = []\n",
    "for i,e in enumerate(df_suicides.index): \n",
    "    mes = e.split(\"/\")[0]\n",
    "    ano = e.split(\"/\")[1]\n",
    "    month = month_dic[mes]\n",
    "    datetime_object = datetime.strptime(month, \"%B\")\n",
    "    indexes.append(str(datetime_object.month) + \"/\" + str(ano))\n",
    "df_suicides.index = indexes\n",
    "df_suicides.head()"
   ]
  },
  {
   "cell_type": "code",
   "execution_count": 6,
   "metadata": {},
   "outputs": [
    {
     "data": {
      "text/html": [
       "<div>\n",
       "<style scoped>\n",
       "    .dataframe tbody tr th:only-of-type {\n",
       "        vertical-align: middle;\n",
       "    }\n",
       "\n",
       "    .dataframe tbody tr th {\n",
       "        vertical-align: top;\n",
       "    }\n",
       "\n",
       "    .dataframe thead th {\n",
       "        text-align: right;\n",
       "    }\n",
       "</style>\n",
       "<table border=\"1\" class=\"dataframe\">\n",
       "  <thead>\n",
       "    <tr style=\"text-align: right;\">\n",
       "      <th></th>\n",
       "      <th>ASMA</th>\n",
       "      <th>CANCER</th>\n",
       "      <th>DIABETES_MELLITUS</th>\n",
       "      <th>DOENCA_CARDIACA</th>\n",
       "      <th>DOENCA_DE_PARKINSON</th>\n",
       "      <th>DORSOPATIAS</th>\n",
       "      <th>DPOC</th>\n",
       "      <th>ENXAQUECA</th>\n",
       "      <th>EPILEPSIA</th>\n",
       "      <th>ESCLEROSE_MULTIPLA</th>\n",
       "      <th>HIPERTENSAO</th>\n",
       "      <th>HIV</th>\n",
       "      <th>INSUFICIENCIA_CARDIACA</th>\n",
       "      <th>INSUFICIENCIA_RENAL</th>\n",
       "      <th>OSTEOPOROSE</th>\n",
       "      <th>TECIDO_MOLE</th>\n",
       "      <th>TRANSTORNOS_MENTAIS_E_COMPORTAMENTAIS</th>\n",
       "      <th>TRAUMATISMO_INTRACRANIANO</th>\n",
       "      <th>SUICIDE</th>\n",
       "    </tr>\n",
       "  </thead>\n",
       "  <tbody>\n",
       "    <tr>\n",
       "      <th>1/2008</th>\n",
       "      <td>196</td>\n",
       "      <td>1804</td>\n",
       "      <td>366</td>\n",
       "      <td>1177</td>\n",
       "      <td>6</td>\n",
       "      <td>57</td>\n",
       "      <td>185</td>\n",
       "      <td>7</td>\n",
       "      <td>296</td>\n",
       "      <td>17</td>\n",
       "      <td>501</td>\n",
       "      <td>227</td>\n",
       "      <td>679</td>\n",
       "      <td>318</td>\n",
       "      <td>101</td>\n",
       "      <td>148</td>\n",
       "      <td>2916</td>\n",
       "      <td>658</td>\n",
       "      <td>43</td>\n",
       "    </tr>\n",
       "    <tr>\n",
       "      <th>2/2008</th>\n",
       "      <td>360</td>\n",
       "      <td>1626</td>\n",
       "      <td>366</td>\n",
       "      <td>1055</td>\n",
       "      <td>3</td>\n",
       "      <td>50</td>\n",
       "      <td>217</td>\n",
       "      <td>5</td>\n",
       "      <td>248</td>\n",
       "      <td>18</td>\n",
       "      <td>488</td>\n",
       "      <td>226</td>\n",
       "      <td>658</td>\n",
       "      <td>318</td>\n",
       "      <td>78</td>\n",
       "      <td>152</td>\n",
       "      <td>1316</td>\n",
       "      <td>608</td>\n",
       "      <td>42</td>\n",
       "    </tr>\n",
       "    <tr>\n",
       "      <th>3/2008</th>\n",
       "      <td>674</td>\n",
       "      <td>1840</td>\n",
       "      <td>347</td>\n",
       "      <td>1209</td>\n",
       "      <td>4</td>\n",
       "      <td>76</td>\n",
       "      <td>228</td>\n",
       "      <td>9</td>\n",
       "      <td>261</td>\n",
       "      <td>11</td>\n",
       "      <td>464</td>\n",
       "      <td>271</td>\n",
       "      <td>672</td>\n",
       "      <td>347</td>\n",
       "      <td>109</td>\n",
       "      <td>139</td>\n",
       "      <td>1390</td>\n",
       "      <td>594</td>\n",
       "      <td>50</td>\n",
       "    </tr>\n",
       "    <tr>\n",
       "      <th>4/2008</th>\n",
       "      <td>667</td>\n",
       "      <td>1790</td>\n",
       "      <td>334</td>\n",
       "      <td>1237</td>\n",
       "      <td>4</td>\n",
       "      <td>72</td>\n",
       "      <td>234</td>\n",
       "      <td>14</td>\n",
       "      <td>281</td>\n",
       "      <td>18</td>\n",
       "      <td>442</td>\n",
       "      <td>264</td>\n",
       "      <td>725</td>\n",
       "      <td>327</td>\n",
       "      <td>115</td>\n",
       "      <td>150</td>\n",
       "      <td>1478</td>\n",
       "      <td>622</td>\n",
       "      <td>46</td>\n",
       "    </tr>\n",
       "    <tr>\n",
       "      <th>5/2008</th>\n",
       "      <td>680</td>\n",
       "      <td>1885</td>\n",
       "      <td>367</td>\n",
       "      <td>1302</td>\n",
       "      <td>1</td>\n",
       "      <td>67</td>\n",
       "      <td>239</td>\n",
       "      <td>8</td>\n",
       "      <td>279</td>\n",
       "      <td>11</td>\n",
       "      <td>487</td>\n",
       "      <td>248</td>\n",
       "      <td>928</td>\n",
       "      <td>357</td>\n",
       "      <td>123</td>\n",
       "      <td>159</td>\n",
       "      <td>1484</td>\n",
       "      <td>734</td>\n",
       "      <td>38</td>\n",
       "    </tr>\n",
       "  </tbody>\n",
       "</table>\n",
       "</div>"
      ],
      "text/plain": [
       "        ASMA  CANCER  DIABETES_MELLITUS  DOENCA_CARDIACA  DOENCA_DE_PARKINSON  \\\n",
       "1/2008   196    1804                366             1177                    6   \n",
       "2/2008   360    1626                366             1055                    3   \n",
       "3/2008   674    1840                347             1209                    4   \n",
       "4/2008   667    1790                334             1237                    4   \n",
       "5/2008   680    1885                367             1302                    1   \n",
       "\n",
       "        DORSOPATIAS  DPOC  ENXAQUECA  EPILEPSIA  ESCLEROSE_MULTIPLA  \\\n",
       "1/2008           57   185          7        296                  17   \n",
       "2/2008           50   217          5        248                  18   \n",
       "3/2008           76   228          9        261                  11   \n",
       "4/2008           72   234         14        281                  18   \n",
       "5/2008           67   239          8        279                  11   \n",
       "\n",
       "        HIPERTENSAO  HIV  INSUFICIENCIA_CARDIACA  INSUFICIENCIA_RENAL  \\\n",
       "1/2008          501  227                     679                  318   \n",
       "2/2008          488  226                     658                  318   \n",
       "3/2008          464  271                     672                  347   \n",
       "4/2008          442  264                     725                  327   \n",
       "5/2008          487  248                     928                  357   \n",
       "\n",
       "        OSTEOPOROSE  TECIDO_MOLE  TRANSTORNOS_MENTAIS_E_COMPORTAMENTAIS  \\\n",
       "1/2008          101          148                                   2916   \n",
       "2/2008           78          152                                   1316   \n",
       "3/2008          109          139                                   1390   \n",
       "4/2008          115          150                                   1478   \n",
       "5/2008          123          159                                   1484   \n",
       "\n",
       "        TRAUMATISMO_INTRACRANIANO  SUICIDE  \n",
       "1/2008                        658       43  \n",
       "2/2008                        608       42  \n",
       "3/2008                        594       50  \n",
       "4/2008                        622       46  \n",
       "5/2008                        734       38  "
      ]
     },
     "execution_count": 6,
     "metadata": {},
     "output_type": "execute_result"
    }
   ],
   "source": [
    "df_final = df_diseases.copy()\n",
    "df_final[\"SUICIDE\"] = df_suicides[\"SUICIDE\"]\n",
    "df_final.head()"
   ]
  },
  {
   "cell_type": "markdown",
   "metadata": {},
   "source": [
    "##  Multivariate Time Series\n",
    "\n",
    "https://www.analyticsvidhya.com/blog/2018/09/multivariate-time-series-guide-forecasting-modeling-python-codes/\n",
    "\n",
    "In a VAR model, each variable is a linear function of the past values of itself and the past values of all the other variables.\n",
    "Unlike AR, VAR is able to understand and use the relationship between several variables.\n",
    "\n",
    "We know from studying the univariate concept that a stationary time series will more often than not give us a better set of predictions\n",
    "\n",
    "https://towardsdatascience.com/machine-learning-part-19-time-series-and-autoregressive-integrated-moving-average-model-arima-c1005347b0d7"
   ]
  },
  {
   "cell_type": "code",
   "execution_count": 132,
   "metadata": {},
   "outputs": [],
   "source": [
    "\n",
    "import numpy as np\n",
    "import pandas as pd\n",
    "from matplotlib import pyplot as plt\n",
    "from statsmodels.tsa.stattools import adfuller\n",
    "from statsmodels.tsa.seasonal import seasonal_decompose\n",
    "from statsmodels.tsa.arima_model import ARIMA"
   ]
  },
  {
   "cell_type": "code",
   "execution_count": 133,
   "metadata": {},
   "outputs": [],
   "source": [
    "df_final['Date_Time'] = pd.to_datetime(df_final.index , format = '%m/%Y')\n",
    "data = df_final.drop(['Date_Time'], axis=1)\n",
    "data.index = df_final.Date_Time"
   ]
  },
  {
   "cell_type": "code",
   "execution_count": 126,
   "metadata": {},
   "outputs": [
    {
     "name": "stderr",
     "output_type": "stream",
     "text": [
      "C:\\Users\\pypas\\anaconda3\\envs\\ML\\lib\\site-packages\\ipykernel_launcher.py:1: RuntimeWarning: divide by zero encountered in log\n",
      "  \"\"\"Entry point for launching an IPython kernel.\n"
     ]
    }
   ],
   "source": [
    "df_log = np.log(data)"
   ]
  },
  {
   "cell_type": "code",
   "execution_count": 127,
   "metadata": {},
   "outputs": [],
   "source": [
    "rolling_mean = df_log.rolling(window=12).mean()\n",
    "df_log = df_log - rolling_mean\n",
    "df_log.dropna(inplace=True)"
   ]
  },
  {
   "cell_type": "code",
   "execution_count": 118,
   "metadata": {},
   "outputs": [],
   "source": [
    "rolling_mean_exp_decay = df_log.ewm(halflife=12, min_periods=0, adjust=True).mean()\n",
    "df_log = df_log - rolling_mean_exp_decay\n",
    "df_log.dropna(inplace=True)"
   ]
  },
  {
   "cell_type": "code",
   "execution_count": 122,
   "metadata": {},
   "outputs": [],
   "source": [
    "df_log = df_log - df_log.shift()\n",
    "df_log.dropna(inplace=True)"
   ]
  },
  {
   "cell_type": "code",
   "execution_count": 128,
   "metadata": {},
   "outputs": [
    {
     "data": {
      "image/png": "[encoded data removed]",
      "text/plain": [
       "<Figure size 432x288 with 1 Axes>"
      ]
     },
     "metadata": {
      "needs_background": "light"
     },
     "output_type": "display_data"
    }
   ],
   "source": [
    "rolling_mean = df_log[\"SUICIDE\"].rolling(window = 12).mean()\n",
    "rolling_std = df_log[\"SUICIDE\"].rolling(window = 12).std()\n",
    "plt.plot(df_log[\"SUICIDE\"], color = 'blue', label = 'Original')\n",
    "plt.plot(rolling_mean, color = 'red', label = 'Rolling Mean')\n",
    "plt.plot(rolling_std, color = 'black', label = 'Rolling Std')\n",
    "plt.legend(loc = 'best')\n",
    "plt.title('Rolling Mean & Rolling Standard Deviation')\n",
    "plt.show()"
   ]
  },
  {
   "cell_type": "code",
   "execution_count": 129,
   "metadata": {},
   "outputs": [
    {
     "name": "stdout",
     "output_type": "stream",
     "text": [
      "ADF Statistic: -6.119676845924027\n",
      "p-value: 8.917834962091246e-08\n",
      "Critical Values:\n",
      "\t1%: -3.5003788874873405\n",
      "\t5%: -2.8921519665075235\n",
      "\t10%: -2.5830997960069446\n"
     ]
    }
   ],
   "source": [
    "result = adfuller(df_log['SUICIDE'])\n",
    "print('ADF Statistic: {}'.format(result[0]))\n",
    "print('p-value: {}'.format(result[1]))\n",
    "print('Critical Values:')\n",
    "for key, value in result[4].items():\n",
    "    print('\\t{}: {}'.format(key, value))"
   ]
  },
  {
   "cell_type": "code",
   "execution_count": 70,
   "metadata": {},
   "outputs": [
    {
     "name": "stderr",
     "output_type": "stream",
     "text": [
      "C:\\Users\\pypas\\anaconda3\\envs\\ML\\lib\\site-packages\\statsmodels\\tsa\\vector_ar\\vecm.py:571: HypothesisTestWarning: Critical values are only available for time series with 12 variables at most.\n",
      "  category=HypothesisTestWarning)\n"
     ]
    },
    {
     "data": {
      "text/plain": [
       "array([0.82206004, 0.76359234, 0.76146201, 0.70779858, 0.67567002,\n",
       "       0.67535432, 0.65744511, 0.62657222, 0.5896482 , 0.58045956,\n",
       "       0.54247511, 0.52638162, 0.50344238, 0.4701497 , 0.44048062,\n",
       "       0.42495053, 0.39193816, 0.27858735, 0.2246811 ])"
      ]
     },
     "execution_count": 70,
     "metadata": {},
     "output_type": "execute_result"
    }
   ],
   "source": [
    "#checking stationarity\n",
    "from statsmodels.tsa.vector_ar.vecm import coint_johansen\n",
    "#since the test works for only 12 variables, I have randomly dropped\n",
    "#in the next iteration, I would drop another and check the eigenvalues\n",
    "johan_test_temp = data\n",
    "coint_johansen(johan_test_temp,-1,1).eig"
   ]
  },
  {
   "cell_type": "code",
   "execution_count": 134,
   "metadata": {},
   "outputs": [],
   "source": [
    "rolling_mean = data.rolling(window=12).mean()\n",
    "data = data - rolling_mean\n",
    "data.dropna(inplace=True)"
   ]
  },
  {
   "cell_type": "code",
   "execution_count": 91,
   "metadata": {},
   "outputs": [],
   "source": [
    "data = data.diff().dropna()"
   ]
  },
  {
   "cell_type": "code",
   "execution_count": 135,
   "metadata": {},
   "outputs": [
    {
     "name": "stderr",
     "output_type": "stream",
     "text": [
      "C:\\Users\\pypas\\anaconda3\\envs\\ML\\lib\\site-packages\\statsmodels\\tsa\\base\\tsa_model.py:162: ValueWarning: No frequency information was provided, so inferred frequency MS will be used.\n",
      "  % freq, ValueWarning)\n",
      "C:\\Users\\pypas\\anaconda3\\envs\\ML\\lib\\site-packages\\statsmodels\\base\\wrapper.py:36: FutureWarning: y is a deprecated alias for endog, will be removed in version 0.11.0\n",
      "  obj = getattr(results, attr)\n"
     ]
    }
   ],
   "source": [
    "#creating the train and validation set\n",
    "train = data[:int(0.8*(len(data)))]\n",
    "valid = data[int(0.8*(len(data))):]\n",
    "\n",
    "#fit the model\n",
    "from statsmodels.tsa.vector_ar.var_model import VAR\n",
    "\n",
    "model = VAR(endog=train)\n",
    "model_fit = model.fit()\n",
    "\n",
    "# make prediction on validation\n",
    "prediction = model_fit.forecast(model_fit.y, steps=len(valid))"
   ]
  },
  {
   "cell_type": "code",
   "execution_count": 136,
   "metadata": {},
   "outputs": [
    {
     "name": "stdout",
     "output_type": "stream",
     "text": [
      "rmse value for ASMA is :  81.2888253122606\n",
      "rmse value for CANCER is :  200.8018467908109\n",
      "rmse value for DIABETES_MELLITUS is :  32.34334932841295\n",
      "rmse value for DOENCA_CARDIACA is :  92.94170343780051\n",
      "rmse value for DOENCA_DE_PARKINSON is :  3.1940846679966395\n",
      "rmse value for DORSOPATIAS is :  8.460652463603404\n",
      "rmse value for DPOC is :  34.1906534384704\n",
      "rmse value for ENXAQUECA is :  7.3661863586357965\n",
      "rmse value for EPILEPSIA is :  21.64228093543789\n",
      "rmse value for ESCLEROSE_MULTIPLA is :  12.399184090683391\n",
      "rmse value for HIPERTENSAO is :  14.735161342132882\n",
      "rmse value for HIV is :  13.573257086473083\n",
      "rmse value for INSUFICIENCIA_CARDIACA is :  81.86221651183712\n",
      "rmse value for INSUFICIENCIA_RENAL is :  17.839129039057113\n",
      "rmse value for OSTEOPOROSE is :  11.40217285319174\n",
      "rmse value for TECIDO_MOLE is :  28.019632678540628\n",
      "rmse value for TRANSTORNOS_MENTAIS_E_COMPORTAMENTAIS is :  60.199435181855605\n",
      "rmse value for TRAUMATISMO_INTRACRANIANO is :  43.91101011803482\n",
      "rmse value for SUICIDE is :  8.055966321769544\n"
     ]
    }
   ],
   "source": [
    "import numpy as np\n",
    "from sklearn.metrics import mean_squared_error\n",
    "#converting predictions to dataframe\n",
    "cols = data.columns\n",
    "pred = pd.DataFrame(index=range(0,len(prediction)),columns=[cols])\n",
    "for j in range(0,len(data.columns)):\n",
    "    for i in range(0, len(prediction)):\n",
    "        pred.iloc[i][j] = prediction[i][j]\n",
    "pred.index = valid.index\n",
    "pred = pred.astype(float)\n",
    "pred.columns = valid.columns\n",
    "#check rmse\n",
    "for i in cols:\n",
    "    print('rmse value for', i, 'is : ', np.sqrt(mean_squared_error(pred[i], valid[i])))"
   ]
  },
  {
   "cell_type": "code",
   "execution_count": 73,
   "metadata": {},
   "outputs": [
    {
     "name": "stdout",
     "output_type": "stream",
     "text": [
      "[[-41.41264387 154.81693119  34.93831899 -18.74777971  -3.01960072\n",
      "   -2.63150104 -20.89148291   3.47235502  -1.03529891   6.15076153\n",
      "   -1.47708997   0.35868961 -13.54681719   5.06449473   1.16959066\n",
      "   22.52623972 -45.26914467 -40.71887091   1.4882536 ]]\n"
     ]
    },
    {
     "name": "stderr",
     "output_type": "stream",
     "text": [
      "C:\\Users\\pypas\\anaconda3\\envs\\ML\\lib\\site-packages\\statsmodels\\tsa\\base\\tsa_model.py:162: ValueWarning: No frequency information was provided, so inferred frequency MS will be used.\n",
      "  % freq, ValueWarning)\n",
      "C:\\Users\\pypas\\anaconda3\\envs\\ML\\lib\\site-packages\\statsmodels\\base\\wrapper.py:36: FutureWarning: y is a deprecated alias for endog, will be removed in version 0.11.0\n",
      "  obj = getattr(results, attr)\n"
     ]
    }
   ],
   "source": [
    "#make final predictions\n",
    "model = VAR(endog=data)\n",
    "model_fit = model.fit()\n",
    "yhat = model_fit.forecast(model_fit.y, steps=1)\n",
    "print(yhat)"
   ]
  },
  {
   "cell_type": "markdown",
   "metadata": {},
   "source": [
    "## Forecasting with VAR\n",
    "\n",
    "https://towardsdatascience.com/multivariate-time-series-forecasting-653372b3db36\n",
    "\n",
    "https://towardsdatascience.com/granger-causality-and-vector-auto-regressive-model-for-time-series-forecasting-3226a64889a6"
   ]
  },
  {
   "cell_type": "markdown",
   "metadata": {},
   "source": [
    "Let's first look at suicide data"
   ]
  },
  {
   "cell_type": "code",
   "execution_count": null,
   "metadata": {},
   "outputs": [],
   "source": [
    "df_final[\"SUICIDE\"].plot();"
   ]
  },
  {
   "cell_type": "code",
   "execution_count": null,
   "metadata": {},
   "outputs": [],
   "source": [
    "data = df_final[[\"CANCER\", \"TRANSTORNOS_MENTAIS_E_COMPORTAMENTAIS\", \"DPOC\", \"SUICIDE\"]].copy()"
   ]
  },
  {
   "cell_type": "markdown",
   "metadata": {},
   "source": [
    "Checking for null data"
   ]
  },
  {
   "cell_type": "code",
   "execution_count": null,
   "metadata": {},
   "outputs": [],
   "source": [
    "data.isnull().sum()"
   ]
  },
  {
   "cell_type": "markdown",
   "metadata": {},
   "source": [
    "Plotting"
   ]
  },
  {
   "cell_type": "code",
   "execution_count": null,
   "metadata": {},
   "outputs": [],
   "source": [
    "fig, axes = plt.subplots(nrows=2, ncols=2, dpi=120, figsize=(10,6))\n",
    "for i, ax in enumerate(axes.flatten()):\n",
    "    dataset = data[data.columns[i]]\n",
    "    ax.plot(dataset, color='red', linewidth=1)\n",
    "    ax.set_title(data.columns[i])\n",
    "    ax.xaxis.set_ticks_position('none')\n",
    "    ax.yaxis.set_ticks_position('none')\n",
    "    ax.spines[\"top\"].set_alpha(0)\n",
    "    ax.tick_params(labelsize=6)\n",
    "plt.tight_layout();"
   ]
  },
  {
   "cell_type": "code",
   "execution_count": null,
   "metadata": {},
   "outputs": [],
   "source": [
    "from scipy import stats\n",
    "def isGaussian(dataset):\n",
    "    stat,p = stats.normaltest(dataset)\n",
    "    print(\"Statistics = %.3f, p=%.3f\" % (stat,p))\n",
    "    alpha = 0.05\n",
    "    if p> alpha:\n",
    "        print('Data looks Gaussian (fail to reject null hypothesis)')\n",
    "    else:\n",
    "        print('Data looks non-Gaussian (reject null hypothesis)')\n",
    "        \n",
    "isGaussian(data.DPOC)\n",
    "isGaussian(data.CANCER)\n",
    "isGaussian(data.SUICIDE)\n",
    "isGaussian(data.TRANSTORNOS_MENTAIS_E_COMPORTAMENTAIS)"
   ]
  },
  {
   "cell_type": "markdown",
   "metadata": {},
   "source": [
    "Running Granger’s causality test"
   ]
  },
  {
   "cell_type": "code",
   "execution_count": null,
   "metadata": {},
   "outputs": [],
   "source": [
    "# import for Granger's Causality Test\n",
    "from statsmodels.tsa.stattools import grangercausalitytests\n",
    "granger_test = sm.tsa.stattools.grangercausalitytests(data[[\"CANCER\", \"SUICIDE\"]], maxlag=2, verbose=True)"
   ]
  },
  {
   "cell_type": "code",
   "execution_count": null,
   "metadata": {},
   "outputs": [],
   "source": [
    "import pandas as pd\n",
    "import statsmodels.api as sm\n",
    "from statsmodels.tsa.api import VAR"
   ]
  },
  {
   "cell_type": "code",
   "execution_count": null,
   "metadata": {},
   "outputs": [],
   "source": [
    "train = data.iloc[:-1]\n",
    "test = data.iloc[[-1]]"
   ]
  },
  {
   "cell_type": "code",
   "execution_count": null,
   "metadata": {},
   "outputs": [],
   "source": [
    "df_differenced= train.diff().dropna()\n",
    "# model fitting\n",
    "model = VAR(df_differenced)\n",
    "results = model.fit(maxlags=15, ic='aic')\n",
    "results.summary()"
   ]
  },
  {
   "cell_type": "code",
   "execution_count": null,
   "metadata": {},
   "outputs": [],
   "source": [
    "# forecasting\n",
    "lag_order = results.k_ar\n",
    "results.forecast(data.values[-lag_order:], 5)"
   ]
  },
  {
   "cell_type": "code",
   "execution_count": null,
   "metadata": {},
   "outputs": [],
   "source": [
    "# plotting\n",
    "results.plot_forecast(2)"
   ]
  },
  {
   "cell_type": "code",
   "execution_count": null,
   "metadata": {},
   "outputs": [],
   "source": [
    "model = VAR(train)\n",
    "model_fit = model.fit()"
   ]
  },
  {
   "cell_type": "code",
   "execution_count": null,
   "metadata": {},
   "outputs": [],
   "source": [
    "pred = model_fit.forecast(model_fit.y, steps=1)\n",
    "print(pred)"
   ]
  },
  {
   "cell_type": "code",
   "execution_count": null,
   "metadata": {},
   "outputs": [],
   "source": [
    "test"
   ]
  },
  {
   "cell_type": "code",
   "execution_count": null,
   "metadata": {},
   "outputs": [],
   "source": [
    "plt.plot(data[\"CANCER\"])"
   ]
  },
  {
   "cell_type": "markdown",
   "metadata": {},
   "source": [
    "Exploring the relationship between suicide, cancer, DPOC and mental diseases"
   ]
  },
  {
   "cell_type": "code",
   "execution_count": null,
   "metadata": {},
   "outputs": [],
   "source": [
    "chosen_columns = [\"CANCER\", \"TRANSTORNOS_MENTAIS_E_COMPORTAMENTAIS\", \"DPOC\"]"
   ]
  },
  {
   "cell_type": "code",
   "execution_count": null,
   "metadata": {},
   "outputs": [],
   "source": [
    "fig, ax1 = plt.subplots(figsize=(10, 5))\n",
    "ax1.set_xlabel('Month/Year')\n",
    "ax1.set_ylabel('Disease Rates')\n",
    "for disease in chosen_columns:\n",
    "        ax1.plot(df_final[disease])\n",
    "plt.legend(chosen_columns, loc=2)\n",
    "\n",
    "ax2 = ax1.twinx()  # instantiate a second axes that shares the same x-axis\n",
    "\n",
    "ax2.set_ylabel('Suicide Rates', color='r')  # we already handled the x-label with ax1\n",
    "ax2.plot(df_final[\"SUICIDE\"],'--', color='r',linewidth=3.0)\n",
    "ax2.tick_params(axis='y', labelcolor='r')\n",
    "\n",
    "fig.tight_layout()  # otherwise the right y-label is slightly clipped\n",
    "\n",
    "count = 12\n",
    "for label in ax1.get_xticklabels()[::1]:\n",
    "    if(count < 11):\n",
    "        label.set_visible(False)\n",
    "        count += 1\n",
    "    else:\n",
    "        count = 0\n",
    "    \n",
    "plt.legend([\"Suicide\"])\n",
    "plt.show()\n",
    "\n"
   ]
  },
  {
   "cell_type": "code",
   "execution_count": null,
   "metadata": {},
   "outputs": [],
   "source": [
    "fig, ax1 = plt.subplots(figsize=(10, 5))\n",
    "ax1.set_xlabel('Month/Year')\n",
    "ax1.set_ylabel('Disease Rates')\n",
    "for disease in chosen_columns:\n",
    "        ax1.plot(df_final[disease].rolling(12).mean())\n",
    "plt.legend(chosen_columns)\n",
    "\n",
    "ax2 = ax1.twinx()  # instantiate a second axes that shares the same x-axis\n",
    "\n",
    "ax2.set_ylabel('Suicide Rates', color='r')  # we already handled the x-label with ax1\n",
    "ax2.plot(df_final[\"SUICIDE\"].rolling(12).mean(),'--', color='r',linewidth=3.0)\n",
    "ax2.tick_params(axis='y', labelcolor='r')\n",
    "\n",
    "fig.tight_layout()  # otherwise the right y-label is slightly clipped\n",
    "\n",
    "count = 12\n",
    "for label in ax1.get_xticklabels()[::1]:\n",
    "    if(count < 11):\n",
    "        label.set_visible(False)\n",
    "        count += 1\n",
    "    else:\n",
    "        count = 0\n",
    "    \n",
    "plt.legend([\"Suicide\"],loc=1)\n",
    "plt.show()\n",
    "\n"
   ]
  },
  {
   "cell_type": "markdown",
   "metadata": {},
   "source": [
    "## EDA by city"
   ]
  },
  {
   "cell_type": "code",
   "execution_count": null,
   "metadata": {},
   "outputs": [],
   "source": [
    "root = \"../\"\n",
    "path = root + 'CSV/TabNet/Internacoes/'\n",
    "all_files = glob.glob(path + \"*\")\n",
    "df_diseases = pd.DataFrame()\n",
    "list_of_diseases = []\n",
    "for file in all_files:\n",
    "    file_name = file.split(\"\\\\\")[1]\n",
    "    disease = file_name.split(\".\")[0]\n",
    "    list_of_diseases.append(disease)\n",
    "    df_disease = pd.read_csv(path + file_name, sep=\";\")\n",
    "    df_disease = df_disease.replace(\"-\",0)\n",
    "    df_disease= df_disease.filter(regex='Município|2008|2009|2010|2011|2012|2013|2014|2015|2016|2017|2018', axis=1)\n",
    "    df_disease = df_disease.melt(id_vars='Município', var_name='Month', value_name=disease)\n",
    "    df_disease[disease] = df_disease[disease].astype(int)\n",
    "    if df_diseases.empty:\n",
    "        df_diseases = df_disease.copy()\n",
    "    else:\n",
    "        df_diseases = pd.merge(df_diseases, df_disease,  how='left', left_on=['Município','Month'], right_on = ['Município','Month'])\n",
    "df_diseases = df_diseases.fillna(0)\n",
    "df_diseases.head()"
   ]
  },
  {
   "cell_type": "code",
   "execution_count": null,
   "metadata": {},
   "outputs": [],
   "source": [
    "path = root + 'CSV/TabNet/Suicides/'\n",
    "all_files = glob.glob(path + \"*\")\n",
    "df_suicides = pd.DataFrame()\n",
    "for file in all_files:\n",
    "    file_name = file.split(\"\\\\\")[1]\n",
    "    year = file_name.split(\"_\")[1].split(\".\")[0]\n",
    "    df_year = pd.read_csv(path + file_name, sep=\";\")\n",
    "    df_year = df_year.replace(\"-\",0)\n",
    "    df_year = df_year.drop(columns=\"Total\")\n",
    "    df_year = df_year.melt(id_vars='Município', var_name='Month', value_name=\"SUICIDE\")\n",
    "    df_year[\"SUICIDE\"] = df_year[\"SUICIDE\"].astype(int)\n",
    "    df_year[\"Month\"] = df_year[\"Month\"] + \"/\" + year\n",
    "    df_suicides = pd.concat([df_suicides, df_year])\n",
    "df_suicides.head()"
   ]
  },
  {
   "cell_type": "code",
   "execution_count": null,
   "metadata": {},
   "outputs": [],
   "source": [
    "from datetime import datetime\n",
    "month_dic = {\n",
    "    \"Janeiro\": \"January\",\n",
    "    \"Fevereiro\": \"February\",\n",
    "    \"Março\": \"March\",\n",
    "    \"Abril\": \"April\",\n",
    "    \"Maio\": \"May\",\n",
    "    \"Junho\": \"June\",\n",
    "    \"Julho\": \"July\",\n",
    "    \"Agosto\": \"August\",\n",
    "    \"Setembro\": \"September\",\n",
    "    \"Outubro\": \"October\",\n",
    "    \"Novembro\": \"November\",\n",
    "    \"Dezembro\": \"December\"\n",
    "}\n",
    "indexes = []\n",
    "for i,e in enumerate(df_suicides[\"Month\"]): \n",
    "    mes = e.split(\"/\")[0]\n",
    "    year = e.split(\"/\")[1]\n",
    "    month = month_dic[mes]\n",
    "    date= month + \" \" + year \n",
    "    datetime_object = datetime.strptime(date, \"%B %Y\")\n",
    "    indexes.append(datetime_object)\n",
    "df_suicides[\"Month\"] = indexes\n",
    "df_suicides.head()"
   ]
  },
  {
   "cell_type": "markdown",
   "metadata": {},
   "source": [
    "# ETC\n"
   ]
  },
  {
   "cell_type": "code",
   "execution_count": null,
   "metadata": {},
   "outputs": [],
   "source": [
    "arr = [df_final[[disease]].rolling(12).mean() for disease in list_of_diseases]\n",
    "df_rm = pd.concat(arr, axis=1)\n",
    "df_rm.plot(figsize=(20,10), linewidth=5, fontsize=20)"
   ]
  },
  {
   "cell_type": "code",
   "execution_count": null,
   "metadata": {},
   "outputs": [],
   "source": [
    "df_new = df_rm.fillna(0).iloc[11:][[\"CANCER\", \"DPOC\"]]\n",
    "df_new.head()"
   ]
  },
  {
   "cell_type": "code",
   "execution_count": null,
   "metadata": {},
   "outputs": [],
   "source": [
    "from statsmodels.tsa.stattools import grangercausalitytests\n",
    "\n",
    "granger_test = grangercausalitytests(df_new, maxlag=2, verbose=True)\n",
    "granger_test"
   ]
  },
  {
   "cell_type": "code",
   "execution_count": null,
   "metadata": {},
   "outputs": [],
   "source": [
    "# Augmented Dickey-Fuller Test (ADF Test)/unit root test\n",
    "from statsmodels.tsa.stattools import adfuller\n",
    "def adf_test(ts, signif=0.05):\n",
    "    dftest = adfuller(ts, autolag='AIC')\n",
    "    adf = pd.Series(dftest[0:4], index=['Test Statistic','p-value','# Lags','# Observations'])\n",
    "    for key,value in dftest[4].items():\n",
    "       adf['Critical Value (%s)'%key] = value\n",
    "    print (adf)\n",
    "    \n",
    "    p = adf['p-value']\n",
    "    if p <= signif:\n",
    "        print(f\" Series is Stationary\")\n",
    "    else:\n",
    "        print(f\" Series is Non-Stationary\")\n",
    "#apply adf test on the series\n",
    "adf_test(df_new[\"CANCER\"])\n",
    "adf_test(df_new[\"DPOC\"])"
   ]
  },
  {
   "cell_type": "code",
   "execution_count": null,
   "metadata": {},
   "outputs": [],
   "source": [
    "df_differenced= df_new.diff().dropna()\n",
    "adf_test(df_differenced[\"CANCER\"])\n",
    "adf_test(df_differenced[\"DPOC\"])"
   ]
  },
  {
   "cell_type": "code",
   "execution_count": null,
   "metadata": {},
   "outputs": [],
   "source": [
    "from statsmodels.tsa.api import VAR\n",
    "model= VAR(df_di)"
   ]
  },
  {
   "cell_type": "code",
   "execution_count": null,
   "metadata": {},
   "outputs": [],
   "source": [
    "df_rm.plot(figsize=(20,10), ylim=(0,1000))"
   ]
  },
  {
   "cell_type": "markdown",
   "metadata": {},
   "source": [
    "Seasonal patterns"
   ]
  },
  {
   "cell_type": "code",
   "execution_count": null,
   "metadata": {},
   "outputs": [],
   "source": [
    "df_final.diff().plot(figsize=(20,10), linewidth=5, fontsize=20)"
   ]
  },
  {
   "cell_type": "code",
   "execution_count": null,
   "metadata": {},
   "outputs": [],
   "source": [
    "df_final.diff().corr()"
   ]
  },
  {
   "cell_type": "code",
   "execution_count": null,
   "metadata": {},
   "outputs": [],
   "source": [
    "df_final.corr()"
   ]
  },
  {
   "cell_type": "code",
   "execution_count": null,
   "metadata": {},
   "outputs": [],
   "source": [
    "pd.plotting.autocorrelation_plot(df_final[[\"CANCER\"]]);"
   ]
  },
  {
   "cell_type": "markdown",
   "metadata": {},
   "source": [
    "https://www.datacamp.com/community/tutorials/time-series-analysis-tutorial"
   ]
  },
  {
   "cell_type": "code",
   "execution_count": null,
   "metadata": {
    "scrolled": true
   },
   "outputs": [],
   "source": [
    "fig = plt.figure(figsize=(20,10))\n",
    "ax1 = fig.add_subplot(2,2,1)\n",
    "\n",
    "ax1.plot(df_final)\n",
    "ax1.set_xticks(df_final.index)\n",
    "ax1.axes.xaxis.set_ticklabels([])\n",
    "plt.show()"
   ]
  }
 ],
 "metadata": {
  "kernelspec": {
   "display_name": "Python 3",
   "language": "python",
   "name": "python3"
  },
  "language_info": {
   "codemirror_mode": {
    "name": "ipython",
    "version": 3
   },
   "file_extension": ".py",
   "mimetype": "text/x-python",
   "name": "python",
   "nbconvert_exporter": "python",
   "pygments_lexer": "ipython3",
   "version": "3.7.6"
  }
 },
 "nbformat": 4,
 "nbformat_minor": 4
}
