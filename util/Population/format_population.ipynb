{
 "cells": [
  {
   "cell_type": "markdown",
   "metadata": {
    "collapsed": true,
    "pycharm": {
     "name": "#%% md\n"
    }
   },
   "source": [
    "Read excel file"
   ]
  },
  {
   "cell_type": "code",
   "execution_count": 14,
   "metadata": {
    "pycharm": {
     "name": "#%%\n"
    }
   },
   "outputs": [
    {
     "data": {
      "text/html": [
       "<div>\n",
       "<style scoped>\n",
       "    .dataframe tbody tr th:only-of-type {\n",
       "        vertical-align: middle;\n",
       "    }\n",
       "\n",
       "    .dataframe tbody tr th {\n",
       "        vertical-align: top;\n",
       "    }\n",
       "\n",
       "    .dataframe thead th {\n",
       "        text-align: right;\n",
       "    }\n",
       "</style>\n",
       "<table border=\"1\" class=\"dataframe\">\n",
       "  <thead>\n",
       "    <tr style=\"text-align: right;\">\n",
       "      <th></th>\n",
       "      <th>UF</th>\n",
       "      <th>COD. UF</th>\n",
       "      <th>COD. MUNIC</th>\n",
       "      <th>NOME DO MUNICÍPIO</th>\n",
       "      <th>POPULAÇÃO ESTIMADA</th>\n",
       "    </tr>\n",
       "  </thead>\n",
       "  <tbody>\n",
       "    <tr>\n",
       "      <td>0</td>\n",
       "      <td>RO</td>\n",
       "      <td>11</td>\n",
       "      <td>00015</td>\n",
       "      <td>Alta Floresta D'Oeste</td>\n",
       "      <td>23167</td>\n",
       "    </tr>\n",
       "    <tr>\n",
       "      <td>1</td>\n",
       "      <td>RO</td>\n",
       "      <td>11</td>\n",
       "      <td>00023</td>\n",
       "      <td>Ariquemes</td>\n",
       "      <td>106168</td>\n",
       "    </tr>\n",
       "    <tr>\n",
       "      <td>2</td>\n",
       "      <td>RO</td>\n",
       "      <td>11</td>\n",
       "      <td>00031</td>\n",
       "      <td>Cabixi</td>\n",
       "      <td>5438</td>\n",
       "    </tr>\n",
       "    <tr>\n",
       "      <td>3</td>\n",
       "      <td>RO</td>\n",
       "      <td>11</td>\n",
       "      <td>00049</td>\n",
       "      <td>Cacoal</td>\n",
       "      <td>84813</td>\n",
       "    </tr>\n",
       "    <tr>\n",
       "      <td>4</td>\n",
       "      <td>RO</td>\n",
       "      <td>11</td>\n",
       "      <td>00056</td>\n",
       "      <td>Cerejeiras</td>\n",
       "      <td>16444</td>\n",
       "    </tr>\n",
       "    <tr>\n",
       "      <td>...</td>\n",
       "      <td>...</td>\n",
       "      <td>...</td>\n",
       "      <td>...</td>\n",
       "      <td>...</td>\n",
       "      <td>...</td>\n",
       "    </tr>\n",
       "    <tr>\n",
       "      <td>5565</td>\n",
       "      <td>GO</td>\n",
       "      <td>52</td>\n",
       "      <td>22005</td>\n",
       "      <td>Vianópolis</td>\n",
       "      <td>13746</td>\n",
       "    </tr>\n",
       "    <tr>\n",
       "      <td>5566</td>\n",
       "      <td>GO</td>\n",
       "      <td>52</td>\n",
       "      <td>22054</td>\n",
       "      <td>Vicentinópolis</td>\n",
       "      <td>8611</td>\n",
       "    </tr>\n",
       "    <tr>\n",
       "      <td>5567</td>\n",
       "      <td>GO</td>\n",
       "      <td>52</td>\n",
       "      <td>22203</td>\n",
       "      <td>Vila Boa</td>\n",
       "      <td>6026</td>\n",
       "    </tr>\n",
       "    <tr>\n",
       "      <td>5568</td>\n",
       "      <td>GO</td>\n",
       "      <td>52</td>\n",
       "      <td>22302</td>\n",
       "      <td>Vila Propício</td>\n",
       "      <td>5758</td>\n",
       "    </tr>\n",
       "    <tr>\n",
       "      <td>5569</td>\n",
       "      <td>DF</td>\n",
       "      <td>53</td>\n",
       "      <td>00108</td>\n",
       "      <td>Brasília</td>\n",
       "      <td>2974703</td>\n",
       "    </tr>\n",
       "  </tbody>\n",
       "</table>\n",
       "<p>5570 rows × 5 columns</p>\n",
       "</div>"
      ],
      "text/plain": [
       "      UF COD. UF COD. MUNIC      NOME DO MUNICÍPIO POPULAÇÃO ESTIMADA\n",
       "0     RO      11      00015  Alta Floresta D'Oeste              23167\n",
       "1     RO      11      00023              Ariquemes             106168\n",
       "2     RO      11      00031                 Cabixi               5438\n",
       "3     RO      11      00049                 Cacoal              84813\n",
       "4     RO      11      00056             Cerejeiras              16444\n",
       "...   ..     ...        ...                    ...                ...\n",
       "5565  GO      52      22005             Vianópolis              13746\n",
       "5566  GO      52      22054         Vicentinópolis               8611\n",
       "5567  GO      52      22203               Vila Boa               6026\n",
       "5568  GO      52      22302          Vila Propício               5758\n",
       "5569  DF      53      00108               Brasília            2974703\n",
       "\n",
       "[5570 rows x 5 columns]"
      ]
     },
     "execution_count": 14,
     "metadata": {},
     "output_type": "execute_result"
    }
   ],
   "source": [
    "import pandas as pd\n",
    "year = \"2018\"\n",
    "xls = pd.ExcelFile('estimativa_TCU_2018_20200415.xls')\n",
    "df = pd.read_excel(xls, 'Municípios', skiprows=[0] + [i for i in range(5572,5588)], dtype=str)\n",
    "df = df.dropna()\n",
    "df"
   ]
  },
  {
   "cell_type": "markdown",
   "metadata": {
    "pycharm": {
     "name": "#%% md\n"
    }
   },
   "source": [
    "Creates column MUNCOD and YEAR"
   ]
  },
  {
   "cell_type": "code",
   "execution_count": 15,
   "metadata": {
    "pycharm": {
     "name": "#%%\n"
    }
   },
   "outputs": [
    {
     "data": {
      "text/html": [
       "<div>\n",
       "<style scoped>\n",
       "    .dataframe tbody tr th:only-of-type {\n",
       "        vertical-align: middle;\n",
       "    }\n",
       "\n",
       "    .dataframe tbody tr th {\n",
       "        vertical-align: top;\n",
       "    }\n",
       "\n",
       "    .dataframe thead th {\n",
       "        text-align: right;\n",
       "    }\n",
       "</style>\n",
       "<table border=\"1\" class=\"dataframe\">\n",
       "  <thead>\n",
       "    <tr style=\"text-align: right;\">\n",
       "      <th></th>\n",
       "      <th>UF</th>\n",
       "      <th>COD. UF</th>\n",
       "      <th>COD. MUNIC</th>\n",
       "      <th>NOME DO MUNICÍPIO</th>\n",
       "      <th>POPULAÇÃO ESTIMADA</th>\n",
       "      <th>MUNCOD</th>\n",
       "      <th>YEAR</th>\n",
       "    </tr>\n",
       "  </thead>\n",
       "  <tbody>\n",
       "    <tr>\n",
       "      <td>0</td>\n",
       "      <td>RO</td>\n",
       "      <td>11</td>\n",
       "      <td>0001</td>\n",
       "      <td>Alta Floresta D'Oeste</td>\n",
       "      <td>23167</td>\n",
       "      <td>110001</td>\n",
       "      <td>2018</td>\n",
       "    </tr>\n",
       "    <tr>\n",
       "      <td>1</td>\n",
       "      <td>RO</td>\n",
       "      <td>11</td>\n",
       "      <td>0002</td>\n",
       "      <td>Ariquemes</td>\n",
       "      <td>106168</td>\n",
       "      <td>110002</td>\n",
       "      <td>2018</td>\n",
       "    </tr>\n",
       "    <tr>\n",
       "      <td>2</td>\n",
       "      <td>RO</td>\n",
       "      <td>11</td>\n",
       "      <td>0003</td>\n",
       "      <td>Cabixi</td>\n",
       "      <td>5438</td>\n",
       "      <td>110003</td>\n",
       "      <td>2018</td>\n",
       "    </tr>\n",
       "    <tr>\n",
       "      <td>3</td>\n",
       "      <td>RO</td>\n",
       "      <td>11</td>\n",
       "      <td>0004</td>\n",
       "      <td>Cacoal</td>\n",
       "      <td>84813</td>\n",
       "      <td>110004</td>\n",
       "      <td>2018</td>\n",
       "    </tr>\n",
       "    <tr>\n",
       "      <td>4</td>\n",
       "      <td>RO</td>\n",
       "      <td>11</td>\n",
       "      <td>0005</td>\n",
       "      <td>Cerejeiras</td>\n",
       "      <td>16444</td>\n",
       "      <td>110005</td>\n",
       "      <td>2018</td>\n",
       "    </tr>\n",
       "    <tr>\n",
       "      <td>...</td>\n",
       "      <td>...</td>\n",
       "      <td>...</td>\n",
       "      <td>...</td>\n",
       "      <td>...</td>\n",
       "      <td>...</td>\n",
       "      <td>...</td>\n",
       "      <td>...</td>\n",
       "    </tr>\n",
       "    <tr>\n",
       "      <td>5565</td>\n",
       "      <td>GO</td>\n",
       "      <td>52</td>\n",
       "      <td>2200</td>\n",
       "      <td>Vianópolis</td>\n",
       "      <td>13746</td>\n",
       "      <td>522200</td>\n",
       "      <td>2018</td>\n",
       "    </tr>\n",
       "    <tr>\n",
       "      <td>5566</td>\n",
       "      <td>GO</td>\n",
       "      <td>52</td>\n",
       "      <td>2205</td>\n",
       "      <td>Vicentinópolis</td>\n",
       "      <td>8611</td>\n",
       "      <td>522205</td>\n",
       "      <td>2018</td>\n",
       "    </tr>\n",
       "    <tr>\n",
       "      <td>5567</td>\n",
       "      <td>GO</td>\n",
       "      <td>52</td>\n",
       "      <td>2220</td>\n",
       "      <td>Vila Boa</td>\n",
       "      <td>6026</td>\n",
       "      <td>522220</td>\n",
       "      <td>2018</td>\n",
       "    </tr>\n",
       "    <tr>\n",
       "      <td>5568</td>\n",
       "      <td>GO</td>\n",
       "      <td>52</td>\n",
       "      <td>2230</td>\n",
       "      <td>Vila Propício</td>\n",
       "      <td>5758</td>\n",
       "      <td>522230</td>\n",
       "      <td>2018</td>\n",
       "    </tr>\n",
       "    <tr>\n",
       "      <td>5569</td>\n",
       "      <td>DF</td>\n",
       "      <td>53</td>\n",
       "      <td>0010</td>\n",
       "      <td>Brasília</td>\n",
       "      <td>2974703</td>\n",
       "      <td>530010</td>\n",
       "      <td>2018</td>\n",
       "    </tr>\n",
       "  </tbody>\n",
       "</table>\n",
       "<p>5570 rows × 7 columns</p>\n",
       "</div>"
      ],
      "text/plain": [
       "      UF COD. UF COD. MUNIC      NOME DO MUNICÍPIO POPULAÇÃO ESTIMADA  MUNCOD  \\\n",
       "0     RO      11       0001  Alta Floresta D'Oeste              23167  110001   \n",
       "1     RO      11       0002              Ariquemes             106168  110002   \n",
       "2     RO      11       0003                 Cabixi               5438  110003   \n",
       "3     RO      11       0004                 Cacoal              84813  110004   \n",
       "4     RO      11       0005             Cerejeiras              16444  110005   \n",
       "...   ..     ...        ...                    ...                ...     ...   \n",
       "5565  GO      52       2200             Vianópolis              13746  522200   \n",
       "5566  GO      52       2205         Vicentinópolis               8611  522205   \n",
       "5567  GO      52       2220               Vila Boa               6026  522220   \n",
       "5568  GO      52       2230          Vila Propício               5758  522230   \n",
       "5569  DF      53       0010               Brasília            2974703  530010   \n",
       "\n",
       "      YEAR  \n",
       "0     2018  \n",
       "1     2018  \n",
       "2     2018  \n",
       "3     2018  \n",
       "4     2018  \n",
       "...    ...  \n",
       "5565  2018  \n",
       "5566  2018  \n",
       "5567  2018  \n",
       "5568  2018  \n",
       "5569  2018  \n",
       "\n",
       "[5570 rows x 7 columns]"
      ]
     },
     "execution_count": 15,
     "metadata": {},
     "output_type": "execute_result"
    }
   ],
   "source": [
    "df['COD. MUNIC'] = [x[:-1] for x in df['COD. MUNIC']]\n",
    "df[\"MUNCOD\"] = df[\"COD. UF\"].astype(str) + df[\"COD. MUNIC\"].astype(str)\n",
    "df = df.astype({\"MUNCOD\": int})\n",
    "df[\"YEAR\"] = year\n",
    "df"
   ]
  },
  {
   "cell_type": "markdown",
   "metadata": {
    "pycharm": {
     "name": "#%% md\n"
    }
   },
   "source": [
    "Adjust population"
   ]
  },
  {
   "cell_type": "code",
   "execution_count": 16,
   "metadata": {
    "pycharm": {
     "name": "#%%\n"
    }
   },
   "outputs": [],
   "source": [
    "df[\"POPULAÇÃO ESTIMADA\"] = [x.split(\"(\")[0].replace(\".\", \"\") for x in df['POPULAÇÃO ESTIMADA'].astype(str)]\n",
    "df = df.astype({\"POPULAÇÃO ESTIMADA\": int})"
   ]
  },
  {
   "cell_type": "markdown",
   "metadata": {
    "pycharm": {
     "name": "#%% md\n"
    }
   },
   "source": [
    "Choose columns of interest"
   ]
  },
  {
   "cell_type": "code",
   "execution_count": 19,
   "metadata": {
    "pycharm": {
     "name": "#%%\n"
    }
   },
   "outputs": [
    {
     "data": {
      "text/html": [
       "<div>\n",
       "<style scoped>\n",
       "    .dataframe tbody tr th:only-of-type {\n",
       "        vertical-align: middle;\n",
       "    }\n",
       "\n",
       "    .dataframe tbody tr th {\n",
       "        vertical-align: top;\n",
       "    }\n",
       "\n",
       "    .dataframe thead th {\n",
       "        text-align: right;\n",
       "    }\n",
       "</style>\n",
       "<table border=\"1\" class=\"dataframe\">\n",
       "  <thead>\n",
       "    <tr style=\"text-align: right;\">\n",
       "      <th></th>\n",
       "      <th>POPULATION</th>\n",
       "      <th>MUNCOD</th>\n",
       "      <th>YEAR</th>\n",
       "    </tr>\n",
       "  </thead>\n",
       "  <tbody>\n",
       "    <tr>\n",
       "      <td>0</td>\n",
       "      <td>23167</td>\n",
       "      <td>110001</td>\n",
       "      <td>2018</td>\n",
       "    </tr>\n",
       "    <tr>\n",
       "      <td>1</td>\n",
       "      <td>106168</td>\n",
       "      <td>110002</td>\n",
       "      <td>2018</td>\n",
       "    </tr>\n",
       "    <tr>\n",
       "      <td>2</td>\n",
       "      <td>5438</td>\n",
       "      <td>110003</td>\n",
       "      <td>2018</td>\n",
       "    </tr>\n",
       "    <tr>\n",
       "      <td>3</td>\n",
       "      <td>84813</td>\n",
       "      <td>110004</td>\n",
       "      <td>2018</td>\n",
       "    </tr>\n",
       "    <tr>\n",
       "      <td>4</td>\n",
       "      <td>16444</td>\n",
       "      <td>110005</td>\n",
       "      <td>2018</td>\n",
       "    </tr>\n",
       "    <tr>\n",
       "      <td>...</td>\n",
       "      <td>...</td>\n",
       "      <td>...</td>\n",
       "      <td>...</td>\n",
       "    </tr>\n",
       "    <tr>\n",
       "      <td>5565</td>\n",
       "      <td>13746</td>\n",
       "      <td>522200</td>\n",
       "      <td>2018</td>\n",
       "    </tr>\n",
       "    <tr>\n",
       "      <td>5566</td>\n",
       "      <td>8611</td>\n",
       "      <td>522205</td>\n",
       "      <td>2018</td>\n",
       "    </tr>\n",
       "    <tr>\n",
       "      <td>5567</td>\n",
       "      <td>6026</td>\n",
       "      <td>522220</td>\n",
       "      <td>2018</td>\n",
       "    </tr>\n",
       "    <tr>\n",
       "      <td>5568</td>\n",
       "      <td>5758</td>\n",
       "      <td>522230</td>\n",
       "      <td>2018</td>\n",
       "    </tr>\n",
       "    <tr>\n",
       "      <td>5569</td>\n",
       "      <td>2974703</td>\n",
       "      <td>530010</td>\n",
       "      <td>2018</td>\n",
       "    </tr>\n",
       "  </tbody>\n",
       "</table>\n",
       "<p>5570 rows × 3 columns</p>\n",
       "</div>"
      ],
      "text/plain": [
       "      POPULATION  MUNCOD  YEAR\n",
       "0          23167  110001  2018\n",
       "1         106168  110002  2018\n",
       "2           5438  110003  2018\n",
       "3          84813  110004  2018\n",
       "4          16444  110005  2018\n",
       "...          ...     ...   ...\n",
       "5565       13746  522200  2018\n",
       "5566        8611  522205  2018\n",
       "5567        6026  522220  2018\n",
       "5568        5758  522230  2018\n",
       "5569     2974703  530010  2018\n",
       "\n",
       "[5570 rows x 3 columns]"
      ]
     },
     "execution_count": 19,
     "metadata": {},
     "output_type": "execute_result"
    }
   ],
   "source": [
    "df.rename(columns={\"POPULAÇÃO ESTIMADA\": \"POPULATION\"}, inplace=True)\n",
    "df = df[[\"POPULATION\", \"MUNCOD\", \"YEAR\"]]\n",
    "df"
   ]
  },
  {
   "cell_type": "code",
   "execution_count": 20,
   "metadata": {
    "pycharm": {
     "name": "#%%\n"
    }
   },
   "outputs": [],
   "source": [
    "df.to_csv('POPULATION_' + year + \".csv\")"
   ]
  },
  {
   "cell_type": "markdown",
   "metadata": {
    "pycharm": {
     "name": "#%% md\n"
    }
   },
   "source": [
    "Merge all population files"
   ]
  },
  {
   "cell_type": "code",
   "execution_count": 147,
   "metadata": {
    "pycharm": {
     "name": "#%%\n"
    }
   },
   "outputs": [],
   "source": [
    "df1 = pd.read_csv('POPULATION_2017.csv')\n",
    "df2 = pd.read_csv('POPULATION_2016.csv')\n",
    "df3 = pd.read_csv('POPULATION_2015.csv')"
   ]
  },
  {
   "cell_type": "code",
   "execution_count": 148,
   "metadata": {
    "pycharm": {
     "name": "#%%\n"
    }
   },
   "outputs": [
    {
     "data": {
      "text/html": [
       "<div>\n",
       "<style scoped>\n",
       "    .dataframe tbody tr th:only-of-type {\n",
       "        vertical-align: middle;\n",
       "    }\n",
       "\n",
       "    .dataframe tbody tr th {\n",
       "        vertical-align: top;\n",
       "    }\n",
       "\n",
       "    .dataframe thead th {\n",
       "        text-align: right;\n",
       "    }\n",
       "</style>\n",
       "<table border=\"1\" class=\"dataframe\">\n",
       "  <thead>\n",
       "    <tr style=\"text-align: right;\">\n",
       "      <th></th>\n",
       "      <th>Unnamed: 0</th>\n",
       "      <th>POPULATION</th>\n",
       "      <th>MUNCOD</th>\n",
       "      <th>YEAR</th>\n",
       "    </tr>\n",
       "  </thead>\n",
       "  <tbody>\n",
       "    <tr>\n",
       "      <th>0</th>\n",
       "      <td>0</td>\n",
       "      <td>25437</td>\n",
       "      <td>110001</td>\n",
       "      <td>2017</td>\n",
       "    </tr>\n",
       "    <tr>\n",
       "      <th>1</th>\n",
       "      <td>1</td>\n",
       "      <td>107345</td>\n",
       "      <td>110002</td>\n",
       "      <td>2017</td>\n",
       "    </tr>\n",
       "    <tr>\n",
       "      <th>2</th>\n",
       "      <td>2</td>\n",
       "      <td>6224</td>\n",
       "      <td>110003</td>\n",
       "      <td>2017</td>\n",
       "    </tr>\n",
       "    <tr>\n",
       "      <th>3</th>\n",
       "      <td>3</td>\n",
       "      <td>88507</td>\n",
       "      <td>110004</td>\n",
       "      <td>2017</td>\n",
       "    </tr>\n",
       "    <tr>\n",
       "      <th>4</th>\n",
       "      <td>4</td>\n",
       "      <td>17934</td>\n",
       "      <td>110005</td>\n",
       "      <td>2017</td>\n",
       "    </tr>\n",
       "    <tr>\n",
       "      <th>...</th>\n",
       "      <td>...</td>\n",
       "      <td>...</td>\n",
       "      <td>...</td>\n",
       "      <td>...</td>\n",
       "    </tr>\n",
       "    <tr>\n",
       "      <th>16705</th>\n",
       "      <td>5565</td>\n",
       "      <td>13456</td>\n",
       "      <td>522200</td>\n",
       "      <td>2015</td>\n",
       "    </tr>\n",
       "    <tr>\n",
       "      <th>16706</th>\n",
       "      <td>5566</td>\n",
       "      <td>8171</td>\n",
       "      <td>522205</td>\n",
       "      <td>2015</td>\n",
       "    </tr>\n",
       "    <tr>\n",
       "      <th>16707</th>\n",
       "      <td>5567</td>\n",
       "      <td>5495</td>\n",
       "      <td>522220</td>\n",
       "      <td>2015</td>\n",
       "    </tr>\n",
       "    <tr>\n",
       "      <th>16708</th>\n",
       "      <td>5568</td>\n",
       "      <td>5578</td>\n",
       "      <td>522230</td>\n",
       "      <td>2015</td>\n",
       "    </tr>\n",
       "    <tr>\n",
       "      <th>16709</th>\n",
       "      <td>5569</td>\n",
       "      <td>2914830</td>\n",
       "      <td>530010</td>\n",
       "      <td>2015</td>\n",
       "    </tr>\n",
       "  </tbody>\n",
       "</table>\n",
       "<p>16710 rows × 4 columns</p>\n",
       "</div>"
      ],
      "text/plain": [
       "       Unnamed: 0  POPULATION  MUNCOD  YEAR\n",
       "0               0       25437  110001  2017\n",
       "1               1      107345  110002  2017\n",
       "2               2        6224  110003  2017\n",
       "3               3       88507  110004  2017\n",
       "4               4       17934  110005  2017\n",
       "...           ...         ...     ...   ...\n",
       "16705        5565       13456  522200  2015\n",
       "16706        5566        8171  522205  2015\n",
       "16707        5567        5495  522220  2015\n",
       "16708        5568        5578  522230  2015\n",
       "16709        5569     2914830  530010  2015\n",
       "\n",
       "[16710 rows x 4 columns]"
      ]
     },
     "execution_count": 148,
     "metadata": {},
     "output_type": "execute_result"
    }
   ],
   "source": [
    "df_final = pd.concat([df1, df2, df3], ignore_index=True)\n",
    "df_final = df_final[[\"POPULATION\", \"MUNCOD\", \"YEAR\"]]"
   ]
  },
  {
   "cell_type": "code",
   "execution_count": 150,
   "metadata": {
    "pycharm": {
     "name": "#%%\n"
    }
   },
   "outputs": [],
   "source": [
    "df_final.to_csv('POPULATION_15_17.csv')"
   ]
  }
 ],
 "metadata": {
  "kernelspec": {
   "display_name": "Python 3",
   "language": "python",
   "name": "python3"
  },
  "language_info": {
   "codemirror_mode": {
    "name": "ipython",
    "version": 3
   },
   "file_extension": ".py",
   "mimetype": "text/x-python",
   "name": "python",
   "nbconvert_exporter": "python",
   "pygments_lexer": "ipython3",
   "version": "3.7.4"
  }
 },
 "nbformat": 4,
 "nbformat_minor": 1
}
