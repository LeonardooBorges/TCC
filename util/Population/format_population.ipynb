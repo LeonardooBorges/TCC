{
 "cells": [
  {
   "cell_type": "markdown",
   "metadata": {
    "collapsed": true,
    "pycharm": {
     "name": "#%% md\n"
    }
   },
   "source": [
    "Read excel file"
   ]
  },
  {
   "cell_type": "code",
   "execution_count": 142,
   "outputs": [
    {
     "data": {
      "text/plain": "      UF COD. UF COD. MUNIC        NOME DO MUNICÍPIO POPULAÇÃO ESTIMADA\n0     RO      11      00015    Alta Floresta D'Oeste              25578\n1     RO      11      00379  Alto Alegre dos Parecis              13940\n2     RO      11      00403             Alto Paraíso              20210\n3     RO      11      00346         Alvorada D'Oeste              17063\n4     RO      11      00023                Ariquemes             104401\n...   ..     ...        ...                      ...                ...\n5565  GO      52      22005               Vianópolis              13456\n5566  GO      52      22054           Vicentinópolis               8171\n5567  GO      52      22203                 Vila Boa               5495\n5568  GO      52      22302            Vila Propício               5578\n5569  DF      53      00108                 Brasília            2914830\n\n[5570 rows x 5 columns]",
      "text/html": "<div>\n<style scoped>\n    .dataframe tbody tr th:only-of-type {\n        vertical-align: middle;\n    }\n\n    .dataframe tbody tr th {\n        vertical-align: top;\n    }\n\n    .dataframe thead th {\n        text-align: right;\n    }\n</style>\n<table border=\"1\" class=\"dataframe\">\n  <thead>\n    <tr style=\"text-align: right;\">\n      <th></th>\n      <th>UF</th>\n      <th>COD. UF</th>\n      <th>COD. MUNIC</th>\n      <th>NOME DO MUNICÍPIO</th>\n      <th>POPULAÇÃO ESTIMADA</th>\n    </tr>\n  </thead>\n  <tbody>\n    <tr>\n      <th>0</th>\n      <td>RO</td>\n      <td>11</td>\n      <td>00015</td>\n      <td>Alta Floresta D'Oeste</td>\n      <td>25578</td>\n    </tr>\n    <tr>\n      <th>1</th>\n      <td>RO</td>\n      <td>11</td>\n      <td>00379</td>\n      <td>Alto Alegre dos Parecis</td>\n      <td>13940</td>\n    </tr>\n    <tr>\n      <th>2</th>\n      <td>RO</td>\n      <td>11</td>\n      <td>00403</td>\n      <td>Alto Paraíso</td>\n      <td>20210</td>\n    </tr>\n    <tr>\n      <th>3</th>\n      <td>RO</td>\n      <td>11</td>\n      <td>00346</td>\n      <td>Alvorada D'Oeste</td>\n      <td>17063</td>\n    </tr>\n    <tr>\n      <th>4</th>\n      <td>RO</td>\n      <td>11</td>\n      <td>00023</td>\n      <td>Ariquemes</td>\n      <td>104401</td>\n    </tr>\n    <tr>\n      <th>...</th>\n      <td>...</td>\n      <td>...</td>\n      <td>...</td>\n      <td>...</td>\n      <td>...</td>\n    </tr>\n    <tr>\n      <th>5565</th>\n      <td>GO</td>\n      <td>52</td>\n      <td>22005</td>\n      <td>Vianópolis</td>\n      <td>13456</td>\n    </tr>\n    <tr>\n      <th>5566</th>\n      <td>GO</td>\n      <td>52</td>\n      <td>22054</td>\n      <td>Vicentinópolis</td>\n      <td>8171</td>\n    </tr>\n    <tr>\n      <th>5567</th>\n      <td>GO</td>\n      <td>52</td>\n      <td>22203</td>\n      <td>Vila Boa</td>\n      <td>5495</td>\n    </tr>\n    <tr>\n      <th>5568</th>\n      <td>GO</td>\n      <td>52</td>\n      <td>22302</td>\n      <td>Vila Propício</td>\n      <td>5578</td>\n    </tr>\n    <tr>\n      <th>5569</th>\n      <td>DF</td>\n      <td>53</td>\n      <td>00108</td>\n      <td>Brasília</td>\n      <td>2914830</td>\n    </tr>\n  </tbody>\n</table>\n<p>5570 rows × 5 columns</p>\n</div>"
     },
     "execution_count": 142,
     "metadata": {},
     "output_type": "execute_result"
    }
   ],
   "source": [
    "import pandas as pd\n",
    "year = \"2015\"\n",
    "xls = pd.ExcelFile('estimativa_TCU_2015_20170614.xls')\n",
    "df = pd.read_excel(xls, 'Municípios', skiprows=[0] + [i for i in range(5572,5588)], dtype=str)\n",
    "df"
   ],
   "metadata": {
    "collapsed": false,
    "pycharm": {
     "name": "#%%\n"
    }
   }
  },
  {
   "cell_type": "markdown",
   "source": [
    "Creates column MUNCOD and YEAR"
   ],
   "metadata": {
    "collapsed": false,
    "pycharm": {
     "name": "#%% md\n"
    }
   }
  },
  {
   "cell_type": "code",
   "execution_count": 143,
   "outputs": [
    {
     "data": {
      "text/plain": "      UF COD. UF COD. MUNIC        NOME DO MUNICÍPIO POPULAÇÃO ESTIMADA  \\\n0     RO      11       0001    Alta Floresta D'Oeste              25578   \n1     RO      11       0037  Alto Alegre dos Parecis              13940   \n2     RO      11       0040             Alto Paraíso              20210   \n3     RO      11       0034         Alvorada D'Oeste              17063   \n4     RO      11       0002                Ariquemes             104401   \n...   ..     ...        ...                      ...                ...   \n5565  GO      52       2200               Vianópolis              13456   \n5566  GO      52       2205           Vicentinópolis               8171   \n5567  GO      52       2220                 Vila Boa               5495   \n5568  GO      52       2230            Vila Propício               5578   \n5569  DF      53       0010                 Brasília            2914830   \n\n      MUNCOD  YEAR  \n0     110001  2015  \n1     110037  2015  \n2     110040  2015  \n3     110034  2015  \n4     110002  2015  \n...      ...   ...  \n5565  522200  2015  \n5566  522205  2015  \n5567  522220  2015  \n5568  522230  2015  \n5569  530010  2015  \n\n[5570 rows x 7 columns]",
      "text/html": "<div>\n<style scoped>\n    .dataframe tbody tr th:only-of-type {\n        vertical-align: middle;\n    }\n\n    .dataframe tbody tr th {\n        vertical-align: top;\n    }\n\n    .dataframe thead th {\n        text-align: right;\n    }\n</style>\n<table border=\"1\" class=\"dataframe\">\n  <thead>\n    <tr style=\"text-align: right;\">\n      <th></th>\n      <th>UF</th>\n      <th>COD. UF</th>\n      <th>COD. MUNIC</th>\n      <th>NOME DO MUNICÍPIO</th>\n      <th>POPULAÇÃO ESTIMADA</th>\n      <th>MUNCOD</th>\n      <th>YEAR</th>\n    </tr>\n  </thead>\n  <tbody>\n    <tr>\n      <th>0</th>\n      <td>RO</td>\n      <td>11</td>\n      <td>0001</td>\n      <td>Alta Floresta D'Oeste</td>\n      <td>25578</td>\n      <td>110001</td>\n      <td>2015</td>\n    </tr>\n    <tr>\n      <th>1</th>\n      <td>RO</td>\n      <td>11</td>\n      <td>0037</td>\n      <td>Alto Alegre dos Parecis</td>\n      <td>13940</td>\n      <td>110037</td>\n      <td>2015</td>\n    </tr>\n    <tr>\n      <th>2</th>\n      <td>RO</td>\n      <td>11</td>\n      <td>0040</td>\n      <td>Alto Paraíso</td>\n      <td>20210</td>\n      <td>110040</td>\n      <td>2015</td>\n    </tr>\n    <tr>\n      <th>3</th>\n      <td>RO</td>\n      <td>11</td>\n      <td>0034</td>\n      <td>Alvorada D'Oeste</td>\n      <td>17063</td>\n      <td>110034</td>\n      <td>2015</td>\n    </tr>\n    <tr>\n      <th>4</th>\n      <td>RO</td>\n      <td>11</td>\n      <td>0002</td>\n      <td>Ariquemes</td>\n      <td>104401</td>\n      <td>110002</td>\n      <td>2015</td>\n    </tr>\n    <tr>\n      <th>...</th>\n      <td>...</td>\n      <td>...</td>\n      <td>...</td>\n      <td>...</td>\n      <td>...</td>\n      <td>...</td>\n      <td>...</td>\n    </tr>\n    <tr>\n      <th>5565</th>\n      <td>GO</td>\n      <td>52</td>\n      <td>2200</td>\n      <td>Vianópolis</td>\n      <td>13456</td>\n      <td>522200</td>\n      <td>2015</td>\n    </tr>\n    <tr>\n      <th>5566</th>\n      <td>GO</td>\n      <td>52</td>\n      <td>2205</td>\n      <td>Vicentinópolis</td>\n      <td>8171</td>\n      <td>522205</td>\n      <td>2015</td>\n    </tr>\n    <tr>\n      <th>5567</th>\n      <td>GO</td>\n      <td>52</td>\n      <td>2220</td>\n      <td>Vila Boa</td>\n      <td>5495</td>\n      <td>522220</td>\n      <td>2015</td>\n    </tr>\n    <tr>\n      <th>5568</th>\n      <td>GO</td>\n      <td>52</td>\n      <td>2230</td>\n      <td>Vila Propício</td>\n      <td>5578</td>\n      <td>522230</td>\n      <td>2015</td>\n    </tr>\n    <tr>\n      <th>5569</th>\n      <td>DF</td>\n      <td>53</td>\n      <td>0010</td>\n      <td>Brasília</td>\n      <td>2914830</td>\n      <td>530010</td>\n      <td>2015</td>\n    </tr>\n  </tbody>\n</table>\n<p>5570 rows × 7 columns</p>\n</div>"
     },
     "execution_count": 143,
     "metadata": {},
     "output_type": "execute_result"
    }
   ],
   "source": [
    "df['COD. MUNIC'] = [x[:-1] for x in df['COD. MUNIC']]\n",
    "df[\"MUNCOD\"] = df[\"COD. UF\"].astype(str) + df[\"COD. MUNIC\"].astype(str)\n",
    "df = df.astype({\"MUNCOD\": int})\n",
    "df[\"YEAR\"] = year\n",
    "df"
   ],
   "metadata": {
    "collapsed": false,
    "pycharm": {
     "name": "#%%\n"
    }
   }
  },
  {
   "cell_type": "markdown",
   "source": [
    "Adjust population"
   ],
   "metadata": {
    "collapsed": false,
    "pycharm": {
     "name": "#%% md\n"
    }
   }
  },
  {
   "cell_type": "code",
   "execution_count": 144,
   "outputs": [],
   "source": [
    "df[\"POPULAÇÃO ESTIMADA\"] = [x.split(\"(\")[0].replace(\".\", \"\") for x in df['POPULAÇÃO ESTIMADA'].astype(str)]\n",
    "df = df.astype({\"POPULAÇÃO ESTIMADA\": int})"
   ],
   "metadata": {
    "collapsed": false,
    "pycharm": {
     "name": "#%%\n"
    }
   }
  },
  {
   "cell_type": "markdown",
   "source": [
    "Choose columns of interest"
   ],
   "metadata": {
    "collapsed": false,
    "pycharm": {
     "name": "#%% md\n"
    }
   }
  },
  {
   "cell_type": "code",
   "execution_count": 145,
   "outputs": [
    {
     "data": {
      "text/plain": "      POPULATION  MUNCOD  YEAR\n0          25578  110001  2015\n1          13940  110037  2015\n2          20210  110040  2015\n3          17063  110034  2015\n4         104401  110002  2015\n...          ...     ...   ...\n5565       13456  522200  2015\n5566        8171  522205  2015\n5567        5495  522220  2015\n5568        5578  522230  2015\n5569     2914830  530010  2015\n\n[5570 rows x 3 columns]",
      "text/html": "<div>\n<style scoped>\n    .dataframe tbody tr th:only-of-type {\n        vertical-align: middle;\n    }\n\n    .dataframe tbody tr th {\n        vertical-align: top;\n    }\n\n    .dataframe thead th {\n        text-align: right;\n    }\n</style>\n<table border=\"1\" class=\"dataframe\">\n  <thead>\n    <tr style=\"text-align: right;\">\n      <th></th>\n      <th>POPULATION</th>\n      <th>MUNCOD</th>\n      <th>YEAR</th>\n    </tr>\n  </thead>\n  <tbody>\n    <tr>\n      <th>0</th>\n      <td>25578</td>\n      <td>110001</td>\n      <td>2015</td>\n    </tr>\n    <tr>\n      <th>1</th>\n      <td>13940</td>\n      <td>110037</td>\n      <td>2015</td>\n    </tr>\n    <tr>\n      <th>2</th>\n      <td>20210</td>\n      <td>110040</td>\n      <td>2015</td>\n    </tr>\n    <tr>\n      <th>3</th>\n      <td>17063</td>\n      <td>110034</td>\n      <td>2015</td>\n    </tr>\n    <tr>\n      <th>4</th>\n      <td>104401</td>\n      <td>110002</td>\n      <td>2015</td>\n    </tr>\n    <tr>\n      <th>...</th>\n      <td>...</td>\n      <td>...</td>\n      <td>...</td>\n    </tr>\n    <tr>\n      <th>5565</th>\n      <td>13456</td>\n      <td>522200</td>\n      <td>2015</td>\n    </tr>\n    <tr>\n      <th>5566</th>\n      <td>8171</td>\n      <td>522205</td>\n      <td>2015</td>\n    </tr>\n    <tr>\n      <th>5567</th>\n      <td>5495</td>\n      <td>522220</td>\n      <td>2015</td>\n    </tr>\n    <tr>\n      <th>5568</th>\n      <td>5578</td>\n      <td>522230</td>\n      <td>2015</td>\n    </tr>\n    <tr>\n      <th>5569</th>\n      <td>2914830</td>\n      <td>530010</td>\n      <td>2015</td>\n    </tr>\n  </tbody>\n</table>\n<p>5570 rows × 3 columns</p>\n</div>"
     },
     "execution_count": 145,
     "metadata": {},
     "output_type": "execute_result"
    }
   ],
   "source": [
    "df.rename(columns={\"POPULAÇÃO ESTIMADA\": \"POPULATION\"}, inplace=True)\n",
    "df = df[[\"POPULATION\", \"MUNCOD\", \"YEAR\"]]\n",
    "df"
   ],
   "metadata": {
    "collapsed": false,
    "pycharm": {
     "name": "#%%\n"
    }
   }
  },
  {
   "cell_type": "code",
   "execution_count": 146,
   "outputs": [],
   "source": [
    "df.to_csv('POPULATION_' + year + \".csv\")"
   ],
   "metadata": {
    "collapsed": false,
    "pycharm": {
     "name": "#%%\n"
    }
   }
  },
  {
   "cell_type": "markdown",
   "source": [
    "Merge all population files"
   ],
   "metadata": {
    "collapsed": false,
    "pycharm": {
     "name": "#%% md\n"
    }
   }
  },
  {
   "cell_type": "code",
   "execution_count": 147,
   "outputs": [],
   "source": [
    "df1 = pd.read_csv('POPULATION_2017.csv')\n",
    "df2 = pd.read_csv('POPULATION_2016.csv')\n",
    "df3 = pd.read_csv('POPULATION_2015.csv')"
   ],
   "metadata": {
    "collapsed": false,
    "pycharm": {
     "name": "#%%\n"
    }
   }
  },
  {
   "cell_type": "code",
   "execution_count": 148,
   "outputs": [
    {
     "data": {
      "text/plain": "       Unnamed: 0  POPULATION  MUNCOD  YEAR\n0               0       25437  110001  2017\n1               1      107345  110002  2017\n2               2        6224  110003  2017\n3               3       88507  110004  2017\n4               4       17934  110005  2017\n...           ...         ...     ...   ...\n16705        5565       13456  522200  2015\n16706        5566        8171  522205  2015\n16707        5567        5495  522220  2015\n16708        5568        5578  522230  2015\n16709        5569     2914830  530010  2015\n\n[16710 rows x 4 columns]",
      "text/html": "<div>\n<style scoped>\n    .dataframe tbody tr th:only-of-type {\n        vertical-align: middle;\n    }\n\n    .dataframe tbody tr th {\n        vertical-align: top;\n    }\n\n    .dataframe thead th {\n        text-align: right;\n    }\n</style>\n<table border=\"1\" class=\"dataframe\">\n  <thead>\n    <tr style=\"text-align: right;\">\n      <th></th>\n      <th>Unnamed: 0</th>\n      <th>POPULATION</th>\n      <th>MUNCOD</th>\n      <th>YEAR</th>\n    </tr>\n  </thead>\n  <tbody>\n    <tr>\n      <th>0</th>\n      <td>0</td>\n      <td>25437</td>\n      <td>110001</td>\n      <td>2017</td>\n    </tr>\n    <tr>\n      <th>1</th>\n      <td>1</td>\n      <td>107345</td>\n      <td>110002</td>\n      <td>2017</td>\n    </tr>\n    <tr>\n      <th>2</th>\n      <td>2</td>\n      <td>6224</td>\n      <td>110003</td>\n      <td>2017</td>\n    </tr>\n    <tr>\n      <th>3</th>\n      <td>3</td>\n      <td>88507</td>\n      <td>110004</td>\n      <td>2017</td>\n    </tr>\n    <tr>\n      <th>4</th>\n      <td>4</td>\n      <td>17934</td>\n      <td>110005</td>\n      <td>2017</td>\n    </tr>\n    <tr>\n      <th>...</th>\n      <td>...</td>\n      <td>...</td>\n      <td>...</td>\n      <td>...</td>\n    </tr>\n    <tr>\n      <th>16705</th>\n      <td>5565</td>\n      <td>13456</td>\n      <td>522200</td>\n      <td>2015</td>\n    </tr>\n    <tr>\n      <th>16706</th>\n      <td>5566</td>\n      <td>8171</td>\n      <td>522205</td>\n      <td>2015</td>\n    </tr>\n    <tr>\n      <th>16707</th>\n      <td>5567</td>\n      <td>5495</td>\n      <td>522220</td>\n      <td>2015</td>\n    </tr>\n    <tr>\n      <th>16708</th>\n      <td>5568</td>\n      <td>5578</td>\n      <td>522230</td>\n      <td>2015</td>\n    </tr>\n    <tr>\n      <th>16709</th>\n      <td>5569</td>\n      <td>2914830</td>\n      <td>530010</td>\n      <td>2015</td>\n    </tr>\n  </tbody>\n</table>\n<p>16710 rows × 4 columns</p>\n</div>"
     },
     "execution_count": 148,
     "metadata": {},
     "output_type": "execute_result"
    }
   ],
   "source": [
    "df_final = pd.concat([df1, df2, df3], ignore_index=True)\n",
    "df_final = df_final[[\"POPULATION\", \"MUNCOD\", \"YEAR\"]]"
   ],
   "metadata": {
    "collapsed": false,
    "pycharm": {
     "name": "#%%\n"
    }
   }
  },
  {
   "cell_type": "code",
   "execution_count": 150,
   "outputs": [],
   "source": [
    "df_final.to_csv('POPULATION_15_17.csv')"
   ],
   "metadata": {
    "collapsed": false,
    "pycharm": {
     "name": "#%%\n"
    }
   }
  }
 ],
 "metadata": {
  "kernelspec": {
   "display_name": "Python 3",
   "language": "python",
   "name": "python3"
  },
  "language_info": {
   "codemirror_mode": {
    "name": "ipython",
    "version": 2
   },
   "file_extension": ".py",
   "mimetype": "text/x-python",
   "name": "python",
   "nbconvert_exporter": "python",
   "pygments_lexer": "ipython2",
   "version": "2.7.6"
  }
 },
 "nbformat": 4,
 "nbformat_minor": 0
}